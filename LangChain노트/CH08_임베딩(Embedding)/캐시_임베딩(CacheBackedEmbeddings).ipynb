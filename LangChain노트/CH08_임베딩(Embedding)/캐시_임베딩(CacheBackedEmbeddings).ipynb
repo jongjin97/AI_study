{
 "cells": [
  {
   "metadata": {
    "ExecuteTime": {
     "end_time": "2025-04-04T10:05:34.402134Z",
     "start_time": "2025-04-04T10:05:34.386647Z"
    }
   },
   "cell_type": "code",
   "source": [
    "from dotenv import load_dotenv\n",
    "from openpyxl.compat.singleton import Cached\n",
    "\n",
    "load_dotenv()"
   ],
   "id": "8a6473cd89692fe8",
   "outputs": [
    {
     "data": {
      "text/plain": [
       "True"
      ]
     },
     "execution_count": 1,
     "metadata": {},
     "output_type": "execute_result"
    }
   ],
   "execution_count": 1
  },
  {
   "metadata": {},
   "cell_type": "markdown",
   "source": "# LocalFileStore 에서 임베딩 사용 (영구 보관)",
   "id": "b9fc14b2630891bf"
  },
  {
   "cell_type": "code",
   "id": "initial_id",
   "metadata": {
    "collapsed": true,
    "ExecuteTime": {
     "end_time": "2025-04-04T10:05:37.460218Z",
     "start_time": "2025-04-04T10:05:34.407160Z"
    }
   },
   "source": [
    "from langchain_openai import OpenAIEmbeddings\n",
    "from langchain.storage import LocalFileStore\n",
    "from langchain.embeddings import CacheBackedEmbeddings\n",
    "\n",
    "# OpenAI 임베딩을 사용하여 깁노 임베딩 설정\n",
    "embeddings = OpenAIEmbeddings()\n",
    "\n",
    "# 로컬 파일 저장소 설정\n",
    "store = LocalFileStore(\"./cache/\")\n",
    "\n",
    "# 캐시를 지원하는 임베딩 생성\n",
    "cached_embedder = CacheBackedEmbeddings.from_bytes_store(\n",
    "    underlying_embeddings=embeddings,\n",
    "    document_embedding_cache=store,\n",
    "    namespace=embeddings.model, # 기본 임베딩과 저장소를 사용하여 캐시 지우너 임베딩을 생성\n",
    ")"
   ],
   "outputs": [],
   "execution_count": 2
  },
  {
   "metadata": {
    "ExecuteTime": {
     "end_time": "2025-04-04T10:05:37.797810Z",
     "start_time": "2025-04-04T10:05:37.792965Z"
    }
   },
   "cell_type": "code",
   "source": [
    "# store에서 키들을 순차적으로 가져옵니다.\n",
    "list(store.yield_keys())"
   ],
   "id": "c2740b4e5453b1d7",
   "outputs": [
    {
     "data": {
      "text/plain": [
       "[]"
      ]
     },
     "execution_count": 3,
     "metadata": {},
     "output_type": "execute_result"
    }
   ],
   "execution_count": 3
  },
  {
   "metadata": {
    "ExecuteTime": {
     "end_time": "2025-04-04T10:07:02.815381Z",
     "start_time": "2025-04-04T10:07:02.809746Z"
    }
   },
   "cell_type": "code",
   "source": [
    "from langchain.document_loaders import TextLoader\n",
    "from langchain.text_splitter import CharacterTextSplitter\n",
    "\n",
    "# 문서 로드\n",
    "raw_documents = TextLoader(\"data/appendix-keywords.txt\", encoding='utf-8').load()\n",
    "\n",
    "# 문서 단위로 텍스트 분할 설정\n",
    "text_splitter = CharacterTextSplitter(chunk_size=1000, chunk_overlap=0)\n",
    "\n",
    "# 문서 분할\n",
    "documents = text_splitter.split_documents(raw_documents)"
   ],
   "id": "284e5beca65f9d4f",
   "outputs": [],
   "execution_count": 10
  },
  {
   "metadata": {
    "ExecuteTime": {
     "end_time": "2025-04-04T10:30:53.153768Z",
     "start_time": "2025-04-04T10:30:51.466534Z"
    }
   },
   "cell_type": "code",
   "source": [
    "from langchain.vectorstores import FAISS\n",
    "# 코드 실행 시간을 측정\n",
    "%time db = FAISS.from_documents(documents, cached_embedder) #문서로부터 FAISS 데이터베이스 생성"
   ],
   "id": "4dedb08c578d6a5b",
   "outputs": [
    {
     "name": "stdout",
     "output_type": "stream",
     "text": [
      "CPU times: total: 109 ms\n",
      "Wall time: 1.5 s\n"
     ]
    }
   ],
   "execution_count": 11
  },
  {
   "metadata": {
    "ExecuteTime": {
     "end_time": "2025-04-04T10:31:39.978689Z",
     "start_time": "2025-04-04T10:31:39.909487Z"
    }
   },
   "cell_type": "code",
   "source": [
    "# 캐시된 임베딩을 사용하여 FAISS 데이터베이스 생성\n",
    "%time db2 = FAISS.from_documents(documents, cached_embedder)"
   ],
   "id": "52397e2d9b6f7bdd",
   "outputs": [
    {
     "name": "stdout",
     "output_type": "stream",
     "text": [
      "CPU times: total: 0 ns\n",
      "Wall time: 65.4 ms\n"
     ]
    }
   ],
   "execution_count": 12
  },
  {
   "metadata": {},
   "cell_type": "markdown",
   "source": "# InmemoryByteStore 사용 (비영구적)",
   "id": "475ca6b0ddfda010"
  },
  {
   "metadata": {
    "ExecuteTime": {
     "end_time": "2025-04-04T10:33:15.681992Z",
     "start_time": "2025-04-04T10:33:15.678532Z"
    }
   },
   "cell_type": "code",
   "source": [
    "from langchain.embeddings import CacheBackedEmbeddings\n",
    "from langchain.storage import InMemoryByteStore\n",
    "\n",
    "store = InMemoryByteStore() # 메모리 내 바이트 저장소 생성\n",
    "\n",
    "# 캐시 지원 임베딩 생성\n",
    "cached_embedder = CacheBackedEmbeddings.from_bytes_store(\n",
    "    embeddings, store, namespace=embeddings.model,\n",
    ")"
   ],
   "id": "f9066bc28402a4cc",
   "outputs": [],
   "execution_count": 13
  }
 ],
 "metadata": {
  "kernelspec": {
   "display_name": "Python 3",
   "language": "python",
   "name": "python3"
  },
  "language_info": {
   "codemirror_mode": {
    "name": "ipython",
    "version": 2
   },
   "file_extension": ".py",
   "mimetype": "text/x-python",
   "name": "python",
   "nbconvert_exporter": "python",
   "pygments_lexer": "ipython2",
   "version": "2.7.6"
  }
 },
 "nbformat": 4,
 "nbformat_minor": 5
}
