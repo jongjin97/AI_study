{
 "cells": [
  {
   "cell_type": "code",
   "id": "initial_id",
   "metadata": {
    "collapsed": true,
    "ExecuteTime": {
     "end_time": "2025-04-04T09:43:13.868957Z",
     "start_time": "2025-04-04T09:43:13.838747Z"
    }
   },
   "source": [
    "from dotenv import load_dotenv\n",
    "\n",
    "# API 키 정보 로드\n",
    "load_dotenv()"
   ],
   "outputs": [
    {
     "data": {
      "text/plain": [
       "True"
      ]
     },
     "execution_count": 1,
     "metadata": {},
     "output_type": "execute_result"
    }
   ],
   "execution_count": 1
  },
  {
   "metadata": {},
   "cell_type": "markdown",
   "source": "# OpenAIEmbeddings",
   "id": "1db9a6469cf2ebad"
  },
  {
   "metadata": {
    "ExecuteTime": {
     "end_time": "2025-04-04T09:48:58.662996Z",
     "start_time": "2025-04-04T09:48:58.017845Z"
    }
   },
   "cell_type": "code",
   "source": [
    "from langchain_openai import OpenAIEmbeddings\n",
    "\n",
    "# OpenAI의 \"text-embedding-3-small\" 모델을 사용하여 임베딩을 생성합니다.\n",
    "embeddings = OpenAIEmbeddings(model='text-embedding-3-small')"
   ],
   "id": "aacd1074b0c08d84",
   "outputs": [],
   "execution_count": 13
  },
  {
   "metadata": {
    "ExecuteTime": {
     "end_time": "2025-04-04T09:45:45.379313Z",
     "start_time": "2025-04-04T09:45:45.375550Z"
    }
   },
   "cell_type": "code",
   "source": "text = \"임베딩 테스트를 하기 위한 샘플 문장입니다.\"",
   "id": "7cd7848b0b37d40c",
   "outputs": [],
   "execution_count": 3
  },
  {
   "metadata": {},
   "cell_type": "markdown",
   "source": "# 쿼리 임베딩",
   "id": "a4c1c5fb3bb1827b"
  },
  {
   "metadata": {
    "ExecuteTime": {
     "end_time": "2025-04-04T09:46:23.718101Z",
     "start_time": "2025-04-04T09:46:22.914151Z"
    }
   },
   "cell_type": "code",
   "source": [
    "# 텍스트를 임베딩하여 쿼리 결과를 생성\n",
    "query_result = embeddings.embed_query(text)"
   ],
   "id": "74d6f834bd4234f7",
   "outputs": [],
   "execution_count": 5
  },
  {
   "metadata": {
    "ExecuteTime": {
     "end_time": "2025-04-04T09:46:40.194076Z",
     "start_time": "2025-04-04T09:46:40.187731Z"
    }
   },
   "cell_type": "code",
   "source": [
    "# 쿼리 결과의 처음 5개 항목을 선택\n",
    "print(len(query_result))\n",
    "query_result[:5]"
   ],
   "id": "7d67f76f3b669d07",
   "outputs": [
    {
     "name": "stdout",
     "output_type": "stream",
     "text": [
      "3072\n"
     ]
    },
    {
     "data": {
      "text/plain": [
       "[-0.0032189274206757545,\n",
       " -0.007909913547337055,\n",
       " -0.012806527316570282,\n",
       " 0.03005613572895527,\n",
       " 0.016404038295149803]"
      ]
     },
     "execution_count": 6,
     "metadata": {},
     "output_type": "execute_result"
    }
   ],
   "execution_count": 6
  },
  {
   "metadata": {},
   "cell_type": "markdown",
   "source": "# Document 임베딩",
   "id": "185d3169f4d2c957"
  },
  {
   "metadata": {
    "ExecuteTime": {
     "end_time": "2025-04-04T09:49:03.352840Z",
     "start_time": "2025-04-04T09:49:02.619383Z"
    }
   },
   "cell_type": "code",
   "source": "doc_result = embeddings.embed_documents([text])",
   "id": "4541529a8f8a5d56",
   "outputs": [],
   "execution_count": 14
  },
  {
   "metadata": {
    "ExecuteTime": {
     "end_time": "2025-04-04T09:49:03.690739Z",
     "start_time": "2025-04-04T09:49:03.685134Z"
    }
   },
   "cell_type": "code",
   "source": [
    "# 문서 결과의 첫 번째 요소에서 처음 5개 항목을 선택\n",
    "doc_result[0][:5]"
   ],
   "id": "81a8ab56b27d44fb",
   "outputs": [
    {
     "data": {
      "text/plain": [
       "[-0.007747666910290718,\n",
       " 0.03676600381731987,\n",
       " 0.019548965618014336,\n",
       " -0.0197015218436718,\n",
       " 0.017206139862537384]"
      ]
     },
     "execution_count": 15,
     "metadata": {},
     "output_type": "execute_result"
    }
   ],
   "execution_count": 15
  },
  {
   "metadata": {},
   "cell_type": "markdown",
   "source": "# 차원 지정",
   "id": "62d2a4dd47d66178"
  },
  {
   "metadata": {
    "ExecuteTime": {
     "end_time": "2025-04-04T09:49:05.370362Z",
     "start_time": "2025-04-04T09:49:05.364595Z"
    }
   },
   "cell_type": "code",
   "source": [
    "#  문서 결과의 첫 번쨰 요소의 길이를 반환\n",
    "len(doc_result[0])"
   ],
   "id": "a261b1945e4bf4ce",
   "outputs": [
    {
     "data": {
      "text/plain": [
       "1536"
      ]
     },
     "execution_count": 16,
     "metadata": {},
     "output_type": "execute_result"
    }
   ],
   "execution_count": 16
  },
  {
   "metadata": {
    "ExecuteTime": {
     "end_time": "2025-04-04T09:50:22.852558Z",
     "start_time": "2025-04-04T09:50:22.173017Z"
    }
   },
   "cell_type": "code",
   "source": [
    "# OpenAI의 \"text-embedding-3-small\"모델을 사용하여 1024 차원의 임베딩을 생성하는 객체를 초기화\n",
    "embeddings_1024 = OpenAIEmbeddings(model=\"text-embedding-3-small\", dimensions=1024)"
   ],
   "id": "f137860568e66c0c",
   "outputs": [],
   "execution_count": 17
  },
  {
   "metadata": {
    "ExecuteTime": {
     "end_time": "2025-04-04T09:50:46.036056Z",
     "start_time": "2025-04-04T09:50:45.264212Z"
    }
   },
   "cell_type": "code",
   "source": [
    "# 주어진 텍스트를 임베딩하고 첫 번째 임베딩 벡터의 길이를 반환\n",
    "len(embeddings_1024.embed_documents([text])[0])"
   ],
   "id": "cfc1fabd317806ee",
   "outputs": [
    {
     "data": {
      "text/plain": [
       "1024"
      ]
     },
     "execution_count": 18,
     "metadata": {},
     "output_type": "execute_result"
    }
   ],
   "execution_count": 18
  },
  {
   "metadata": {},
   "cell_type": "markdown",
   "source": "# 유사도 계산",
   "id": "ad8a88e2ca0fd61e"
  },
  {
   "metadata": {
    "ExecuteTime": {
     "end_time": "2025-04-04T09:50:56.789448Z",
     "start_time": "2025-04-04T09:50:56.784733Z"
    }
   },
   "cell_type": "code",
   "source": [
    "sentence1 = \"안녕하세요? 반갑습니다.\"\n",
    "sentence2 = \"안녕하세요? 반갑습니다!\"\n",
    "sentence3 = \"안녕하세요? 만나서 반가워요.\"\n",
    "sentence4 = \"Hi, nice to meet you.\"\n",
    "sentence5 = \"I like to eat apples.\""
   ],
   "id": "bc6ddb45c22968a4",
   "outputs": [],
   "execution_count": 19
  },
  {
   "metadata": {
    "ExecuteTime": {
     "end_time": "2025-04-04T09:51:41.307406Z",
     "start_time": "2025-04-04T09:51:32.506157Z"
    }
   },
   "cell_type": "code",
   "source": [
    "from sklearn.metrics.pairwise import cosine_similarity\n",
    "\n",
    "sentences = [sentence1, sentence2, sentence3, sentence4, sentence5]\n",
    "embedded_sentences = embeddings_1024.embed_documents(sentences)"
   ],
   "id": "dce39d78ab253713",
   "outputs": [],
   "execution_count": 20
  },
  {
   "metadata": {
    "ExecuteTime": {
     "end_time": "2025-04-04T09:54:06.690902Z",
     "start_time": "2025-04-04T09:54:06.687373Z"
    }
   },
   "cell_type": "code",
   "source": [
    "def similarity(a, b):\n",
    "    return cosine_similarity([a], [b])[0][0]"
   ],
   "id": "32407e21d059a611",
   "outputs": [],
   "execution_count": 26
  },
  {
   "metadata": {
    "ExecuteTime": {
     "end_time": "2025-04-04T09:54:07.064068Z",
     "start_time": "2025-04-04T09:54:07.051624Z"
    }
   },
   "cell_type": "code",
   "source": [
    "for i, sentence in enumerate(embedded_sentences):\n",
    "    for j, other_sentence in enumerate(embedded_sentences):\n",
    "        if i < j:\n",
    "            print(\n",
    "                f\"[유사도 {similarity(sentence, other_sentence):.4f}] {sentences[i]} \\t <=====> \\t {sentences[j]}\"\n",
    "            )"
   ],
   "id": "6b9064b451173294",
   "outputs": [
    {
     "name": "stdout",
     "output_type": "stream",
     "text": [
      "[유사도 0.9648] 안녕하세요? 반갑습니다. \t <=====> \t 안녕하세요? 반갑습니다!\n",
      "[유사도 0.8410] 안녕하세요? 반갑습니다. \t <=====> \t 안녕하세요? 만나서 반가워요.\n",
      "[유사도 0.5055] 안녕하세요? 반갑습니다. \t <=====> \t Hi, nice to meet you.\n",
      "[유사도 0.1379] 안녕하세요? 반갑습니다. \t <=====> \t I like to eat apples.\n",
      "[유사도 0.8183] 안녕하세요? 반갑습니다! \t <=====> \t 안녕하세요? 만나서 반가워요.\n",
      "[유사도 0.4796] 안녕하세요? 반갑습니다! \t <=====> \t Hi, nice to meet you.\n",
      "[유사도 0.1335] 안녕하세요? 반갑습니다! \t <=====> \t I like to eat apples.\n",
      "[유사도 0.5126] 안녕하세요? 만나서 반가워요. \t <=====> \t Hi, nice to meet you.\n",
      "[유사도 0.1424] 안녕하세요? 만나서 반가워요. \t <=====> \t I like to eat apples.\n",
      "[유사도 0.2250] Hi, nice to meet you. \t <=====> \t I like to eat apples.\n"
     ]
    }
   ],
   "execution_count": 27
  },
  {
   "metadata": {},
   "cell_type": "code",
   "outputs": [],
   "execution_count": null,
   "source": "",
   "id": "3b17b1ce62c4ec74"
  }
 ],
 "metadata": {
  "kernelspec": {
   "display_name": "Python 3",
   "language": "python",
   "name": "python3"
  },
  "language_info": {
   "codemirror_mode": {
    "name": "ipython",
    "version": 2
   },
   "file_extension": ".py",
   "mimetype": "text/x-python",
   "name": "python",
   "nbconvert_exporter": "python",
   "pygments_lexer": "ipython2",
   "version": "2.7.6"
  }
 },
 "nbformat": 4,
 "nbformat_minor": 5
}
