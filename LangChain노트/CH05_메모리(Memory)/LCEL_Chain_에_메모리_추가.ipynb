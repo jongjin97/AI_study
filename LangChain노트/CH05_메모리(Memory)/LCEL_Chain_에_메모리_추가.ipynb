{
 "cells": [
  {
   "cell_type": "code",
   "id": "initial_id",
   "metadata": {
    "collapsed": true,
    "ExecuteTime": {
     "end_time": "2025-03-29T13:52:51.910645Z",
     "start_time": "2025-03-29T13:52:51.903142Z"
    }
   },
   "source": [
    "from dotenv import load_dotenv\n",
    "\n",
    "load_dotenv()"
   ],
   "outputs": [
    {
     "data": {
      "text/plain": [
       "True"
      ]
     },
     "execution_count": 6,
     "metadata": {},
     "output_type": "execute_result"
    }
   ],
   "execution_count": 6
  },
  {
   "metadata": {},
   "cell_type": "markdown",
   "source": "# LCEL (대화내용 기억하기): 메모리 추가",
   "id": "228dda7e80f0b5cd"
  },
  {
   "metadata": {
    "ExecuteTime": {
     "end_time": "2025-03-29T13:52:53.047079Z",
     "start_time": "2025-03-29T13:52:51.938655Z"
    }
   },
   "cell_type": "code",
   "source": [
    "from operator import itemgetter\n",
    "from langchain.memory import ConversationBufferMemory\n",
    "from langchain_core.prompts import ChatPromptTemplate, MessagesPlaceholder\n",
    "from langchain_core.runnables import RunnableLambda, RunnablePassthrough\n",
    "from langchain_openai import ChatOpenAI\n",
    "\n",
    "model = ChatOpenAI(model=\"gpt-4o-mini\")\n",
    "\n",
    "# 대화형 프롬프트를 생성. 이 프롬프트는 시스템 메시지, 이전 대화 내역, 사용자 입력을 포함\n",
    "prompt = ChatPromptTemplate.from_messages(\n",
    "    [\n",
    "        (\"system\", \"You are a helpful chatbot\"),\n",
    "        MessagesPlaceholder(variable_name=\"chat_history\"),\n",
    "        (\"human\", \"{input}\")\n",
    "    ]\n",
    ")"
   ],
   "id": "57fd3ae6fd9896cb",
   "outputs": [],
   "execution_count": 7
  },
  {
   "metadata": {
    "ExecuteTime": {
     "end_time": "2025-03-29T13:52:53.063635Z",
     "start_time": "2025-03-29T13:52:53.059188Z"
    }
   },
   "cell_type": "code",
   "source": [
    "# 대화 버퍼 메모리를 생성, 메시지 반환 기능을 활성화\n",
    "memory = ConversationBufferMemory(return_messages=True, memory_key=\"chat_history\")"
   ],
   "id": "9affe45884cda25d",
   "outputs": [],
   "execution_count": 8
  },
  {
   "metadata": {
    "ExecuteTime": {
     "end_time": "2025-03-29T13:52:53.085390Z",
     "start_time": "2025-03-29T13:52:53.079393Z"
    }
   },
   "cell_type": "code",
   "source": "memory.load_memory_variables({})",
   "id": "ad29fbf957a1237e",
   "outputs": [
    {
     "data": {
      "text/plain": [
       "{'chat_history': []}"
      ]
     },
     "execution_count": 9,
     "metadata": {},
     "output_type": "execute_result"
    }
   ],
   "execution_count": 9
  },
  {
   "metadata": {
    "ExecuteTime": {
     "end_time": "2025-03-29T13:53:36.787930Z",
     "start_time": "2025-03-29T13:53:36.779004Z"
    }
   },
   "cell_type": "code",
   "source": [
    "runnable = RunnablePassthrough.assign(\n",
    "    chat_history=RunnableLambda(memory.load_memory_variables)\n",
    "    | itemgetter(\"chat_history\")\n",
    ")"
   ],
   "id": "9fb2f5a0d6c3be20",
   "outputs": [],
   "execution_count": 10
  },
  {
   "metadata": {
    "ExecuteTime": {
     "end_time": "2025-03-29T13:53:47.357920Z",
     "start_time": "2025-03-29T13:53:47.283236Z"
    }
   },
   "cell_type": "code",
   "source": "runnable.invoke({\"input\": \"hi\"})",
   "id": "3ced6ff6893000c1",
   "outputs": [
    {
     "data": {
      "text/plain": [
       "{'input': 'hi', 'chat_history': []}"
      ]
     },
     "execution_count": 11,
     "metadata": {},
     "output_type": "execute_result"
    }
   ],
   "execution_count": 11
  },
  {
   "metadata": {
    "ExecuteTime": {
     "end_time": "2025-03-29T13:54:39.629261Z",
     "start_time": "2025-03-29T13:54:39.619363Z"
    }
   },
   "cell_type": "code",
   "source": [
    "runnable.invoke({\"input\": \"hi\"})\n",
    "prompt = ChatPromptTemplate.from_messages(\n",
    "    [(\"system\", \"You are a helpful chatbot\"),\n",
    "    MessagesPlaceholder(variable_name=\"chat_history\"),\n",
    "    (\"human\", \"{input}\")]\n",
    ")"
   ],
   "id": "5043dbe31db108cc",
   "outputs": [],
   "execution_count": 14
  },
  {
   "metadata": {
    "ExecuteTime": {
     "end_time": "2025-03-29T13:54:58.026523Z",
     "start_time": "2025-03-29T13:54:58.016016Z"
    }
   },
   "cell_type": "code",
   "source": "runnable.invoke({\"input\": \"hi\"})",
   "id": "87df61d57ef6d3bd",
   "outputs": [
    {
     "data": {
      "text/plain": [
       "{'input': 'hi', 'chat_history': []}"
      ]
     },
     "execution_count": 15,
     "metadata": {},
     "output_type": "execute_result"
    }
   ],
   "execution_count": 15
  },
  {
   "metadata": {
    "ExecuteTime": {
     "end_time": "2025-03-29T13:55:07.110971Z",
     "start_time": "2025-03-29T13:55:07.106536Z"
    }
   },
   "cell_type": "code",
   "source": "chain = runnable | prompt | model",
   "id": "863cd7e3b31bce8e",
   "outputs": [],
   "execution_count": 16
  },
  {
   "metadata": {
    "ExecuteTime": {
     "end_time": "2025-03-29T13:55:31.751304Z",
     "start_time": "2025-03-29T13:55:29.279553Z"
    }
   },
   "cell_type": "code",
   "source": [
    "response = chain.invoke({\"input\": \"만나서 반갑습니다. 제 이름은 종진입니다.\"})\n",
    "print(response.content)"
   ],
   "id": "626a7fac81a779ef",
   "outputs": [
    {
     "name": "stdout",
     "output_type": "stream",
     "text": [
      "만나서 반갑습니다, 종진님! 어떻게 도와드릴까요?\n"
     ]
    }
   ],
   "execution_count": 17
  },
  {
   "metadata": {
    "ExecuteTime": {
     "end_time": "2025-03-29T13:55:41.768232Z",
     "start_time": "2025-03-29T13:55:41.763675Z"
    }
   },
   "cell_type": "code",
   "source": "memory.load_memory_variables({})",
   "id": "3c08e99111b2416a",
   "outputs": [
    {
     "data": {
      "text/plain": [
       "{'chat_history': []}"
      ]
     },
     "execution_count": 18,
     "metadata": {},
     "output_type": "execute_result"
    }
   ],
   "execution_count": 18
  },
  {
   "metadata": {
    "ExecuteTime": {
     "end_time": "2025-03-29T13:56:51.077616Z",
     "start_time": "2025-03-29T13:56:51.072175Z"
    }
   },
   "cell_type": "code",
   "source": [
    "# 입력된 데이터와 응답 내용을 메모리에 저장\n",
    "memory.save_context({\"human\": \"만나서 반갑습니다. 제 이름은 종진입니다.\"}, {\"ai\": response.content})\n",
    "\n",
    "memory.load_memory_variables({})"
   ],
   "id": "be34d94aa9e34580",
   "outputs": [
    {
     "data": {
      "text/plain": [
       "{'chat_history': [HumanMessage(content='만나서 반갑습니다. 제 이름은 종진입니다.', additional_kwargs={}, response_metadata={}),\n",
       "  AIMessage(content='만나서 반갑습니다, 종진님! 어떻게 도와드릴까요?', additional_kwargs={}, response_metadata={})]}"
      ]
     },
     "execution_count": 19,
     "metadata": {},
     "output_type": "execute_result"
    }
   ],
   "execution_count": 19
  },
  {
   "metadata": {
    "ExecuteTime": {
     "end_time": "2025-03-29T13:57:23.668418Z",
     "start_time": "2025-03-29T13:57:22.750886Z"
    }
   },
   "cell_type": "code",
   "source": [
    "# 이름을 기억하고 있는지 추가 질의\n",
    "response = chain.invoke({\"input\": \"제 이름이 무엇이었는지 기어하세요?\"})\n",
    "response.content"
   ],
   "id": "20a328c8c3b18150",
   "outputs": [
    {
     "data": {
      "text/plain": [
       "'종진님이십니다! 다른 질문이나 도움이 필요하시면 말씀해 주세요.'"
      ]
     },
     "execution_count": 20,
     "metadata": {},
     "output_type": "execute_result"
    }
   ],
   "execution_count": 20
  },
  {
   "metadata": {},
   "cell_type": "markdown",
   "source": "# 커스텀 ConversationChain 구현 예시",
   "id": "9c7ac4a6b119ed20"
  },
  {
   "metadata": {
    "ExecuteTime": {
     "end_time": "2025-03-29T13:58:00.109095Z",
     "start_time": "2025-03-29T13:57:57.605792Z"
    }
   },
   "cell_type": "code",
   "source": [
    "from operator import itemgetter\n",
    "from langchain.memory import ConversationBufferMemory, ConversationSummaryMemory\n",
    "from langchain_core.prompts import ChatPromptTemplate, MessagesPlaceholder\n",
    "from langchain_core.runnables import RunnableLambda, RunnablePassthrough, Runnable\n",
    "from langchain_openai import ChatOpenAI\n",
    "from langchain_core.output_parsers import StrOutputParser\n",
    "\n",
    "llm = ChatOpenAI(model=\"gpt-4o-mini\", temperature=0)\n",
    "\n",
    "# 대화형 프롬프트를 생성합니다. 이 프롬프트는 시스템 메시지, 이전 대화 내역, 그리고 사용자 입력을 포함합니다.\n",
    "prompt = ChatPromptTemplate.from_messages(\n",
    "    [\n",
    "        (\"system\", \"You are a helpful chatbot\"),\n",
    "        MessagesPlaceholder(variable_name=\"chat_history\"),\n",
    "        (\"human\", \"{input}\"),\n",
    "    ]\n",
    ")\n",
    "\n",
    "# 대화 버퍼 메모리를 생성하고, 메시지 반환 기능을 활성화합니다.\n",
    "memory = ConversationBufferMemory(return_messages=True, memory_key=\"chat_history\")"
   ],
   "id": "feafb9a6423c8d8b",
   "outputs": [],
   "execution_count": 21
  },
  {
   "metadata": {
    "ExecuteTime": {
     "end_time": "2025-03-29T14:02:48.741027Z",
     "start_time": "2025-03-29T14:02:48.735679Z"
    }
   },
   "cell_type": "code",
   "source": [
    "class MyConversationChain(Runnable):\n",
    "    def __init__(self, llm, prompt, memory, input_key=\"input\"):\n",
    "        self.prompt = prompt\n",
    "        self.memory = memory\n",
    "        self.input_key = input_key\n",
    "        self.chain = (\n",
    "            RunnablePassthrough.assign(\n",
    "                chat_history=RunnableLambda(self.memory.load_memory_variables)\n",
    "                | itemgetter(memory.memory_key)\n",
    "            )\n",
    "            | prompt\n",
    "            | llm\n",
    "            | StrOutputParser()\n",
    "        )\n",
    "\n",
    "    def invoke(self, query, configs=None, **kwargs):\n",
    "        answer = self.chain.invoke({self.input_key: query})\n",
    "        self.memory.save_context(inputs={\"human\": query}, outputs={\"ai\": answer})\n",
    "        return answer\n"
   ],
   "id": "628dd786d6bfbbe5",
   "outputs": [],
   "execution_count": 25
  },
  {
   "metadata": {
    "ExecuteTime": {
     "end_time": "2025-03-29T14:02:50.779720Z",
     "start_time": "2025-03-29T14:02:50.168555Z"
    }
   },
   "cell_type": "code",
   "source": [
    "llm = ChatOpenAI(model=\"gpt-4o-mini\", temperature=0)\n",
    "\n",
    "# 대화형 프롬프트를 생성\n",
    "prompt = ChatPromptTemplate.from_messages(\n",
    "    [\n",
    "        (\"system\", \"You are a helpful chatbot\"),\n",
    "        MessagesPlaceholder(variable_name=\"chat_history\"),\n",
    "        (\"human\", \"{input}\"),\n",
    "    ]\n",
    ")\n",
    "\n",
    "memory = ConversationBufferMemory(return_messages=True, memory_key=\"chat_history\")\n",
    "\n",
    "conversation_chain = MyConversationChain(llm, prompt, memory)"
   ],
   "id": "6addffbdb58d3b59",
   "outputs": [],
   "execution_count": 26
  },
  {
   "metadata": {
    "ExecuteTime": {
     "end_time": "2025-03-29T14:02:51.799457Z",
     "start_time": "2025-03-29T14:02:50.829347Z"
    }
   },
   "cell_type": "code",
   "source": "conversation_chain.invoke(\"안녕하세요? 만나서 반갑습니다. 제이름은 종진입니다.\")",
   "id": "14b2b16563cd0e36",
   "outputs": [
    {
     "data": {
      "text/plain": [
       "'안녕하세요, 종진님! 만나서 반갑습니다. 어떻게 도와드릴까요?'"
      ]
     },
     "execution_count": 27,
     "metadata": {},
     "output_type": "execute_result"
    }
   ],
   "execution_count": 27
  },
  {
   "metadata": {
    "ExecuteTime": {
     "end_time": "2025-03-29T14:03:02.267846Z",
     "start_time": "2025-03-29T14:03:01.495947Z"
    }
   },
   "cell_type": "code",
   "source": "conversation_chain.invoke(\"제 이름이 뭐라고요?\")",
   "id": "ac660af9419292e",
   "outputs": [
    {
     "data": {
      "text/plain": [
       "'종진님이라고 하셨습니다. 맞나요?'"
      ]
     },
     "execution_count": 28,
     "metadata": {},
     "output_type": "execute_result"
    }
   ],
   "execution_count": 28
  },
  {
   "metadata": {
    "ExecuteTime": {
     "end_time": "2025-03-29T14:03:19.726906Z",
     "start_time": "2025-03-29T14:03:18.842806Z"
    }
   },
   "cell_type": "code",
   "source": "conversation_chain.invoke(\"앞으로는 영어롬나 답변해주세요. 알겠어요?\")",
   "id": "71f424d8f33bd3a7",
   "outputs": [
    {
     "data": {
      "text/plain": [
       "'Got it! I will respond in English from now on. How can I assist you today?'"
      ]
     },
     "execution_count": 29,
     "metadata": {},
     "output_type": "execute_result"
    }
   ],
   "execution_count": 29
  },
  {
   "metadata": {
    "ExecuteTime": {
     "end_time": "2025-03-29T14:03:32.754210Z",
     "start_time": "2025-03-29T14:03:31.856643Z"
    }
   },
   "cell_type": "code",
   "source": "conversation_chain.invoke(\" 제 이름을 다시 한 번 말해주세요\")",
   "id": "d7faa0edff2c5ef3",
   "outputs": [
    {
     "data": {
      "text/plain": [
       "'Your name is Jongjin.'"
      ]
     },
     "execution_count": 30,
     "metadata": {},
     "output_type": "execute_result"
    }
   ],
   "execution_count": 30
  },
  {
   "metadata": {
    "ExecuteTime": {
     "end_time": "2025-03-29T14:03:44.303705Z",
     "start_time": "2025-03-29T14:03:44.297985Z"
    }
   },
   "cell_type": "code",
   "source": "conversation_chain.memory.load_memory_variables({})['chat_history']",
   "id": "b63cb747719ac92a",
   "outputs": [
    {
     "data": {
      "text/plain": [
       "[HumanMessage(content='안녕하세요? 만나서 반갑습니다. 제이름은 종진입니다.', additional_kwargs={}, response_metadata={}),\n",
       " AIMessage(content='안녕하세요, 종진님! 만나서 반갑습니다. 어떻게 도와드릴까요?', additional_kwargs={}, response_metadata={}),\n",
       " HumanMessage(content='제 이름이 뭐라고요?', additional_kwargs={}, response_metadata={}),\n",
       " AIMessage(content='종진님이라고 하셨습니다. 맞나요?', additional_kwargs={}, response_metadata={}),\n",
       " HumanMessage(content='앞으로는 영어롬나 답변해주세요. 알겠어요?', additional_kwargs={}, response_metadata={}),\n",
       " AIMessage(content='Got it! I will respond in English from now on. How can I assist you today?', additional_kwargs={}, response_metadata={}),\n",
       " HumanMessage(content=' 제 이름을 다시 한 번 말해주세요', additional_kwargs={}, response_metadata={}),\n",
       " AIMessage(content='Your name is Jongjin.', additional_kwargs={}, response_metadata={})]"
      ]
     },
     "execution_count": 32,
     "metadata": {},
     "output_type": "execute_result"
    }
   ],
   "execution_count": 32
  }
 ],
 "metadata": {
  "kernelspec": {
   "display_name": "Python 3",
   "language": "python",
   "name": "python3"
  },
  "language_info": {
   "codemirror_mode": {
    "name": "ipython",
    "version": 2
   },
   "file_extension": ".py",
   "mimetype": "text/x-python",
   "name": "python",
   "nbconvert_exporter": "python",
   "pygments_lexer": "ipython2",
   "version": "2.7.6"
  }
 },
 "nbformat": 4,
 "nbformat_minor": 5
}
