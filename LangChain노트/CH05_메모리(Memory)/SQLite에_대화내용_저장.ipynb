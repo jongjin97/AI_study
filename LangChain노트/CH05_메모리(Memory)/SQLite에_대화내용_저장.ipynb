{
 "cells": [
  {
   "cell_type": "code",
   "id": "initial_id",
   "metadata": {
    "collapsed": true,
    "ExecuteTime": {
     "end_time": "2025-03-29T14:04:13.091760Z",
     "start_time": "2025-03-29T14:04:13.072117Z"
    }
   },
   "source": [
    "from dotenv import load_dotenv\n",
    "\n",
    "# API KEY 정보로드\n",
    "load_dotenv()"
   ],
   "outputs": [
    {
     "data": {
      "text/plain": [
       "True"
      ]
     },
     "execution_count": 1,
     "metadata": {},
     "output_type": "execute_result"
    }
   ],
   "execution_count": 1
  },
  {
   "metadata": {},
   "cell_type": "markdown",
   "source": "# SQL (SQLAlchemy)",
   "id": "2659707b62057d5a"
  },
  {
   "metadata": {},
   "cell_type": "code",
   "outputs": [],
   "execution_count": null,
   "source": [
    "from langchain_community.chat_message_histories import SQLChatMessageHistory\n",
    "\n",
    "# SQLChatMessageHistory 객체를 생성하고 세션ID와 데이터베이스 연결 파일을 설정\n",
    "chat_message_history = SQLChatMessageHistory(\n",
    "    session_id=\"sql_history\", connection=\"sqlite:///sqlite.db\"\n",
    ")"
   ],
   "id": "fb42e6095b01f47d"
  },
  {
   "metadata": {
    "ExecuteTime": {
     "end_time": "2025-03-29T14:09:27.079270Z",
     "start_time": "2025-03-29T14:09:27.068485Z"
    }
   },
   "cell_type": "code",
   "source": [
    "# 사용자 미시지를 추가\n",
    "chat_message_history.add_user_message(\n",
    "    \"안녕? 만나서 반가워. 내 이름은 종진이야. 나는 개발자야. 앞으로 잘 부탁해!\"\n",
    ")\n",
    "\n",
    "# AI 메시지를 추가\n",
    "chat_message_history.add_ai_message(\n",
    "    \"안녕 종진, 만나서 반가와. 나도 잘 부탁해\"\n",
    ")"
   ],
   "id": "774075259e22b3f",
   "outputs": [],
   "execution_count": 11
  },
  {
   "metadata": {
    "ExecuteTime": {
     "end_time": "2025-03-29T14:09:28.019951Z",
     "start_time": "2025-03-29T14:09:28.013146Z"
    }
   },
   "cell_type": "code",
   "source": "chat_message_history.messages",
   "id": "aa0ef0c58eec5d97",
   "outputs": [
    {
     "data": {
      "text/plain": [
       "[HumanMessage(content='안녕? 만나서 반가워. 내 이름은 종진이야. 나는 개발자야. 앞으로 잘 부탁해!', additional_kwargs={}, response_metadata={}),\n",
       " AIMessage(content='', additional_kwargs={}, response_metadata={}),\n",
       " HumanMessage(content='안녕? 만나서 반가워. 내 이름은 종진이야. 나는 개발자야. 앞으로 잘 부탁해!', additional_kwargs={}, response_metadata={}),\n",
       " AIMessage(content='안녕 종진, 만나서 반가와. 나도 잘 부탁해', additional_kwargs={}, response_metadata={}),\n",
       " HumanMessage(content='안녕? 만나서 반가워. 내 이름은 종진이야. 나는 개발자야. 앞으로 잘 부탁해!', additional_kwargs={}, response_metadata={}),\n",
       " AIMessage(content='안녕 종진, 만나서 반가와. 나도 잘 부탁해', additional_kwargs={}, response_metadata={}),\n",
       " HumanMessage(content='안녕? 만나서 반가워. 내 이름은 종진이야. 나는 개발자야. 앞으로 잘 부탁해!', additional_kwargs={}, response_metadata={}),\n",
       " AIMessage(content='안녕 종진, 만나서 반가와. 나도 잘 부탁해', additional_kwargs={}, response_metadata={})]"
      ]
     },
     "execution_count": 12,
     "metadata": {},
     "output_type": "execute_result"
    }
   ],
   "execution_count": 12
  },
  {
   "metadata": {},
   "cell_type": "markdown",
   "source": "# Chain 에 적용",
   "id": "4a243b22685c270e"
  },
  {
   "metadata": {
    "ExecuteTime": {
     "end_time": "2025-03-29T14:10:29.877961Z",
     "start_time": "2025-03-29T14:10:27.903749Z"
    }
   },
   "cell_type": "code",
   "source": [
    "from langchain_core.prompts import (\n",
    "    ChatPromptTemplate,\n",
    "    MessagesPlaceholder,\n",
    ")\n",
    "from langchain_core.runnables.history import RunnableWithMessageHistory\n",
    "from langchain_openai import ChatOpenAI\n",
    "from langchain_core.output_parsers import StrOutputParser"
   ],
   "id": "79a954737f71d674",
   "outputs": [],
   "execution_count": 13
  },
  {
   "metadata": {
    "ExecuteTime": {
     "end_time": "2025-03-29T14:11:30.560345Z",
     "start_time": "2025-03-29T14:11:30.555873Z"
    }
   },
   "cell_type": "code",
   "source": [
    "prompt = ChatPromptTemplate.from_messages(\n",
    "    [\n",
    "        (\"system\", \"Out are a helpful assistant.\"),\n",
    "        MessagesPlaceholder(variable_name=\"chat_history\"),\n",
    "        (\"human\", \"{question}\")\n",
    "    ]\n",
    ")"
   ],
   "id": "2ad69f31ce3ed664",
   "outputs": [],
   "execution_count": 15
  },
  {
   "metadata": {
    "ExecuteTime": {
     "end_time": "2025-03-29T14:11:49.120662Z",
     "start_time": "2025-03-29T14:11:48.126953Z"
    }
   },
   "cell_type": "code",
   "source": "chain = prompt | ChatOpenAI(model=\"gpt-4o-mini\", temperature=0) | StrOutputParser()",
   "id": "13bb9502333a4b85",
   "outputs": [],
   "execution_count": 16
  },
  {
   "metadata": {
    "ExecuteTime": {
     "end_time": "2025-03-29T14:12:24.578338Z",
     "start_time": "2025-03-29T14:12:24.573992Z"
    }
   },
   "cell_type": "code",
   "source": [
    "def get_chat_history(user_id, conversation_id):\n",
    "    return SQLChatMessageHistory(\n",
    "        table_name=user_id,\n",
    "        session_id=conversation_id,\n",
    "        connection=\"sqlite:///sqlite.db\",\n",
    "    )"
   ],
   "id": "b2ab30b9f97a41df",
   "outputs": [],
   "execution_count": 17
  },
  {
   "metadata": {
    "ExecuteTime": {
     "end_time": "2025-03-29T14:13:58.443805Z",
     "start_time": "2025-03-29T14:13:58.439469Z"
    }
   },
   "cell_type": "code",
   "source": [
    "from langchain_core.runnables.utils import ConfigurableFieldSpec\n",
    "\n",
    "config_fields = [\n",
    "    ConfigurableFieldSpec(\n",
    "        id=\"user_id\",\n",
    "        annotation=str,\n",
    "        name=\"User ID\",\n",
    "        description=\"Unique identifier for a user.\",\n",
    "        default=\"\",\n",
    "        is_shared=True\n",
    "    ),\n",
    "    ConfigurableFieldSpec(\n",
    "        id=\"conversation_id\",\n",
    "        annotation=str,\n",
    "        name=\"Conversation ID\",\n",
    "        description=\"Unique identifier for a conversation.\",\n",
    "        default=\"\",\n",
    "        is_shared=True\n",
    "    )\n",
    "]"
   ],
   "id": "99c8cc0a6c74b779",
   "outputs": [],
   "execution_count": 18
  },
  {
   "metadata": {
    "ExecuteTime": {
     "end_time": "2025-03-29T14:16:04.863231Z",
     "start_time": "2025-03-29T14:16:04.859352Z"
    }
   },
   "cell_type": "code",
   "source": [
    "chain_with_history = RunnableWithMessageHistory(\n",
    "    chain,\n",
    "    get_chat_history, # 대화 기록을 가져오는 함수를 설정\n",
    "    input_messages_key=\"question\", # 입력 메시지의 키를 \"question\"으로 설정\n",
    "    history_messages_key=\"chat_history\", # 대화 기록 메시지의 키를 \"history\"로 설정\n",
    "    history_factory_config=config_fields, # 대화 기록 조회시 참고할 파라미터를 설정\n",
    ")"
   ],
   "id": "9db3b2fd728f6209",
   "outputs": [],
   "execution_count": 21
  },
  {
   "metadata": {
    "ExecuteTime": {
     "end_time": "2025-03-29T14:16:05.192616Z",
     "start_time": "2025-03-29T14:16:05.189426Z"
    }
   },
   "cell_type": "code",
   "source": [
    "# config 설정\n",
    "config = {\"configurable\": {\"user_id\": \"user1\", \"conversation_id\": \"conversation1\"}}"
   ],
   "id": "cc0685b38b7b681b",
   "outputs": [],
   "execution_count": 22
  },
  {
   "metadata": {
    "ExecuteTime": {
     "end_time": "2025-03-29T14:16:22.925309Z",
     "start_time": "2025-03-29T14:16:21.613119Z"
    }
   },
   "cell_type": "code",
   "source": [
    "# 질문과 config를 전달하여 실행\n",
    "chain_with_history.invoke({\"question\": \"안녕 반가워, 내 이름은 종진이야\"}, config)"
   ],
   "id": "26f856ce341b3cd3",
   "outputs": [
    {
     "data": {
      "text/plain": [
       "'안녕하세요, 종진님! 반갑습니다. 어떻게 도와드릴까요?'"
      ]
     },
     "execution_count": 24,
     "metadata": {},
     "output_type": "execute_result"
    }
   ],
   "execution_count": 24
  },
  {
   "metadata": {
    "ExecuteTime": {
     "end_time": "2025-03-29T14:16:34.515229Z",
     "start_time": "2025-03-29T14:16:33.715207Z"
    }
   },
   "cell_type": "code",
   "source": [
    "# 후속 질문을 실해합니다.\n",
    "chain_with_history.invoke({\"question\": \"내 이름이 뭐라고?\"}, config)"
   ],
   "id": "ce4e74c2c76a17cb",
   "outputs": [
    {
     "data": {
      "text/plain": [
       "'종진님이라고 하셨습니다! 맞나요?'"
      ]
     },
     "execution_count": 25,
     "metadata": {},
     "output_type": "execute_result"
    }
   ],
   "execution_count": 25
  },
  {
   "metadata": {
    "ExecuteTime": {
     "end_time": "2025-03-29T14:17:24.242153Z",
     "start_time": "2025-03-29T14:17:23.198662Z"
    }
   },
   "cell_type": "code",
   "source": [
    "# config 설정\n",
    "config = {\"configurable\": {\"user_id\": \"user1\", \"conversation_id\": \"conversation2\"}}\n",
    "\n",
    "# 질문과 config를 전달하여 실행\n",
    "chain_with_history.invoke({\"question\": \"내 이름이 뭐라고?\"}, config)"
   ],
   "id": "7f7a6c0b8def8c8c",
   "outputs": [
    {
     "data": {
      "text/plain": [
       "'죄송하지만, 당신의 이름을 알 수 있는 정보가 없습니다. 당신의 이름을 알려주시면 그에 맞춰 대화할 수 있습니다!'"
      ]
     },
     "execution_count": 26,
     "metadata": {},
     "output_type": "execute_result"
    }
   ],
   "execution_count": 26
  }
 ],
 "metadata": {
  "kernelspec": {
   "display_name": "Python 3",
   "language": "python",
   "name": "python3"
  },
  "language_info": {
   "codemirror_mode": {
    "name": "ipython",
    "version": 2
   },
   "file_extension": ".py",
   "mimetype": "text/x-python",
   "name": "python",
   "nbconvert_exporter": "python",
   "pygments_lexer": "ipython2",
   "version": "2.7.6"
  }
 },
 "nbformat": 4,
 "nbformat_minor": 5
}
