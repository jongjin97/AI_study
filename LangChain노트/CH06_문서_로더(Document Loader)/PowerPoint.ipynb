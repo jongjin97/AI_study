{
 "cells": [
  {
   "cell_type": "code",
   "id": "initial_id",
   "metadata": {
    "collapsed": true,
    "ExecuteTime": {
     "end_time": "2025-04-01T08:47:36.604739Z",
     "start_time": "2025-04-01T08:47:31.712549Z"
    }
   },
   "source": [
    "from langchain_community.document_loaders import UnstructuredPowerPointLoader\n",
    "\n",
    "# UnstructuredPowerPointLoader 생성\n",
    "loader = UnstructuredPowerPointLoader(\"./data/sample-ppt.pptx\")\n",
    "\n",
    "# 데이터 로드\n",
    "docs = loader.load()\n",
    "\n",
    "# 로드한 문서의 개수 출력\n",
    "print(len(docs))"
   ],
   "outputs": [
    {
     "name": "stdout",
     "output_type": "stream",
     "text": [
      "1\n"
     ]
    }
   ],
   "execution_count": 1
  },
  {
   "metadata": {
    "ExecuteTime": {
     "end_time": "2025-04-01T08:47:42.455054Z",
     "start_time": "2025-04-01T08:47:42.401906Z"
    }
   },
   "cell_type": "code",
   "source": [
    "# UnstructuredPowerPointLoader 생성\n",
    "loader = UnstructuredPowerPointLoader(\"./data/sample-ppt.pptx\", mode=\"elements\")\n",
    "\n",
    "# 데이터 로드\n",
    "docs = loader.load()\n",
    "\n",
    "print(len(docs))"
   ],
   "id": "a817ddeba66d52bd",
   "outputs": [
    {
     "name": "stdout",
     "output_type": "stream",
     "text": [
      "17\n"
     ]
    }
   ],
   "execution_count": 2
  },
  {
   "metadata": {
    "ExecuteTime": {
     "end_time": "2025-04-01T08:47:58.811035Z",
     "start_time": "2025-04-01T08:47:58.806421Z"
    }
   },
   "cell_type": "code",
   "source": "print(docs[0].page_content)",
   "id": "cce00663f65d93e2",
   "outputs": [
    {
     "name": "stdout",
     "output_type": "stream",
     "text": [
      "랭체인 한국어 튜토리얼\n"
     ]
    }
   ],
   "execution_count": 3
  },
  {
   "metadata": {
    "ExecuteTime": {
     "end_time": "2025-04-01T08:48:35.588559Z",
     "start_time": "2025-04-01T08:48:35.584864Z"
    }
   },
   "cell_type": "code",
   "source": "print(docs[1].page_content)",
   "id": "1cf61cc05543a667",
   "outputs": [
    {
     "name": "stdout",
     "output_type": "stream",
     "text": [
      "- 테디노트 -\n"
     ]
    }
   ],
   "execution_count": 5
  },
  {
   "metadata": {
    "ExecuteTime": {
     "end_time": "2025-04-01T08:48:02.208660Z",
     "start_time": "2025-04-01T08:48:02.201082Z"
    }
   },
   "cell_type": "code",
   "source": "docs[0].metadata",
   "id": "afdc02a6487d968d",
   "outputs": [
    {
     "data": {
      "text/plain": [
       "{'source': './data/sample-ppt.pptx',\n",
       " 'category_depth': 0,\n",
       " 'file_directory': './data',\n",
       " 'filename': 'sample-ppt.pptx',\n",
       " 'last_modified': '2025-03-20T20:57:12',\n",
       " 'page_number': 1,\n",
       " 'languages': ['kor'],\n",
       " 'filetype': 'application/vnd.openxmlformats-officedocument.presentationml.presentation',\n",
       " 'category': 'Title',\n",
       " 'element_id': '784918cd25f6cbe0084401b85fe2f3d8'}"
      ]
     },
     "execution_count": 4,
     "metadata": {},
     "output_type": "execute_result"
    }
   ],
   "execution_count": 4
  }
 ],
 "metadata": {
  "kernelspec": {
   "display_name": "Python 3",
   "language": "python",
   "name": "python3"
  },
  "language_info": {
   "codemirror_mode": {
    "name": "ipython",
    "version": 2
   },
   "file_extension": ".py",
   "mimetype": "text/x-python",
   "name": "python",
   "nbconvert_exporter": "python",
   "pygments_lexer": "ipython2",
   "version": "2.7.6"
  }
 },
 "nbformat": 4,
 "nbformat_minor": 5
}
