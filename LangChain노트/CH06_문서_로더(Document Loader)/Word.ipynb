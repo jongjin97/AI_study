{
 "cells": [
  {
   "metadata": {},
   "cell_type": "markdown",
   "source": "# Docx2txtLoader",
   "id": "e0875ef9ee983664"
  },
  {
   "metadata": {
    "ExecuteTime": {
     "end_time": "2025-04-01T08:46:05.646182Z",
     "start_time": "2025-04-01T08:46:04.668425Z"
    }
   },
   "cell_type": "code",
   "source": [
    "from langchain_community.document_loaders import Docx2txtLoader\n",
    "\n",
    "loader = Docx2txtLoader(\"./data/sample-word-document.docx\")  # 문서 로더 초기화\n",
    "\n",
    "docs = loader.load()  # 문서 로딩\n",
    "\n",
    "print(len(docs))"
   ],
   "id": "9650aeb38491a79c",
   "outputs": [
    {
     "name": "stdout",
     "output_type": "stream",
     "text": [
      "1\n"
     ]
    }
   ],
   "execution_count": 1
  },
  {
   "metadata": {},
   "cell_type": "markdown",
   "source": "# UnstructuredWordDocumentLoader",
   "id": "24062644c244eb25"
  },
  {
   "cell_type": "code",
   "id": "initial_id",
   "metadata": {
    "collapsed": true,
    "ExecuteTime": {
     "end_time": "2025-04-01T08:46:34.103851Z",
     "start_time": "2025-04-01T08:46:29.940748Z"
    }
   },
   "source": [
    "from langchain_community.document_loaders import UnstructuredWordDocumentLoader\n",
    "\n",
    "# 비구조화된 워드 문서 로더 인스턴스화\n",
    "loader = UnstructuredWordDocumentLoader(\"./data/sample-word-document.docx\")\n",
    "\n",
    "# 문서 로드\n",
    "docs = loader.load()\n",
    "\n",
    "print(len(docs))"
   ],
   "outputs": [
    {
     "name": "stdout",
     "output_type": "stream",
     "text": [
      "1\n"
     ]
    }
   ],
   "execution_count": 2
  },
  {
   "metadata": {
    "ExecuteTime": {
     "end_time": "2025-04-01T08:46:37.838564Z",
     "start_time": "2025-04-01T08:46:37.834924Z"
    }
   },
   "cell_type": "code",
   "source": [
    "# metadata 출력\n",
    "print(docs[0].metadata)"
   ],
   "id": "1bfe8f324d21cd58",
   "outputs": [
    {
     "name": "stdout",
     "output_type": "stream",
     "text": [
      "{'source': './data/sample-word-document.docx'}\n"
     ]
    }
   ],
   "execution_count": 3
  },
  {
   "metadata": {
    "ExecuteTime": {
     "end_time": "2025-04-01T08:46:53.072746Z",
     "start_time": "2025-04-01T08:46:52.896935Z"
    }
   },
   "cell_type": "code",
   "source": [
    "# UnstructuredWordDocumentLoader\n",
    "loader = UnstructuredWordDocumentLoader(\n",
    "    \"./data/sample-word-document.docx\", mode=\"elements\"\n",
    ")\n",
    "\n",
    "# 데이터 로드\n",
    "docs = loader.load()\n",
    "\n",
    "# 로드한 문서의 개수 출력\n",
    "print(len(docs))"
   ],
   "id": "2b5f9eb2012d3182",
   "outputs": [
    {
     "name": "stdout",
     "output_type": "stream",
     "text": [
      "128\n"
     ]
    }
   ],
   "execution_count": 4
  },
  {
   "metadata": {
    "ExecuteTime": {
     "end_time": "2025-04-01T08:47:04.496226Z",
     "start_time": "2025-04-01T08:47:04.492675Z"
    }
   },
   "cell_type": "code",
   "source": [
    "# 첫번째 문서의 내용 출력\n",
    "print(docs[0].page_content)"
   ],
   "id": "1ac44cd980b39c61",
   "outputs": [
    {
     "name": "stdout",
     "output_type": "stream",
     "text": [
      "Semantic Search\n"
     ]
    }
   ],
   "execution_count": 5
  },
  {
   "metadata": {
    "ExecuteTime": {
     "end_time": "2025-04-01T08:47:11.752974Z",
     "start_time": "2025-04-01T08:47:11.746375Z"
    }
   },
   "cell_type": "code",
   "source": [
    "# 첫번째 문서의 내용 출력\n",
    "docs[0].metadata"
   ],
   "id": "7382232d2eb5200d",
   "outputs": [
    {
     "data": {
      "text/plain": [
       "{'source': './data/sample-word-document.docx',\n",
       " 'category_depth': 0,\n",
       " 'file_directory': './data',\n",
       " 'filename': 'sample-word-document.docx',\n",
       " 'last_modified': '2025-03-20T20:57:12',\n",
       " 'page_number': 1,\n",
       " 'languages': ['kor'],\n",
       " 'filetype': 'application/vnd.openxmlformats-officedocument.wordprocessingml.document',\n",
       " 'category': 'UncategorizedText',\n",
       " 'element_id': 'a7703edf875ec776dc2bb839ca335b45'}"
      ]
     },
     "execution_count": 6,
     "metadata": {},
     "output_type": "execute_result"
    }
   ],
   "execution_count": 6
  }
 ],
 "metadata": {
  "kernelspec": {
   "display_name": "Python 3",
   "language": "python",
   "name": "python3"
  },
  "language_info": {
   "codemirror_mode": {
    "name": "ipython",
    "version": 2
   },
   "file_extension": ".py",
   "mimetype": "text/x-python",
   "name": "python",
   "nbconvert_exporter": "python",
   "pygments_lexer": "ipython2",
   "version": "2.7.6"
  }
 },
 "nbformat": 4,
 "nbformat_minor": 5
}
