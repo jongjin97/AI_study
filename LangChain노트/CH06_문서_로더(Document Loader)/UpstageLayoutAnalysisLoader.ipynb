{
 "cells": [
  {
   "metadata": {},
   "cell_type": "markdown",
   "source": "# UpstageLayoutAnalysisLoader",
   "id": "695df754f36a1819"
  },
  {
   "cell_type": "code",
   "id": "initial_id",
   "metadata": {
    "collapsed": true,
    "ExecuteTime": {
     "end_time": "2025-04-01T09:05:24.966527Z",
     "start_time": "2025-04-01T09:05:24.946920Z"
    }
   },
   "source": [
    "from dotenv import load_dotenv\n",
    "\n",
    "# API KEY 정보로드\n",
    "load_dotenv()"
   ],
   "outputs": [
    {
     "data": {
      "text/plain": [
       "True"
      ]
     },
     "execution_count": 1,
     "metadata": {},
     "output_type": "execute_result"
    }
   ],
   "execution_count": 1
  },
  {
   "metadata": {
    "ExecuteTime": {
     "end_time": "2025-04-01T09:05:28.633458Z",
     "start_time": "2025-04-01T09:05:28.625384Z"
    }
   },
   "cell_type": "code",
   "source": [
    "from langchain_teddynote import logging\n",
    "\n",
    "# 프로젝트 이름을 입력합니다.\n",
    "logging.langsmith(\"CH07-DocumentLoader\")"
   ],
   "id": "bb024aaef7dee72b",
   "outputs": [
    {
     "name": "stdout",
     "output_type": "stream",
     "text": [
      "LangSmith 추적을 시작합니다.\n",
      "[프로젝트명]\n",
      "CH07-DocumentLoader\n"
     ]
    }
   ],
   "execution_count": 2
  },
  {
   "metadata": {},
   "cell_type": "code",
   "outputs": [],
   "execution_count": null,
   "source": "from langchain_upstage",
   "id": "cf1b6d91d8261f73"
  },
  {
   "metadata": {},
   "cell_type": "markdown",
   "source": "This is documentation for LangChain v0.1, which is no longer actively maintained.\n",
   "id": "1a2e67995fb5e0b9"
  },
  {
   "metadata": {
    "ExecuteTime": {
     "end_time": "2025-04-01T09:07:12.110631Z",
     "start_time": "2025-04-01T09:07:12.087641Z"
    }
   },
   "cell_type": "code",
   "source": [
    "from langchain_upstage import UpstageLayoutAnalysisLoader\n",
    "\n",
    "# 파일 경로\n",
    "file_path = \"./data/SPRI_AI_Brief_2023년12월호_F.pdf\"\n",
    "\n",
    "# 문서 로더 설정\n",
    "loader = UpstageLayoutAnalysisLoader(\n",
    "    file_path,\n",
    "    output_type=\"text\",\n",
    "    split=\"page\",\n",
    "    use_ocr=True,\n",
    "    exclude=[\"header\", \"footer\"],\n",
    ")\n",
    "\n",
    "# 문서 로드\n",
    "docs = loader.load()\n",
    "\n",
    "# 결과 출력\n",
    "for doc in docs[:3]:\n",
    "    print(doc)"
   ],
   "id": "fee03c2f7f88e938",
   "outputs": [
    {
     "ename": "ImportError",
     "evalue": "cannot import name 'UpstageLayoutAnalysisLoader' from 'langchain_upstage' (C:\\Users\\kakao\\AI_study\\.venv\\Lib\\site-packages\\langchain_upstage\\__init__.py)",
     "output_type": "error",
     "traceback": [
      "\u001B[31m---------------------------------------------------------------------------\u001B[39m",
      "\u001B[31mImportError\u001B[39m                               Traceback (most recent call last)",
      "\u001B[36mCell\u001B[39m\u001B[36m \u001B[39m\u001B[32mIn[4]\u001B[39m\u001B[32m, line 1\u001B[39m\n\u001B[32m----> \u001B[39m\u001B[32m1\u001B[39m \u001B[38;5;28;01mfrom\u001B[39;00m\u001B[38;5;250m \u001B[39m\u001B[34;01mlangchain_upstage\u001B[39;00m\u001B[38;5;250m \u001B[39m\u001B[38;5;28;01mimport\u001B[39;00m UpstageLayoutAnalysisLoader\n\u001B[32m      3\u001B[39m \u001B[38;5;66;03m# 파일 경로\u001B[39;00m\n\u001B[32m      4\u001B[39m file_path = \u001B[33m\"\u001B[39m\u001B[33m./data/SPRI_AI_Brief_2023년12월호_F.pdf\u001B[39m\u001B[33m\"\u001B[39m\n",
      "\u001B[31mImportError\u001B[39m: cannot import name 'UpstageLayoutAnalysisLoader' from 'langchain_upstage' (C:\\Users\\kakao\\AI_study\\.venv\\Lib\\site-packages\\langchain_upstage\\__init__.py)"
     ]
    }
   ],
   "execution_count": 4
  },
  {
   "metadata": {
    "ExecuteTime": {
     "end_time": "2025-04-01T09:09:49.759409Z",
     "start_time": "2025-04-01T09:09:38.278444Z"
    }
   },
   "cell_type": "code",
   "source": [
    "from langchain_upstage import UpstageDocumentParseLoader\n",
    "\n",
    "# 파일 경로\n",
    "file_path = \"./data/SPRI_AI_Brief_2023년12월호_F.pdf\"\n",
    "\n",
    "# 문서 로더 설정\n",
    "loader = UpstageDocumentParseLoader(\n",
    "    file_path,\n",
    "    split=\"page\",\n",
    ")\n",
    "\n",
    "# 문서 로드\n",
    "docs = loader.load()\n",
    "\n",
    "# 결과 출력\n",
    "for doc in docs[:3]:\n",
    "    print(doc)"
   ],
   "id": "9cc2f57436b2d3ce",
   "outputs": [
    {
     "name": "stdout",
     "output_type": "stream",
     "text": [
      "page_content='<h1 id='0' style='font-size:14px'>2023년 12월호</h1> <figure id='1'><img alt=\"\" data-coord=\"top-left:(20,750); bottom-right:(1385,1472)\" /></figure>' metadata={'page': 1, 'coordinates': [[{'x': 0.4133, 'y': 0.3281}, {'x': 0.5855, 'y': 0.3281}, {'x': 0.5855, 'y': 0.3537}, {'x': 0.4133, 'y': 0.3537}], [{'x': 0.0159, 'y': 0.4198}, {'x': 1.0867, 'y': 0.4198}, {'x': 1.0867, 'y': 0.8233}, {'x': 0.0159, 'y': 0.8233}]]}\n",
      "page_content='<p id='2' data-category='paragraph' style='font-size:16px'>2023년 12월호</p> <h1 id='3' style='font-size:20px'>Ⅰ. 인공지능 산업 동향 브리프</h1> <p id='4' data-category='paragraph' style='font-size:18px'>1. 정책/법제</p> <br><p id='5' data-category='list' style='font-size:14px'>▹ 미국, 안전하고 신뢰할 수 있는 AI 개발과 사용에 관한 행정명령 발표 ························· 1<br>▹ G7, 히로시마 AI 프로세스를 통해 AI 기업 대상 국제 행동강령에 합의 ··························· 2<br>▹ 영국 AI 안전성 정상회의에 참가한 28개국, AI 위험에 공동 대응 선언 ··························· 3<br>▹ 미국 법원, 예술가들이 생성 AI 기업에 제기한 저작권 소송 기각 ····································· 4<br>▹ 미국 연방거래위원회, 저작권청에 소비자 보호와 경쟁 측면의 AI 의견서 제출 ················· 5<br>▹ EU AI 법 3자 협상, 기반모델 규제 관련 견해차로 난항 ··················································· 6</p> <p id='6' data-category='paragraph' style='font-size:18px'>2. 기업/산업</p> <br><p id='7' data-category='list' style='font-size:14px'>▹ 미국 프런티어 모델 포럼, 1,000만 달러 규모의 AI 안전 기금 조성 ································ 7<br>▹ 코히어, 데이터 투명성 확보를 위한 데이터 출처 탐색기 공개 ······································· 8<br>▹ 알리바바 클라우드, 최신 LLM ‘통이치엔원 2.0’ 공개 ······················································ 9<br>▹ 삼성전자, 자체 개발 생성 AI ‘삼성 가우스’ 공개 ··························································· 10<br>▹ 구글, 앤스로픽에 20억 달러 투자로 생성 AI 협력 강화 ················································ 11<br>▹ IDC, 2027년 AI 소프트웨어 매출 2,500억 달러 돌파 전망 ··········································· 12<br>▹ 빌 게이츠, AI 에이전트로 인한 컴퓨터 사용의 패러다임 변화 전망 ································ 13<br>▹ 유튜브, 2024년부터 AI 생성 콘텐츠 표시 의무화 ···························································· 14</p> <p id='8' data-category='paragraph' style='font-size:18px'>3. 기술/연구</p> <br><p id='9' data-category='list' style='font-size:14px'>▹ 영국 과학혁신기술부, AI 안전 연구소 설립 발표 ······························································ 15<br>▹ 구글 딥마인드, 범용 AI 모델의 기능과 동작에 대한 분류 체계 발표 ······························ 16<br>▹ 갈릴레오의 LLM 환각 지수 평가에서 GPT-4가 가장 우수 ··········································· 17</p> <p id='10' data-category='paragraph' style='font-size:18px'>4. 인력/교육</p> <br><p id='11' data-category='paragraph' style='font-size:14px'>▹ 영국 옥스퍼드 인터넷 연구소, AI 기술자의 임금이 평균 21% 높아 ······························· 18</p> <h1 id='12' style='font-size:22px'>Ⅱ. 주요 행사</h1> <p id='13' data-category='list' style='font-size:14px'>▹CES 2024 ····························································································································· 19<br>▹AIMLA 2024 ························································································································· 19<br>▹AAAI Conference on Artificial Intelligence ·································································· 19</p>' metadata={'page': 2, 'coordinates': [[{'x': 0.7927, 'y': 0.0658}, {'x': 0.913, 'y': 0.0658}, {'x': 0.913, 'y': 0.0829}, {'x': 0.7927, 'y': 0.0829}], [{'x': 0.3444, 'y': 0.2529}, {'x': 0.6842, 'y': 0.2529}, {'x': 0.6842, 'y': 0.2797}, {'x': 0.3444, 'y': 0.2797}], [{'x': 0.2635, 'y': 0.3135}, {'x': 0.3623, 'y': 0.3135}, {'x': 0.3623, 'y': 0.3303}, {'x': 0.2635, 'y': 0.3303}], [{'x': 0.2794, 'y': 0.3342}, {'x': 0.918, 'y': 0.3342}, {'x': 0.918, 'y': 0.4429}, {'x': 0.2794, 'y': 0.4429}], [{'x': 0.2623, 'y': 0.4564}, {'x': 0.3627, 'y': 0.4564}, {'x': 0.3627, 'y': 0.4737}, {'x': 0.2623, 'y': 0.4737}], [{'x': 0.2781, 'y': 0.4783}, {'x': 0.9176, 'y': 0.4783}, {'x': 0.9176, 'y': 0.624}, {'x': 0.2781, 'y': 0.624}], [{'x': 0.2626, 'y': 0.6382}, {'x': 0.3625, 'y': 0.6382}, {'x': 0.3625, 'y': 0.6545}, {'x': 0.2626, 'y': 0.6545}], [{'x': 0.2817, 'y': 0.6578}, {'x': 0.9167, 'y': 0.6578}, {'x': 0.9167, 'y': 0.7119}, {'x': 0.2817, 'y': 0.7119}], [{'x': 0.2627, 'y': 0.733}, {'x': 0.3627, 'y': 0.733}, {'x': 0.3627, 'y': 0.7496}, {'x': 0.2627, 'y': 0.7496}], [{'x': 0.2867, 'y': 0.7537}, {'x': 0.9164, 'y': 0.7537}, {'x': 0.9164, 'y': 0.7696}, {'x': 0.2867, 'y': 0.7696}], [{'x': 0.3272, 'y': 0.8301}, {'x': 0.4919, 'y': 0.8301}, {'x': 0.4919, 'y': 0.8564}, {'x': 0.3272, 'y': 0.8564}], [{'x': 0.2815, 'y': 0.8884}, {'x': 0.9178, 'y': 0.8884}, {'x': 0.9178, 'y': 0.9439}, {'x': 0.2815, 'y': 0.9439}]]}\n",
      "page_content='<h1 id='14' style='font-size:14px'>Ⅰ. 인공지능 산업 동향 브리프</h1>' metadata={'page': 3, 'coordinates': [[{'x': 0.2317, 'y': 0.3758}, {'x': 0.7847, 'y': 0.3758}, {'x': 0.7847, 'y': 0.4139}, {'x': 0.2317, 'y': 0.4139}]]}\n"
     ]
    }
   ],
   "execution_count": 5
  }
 ],
 "metadata": {
  "kernelspec": {
   "display_name": "Python 3",
   "language": "python",
   "name": "python3"
  },
  "language_info": {
   "codemirror_mode": {
    "name": "ipython",
    "version": 2
   },
   "file_extension": ".py",
   "mimetype": "text/x-python",
   "name": "python",
   "nbconvert_exporter": "python",
   "pygments_lexer": "ipython2",
   "version": "2.7.6"
  }
 },
 "nbformat": 4,
 "nbformat_minor": 5
}
