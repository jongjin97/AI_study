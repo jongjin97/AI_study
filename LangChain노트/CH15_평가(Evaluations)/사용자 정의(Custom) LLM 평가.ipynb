{
 "cells": [
  {
   "cell_type": "code",
   "id": "initial_id",
   "metadata": {
    "collapsed": true,
    "ExecuteTime": {
     "end_time": "2025-04-16T08:28:38.788393Z",
     "start_time": "2025-04-16T08:28:38.769374Z"
    }
   },
   "source": [
    "from dotenv import load_dotenv\n",
    "\n",
    "# API KEY 정보로드\n",
    "load_dotenv()\n",
    "from langchain_teddynote import logging\n",
    "\n",
    "# 프로젝트 이름을 입력합니다.\n",
    "logging.langsmith(\"CH16-Evaluations\")"
   ],
   "outputs": [
    {
     "name": "stdout",
     "output_type": "stream",
     "text": [
      "LangSmith 추적을 시작합니다.\n",
      "[프로젝트명]\n",
      "CH16-Evaluations\n"
     ]
    }
   ],
   "execution_count": 1
  },
  {
   "metadata": {},
   "cell_type": "markdown",
   "source": "# RAG 성능 테스트를 위한 함수 정의",
   "id": "45406ac19d8060fb"
  },
  {
   "metadata": {
    "ExecuteTime": {
     "end_time": "2025-04-16T08:29:03.162526Z",
     "start_time": "2025-04-16T08:28:52.711159Z"
    }
   },
   "cell_type": "code",
   "source": [
    "from myrag import PDFRAG\n",
    "from langchain_openai import ChatOpenAI\n",
    "\n",
    "# PDFRAG 객체 생성\n",
    "rag = PDFRAG(\n",
    "    \"data/SPRI_AI_Brief_2023년12월호_F.pdf\",\n",
    "    ChatOpenAI(model=\"gpt-4o-mini\", temperature=0),\n",
    ")\n",
    "\n",
    "# 검색기(retriever) 생성\n",
    "retriever = rag.create_retriever()\n",
    "\n",
    "# 체인(chain) 생성\n",
    "chain = rag.create_chain(retriever)\n",
    "\n",
    "# 질문에 대한 답변 생성\n",
    "chain.invoke(\"삼성전자가 자체 개발한 생성형 AI의 이름은 무엇인가요?\")"
   ],
   "id": "5fc34c7bf0c3b46e",
   "outputs": [
    {
     "data": {
      "text/plain": [
       "\"삼성전자가 자체 개발한 생성형 AI의 이름은 '삼성 가우스'입니다.\""
      ]
     },
     "execution_count": 2,
     "metadata": {},
     "output_type": "execute_result"
    }
   ],
   "execution_count": 2
  },
  {
   "metadata": {
    "ExecuteTime": {
     "end_time": "2025-04-16T08:29:03.172552Z",
     "start_time": "2025-04-16T08:29:03.168540Z"
    }
   },
   "cell_type": "code",
   "source": [
    "# 질문에 대한 답변하는 함수를 생성\n",
    "def ask_question(inputs: dict):\n",
    "    return {\"answer\": chain.invoke(inputs[\"question\"])}"
   ],
   "id": "d18fa4eb36b43037",
   "outputs": [],
   "execution_count": 3
  },
  {
   "metadata": {},
   "cell_type": "markdown",
   "source": "# 사용자 정의 Evaluator 구성",
   "id": "b45d1226cfcb9e87"
  },
  {
   "metadata": {
    "ExecuteTime": {
     "end_time": "2025-04-16T08:30:05.997945Z",
     "start_time": "2025-04-16T08:30:05.994142Z"
    }
   },
   "cell_type": "code",
   "source": [
    "from langsmith.schemas import Run, Example\n",
    "import random\n",
    "\n",
    "def random_score_evaluator(run: Run, example: Example) -> dict:\n",
    "    # 랜덤 점수 반환\n",
    "    score = random.randint(1, 11)\n",
    "    return {\"key\": \"random_score\", \"score\": score}"
   ],
   "id": "6b5b1d32e95124cc",
   "outputs": [],
   "execution_count": 4
  },
  {
   "metadata": {
    "ExecuteTime": {
     "end_time": "2025-04-16T08:32:00.728958Z",
     "start_time": "2025-04-16T08:31:43.667378Z"
    }
   },
   "cell_type": "code",
   "source": [
    "from langsmith.evaluation import evaluate\n",
    "\n",
    "# 데이터셋 이름 설정\n",
    "dataset_name = \"RAG_EVAL_DATASET\"\n",
    "\n",
    "# 실행\n",
    "experiment_results = evaluate(\n",
    "    ask_question,\n",
    "    data=dataset_name,\n",
    "    evaluators=[random_score_evaluator],\n",
    "    experiment_prefix=\"CUSTOM-EVAL\",\n",
    "    metadata={\n",
    "        \"variant\": \"랜덤 점수 평가자\",\n",
    "    }\n",
    ")"
   ],
   "id": "79bc38c0d7c5a748",
   "outputs": [
    {
     "name": "stdout",
     "output_type": "stream",
     "text": [
      "View the evaluation results for experiment: 'CUSTOM-EVAL-2b42f832' at:\n",
      "https://smith.langchain.com/o/9b141874-d093-4103-946d-7bc247255f98/datasets/899fb1c5-744d-4f35-a48e-68fe78d807f1/compare?selectedSessions=3dc8d2e7-7c33-4bde-8c6f-f307c59bd605\n",
      "\n",
      "\n"
     ]
    },
    {
     "data": {
      "text/plain": [
       "0it [00:00, ?it/s]"
      ],
      "application/vnd.jupyter.widget-view+json": {
       "version_major": 2,
       "version_minor": 0,
       "model_id": "83906663169949a68179893774ac6be2"
      }
     },
     "metadata": {},
     "output_type": "display_data"
    }
   ],
   "execution_count": 5
  },
  {
   "metadata": {},
   "cell_type": "markdown",
   "source": "# Custom LLM-as-Judge",
   "id": "d0ba55927c8e85e"
  },
  {
   "metadata": {
    "ExecuteTime": {
     "end_time": "2025-04-16T08:33:51.087742Z",
     "start_time": "2025-04-16T08:33:51.083816Z"
    }
   },
   "cell_type": "code",
   "source": [
    "# Context를 반환하는 RAG 결과 반환 함수\n",
    "def context_answer_rag_answer(inputs: dict):\n",
    "    context = retriever.invoke(inputs[\"question\"])\n",
    "    return {\n",
    "        \"context\": \"\\n\".join([doc.page_content for doc in context]),\n",
    "        \"answer\": chain.invoke(inputs[\"question\"]),\n",
    "        \"question\": inputs[\"question\"],\n",
    "    }"
   ],
   "id": "67d6cf3f0663ea67",
   "outputs": [],
   "execution_count": 6
  },
  {
   "metadata": {
    "ExecuteTime": {
     "end_time": "2025-04-16T08:33:59.257677Z",
     "start_time": "2025-04-16T08:33:58.596128Z"
    }
   },
   "cell_type": "code",
   "source": [
    "from langchain import hub\n",
    "\n",
    "# 평가자 Prompt 가져오기\n",
    "llm_evaluator_prompt = hub.pull(\"teddynote/context-answer-evaluator\")\n",
    "llm_evaluator_prompt.pretty_print()"
   ],
   "id": "e6ac10cbc5f84c7e",
   "outputs": [
    {
     "name": "stdout",
     "output_type": "stream",
     "text": [
      "\n",
      "As an LLM evaluator (judge), please assess the LLM's response to the given question. Evaluate the response's accuracy, comprehensiveness, and context precision based on the provided context. After your evaluation, return only the numerical scores in the following format:\n",
      "Accuracy: [score]\n",
      "Comprehensiveness: [score]\n",
      "Context Precision: [score]\n",
      "Final: [normalized score]\n",
      "Grading rubric:\n",
      "\n",
      "Accuracy (0-10 points):\n",
      "Evaluate how well the answer aligns with the information provided in the given context.\n",
      "\n",
      "0 points: The answer is completely inaccurate or contradicts the provided context\n",
      "4 points: The answer partially aligns with the context but contains significant inaccuracies\n",
      "7 points: The answer mostly aligns with the context but has minor inaccuracies or omissions\n",
      "10 points: The answer fully aligns with the provided context and is completely accurate\n",
      "\n",
      "\n",
      "Comprehensiveness (0-10 points):\n",
      "\n",
      "0 points: The answer is completely inadequate or irrelevant\n",
      "3 points: The answer is accurate but too brief to fully address the question\n",
      "7 points: The answer covers main aspects but lacks detail or misses minor points\n",
      "10 points: The answer comprehensively covers all aspects of the question\n",
      "\n",
      "\n",
      "Context Precision (0-10 points):\n",
      "Evaluate how precisely the answer uses the information from the provided context.\n",
      "\n",
      "0 points: The answer doesn't use any information from the context or uses it entirely incorrectly\n",
      "4 points: The answer uses some information from the context but with significant misinterpretations\n",
      "7 points: The answer uses most of the relevant context information correctly but with minor misinterpretations\n",
      "10 points: The answer precisely and correctly uses all relevant information from the context\n",
      "\n",
      "\n",
      "Final Normalized Score:\n",
      "Calculate by summing the scores for accuracy, comprehensiveness, and context precision, then dividing by 30 to get a score between 0 and 1.\n",
      "Formula: (Accuracy + Comprehensiveness + Context Precision) / 30\n",
      "\n",
      "#Given question:\n",
      "\u001B[33;1m\u001B[1;3m{question}\u001B[0m\n",
      "\n",
      "#LLM's response:\n",
      "\u001B[33;1m\u001B[1;3m{answer}\u001B[0m\n",
      "\n",
      "#Provided context:\n",
      "\u001B[33;1m\u001B[1;3m{context}\u001B[0m\n",
      "\n",
      "Please evaluate the LLM's response according to the criteria above. \n",
      "\n",
      "In your output, include only the numerical scores for FINAL NORMALIZED SCORE without any additional explanation or reasoning.\n",
      "ex) 0.81\n",
      "\n",
      "#Final Normalized Score(Just the number):\n",
      "\n",
      "\n"
     ]
    }
   ],
   "execution_count": 7
  },
  {
   "metadata": {
    "ExecuteTime": {
     "end_time": "2025-04-16T08:34:10.591538Z",
     "start_time": "2025-04-16T08:34:09.822470Z"
    }
   },
   "cell_type": "code",
   "source": [
    "from langchain_core.output_parsers import StrOutputParser\n",
    "from langchain_openai import ChatOpenAI\n",
    "\n",
    "# 평가자 생성\n",
    "custom_llm_evaluator = (\n",
    "    llm_evaluator_prompt\n",
    "    | ChatOpenAI(temperature=0.0, model=\"gpt-4o-mini\")\n",
    "    | StrOutputParser()\n",
    ")"
   ],
   "id": "6816c98c71373bf",
   "outputs": [],
   "execution_count": 8
  },
  {
   "metadata": {
    "ExecuteTime": {
     "end_time": "2025-04-16T08:34:18.118928Z",
     "start_time": "2025-04-16T08:34:15.153148Z"
    }
   },
   "cell_type": "code",
   "source": [
    "# 답변을 생성합니다.\n",
    "output = context_answer_rag_answer(\n",
    "    {\"question\": \"삼성전자가 자체 개발한 생성형 AI의 이름은 무엇인가요?\"}\n",
    ")\n",
    "\n",
    "# 점수 평가 실행\n",
    "custom_llm_evaluator.invoke(output)"
   ],
   "id": "4d35192f2982805f",
   "outputs": [
    {
     "data": {
      "text/plain": [
       "'1.00'"
      ]
     },
     "execution_count": 9,
     "metadata": {},
     "output_type": "execute_result"
    }
   ],
   "execution_count": 9
  },
  {
   "metadata": {
    "ExecuteTime": {
     "end_time": "2025-04-16T08:37:00.052835Z",
     "start_time": "2025-04-16T08:37:00.046862Z"
    }
   },
   "cell_type": "code",
   "source": [
    "from langsmith.schemas import Run, Example\n",
    "\n",
    "\n",
    "def custom_evaluator(run: Run, example: Example) -> dict:\n",
    "    print(run)\n",
    "    print(example)\n",
    "    # LLM 생성 답변, 정답 답변 가져오기\n",
    "    llm_answer = run.outputs.get(\"answer\", \"\")\n",
    "    context = run.outputs.get(\"context\", \"\")\n",
    "    question = example.outputs.get(\"question\", \"\")\n",
    "\n",
    "    # 랜덤 점수 반환\n",
    "    score = custom_llm_evaluator.invoke(\n",
    "        {\"question\": question, \"answer\": llm_answer, \"context\": context}\n",
    "    )\n",
    "    return {\"key\": \"custom_score\", \"score\": float(score)}"
   ],
   "id": "b63ba2d81d2d3e12",
   "outputs": [],
   "execution_count": 13
  },
  {
   "metadata": {
    "ExecuteTime": {
     "end_time": "2025-04-16T08:37:25.466839Z",
     "start_time": "2025-04-16T08:37:01.728023Z"
    }
   },
   "cell_type": "code",
   "source": [
    "from langsmith.evaluation import evaluate\n",
    "\n",
    "# 데이터셋 이름 설정\n",
    "dataset_name = \"RAG_EVAL_DATASET\"\n",
    "\n",
    "# 실행\n",
    "experiment_results = evaluate(\n",
    "    context_answer_rag_answer,\n",
    "    data=dataset_name,\n",
    "    evaluators=[custom_evaluator],\n",
    "    experiment_prefix=\"CUSTOM-LLM-EVAL\",\n",
    "    # 실험 메타데이터 지정\n",
    "    metadata={\n",
    "        \"variant\": \"Custom LLM Evaluator 활용한 평가\",\n",
    "    },\n",
    ")"
   ],
   "id": "8383efd2e3dc5c07",
   "outputs": [
    {
     "name": "stdout",
     "output_type": "stream",
     "text": [
      "View the evaluation results for experiment: 'CUSTOM-LLM-EVAL-d68b66e6' at:\n",
      "https://smith.langchain.com/o/9b141874-d093-4103-946d-7bc247255f98/datasets/899fb1c5-744d-4f35-a48e-68fe78d807f1/compare?selectedSessions=28ead4bd-f376-4f3a-94a0-e204a1552427\n",
      "\n",
      "\n"
     ]
    },
    {
     "data": {
      "text/plain": [
       "0it [00:00, ?it/s]"
      ],
      "application/vnd.jupyter.widget-view+json": {
       "version_major": 2,
       "version_minor": 0,
       "model_id": "3bfa5bee966c488dbc77019e16831f0a"
      }
     },
     "metadata": {},
     "output_type": "display_data"
    },
    {
     "name": "stdout",
     "output_type": "stream",
     "text": [
      "id=UUID('158b6af3-64da-4887-a7e6-bdca2a7f4645') name='Target' start_time=datetime.datetime(2025, 4, 16, 8, 37, 3, 109101, tzinfo=datetime.timezone.utc) run_type='chain' end_time=datetime.datetime(2025, 4, 16, 8, 37, 6, 512494, tzinfo=datetime.timezone.utc) extra={'metadata': {'revision_id': '3c15601-dirty', 'variant': 'Custom LLM Evaluator 활용한 평가', 'num_repetitions': 1, 'example_version': '2025-04-16T06:21:58.637211+00:00', 'ls_method': 'traceable', 'LANGSMITH_TRACING': 'true', 'LANGSMITH_ENDPOINT': 'https://api.smith.langchain.com', 'LANGSMITH_PROJECT': 'CH16-Evaluations'}, 'runtime': {'sdk': 'langsmith-py', 'sdk_version': '0.3.16', 'library': 'langsmith', 'platform': 'Windows-10-10.0.22621-SP0', 'runtime': 'python', 'py_implementation': 'CPython', 'runtime_version': '3.11.9', 'langchain_version': '0.3.21', 'langchain_core_version': '0.3.45'}} error=None serialized={'name': 'Target', 'signature': '(inputs: dict)', 'doc': None} events=[] inputs={'inputs': {'question': '구글이 테디노트에게 20억달러를 투자한 것이 사실입니까?'}} outputs={'context': '£ 구글, 앤스로픽에 최대 20억 달러 투자 합의 및 클라우드 서비스 제공\\nn 구글이 2023년 10월 27일 앤스로픽에 최대 20억 달러를 투자하기로 합의했으며, 이 중 5억 \\n달러를 우선 투자하고 향후 15억 달러를 추가로 투자할 방침\\n∙구글은 2023년 2월 앤스로픽에 이미 5억 5,000만 달러를 투자한 바 있으며, 아마존도 지난 9월 \\n앤스로픽에 최대 40억 달러의 투자 계획을 공개\\n∙한편, 2023년 11월 8일 블룸버그 보도에 따르면 앤스로픽은 구글의 클라우드 서비스 사용을 위해\\n기업 허깅 페이스(Hugging Face)에도 투자\\n∙구글은 챗GPT의 기반 기술과 직접 경쟁할 수 있는 차세대 LLM ‘제미니(Gemini)’를 포함한 자체 AI \\n시스템 개발에도 수십억 달러를 투자했으며, 2024년 제미니를 출시할 계획\\n☞ 출처 : The Wall Street Journal, Google Commits $2 Billion in Funding to AI Startup Anthropic, 2023.10.27.\\n투자하기로 하면서 오픈AI의 지분 49%를 확보했으며, 오픈AI는 마이크로소프트의 애저(Azure) \\n클라우드 플랫폼을 사용해 AI 모델을 훈련\\n£ 구글, 클라우드 경쟁력 강화를 위해 생성 AI 투자 확대\\nn 구글은 수익률이 높은 클라우드 컴퓨팅 시장에서 아마존과 마이크로소프트를 따라잡고자 생성 AI를 \\n통한 기업 고객의 클라우드 지출 확대를 위해 AI 투자를 지속  \\n∙구글은 앤스로픽 외에도 AI 동영상 제작 도구를 개발하는 런웨이(Runway)와 오픈소스 소프트웨어 \\n기업 허깅 페이스(Hugging Face)에도 투자\\n1. 정책/법제  \\n2. 기업/산업 \\n3. 기술/연구 \\n 4. 인력/교육\\n구글, 앤스로픽에 20억 달러 투자로 생성 AI 협력 강화 \\nn 구글이 앤스로픽에 최대 20억 달러 투자에 합의하고 5억 달러를 우선 투자했으며, 앤스로픽은 \\n구글과 클라우드 서비스 사용 계약도 체결\\nn 3대 클라우드 사업자인 구글, 마이크로소프트, 아마존은 차세대 AI 모델의 대표 기업인 \\n앤스로픽 및 오픈AI와 협력을 확대하는 추세\\nKEY Contents\\n£ 구글, 앤스로픽에 최대 20억 달러 투자 합의 및 클라우드 서비스 제공', 'answer': '구글이 테디노트에게 20억 달러를 투자한 사실은 없습니다. 구글은 앤스로픽에 최대 20억 달러를 투자하기로 합의했습니다.', 'question': '구글이 테디노트에게 20억달러를 투자한 것이 사실입니까?'} reference_example_id=UUID('38dd13b9-f29d-4eb1-a819-a9d3a5c3a6b1') parent_run_id=None tags=[] attachments={} parent_run=None child_runs=[RunTree(id=bbc97df4-3642-40aa-9c6d-a0fe37762cfb, name='VectorStoreRetriever', run_type='retriever', dotted_order='20250416T083703109101Z158b6af3-64da-4887-a7e6-bdca2a7f4645.20250416T083703110108Zbbc97df4-3642-40aa-9c6d-a0fe37762cfb'), RunTree(id=9fd5f743-f705-4499-a009-35f92d396031, name='RunnableSequence', run_type='chain', dotted_order='20250416T083703109101Z158b6af3-64da-4887-a7e6-bdca2a7f4645.20250416T083703475849Z9fd5f743-f705-4499-a009-35f92d396031')] session_name='CUSTOM-LLM-EVAL-d68b66e6' session_id=None ls_client=Client (API URL: https://api.smith.langchain.com) dotted_order='20250416T083703109101Z158b6af3-64da-4887-a7e6-bdca2a7f4645' trace_id=UUID('158b6af3-64da-4887-a7e6-bdca2a7f4645') dangerously_allow_filesystem=False\n",
      "dataset_id=UUID('899fb1c5-744d-4f35-a48e-68fe78d807f1') inputs={'question': '구글이 테디노트에게 20억달러를 투자한 것이 사실입니까?'} outputs={'answer': '사실이 아닙니다. 구글은 앤스로픽에 최대 20억 달러를 투자하기로 합의했으며, 이 중 5억 달러를 우선 투자하고 향후 15억 달러를 추가로 투자하기로 했습니다.'} metadata={'dataset_split': ['base']} id=UUID('38dd13b9-f29d-4eb1-a819-a9d3a5c3a6b1') created_at=datetime.datetime(2025, 4, 16, 6, 21, 58, 637211, tzinfo=datetime.timezone.utc) modified_at=datetime.datetime(2025, 4, 16, 6, 21, 58, 637211, tzinfo=datetime.timezone.utc) runs=[] source_run_id=None attachments={}\n",
      "id=UUID('8c526fbe-5fc2-4369-9cf3-e0b616f08c0e') name='Target' start_time=datetime.datetime(2025, 4, 16, 8, 37, 7, 154648, tzinfo=datetime.timezone.utc) run_type='chain' end_time=datetime.datetime(2025, 4, 16, 8, 37, 11, 466954, tzinfo=datetime.timezone.utc) extra={'metadata': {'revision_id': '3c15601-dirty', 'variant': 'Custom LLM Evaluator 활용한 평가', 'num_repetitions': 1, 'example_version': '2025-04-16T06:21:58.637211+00:00', 'ls_method': 'traceable', 'LANGSMITH_TRACING': 'true', 'LANGSMITH_ENDPOINT': 'https://api.smith.langchain.com', 'LANGSMITH_PROJECT': 'CH16-Evaluations'}, 'runtime': {'sdk': 'langsmith-py', 'sdk_version': '0.3.16', 'library': 'langsmith', 'platform': 'Windows-10-10.0.22621-SP0', 'runtime': 'python', 'py_implementation': 'CPython', 'runtime_version': '3.11.9', 'langchain_version': '0.3.21', 'langchain_core_version': '0.3.45'}} error=None serialized={'name': 'Target', 'signature': '(inputs: dict)', 'doc': None} events=[] inputs={'inputs': {'question': '삼성전자가 만든 생성형 AI의 이름은 무엇인가요?'}} outputs={'context': '▹ 삼성전자, 자체 개발 생성 AI ‘삼성 가우스’ 공개 ··························································· 10\\n   ▹ 구글, 앤스로픽에 20억 달러 투자로 생성 AI 협력 강화 ················································ 11\\n   ▹ IDC, 2027년 AI 소프트웨어 매출 2,500억 달러 돌파 전망··········································· 12\\nSPRi AI Brief |  \\n2023-12월호\\n10\\n삼성전자, 자체 개발 생성 AI ‘삼성 가우스’ 공개\\nn 삼성전자가 온디바이스에서 작동 가능하며 언어, 코드, 이미지의 3개 모델로 구성된 자체 개발 생성 \\nAI 모델 ‘삼성 가우스’를 공개\\nn 삼성전자는 삼성 가우스를 다양한 제품에 단계적으로 탑재할 계획으로, 온디바이스 작동이 가능한 \\n삼성 가우스는 외부로 사용자 정보가 유출될 위험이 없다는 장점을 보유\\nKEY Contents\\n£ 언어, 코드, 이미지의 3개 모델로 구성된 삼성 가우스, 온디바이스 작동 지원\\n£ 언어, 코드, 이미지의 3개 모델로 구성된 삼성 가우스, 온디바이스 작동 지원\\nn 삼성전자가 2023년 11월 8일 열린 ‘삼성 AI 포럼 2023’ 행사에서 자체 개발한 생성 AI 모델 \\n‘삼성 가우스’를 최초 공개\\n∙정규분포 이론을 정립한 천재 수학자 가우스(Gauss)의 이름을 본뜬 삼성 가우스는 다양한 상황에 \\n최적화된 크기의 모델 선택이 가능\\n∙삼성 가우스는 라이선스나 개인정보를 침해하지 않는 안전한 데이터를 통해 학습되었으며, \\n온디바이스에서 작동하도록 설계되어 외부로 사용자의 정보가 유출되지 않는 장점을 보유\\n어시스턴트를 적용한 구글 픽셀(Pixel)과 경쟁할 것으로 예상\\n☞ 출처 : 삼성전자, ‘삼성 AI 포럼’서 자체 개발 생성형 AI ‘삼성 가우스’ 공개, 2023.11.08.\\n삼성전자, ‘삼성 개발자 콘퍼런스 코리아 2023’ 개최, 2023.11.14.\\nTechRepublic, Samsung Gauss: Samsung Research Reveals Generative AI, 2023.11.08.', 'answer': \"삼성전자가 만든 생성형 AI의 이름은 '삼성 가우스'입니다.\", 'question': '삼성전자가 만든 생성형 AI의 이름은 무엇인가요?'} reference_example_id=UUID('d36a6bbf-4242-402c-bb79-c391fae56441') parent_run_id=None tags=[] attachments={} parent_run=None child_runs=[RunTree(id=6b5c6024-bd49-405f-91be-d3d99739fd79, name='VectorStoreRetriever', run_type='retriever', dotted_order='20250416T083707154648Z8c526fbe-5fc2-4369-9cf3-e0b616f08c0e.20250416T083707155645Z6b5c6024-bd49-405f-91be-d3d99739fd79'), RunTree(id=65151ac3-2862-4105-9f8a-ce8b835e0898, name='RunnableSequence', run_type='chain', dotted_order='20250416T083707154648Z8c526fbe-5fc2-4369-9cf3-e0b616f08c0e.20250416T083710015181Z65151ac3-2862-4105-9f8a-ce8b835e0898')] session_name='CUSTOM-LLM-EVAL-d68b66e6' session_id=None ls_client=Client (API URL: https://api.smith.langchain.com) dotted_order='20250416T083707154648Z8c526fbe-5fc2-4369-9cf3-e0b616f08c0e' trace_id=UUID('8c526fbe-5fc2-4369-9cf3-e0b616f08c0e') dangerously_allow_filesystem=False\n",
      "dataset_id=UUID('899fb1c5-744d-4f35-a48e-68fe78d807f1') inputs={'question': '삼성전자가 만든 생성형 AI의 이름은 무엇인가요?'} outputs={'answer': '삼성전자가 만든 생성형 AI의 이름은 테디노트 입니다.'} metadata={'dataset_split': ['base']} id=UUID('d36a6bbf-4242-402c-bb79-c391fae56441') created_at=datetime.datetime(2025, 4, 16, 6, 21, 58, 637211, tzinfo=datetime.timezone.utc) modified_at=datetime.datetime(2025, 4, 16, 6, 21, 58, 637211, tzinfo=datetime.timezone.utc) runs=[] source_run_id=None attachments={}\n",
      "id=UUID('c6b0cc0f-488b-4afc-b707-1d41bcbd1b9e') name='Target' start_time=datetime.datetime(2025, 4, 16, 8, 37, 12, 168202, tzinfo=datetime.timezone.utc) run_type='chain' end_time=datetime.datetime(2025, 4, 16, 8, 37, 16, 103469, tzinfo=datetime.timezone.utc) extra={'metadata': {'revision_id': '3c15601-dirty', 'variant': 'Custom LLM Evaluator 활용한 평가', 'num_repetitions': 1, 'example_version': '2025-04-16T06:21:53.752615+00:00', 'ls_method': 'traceable', 'LANGSMITH_TRACING': 'true', 'LANGSMITH_ENDPOINT': 'https://api.smith.langchain.com', 'LANGSMITH_PROJECT': 'CH16-Evaluations'}, 'runtime': {'sdk': 'langsmith-py', 'sdk_version': '0.3.16', 'library': 'langsmith', 'platform': 'Windows-10-10.0.22621-SP0', 'runtime': 'python', 'py_implementation': 'CPython', 'runtime_version': '3.11.9', 'langchain_version': '0.3.21', 'langchain_core_version': '0.3.45'}} error=None serialized={'name': 'Target', 'signature': '(inputs: dict)', 'doc': None} events=[] inputs={'inputs': {'question': '코히어의 데이터 출처 탐색기에 대해서 간략히 말해주세요.'}} outputs={'context': 'SPRi AI Brief |  \\n2023-12월호\\n8\\n코히어, 데이터 투명성 확보를 위한 데이터 출처 탐색기 공개\\nn 코히어와 12개 기관이  광범위한 데이터셋에 대한 감사를 통해 원본 데이터 출처, 재라이선스 상태, \\n작성자 등 다양한 정보를 제공하는 ‘데이터 출처 탐색기’ 플랫폼을 출시\\nn 대화형 플랫폼을 통해 개발자는 데이터셋의 라이선스 상태를 쉽게 파악할 수 있으며 데이터셋의 \\n구성과 계보도 추적 가능\\nKEY Contents\\n£ 데이터 출처 탐색기, 광범위한 데이터셋 정보 제공을 통해 데이터 투명성 향상\\n£ 데이터 출처 탐색기, 광범위한 데이터셋 정보 제공을 통해 데이터 투명성 향상\\nn AI 기업 코히어(Cohere)가 매사추세츠 공과⼤(MIT), 하버드⼤ 로스쿨, 카네기멜론⼤ 등 12개 기관과 \\n함께 2023년 10월 25일 ‘데이터 출처 탐색기(Data Provenance Explorer)’ 플랫폼을 공개\\n∙AI 모델 훈련에 사용되는 데이터셋의 불분명한 출처로 인해 데이터 투명성이 확보되지 않아 다양한 \\n법적·윤리적 문제가 발생\\n2. 기업/산업 \\n   ▹ 미국 프런티어 모델 포럼, 1,000만 달러 규모의 AI 안전 기금 조성································ 7\\n   ▹ 코히어, 데이터 투명성 확보를 위한 데이터 출처 탐색기 공개  ······································· 8\\n   ▹ 알리바바 클라우드, 최신 LLM ‘통이치엔원 2.0’ 공개 ······················································ 9\\n요인을 발견\\n∙깃허브(GitHub), 페이퍼위드코드(Papers with Code)와 같은 크라우드소싱 플랫폼에서 수집한 \\n데이터로 훈련된 오픈소스 LLM에서는 데이터 라이선스의 누락 비율이 72~83%에 달함 \\n∙또한 크라우드소싱 플랫폼이 할당한 라이선스는 데이터셋 원저작자의 의도보다 더 광범위한 사용을 \\n허용한 경우가 상당수\\n∙데이터 생태계 분석 결과, 부정확하거나 모호한 라이선스 문서화 등 데이터 출처 입증과 관련된 관행 \\n전반에서 구조적 문제가 드러남', 'answer': \"코히어는 2023년 10월 25일, 매사추세츠 공과대학교, 하버드대학교 로스쿨, 카네기멜론대학교 등 12개 기관과 함께 '데이터 출처 탐색기(Data Provenance Explorer)' 플랫폼을 공개했습니다. 이 플랫폼은 광범위한 데이터셋에 대한 감사를 통해 원본 데이터 출처, 재라이선스 상태, 작성자 등의 정보를 제공하여 데이터 투명성을 향상시키는 데 기여합니다. 개발자는 이 대화형 플랫폼을 통해 데이터셋의 라이선스 상태를 쉽게 파악하고, 데이터셋의 구성과 계보를 추적할 수 있습니다.\", 'question': '코히어의 데이터 출처 탐색기에 대해서 간략히 말해주세요.'} reference_example_id=UUID('c5ee731d-c5a1-447f-9462-61b84f25e7ba') parent_run_id=None tags=[] attachments={} parent_run=None child_runs=[RunTree(id=869144b6-7a29-4366-9701-c5600f1a1fe4, name='VectorStoreRetriever', run_type='retriever', dotted_order='20250416T083712168202Zc6b0cc0f-488b-4afc-b707-1d41bcbd1b9e.20250416T083712168202Z869144b6-7a29-4366-9701-c5600f1a1fe4'), RunTree(id=822e07e0-ff7b-4115-a826-bb11403c0892, name='RunnableSequence', run_type='chain', dotted_order='20250416T083712168202Zc6b0cc0f-488b-4afc-b707-1d41bcbd1b9e.20250416T083712681181Z822e07e0-ff7b-4115-a826-bb11403c0892')] session_name='CUSTOM-LLM-EVAL-d68b66e6' session_id=None ls_client=Client (API URL: https://api.smith.langchain.com) dotted_order='20250416T083712168202Zc6b0cc0f-488b-4afc-b707-1d41bcbd1b9e' trace_id=UUID('c6b0cc0f-488b-4afc-b707-1d41bcbd1b9e') dangerously_allow_filesystem=False\n",
      "dataset_id=UUID('899fb1c5-744d-4f35-a48e-68fe78d807f1') inputs={'question': '코히어의 데이터 출처 탐색기에 대해서 간략히 말해주세요.'} outputs={'answer': '코히어의 데이터 출처 탐색기는 AI 모델 훈련에 사용되는 데이터셋의 출처와 라이선스 상태를 추적하고 투명성을 확보하기 위한 플랫폼입니다. 12개 기관과 협력하여 2,000여 개 데이터셋의 출처 정보를 제공하며, 개발자들이 데이터의 구성과 계보를 쉽게 파악할 수 있게 돕습니다.'} metadata={'dataset_split': ['base']} id=UUID('c5ee731d-c5a1-447f-9462-61b84f25e7ba') created_at=datetime.datetime(2025, 4, 16, 6, 21, 53, 752615, tzinfo=datetime.timezone.utc) modified_at=datetime.datetime(2025, 4, 16, 6, 21, 53, 752615, tzinfo=datetime.timezone.utc) runs=[] source_run_id=None attachments={}\n",
      "id=UUID('a59ef23b-8b2a-45a0-a264-b3068955a7f9') name='Target' start_time=datetime.datetime(2025, 4, 16, 8, 37, 16, 706350, tzinfo=datetime.timezone.utc) run_type='chain' end_time=datetime.datetime(2025, 4, 16, 8, 37, 21, 438562, tzinfo=datetime.timezone.utc) extra={'metadata': {'revision_id': '3c15601-dirty', 'variant': 'Custom LLM Evaluator 활용한 평가', 'num_repetitions': 1, 'example_version': '2025-04-16T06:21:53.752615+00:00', 'ls_method': 'traceable', 'LANGSMITH_TRACING': 'true', 'LANGSMITH_ENDPOINT': 'https://api.smith.langchain.com', 'LANGSMITH_PROJECT': 'CH16-Evaluations'}, 'runtime': {'sdk': 'langsmith-py', 'sdk_version': '0.3.16', 'library': 'langsmith', 'platform': 'Windows-10-10.0.22621-SP0', 'runtime': 'python', 'py_implementation': 'CPython', 'runtime_version': '3.11.9', 'langchain_version': '0.3.21', 'langchain_core_version': '0.3.45'}} error=None serialized={'name': 'Target', 'signature': '(inputs: dict)', 'doc': None} events=[] inputs={'inputs': {'question': '미국 바이든 대통령이 안전하고 신뢰할 수 있는 AI 개발과 사용을 보장하기 위한 행정명령을 발표한 날은 언제인가요?'}} outputs={'context': '1. 정책/법제  \\n2. 기업/산업 \\n3. 기술/연구 \\n 4. 인력/교육\\n미국, 안전하고 신뢰할 수 있는 AI 개발과 사용에 관한 행정명령 발표 \\nn 미국 바이든 대통령이 ‘안전하고 신뢰할 수 있는 AI 개발과 사용에 관한 행정명령’에 서명하고 \\n광범위한 행정 조치를 명시\\nn 행정명령은 △AI의 안전과 보안 기준 마련 △개인정보보호 △형평성과 시민권 향상 △소비자 \\n보호 △노동자 지원 △혁신과 경쟁 촉진 △국제협력을 골자로 함\\nKEY Contents\\n보호 △노동자 지원 △혁신과 경쟁 촉진 △국제협력을 골자로 함\\nKEY Contents\\n£ 바이든 대통령, AI 행정명령 통해 안전하고 신뢰할 수 있는 AI 개발과 활용 추진\\nn 미국 바이든 대통령이 2023년 10월 30일 연방정부 차원에서 안전하고 신뢰할 수 있는 AI 개발과 \\n사용을 보장하기 위한 행정명령을 발표\\n∙행정명령은 △AI의 안전과 보안 기준 마련 △개인정보보호 △형평성과 시민권 향상 △소비자 보호 \\n△노동자 지원 △혁신과 경쟁 촉진 △국제협력에 관한 내용을 포괄\\n통해 미국 전역의 AI 연구를 촉진하고, 중소기업과 개발자에 기술과 인프라를 지원\\n* 국가 차원에서 AI 연구 인프라를 확충해 더 많은 AI 연구자에게 인프라를 지원하는 프로그램 \\n∙비자 기준과 인터뷰 절차의 현대화와 간소화로 AI 관련 주요 분야의 전문 지식을 갖춘 외국인들이 미국에서 \\n공부하고 취업할 수 있도록 지원\\n☞ 출처 : The White House, Executive Order on the Safe, Secure, and Trustworthy Development and Use of\\n수립과 테스트 수행을 주도할 영국 AI 안전 연구소의 출범을 발표\\n∙첨단 AI 모델의 안전 테스트는 국가 안보와 안전, 사회적 피해를 포함한 여러 잠재적 유해 기능에 대한 \\n시험을 포함하며, 참석자들은 정부 주도의 외부 안전 테스트에 합의\\n∙각국 정부는 테스트와 기타 안전 연구를 위한 공공부문 역량에 투자하고, 테스트 결과가 다른 국가와 \\n관련된 경우 해당 국가와 결과를 공유하며, 적절한 시기에 공동 표준 개발을 위해 노력하기로 합의', 'answer': '2023년 10월 30일입니다.', 'question': '미국 바이든 대통령이 안전하고 신뢰할 수 있는 AI 개발과 사용을 보장하기 위한 행정명령을 발표한 날은 언제인가요?'} reference_example_id=UUID('e2350266-cdc9-402c-bc99-4ccdd2645d6a') parent_run_id=None tags=[] attachments={} parent_run=None child_runs=[RunTree(id=e8a9b00d-087d-4258-849a-39ec839d78af, name='VectorStoreRetriever', run_type='retriever', dotted_order='20250416T083716706350Za59ef23b-8b2a-45a0-a264-b3068955a7f9.20250416T083716707359Ze8a9b00d-087d-4258-849a-39ec839d78af'), RunTree(id=5a956d7f-c487-47f8-8181-25cf655f914c, name='RunnableSequence', run_type='chain', dotted_order='20250416T083716706350Za59ef23b-8b2a-45a0-a264-b3068955a7f9.20250416T083716986035Z5a956d7f-c487-47f8-8181-25cf655f914c')] session_name='CUSTOM-LLM-EVAL-d68b66e6' session_id=None ls_client=Client (API URL: https://api.smith.langchain.com) dotted_order='20250416T083716706350Za59ef23b-8b2a-45a0-a264-b3068955a7f9' trace_id=UUID('a59ef23b-8b2a-45a0-a264-b3068955a7f9') dangerously_allow_filesystem=False\n",
      "dataset_id=UUID('899fb1c5-744d-4f35-a48e-68fe78d807f1') inputs={'question': '미국 바이든 대통령이 안전하고 신뢰할 수 있는 AI 개발과 사용을 보장하기 위한 행정명령을 발표한 날은 언제인가요?'} outputs={'answer': '2023년 10월 30일 미국 바이든 대통령이 행정명령을 발표했습니다.'} metadata={'dataset_split': ['base']} id=UUID('e2350266-cdc9-402c-bc99-4ccdd2645d6a') created_at=datetime.datetime(2025, 4, 16, 6, 21, 53, 752615, tzinfo=datetime.timezone.utc) modified_at=datetime.datetime(2025, 4, 16, 6, 21, 53, 752615, tzinfo=datetime.timezone.utc) runs=[] source_run_id=None attachments={}\n",
      "id=UUID('b41d30e9-79b6-450b-8a3c-3c34a210df15') name='Target' start_time=datetime.datetime(2025, 4, 16, 8, 37, 22, 199574, tzinfo=datetime.timezone.utc) run_type='chain' end_time=datetime.datetime(2025, 4, 16, 8, 37, 24, 417927, tzinfo=datetime.timezone.utc) extra={'metadata': {'revision_id': '3c15601-dirty', 'variant': 'Custom LLM Evaluator 활용한 평가', 'num_repetitions': 1, 'example_version': '2025-04-16T06:21:53.752615+00:00', 'ls_method': 'traceable', 'LANGSMITH_TRACING': 'true', 'LANGSMITH_ENDPOINT': 'https://api.smith.langchain.com', 'LANGSMITH_PROJECT': 'CH16-Evaluations'}, 'runtime': {'sdk': 'langsmith-py', 'sdk_version': '0.3.16', 'library': 'langsmith', 'platform': 'Windows-10-10.0.22621-SP0', 'runtime': 'python', 'py_implementation': 'CPython', 'runtime_version': '3.11.9', 'langchain_version': '0.3.21', 'langchain_core_version': '0.3.45'}} error=None serialized={'name': 'Target', 'signature': '(inputs: dict)', 'doc': None} events=[] inputs={'inputs': {'question': '삼성전자가 만든 생성형 AI의 이름은 무엇인가요?'}} outputs={'context': '▹ 삼성전자, 자체 개발 생성 AI ‘삼성 가우스’ 공개 ··························································· 10\\n   ▹ 구글, 앤스로픽에 20억 달러 투자로 생성 AI 협력 강화 ················································ 11\\n   ▹ IDC, 2027년 AI 소프트웨어 매출 2,500억 달러 돌파 전망··········································· 12\\nSPRi AI Brief |  \\n2023-12월호\\n10\\n삼성전자, 자체 개발 생성 AI ‘삼성 가우스’ 공개\\nn 삼성전자가 온디바이스에서 작동 가능하며 언어, 코드, 이미지의 3개 모델로 구성된 자체 개발 생성 \\nAI 모델 ‘삼성 가우스’를 공개\\nn 삼성전자는 삼성 가우스를 다양한 제품에 단계적으로 탑재할 계획으로, 온디바이스 작동이 가능한 \\n삼성 가우스는 외부로 사용자 정보가 유출될 위험이 없다는 장점을 보유\\nKEY Contents\\n£ 언어, 코드, 이미지의 3개 모델로 구성된 삼성 가우스, 온디바이스 작동 지원\\n£ 언어, 코드, 이미지의 3개 모델로 구성된 삼성 가우스, 온디바이스 작동 지원\\nn 삼성전자가 2023년 11월 8일 열린 ‘삼성 AI 포럼 2023’ 행사에서 자체 개발한 생성 AI 모델 \\n‘삼성 가우스’를 최초 공개\\n∙정규분포 이론을 정립한 천재 수학자 가우스(Gauss)의 이름을 본뜬 삼성 가우스는 다양한 상황에 \\n최적화된 크기의 모델 선택이 가능\\n∙삼성 가우스는 라이선스나 개인정보를 침해하지 않는 안전한 데이터를 통해 학습되었으며, \\n온디바이스에서 작동하도록 설계되어 외부로 사용자의 정보가 유출되지 않는 장점을 보유\\n어시스턴트를 적용한 구글 픽셀(Pixel)과 경쟁할 것으로 예상\\n☞ 출처 : 삼성전자, ‘삼성 AI 포럼’서 자체 개발 생성형 AI ‘삼성 가우스’ 공개, 2023.11.08.\\n삼성전자, ‘삼성 개발자 콘퍼런스 코리아 2023’ 개최, 2023.11.14.\\nTechRepublic, Samsung Gauss: Samsung Research Reveals Generative AI, 2023.11.08.', 'answer': \"삼성전자가 만든 생성형 AI의 이름은 '삼성 가우스'입니다.\", 'question': '삼성전자가 만든 생성형 AI의 이름은 무엇인가요?'} reference_example_id=UUID('ece662f4-c811-4101-b60f-1478680f1c0a') parent_run_id=None tags=[] attachments={} parent_run=None child_runs=[RunTree(id=37b47a3f-e886-4010-a05f-c661ddec882f, name='VectorStoreRetriever', run_type='retriever', dotted_order='20250416T083722199574Zb41d30e9-79b6-450b-8a3c-3c34a210df15.20250416T083722199574Z37b47a3f-e886-4010-a05f-c661ddec882f'), RunTree(id=d5b84ece-a3bb-4c4c-a4cc-7ca7d93fa9f5, name='RunnableSequence', run_type='chain', dotted_order='20250416T083722199574Zb41d30e9-79b6-450b-8a3c-3c34a210df15.20250416T083722706413Zd5b84ece-a3bb-4c4c-a4cc-7ca7d93fa9f5')] session_name='CUSTOM-LLM-EVAL-d68b66e6' session_id=None ls_client=Client (API URL: https://api.smith.langchain.com) dotted_order='20250416T083722199574Zb41d30e9-79b6-450b-8a3c-3c34a210df15' trace_id=UUID('b41d30e9-79b6-450b-8a3c-3c34a210df15') dangerously_allow_filesystem=False\n",
      "dataset_id=UUID('899fb1c5-744d-4f35-a48e-68fe78d807f1') inputs={'question': '삼성전자가 만든 생성형 AI의 이름은 무엇인가요?'} outputs={'answer': '삼성전자가 만든 생성형 AI의 이름은 삼성 가우스 입니다.'} metadata={'dataset_split': ['base']} id=UUID('ece662f4-c811-4101-b60f-1478680f1c0a') created_at=datetime.datetime(2025, 4, 16, 6, 21, 53, 752615, tzinfo=datetime.timezone.utc) modified_at=datetime.datetime(2025, 4, 16, 6, 21, 53, 752615, tzinfo=datetime.timezone.utc) runs=[] source_run_id=None attachments={}\n"
     ]
    }
   ],
   "execution_count": 14
  }
 ],
 "metadata": {
  "kernelspec": {
   "display_name": "Python 3",
   "language": "python",
   "name": "python3"
  },
  "language_info": {
   "codemirror_mode": {
    "name": "ipython",
    "version": 2
   },
   "file_extension": ".py",
   "mimetype": "text/x-python",
   "name": "python",
   "nbconvert_exporter": "python",
   "pygments_lexer": "ipython2",
   "version": "2.7.6"
  }
 },
 "nbformat": 4,
 "nbformat_minor": 5
}
