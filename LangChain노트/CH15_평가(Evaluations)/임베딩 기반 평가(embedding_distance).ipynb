{
 "cells": [
  {
   "cell_type": "code",
   "id": "initial_id",
   "metadata": {
    "collapsed": true,
    "ExecuteTime": {
     "end_time": "2025-04-16T08:18:42.123389Z",
     "start_time": "2025-04-16T08:18:42.105052Z"
    }
   },
   "source": [
    "from dotenv import load_dotenv\n",
    "\n",
    "# API KEY 정보로드\n",
    "load_dotenv()\n",
    "from langchain_teddynote import logging\n",
    "\n",
    "# 프로젝트 이름을 입력합니다.\n",
    "logging.langsmith(\"CH16-Evaluations\")"
   ],
   "outputs": [
    {
     "name": "stdout",
     "output_type": "stream",
     "text": [
      "LangSmith 추적을 시작합니다.\n",
      "[프로젝트명]\n",
      "CH16-Evaluations\n"
     ]
    }
   ],
   "execution_count": 1
  },
  {
   "metadata": {},
   "cell_type": "markdown",
   "source": "# RAG 성능 테스트를 위한 함수 정의",
   "id": "f06e0ded61afd1f"
  },
  {
   "metadata": {
    "ExecuteTime": {
     "end_time": "2025-04-16T08:18:50.367591Z",
     "start_time": "2025-04-16T08:18:42.131395Z"
    }
   },
   "cell_type": "code",
   "source": [
    "from myrag import PDFRAG\n",
    "from langchain_openai import ChatOpenAI\n",
    "\n",
    "# PDFRAG 객체 생성\n",
    "rag = PDFRAG(\n",
    "    \"data/SPRI_AI_Brief_2023년12월호_F.pdf\",\n",
    "    ChatOpenAI(model=\"gpt-4o-mini\", temperature=0),\n",
    ")\n",
    "\n",
    "# 검색기(retriever) 생성\n",
    "retriever = rag.create_retriever()\n",
    "\n",
    "# 체인(chain) 생성\n",
    "chain = rag.create_chain(retriever)\n",
    "\n",
    "# 질문에 대한 답변 생성\n",
    "chain.invoke(\"삼성전자가 자체 개발한 생성형 AI의 이름은 무엇인가요?\")"
   ],
   "id": "8f9dd6446fa17a3c",
   "outputs": [
    {
     "data": {
      "text/plain": [
       "\"삼성전자가 자체 개발한 생성형 AI의 이름은 '삼성 가우스'입니다.\""
      ]
     },
     "execution_count": 2,
     "metadata": {},
     "output_type": "execute_result"
    }
   ],
   "execution_count": 2
  },
  {
   "metadata": {
    "ExecuteTime": {
     "end_time": "2025-04-16T08:18:50.728236Z",
     "start_time": "2025-04-16T08:18:50.723384Z"
    }
   },
   "cell_type": "code",
   "source": [
    "# 질문에 대한 답변하는 함수를 생성\n",
    "def ask_question(inputs: dict):\n",
    "    return {\"answer\": chain.invoke(inputs[\"question\"])}"
   ],
   "id": "c60814b37d4a4a3a",
   "outputs": [],
   "execution_count": 3
  },
  {
   "metadata": {},
   "cell_type": "markdown",
   "source": "# 임베딩(Embedding) 거리 기반 Evaluator",
   "id": "1c9e2fa848a06b77"
  },
  {
   "metadata": {
    "jupyter": {
     "is_executing": true
    },
    "ExecuteTime": {
     "start_time": "2025-04-16T08:18:50.738682Z"
    }
   },
   "cell_type": "code",
   "source": [
    "from langsmith.evaluation import LangChainStringEvaluator\n",
    "from langchain_huggingface.embeddings import HuggingFaceEmbeddings\n",
    "from langchain_upstage import UpstageEmbeddings\n",
    "from langchain_openai import OpenAIEmbeddings\n",
    "import os\n",
    "\n",
    "# 토크나이저 병렬화 설정(HuggingFace 모델 사용)\n",
    "os.environ[\"TOKENIZERS_PARALLELISM\"] = \"true\"\n",
    "\n",
    "model_name = \"BAAI/bge-m3\"\n",
    "\n",
    "hf_embeddings = HuggingFaceEmbeddings(\n",
    "    model_name=model_name,\n",
    "    model_kwargs={\"device\": \"cpu\"},  # cuda, cpu\n",
    "    # encode_kwargs={\"normalize_embeddings\": True},\n",
    ")\n",
    "\n",
    "# 임베딩 모델 평가자 생성\n",
    "hf_embedding_evaluator = LangChainStringEvaluator(\n",
    "    \"embedding_distance\",\n",
    "    config={\n",
    "        # OpenAIEmbeddings 가 기본 값으로 설정되어 있으나, 변경이 가능\n",
    "        \"embeddings\": hf_embeddings,\n",
    "        \"distance_metric\": \"cosine\",  # \"cosine\", \"euclidean\", \"chebyshev\", \"hamming\", and \"manhattan\"\n",
    "    },\n",
    ")\n",
    "\n",
    "upstage_embedding_evaluator = LangChainStringEvaluator(\n",
    "    \"embedding_distance\",\n",
    "    config={\n",
    "        # OpenAIEmbeddings 가 기본 값으로 설정되어 있으나, 변경이 가능\n",
    "        \"embeddings\": UpstageEmbeddings(model=\"solar-embedding-1-large-query\"),\n",
    "        \"distance_metric\": \"euclidean\",  # \"cosine\", \"euclidean\", \"chebyshev\", \"hamming\", and \"manhattan\"\n",
    "    },\n",
    ")\n",
    "\n",
    "openai_embedding_evaluator = LangChainStringEvaluator(\n",
    "    \"embedding_distance\",\n",
    "    config={\n",
    "        # OpenAIEmbeddings 가 기본 값으로 설정되어 있으나, 변경이 가능\n",
    "        \"embeddings\": OpenAIEmbeddings(model=\"text-embedding-3-small\"),\n",
    "        \"distance_metric\": \"euclidean\",  # \"cosine\", \"euclidean\", \"chebyshev\", \"hamming\", and \"manhattan\"\n",
    "    },\n",
    ")\n"
   ],
   "id": "260d15af844d276f",
   "outputs": [],
   "execution_count": null
  },
  {
   "metadata": {},
   "cell_type": "code",
   "outputs": [],
   "execution_count": null,
   "source": [
    "from langsmith.evaluation import evaluate\n",
    "\n",
    "dataset_name = \"RAG_EVAL_DATASET\"\n",
    "\n",
    "# 평가 실행\n",
    "experiment_results = evaluate(\n",
    "    ask_question,\n",
    "    data=dataset_name,\n",
    "    evaluators=[\n",
    "        hf_embedding_evaluator,\n",
    "        upstage_embedding_evaluator,\n",
    "        openai_embedding_evaluator,\n",
    "    ],\n",
    "    experiment_prefix=\"EMBEDDING_EVAL\",\n",
    "    # 실험 메타데이터 지정\n",
    "    metadata={\n",
    "        \"variant\": \"embedding_distance 활용한 평가\"\n",
    "    }\n",
    ")"
   ],
   "id": "16d901f89786c463"
  }
 ],
 "metadata": {
  "kernelspec": {
   "display_name": "Python 3",
   "language": "python",
   "name": "python3"
  },
  "language_info": {
   "codemirror_mode": {
    "name": "ipython",
    "version": 2
   },
   "file_extension": ".py",
   "mimetype": "text/x-python",
   "name": "python",
   "nbconvert_exporter": "python",
   "pygments_lexer": "ipython2",
   "version": "2.7.6"
  }
 },
 "nbformat": 4,
 "nbformat_minor": 5
}
