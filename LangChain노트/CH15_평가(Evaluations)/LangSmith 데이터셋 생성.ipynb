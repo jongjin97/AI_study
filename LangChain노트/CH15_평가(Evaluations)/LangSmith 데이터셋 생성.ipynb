{
 "cells": [
  {
   "cell_type": "code",
   "id": "initial_id",
   "metadata": {
    "collapsed": true,
    "ExecuteTime": {
     "end_time": "2025-04-16T06:08:57.650402Z",
     "start_time": "2025-04-16T06:08:57.640746Z"
    }
   },
   "source": [
    "from dotenv import load_dotenv\n",
    "\n",
    "# API KEY 정보로드\n",
    "load_dotenv()\n",
    "from langchain_teddynote import logging\n",
    "\n",
    "# 프로젝트 이름을 입력합니다.\n",
    "logging.langsmith(\"CH16-Evaluations\")"
   ],
   "outputs": [
    {
     "name": "stdout",
     "output_type": "stream",
     "text": [
      "LangSmith 추적을 시작합니다.\n",
      "[프로젝트명]\n",
      "CH16-Evaluations\n"
     ]
    }
   ],
   "execution_count": 2
  },
  {
   "metadata": {},
   "cell_type": "markdown",
   "source": "# 데이터셋 생성",
   "id": "852182057285c169"
  },
  {
   "metadata": {
    "ExecuteTime": {
     "end_time": "2025-04-16T06:09:14.056430Z",
     "start_time": "2025-04-16T06:09:11.690808Z"
    }
   },
   "cell_type": "code",
   "source": [
    "import pandas as pd\n",
    "\n",
    "# 질문과 답변 목록\n",
    "inputs = [\n",
    "    \"삼성전자가 만든 생성형 AI의 이름은 무엇인가요?\",\n",
    "    \"미국 바이든 대통령이 안전하고 신뢰할 수 있는 AI 개발과 사용을 보장하기 위한 행정명령을 발표한 날은 언제인가요?\",\n",
    "    \"코히어의 데이터 출처 탐색기에 대해서 간략히 말해주세요.\",\n",
    "]\n",
    "\n",
    "# 질문에 대한 답변 목록\n",
    "outputs = [\n",
    "    \"삼성전자가 만든 생성형 AI의 이름은 삼성 가우스 입니다.\",\n",
    "    \"2023년 10월 30일 미국 바이든 대통령이 행정명령을 발표했습니다.\",\n",
    "    \"코히어의 데이터 출처 탐색기는 AI 모델 훈련에 사용되는 데이터셋의 출처와 라이선스 상태를 추적하고 투명성을 확보하기 위한 플랫폼입니다. 12개 기관과 협력하여 2,000여 개 데이터셋의 출처 정보를 제공하며, 개발자들이 데이터의 구성과 계보를 쉽게 파악할 수 있게 돕습니다.\",\n",
    "]\n",
    "\n",
    "# 질문과 답변 쌍 생성\n",
    "qa_pairs = [{\"question\": q, \"answer\": a} for q, a in zip(inputs, outputs)]\n",
    "\n",
    "# 데이터프레임으로 변환\n",
    "df = pd.DataFrame(qa_pairs)\n",
    "\n",
    "# 데이터프레임 출력\n",
    "df.head()"
   ],
   "id": "6415b2abe3b3952d",
   "outputs": [
    {
     "data": {
      "text/plain": [
       "                                            question  \\\n",
       "0                        삼성전자가 만든 생성형 AI의 이름은 무엇인가요?   \n",
       "1  미국 바이든 대통령이 안전하고 신뢰할 수 있는 AI 개발과 사용을 보장하기 위한 행...   \n",
       "2                    코히어의 데이터 출처 탐색기에 대해서 간략히 말해주세요.   \n",
       "\n",
       "                                              answer  \n",
       "0                   삼성전자가 만든 생성형 AI의 이름은 삼성 가우스 입니다.  \n",
       "1            2023년 10월 30일 미국 바이든 대통령이 행정명령을 발표했습니다.  \n",
       "2  코히어의 데이터 출처 탐색기는 AI 모델 훈련에 사용되는 데이터셋의 출처와 라이선스...  "
      ],
      "text/html": [
       "<div>\n",
       "<style scoped>\n",
       "    .dataframe tbody tr th:only-of-type {\n",
       "        vertical-align: middle;\n",
       "    }\n",
       "\n",
       "    .dataframe tbody tr th {\n",
       "        vertical-align: top;\n",
       "    }\n",
       "\n",
       "    .dataframe thead th {\n",
       "        text-align: right;\n",
       "    }\n",
       "</style>\n",
       "<table border=\"1\" class=\"dataframe\">\n",
       "  <thead>\n",
       "    <tr style=\"text-align: right;\">\n",
       "      <th></th>\n",
       "      <th>question</th>\n",
       "      <th>answer</th>\n",
       "    </tr>\n",
       "  </thead>\n",
       "  <tbody>\n",
       "    <tr>\n",
       "      <th>0</th>\n",
       "      <td>삼성전자가 만든 생성형 AI의 이름은 무엇인가요?</td>\n",
       "      <td>삼성전자가 만든 생성형 AI의 이름은 삼성 가우스 입니다.</td>\n",
       "    </tr>\n",
       "    <tr>\n",
       "      <th>1</th>\n",
       "      <td>미국 바이든 대통령이 안전하고 신뢰할 수 있는 AI 개발과 사용을 보장하기 위한 행...</td>\n",
       "      <td>2023년 10월 30일 미국 바이든 대통령이 행정명령을 발표했습니다.</td>\n",
       "    </tr>\n",
       "    <tr>\n",
       "      <th>2</th>\n",
       "      <td>코히어의 데이터 출처 탐색기에 대해서 간략히 말해주세요.</td>\n",
       "      <td>코히어의 데이터 출처 탐색기는 AI 모델 훈련에 사용되는 데이터셋의 출처와 라이선스...</td>\n",
       "    </tr>\n",
       "  </tbody>\n",
       "</table>\n",
       "</div>"
      ]
     },
     "execution_count": 3,
     "metadata": {},
     "output_type": "execute_result"
    }
   ],
   "execution_count": 3
  },
  {
   "metadata": {
    "ExecuteTime": {
     "end_time": "2025-04-16T06:17:25.803273Z",
     "start_time": "2025-04-16T06:17:21.254902Z"
    }
   },
   "cell_type": "code",
   "source": [
    "import pandas as pd\n",
    "from datasets import load_dataset, Dataset\n",
    "import os\n",
    "\n",
    "# huggingface Dataset에서 repo_id로 데이터셋 다운로드\n",
    "dataset = load_dataset(\n",
    "    \"teddylee777/rag-eval-mini\",  # 데이터셋 이름\n",
    "    token=os.environ[\"HUGGINGFACE_API_TOKEN\"],  # private 데이터인 경우 필요합니다.\n",
    ")\n",
    "print(dataset)\n",
    "# 데이터셋에서 split 기준으로 조회\n",
    "huggingface_df = dataset[\"korean_v1\"].to_pandas()\n",
    "huggingface_df.head()"
   ],
   "id": "c3997afefbc07ad7",
   "outputs": [
    {
     "name": "stdout",
     "output_type": "stream",
     "text": [
      "DatasetDict({\n",
      "    train: Dataset({\n",
      "        features: ['contexts', 'evolution_type', 'metadata', 'episode_done', 'question', 'ground_truth'],\n",
      "        num_rows: 95\n",
      "    })\n",
      "    korean_v1: Dataset({\n",
      "        features: ['contexts', 'evolution_type', 'metadata', 'episode_done', 'question', 'ground_truth'],\n",
      "        num_rows: 95\n",
      "    })\n",
      "})\n"
     ]
    },
    {
     "data": {
      "text/plain": [
       "                                            contexts evolution_type  \\\n",
       "0  ['* 편향된 훈련 데이터에 대한 분석기술, 민감한 정보를 포함하는 AI 시스템에 ...         simple   \n",
       "1  ['SPRi AI Brief |\\n2023-12월호\\nG7, 히로시마 AI 프로세스...         simple   \n",
       "2  ['∙ 3개국은 기반모델 전반에 대한 규제가 기술 중립적이고 위험 기반의 AI 규제...         simple   \n",
       "3  ['SPRi AI Brief |\\n2023-12월호\\nEU AI 법 3자 협상, 기...         simple   \n",
       "4  ['1. 정책/법제 2. 기업/산업 3. 기술/연구 4. 인력/교육\\n빌 게이츠, ...         simple   \n",
       "\n",
       "                                            metadata  episode_done  \\\n",
       "0  [{'source': 'data/SPRI_AI_Brief_2023년12월호_F.pd...          True   \n",
       "1  [{'source': 'data/SPRI_AI_Brief_2023년12월호_F.pd...          True   \n",
       "2  [{'source': 'data/SPRI_AI_Brief_2023년12월호_F.pd...          True   \n",
       "3  [{'source': 'data/SPRI_AI_Brief_2023년12월호_F.pd...          True   \n",
       "4  [{'source': 'data/SPRI_AI_Brief_2023년12월호_F.pd...          True   \n",
       "\n",
       "                                            question  \\\n",
       "0  연구자들은 AI가 저작권이 있는 자료를 잊어버리도록 돕기 위해 어떤 접근 방식을 사...   \n",
       "1                 2023년에 설립된 G7 AI 프레임워크의 목적은 무엇인가요?   \n",
       "2       현재 재단 모델과 관련하여 EU AI법 협상에 영향을 미치는 과제는 무엇인가요?   \n",
       "3                  인공지능 규제와 관련하여 EU AI 법의 의미는 무엇인가요?   \n",
       "4                 AI 애플리케이션의 맥락에서 성능 평가의 중요성은 무엇인가요?   \n",
       "\n",
       "                                        ground_truth  \n",
       "0  연구자들은 해리 포터를 통해 인공지능이 저작권이 있는 자료를 잊어버릴 수 있도록 돕...  \n",
       "1  2023년에 설립된 G7 AI 프레임워크의 목적은 AI 기술의 책임 있는 개발과 사...  \n",
       "2  프랑스, 독일, 이탈리아가 추진하고 있는 재단 모델에 대한 의무적 자율 규제의 필요...  \n",
       "3  EU 인공지능법은 인공지능 기술과 관련된 위험을 다루는 프레임워크를 구축하여 인공지...  \n",
       "4  AI 애플리케이션의 맥락에서 성능 평가의 중요성은 AI 시스템의 효과와 효율성을 평...  "
      ],
      "text/html": [
       "<div>\n",
       "<style scoped>\n",
       "    .dataframe tbody tr th:only-of-type {\n",
       "        vertical-align: middle;\n",
       "    }\n",
       "\n",
       "    .dataframe tbody tr th {\n",
       "        vertical-align: top;\n",
       "    }\n",
       "\n",
       "    .dataframe thead th {\n",
       "        text-align: right;\n",
       "    }\n",
       "</style>\n",
       "<table border=\"1\" class=\"dataframe\">\n",
       "  <thead>\n",
       "    <tr style=\"text-align: right;\">\n",
       "      <th></th>\n",
       "      <th>contexts</th>\n",
       "      <th>evolution_type</th>\n",
       "      <th>metadata</th>\n",
       "      <th>episode_done</th>\n",
       "      <th>question</th>\n",
       "      <th>ground_truth</th>\n",
       "    </tr>\n",
       "  </thead>\n",
       "  <tbody>\n",
       "    <tr>\n",
       "      <th>0</th>\n",
       "      <td>['* 편향된 훈련 데이터에 대한 분석기술, 민감한 정보를 포함하는 AI 시스템에 ...</td>\n",
       "      <td>simple</td>\n",
       "      <td>[{'source': 'data/SPRI_AI_Brief_2023년12월호_F.pd...</td>\n",
       "      <td>True</td>\n",
       "      <td>연구자들은 AI가 저작권이 있는 자료를 잊어버리도록 돕기 위해 어떤 접근 방식을 사...</td>\n",
       "      <td>연구자들은 해리 포터를 통해 인공지능이 저작권이 있는 자료를 잊어버릴 수 있도록 돕...</td>\n",
       "    </tr>\n",
       "    <tr>\n",
       "      <th>1</th>\n",
       "      <td>['SPRi AI Brief |\\n2023-12월호\\nG7, 히로시마 AI 프로세스...</td>\n",
       "      <td>simple</td>\n",
       "      <td>[{'source': 'data/SPRI_AI_Brief_2023년12월호_F.pd...</td>\n",
       "      <td>True</td>\n",
       "      <td>2023년에 설립된 G7 AI 프레임워크의 목적은 무엇인가요?</td>\n",
       "      <td>2023년에 설립된 G7 AI 프레임워크의 목적은 AI 기술의 책임 있는 개발과 사...</td>\n",
       "    </tr>\n",
       "    <tr>\n",
       "      <th>2</th>\n",
       "      <td>['∙ 3개국은 기반모델 전반에 대한 규제가 기술 중립적이고 위험 기반의 AI 규제...</td>\n",
       "      <td>simple</td>\n",
       "      <td>[{'source': 'data/SPRI_AI_Brief_2023년12월호_F.pd...</td>\n",
       "      <td>True</td>\n",
       "      <td>현재 재단 모델과 관련하여 EU AI법 협상에 영향을 미치는 과제는 무엇인가요?</td>\n",
       "      <td>프랑스, 독일, 이탈리아가 추진하고 있는 재단 모델에 대한 의무적 자율 규제의 필요...</td>\n",
       "    </tr>\n",
       "    <tr>\n",
       "      <th>3</th>\n",
       "      <td>['SPRi AI Brief |\\n2023-12월호\\nEU AI 법 3자 협상, 기...</td>\n",
       "      <td>simple</td>\n",
       "      <td>[{'source': 'data/SPRI_AI_Brief_2023년12월호_F.pd...</td>\n",
       "      <td>True</td>\n",
       "      <td>인공지능 규제와 관련하여 EU AI 법의 의미는 무엇인가요?</td>\n",
       "      <td>EU 인공지능법은 인공지능 기술과 관련된 위험을 다루는 프레임워크를 구축하여 인공지...</td>\n",
       "    </tr>\n",
       "    <tr>\n",
       "      <th>4</th>\n",
       "      <td>['1. 정책/법제 2. 기업/산업 3. 기술/연구 4. 인력/교육\\n빌 게이츠, ...</td>\n",
       "      <td>simple</td>\n",
       "      <td>[{'source': 'data/SPRI_AI_Brief_2023년12월호_F.pd...</td>\n",
       "      <td>True</td>\n",
       "      <td>AI 애플리케이션의 맥락에서 성능 평가의 중요성은 무엇인가요?</td>\n",
       "      <td>AI 애플리케이션의 맥락에서 성능 평가의 중요성은 AI 시스템의 효과와 효율성을 평...</td>\n",
       "    </tr>\n",
       "  </tbody>\n",
       "</table>\n",
       "</div>"
      ]
     },
     "execution_count": 7,
     "metadata": {},
     "output_type": "execute_result"
    }
   ],
   "execution_count": 7
  },
  {
   "metadata": {},
   "cell_type": "markdown",
   "source": "# LangSmith 테스트를 위한 Dataset 생성",
   "id": "a576b6946ee8ede7"
  },
  {
   "metadata": {
    "ExecuteTime": {
     "end_time": "2025-04-16T06:21:53.779969Z",
     "start_time": "2025-04-16T06:21:51.313492Z"
    }
   },
   "cell_type": "code",
   "source": [
    "from langsmith import Client\n",
    "\n",
    "client = Client()\n",
    "dataset_name = \"RAG_EVAL_DATASET\"\n",
    "\n",
    "\n",
    "# 데이터셋 생성 함수\n",
    "def create_dataset(client, dataset_name, description=None):\n",
    "    for dataset in client.list_datasets():\n",
    "        if dataset.name == dataset_name:\n",
    "            return dataset\n",
    "\n",
    "    dataset = client.create_dataset(\n",
    "        dataset_name=dataset_name,\n",
    "        description=description,\n",
    "    )\n",
    "    return dataset\n",
    "\n",
    "\n",
    "# 데이터셋 생성\n",
    "dataset = create_dataset(client, dataset_name)\n",
    "\n",
    "# 생성된 데이터셋에 예제 추가\n",
    "client.create_examples(\n",
    "    inputs=[{\"question\": q} for q in df[\"question\"].tolist()],\n",
    "    outputs=[{\"answer\": a} for a in df[\"answer\"].tolist()],\n",
    "    dataset_id=dataset.id,\n",
    ")"
   ],
   "id": "60db73eeaf2e58e0",
   "outputs": [
    {
     "data": {
      "text/plain": [
       "{'example_ids': ['c5ee731d-c5a1-447f-9462-61b84f25e7ba',\n",
       "  'ece662f4-c811-4101-b60f-1478680f1c0a',\n",
       "  'e2350266-cdc9-402c-bc99-4ccdd2645d6a'],\n",
       " 'count': 3}"
      ]
     },
     "execution_count": 12,
     "metadata": {},
     "output_type": "execute_result"
    }
   ],
   "execution_count": 12
  },
  {
   "metadata": {
    "ExecuteTime": {
     "end_time": "2025-04-16T06:21:58.667539Z",
     "start_time": "2025-04-16T06:21:58.463568Z"
    }
   },
   "cell_type": "code",
   "source": [
    "# 새로운 질문 목록\n",
    "new_questions = [\n",
    "    \"삼성전자가 만든 생성형 AI의 이름은 무엇인가요?\",\n",
    "    \"구글이 테디노트에게 20억달러를 투자한 것이 사실입니까?\",\n",
    "]\n",
    "\n",
    "# 새로운 답변 목록\n",
    "new_answers = [\n",
    "    \"삼성전자가 만든 생성형 AI의 이름은 테디노트 입니다.\",\n",
    "    \"사실이 아닙니다. 구글은 앤스로픽에 최대 20억 달러를 투자하기로 합의했으며, 이 중 5억 달러를 우선 투자하고 향후 15억 달러를 추가로 투자하기로 했습니다.\",\n",
    "]\n",
    "\n",
    "# UI에서 업데이트된 버전 확인\n",
    "client.create_examples(\n",
    "    inputs=[{\"question\": q} for q in new_questions],\n",
    "    outputs=[{\"answer\": a} for a in new_answers],\n",
    "    dataset_id=dataset.id,\n",
    ")"
   ],
   "id": "6ae48fc95fe0c80b",
   "outputs": [
    {
     "data": {
      "text/plain": [
       "{'example_ids': ['d36a6bbf-4242-402c-bb79-c391fae56441',\n",
       "  '38dd13b9-f29d-4eb1-a819-a9d3a5c3a6b1'],\n",
       " 'count': 2}"
      ]
     },
     "execution_count": 13,
     "metadata": {},
     "output_type": "execute_result"
    }
   ],
   "execution_count": 13
  }
 ],
 "metadata": {
  "kernelspec": {
   "display_name": "Python 3",
   "language": "python",
   "name": "python3"
  },
  "language_info": {
   "codemirror_mode": {
    "name": "ipython",
    "version": 2
   },
   "file_extension": ".py",
   "mimetype": "text/x-python",
   "name": "python",
   "nbconvert_exporter": "python",
   "pygments_lexer": "ipython2",
   "version": "2.7.6"
  }
 },
 "nbformat": 4,
 "nbformat_minor": 5
}
