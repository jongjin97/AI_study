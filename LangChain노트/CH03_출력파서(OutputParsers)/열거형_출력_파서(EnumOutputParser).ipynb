{
 "cells": [
  {
   "metadata": {
    "collapsed": true,
    "ExecuteTime": {
     "end_time": "2025-03-27T12:51:19.681222Z",
     "start_time": "2025-03-27T12:51:19.660496Z"
    }
   },
   "cell_type": "code",
   "source": [
    "from dotenv import load_dotenv\n",
    "\n",
    "load_dotenv()"
   ],
   "id": "f3a7b401447726d0",
   "outputs": [
    {
     "data": {
      "text/plain": [
       "True"
      ]
     },
     "execution_count": 1,
     "metadata": {},
     "output_type": "execute_result"
    }
   ],
   "execution_count": 1
  },
  {
   "metadata": {
    "ExecuteTime": {
     "end_time": "2025-03-27T12:51:19.785043Z",
     "start_time": "2025-03-27T12:51:19.772422Z"
    }
   },
   "cell_type": "code",
   "source": [
    "from langchain_teddynote import logging\n",
    "\n",
    "# 프로젝트 이름을 입력합니다.\n",
    "logging.langsmith(\"CH03-OutputParser\")"
   ],
   "id": "acbb09376305c402",
   "outputs": [
    {
     "name": "stdout",
     "output_type": "stream",
     "text": [
      "LangSmith 추적을 시작합니다.\n",
      "[프로젝트명]\n",
      "CH03-OutputParser\n"
     ]
    }
   ],
   "execution_count": 2
  },
  {
   "metadata": {},
   "cell_type": "markdown",
   "source": "# EnumOutputParser",
   "id": "3d48ff791ed801e9"
  },
  {
   "metadata": {
    "ExecuteTime": {
     "end_time": "2025-03-27T12:52:06.954253Z",
     "start_time": "2025-03-27T12:52:05.690574Z"
    }
   },
   "cell_type": "code",
   "source": [
    "from langchain.output_parsers import EnumOutputParser\n",
    "from enum import Enum\n",
    "\n",
    "class Colors(Enum):\n",
    "    RED = \"빨간색\"\n",
    "    GREEN = \"초록색\"\n",
    "    BLUE = \"파란색\""
   ],
   "id": "cd929925a7b45523",
   "outputs": [],
   "execution_count": 3
  },
  {
   "metadata": {
    "ExecuteTime": {
     "end_time": "2025-03-27T12:52:31.320150Z",
     "start_time": "2025-03-27T12:52:31.315714Z"
    }
   },
   "cell_type": "code",
   "source": "parser = EnumOutputParser(enum=Colors)",
   "id": "2527e86ebb5b2803",
   "outputs": [],
   "execution_count": 5
  },
  {
   "metadata": {
    "ExecuteTime": {
     "end_time": "2025-03-27T13:00:02.258488Z",
     "start_time": "2025-03-27T13:00:01.541524Z"
    }
   },
   "cell_type": "code",
   "source": [
    "from langchain.prompts import PromptTemplate\n",
    "from langchain_openai import ChatOpenAI\n",
    "\n",
    "prompt = PromptTemplate.from_template(\n",
    "    \"\"\"다음의 물체는 어떤 색깔인가요?\n",
    "\n",
    "Object: {object}\n",
    "\n",
    "Instructions: {instructions}\"\"\"\n",
    ").partial(instructions=parser.get_format_instructions())\n",
    "\n",
    "chain = prompt | ChatOpenAI(temperature=0, model='gpt-4o-mini') | parser"
   ],
   "id": "417ccb8a5d71acf1",
   "outputs": [],
   "execution_count": 36
  },
  {
   "metadata": {
    "ExecuteTime": {
     "end_time": "2025-03-27T13:01:54.382390Z",
     "start_time": "2025-03-27T13:01:54.378336Z"
    }
   },
   "cell_type": "code",
   "source": "parser.get_format_instructions()",
   "id": "cc27969c36eec821",
   "outputs": [
    {
     "data": {
      "text/plain": [
       "'Select one of the following options: 빨간색, 초록색, 파란색'"
      ]
     },
     "execution_count": 38,
     "metadata": {},
     "output_type": "execute_result"
    }
   ],
   "execution_count": 38
  },
  {
   "metadata": {
    "ExecuteTime": {
     "end_time": "2025-03-27T13:03:33.811585Z",
     "start_time": "2025-03-27T13:03:33.188479Z"
    }
   },
   "cell_type": "code",
   "source": [
    "from langchain.prompts import PromptTemplate\n",
    "from langchain_openai import ChatOpenAI\n",
    "\n",
    "prompt = PromptTemplate.from_template(\n",
    "    \"\"\"다음의 물체는 어떤 색깔인가요?\n",
    "\n",
    "Object: {object}\n",
    "\n",
    "Instructions: {instructions}\n",
    "\n",
    "반드시 Enum값만 출력하시오\"\"\"\n",
    ").partial(instructions=parser.get_format_instructions())\n",
    "\n",
    "chain = prompt | ChatOpenAI(temperature=0, model='gpt-4o-mini') | parser"
   ],
   "id": "d190ef850ca9a74e",
   "outputs": [],
   "execution_count": 39
  },
  {
   "metadata": {},
   "cell_type": "markdown",
   "source": [
    "EnumOutputParser사용 'Select one of the following options: 빨간색, 초록색, 파란색' 명확히 지시\n",
    "\n",
    "gpt-3.5-turbo 답변: 파란색\n",
    "\n",
    "gpt-4o-mini 답변: 하늘의 색깔은 일반적으로 파란색입니다. 따라서 정답은 파란색입니다.\n",
    "\n",
    "gpt-4o-mini의 경우 반드시 Enum값만 출력하시오 프롬프트 추가 이후 '파란색'답변\n"
   ],
   "id": "ecbf66631f5f6262"
  },
  {
   "metadata": {
    "ExecuteTime": {
     "end_time": "2025-03-27T13:03:38.873311Z",
     "start_time": "2025-03-27T13:03:38.030105Z"
    }
   },
   "cell_type": "code",
   "source": [
    "response = chain.invoke({\"object\": \"하늘\"})\n",
    "response"
   ],
   "id": "5a022166833ed919",
   "outputs": [
    {
     "data": {
      "text/plain": [
       "<Colors.BLUE: '파란색'>"
      ]
     },
     "execution_count": 40,
     "metadata": {},
     "output_type": "execute_result"
    }
   ],
   "execution_count": 40
  }
 ],
 "metadata": {
  "kernelspec": {
   "display_name": "Python 3",
   "language": "python",
   "name": "python3"
  },
  "language_info": {
   "codemirror_mode": {
    "name": "ipython",
    "version": 2
   },
   "file_extension": ".py",
   "mimetype": "text/x-python",
   "name": "python",
   "nbconvert_exporter": "python",
   "pygments_lexer": "ipython2",
   "version": "2.7.6"
  }
 },
 "nbformat": 4,
 "nbformat_minor": 5
}
