{
 "cells": [
  {
   "metadata": {
    "ExecuteTime": {
     "end_time": "2025-03-27T08:02:11.514092Z",
     "start_time": "2025-03-27T08:02:11.495976Z"
    }
   },
   "cell_type": "code",
   "source": [
    "from dotenv import load_dotenv\n",
    "\n",
    "load_dotenv()"
   ],
   "id": "e7dfca8f76109e4a",
   "outputs": [
    {
     "data": {
      "text/plain": [
       "True"
      ]
     },
     "execution_count": 1,
     "metadata": {},
     "output_type": "execute_result"
    }
   ],
   "execution_count": 1
  },
  {
   "metadata": {
    "ExecuteTime": {
     "end_time": "2025-03-27T08:02:17.582152Z",
     "start_time": "2025-03-27T08:02:17.574843Z"
    }
   },
   "cell_type": "code",
   "source": [
    "from langchain_teddynote import logging\n",
    "\n",
    "# 프로젝트 이름을 입력합니다.\n",
    "logging.langsmith(\"CH03-OutputParser\")"
   ],
   "id": "352b5b31cb73434a",
   "outputs": [
    {
     "name": "stdout",
     "output_type": "stream",
     "text": [
      "LangSmith 추적을 시작합니다.\n",
      "[프로젝트명]\n",
      "CH03-OutputParser\n"
     ]
    }
   ],
   "execution_count": 2
  },
  {
   "metadata": {},
   "cell_type": "markdown",
   "source": "# StructuredOutputParser",
   "id": "655f39e64d74a606"
  },
  {
   "cell_type": "code",
   "id": "initial_id",
   "metadata": {
    "collapsed": true,
    "ExecuteTime": {
     "end_time": "2025-03-27T08:03:18.088434Z",
     "start_time": "2025-03-27T08:03:15.797617Z"
    }
   },
   "source": [
    "from langchain_openai import ChatOpenAI\n",
    "from langchain.output_parsers import StructuredOutputParser, ResponseSchema\n",
    "from langchain_core.prompts import PromptTemplate"
   ],
   "outputs": [],
   "execution_count": 3
  },
  {
   "metadata": {
    "ExecuteTime": {
     "end_time": "2025-03-27T08:04:46.389716Z",
     "start_time": "2025-03-27T08:04:46.385459Z"
    }
   },
   "cell_type": "code",
   "source": [
    "# 사용자의 질문에 대한 답변\n",
    "response_schemas = [\n",
    "    ResponseSchema(name=\"answer\", description=\"사용자의 질문에 대한 답변\"),\n",
    "    ResponseSchema(name=\"source\", description=\"사용자의 질문에 답하기 위해 사용된 '출저', '웹사이트주소' 이여야 합니다.\")\n",
    "]\n",
    "\n",
    "# 응답 스키마를 기반으로 한 구조화된 출력 파서 초기화\n",
    "output_parser = StructuredOutputParser.from_response_schemas(response_schemas)"
   ],
   "id": "d6fd30f2a6969dfc",
   "outputs": [],
   "execution_count": 4
  },
  {
   "metadata": {
    "ExecuteTime": {
     "end_time": "2025-03-27T08:06:31.654951Z",
     "start_time": "2025-03-27T08:06:31.651567Z"
    }
   },
   "cell_type": "code",
   "source": [
    "format_instructions = output_parser.get_format_instructions()\n",
    "prompt = PromptTemplate(\n",
    "    # 사용자의 질문에 최대한 답변하도록 템플릿을 설정\n",
    "    template=\"answer the users question as best as possible.\\n{format_instructions}\\n{question}\",\n",
    "    # 입력변수로 'question' 사용\n",
    "    input_variables=[\"question\"],\n",
    "    partial_variables={\"format_instructions\": format_instructions}\n",
    ")"
   ],
   "id": "5182641c959c1972",
   "outputs": [],
   "execution_count": 5
  },
  {
   "metadata": {
    "ExecuteTime": {
     "end_time": "2025-03-27T08:06:56.877831Z",
     "start_time": "2025-03-27T08:06:56.130676Z"
    }
   },
   "cell_type": "code",
   "source": [
    "model = ChatOpenAI(model=\"gpt-4o-mini\", temperature=0)\n",
    "chain = prompt | model | output_parser"
   ],
   "id": "b2c020b123da91ab",
   "outputs": [],
   "execution_count": 6
  },
  {
   "metadata": {
    "ExecuteTime": {
     "end_time": "2025-03-27T08:07:12.752759Z",
     "start_time": "2025-03-27T08:07:11.134347Z"
    }
   },
   "cell_type": "code",
   "source": "chain.invoke({\"question\": \"대한민국의 수도는 어디인가요?\"})",
   "id": "6aa3d6b70bfc8a29",
   "outputs": [
    {
     "data": {
      "text/plain": [
       "{'answer': '대한민국의 수도는 서울입니다.',\n",
       " 'source': 'https://ko.wikipedia.org/wiki/%EC%84%9C%EC%9A%B8'}"
      ]
     },
     "execution_count": 7,
     "metadata": {},
     "output_type": "execute_result"
    }
   ],
   "execution_count": 7
  },
  {
   "metadata": {
    "ExecuteTime": {
     "end_time": "2025-03-27T08:07:46.256553Z",
     "start_time": "2025-03-27T08:07:43.494355Z"
    }
   },
   "cell_type": "code",
   "source": [
    "for s in chain.stream({\"question\": \"세종대황의 업적은 무엇인가요?\"}):\n",
    "    print(s)"
   ],
   "id": "1df3379eea4b4eeb",
   "outputs": [
    {
     "name": "stdout",
     "output_type": "stream",
     "text": [
      "{'answer': '세종대왕은 한글 창제, 과학 기술 발전, 농업 및 음악 발전 등 다양한 업적을 남겼습니다. 특히, 1443년에 훈민정음을 창제하여 한국어의 표기 체계를 혁신하였고, 이는 한국 문화의 기초가 되었습니다. 또한, 천문학과 의학 분야에서도 많은 발전을 이루었으며, 농사직설과 같은 농업 관련 서적을 통해 농민의 삶을 개선하고자 했습니다.', 'source': 'https://ko.wikipedia.org/wiki/%EC%84%B8%EC%A2%85%EB%8C%80%EC%99%95'}\n"
     ]
    }
   ],
   "execution_count": 8
  }
 ],
 "metadata": {
  "kernelspec": {
   "display_name": "Python 3",
   "language": "python",
   "name": "python3"
  },
  "language_info": {
   "codemirror_mode": {
    "name": "ipython",
    "version": 2
   },
   "file_extension": ".py",
   "mimetype": "text/x-python",
   "name": "python",
   "nbconvert_exporter": "python",
   "pygments_lexer": "ipython2",
   "version": "2.7.6"
  }
 },
 "nbformat": 4,
 "nbformat_minor": 5
}
