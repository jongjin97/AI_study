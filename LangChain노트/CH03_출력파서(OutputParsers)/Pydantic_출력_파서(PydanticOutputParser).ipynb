{
 "cells": [
  {
   "metadata": {},
   "cell_type": "markdown",
   "source": "# PydanticOuputParser",
   "id": "f6cb5894a66229e"
  },
  {
   "cell_type": "code",
   "id": "initial_id",
   "metadata": {
    "collapsed": true,
    "ExecuteTime": {
     "end_time": "2025-03-27T07:00:00.155604Z",
     "start_time": "2025-03-27T07:00:00.137544Z"
    }
   },
   "source": [
    "from dotenv import load_dotenv\n",
    "from langchain_core.output_parsers import PydanticOutputParser\n",
    "from langchain_openai import ChatOpenAI\n",
    "from langchain_teddynote.messages import stream_response\n",
    "from pydantic import Field\n",
    "\n",
    "load_dotenv()"
   ],
   "outputs": [
    {
     "data": {
      "text/plain": [
       "True"
      ]
     },
     "execution_count": 1,
     "metadata": {},
     "output_type": "execute_result"
    }
   ],
   "execution_count": 1
  },
  {
   "metadata": {
    "ExecuteTime": {
     "end_time": "2025-03-27T07:00:12.102215Z",
     "start_time": "2025-03-27T07:00:12.091781Z"
    }
   },
   "cell_type": "code",
   "source": [
    "from langchain_teddynote import logging\n",
    "\n",
    "# 프로젝트 이름을 입력합니다.\n",
    "logging.langsmith(\"CH03-OutputParser\")"
   ],
   "id": "f1fad901eebad739",
   "outputs": [
    {
     "name": "stdout",
     "output_type": "stream",
     "text": [
      "LangSmith 추적을 시작합니다.\n",
      "[프로젝트명]\n",
      "CH03-OutputParser\n"
     ]
    }
   ],
   "execution_count": 2
  },
  {
   "metadata": {
    "ExecuteTime": {
     "end_time": "2025-03-27T07:00:48.490284Z",
     "start_time": "2025-03-27T07:00:48.486274Z"
    }
   },
   "cell_type": "code",
   "source": [
    "email_conversation = \"\"\"From: 김철수 (chulsoo.kim@bikecorporation.me)\n",
    "To: 이은채 (eunchae@teddyinternational.me)\n",
    "Subject: \"ZENESIS\" 자전거 유통 협력 및 미팅 일정 제안\n",
    "\n",
    "안녕하세요, 이은채 대리님,\n",
    "\n",
    "저는 바이크코퍼레이션의 김철수 상무입니다. 최근 보도자료를 통해 귀사의 신규 자전거 \"ZENESIS\"에 대해 알게 되었습니다. 바이크코퍼레이션은 자전거 제조 및 유통 분야에서 혁신과 품질을 선도하는 기업으로, 이 분야에서의 장기적인 경험과 전문성을 가지고 있습니다.\n",
    "\n",
    "ZENESIS 모델에 대한 상세한 브로슈어를 요청드립니다. 특히 기술 사양, 배터리 성능, 그리고 디자인 측면에 대한 정보가 필요합니다. 이를 통해 저희가 제안할 유통 전략과 마케팅 계획을 보다 구체화할 수 있을 것입니다.\n",
    "\n",
    "또한, 협력 가능성을 더 깊이 논의하기 위해 다음 주 화요일(1월 15일) 오전 10시에 미팅을 제안합니다. 귀사 사무실에서 만나 이야기를 나눌 수 있을까요?\n",
    "\n",
    "감사합니다.\n",
    "\n",
    "김철수\n",
    "상무이사\n",
    "바이크코퍼레이션\n",
    "\"\"\""
   ],
   "id": "d6dfc0ae1f10fc39",
   "outputs": [],
   "execution_count": 3
  },
  {
   "metadata": {
    "ExecuteTime": {
     "end_time": "2025-03-27T07:03:31.545083Z",
     "start_time": "2025-03-27T07:03:26.602243Z"
    }
   },
   "cell_type": "code",
   "source": [
    "from itertools import chain\n",
    "from langchain_core.prompts import PromptTemplate\n",
    "from langchain_openai import ChatOpenAI\n",
    "from langchain_teddynote.messages import stream_response\n",
    "\n",
    "prompt = PromptTemplate.from_template(\"다음의 이메일 내용중 중요한 내용을 추출해 주세요.\\n\\n{email_conversation}\")\n",
    "\n",
    "llm = ChatOpenAI(model=\"gpt-4o-mini\", temperature=0)\n",
    "\n",
    "chain = prompt | llm\n",
    "\n",
    "answer = chain.stream({\"email_conversation\": email_conversation})\n",
    "\n",
    "output = stream_response(answer)"
   ],
   "id": "e198ab7537d9aa2d",
   "outputs": [
    {
     "name": "stdout",
     "output_type": "stream",
     "text": [
      "중요한 내용 요약:\n",
      "\n",
      "- 발신자: 김철수 (바이크코퍼레이션 상무)\n",
      "- 수신자: 이은채 (Teddy International)\n",
      "- 주제: \"ZENESIS\" 자전거 유통 협력 및 미팅 일정 제안\n",
      "- 요청 사항: ZENESIS 모델에 대한 상세 브로슈어 (기술 사양, 배터리 성능, 디자인 정보)\n",
      "- 미팅 제안: 다음 주 화요일(1월 15일) 오전 10시, 귀사 사무실에서 만남 제안\n",
      "- 목적: 협력 가능성 논의 및 유통 전략, 마케팅 계획 구체화"
     ]
    }
   ],
   "execution_count": 6
  },
  {
   "metadata": {
    "ExecuteTime": {
     "end_time": "2025-03-27T07:06:40.619363Z",
     "start_time": "2025-03-27T07:06:40.614203Z"
    }
   },
   "cell_type": "code",
   "source": [
    "from pydantic import BaseModel, Field\n",
    "from langchain_core.output_parsers import PydanticOutputParser\n",
    "\n",
    "class EmailSummary(BaseModel):\n",
    "    person: str = Field(description=\"메일을 보낸 사람\")\n",
    "    email: str = Field(description=\"메일을 보낸 사람의 이메일 주소\")\n",
    "    subject: str = Field(description=\"메일 제목\")\n",
    "    summary: str = Field(description=\"메일 본문을 요약한 텍스트\")\n",
    "    date: str = Field(description=\"메일 본문에 언급된 미팅 날짜와 시간\")\n",
    "\n",
    "# PydanticOutputParser 생성\n",
    "parser = PydanticOutputParser(pydantic_object=EmailSummary)"
   ],
   "id": "832defd849919d10",
   "outputs": [],
   "execution_count": 8
  },
  {
   "metadata": {
    "ExecuteTime": {
     "end_time": "2025-03-27T07:06:55.766276Z",
     "start_time": "2025-03-27T07:06:55.762058Z"
    }
   },
   "cell_type": "code",
   "source": [
    "# instruction을 출력\n",
    "print(parser.get_format_instructions())"
   ],
   "id": "2eac5e451905337f",
   "outputs": [
    {
     "name": "stdout",
     "output_type": "stream",
     "text": [
      "The output should be formatted as a JSON instance that conforms to the JSON schema below.\n",
      "\n",
      "As an example, for the schema {\"properties\": {\"foo\": {\"title\": \"Foo\", \"description\": \"a list of strings\", \"type\": \"array\", \"items\": {\"type\": \"string\"}}}, \"required\": [\"foo\"]}\n",
      "the object {\"foo\": [\"bar\", \"baz\"]} is a well-formatted instance of the schema. The object {\"properties\": {\"foo\": [\"bar\", \"baz\"]}} is not well-formatted.\n",
      "\n",
      "Here is the output schema:\n",
      "```\n",
      "{\"properties\": {\"person\": {\"description\": \"메일을 보낸 사람\", \"title\": \"Person\", \"type\": \"string\"}, \"email\": {\"description\": \"메일을 보낸 사람의 이메일 주소\", \"title\": \"Email\", \"type\": \"string\"}, \"subject\": {\"description\": \"메일 제목\", \"title\": \"Subject\", \"type\": \"string\"}, \"summary\": {\"description\": \"메일 본문을 요약한 텍스트\", \"title\": \"Summary\", \"type\": \"string\"}, \"date\": {\"description\": \"메일 본문에 언급된 미팅 날짜와 시간\", \"title\": \"Date\", \"type\": \"string\"}}, \"required\": [\"person\", \"email\", \"subject\", \"summary\", \"date\"]}\n",
      "```\n"
     ]
    }
   ],
   "execution_count": 9
  },
  {
   "metadata": {
    "ExecuteTime": {
     "end_time": "2025-03-27T07:08:03.458969Z",
     "start_time": "2025-03-27T07:08:03.454714Z"
    }
   },
   "cell_type": "code",
   "source": [
    "prompt = PromptTemplate.from_template(\n",
    "    \"\"\"\n",
    "You are a helpful assistant. Please answer the following questions in KOREAN.\n",
    "\n",
    "QUESTION:\n",
    "{question}\n",
    "\n",
    "EMAIL CONVERSATION:\n",
    "{email_conversation}\n",
    "\n",
    "FORMAT:\n",
    "{format}\n",
    "\"\"\"\n",
    ")\n",
    "\n",
    "# format에 PydanticOutputParser의 부분 포맷팅(partial) 추가\n",
    "prompt = prompt.partial(format=parser.get_format_instructions())"
   ],
   "id": "15e9ed9a8a9714e",
   "outputs": [],
   "execution_count": 10
  },
  {
   "metadata": {
    "ExecuteTime": {
     "end_time": "2025-03-27T07:08:12.136119Z",
     "start_time": "2025-03-27T07:08:12.132798Z"
    }
   },
   "cell_type": "code",
   "source": [
    "# chain을 생성\n",
    "chain = prompt | llm"
   ],
   "id": "aff8e784d356b994",
   "outputs": [],
   "execution_count": 11
  },
  {
   "metadata": {
    "ExecuteTime": {
     "end_time": "2025-03-27T07:09:07.571710Z",
     "start_time": "2025-03-27T07:09:05.174002Z"
    }
   },
   "cell_type": "code",
   "source": [
    "response = chain.stream(\n",
    "    {\n",
    "        \"email_conversation\": email_conversation,\n",
    "        \"question\": \"이메일 내용중 주요 내용을 추출해주세요.\"\n",
    "    }\n",
    ")\n",
    "\n",
    "# 결과는 JSON형태로 출력\n",
    "output = stream_response(response, return_output=True)"
   ],
   "id": "8796505feea3e4a3",
   "outputs": [
    {
     "name": "stdout",
     "output_type": "stream",
     "text": [
      "```json\n",
      "{\n",
      "  \"person\": \"김철수\",\n",
      "  \"email\": \"chulsoo.kim@bikecorporation.me\",\n",
      "  \"subject\": \"\\\"ZENESIS\\\" 자전거 유통 협력 및 미팅 일정 제안\",\n",
      "  \"summary\": \"김철수 상무가 이은채 대리에게 'ZENESIS' 자전거에 대한 브로슈어 요청과 협력 논의를 위한 미팅 제안을 함.\",\n",
      "  \"date\": \"1월 15일 오전 10시\"\n",
      "}\n",
      "```"
     ]
    }
   ],
   "execution_count": 12
  },
  {
   "metadata": {
    "ExecuteTime": {
     "end_time": "2025-03-27T07:09:44.965517Z",
     "start_time": "2025-03-27T07:09:44.958431Z"
    }
   },
   "cell_type": "code",
   "source": [
    "# PydanticOutputParser를 사용하여 결과를 파싱\n",
    "structed_output = parser.parse(output)\n",
    "print(structed_output)"
   ],
   "id": "25d6c914c8314ff7",
   "outputs": [
    {
     "name": "stdout",
     "output_type": "stream",
     "text": [
      "person='김철수' email='chulsoo.kim@bikecorporation.me' subject='\"ZENESIS\" 자전거 유통 협력 및 미팅 일정 제안' summary=\"김철수 상무가 이은채 대리에게 'ZENESIS' 자전거에 대한 브로슈어 요청과 협력 논의를 위한 미팅 제안을 함.\" date='1월 15일 오전 10시'\n"
     ]
    }
   ],
   "execution_count": 13
  },
  {
   "metadata": {},
   "cell_type": "markdown",
   "source": "# parser가 추가된 체인 생성",
   "id": "64355962ba50e79d"
  },
  {
   "metadata": {
    "ExecuteTime": {
     "end_time": "2025-03-27T07:10:16.528896Z",
     "start_time": "2025-03-27T07:10:16.525071Z"
    }
   },
   "cell_type": "code",
   "source": [
    "# 출력 파서를 추가하여 전체 체인을 구성\n",
    "chain = prompt | llm | parser"
   ],
   "id": "117e72680e656ce7",
   "outputs": [],
   "execution_count": 14
  },
  {
   "metadata": {
    "ExecuteTime": {
     "end_time": "2025-03-27T07:11:16.692822Z",
     "start_time": "2025-03-27T07:11:14.421840Z"
    }
   },
   "cell_type": "code",
   "source": [
    "# chain을 실행하고 결과를 출력\n",
    "response = chain.invoke(\n",
    "    {\n",
    "        \"email_conversation\": email_conversation,\n",
    "        \"question\": \"이메일 내용중 주요 내용을 추출해 주세요.\"\n",
    "    }\n",
    ")\n",
    "\n",
    "# 결과는 EmailSummary 객체 형태로 출력\n",
    "response"
   ],
   "id": "7dc2adb66e55a80c",
   "outputs": [
    {
     "data": {
      "text/plain": [
       "EmailSummary(person='김철수', email='chulsoo.kim@bikecorporation.me', subject='\"ZENESIS\" 자전거 유통 협력 및 미팅 일정 제안', summary=\"김철수 상무가 이은채 대리님에게 바이크코퍼레이션의 자전거 'ZENESIS'에 대한 브로슈어 요청과 협력 논의를 위한 미팅 제안을 보냈습니다.\", date='1월 15일 오전 10시')"
      ]
     },
     "execution_count": 16,
     "metadata": {},
     "output_type": "execute_result"
    }
   ],
   "execution_count": 16
  },
  {
   "metadata": {},
   "cell_type": "markdown",
   "source": "# with_structured_output()",
   "id": "6feadbbc570d9cf2"
  },
  {
   "metadata": {
    "ExecuteTime": {
     "end_time": "2025-03-27T07:12:21.791976Z",
     "start_time": "2025-03-27T07:12:20.985749Z"
    }
   },
   "cell_type": "code",
   "source": [
    "llm_with_structered = ChatOpenAI(\n",
    "    model = \"gpt-4o-mini\",\n",
    "    temperature = 0,\n",
    ").with_structured_output(EmailSummary)"
   ],
   "id": "f546afb66e08f8b4",
   "outputs": [],
   "execution_count": 17
  },
  {
   "metadata": {
    "ExecuteTime": {
     "end_time": "2025-03-27T07:12:56.747433Z",
     "start_time": "2025-03-27T07:12:52.932167Z"
    }
   },
   "cell_type": "code",
   "source": [
    "# invoke() 함수를 호출하여 결과를 출력\n",
    "answer = llm_with_structered.invoke(email_conversation)\n",
    "answer"
   ],
   "id": "207c50a265774d7c",
   "outputs": [
    {
     "data": {
      "text/plain": [
       "EmailSummary(person='이은채', email='eunchae@teddyinternational.me', subject='\"ZENESIS\" 자전거 유통 협력 및 미팅 일정 제안', summary=\"김철수 상무가 이은채 대리에게 바이크코퍼레이션과 'ZENESIS' 자전거의 유통 협력에 대해 논의하고자 미팅을 제안하며, 제품에 대한 상세한 브로슈어 요청.\", date='2024-01-08')"
      ]
     },
     "execution_count": 19,
     "metadata": {},
     "output_type": "execute_result"
    }
   ],
   "execution_count": 19
  }
 ],
 "metadata": {
  "kernelspec": {
   "display_name": "Python 3",
   "language": "python",
   "name": "python3"
  },
  "language_info": {
   "codemirror_mode": {
    "name": "ipython",
    "version": 2
   },
   "file_extension": ".py",
   "mimetype": "text/x-python",
   "name": "python",
   "nbconvert_exporter": "python",
   "pygments_lexer": "ipython2",
   "version": "2.7.6"
  }
 },
 "nbformat": 4,
 "nbformat_minor": 5
}
