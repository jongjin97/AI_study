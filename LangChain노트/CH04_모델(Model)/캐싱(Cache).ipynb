{
 "cells": [
  {
   "cell_type": "code",
   "id": "initial_id",
   "metadata": {
    "collapsed": true,
    "ExecuteTime": {
     "end_time": "2025-03-28T04:14:50.027924Z",
     "start_time": "2025-03-28T04:14:50.000840Z"
    }
   },
   "source": [
    "# API KEY를 환경변수로 관리하기 위한 설정 파일\n",
    "from dotenv import load_dotenv\n",
    "\n",
    "# API KEY 정보로드\n",
    "load_dotenv()"
   ],
   "outputs": [
    {
     "data": {
      "text/plain": [
       "True"
      ]
     },
     "execution_count": 1,
     "metadata": {},
     "output_type": "execute_result"
    }
   ],
   "execution_count": 1
  },
  {
   "metadata": {
    "ExecuteTime": {
     "end_time": "2025-03-28T04:14:50.118480Z",
     "start_time": "2025-03-28T04:14:50.109638Z"
    }
   },
   "cell_type": "code",
   "source": [
    "from langchain_teddynote import logging\n",
    "\n",
    "# 프로젝트 이름을 입력합니다.\n",
    "logging.langsmith(\"CH04-Models\")"
   ],
   "id": "b469866a603350e6",
   "outputs": [
    {
     "name": "stdout",
     "output_type": "stream",
     "text": [
      "LangSmith 추적을 시작합니다.\n",
      "[프로젝트명]\n",
      "CH04-Models\n"
     ]
    }
   ],
   "execution_count": 2
  },
  {
   "metadata": {},
   "cell_type": "markdown",
   "source": "# 캐싱(Caching)",
   "id": "9f0728a01ca3338d"
  },
  {
   "metadata": {
    "ExecuteTime": {
     "end_time": "2025-03-28T04:16:00.940920Z",
     "start_time": "2025-03-28T04:15:55.374857Z"
    }
   },
   "cell_type": "code",
   "source": [
    "from langchain_openai import ChatOpenAI\n",
    "from langchain_core.prompts import PromptTemplate\n",
    "\n",
    "llm = ChatOpenAI(model='gpt-4o-mini')\n",
    "\n",
    "prompt = PromptTemplate.from_template(\"{country}에 대해서 200자 내외로 요약해줘\")\n",
    "\n",
    "chain = prompt | llm"
   ],
   "id": "a98dd1de284a98a0",
   "outputs": [],
   "execution_count": 3
  },
  {
   "metadata": {
    "ExecuteTime": {
     "end_time": "2025-03-28T04:16:31.275925Z",
     "start_time": "2025-03-28T04:16:27.359901Z"
    }
   },
   "cell_type": "code",
   "source": [
    "%%time\n",
    "response = chain.invoke({\"country\": \"한국\"})\n",
    "print(response.content)"
   ],
   "id": "c318aee4973b6c33",
   "outputs": [
    {
     "name": "stdout",
     "output_type": "stream",
     "text": [
      "한국은 동아시아에 위치한 한반도의 나라로, 북쪽의 북한과 남쪽의 대한민국으로 나뉘어 있습니다. 대한민국은 민주주의와 시장경제를 기반으로 하며, 기술과 문화가 발전한 국가입니다. K-팝, 한식, 한국 드라마 등이 세계적으로 인기를 끌고 있습니다. 역사적으로는 삼국 시대, 고려, 조선 등을 거쳤으며, 20세기 중반 분단과 한국 전쟁을 경험했습니다. 문화유산과 현대적 발전이 조화를 이루는 나라입니다.\n",
      "CPU times: total: 78.1 ms\n",
      "Wall time: 3.91 s\n"
     ]
    }
   ],
   "execution_count": 4
  },
  {
   "metadata": {
    "ExecuteTime": {
     "end_time": "2025-03-28T04:18:11.310243Z",
     "start_time": "2025-03-28T04:18:07.150454Z"
    }
   },
   "cell_type": "code",
   "source": [
    "%%time\n",
    "from langchain.globals import set_llm_cache\n",
    "from langchain.cache import InMemoryCache\n",
    "\n",
    "# 인메모리 캐시를 사용\n",
    "set_llm_cache(InMemoryCache())\n",
    "\n",
    "# 체인을 실행\n",
    "response = chain.invoke({\"country\": \"한국\"})\n",
    "print(response.content)"
   ],
   "id": "e2c8ec36f601682f",
   "outputs": [
    {
     "name": "stdout",
     "output_type": "stream",
     "text": [
      "한국은 동아시아에 위치한 한반도의 국가로, 북한과 남한으로 나뉘어 있다. 남한은 민주주의 체제를 갖추고 있으며, 경제적으로는 세계적인 IT 강국으로 알려져 있다. 한국은 독특한 문화유산과 전통을 보존하면서도 K-pop, K-drama 등 현대 문화를 세계에 알리고 있다. 역사적으로는 전쟁과 분단의 아픔을 겪었으나, 현재는 국제 사회에서 중요한 역할을 하고 있다.\n",
      "CPU times: total: 109 ms\n",
      "Wall time: 4.15 s\n"
     ]
    }
   ],
   "execution_count": 5
  },
  {
   "metadata": {
    "ExecuteTime": {
     "end_time": "2025-03-28T04:18:52.323722Z",
     "start_time": "2025-03-28T04:18:52.314452Z"
    }
   },
   "cell_type": "code",
   "source": [
    "%%time\n",
    "\n",
    "response = chain.invoke({\"country\": \"한국\"})\n",
    "print(response.content)"
   ],
   "id": "ee9a842f16eb093c",
   "outputs": [
    {
     "name": "stdout",
     "output_type": "stream",
     "text": [
      "한국은 동아시아에 위치한 한반도의 국가로, 북한과 남한으로 나뉘어 있다. 남한은 민주주의 체제를 갖추고 있으며, 경제적으로는 세계적인 IT 강국으로 알려져 있다. 한국은 독특한 문화유산과 전통을 보존하면서도 K-pop, K-drama 등 현대 문화를 세계에 알리고 있다. 역사적으로는 전쟁과 분단의 아픔을 겪었으나, 현재는 국제 사회에서 중요한 역할을 하고 있다.\n",
      "CPU times: total: 15.6 ms\n",
      "Wall time: 5.51 ms\n"
     ]
    }
   ],
   "execution_count": 6
  },
  {
   "metadata": {},
   "cell_type": "markdown",
   "source": "# SQLite Cache",
   "id": "57557046c4e69b62"
  },
  {
   "metadata": {
    "ExecuteTime": {
     "end_time": "2025-03-28T04:24:30.671600Z",
     "start_time": "2025-03-28T04:24:30.630640Z"
    }
   },
   "cell_type": "code",
   "source": [
    "from langchain_core.globals import set_llm_cache\n",
    "from langchain_community.cache import SQLiteCache\n",
    "import os\n",
    "\n",
    "# 캐시 디렉토리 생성\n",
    "if not os.path.exists(\"cache\"):\n",
    "    os.makedirs(\"cache\")\n",
    "\n",
    "# SQLiteCache를 사용\n",
    "set_llm_cache(SQLiteCache(database_path=\"cache/llm_cache.db\"))"
   ],
   "id": "988fd4ae457f8f74",
   "outputs": [],
   "execution_count": 7
  },
  {
   "metadata": {
    "ExecuteTime": {
     "end_time": "2025-03-28T04:24:56.142776Z",
     "start_time": "2025-03-28T04:24:51.667359Z"
    }
   },
   "cell_type": "code",
   "source": [
    "%%time\n",
    "\n",
    "response = chain.invoke({\"country\": \"한국\"})\n",
    "print(response.content)"
   ],
   "id": "92f46ac1549c49b0",
   "outputs": [
    {
     "name": "stdout",
     "output_type": "stream",
     "text": [
      "한국은 동아시아에 위치한 한반도로, 북쪽은 북한, 남쪽은 대한민국으로 나뉩니다. 한국은 역사와 문화가 풍부하며, 기술 발전과 K-POP, 한류 열풍으로 세계적으로 알려져 있습니다. 삼국시대부터 고려, 조선까지의 역사를 가지고 있으며, 현대에는 경제강국으로 성장했습니다. 전통과 현대가 조화를 이루는 사회로, 맛있는 음식과 아름다운 자연경관이 매력적입니다.\n",
      "CPU times: total: 15.6 ms\n",
      "Wall time: 4.47 s\n"
     ]
    }
   ],
   "execution_count": 8
  },
  {
   "metadata": {
    "ExecuteTime": {
     "end_time": "2025-03-28T04:25:01.752476Z",
     "start_time": "2025-03-28T04:25:01.741903Z"
    }
   },
   "cell_type": "code",
   "source": [
    "%%time\n",
    "\n",
    "response = chain.invoke({\"country\": \"한국\"})\n",
    "print(response.content)"
   ],
   "id": "d84f8e12b51b2648",
   "outputs": [
    {
     "name": "stdout",
     "output_type": "stream",
     "text": [
      "한국은 동아시아에 위치한 한반도로, 북쪽은 북한, 남쪽은 대한민국으로 나뉩니다. 한국은 역사와 문화가 풍부하며, 기술 발전과 K-POP, 한류 열풍으로 세계적으로 알려져 있습니다. 삼국시대부터 고려, 조선까지의 역사를 가지고 있으며, 현대에는 경제강국으로 성장했습니다. 전통과 현대가 조화를 이루는 사회로, 맛있는 음식과 아름다운 자연경관이 매력적입니다.\n",
      "CPU times: total: 0 ns\n",
      "Wall time: 5 ms\n"
     ]
    }
   ],
   "execution_count": 9
  }
 ],
 "metadata": {
  "kernelspec": {
   "display_name": "Python 3",
   "language": "python",
   "name": "python3"
  },
  "language_info": {
   "codemirror_mode": {
    "name": "ipython",
    "version": 2
   },
   "file_extension": ".py",
   "mimetype": "text/x-python",
   "name": "python",
   "nbconvert_exporter": "python",
   "pygments_lexer": "ipython2",
   "version": "2.7.6"
  }
 },
 "nbformat": 4,
 "nbformat_minor": 5
}
