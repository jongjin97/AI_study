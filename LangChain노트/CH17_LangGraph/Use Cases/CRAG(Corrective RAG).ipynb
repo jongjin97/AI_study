{
 "cells": [
  {
   "cell_type": "code",
   "id": "initial_id",
   "metadata": {
    "collapsed": true,
    "ExecuteTime": {
     "end_time": "2025-04-25T04:18:18.271990Z",
     "start_time": "2025-04-25T04:18:18.255326Z"
    }
   },
   "source": [
    "from dotenv import load_dotenv\n",
    "\n",
    "# API 키 정보 로드\n",
    "load_dotenv()\n",
    "from langchain_teddynote import logging\n",
    "\n",
    "# 프로젝트 이름을 입력합니다.\n",
    "logging.langsmith(\"CH17-LangGraph-Use-Cases\")"
   ],
   "outputs": [
    {
     "name": "stdout",
     "output_type": "stream",
     "text": [
      "LangSmith 추적을 시작합니다.\n",
      "[프로젝트명]\n",
      "CH17-LangGraph-Use-Cases\n"
     ]
    }
   ],
   "execution_count": 1
  },
  {
   "metadata": {},
   "cell_type": "markdown",
   "source": "# 기본 PDF 기반 Retrieval Chain 생성\n",
   "id": "1e7fc35d2a265e7e"
  },
  {
   "metadata": {
    "ExecuteTime": {
     "end_time": "2025-04-25T04:18:57.399099Z",
     "start_time": "2025-04-25T04:18:45.786930Z"
    }
   },
   "cell_type": "code",
   "source": [
    "from rag.pdf import PDFRetrievalChain\n",
    "\n",
    "# PDF 문서를 로드\n",
    "pdf = PDFRetrievalChain([\"data/SPRI_AI_Brief_2023년12월호_F.pdf\"]).create_chain()\n",
    "\n",
    "# retriever 와 chain을 생성\n",
    "pdf_retriever = pdf.retriever\n",
    "pdf_chain = pdf.chain"
   ],
   "id": "a5134546e89c6f4e",
   "outputs": [],
   "execution_count": 2
  },
  {
   "metadata": {},
   "cell_type": "markdown",
   "source": "# 검색된 문서의 관련성 평가 (Question-Retrieval Evaluation)\n",
   "id": "e18c710a34342f05"
  },
  {
   "metadata": {
    "ExecuteTime": {
     "end_time": "2025-04-25T04:20:00.978022Z",
     "start_time": "2025-04-25T04:19:59.572872Z"
    }
   },
   "cell_type": "code",
   "source": [
    "from langchain_core.prompts import ChatPromptTemplate\n",
    "from langchain_openai import ChatOpenAI\n",
    "from langchain_teddynote.models import get_model_name, LLMs\n",
    "from pydantic import BaseModel, Field\n",
    "\n",
    "# 모델 이름 가져오기\n",
    "MODEL_NAME = get_model_name(LLMs.GPT4)\n",
    "\n",
    "\n",
    "# 검색된 문서의 관련성 여부를 이진 점수로 평가하는 데이터 모델\n",
    "class GradeDocuments(BaseModel):\n",
    "    \"\"\"A binary score to determine the relevance of the retrieved document.\"\"\"\n",
    "\n",
    "    # 문서가 질문과 관련이 있는지 여부를 'yes' 또는 'no'로 나타내는 필드\n",
    "    binary_score: str = Field(\n",
    "        description=\"Documents are relevant to the question, 'yes' or 'no'\"\n",
    "    )\n",
    "\n",
    "\n",
    "# LLM 초기화\n",
    "llm = ChatOpenAI(model=MODEL_NAME, temperature=0)\n",
    "\n",
    "# GradeDocuments 데이터 모델을 사용하여 구조화된 출력을 생성하는 LLM\n",
    "structured_llm_grader = llm.with_structured_output(GradeDocuments)\n",
    "\n",
    "# 시스템 프롬프트 정의\n",
    "system = \"\"\"You are a grader assessing relevance of a retrieved document to a user question. \\n\n",
    "    If the document contains keyword(s) or semantic meaning related to the question, grade it as relevant. \\n\n",
    "    Give a binary score 'yes' or 'no' score to indicate whether the document is relevant to the question.\"\"\"\n",
    "\n",
    "# 채팅 프롬프트 템플릿 생성\n",
    "grade_prompt = ChatPromptTemplate.from_messages(\n",
    "    [\n",
    "        (\"system\", system),\n",
    "        (\"human\", \"Retrieved document: \\n\\n {document} \\n\\n User question: {question}\"),\n",
    "    ]\n",
    ")\n",
    "\n",
    "# Retrieval 평가기 초기화\n",
    "retrieval_grader = grade_prompt | structured_llm_grader"
   ],
   "id": "5f9a9c89b2fc8366",
   "outputs": [],
   "execution_count": 3
  },
  {
   "metadata": {
    "ExecuteTime": {
     "end_time": "2025-04-25T04:20:08.009758Z",
     "start_time": "2025-04-25T04:20:05.813420Z"
    }
   },
   "cell_type": "code",
   "source": [
    "# 질문 정의\n",
    "question = \"삼성전자가 개발한 생성AI 에 대해 설명하세요.\"\n",
    "\n",
    "# 문서 검색\n",
    "docs = pdf_retriever.invoke(question)\n",
    "\n",
    "# 검색된 문서 중 1번 index 문서의 페이지 내용을 추출\n",
    "doc_txt = docs[1].page_content\n",
    "\n",
    "# 검색된 문서와 질문을 사용하여 관련성 평가를 실행하고 결과 출력\n",
    "print(retrieval_grader.invoke({\"question\": question, \"document\": doc_txt}))"
   ],
   "id": "52368c57a920dba7",
   "outputs": [
    {
     "name": "stdout",
     "output_type": "stream",
     "text": [
      "binary_score='yes'\n"
     ]
    }
   ],
   "execution_count": 4
  },
  {
   "metadata": {},
   "cell_type": "markdown",
   "source": "# 답변 생성 체인\n",
   "id": "85828447692c951c"
  },
  {
   "metadata": {
    "ExecuteTime": {
     "end_time": "2025-04-25T04:20:27.509912Z",
     "start_time": "2025-04-25T04:20:23.311926Z"
    }
   },
   "cell_type": "code",
   "source": [
    "from langchain import hub\n",
    "from langchain_core.output_parsers import StrOutputParser\n",
    "from langchain_openai import ChatOpenAI\n",
    "\n",
    "\n",
    "# LangChain Hub에서 RAG 프롬프트를 가져와 사용\n",
    "prompt = hub.pull(\"teddynote/rag-prompt\")\n",
    "\n",
    "# LLM 초기화\n",
    "llm = ChatOpenAI(model_name=MODEL_NAME, temperature=0)\n",
    "\n",
    "\n",
    "# 문서 포맷팅\n",
    "def format_docs(docs):\n",
    "    return \"\\n\\n\".join(\n",
    "        [\n",
    "            f'<document><content>{doc.page_content}</content><source>{doc.metadata[\"source\"]}</source><page>{doc.metadata[\"page\"]+1}</page></document>'\n",
    "            for doc in docs\n",
    "        ]\n",
    "    )\n",
    "\n",
    "\n",
    "# 체인 생성\n",
    "rag_chain = prompt | llm | StrOutputParser()\n",
    "\n",
    "\n",
    "# 체인 실행 및 결과 출력\n",
    "generation = rag_chain.invoke({\"context\": format_docs(docs), \"question\": question})\n",
    "print(generation)"
   ],
   "id": "c2365ef78279a283",
   "outputs": [
    {
     "name": "stdout",
     "output_type": "stream",
     "text": [
      "삼성전자가 개발한 생성 AI '삼성 가우스'는 온디바이스에서 작동하며, 언어, 코드, 이미지의 3개 모델로 구성되어 있습니다. 이 모델은 외부로 사용자 정보가 유출될 위험이 없으며, 다양한 제품에 단계적으로 탑재될 계획입니다. 삼성 가우스는 안전한 데이터를 통해 학습되었고, 최적화된 크기의 모델 선택이 가능합니다.\n",
      "\n",
      "**Source**\n",
      "- data/SPRI_AI_Brief_2023년12월호_F.pdf (page 13)\n"
     ]
    }
   ],
   "execution_count": 5
  },
  {
   "metadata": {},
   "cell_type": "markdown",
   "source": "# 쿼리 재작성(Question Re-writer)\n",
   "id": "2e9d5fa9f2ed778b"
  },
  {
   "metadata": {
    "ExecuteTime": {
     "end_time": "2025-04-25T04:20:55.394100Z",
     "start_time": "2025-04-25T04:20:54.481047Z"
    }
   },
   "cell_type": "code",
   "source": [
    "from langchain_core.prompts import ChatPromptTemplate\n",
    "from langchain_core.output_parsers import StrOutputParser\n",
    "from langchain_openai import ChatOpenAI\n",
    "\n",
    "# LLM 설정\n",
    "llm = ChatOpenAI(model=MODEL_NAME, temperature=0)\n",
    "\n",
    "# Query Rewrite 시스템 프롬프트\n",
    "system = \"\"\"You a question re-writer that converts an input question to a better version that is optimized\n",
    "for web search. Look at the input and try to reason about the underlying semantic intent / meaning.\"\"\"\n",
    "\n",
    "# 프롬프트 정의\n",
    "re_write_prompt = ChatPromptTemplate.from_messages(\n",
    "    [\n",
    "        (\"system\", system),\n",
    "        (\n",
    "            \"human\",\n",
    "            \"Here is the initial question: \\n\\n {question} \\n Formulate an improved question.\",\n",
    "        ),\n",
    "    ]\n",
    ")\n",
    "\n",
    "# Question Re-writer 체인 초기화\n",
    "question_rewriter = re_write_prompt | llm | StrOutputParser()"
   ],
   "id": "82abd4e867ff296d",
   "outputs": [],
   "execution_count": 6
  },
  {
   "metadata": {
    "ExecuteTime": {
     "end_time": "2025-04-25T04:21:03.921621Z",
     "start_time": "2025-04-25T04:21:03.001447Z"
    }
   },
   "cell_type": "code",
   "source": [
    "# 실행 및 결과 확인\n",
    "print(f'[원본 질문]: \"{question}\"')\n",
    "print(\"[쿼리 재작성]:\", question_rewriter.invoke({\"question\": question}))"
   ],
   "id": "376c9f360c148dd9",
   "outputs": [
    {
     "name": "stdout",
     "output_type": "stream",
     "text": [
      "[원본 질문]: \"삼성전자가 개발한 생성AI 에 대해 설명하세요.\"\n",
      "[쿼리 재작성]: \"삼성전자가 개발한 생성 AI의 특징과 기능에 대해 자세히 설명해 주세요.\"\n"
     ]
    }
   ],
   "execution_count": 7
  },
  {
   "metadata": {},
   "cell_type": "markdown",
   "source": "# 웹 검색 도구\n",
   "id": "14c30f69ad9ce549"
  },
  {
   "metadata": {
    "ExecuteTime": {
     "end_time": "2025-04-25T04:21:16.626888Z",
     "start_time": "2025-04-25T04:21:15.344638Z"
    }
   },
   "cell_type": "code",
   "source": [
    "# 웹 검색 도구 초기화\n",
    "from langchain_teddynote.tools.tavily import TavilySearch\n",
    "\n",
    "# 최대 검색 결과를 3으로 설정\n",
    "web_search_tool = TavilySearch(max_results=3)\n"
   ],
   "id": "989443ebf39c1290",
   "outputs": [],
   "execution_count": 8
  },
  {
   "metadata": {
    "ExecuteTime": {
     "end_time": "2025-04-25T04:21:22.379257Z",
     "start_time": "2025-04-25T04:21:19.857646Z"
    }
   },
   "cell_type": "code",
   "source": [
    "# 웹 검색 도구 실행\n",
    "results = web_search_tool.invoke({\"query\": question})\n",
    "print(results)"
   ],
   "id": "dfc9784279c5dcff",
   "outputs": [
    {
     "name": "stdout",
     "output_type": "stream",
     "text": [
      "[{'title': '삼성전자, 생성 Ai 모델 \\'삼성 가우스\\' 공개...언어‧코드‧이미지 3개 모델, \"생산성 향상과 새로운 사용자 경험 제공할 것!\"', 'url': 'https://www.aitimes.kr/news/articleView.html?idxno=29318', 'content': '삼성전자, 생성 AI 모델 \\'삼성 가우스\\' 공개...언어‧코드‧이미지 3개 모델, \"생산성 향상과 새로운 사용자 경험 제공할 것!\" < 플랫폼 < AI Tech < 기사본문 - 인공지능신문 삼성전자, 생성 AI 모델 \\'삼성 가우스\\' 공개...언어‧코드‧이미지 3개 모델, \"생산성 향상과 새로운 사용자 경험 제공할 것!\" 삼성전자, 생성 AI 모델 \\'삼성 가우스\\' 공개...언어‧코드‧이미지 3개 모델, \"생산성 향상과 새로운 사용자 경험 제공할 것!\" 삼성전자가 8일, 삼성전자 서울R&D캠퍼스에서 열린 \\'삼성 AI 포럼 2023\\'을 통해\\xa0생성 AI 모델 \\'삼성 가우스(Samsung Gauss)\\'를 최초 공개했다. 또 \"삼성전자는 AI 기술 개발뿐만 아니라 AI 활용시 보안 및 안전성을 확보하기 위해 \\'AI 윤리 원칙\\'을 정해 이를 준수하기 위해 노력하고 있다\"며, \"삼성전자는 생성형 AI에 대한 지속적 연구를 통해 소비자의 경험 가치를 높여 나갈 계획\"이라고 강조했다.', 'score': 0.7555112, 'raw_content': '삼성전자, 생성 AI 모델 \\'삼성 가우스\\' 공개...언어‧코드‧이미지 3개 모델, \"생산성 향상과 새로운 사용자 경험 제공할 것!\" < 플랫폼 < AI Tech < 기사본문 - 인공지능신문\\n주요서비스 바로가기 본문 바로가기 매체정보 바로가기 로그인 바로가기 기사검색 바로가기 전체서비스 바로가기\\n상단영역\\n\\n취재의뢰\\n기사제보\\n뉴스레터신청\\n행사문의\\n\\n후원·협찬문의\\n\\n\\n로그인\\n\\n회원가입\\n모바일웹\\n\\n\\n\\n전체메뉴 버튼\\n\\nAI Tech\\nMachine Learnig\\nDeep Learning\\nNeural Network\\n자연어\\n음성\\n이미지\\n칩·부품\\n컴퓨팅\\n플랫폼\\n솔루션\\n\\n\\nAI Industry\\n챗봇\\n데이터\\n클라우드\\n네트워크\\nIoT\\n자율주행\\n의료·헬스케어\\n로봇\\n스마트팩토리\\n스마트시티·홈\\n반도체\\n보안·금융\\nICT\\nAssistant\\n디바이스\\n\\n\\nFOCUS\\n정책\\n인물\\n기업\\n기술\\n기획\\n리서치\\n\\n\\nTODAY\\n세미나\\n컨퍼런스\\n포럼\\n발표\\n교육\\n이벤트\\n\\n\\nOPINION\\n동정\\n칼럼\\n인터뷰\\n\\n\\n\\n기사검색  검색\\n인공지능신문 행사\\n본문영역\\n\\n\\n이전 기사보기 다음 기사보기\\n\\n삼성전자, 생성 AI 모델 \\'삼성 가우스\\' 공개...언어‧코드‧이미지 3개 모델, \"생산성 향상과 새로운 사용자 경험 제공할 것!\"\\n바로가기 복사하기 본문 글씨 줄이기 본문 글씨 키우기\\n스크롤 이동 상태바\\n현재위치\\n\\n홈\\nAI Tech\\n플랫폼\\n\\n삼성전자, 생성 AI 모델 \\'삼성 가우스\\' 공개...언어‧코드‧이미지 3개 모델, \"생산성 향상과 새로운 사용자 경험 제공할 것!\"\\n\\n기자명 전미준 기자\\n입력 2023.11.08 10:30\\n댓글 0\\n\\n바로가기 복사하기 본문 글씨 줄이기 본문 글씨 키우기\\nSNS 기사보내기\\n페이스북(으)로 기사보내기 트위터(으)로 기사보내기 카카오스토리(으)로 기사보내기 네이버블로그(으)로 기사보내기 URL복사(으)로 기사보내기 이메일(으)로 기사보내기 다른 공유 찾기 기사스크랩하기 \\n이 기사를 공유합니다\\n페이스북(으)로 기사보내기 트위터(으)로 기사보내기 카카오스토리(으)로 기사보내기 네이버블로그(으)로 기사보내기 URL복사(으)로 기사보내기\\n닫기\\n‘언어 모델’은 메일 작성, 문서 요약, 번역 등 업무를 더 쉽고 빠르게 처리. ‘코드 모델’은 사내 소프트웨어 개발에 최적화되어 개발자들이 쉽고 빠르게 코딩할 수 있도록 도와주며 대화형 인터페이스를 통해 코드 설명이나 테스트 케이스 생성 등의 서비스를 제공. ‘이미지 모델’은 사진이나 그림 등 창의적인 이미지를 손쉽게 만들고 기존 이미지를 원하는 대로 바꿀 수 있도록 도와준다.\\n\\n이미지:삼성전자\\n삼성전자가 8일, 삼성전자 서울R&D캠퍼스에서 열린 \\'삼성 AI 포럼 2023\\'을 통해\\xa0생성 AI 모델 \\'삼성 가우스(Samsung Gauss)\\'를 최초 공개했다.\\n삼성전자는 \\'삼성 가우스\\'를 활용해 회사 내 업무 혁신을 추진하고 나아가 사람들의 일상에 새로운 경험을 제공하기 위해 생성형 AI 기술을 발전시킨다는 계획이다.\\n삼성리서치에서 개발한 이 모델 \\'삼성 가우스\\'\\'는 정규분포 이론을 정립한 천재 수학자 칼 프리드리히 가우스(Carl Friedrich Gauss)로부터 영감을 얻은 생성형 AI 모델로, 삼성이 추구하는 생성형 AI의 무한한 가능성을 의미한다.\\n삼성 가우스는 머신러닝 기술을 기반으로 ▷텍스트를 생성하는 언어 모델(Samsung Gauss Language) ▷코드를 생성하는 코드 모델(Samsung Gauss Code) ▷이미지를 생성하는 이미지 모델(Samsung Gauss Image) 등 3가지 모델로 구성되어 있다.\\n\\n삼성 가우스 3개 모델\\n먼저, 언어 모델은 클라우드(Cloud)와 온디바이스(On-device)를 위한 다양한 모델들로 이루어져 있다. 메일 작성, 문서 요약, 번역 등 업무를 더 쉽고 빠르게 처리할 수 있게 해주며 기기를 더욱 스마트하게 제어하여 소비자 경험을 향상시킬 수 있다.\\n또한, 코드 모델을 기반으로 개발된 AI 코딩 어시스턴트 \\'코드아이(code.i)\\'는 사내 소프트웨어 개발에 최적화되어 개발자들이 쉽고 빠르게 코딩할 수 있도록 도와준다. 또, 대화형 인터페이스를 통해 코드 설명이나 테스트 케이스 생성 등의 서비스를 제공한다.\\n이미지 모델은 사진이나 그림 등 창의적인 이미지를 손쉽게 만들고 기존 이미지를 원하는 대로 바꿀 수 있도록 도와준다. 또한, 저해상도 이미지의 고해상도 전환도 쉽게 가능해진다.\\n삼성리서치가 개발한 다양한 온디바이스 AI 기술이 탑재된 제품을 사용할 경우 소비자들은 개인정보 전송없이 기기 제어, 문장 요약, 문법 교정 등을 더 쉽고 편리하게 이용할 수 있다.\\n삼성전자는 이러한 생성형 AI 모델들을 다양한 제품에 단계적으로 탑재할 계획이다.\\n\\n삼성리서치 글로벌AI센터 김대현 부센터장(부사장)은 이날\\xa0 \"삼성전자는 생성형 AI에 대한 지속적 연구를 통해 소비자의 경험 가치를 높여 나갈 계획\"이라고 강조\\n이날 삼성리서치 글로벌AI센터 김대현 부센터장(부사장)은 \"생성형 AI 관련 연구를 지속적으로 지원하고 업계와 학계 리더들과 협력하며 함께 성장할 수 있도록 노력하겠다\"고 말했다.\\n또 \"삼성전자는 AI 기술 개발뿐만 아니라 AI 활용시 보안 및 안전성을 확보하기 위해 \\'AI 윤리 원칙\\'을 정해 이를 준수하기 위해 노력하고 있다\"며, \"삼성전자는 생성형 AI에 대한 지속적 연구를 통해 소비자의 경험 가치를 높여 나갈 계획\"이라고 강조했다.\\n\\n이날\\xa0\\'대규모 언어 모델 르네상스의 새로운 패러다임\\'을 주제로 강연 중인 오픈AI\\xa0제이슨 웨이(Jason Wei)\\xa0연구원\\n한편, 삼성전자는\\xa08일, 삼성전자 서울R&D캠퍼스에서 \\'삼성 AI 포럼 2023\\' 둘째 날 행사를 개최했다.\\xa0삼성리서치에서 주관한 이날 포럼에는 삼성전자의 AI 연구 인력뿐만 아니라, AI 기술 교류를 위해 학계 및 업계 AI 전문가 150여 명이 참석했다.\\n이날 한 자리에 모인 AI 전문가들은 전 세계적인 화두가 되고 있는 생성형 AI 기술의 발전 방향을 논의하고 관련 기술에 대한 최신 동향을 공유하고 AI 기술에 대한 논의뿐만 아니라 생성형 AI 기술이 발전하면서 인간의 삶이 어떻게 변화할 지에 대한 심도 깊은 논의도 진행했다.\\n\\'생각의 사슬(Chain-of-Thought)\\' 논문의 저자이기도 한 오픈AI(OpenAI)의 제이슨 웨이(Jason Wei) 연구원은 \\'대규모 언어 모델 르네상스의 새로운 패러다임(New Paradigms in the Large Language Model Renaissance)\\'을 주제로 대규모 언어 모델로 인한 패러다임 변화와 그것이 AI 분야를 어떻게 변화시키고 있는지에 대해 강연했다.\\n또 LLM의 특징과 앞으로의 발전 방향(오픈AI 정형원), \\'멀티 모달(Multi-modal) 대화형 AI\\'(고려대 서홍석 교수)\\xa0, 생성형 AI 활용한 효율적인 코드 생성 기술(서울대 황승원 교수 연구실), 고밀도 2D-3D 실내 예측(서울대 김건희 교수 연구실), 언어 모델 평가 방법(KAIST 서민준 교수 연구실), 긴 맥락을 이해해 영상을 생성하는 \\'텍스트 투 이미지(Text-to-image)\\' 생성 기술(연세대 최종현 교수 연구실) 등\\xa0생성형 AI의 현황과 향후 연구 방향에 대해서 공유했다.\\n전미준 기자 mj1412@aitimes.kr\\n다른기사 보기\\n저작권자 © 인공지능신문 무단전재 및 재배포 금지\\n당신만 안 본 뉴스\\n美 앨런인공지능연구소, 中 \\'딥시크 R1\\'과 유사하며, \\'딥시크 v3\\' 및 \\'GPT-4o\\' 뛰어넘는?... \\'툴루3 405B\\' 오픈소스로 공개\\n급가속 \\'딥시크\\', 데이터 유출 사고로 위기 직면...위즈, \"내부 데이터베이스 인터넷에 노출, 100만 건 이상의 기록 유출\" 가능성 시사\\n설명 가능한 AI, 암 치료 예측의 새로운 지평 열다...다중 모달 데이터 분석 기반 정밀 종양학의 비전 제시\\n[AI 이슈] 딥시크, \"그럼에도 불구하고 \\'인공지능 민주화\\' 서막 열었다!\"\\nKAIS 최원호 교수팀, 인공지능으로 높은 정확도 갖는 홀 전기 추력기 성능 예측 모델 개발\\n카카오, 오픈AI와 전략적 제휴...카카오톡, 카나나 등 서비스에 오픈AI 기술 적용\\n딥엘, 기업 위한 API 솔루션 기능 강화... 차세대 LLM 탑재 및 딥엘 라이트 추가\\n美 앨런인공지능연구소, 中 \\'딥시크 R1\\'과 유사하며, \\'딥시크 v3\\' 및 \\'GPT-4o\\' 뛰어넘는?... \\'툴루3 405B\\' 오픈소스로 공개\\n댓글삭제\\n삭제한 댓글은 다시 복구할 수 없습니다.\\n그래도 삭제하시겠습니까?\\n비밀번호\\n삭제\\n닫기\\n기사 댓글 0\\n댓글 접기\\n로그인 후 이용 가능합니다.\\n댓글 내용입력\\n0 / 400\\n비회원 로그인\\n이름 \\n비밀번호 \\n댓글 내용입력\\n0 / 400 \\xa0등록\\n댓글쓰기\\n계정을 선택하시면 로그인·계정인증을 통해\\n댓글을 남기실 수 있습니다.\\n회원 로그인\\n이름\\n비밀번호\\n자동등록방지\\n확인 \\xa0취소\\n로그인 옵션 창닫기\\n주요기사\\n2025년 데이터바우처 \\'수요기업\\' 공모... 데이터 활용 전주기 지원, 460건 선정 예정\\n[AI 리뷰] 인공지능, 생각하는 기계로 진화하다 - 확장 법칙이 밝히는 AI의 미래\\n딥시크, 저비용 고효율 AI 개발 비밀 공개...그것은 \\'전문가 혼합 모델\\'과 \\'8비트 연산 기법\\'\\n샘 알트먼, \"GPT-5, 올해 안에 온다!\"... 오픈AI, 딥시크 쇼크에 차세대 AI 모델로 승부수\\n아이스아이와 사팀(SATIM), AI 기반 SAR 영상 분석을 위한 신제품 개발 위해 파트너십 체결\\n휴런 , AI 파킨슨병 진단 보조 솔루션 ‘ 휴런 IPD’ 싱가포르 인허가 획득\\n올해의 인기 TOP 3\\n\"내 책상 위에 AI 슈퍼컴퓨터를?\"...엔비디아, 단돈 435만원 \\'2000억개 파라미터 모델 실행하는 세계 최소 AI 슈퍼컴퓨터\\' 출시\\n\"인공지능으로 당뇨병 맞춤 치료 시대 앞당긴다\"... 스탠퍼드 의대 연구팀, 2형 당뇨병 진단 혁신 이끌어\\n\\'에이전트 기반 AI 혁신\\'...마이크로소프트, 완전히 재구성된 \\'오토젠 v0.4\\' 오픈소스로 공개\\n\\n최신뉴스\\n2025년 데이터바우처 \\'수요기업\\' 공모... 데이터 활용 전주기 지원, 460건 선정 예정\\n[AI 리뷰] 인공지능, 생각하는 기계로 진화하다 - 확장 법칙이 밝히는 AI의 미래\\n딥시크, 저비용 고효율 AI 개발 비밀 공개...그것은 \\'전문가 혼합 모델\\'과 \\'8비트 연산 기법\\'\\n샘 알트먼, \"GPT-5, 올해 안에 온다!\"... 오픈AI, 딥시크 쇼크에 차세대 AI 모델로 승부수\\n아이스아이와 사팀(SATIM), AI 기반 SAR 영상 분석을 위한 신제품 개발 위해 파트너십 체결\\n포토뉴스\\n2025년 데이터바우처 \\'수요기업\\' 공모... 데이터 활용 전주기 지원, 460건 선정 예정\\n[AI 리뷰] 인공지능, 생각하는 기계로 진화하다 - 확장 법칙이 밝히는 AI의 미래\\n딥시크, 저비용 고효율 AI 개발 비밀 공개...그것은 \\'전문가 혼합 모델\\'과 \\'8비트 연산 기법\\'\\n샘 알트먼, \"GPT-5, 올해 안에 온다!\"... 오픈AI, 딥시크 쇼크에 차세대 AI 모델로 승부수\\n인기뉴스\\n1 美 앨런인공지능연구소, 中 \\'딥시크 R1\\'과 유사하며, \\'딥시크 v3\\' 및 \\'GPT-4o\\' 뛰어넘는?... \\'툴루3 405B\\' 오픈소스로 공개\\n2 급가속 \\'딥시크\\', 데이터 유출 사고로 위기 직면...위즈, \"내부 데이터베이스 인터넷에 노출, 100만 건 이상의 기록 유출\" 가능성 시사\\n3 설명 가능한 AI, 암 치료 예측의 새로운 지평 열다...다중 모달 데이터 분석 기반 정밀 종양학의 비전 제시\\n4 [AI 이슈] 딥시크, \"그럼에도 불구하고 \\'인공지능 민주화\\' 서막 열었다!\"\\n5 KAIS 최원호 교수팀, 인공지능으로 높은 정확도 갖는 홀 전기 추력기 성능 예측 모델 개발\\n6 카카오, 오픈AI와 전략적 제휴...카카오톡, 카나나 등 서비스에 오픈AI 기술 적용\\n7 딥엘, 기업 위한 API 솔루션 기능 강화... 차세대 LLM 탑재 및 딥엘 라이트 추가\\n8 미 최대 VC에게 1,900억원 투자 받은 \\'스토리\\', 데이비드 고이어와 AI 기반 SF 프랜차이즈 ‘이머전스’ 공개\\n특별인터뷰\\n\"내 책상 위에 AI 슈퍼컴퓨터를?\"...엔비디아, 단돈 435만원 \\'2000억개 파라미터 모델 실행하는 세계 최소 AI 슈퍼컴퓨터\\' 출시\\n\"인공지능으로 당뇨병 맞춤 치료 시대 앞당긴다\"... 스탠퍼드 의대 연구팀, 2형 당뇨병 진단 혁신 이끌어\\n\\'에이전트 기반 AI 혁신\\'...마이크로소프트, 완전히 재구성된 \\'오토젠 v0.4\\' 오픈소스로 공개\\n하단영역\\n\\n하단메뉴\\n매체소개 기사제보 광고문의 이용약관 개인정보처리방침 청소년보호정책 저작권보호정책 이메일무단수집거부 UPDATED. 2025-02-13 17:57 (목)\\n매체정보\\n\\n제호 : 인공지능신문\\n발행·편집인 : 전유준\\n등록번호 : 서울 아 04613\\n상호 : INTERPRESS\\n사업자등록번호 : 106-03-93021\\n서울특별시 중구 서소문로 116 유원빌딩 1318호 / 서울특별시 강북구 삼양로38라길 9\\n대표전화 : 02-6124-3331\\n팩스 : 02-987-3331\\n등록일 : 2017-07-14\\n기사제보 및 광고문의 : press0119@aitimes.kr\\n통신판매업신고 : 제2019-서울강북-0488호\\n청소년보호책임자 : 정한영\\n「열린보도원칙」 당 매체는 독자와 취재원 등 뉴스이용자의 권리 보장을 위해 반론이나 정정보도, 추후보도를 요청할 수 있는 창구를 열어두고 있음을 알려드립니다.\\n    고충처리인 정한영 02-6124-3331 webmaster@aitimes.kr\\n인공지능신문 모든 콘텐츠(영상,기사, 사진)는 저작권법의 보호를 받는 바, 무단 전재와 복사, 배포 등을 금합니다.\\nCopyright © 2025 인공지능신문. All rights reserved. mail to webmaster@aitimes.kr\\xa0\\n\\n\\n위로\\n전체메뉴\\n\\n전체기사\\nHEADLINE\\nAI Tech\\n전체\\nMachine Learnig\\nDeep Learning\\nNeural Network\\n자연어\\n음성\\n이미지\\n칩·부품\\n컴퓨팅\\n플랫폼\\n솔루션\\n\\n\\nAI Industry\\n전체\\n챗봇\\n데이터\\n클라우드\\n네트워크\\nIoT\\n자율주행\\n의료·헬스케어\\n로봇\\n스마트팩토리\\n스마트시티·홈\\n반도체\\n보안·금융\\nICT\\nAssistant\\n디바이스\\n\\n\\nFOCUS\\n전체\\n정책\\n인물\\n기업\\n기술\\n기획\\n리서치\\n\\n\\nTODAY\\n전체\\n세미나\\n컨퍼런스\\n포럼\\n발표\\n교육\\n이벤트\\n\\n\\nOPINION\\n전체\\n동정\\n칼럼\\n인터뷰\\n\\n\\n행사일정\\n올해의 인기 TOP 3\\n\\n전체메뉴닫기'}, {'title': \"삼성전자, '삼성 AI 포럼'서 자체 개발 생성형 AI '삼성 가우스' 공개 - Samsung Newsroom Korea\", 'url': 'https://news.samsung.com/kr/삼성전자-삼성-ai-포럼서-자체-개발-생성형-ai-삼성-가', 'content': '삼성전자, ‘삼성 AI 포럼’서 자체 개발 생성형 AI ‘삼성 가우스’ 공개 – Samsung Newsroom Korea 삼성전자, ‘삼성 AI 포럼’서 자체 개발 생성형 AI ‘삼성 가우스’ 공개 삼성전자가 8일 삼성전자 서울R&D캠퍼스에서 ‘삼성 AI 포럼 2023’ 둘째 날 행사를 개최했다. 삼성전자 자체 개발 생성형 AI 모델 ‘삼성 가우스’ 최초 공개 이번 포럼에서는 삼성리서치에서 개발한 생성형 AI 모델 ‘삼성 가우스(Samsung Gauss)’가 처음으로 공개되어 많은 관심을 받았다. 또 ▲대규모 언어 모델의 특징과 앞으로의 발전 방향(오픈AI 정형원) ▲‘멀티 모달(Multi-modal) 대화형 AI’(고려대 서홍석 교수) ▲생성형 AI 활용한 효율적인 코드 생성 기술(서울대 황승원 교수 연구실) ▲고밀도 2D-3D 실내 예측(서울대 김건희 교수 연구실) ▲언어 모델 평가 방법(KAIST 서민준 교수 연구실) ▲긴 맥락을 이해해 영상을 생성하는 ‘텍스트 투 이미지(Text-to-image)’ 생성 기술(연세대 최종현 교수 연구실) 등 생성형 AI의 현황과 향후 연구 방향에 대해서 공유했다. 삼성전자, 제7회 ‘삼성 AI 포럼’ 개최 삼성전자, ‘삼성 AI 포럼 2023’ 11월 개최', 'score': 0.7382357, 'raw_content': '삼성전자, ‘삼성 AI 포럼’서 자체 개발 생성형 AI ‘삼성 가우스’ 공개 – Samsung Newsroom Korea\\n삼성전자 뉴스룸의 동영상 콘텐츠는 더 이상 Internet Explorer를 지원하지 않습니다. 최적의 시청 환경을 위해 다른 웹브라우저 사용을 권장합니다.\\nclose\\n본문 바로가기\\n\\n기업뉴스\\n기업문화\\n기술\\n디자인\\n경영일반\\n\\n\\n제품뉴스\\n모바일\\nTV/디스플레이\\n가전\\n반도체\\n더 많은 제품\\n\\n\\n미래동행\\n사회공헌\\n친환경\\n지속가능경영\\n\\n\\n프레스센터\\n보도자료\\n미디어 라이브러리\\n이슈와 팩트\\n회사소개(Fast-Facts)\\n\\n\\n\\n메뉴 열기 검색 레이어 열기 삼성 뉴스룸 국가 선택\\n검색 닫기\\n검색  검색어 삭제    검색\\n\\n갤럭시 S25\\nMWC\\nAI\\nOne UI\\nCSR\\n\\n상세검색\\n날짜별\\n\\n날짜별\\n전체 날짜\\n1주일전\\n1개월전\\n1년전\\n기간설정\\n\\n정렬방식\\n\\n정렬방식\\n최신순\\n인기순\\n\\n분류별\\n\\n분류별\\n전체\\n기획기사\\n보도자료\\n\\n이전 달다음 달\\n| 일 | 월 | 화 | 수 | 목 | 금 | 토 |\\n| --- | --- | --- | --- | --- | --- | --- |\\n| \\xa0 | \\xa0 | 1 | 2 | 3 | 4 | 5 |\\n| 6 | 7 | 8 | 9 | 10 | 11 | 12 |\\n| 13 | 14 | 15 | 16 | 17 | 18 | 19 |\\n| 20 | 21 | 22 | 23 | 24 | 25 | 26 |\\n| 27 | 28 | 29 | 30 | \\xa0 | \\xa0 | \\xa0 |\\n검색기간 시작일 \\n이전 달다음 달\\n| 일 | 월 | 화 | 수 | 목 | 금 | 토 |\\n| --- | --- | --- | --- | --- | --- | --- |\\n| \\xa0 | \\xa0 | 1 | 2 | 3 | 4 | 5 |\\n| 6 | 7 | 8 | 9 | 10 | 11 | 12 |\\n| 13 | 14 | 15 | 16 | 17 | 18 | 19 |\\n| 20 | 21 | 22 | 23 | 24 | 25 | 26 |\\n| 27 | 28 | 29 | 30 | \\xa0 | \\xa0 | \\xa0 |\\n검색기간 종료일 \\n확인 취소\\n검색창닫기\\n삼성전자, ‘삼성 AI 포럼’서 자체 개발 생성형 AI ‘삼성 가우스’ 공개\\n2023/11/08\\n본문듣기 AUDIO Play\\n공유하기 공유 레이어 열기 인쇄하기\\n공유 레이어 열기/닫기\\n\\n\\n\\n\\n\\n\\n\\n\\n현재 페이지 주소  주소복사\\n주소가 복사되었습니다. 현재 페이지 주소 \\n주소복사 팝업 열기\\n공유 레이어 닫기\\n삼성전자가 8일 삼성전자 서울R&D캠퍼스에서 ‘삼성 AI 포럼 2023’ 둘째 날 행사를 개최했다.\\n삼성리서치에서 주관한 이날 포럼에는 삼성전자의 AI 연구 인력뿐만 아니라, AI 기술 교류를 위해 학계 및 업계 AI 전문가 150여 명이 참석했다.\\n삼성전자는 2017년부터 매년 SAIT와 삼성리서치 주관으로 ‘삼성 AI포럼’을 개최하며 AI 핵심기술 발전 방향과 혁신을 논의하고 AI 리더십을 강화하고 있다.\\n한 자리에 모인 AI 전문가들은 전 세계적인 화두가 되고 있는 생성형 AI 기술의 발전 방향을 논의하고 관련 기술에 대한 최신 동향을 공유했다.\\n또한, AI 기술에 대한 논의뿐만 아니라 생성형 AI 기술이 발전하면서 인간의 삶이 어떻게 변화할 지에 대한 심도 깊은 논의도 진행했다.\\n삼성전자 자체 개발 생성형 AI 모델 ‘삼성 가우스’ 최초 공개\\n이번 포럼에서는 삼성리서치에서 개발한 생성형 AI 모델 ‘삼성 가우스(Samsung Gauss)’가 처음으로 공개되어 많은 관심을 받았다.\\n삼성전자는 ‘삼성 가우스’를 활용해 회사 내 업무 혁신을 추진하고 나아가 사람들의 일상에 새로운 경험을 제공하기 위해 생성형 AI 기술을 발전시킬 계획이다.\\n‘삼성 가우스’는 정규분포 이론을 정립한 천재 수학자 칼 프리드리히 가우스(Carl Friedrich Gauss)로부터 영감을 얻은 생성형 AI 모델로, 삼성이 추구하는 생성형 AI의 무한한 가능성을 의미한다.\\n삼성 가우스는 머신 러닝 기술을 기반으로 ▲텍스트를 생성하는 언어 모델(Samsung Gauss Language) ▲코드를 생성하는 코드 모델(Samsung Gauss Code) ▲이미지를 생성하는 이미지 모델(Samsung Gauss Image) 등 3가지 모델로 구성되어 있다.\\n언어 모델은 클라우드(Cloud)와 온디바이스(On-device)를 위한 다양한 모델들로 이루어져 있다. ▲메일 작성 ▲문서 요약 ▲번역 등 업무를 더 쉽고 빠르게 처리할 수 있게 해주며 기기를 더욱 스마트하게 제어하여 소비자 경험을 향상시킬 수 있다.\\n코드 모델을 기반으로 개발된 AI 코딩 어시스턴트 ‘코드아이(code.i)’는 사내 소프트웨어 개발에 최적화되어 개발자들이 쉽고 빠르게 코딩할 수 있도록 도와준다. 또, 대화형 인터페이스를 통해 코드 설명이나 테스트 케이스 생성 등의 서비스를 제공한다.\\n이미지 모델은 사진이나 그림 등 창의적인 이미지를 손쉽게 만들고 기존 이미지를 원하는 대로 바꿀 수 있도록 도와준다. 또한, 저해상도 이미지의 고해상도 전환도 쉽게 가능해진다.\\n또한 ‘삼성 가우스’를 활용한 온디바이스 AI 기술도 소개했다.\\n삼성리서치가 개발한 다양한 온디바이스 AI 기술이 탑재된 제품을 사용할 경우 소비자들은 개인정보 전송없이 ▲기기 제어 ▲문장 요약 ▲문법 교정 등을 더 쉽고 편리하게 이용할 수 있다.\\n삼성전자는 이러한 생성형 AI 모델들을 다양한 제품에 단계적으로 탑재할 계획이다.\\n“지속적인 생성형 AI 연구 통해 소비자 경험 가치 높여나갈 것”\\n삼성리서치 글로벌AI센터 김대현 부센터장(부사장)은 환영사를 통해 “생성형 AI 관련 연구를 지속적으로 지원하고 업계와 학계 리더들과 협력하며 함께 성장할 수 있도록 노력하겠다”고 말했다.\\n또 “삼성전자는 AI 기술 개발뿐만 아니라 AI 활용시 보안 및 안전성을 확보하기 위해 ‘AI 윤리 원칙’을 정해 이를 준수하기 위해 노력하고 있다”며, “삼성전자는 생성형 AI에 대한 지속적 연구를 통해 소비자의 경험 가치를 높여 나갈 계획”이라고 강조했다.\\n한편, 삼성 AI 포럼에 참석한 강연자들은 다양한 연구 성과를 참석자들과 공유했다.\\n‘생각의 사슬(Chain-of-Thought)’ 논문의 저자이기도 한 오픈AI(OpenAI)의 제이슨 웨이(Jason Wei) 연구원은 ‘대규모 언어 모델 르네상스의 새로운 패러다임(New Paradigms in the Large Language Model Renaissance)’을 주제로 대규모 언어 모델로 인한 패러다임 변화와 그것이 AI 분야를 어떻게 변화시키고 있는지에 대해 강연했다.\\n또 ▲대규모 언어 모델의 특징과 앞으로의 발전 방향(오픈AI 정형원) ▲‘멀티 모달(Multi-modal) 대화형 AI’(고려대 서홍석 교수) ▲생성형 AI 활용한 효율적인 코드 생성 기술(서울대 황승원 교수 연구실) ▲고밀도 2D-3D 실내 예측(서울대 김건희 교수 연구실) ▲언어 모델 평가 방법(KAIST 서민준 교수 연구실) ▲긴 맥락을 이해해 영상을 생성하는 ‘텍스트 투 이미지(Text-to-image)’ 생성 기술(연세대 최종현 교수 연구실) 등 생성형 AI의 현황과 향후 연구 방향에 대해서 공유했다.\\n▲ 삼성 AI 포럼 포스터\\n▲ 삼성 가우스 소개\\n▲‘삼성 AI 포럼 2023’ 전경\\n\\n▲‘삼성 AI 포럼 2023’에서 환영사를 하고 있는 삼성전자 김대현 부사장\\n▲‘삼성 AI 포럼 2023’에서 ‘대규모 언어 모델 르네상스의 새로운 패러다임’을 주제로 강연 중인 오픈AI 제이슨 웨이(Jason Wei) 연구원\\n\\nTAGSAISamsung Gauss삼성 AI 포럼삼성 AI 포럼 2023삼성 가우스생성형 AI\\n기업뉴스 > 기술\\n기업뉴스\\n프레스센터 > 보도자료\\n프레스센터\\n보다 다양한 삼성전자 소식은?\\n\\n삼성전자, 제7회 ‘삼성 AI 포럼’ 개최\\n삼성전자, ‘삼성 AI 포럼 2023’ 11월 개최\\n\\n삼성전자 뉴스룸의 직접 제작한 기사와 이미지는 누구나 자유롭게 사용하실 수 있습니다.\\n그러나 삼성전자 뉴스룸이 제공받은 일부 기사와 이미지는 사용에 제한이 있습니다.\\n<삼성전자 뉴스룸 콘텐츠 이용에 대한 안내 바로가기>\\n최신 기사 더보기\\n\\n사이트맵\\n삼성전자 뉴스룸 운영 정책\\n개인정보처리방침\\n\\n삼성전자 뉴스룸 콘텐츠 이용에 대한 안내\\n\\n\\n삼성전자 주식회사\\n\\n대표번호: 02-2255-0114\\n\\nCopyright© 2010-2025 SAMSUNG All Rights Reserved.\\n\\n\\n\\n\\n\\n\\n\\n\\n\\n\\n\\n\\n\\n패밀리 사이트\\nSAMSUNG.COM\\n삼성전자 사회공헌\\n삼성전자 지속가능경영\\n삼성전자 반도체 뉴스룸\\n사이트맵\\n\\n기업뉴스\\n기업문화\\n기술\\n디자인\\n경영일반\\n\\n\\n제품뉴스\\n모바일\\nTV/디스플레이\\n가전\\n반도체\\n더 많은 제품\\n\\n\\n미래동행\\n사회공헌\\n친환경\\n지속가능경영\\n\\n\\n프레스센터\\n보도자료\\n미디어 라이브러리\\n이슈와 팩트\\n회사소개(Fast-Facts)\\n\\n\\n\\n사이트맵 레이어 닫기\\nTOP\\n\\nimage Zoom-in image Zoom-out close'}, {'title': '삼성전자와 Tsmc의 생성형 Ai 활용 업무혁신 경쟁 - 브런치', 'url': 'https://brunch.co.kr/@brunchk1wj/225', 'content': '이 AI 챗봇은 반도체 사업부(DS)의 특성을 고려하여 구축된 시스템으로, 구매 및 경비 처리, 공정·설계·제조 관련 전문 지식 검색, 제조 및 공정 데이터 요약, 번역, 문서 작성, 회의록 작성 및 요약, 시장 및 기업 분석, 코드 생성 및 검토, 고객 피드백 등 다양한 업무 프로세스를 자동화하여 지원합니다. 이 AI 시스템은 실시간 대화, 다국어 번역, 전문 보고서 작성, 소프트웨어 프로그래밍, 복잡한 디버깅 작업 등 다양한 기능을 제공하며 직원들의 업무 효율성을 크게 향상시키고 있습니다. 이 AI 시스템은 복잡한 관리 업무를 효율화하고, 의사결정 과정을 가속화하며, 전반적인 업무 프로세스를 최적화하는 데 중요한 역할을 하고 있습니다. 두 기업 모두 AI 챗봇을 통해 생산성 향상, 비용 절감, 의사결정 가속화 등 다양한 이점을 얻고 있습니다.', 'score': 0.6466616, 'raw_content': \"You can make anythingby writing\\n\\nC.S.Lewis\\n\\n삼성전자와 TSMC의 생성형 AI 활용 업무혁신 경쟁\\n\\n\\n\\n안녕하세요.\\n\\n\\n\\nAI를 활용한 업무혁신 사례를 소개해드리는 디피니트입니다.\\n\\n\\n\\n\\n\\n\\n\\n오늘의 목차입니다.\\n\\n\\n\\n\\n\\n\\n\\n먼저\\xa0반도체 제조기업의\\xa0내부 직원들이 담당하는\\xa0주요 업무들을 살펴보겠습니다.\\n\\n\\n\\n다양한 업무들 중 직원들은 기술 문서 번역 작업에 많은 시간을 할애해야하는데요.\\n\\n글로벌 반도체 기업들은 이 작업들을 챗봇으로 해결하고 있습니다.\\n\\n\\n\\n그럼 삼성전자의 사례부터 살펴볼게요.\\n\\n\\n\\n\\n\\n\\n\\n\\n\\n01. 삼성전자 DS 부문, DS 어시스턴트 도입\\n\\n\\n\\n삼성전자가 자체 개발한 생성형 AI 솔루션인 '삼성 가우스'를 기반으로 한 'DS Assistant'를 출시했습니다.\\n\\n\\n\\n이 AI 챗봇은 반도체 사업부(DS)의 특성을 고려하여 구축된 시스템으로, 구매 및 경비 처리, 공정·설계·제조 관련 전문 지식 검색, 제조 및 공정 데이터 요약, 번역, 문서 작성, 회의록 작성 및 요약, 시장 및 기업 분석, 코드 생성 및 검토, 고객 피드백 등 다양한 업무 프로세스를 자동화하여 지원합니다.\\n\\n\\n\\n삼성전자는 이를 통해 임직원의 업무 생산성을 향상시키고, 향후 모바일 기기와 노트북 등의 제품에도 이 AI 모델을 확대 적용하여 새로운 사용자 경험을 제공할 계획입니다.\\n\\n\\n\\nDS 어시스턴트의 주요 도입 목적은 다음과 같습니다.\\n\\n\\n\\n반도체 사업부에 첨단 생성형 AI 기술에 대한 광범위한 접근 권한을 제공함으로써 기업의 디지털 혁신을 가속화하는 데 중추적인 역할을 하고 있습니다.\\n\\n\\n\\n이 AI 시스템은 시간 소모적이고 복잡한 업무들, 특히 심층적인 시장 및 기업 분석, 다국어 번역, 소프트웨어 코드 생성, 그리고 전문적인 문서 작성 등의 내부 프로세스를 효율적으로 자동화했습니다.\\n\\n\\n\\n이를 통해 직원들은 반복적이고 시간이 많이 소요되는 작업에서 벗어나 더 창의적이고 전략적인 업무에 집중할 수 있게 되었습니다.\\n\\n\\n\\n결과적으로 DS 어시스턴트는 기업 전반의 생산성을 크게 향상시키고, 의사결정 과정을 가속화하며, 혁신적인 아이디어 창출을 촉진함으로써 삼성전자의 글로벌 경쟁력 강화에 실질적인 기여를 하고 있습니다.\\n\\n\\n\\n업무 프로세스 최적화를 통한 임직원 생산성 극대화\\n\\n\\n\\n내부 데이터 보안 강화 및 정보 유출 리스크 최소화\\n\\n\\n\\n외부 AI 서비스 의존도 감소를 통한 기업 보안 체계 강화\\n\\n\\n\\n\\n\\n02. TSMC의 t지니 도입\\n\\n다음으로 TSMC의 직원 도우미 AI 비서, t지니에 대해 살펴볼게요.\\n\\n\\n\\nTSMC는 2023년 5월 자체 개발한 대규모 언어 모델(LLM) 기반의 AI 챗봇 'tGenie'를 공개하여 기업 내 디지털 혁신을 가속화하고 있습니다. 이 AI 시스템은 실시간 대화, 다국어 번역, 전문 보고서 작성, 소프트웨어 프로그래밍, 복잡한 디버깅 작업 등 다양한 기능을 제공하며 직원들의 업무 효율성을 크게 향상시키고 있습니다.\\n\\n\\n\\ntGenie의 도입으로 TSMC는 특히 번역 업무에서 큰 비용 절감 효과를 거두고 있습니다. 2023년 한 해 동안 아웃소싱 번역 비용만 1억 대만 달러(약 41억 7천200만 원) 가량을 절감했으며, 이는 기업의 운영 비용 최적화에 상당한 기여를 하고 있습니다.\\n\\n\\n\\n\\n\\n또한, tGenie는 TSMC의 생산, 물류, 판매, 인사 및 관리 등 다양한 부서에서 폭넓게 활용되고 있습니다. 이 AI 시스템은 복잡한 관리 업무를 효율화하고, 의사결정 과정을 가속화하며, 전반적인 업무 프로세스를 최적화하는 데 중요한 역할을 하고 있습니다.\\n\\n\\n\\nTSMC는 tGenie의 기능을 지속적으로 확장하고 있으며, 향후 재고 관리, 가격 책정, 직원 이직률 예측 등 다양한 예측 업무에도 활용할 계획입니다. 이를 통해 데이터 기반의 정확한 의사결정과 전략 수립이 가능해질 것으로 기대되고 있습니다.\\n\\n\\n\\ntGenie의 개발에는 TSMC의 린홍다 최고정보책임자(CIO) 겸 부사장이 이끄는 100명 규모의 AI 전담팀이 참여했으며, 엔비디아의 AI 칩을 기반으로 한 고성능 AI 서버를 활용하여 약 5개월 만에 완성되었습니다. 이 AI 시스템은 TSMC의 특수한 경영 환경과 파운드리 공장 운영에 최적화된 지식 관리 시스템으로, 높은 수준의 정보 보안을 갖춘 대화형 비서 기능을 제공합니다.\\n\\n\\n\\n\\n\\n\\n\\n오늘 우리는 삼성전자와 TSMC의 AI 챗봇 활용한\\xa0업무 환경 혁신\\xa0사례를 심층적으로 살펴보았습니다.\\n\\n두 기업 모두 AI 챗봇을 통해 생산성 향상, 비용 절감, 의사결정 가속화 등 다양한 이점을 얻고 있습니다.\\n\\n특히, 기술문서 번역에 큰 효과가 있다는 것을 알 수 있었습니다.\\n\\n이는 치열한 글로벌 반도체 경쟁에서 우위를 점하기 위한 전략적 움직임입니다.\\n\\n\\n\\n\\n\\n\\n\\n\\n\\n귀사도 이러한 혁신을 더 이상 미루기 어려운 시점에 와 있습니다. 디피니트의 다비스(DARVIS) 챗봇은 sLLM과 RAG 기술을 기반으로 개발되어 뛰어난 정확도와 성능을 제공합니다.\\xa0특히 다비스는 다음과 같은 장점을 갖고 있습니다.\\n\\n\\n\\n기업의 다양한 시스템(ERP, MES, 그룹웨어 등)과 완벽하게 연동\\n\\n\\n\\n사용자 친화적인 인터페이스 제공\\n\\n\\n\\n기업 특성에 맞는 맞춤형 기능과 관리자 옵션 제공\\n\\n\\n\\n아래 영상은 ERP, MES 시스템 속 데이터를 통합으로 추출하는 장면입니다.\\n\\n재생버튼을 클릭해 확인해주세요.\\n\\n\\n\\n\\n\\n아래 영상은 비정형 데이터인 문서 파일을 검색하는 장면입니다.\\n\\n\\n\\n다비스 챗봇은 실시간으로 사내 데이터를 추출하고 활용할 수 있도록 지원하여, 귀사의 업무 효율성을 크게 향상시키고 경쟁력을 강화할 수 있습니다.\\n\\n\\n\\n이제는 귀사도 AI 챗봇의 도입을 통해 비즈니스 혁신을 이룰 때입니다. 디피니트의 다비스 솔루션을 통해 귀사의 비즈니스가 한 단계 도약할 수 있는 기회를 잡으시기 바랍니다.\\n\\n\\n\\n\\n\\n\\n\\n\\n\\n디피니트와 다비스 챗봇이 궁금하신 분들은 아래 포스팅에서 자세히 확인하실 수 있습니다.\\n\\nhttps://blog.naver.com/dfinite-ai/223700355449\\n\\n안녕하세요. 기술력과 합리적인 비용으로 LLM 기반 RAG 챗봇 구축해드리는 디피니트입니다. 많은 기...\\n\\nblog.naver.com\\n\\n\\n\\n\\n\\n성공적인 다비스 도입 사례가 궁금하신 분들은 아래 링크를 클릭해 자세히 확인해주세요.\\n\\nhttps://blog.dfinite.ai/\\n\\nAI 챗봇 DARVIS로 기업의 업무 프로세스를 개선한 실제 사례를 소개합니다. 챗봇, LLM, 비전 AI 등 디피니트의 AI 기술이 다양한 산업 현장에서 만들어낸 변화와 성과를 공유합니다. 고객들의 생생한\\n\\nblog.dfinite.ai\\n\\n\\n\\n\\n\\n감사합니다.\\n\\nAI 솔루션 스타트업, 디피니트 대표 김도환입니다.\\n\\n\"}]\n"
     ]
    }
   ],
   "execution_count": 9
  },
  {
   "metadata": {},
   "cell_type": "markdown",
   "source": "# 상태(State)",
   "id": "d1af036f8e8494b7"
  },
  {
   "metadata": {
    "ExecuteTime": {
     "end_time": "2025-04-25T04:21:43.435219Z",
     "start_time": "2025-04-25T04:21:43.430285Z"
    }
   },
   "cell_type": "code",
   "source": [
    "from typing import Annotated, List\n",
    "from typing_extensions import TypedDict\n",
    "\n",
    "\n",
    "# 상태 정의\n",
    "class GraphState(TypedDict):\n",
    "    question: Annotated[str, \"The question to answer\"]\n",
    "    generation: Annotated[str, \"The generation from the LLM\"]\n",
    "    web_search: Annotated[str, \"Whether to add search\"]\n",
    "    documents: Annotated[List[str], \"The documents retrieved\"]"
   ],
   "id": "30cd3e9f755809e9",
   "outputs": [],
   "execution_count": 10
  },
  {
   "metadata": {},
   "cell_type": "markdown",
   "source": "# 노드",
   "id": "ba2c5f842e8be5cb"
  },
  {
   "metadata": {
    "ExecuteTime": {
     "end_time": "2025-04-25T04:22:37.754127Z",
     "start_time": "2025-04-25T04:22:37.731997Z"
    }
   },
   "cell_type": "code",
   "source": [
    "from langchain.schema import Document\n",
    "\n",
    "\n",
    "# 문서 검색 노드\n",
    "def retrieve(state: GraphState):\n",
    "    print(\"\\n==== RETRIEVE ====\\n\")\n",
    "    question = state[\"question\"]\n",
    "\n",
    "    # 문서 검색 수행\n",
    "    documents = pdf_retriever.invoke(question)\n",
    "    return {\"documents\": documents}\n",
    "\n",
    "\n",
    "# 답변 생성 노드\n",
    "def generate(state: GraphState):\n",
    "    print(\"\\n==== GENERATE ====\\n\")\n",
    "    question = state[\"question\"]\n",
    "    documents = state[\"documents\"]\n",
    "\n",
    "    # RAG를 사용한 답변 생성\n",
    "    generation = rag_chain.invoke({\"context\": documents, \"question\": question})\n",
    "    return {\"generation\": generation}\n",
    "\n",
    "\n",
    "# 문서 평가 노드\n",
    "def grade_documents(state: GraphState):\n",
    "    print(\"\\n==== [CHECK DOCUMENT RELEVANCE TO QUESTION] ====\\n\")\n",
    "    question = state[\"question\"]\n",
    "    documents = state[\"documents\"]\n",
    "\n",
    "    # 필터링된 문서\n",
    "    filtered_docs = []\n",
    "    relevant_doc_count = 0\n",
    "\n",
    "    for d in documents:\n",
    "        # Question-Document 의 관련성 평가\n",
    "        score = retrieval_grader.invoke(\n",
    "            {\"question\": question, \"document\": d.page_content}\n",
    "        )\n",
    "        grade = score.binary_score\n",
    "\n",
    "        if grade == \"yes\":\n",
    "            print(\"==== [GRADE: DOCUMENT RELEVANT] ====\")\n",
    "            # 관련 있는 문서를 filtered_docs 에 추가\n",
    "            filtered_docs.append(d)\n",
    "            relevant_doc_count += 1\n",
    "        else:\n",
    "            print(\"==== [GRADE: DOCUMENT NOT RELEVANT] ====\")\n",
    "            continue\n",
    "\n",
    "    # 관련 문서가 없으면 웹 검색 수행\n",
    "    web_search = \"Yes\" if relevant_doc_count == 0 else \"No\"\n",
    "    return {\"documents\": filtered_docs, \"web_search\": web_search}\n",
    "\n",
    "\n",
    "# 쿼리 재작성 노드\n",
    "def query_rewrite(state: GraphState):\n",
    "    print(\"\\n==== [REWRITE QUERY] ====\\n\")\n",
    "    question = state[\"question\"]\n",
    "\n",
    "    # 질문 재작성\n",
    "    better_question = question_rewriter.invoke({\"question\": question})\n",
    "    return {\"question\": better_question}\n",
    "\n",
    "\n",
    "# 웹 검색 노드\n",
    "def web_search(state: GraphState):\n",
    "    print(\"\\n==== [WEB SEARCH] ====\\n\")\n",
    "    question = state[\"question\"]\n",
    "    documents = state[\"documents\"]\n",
    "\n",
    "    # 웹 검색 수행\n",
    "    docs = web_search_tool.invoke({\"query\": question})\n",
    "    # 검색 결과를 문서 형식으로 변환\n",
    "    web_results = \"\\n\".join([d[\"content\"] for d in docs])\n",
    "    web_results = Document(page_content=web_results)\n",
    "    documents.append(web_results)\n",
    "\n",
    "    return {\"documents\": documents}"
   ],
   "id": "86360197204e802b",
   "outputs": [],
   "execution_count": 11
  },
  {
   "metadata": {},
   "cell_type": "markdown",
   "source": "# 조건부 엣지에 활용할 함수",
   "id": "cedae2c74ad201b2"
  },
  {
   "metadata": {
    "ExecuteTime": {
     "end_time": "2025-04-25T04:22:54.631519Z",
     "start_time": "2025-04-25T04:22:54.626312Z"
    }
   },
   "cell_type": "code",
   "source": [
    "def decide_to_generate(state: GraphState):\n",
    "    # 평가된 문서를 기반으로 다음 단계 결정\n",
    "    print(\"==== [ASSESS GRADED DOCUMENTS] ====\")\n",
    "    # 웹 검색 필요 여부\n",
    "    web_search = state[\"web_search\"]\n",
    "\n",
    "    if web_search == \"Yes\":\n",
    "        # 웹 검색으로 정보 보강이 필요한 경우\n",
    "        print(\n",
    "            \"==== [DECISION: ALL DOCUMENTS ARE NOT RELEVANT TO QUESTION, QUERY REWRITE] ====\"\n",
    "        )\n",
    "        # 쿼리 재작성 노드로 라우팅\n",
    "        return \"query_rewrite\"\n",
    "    else:\n",
    "        # 관련 문서가 존재하므로 답변 생성 단계(generate) 로 진행\n",
    "        print(\"==== [DECISION: GENERATE] ====\")\n",
    "        return \"generate\""
   ],
   "id": "c95a80f9dc713ae",
   "outputs": [],
   "execution_count": 12
  },
  {
   "metadata": {},
   "cell_type": "markdown",
   "source": "# 그래프 생성",
   "id": "e5d9ee653e313b6"
  },
  {
   "metadata": {
    "ExecuteTime": {
     "end_time": "2025-04-25T04:23:05.397663Z",
     "start_time": "2025-04-25T04:23:05.308394Z"
    }
   },
   "cell_type": "code",
   "source": [
    "from langgraph.graph import END, StateGraph, START\n",
    "\n",
    "# 그래프 상태 초기화\n",
    "workflow = StateGraph(GraphState)\n",
    "\n",
    "# 노드 정의\n",
    "workflow.add_node(\"retrieve\", retrieve)\n",
    "workflow.add_node(\"grade_documents\", grade_documents)\n",
    "workflow.add_node(\"generate\", generate)\n",
    "workflow.add_node(\"query_rewrite\", query_rewrite)\n",
    "workflow.add_node(\"web_search_node\", web_search)\n",
    "\n",
    "# 엣지 연결\n",
    "workflow.add_edge(START, \"retrieve\")\n",
    "workflow.add_edge(\"retrieve\", \"grade_documents\")\n",
    "\n",
    "# 문서 평가 노드에서 조건부 엣지 추가\n",
    "workflow.add_conditional_edges(\n",
    "    \"grade_documents\",\n",
    "    decide_to_generate,\n",
    "    {\n",
    "        \"query_rewrite\": \"query_rewrite\",\n",
    "        \"generate\": \"generate\",\n",
    "    },\n",
    ")\n",
    "\n",
    "# 엣지 연결\n",
    "workflow.add_edge(\"query_rewrite\", \"web_search_node\")\n",
    "workflow.add_edge(\"web_search_node\", \"generate\")\n",
    "workflow.add_edge(\"generate\", END)\n",
    "\n",
    "# 그래프 컴파일\n",
    "app = workflow.compile()"
   ],
   "id": "5d189284ee2cc45c",
   "outputs": [],
   "execution_count": 13
  },
  {
   "metadata": {},
   "cell_type": "markdown",
   "source": "# 그래프 실행",
   "id": "5bd0fea99c93e6d5"
  },
  {
   "metadata": {
    "ExecuteTime": {
     "end_time": "2025-04-25T04:23:25.767618Z",
     "start_time": "2025-04-25T04:23:14.148490Z"
    }
   },
   "cell_type": "code",
   "source": [
    "from langchain_core.runnables import RunnableConfig\n",
    "from langchain_teddynote.messages import stream_graph, invoke_graph, random_uuid\n",
    "\n",
    "# config 설정(재귀 최대 횟수, thread_id)\n",
    "config = RunnableConfig(recursion_limit=20, configurable={\"thread_id\": random_uuid()})\n",
    "\n",
    "# 질문 입력\n",
    "inputs = {\n",
    "    \"question\": \"삼성전자가 개발한 생성형 AI 의 이름은?\",\n",
    "}\n",
    "\n",
    "# 스트리밍 형식으로 그래프 실행\n",
    "stream_graph(\n",
    "    app,\n",
    "    inputs,\n",
    "    config,\n",
    "    [\"retrieve\", \"grade_documents\", \"query_rewrite\", \"web_search_node\", \"generate\"],\n",
    ")"
   ],
   "id": "c8f421a2d57d5e72",
   "outputs": [
    {
     "name": "stdout",
     "output_type": "stream",
     "text": [
      "\n",
      "==== RETRIEVE ====\n",
      "\n",
      "\n",
      "==== [CHECK DOCUMENT RELEVANCE TO QUESTION] ====\n",
      "\n",
      "\n",
      "==================================================\n",
      "🔄 Node: \u001B[1;36mgrade_documents\u001B[0m 🔄\n",
      "- - - - - - - - - - - - - - - - - - - - - - - - - \n",
      "{\"binary_score\":\"yes\"}==== [GRADE: DOCUMENT RELEVANT] ====\n",
      "{\"binary_score\":\"yes\"}==== [GRADE: DOCUMENT RELEVANT] ====\n",
      "{\"binary_score\":\"yes\"}==== [GRADE: DOCUMENT RELEVANT] ====\n",
      "{\"binary_score\":\"yes\"}==== [GRADE: DOCUMENT RELEVANT] ====\n",
      "{\"binary_score\":\"no\"}==== [GRADE: DOCUMENT NOT RELEVANT] ====\n",
      "{\"binary_score\":\"no\"}==== [GRADE: DOCUMENT NOT RELEVANT] ====\n",
      "{\"binary_score\":\"yes\"}==== [GRADE: DOCUMENT RELEVANT] ====\n",
      "{\"binary_score\":\"yes\"}==== [GRADE: DOCUMENT RELEVANT] ====\n",
      "{\"binary_score\":\"no\"}==== [GRADE: DOCUMENT NOT RELEVANT] ====\n",
      "{\"binary_score\":\"no\"}==== [GRADE: DOCUMENT NOT RELEVANT] ====\n",
      "==== [ASSESS GRADED DOCUMENTS] ====\n",
      "==== [DECISION: GENERATE] ====\n",
      "\n",
      "==== GENERATE ====\n",
      "\n",
      "\n",
      "==================================================\n",
      "🔄 Node: \u001B[1;36mgenerate\u001B[0m 🔄\n",
      "- - - - - - - - - - - - - - - - - - - - - - - - - \n",
      "삼성전자가 개발한 생성형 AI의 이름은 '삼성 가우스'입니다.\n",
      "\n",
      "**Source**\n",
      "- data/SPRI_AI_Brief_2023년12월호_F.pdf (page 12)"
     ]
    }
   ],
   "execution_count": 14
  },
  {
   "metadata": {
    "ExecuteTime": {
     "end_time": "2025-04-25T04:23:34.207417Z",
     "start_time": "2025-04-25T04:23:34.203936Z"
    }
   },
   "cell_type": "code",
   "source": [
    "# config 설정(재귀 최대 횟수, thread_id)\n",
    "config = RunnableConfig(recursion_limit=20, configurable={\"thread_id\": random_uuid()})\n",
    "\n",
    "# 질문 입력\n",
    "inputs = {\n",
    "    \"question\": \"2024년 노벨문학상 수상자의 이름은?\",\n",
    "}"
   ],
   "id": "3cd3181cd703f529",
   "outputs": [],
   "execution_count": 15
  },
  {
   "metadata": {
    "ExecuteTime": {
     "end_time": "2025-04-25T04:23:55.947008Z",
     "start_time": "2025-04-25T04:23:39.366376Z"
    }
   },
   "cell_type": "code",
   "source": [
    "# 그래프 실행\n",
    "invoke_graph(app, inputs, config)"
   ],
   "id": "99223a1bbdefec6e",
   "outputs": [
    {
     "name": "stdout",
     "output_type": "stream",
     "text": [
      "\n",
      "==== RETRIEVE ====\n",
      "\n",
      "\n",
      "==================================================\n",
      "🔄 Node: \u001B[1;36mretrieve\u001B[0m 🔄\n",
      "- - - - - - - - - - - - - - - - - - - - - - - - - \n",
      "page_content='CES 2024\n",
      "이번 전시에는 500곳 이상의 한국기업 참가 예정\n",
      "기간 장소 홈페이지\n",
      "2024.1.9~12 미국, 라스베가스 https://www.ces.tech/\n",
      "- 머신러닝 및 응용에 관한 국제 컨퍼런스(AIMLA 2024)는\n",
      "인공지능 및 머신러닝의 이론, 방법론 및 실용적 접근에 관한\n",
      "지식과 최신 연구 결과 공유\n",
      "- 이론 및 실무 측면에서 인공지능, 기계학습의 주요 분야를\n",
      "논의하고, 학계, 산업계의 연구자와 실무자들에게 해당 분\n",
      "AIMLA 2024\n",
      "야의 최첨단 개발 소식 공유\n",
      "기간 장소 홈페이지' metadata={'source': 'data/SPRI_AI_Brief_2023년12월호_F.pdf', 'file_path': 'data/SPRI_AI_Brief_2023년12월호_F.pdf', 'page': 21, 'total_pages': 23, 'Author': 'dj', 'Creator': 'Hwp 2018 10.0.0.13462', 'Producer': 'Hancom PDF 1.3.0.542', 'CreationDate': \"D:20231208132838+09'00'\", 'ModDate': \"D:20231208132838+09'00'\", 'PDFVersion': '1.4'}\n",
      "page_content='n 참가국들은 튜링상을 수상한 AI 학자인 요슈아 벤지오 교수가 주도하는 ‘과학의 현황(State of\n",
      "the Science)’ 보고서 작성에도 합의했으며, 보고서를 통해 첨단 AI의 위험과 가능성에 관한\n",
      "기존 연구를 과학적으로 평가하고 향후 AI 안전 연구를 위한 우선순위를 제시할 계획\n",
      "n 한국은 영국 정부와 6개월 뒤에 온라인으로 AI 미니 정상회의를 공동 개최하기로 합의했으며,\n",
      "프랑스 정부와는 1년 후 대면 정상회의를 개최할 예정' metadata={'source': 'data/SPRI_AI_Brief_2023년12월호_F.pdf', 'file_path': 'data/SPRI_AI_Brief_2023년12월호_F.pdf', 'page': 5, 'total_pages': 23, 'Author': 'dj', 'Creator': 'Hwp 2018 10.0.0.13462', 'Producer': 'Hancom PDF 1.3.0.542', 'CreationDate': \"D:20231208132838+09'00'\", 'ModDate': \"D:20231208132838+09'00'\", 'PDFVersion': '1.4'}\n",
      "page_content='£예술가들의 AI 저작권 침해 소송, 저작권 미등록과 증거불충분으로 기각\n",
      "n 미국 캘리포니아 북부지방법원의 윌리엄 오릭(William Orrick) 판사는 2023년 10월 30일 미드저니\n",
      "(Midjourney), 스태빌리티AI(Stability AI), 디비언트아트(DeviantArt)에 제기된 저작권 침해 소송을 기각\n",
      "∙ 2023년 1월 예술가 사라 앤더슨(Sarah Anderson), 캘리 맥커넌(Kelly McKernan), 칼라' metadata={'source': 'data/SPRI_AI_Brief_2023년12월호_F.pdf', 'file_path': 'data/SPRI_AI_Brief_2023년12월호_F.pdf', 'page': 6, 'total_pages': 23, 'Author': 'dj', 'Creator': 'Hwp 2018 10.0.0.13462', 'Producer': 'Hancom PDF 1.3.0.542', 'CreationDate': \"D:20231208132838+09'00'\", 'ModDate': \"D:20231208132838+09'00'\", 'PDFVersion': '1.4'}\n",
      "page_content='£AI 기술 중 머신러닝, 텐서플로우, 딥러닝의 임금 프리미엄이 높게 평가\n",
      "n 옥스퍼드 인터넷 연구소(Oxford Internet Institute)가 2023년 10월 24일 962개 기술과 2만 5천\n",
      "명을 대상으로 한 연구에서 AI를 포함한 주요 기술의 경제적 가치를 분석한 결과를 발표\n",
      "∙ 연구에 따르면 한 기술의 경제적 가치는 근로자의 여타 역량과 얼마나 잘 결합하는지를 보여주는\n",
      "‘상보성(complementarity)’에 따라 결정됨' metadata={'source': 'data/SPRI_AI_Brief_2023년12월호_F.pdf', 'file_path': 'data/SPRI_AI_Brief_2023년12월호_F.pdf', 'page': 20, 'total_pages': 23, 'Author': 'dj', 'Creator': 'Hwp 2018 10.0.0.13462', 'Producer': 'Hancom PDF 1.3.0.542', 'CreationDate': \"D:20231208132838+09'00'\", 'ModDate': \"D:20231208132838+09'00'\", 'PDFVersion': '1.4'}\n",
      "page_content='오르티즈(Karla Ortiz)는 이미지 생성 AI 서비스를 개발한 3개 기업을 상대로 저작권 침해 소송을 제기\n",
      "∙ 예술가들은 3개 기업이 AI 모델을 학습시키기 위해 원작자 동의 없이 작품을 학습 데이터셋에\n",
      "포함하여 저작권을 침해했다고 주장했으며, 법원은 지난 4월 피소 기업들이 제출한 기각 신청을\n",
      "수용해 소송을 기각\n",
      "n 오릭 판사는 판결문에서 소송을 기각한 핵심 이유로 예술가들의 저작권 미등록을 제시\n",
      "∙ 판결문은 소송을 제기한 캘리 맥커넌과 칼라 오르티즈가 미국 저작권청에 예술 작품에 대한 저작권을' metadata={'source': 'data/SPRI_AI_Brief_2023년12월호_F.pdf', 'file_path': 'data/SPRI_AI_Brief_2023년12월호_F.pdf', 'page': 6, 'total_pages': 23, 'Author': 'dj', 'Creator': 'Hwp 2018 10.0.0.13462', 'Producer': 'Hancom PDF 1.3.0.542', 'CreationDate': \"D:20231208132838+09'00'\", 'ModDate': \"D:20231208132838+09'00'\", 'PDFVersion': '1.4'}\n",
      "page_content='▹ 구글 딥마인드, 범용 AI 모델의 기능과 동작에 대한 분류 체계 발표······························16\n",
      "▹ 갈릴레오의 LLM 환각 지수 평가에서 GPT-4가 가장 우수 ···········································17\n",
      "4. 인력/교육\n",
      "▹ 영국 옥스퍼드 인터넷 연구소, AI 기술자의 임금이 평균 21% 높아·······························18\n",
      "Ⅱ\n",
      ". 주요 행사' metadata={'source': 'data/SPRI_AI_Brief_2023년12월호_F.pdf', 'file_path': 'data/SPRI_AI_Brief_2023년12월호_F.pdf', 'page': 1, 'total_pages': 23, 'Author': 'dj', 'Creator': 'Hwp 2018 10.0.0.13462', 'Producer': 'Hancom PDF 1.3.0.542', 'CreationDate': \"D:20231208132838+09'00'\", 'ModDate': \"D:20231208132838+09'00'\", 'PDFVersion': '1.4'}\n",
      "page_content='소송은 인정되어 계속 진행됨\n",
      "☞ 출처: Venturebeat, Midjourney, Stability AI and DeviantArt win a victory in copyright case by artists- but the\n",
      "fight continues, 2023.10.30.\n",
      "4' metadata={'source': 'data/SPRI_AI_Brief_2023년12월호_F.pdf', 'file_path': 'data/SPRI_AI_Brief_2023년12월호_F.pdf', 'page': 6, 'total_pages': 23, 'Author': 'dj', 'Creator': 'Hwp 2018 10.0.0.13462', 'Producer': 'Hancom PDF 1.3.0.542', 'CreationDate': \"D:20231208132838+09'00'\", 'ModDate': \"D:20231208132838+09'00'\", 'PDFVersion': '1.4'}\n",
      "page_content='달 안에 기금 지원을 위한 제안 요청을 받을 계획\n",
      "n 프런티어 모델 포럼은 출범 이후 업계 전반에 걸쳐 AI 레드팀 구성에 관한 모범사례 공유를 추진하는\n",
      "한편, 첨단 AI 모델의 취약점이나 잠재적으로 위험한 기능 및 위험 완화 관련 정보를 공유할 수\n",
      "있는 공개 절차도 개발 중\n",
      "☞ 출처: Google, Anthropic, Google, Microsoft and OpenAI announce Executive Director of the Frontier Model' metadata={'source': 'data/SPRI_AI_Brief_2023년12월호_F.pdf', 'file_path': 'data/SPRI_AI_Brief_2023년12월호_F.pdf', 'page': 9, 'total_pages': 23, 'Author': 'dj', 'Creator': 'Hwp 2018 10.0.0.13462', 'Producer': 'Hancom PDF 1.3.0.542', 'CreationDate': \"D:20231208132838+09'00'\", 'ModDate': \"D:20231208132838+09'00'\", 'PDFVersion': '1.4'}\n",
      "page_content='12\n",
      "2023년 월호' metadata={'source': 'data/SPRI_AI_Brief_2023년12월호_F.pdf', 'file_path': 'data/SPRI_AI_Brief_2023년12월호_F.pdf', 'page': 0, 'total_pages': 23, 'Author': 'dj', 'Creator': 'Hwp 2018 10.0.0.13462', 'Producer': 'Hancom PDF 1.3.0.542', 'CreationDate': \"D:20231208132838+09'00'\", 'ModDate': \"D:20231208132838+09'00'\", 'PDFVersion': '1.4'}\n",
      "page_content='1,000만 달러 이상을 기부\n",
      "∙ 또한 신기술의 거버넌스와 안전 분야에서 전문성을 갖춘 브루킹스 연구소 출신의 크리스 메서롤(Chris\n",
      "Meserole)을 포럼의 상무이사로 임명\n",
      "n 최근 AI 기술이 급속히 발전하면서 AI 안전에 관한 연구가 부족한 시점에, 포럼은 이러한 격차를 해소\n",
      "하기 위해 AI 안전 기금을 조성\n",
      "∙ 참여사들은 지난 7월 백악관 주재의 AI 안전 서약에서 외부자의 AI 시스템 취약점 발견과 신고를\n",
      "촉진하기로 약속했으며, 약속을 이행하기 위해 기금을 활용해 외부 연구집단의 AI 시스템 평가에\n",
      "자금을 지원할 계획' metadata={'source': 'data/SPRI_AI_Brief_2023년12월호_F.pdf', 'file_path': 'data/SPRI_AI_Brief_2023년12월호_F.pdf', 'page': 9, 'total_pages': 23, 'Author': 'dj', 'Creator': 'Hwp 2018 10.0.0.13462', 'Producer': 'Hancom PDF 1.3.0.542', 'CreationDate': \"D:20231208132838+09'00'\", 'ModDate': \"D:20231208132838+09'00'\", 'PDFVersion': '1.4'}\n",
      "==================================================\n",
      "\n",
      "==== [CHECK DOCUMENT RELEVANCE TO QUESTION] ====\n",
      "\n",
      "==== [GRADE: DOCUMENT NOT RELEVANT] ====\n",
      "==== [GRADE: DOCUMENT NOT RELEVANT] ====\n",
      "==== [GRADE: DOCUMENT NOT RELEVANT] ====\n",
      "==== [GRADE: DOCUMENT NOT RELEVANT] ====\n",
      "==== [GRADE: DOCUMENT NOT RELEVANT] ====\n",
      "==== [GRADE: DOCUMENT NOT RELEVANT] ====\n",
      "==== [GRADE: DOCUMENT NOT RELEVANT] ====\n",
      "==== [GRADE: DOCUMENT NOT RELEVANT] ====\n",
      "==== [GRADE: DOCUMENT NOT RELEVANT] ====\n",
      "==== [GRADE: DOCUMENT NOT RELEVANT] ====\n",
      "==== [ASSESS GRADED DOCUMENTS] ====\n",
      "==== [DECISION: ALL DOCUMENTS ARE NOT RELEVANT TO QUESTION, QUERY REWRITE] ====\n",
      "\n",
      "==================================================\n",
      "🔄 Node: \u001B[1;36mgrade_documents\u001B[0m 🔄\n",
      "- - - - - - - - - - - - - - - - - - - - - - - - - \n",
      "\u001B[1;32mweb_search\u001B[0m:\n",
      "Yes\n",
      "==================================================\n",
      "\n",
      "==== [REWRITE QUERY] ====\n",
      "\n",
      "\n",
      "==================================================\n",
      "🔄 Node: \u001B[1;36mquery_rewrite\u001B[0m 🔄\n",
      "- - - - - - - - - - - - - - - - - - - - - - - - - \n",
      "\u001B[1;32mquestion\u001B[0m:\n",
      "2024년 노벨 문학상 수상자는 누구인가요?\n",
      "==================================================\n",
      "\n",
      "==== [WEB SEARCH] ====\n",
      "\n",
      "\n",
      "==================================================\n",
      "🔄 Node: \u001B[1;36mweb_search_node\u001B[0m 🔄\n",
      "- - - - - - - - - - - - - - - - - - - - - - - - - \n",
      "page_content='\"2024년 노벨 문학상 수상자는 한국의 작가, 한강입니다.\" '채식주의자', '소년이 온다'를 쓴 소설가, 한강이 한국인 사상 최초 노벨 문학상의 영광을 차지했습니다. 10년 넘게 고은 시인, 황석영 소설가가 후보로 꾸준히 거론됐지만, 수상은 요원했습니다.\n",
      "[영상] \"온몸에 전율, 소리 질렀다\"…한강, 첫 한국인 노벨 문학상 쾌거 | 연합뉴스 뉴스, 포토, 영상, 그래픽을 검색하실 수 있습니다. 영상 영상 플레이어 닫기 [영상] \"온몸에 전율, 소리 질렀다\"…한강, 첫 한국인 노벨 문학상 쾌거 (서울=연합뉴스) \"2024년 노벨문학상 수상자는 한국 작가 한강입니다\" 한강은 한국 작가 최초로 노벨 문학상을 받게 됐으며 한국인으로는 지난 2000년 평화상을 탄 고(故) 김대중 전 대통령에 이어 두 번째 노벨상 수상자가 됐습니다. [속보] 스노보드 이채운, 하얼빈 아시안게임 남자 슬로프스타일 금메달 02-08 16:24 [속보] 김길리, 하얼빈 아시안게임 여자 쇼트트랙 1,500m 금메달 02-08 12:45 [속보] 한국 쇼트트랙 혼성계주, 하얼빈 아시안게임 첫 금메달 02-08 12:01 [아시안게임] 쇼트트랙 혼성 계주, 중국 린샤오쥔 실수로 대회 첫 금메달(종합) [아시안게임] 한국 상대한 린샤오쥔…계주 좌절 뒤 500ｍ서 감격의 눈물(종합) 영상 뉴스 영상 모바일 뉴스 연합뉴스\n",
      "올해 노벨 문학상은 우리나라 소설가 한강이 수상의 영예를 안았다. 한국인이 노벨상을 수상한 것은 2000년 평화상을 탄 고(故) 김대중 전 대통령에'\n",
      "==================================================\n",
      "\n",
      "==== GENERATE ====\n",
      "\n",
      "\n",
      "==================================================\n",
      "🔄 Node: \u001B[1;36mgenerate\u001B[0m 🔄\n",
      "- - - - - - - - - - - - - - - - - - - - - - - - - \n",
      "\u001B[1;32mgeneration\u001B[0m:\n",
      "2024년 노벨 문학상 수상자는 한국의 작가 한강입니다.\n",
      "\n",
      "**Source**\n",
      "- Document (page content)\n",
      "==================================================\n"
     ]
    }
   ],
   "execution_count": 16
  },
  {
   "metadata": {
    "ExecuteTime": {
     "end_time": "2025-04-25T04:24:11.900255Z",
     "start_time": "2025-04-25T04:23:55.963014Z"
    }
   },
   "cell_type": "code",
   "source": [
    "# 그래프 실행\n",
    "stream_graph(\n",
    "    app,\n",
    "    inputs,\n",
    "    config,\n",
    "    [\"retrieve\", \"grade_documents\", \"query_rewrite\", \"generate\"],\n",
    ")"
   ],
   "id": "a11edfb584bff706",
   "outputs": [
    {
     "name": "stdout",
     "output_type": "stream",
     "text": [
      "\n",
      "==== RETRIEVE ====\n",
      "\n",
      "\n",
      "==== [CHECK DOCUMENT RELEVANCE TO QUESTION] ====\n",
      "\n",
      "\n",
      "==================================================\n",
      "🔄 Node: \u001B[1;36mgrade_documents\u001B[0m 🔄\n",
      "- - - - - - - - - - - - - - - - - - - - - - - - - \n",
      "{\"binary_score\":\"no\"}==== [GRADE: DOCUMENT NOT RELEVANT] ====\n",
      "{\"binary_score\":\"no\"}==== [GRADE: DOCUMENT NOT RELEVANT] ====\n",
      "{\"binary_score\":\"no\"}==== [GRADE: DOCUMENT NOT RELEVANT] ====\n",
      "{\"binary_score\":\"no\"}==== [GRADE: DOCUMENT NOT RELEVANT] ====\n",
      "{\"binary_score\":\"no\"}==== [GRADE: DOCUMENT NOT RELEVANT] ====\n",
      "{\"binary_score\":\"no\"}==== [GRADE: DOCUMENT NOT RELEVANT] ====\n",
      "{\"binary_score\":\"no\"}==== [GRADE: DOCUMENT NOT RELEVANT] ====\n",
      "{\"binary_score\":\"no\"}==== [GRADE: DOCUMENT NOT RELEVANT] ====\n",
      "{\"binary_score\":\"no\"}==== [GRADE: DOCUMENT NOT RELEVANT] ====\n",
      "{\"binary_score\":\"no\"}==== [GRADE: DOCUMENT NOT RELEVANT] ====\n",
      "==== [ASSESS GRADED DOCUMENTS] ====\n",
      "==== [DECISION: ALL DOCUMENTS ARE NOT RELEVANT TO QUESTION, QUERY REWRITE] ====\n",
      "\n",
      "==== [REWRITE QUERY] ====\n",
      "\n",
      "\n",
      "==================================================\n",
      "🔄 Node: \u001B[1;36mquery_rewrite\u001B[0m 🔄\n",
      "- - - - - - - - - - - - - - - - - - - - - - - - - \n",
      "2024년 노벨 문학상 수상자는 누구인가요?\n",
      "==== [WEB SEARCH] ====\n",
      "\n",
      "\n",
      "==== GENERATE ====\n",
      "\n",
      "\n",
      "==================================================\n",
      "🔄 Node: \u001B[1;36mgenerate\u001B[0m 🔄\n",
      "- - - - - - - - - - - - - - - - - - - - - - - - - \n",
      "2024년 노벨 문학상 수상자는 한국의 작가 한강입니다.\n",
      "\n",
      "**Source**\n",
      "- Document (page content)"
     ]
    }
   ],
   "execution_count": 17
  }
 ],
 "metadata": {
  "kernelspec": {
   "display_name": "Python 3",
   "language": "python",
   "name": "python3"
  },
  "language_info": {
   "codemirror_mode": {
    "name": "ipython",
    "version": 2
   },
   "file_extension": ".py",
   "mimetype": "text/x-python",
   "name": "python",
   "nbconvert_exporter": "python",
   "pygments_lexer": "ipython2",
   "version": "2.7.6"
  }
 },
 "nbformat": 4,
 "nbformat_minor": 5
}
