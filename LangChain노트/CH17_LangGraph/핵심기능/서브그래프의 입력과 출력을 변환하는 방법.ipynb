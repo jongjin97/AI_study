{
 "cells": [
  {
   "cell_type": "code",
   "id": "initial_id",
   "metadata": {
    "collapsed": true,
    "ExecuteTime": {
     "end_time": "2025-04-24T06:38:52.307195Z",
     "start_time": "2025-04-24T06:38:52.284012Z"
    }
   },
   "source": [
    "from dotenv import load_dotenv\n",
    "\n",
    "# API 키 정보 로드\n",
    "load_dotenv()\n",
    "from langchain_teddynote import logging\n",
    "\n",
    "# 프로젝트 이름을 입력합니다.\n",
    "logging.langsmith(\"CH17-LangGraph-Modules\")"
   ],
   "outputs": [
    {
     "name": "stdout",
     "output_type": "stream",
     "text": [
      "LangSmith 추적을 시작합니다.\n",
      "[프로젝트명]\n",
      "CH17-LangGraph-Modules\n"
     ]
    }
   ],
   "execution_count": 1
  },
  {
   "metadata": {
    "ExecuteTime": {
     "end_time": "2025-04-24T06:43:57.877387Z",
     "start_time": "2025-04-24T06:43:56.486585Z"
    }
   },
   "cell_type": "code",
   "source": [
    "# 상태 관리를 위한 TypedDict와 StateGraph 관련 모듈 임포트\n",
    "from typing_extensions import TypedDict\n",
    "from langgraph.graph.state import StateGraph, START, END\n",
    "\n",
    "\n",
    "# 손자 노드의 상태를 정의하는 TypedDict 클래스, 문자열 타입의 my_grandchild_key 포함\n",
    "class GrandChildState(TypedDict):\n",
    "    my_grandchild_key: str\n",
    "\n",
    "\n",
    "# 손자 노드의 상태를 처리하는 함수, 입력된 문자열에 인사말 추가\n",
    "def grandchild_1(state: GrandChildState) -> GrandChildState:\n",
    "    # 자식 또는 부모 키는 여기서 접근 불가\n",
    "    return {\"my_grandchild_key\": f'([GrandChild] {state[\"my_grandchild_key\"]})'}\n",
    "\n",
    "\n",
    "# 손자 노드의 상태 그래프 초기화\n",
    "grandchild = StateGraph(GrandChildState)\n",
    "\n",
    "# 상태 그래프에 손자 노드 추가\n",
    "grandchild.add_node(\"grandchild_1\", grandchild_1)\n",
    "\n",
    "# 시작 노드에서 손자 노드로의 엣지 연결\n",
    "grandchild.add_edge(START, \"grandchild_1\")\n",
    "\n",
    "# 손자 노드에서 종료 노드로의 엣지 연결\n",
    "grandchild.add_edge(\"grandchild_1\", END)\n",
    "\n",
    "# 정의된 상태 그래프 컴파일 및 실행 가능한 그래프 생성\n",
    "grandchild_graph = grandchild.compile()"
   ],
   "id": "dc8503b56c8cf84c",
   "outputs": [],
   "execution_count": 2
  },
  {
   "metadata": {
    "ExecuteTime": {
     "end_time": "2025-04-24T06:44:04.757062Z",
     "start_time": "2025-04-24T06:44:04.673884Z"
    }
   },
   "cell_type": "code",
   "source": [
    "# 그래프 호출\n",
    "for chunk in grandchild_graph.stream(\n",
    "    {\"my_grandchild_key\": \"Hi, Teddy!\"}, subgraphs=True\n",
    "):\n",
    "    print(chunk)"
   ],
   "id": "d03dd06b4f2b96f",
   "outputs": [
    {
     "name": "stdout",
     "output_type": "stream",
     "text": [
      "((), {'grandchild_1': {'my_grandchild_key': '([GrandChild] Hi, Teddy!)'}})\n"
     ]
    }
   ],
   "execution_count": 3
  },
  {
   "metadata": {
    "ExecuteTime": {
     "end_time": "2025-04-24T06:44:33.611104Z",
     "start_time": "2025-04-24T06:44:33.601928Z"
    }
   },
   "cell_type": "code",
   "source": [
    "# 자식 상태 타입 정의를 위한 TypedDict 클래스\n",
    "class ChildState(TypedDict):\n",
    "    my_child_key: str\n",
    "\n",
    "\n",
    "# 손자 그래프 호출 및 상태 변환 함수, 자식 상태를 입력받아 변환된 자식 상태 반환\n",
    "def call_grandchild_graph(state: ChildState) -> ChildState:\n",
    "    # 참고: 부모 또는 손자 키는 여기서 접근 불가능\n",
    "    # 자식 상태 채널에서 손자 상태 채널로 상태 변환\n",
    "    grandchild_graph_input = {\"my_grandchild_key\": state[\"my_child_key\"]}\n",
    "    # 손자 상태 채널에서 자식 상태 채널로 상태 변환 후 결과 반환\n",
    "    grandchild_graph_output = grandchild_graph.invoke(grandchild_graph_input)\n",
    "    return {\"my_child_key\": f'([Child] {grandchild_graph_output[\"my_grandchild_key\"]})'}\n",
    "\n",
    "\n",
    "# 자식 상태 그래프 초기화\n",
    "child = StateGraph(ChildState)\n",
    "# 참고: 컴파일된 그래프 대신 함수 전달\n",
    "# 자식 그래프에 노드 추가 및 시작-종료 엣지 연결\n",
    "child.add_node(\"child_1\", call_grandchild_graph)\n",
    "child.add_edge(START, \"child_1\")\n",
    "child.add_edge(\"child_1\", END)\n",
    "# 자식 그래프 컴파일\n",
    "child_graph = child.compile()"
   ],
   "id": "3890571b6d8d68c1",
   "outputs": [],
   "execution_count": 4
  },
  {
   "metadata": {
    "ExecuteTime": {
     "end_time": "2025-04-24T06:45:07.896368Z",
     "start_time": "2025-04-24T06:45:07.875540Z"
    }
   },
   "cell_type": "code",
   "source": [
    "# child_graph 그래프 호출\n",
    "for chunk in child_graph.stream({\"my_child_key\": \"Hi, Teddy!\"}, subgraphs=True):\n",
    "    print(chunk)"
   ],
   "id": "2852f5fbc1cca9aa",
   "outputs": [
    {
     "name": "stdout",
     "output_type": "stream",
     "text": [
      "(('child_1:35bddb9f-8a4e-d87c-228b-24d2f4cc669e',), {'grandchild_1': {'my_grandchild_key': '([GrandChild] Hi, Teddy!)'}})\n",
      "((), {'child_1': {'my_child_key': '([Child] ([GrandChild] Hi, Teddy!))'}})\n"
     ]
    }
   ],
   "execution_count": 5
  },
  {
   "metadata": {
    "ExecuteTime": {
     "end_time": "2025-04-24T06:47:09.461810Z",
     "start_time": "2025-04-24T06:47:09.450812Z"
    }
   },
   "cell_type": "code",
   "source": [
    "# 부모 상태 타입 정의를 위한 TypedDict 클래스\n",
    "class ParentState(TypedDict):\n",
    "    my_parent_key: str\n",
    "\n",
    "\n",
    "# 부모 상태의 my_parent_key 값에 '[Parent1]' 문자열을 추가하는 변환 함수\n",
    "def parent_1(state: ParentState) -> ParentState:\n",
    "    # 참고: 자식 또는 손자 키는 여기서 접근 불가\n",
    "    return {\"my_parent_key\": f'([Parent1] {state[\"my_parent_key\"]})'}\n",
    "\n",
    "\n",
    "# 부모 상태의 my_parent_key 값에 '[Parent2]' 문자열을 추가하는 변환 함수\n",
    "def parent_2(state: ParentState) -> ParentState:\n",
    "    return {\"my_parent_key\": f'([Parent2] {state[\"my_parent_key\"]})'}\n",
    "\n",
    "\n",
    "# 부모 상태와 자식 상태 간의 데이터 변환 및 자식 그래프 호출 처리\n",
    "def call_child_graph(state: ParentState) -> ParentState:\n",
    "    # 부모 상태 채널(my_parent_key)에서 자식 상태 채널(my_child_key)로 상태 변환\n",
    "    child_graph_input = {\"my_child_key\": state[\"my_parent_key\"]}\n",
    "    # 자식 상태 채널(my_child_key)에서 부모 상태 채널(my_parent_key)로 상태 변환\n",
    "    child_graph_output = child_graph.invoke(child_graph_input)\n",
    "    return {\"my_parent_key\": child_graph_output[\"my_child_key\"]}\n",
    "\n",
    "\n",
    "# 부모 상태 그래프 초기화 및 노드 구성\n",
    "parent = StateGraph(ParentState)\n",
    "parent.add_node(\"parent_1\", parent_1)\n",
    "\n",
    "# 참고: 컴파일된 그래프가 아닌 함수를 전달\n",
    "parent.add_node(\"child\", call_child_graph)\n",
    "parent.add_node(\"parent_2\", parent_2)\n",
    "\n",
    "# 상태 그래프의 실행 흐름을 정의하는 엣지 구성\n",
    "parent.add_edge(START, \"parent_1\")\n",
    "parent.add_edge(\"parent_1\", \"child\")\n",
    "parent.add_edge(\"child\", \"parent_2\")\n",
    "parent.add_edge(\"parent_2\", END)\n",
    "\n",
    "# 구성된 부모 상태 그래프의 컴파일 및 실행 가능한 그래프 생성\n",
    "parent_graph = parent.compile()"
   ],
   "id": "9ffe8ee092408cc1",
   "outputs": [],
   "execution_count": 6
  },
  {
   "metadata": {
    "ExecuteTime": {
     "end_time": "2025-04-24T06:47:14.095216Z",
     "start_time": "2025-04-24T06:47:14.062313Z"
    }
   },
   "cell_type": "code",
   "source": [
    "# 그래프 실행 및 \"my_parent_key\" 매개변수를 통한 \"Hi, Teddy!\" 값 전달\n",
    "for chunk in parent_graph.stream({\"my_parent_key\": \"Hi, Teddy!\"}, subgraphs=True):\n",
    "    print(chunk)"
   ],
   "id": "d84edd1deb367405",
   "outputs": [
    {
     "name": "stdout",
     "output_type": "stream",
     "text": [
      "((), {'parent_1': {'my_parent_key': '([Parent1] Hi, Teddy!)'}})\n",
      "(('child:f6410736-91f8-c6ec-8433-076f221c9b88', 'child_1:6d40c57e-43ea-6f3c-dbfb-01246f1bc35d'), {'grandchild_1': {'my_grandchild_key': '([GrandChild] ([Parent1] Hi, Teddy!))'}})\n",
      "(('child:f6410736-91f8-c6ec-8433-076f221c9b88',), {'child_1': {'my_child_key': '([Child] ([GrandChild] ([Parent1] Hi, Teddy!)))'}})\n",
      "((), {'child': {'my_parent_key': '([Child] ([GrandChild] ([Parent1] Hi, Teddy!)))'}})\n",
      "((), {'parent_2': {'my_parent_key': '([Parent2] ([Child] ([GrandChild] ([Parent1] Hi, Teddy!))))'}})\n"
     ]
    }
   ],
   "execution_count": 7
  }
 ],
 "metadata": {
  "kernelspec": {
   "display_name": "Python 3",
   "language": "python",
   "name": "python3"
  },
  "language_info": {
   "codemirror_mode": {
    "name": "ipython",
    "version": 2
   },
   "file_extension": ".py",
   "mimetype": "text/x-python",
   "name": "python",
   "nbconvert_exporter": "python",
   "pygments_lexer": "ipython2",
   "version": "2.7.6"
  }
 },
 "nbformat": 4,
 "nbformat_minor": 5
}
