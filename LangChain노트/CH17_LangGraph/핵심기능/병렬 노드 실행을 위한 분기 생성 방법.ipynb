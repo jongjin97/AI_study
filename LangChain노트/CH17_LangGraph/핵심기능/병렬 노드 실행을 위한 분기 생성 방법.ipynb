{
 "cells": [
  {
   "cell_type": "code",
   "id": "initial_id",
   "metadata": {
    "collapsed": true,
    "ExecuteTime": {
     "end_time": "2025-04-24T05:39:12.589241Z",
     "start_time": "2025-04-24T05:39:12.572086Z"
    }
   },
   "source": [
    "from dotenv import load_dotenv\n",
    "\n",
    "# API 키 정보 로드\n",
    "load_dotenv()\n",
    "from langchain_teddynote import logging\n",
    "\n",
    "# 프로젝트 이름을 입력합니다.\n",
    "logging.langsmith(\"CH17-LangGraph-Modules\")"
   ],
   "outputs": [
    {
     "name": "stdout",
     "output_type": "stream",
     "text": [
      "LangSmith 추적을 시작합니다.\n",
      "[프로젝트명]\n",
      "CH17-LangGraph-Modules\n"
     ]
    }
   ],
   "execution_count": 1
  },
  {
   "metadata": {},
   "cell_type": "markdown",
   "source": "# 병렬 노드 fan-out 및 fan-in",
   "id": "1a6599a04be1fcb1"
  },
  {
   "metadata": {
    "ExecuteTime": {
     "end_time": "2025-04-24T05:48:23.252182Z",
     "start_time": "2025-04-24T05:48:23.243664Z"
    }
   },
   "cell_type": "code",
   "source": [
    "from typing import Annotated, Any\n",
    "from typing_extensions import TypedDict\n",
    "from langgraph.graph import StateGraph, START, END\n",
    "from langgraph.graph.message import add_messages\n",
    "\n",
    "\n",
    "# 상태 정의(add_messages 리듀서 사용)\n",
    "class State(TypedDict):\n",
    "    aggregate: Annotated[list, add_messages]\n",
    "\n",
    "\n",
    "# 노드 값 반환 클래스\n",
    "class ReturnNodeValue:\n",
    "    # 초기화\n",
    "    def __init__(self, node_secret: str):\n",
    "        self._value = node_secret\n",
    "\n",
    "    # 호출시 상태 업데이트\n",
    "    def __call__(self, state: State) -> Any:\n",
    "        print(f\"Adding {self._value} to {state['aggregate']}\")\n",
    "        return {\"aggregate\": [self._value]}\n",
    "\n",
    "# 상태 그래프 초기화\n",
    "builder = StateGraph(State)\n",
    "\n",
    "# 노드 A부터 D까지 생성 및 값 할당\n",
    "builder.add_node(\"a\", ReturnNodeValue(\"I'm A\"))\n",
    "builder.add_edge(START, \"a\")\n",
    "builder.add_node(\"b\", ReturnNodeValue(\"I'm B\"))\n",
    "builder.add_node(\"c\", ReturnNodeValue(\"I'm C\"))\n",
    "builder.add_node(\"d\", ReturnNodeValue(\"I'm D\"))\n",
    "\n",
    "# 노드 연결\n",
    "builder.add_edge(\"a\", \"b\")\n",
    "builder.add_edge(\"a\", \"c\")\n",
    "builder.add_edge(\"b\", \"d\")\n",
    "builder.add_edge(\"c\", \"d\")\n",
    "builder.add_edge(\"d\", END)\n",
    "\n",
    "# 그래프 컴파일\n",
    "graph = builder.compile()"
   ],
   "id": "27c87bb2d2cffdb7",
   "outputs": [],
   "execution_count": 2
  },
  {
   "metadata": {
    "ExecuteTime": {
     "end_time": "2025-04-24T05:48:32.602201Z",
     "start_time": "2025-04-24T05:48:32.429881Z"
    }
   },
   "cell_type": "code",
   "source": "graph.get_graph().print_ascii()",
   "id": "5ef9b05a4b5fe48",
   "outputs": [
    {
     "name": "stdout",
     "output_type": "stream",
     "text": [
      " +-----------+   \r\n",
      " | __start__ |   \r\n",
      " +-----------+   \r\n",
      "        *        \r\n",
      "        *        \r\n",
      "        *        \r\n",
      "     +---+       \r\n",
      "     | a |       \r\n",
      "     +---+       \r\n",
      "     *    *      \r\n",
      "    *      *     \r\n",
      "   *        *    \r\n",
      "+---+     +---+  \r\n",
      "| b |     | c |  \r\n",
      "+---+     +---+  \r\n",
      "     *    *      \r\n",
      "      *  *       \r\n",
      "       **        \r\n",
      "     +---+       \r\n",
      "     | d |       \r\n",
      "     +---+       \r\n",
      "        *        \r\n",
      "        *        \r\n",
      "        *        \r\n",
      "  +---------+    \r\n",
      "  | __end__ |    \r\n",
      "  +---------+    \n"
     ]
    }
   ],
   "execution_count": 3
  },
  {
   "metadata": {
    "ExecuteTime": {
     "end_time": "2025-04-24T05:48:44.471033Z",
     "start_time": "2025-04-24T05:48:44.431993Z"
    }
   },
   "cell_type": "code",
   "source": [
    "# 그래프 실행\n",
    "graph.invoke({\"aggregate\": []}, {\"configurable\": {\"thread_id\": \"foo\"}})"
   ],
   "id": "bbdafdbce10b0e1e",
   "outputs": [
    {
     "name": "stdout",
     "output_type": "stream",
     "text": [
      "Adding I'm A to []\n",
      "Adding I'm B to [HumanMessage(content=\"I'm A\", additional_kwargs={}, response_metadata={}, id='bf186fda-abb7-4ce0-8777-2c45228f4a26')]\n",
      "Adding I'm C to [HumanMessage(content=\"I'm A\", additional_kwargs={}, response_metadata={}, id='bf186fda-abb7-4ce0-8777-2c45228f4a26')]\n",
      "Adding I'm D to [HumanMessage(content=\"I'm A\", additional_kwargs={}, response_metadata={}, id='bf186fda-abb7-4ce0-8777-2c45228f4a26'), HumanMessage(content=\"I'm B\", additional_kwargs={}, response_metadata={}, id='0cf91395-262d-49fc-aa7b-318e82fba85c'), HumanMessage(content=\"I'm C\", additional_kwargs={}, response_metadata={}, id='71e951e4-6286-480d-bec4-d144569191bb')]\n"
     ]
    },
    {
     "data": {
      "text/plain": [
       "{'aggregate': [HumanMessage(content=\"I'm A\", additional_kwargs={}, response_metadata={}, id='bf186fda-abb7-4ce0-8777-2c45228f4a26'),\n",
       "  HumanMessage(content=\"I'm B\", additional_kwargs={}, response_metadata={}, id='0cf91395-262d-49fc-aa7b-318e82fba85c'),\n",
       "  HumanMessage(content=\"I'm C\", additional_kwargs={}, response_metadata={}, id='71e951e4-6286-480d-bec4-d144569191bb'),\n",
       "  HumanMessage(content=\"I'm D\", additional_kwargs={}, response_metadata={}, id='e8b34891-e389-428b-a5ec-6a9e48cdf0c9')]}"
      ]
     },
     "execution_count": 4,
     "metadata": {},
     "output_type": "execute_result"
    }
   ],
   "execution_count": 4
  },
  {
   "metadata": {},
   "cell_type": "markdown",
   "source": "# 추가 단계가 있는 병렬 노드의 fan-out 및 fan-in",
   "id": "85826895881ce762"
  },
  {
   "metadata": {
    "ExecuteTime": {
     "end_time": "2025-04-24T05:50:25.591199Z",
     "start_time": "2025-04-24T05:50:25.581407Z"
    }
   },
   "cell_type": "code",
   "source": [
    "from typing import Annotated\n",
    "from typing_extensions import TypedDict\n",
    "from langgraph.graph import StateGraph\n",
    "from langgraph.graph.message import add_messages\n",
    "\n",
    "\n",
    "# 상태 정의(add_messages 리듀서 사용)\n",
    "class State(TypedDict):\n",
    "    aggregate: Annotated[list, add_messages]\n",
    "\n",
    "\n",
    "# 노드 값 반환 클래스\n",
    "class ReturnNodeValue:\n",
    "    # 초기화\n",
    "    def __init__(self, node_secret: str):\n",
    "        self._value = node_secret\n",
    "\n",
    "    # 호출시 상태 업데이트\n",
    "    def __call__(self, state: State) -> Any:\n",
    "        print(f\"Adding {self._value} to {state['aggregate']}\")\n",
    "        return {\"aggregate\": [self._value]}\n",
    "\n",
    "\n",
    "# 상태 그래프 초기화\n",
    "builder = StateGraph(State)\n",
    "\n",
    "# 노드 생성 및 연결\n",
    "builder.add_node(\"a\", ReturnNodeValue(\"I'm A\"))\n",
    "builder.add_edge(START, \"a\")\n",
    "builder.add_node(\"b1\", ReturnNodeValue(\"I'm B1\"))\n",
    "builder.add_node(\"b2\", ReturnNodeValue(\"I'm B2\"))\n",
    "builder.add_node(\"c\", ReturnNodeValue(\"I'm C\"))\n",
    "builder.add_node(\"d\", ReturnNodeValue(\"I'm D\"))\n",
    "builder.add_edge(\"a\", \"b1\")\n",
    "builder.add_edge(\"a\", \"c\")\n",
    "builder.add_edge(\"b1\", \"b2\")\n",
    "builder.add_edge([\"b2\", \"c\"], \"d\")\n",
    "builder.add_edge(\"d\", END)\n",
    "\n",
    "# 그래프 컴파일\n",
    "graph = builder.compile()"
   ],
   "id": "bae63110a7bd1948",
   "outputs": [],
   "execution_count": 5
  },
  {
   "metadata": {
    "ExecuteTime": {
     "end_time": "2025-04-24T05:50:31.502822Z",
     "start_time": "2025-04-24T05:50:31.495306Z"
    }
   },
   "cell_type": "code",
   "source": "graph.get_graph().print_ascii()",
   "id": "38c87627115251a6",
   "outputs": [
    {
     "name": "stdout",
     "output_type": "stream",
     "text": [
      "  +-----------+   \r\n",
      "  | __start__ |   \r\n",
      "  +-----------+   \r\n",
      "        *         \r\n",
      "        *         \r\n",
      "        *         \r\n",
      "      +---+       \r\n",
      "      | a |       \r\n",
      "      +---+       \r\n",
      "      *    *      \r\n",
      "     *      *     \r\n",
      "    *        *    \r\n",
      "+----+        *   \r\n",
      "| b1 |        *   \r\n",
      "+----+        *   \r\n",
      "   *          *   \r\n",
      "   *          *   \r\n",
      "   *          *   \r\n",
      "+----+      +---+ \r\n",
      "| b2 |      | c | \r\n",
      "+----+      +---+ \r\n",
      "      *    *      \r\n",
      "       *  *       \r\n",
      "        **        \r\n",
      "      +---+       \r\n",
      "      | d |       \r\n",
      "      +---+       \r\n",
      "        *         \r\n",
      "        *         \r\n",
      "        *         \r\n",
      "   +---------+    \r\n",
      "   | __end__ |    \r\n",
      "   +---------+    \n"
     ]
    }
   ],
   "execution_count": 6
  },
  {
   "metadata": {
    "ExecuteTime": {
     "end_time": "2025-04-24T05:50:54.039640Z",
     "start_time": "2025-04-24T05:50:54.028631Z"
    }
   },
   "cell_type": "code",
   "source": [
    "# 빈 리스트를 사용한 그래프 집계 연산 실행, 모든 데이터에 대한 기본 집계 수행\n",
    "graph.invoke({\"aggregate\": []})"
   ],
   "id": "258f1dfde39a67e2",
   "outputs": [
    {
     "name": "stdout",
     "output_type": "stream",
     "text": [
      "Adding I'm A to []\n",
      "Adding I'm B1 to [HumanMessage(content=\"I'm A\", additional_kwargs={}, response_metadata={}, id='1f1c81ea-d9b7-4e61-8380-a96881b9490a')]\n",
      "Adding I'm C to [HumanMessage(content=\"I'm A\", additional_kwargs={}, response_metadata={}, id='1f1c81ea-d9b7-4e61-8380-a96881b9490a')]\n",
      "Adding I'm B2 to [HumanMessage(content=\"I'm A\", additional_kwargs={}, response_metadata={}, id='1f1c81ea-d9b7-4e61-8380-a96881b9490a'), HumanMessage(content=\"I'm B1\", additional_kwargs={}, response_metadata={}, id='1d830827-55d0-4e46-8edd-83d07bf14399'), HumanMessage(content=\"I'm C\", additional_kwargs={}, response_metadata={}, id='5d300fac-eaf4-4b03-bd2b-dd5a32693d38')]\n",
      "Adding I'm D to [HumanMessage(content=\"I'm A\", additional_kwargs={}, response_metadata={}, id='1f1c81ea-d9b7-4e61-8380-a96881b9490a'), HumanMessage(content=\"I'm B1\", additional_kwargs={}, response_metadata={}, id='1d830827-55d0-4e46-8edd-83d07bf14399'), HumanMessage(content=\"I'm C\", additional_kwargs={}, response_metadata={}, id='5d300fac-eaf4-4b03-bd2b-dd5a32693d38'), HumanMessage(content=\"I'm B2\", additional_kwargs={}, response_metadata={}, id='72542d76-1012-489c-b1b7-235e93599fca')]\n"
     ]
    },
    {
     "data": {
      "text/plain": [
       "{'aggregate': [HumanMessage(content=\"I'm A\", additional_kwargs={}, response_metadata={}, id='1f1c81ea-d9b7-4e61-8380-a96881b9490a'),\n",
       "  HumanMessage(content=\"I'm B1\", additional_kwargs={}, response_metadata={}, id='1d830827-55d0-4e46-8edd-83d07bf14399'),\n",
       "  HumanMessage(content=\"I'm C\", additional_kwargs={}, response_metadata={}, id='5d300fac-eaf4-4b03-bd2b-dd5a32693d38'),\n",
       "  HumanMessage(content=\"I'm B2\", additional_kwargs={}, response_metadata={}, id='72542d76-1012-489c-b1b7-235e93599fca'),\n",
       "  HumanMessage(content=\"I'm D\", additional_kwargs={}, response_metadata={}, id='4bd805ce-b06c-4f14-938f-0f1d31f386cb')]}"
      ]
     },
     "execution_count": 7,
     "metadata": {},
     "output_type": "execute_result"
    }
   ],
   "execution_count": 7
  },
  {
   "metadata": {},
   "cell_type": "markdown",
   "source": "# 조건부 분기(conditional branching)",
   "id": "82eb0b0f3f32573f"
  },
  {
   "metadata": {
    "ExecuteTime": {
     "end_time": "2025-04-24T05:53:51.331885Z",
     "start_time": "2025-04-24T05:53:51.319373Z"
    }
   },
   "cell_type": "code",
   "source": [
    "from typing import Annotated, Sequence\n",
    "from typing_extensions import TypedDict\n",
    "from langgraph.graph import END, START, StateGraph\n",
    "\n",
    "# 상태 정의(add_messages 리듀서 사용)\n",
    "class State(TypedDict):\n",
    "    aggregate: Annotated[list, add_messages]\n",
    "    which: str\n",
    "\n",
    "\n",
    "# 노드별 고유 값을 반환하는 클래스\n",
    "class ReturnNodeValue:\n",
    "    def __init__(self, node_secret: str):\n",
    "        self._value = node_secret\n",
    "\n",
    "    def __call__(self, state: State) -> Any:\n",
    "        print(f\"Adding {self._value} to {state['aggregate']}\")\n",
    "        return {\"aggregate\": [self._value]}\n",
    "\n",
    "\n",
    "# 상태 그래프 초기화\n",
    "builder = StateGraph(State)\n",
    "builder.add_node(\"a\", ReturnNodeValue(\"I'm A\"))\n",
    "builder.add_edge(START, \"a\")\n",
    "builder.add_node(\"b\", ReturnNodeValue(\"I'm B\"))\n",
    "builder.add_node(\"c\", ReturnNodeValue(\"I'm C\"))\n",
    "builder.add_node(\"d\", ReturnNodeValue(\"I'm D\"))\n",
    "builder.add_node(\"e\", ReturnNodeValue(\"I'm E\"))\n",
    "\n",
    "\n",
    "# 상태의 'which' 값에 따른 조건부 라우팅 경로 결정 함수\n",
    "def route_bc_or_cd(state: State) -> Sequence[str]:\n",
    "    if state[\"which\"] == \"cd\":\n",
    "        return [\"c\", \"d\"]\n",
    "    return [\"b\", \"c\"]\n",
    "\n",
    "\n",
    "# 전체 병렬 처리할 노드 목록\n",
    "intermediates = [\"b\", \"c\", \"d\"]\n",
    "\n",
    "builder.add_conditional_edges(\n",
    "    \"a\",\n",
    "    route_bc_or_cd,\n",
    "    intermediates,\n",
    ")\n",
    "for node in intermediates:\n",
    "    builder.add_edge(node, \"e\")\n",
    "\n",
    "\n",
    "# 최종 노드 연결 및 그래프 컴파일\n",
    "builder.add_edge(\"e\", END)\n",
    "graph = builder.compile()"
   ],
   "id": "b808776cf6e09aa9",
   "outputs": [],
   "execution_count": 8
  },
  {
   "metadata": {
    "ExecuteTime": {
     "end_time": "2025-04-24T05:53:59.488388Z",
     "start_time": "2025-04-24T05:53:59.480424Z"
    }
   },
   "cell_type": "code",
   "source": "graph.get_graph().print_ascii()",
   "id": "2bef547cfb6cce77",
   "outputs": [
    {
     "name": "stdout",
     "output_type": "stream",
     "text": [
      "      +-----------+        \r\n",
      "      | __start__ |        \r\n",
      "      +-----------+        \r\n",
      "            *              \r\n",
      "            *              \r\n",
      "            *              \r\n",
      "          +---+            \r\n",
      "          | a |            \r\n",
      "         .+---+..          \r\n",
      "       ..   .    ..        \r\n",
      "     ..     .      ..      \r\n",
      "    .       .        .     \r\n",
      "+---+     +---+     +---+  \r\n",
      "| b |     | c |     | d |  \r\n",
      "+---+**   +---+    *+---+  \r\n",
      "       **   *    **        \r\n",
      "         ** *  **          \r\n",
      "           ** *            \r\n",
      "          +---+            \r\n",
      "          | e |            \r\n",
      "          +---+            \r\n",
      "            *              \r\n",
      "            *              \r\n",
      "            *              \r\n",
      "       +---------+         \r\n",
      "       | __end__ |         \r\n",
      "       +---------+         \n"
     ]
    }
   ],
   "execution_count": 9
  },
  {
   "metadata": {
    "ExecuteTime": {
     "end_time": "2025-04-24T05:54:51.031002Z",
     "start_time": "2025-04-24T05:54:51.020729Z"
    }
   },
   "cell_type": "code",
   "source": [
    "# 그래프 실행(which: bc 로 지정)\n",
    "graph.invoke({\"aggregate\": [], \"which\": \"bc\"})"
   ],
   "id": "17c6a44909b7a063",
   "outputs": [
    {
     "name": "stdout",
     "output_type": "stream",
     "text": [
      "Adding I'm A to []\n",
      "Adding I'm B to [HumanMessage(content=\"I'm A\", additional_kwargs={}, response_metadata={}, id='55ad703f-0f8c-4396-a746-e150ba625804')]\n",
      "Adding I'm C to [HumanMessage(content=\"I'm A\", additional_kwargs={}, response_metadata={}, id='55ad703f-0f8c-4396-a746-e150ba625804')]\n",
      "Adding I'm E to [HumanMessage(content=\"I'm A\", additional_kwargs={}, response_metadata={}, id='55ad703f-0f8c-4396-a746-e150ba625804'), HumanMessage(content=\"I'm B\", additional_kwargs={}, response_metadata={}, id='f514b90f-2293-4dcd-af03-f7d454383f7d'), HumanMessage(content=\"I'm C\", additional_kwargs={}, response_metadata={}, id='08a4b11a-898f-4aeb-8b4a-2d85b29bc265')]\n"
     ]
    },
    {
     "data": {
      "text/plain": [
       "{'aggregate': [HumanMessage(content=\"I'm A\", additional_kwargs={}, response_metadata={}, id='55ad703f-0f8c-4396-a746-e150ba625804'),\n",
       "  HumanMessage(content=\"I'm B\", additional_kwargs={}, response_metadata={}, id='f514b90f-2293-4dcd-af03-f7d454383f7d'),\n",
       "  HumanMessage(content=\"I'm C\", additional_kwargs={}, response_metadata={}, id='08a4b11a-898f-4aeb-8b4a-2d85b29bc265'),\n",
       "  HumanMessage(content=\"I'm E\", additional_kwargs={}, response_metadata={}, id='f30fd441-de8f-43c3-bd4d-8ffd98b762e9')],\n",
       " 'which': 'bc'}"
      ]
     },
     "execution_count": 10,
     "metadata": {},
     "output_type": "execute_result"
    }
   ],
   "execution_count": 10
  },
  {
   "metadata": {
    "ExecuteTime": {
     "end_time": "2025-04-24T05:55:16.092177Z",
     "start_time": "2025-04-24T05:55:16.081664Z"
    }
   },
   "cell_type": "code",
   "source": [
    "# 그래프 실행(which: cd 로 지정)\n",
    "graph.invoke({\"aggregate\": [], \"which\": \"cd\"})"
   ],
   "id": "1e76cef820d582d2",
   "outputs": [
    {
     "name": "stdout",
     "output_type": "stream",
     "text": [
      "Adding I'm A to []\n",
      "Adding I'm C to [HumanMessage(content=\"I'm A\", additional_kwargs={}, response_metadata={}, id='c6ed9ce3-f26f-4a63-91ca-dfdc464a3a7d')]\n",
      "Adding I'm D to [HumanMessage(content=\"I'm A\", additional_kwargs={}, response_metadata={}, id='c6ed9ce3-f26f-4a63-91ca-dfdc464a3a7d')]\n",
      "Adding I'm E to [HumanMessage(content=\"I'm A\", additional_kwargs={}, response_metadata={}, id='c6ed9ce3-f26f-4a63-91ca-dfdc464a3a7d'), HumanMessage(content=\"I'm C\", additional_kwargs={}, response_metadata={}, id='c7cd300b-6a45-4ec8-8481-e2f25ab8a139'), HumanMessage(content=\"I'm D\", additional_kwargs={}, response_metadata={}, id='c69c8af7-b97b-4554-a1c9-1d92332470f9')]\n"
     ]
    },
    {
     "data": {
      "text/plain": [
       "{'aggregate': [HumanMessage(content=\"I'm A\", additional_kwargs={}, response_metadata={}, id='c6ed9ce3-f26f-4a63-91ca-dfdc464a3a7d'),\n",
       "  HumanMessage(content=\"I'm C\", additional_kwargs={}, response_metadata={}, id='c7cd300b-6a45-4ec8-8481-e2f25ab8a139'),\n",
       "  HumanMessage(content=\"I'm D\", additional_kwargs={}, response_metadata={}, id='c69c8af7-b97b-4554-a1c9-1d92332470f9'),\n",
       "  HumanMessage(content=\"I'm E\", additional_kwargs={}, response_metadata={}, id='581a24a2-0f34-4806-86cd-dc756a76d99e')],\n",
       " 'which': 'cd'}"
      ]
     },
     "execution_count": 11,
     "metadata": {},
     "output_type": "execute_result"
    }
   ],
   "execution_count": 11
  },
  {
   "metadata": {},
   "cell_type": "markdown",
   "source": "# fan-out 값의 신뢰도에 따른 정렬",
   "id": "8e58cfc56ece3d4"
  },
  {
   "metadata": {
    "ExecuteTime": {
     "end_time": "2025-04-24T05:59:01.763674Z",
     "start_time": "2025-04-24T05:59:01.750309Z"
    }
   },
   "cell_type": "code",
   "source": [
    "from typing import Annotated, Sequence\n",
    "from typing_extensions import TypedDict\n",
    "from langgraph.graph import StateGraph\n",
    "from langgraph.graph.message import add_messages\n",
    "\n",
    "\n",
    "# 팬아웃 값들의 병합 로직 구현, 빈 리스트 처리 및 리스트 연결 수행\n",
    "def reduce_fanouts(left, right):\n",
    "    if left is None:\n",
    "        left = []\n",
    "    if not right:\n",
    "        # 덮어쓰기\n",
    "        return []\n",
    "    return left + right\n",
    "\n",
    "\n",
    "# 상태 관리를 위한 타입 정의, 집계 및 팬아웃 값 저장 구조 설정\n",
    "class State(TypedDict):\n",
    "    # add_messages 리듀서 사용\n",
    "    aggregate: Annotated[list, add_messages]\n",
    "    fanout_values: Annotated[list, reduce_fanouts]\n",
    "    which: str\n",
    "\n",
    "\n",
    "# 그래프 초기화\n",
    "builder = StateGraph(State)\n",
    "builder.add_node(\"a\", ReturnNodeValue(\"I'm A\"))\n",
    "builder.add_edge(START, \"a\")\n",
    "\n",
    "\n",
    "# 병렬 노드 값 반환 클래스\n",
    "class ParallelReturnNodeValue:\n",
    "    def __init__(\n",
    "        self,\n",
    "        node_secret: str,\n",
    "        reliability: float,\n",
    "    ):\n",
    "        self._value = node_secret\n",
    "        self._reliability = reliability\n",
    "\n",
    "    # 호출시 상태 업데이트\n",
    "    def __call__(self, state: State) -> Any:\n",
    "        print(f\"Adding {self._value} to {state['aggregate']} in parallel.\")\n",
    "        return {\n",
    "            \"fanout_values\": [\n",
    "                {\n",
    "                    \"value\": [self._value],\n",
    "                    \"reliability\": self._reliability,\n",
    "                }\n",
    "            ]\n",
    "        }\n",
    "\n",
    "\n",
    "# 신뢰도(reliability)가 다른 병렬 노드들 추가\n",
    "builder.add_node(\"b\", ParallelReturnNodeValue(\"I'm B\", reliability=0.1))\n",
    "builder.add_node(\"c\", ParallelReturnNodeValue(\"I'm C\", reliability=0.9))\n",
    "builder.add_node(\"d\", ParallelReturnNodeValue(\"I'm D\", reliability=0.5))\n",
    "\n",
    "\n",
    "# 팬아웃 값들을 신뢰도 기준으로 정렬하고 최종 집계 수행\n",
    "def aggregate_fanout_values(state: State) -> Any:\n",
    "    # 신뢰도 기준 정렬\n",
    "    ranked_values = sorted(\n",
    "        state[\"fanout_values\"], key=lambda x: x[\"reliability\"], reverse=True\n",
    "    )\n",
    "    print(ranked_values)\n",
    "    return {\n",
    "        \"aggregate\": [x[\"value\"][0] for x in ranked_values] + [\"I'm E\"],\n",
    "        \"fanout_values\": [],\n",
    "    }\n",
    "\n",
    "\n",
    "# 집계 노드 추가\n",
    "builder.add_node(\"e\", aggregate_fanout_values)\n",
    "\n",
    "\n",
    "# 상태에 따른 조건부 라우팅 로직 구현\n",
    "def route_bc_or_cd(state: State) -> Sequence[str]:\n",
    "    if state[\"which\"] == \"cd\":\n",
    "        return [\"c\", \"d\"]\n",
    "    return [\"b\", \"c\"]\n",
    "\n",
    "\n",
    "# 중간 노드들 설정 및 조건부 엣지 추가\n",
    "intermediates = [\"b\", \"c\", \"d\"]\n",
    "builder.add_conditional_edges(\"a\", route_bc_or_cd, intermediates)\n",
    "\n",
    "# 중간 노드들과 최종 집계 노드 연결\n",
    "for node in intermediates:\n",
    "    builder.add_edge(node, \"e\")\n",
    "\n",
    "# 그래프 완성을 위한 최종\n",
    "graph = builder.compile()"
   ],
   "id": "9ec7f53214686a2",
   "outputs": [],
   "execution_count": 12
  },
  {
   "metadata": {
    "ExecuteTime": {
     "end_time": "2025-04-24T05:59:14.914690Z",
     "start_time": "2025-04-24T05:59:14.907102Z"
    }
   },
   "cell_type": "code",
   "source": "graph.get_graph().print_ascii()",
   "id": "f3d16c7fac6959df",
   "outputs": [
    {
     "name": "stdout",
     "output_type": "stream",
     "text": [
      "      +-----------+        \r\n",
      "      | __start__ |        \r\n",
      "      +-----------+        \r\n",
      "            *              \r\n",
      "            *              \r\n",
      "            *              \r\n",
      "          +---+            \r\n",
      "          | a |            \r\n",
      "         .+---+..          \r\n",
      "       ..   .    ..        \r\n",
      "     ..     .      ..      \r\n",
      "    .       .        .     \r\n",
      "+---+     +---+     +---+  \r\n",
      "| b |     | c |     | d |  \r\n",
      "+---+**   +---+    *+---+  \r\n",
      "       **   *    **        \r\n",
      "         ** *  **          \r\n",
      "           ** *            \r\n",
      "          +---+            \r\n",
      "          | e |            \r\n",
      "          +---+            \n"
     ]
    }
   ],
   "execution_count": 13
  },
  {
   "metadata": {
    "ExecuteTime": {
     "end_time": "2025-04-24T06:00:10.323586Z",
     "start_time": "2025-04-24T06:00:10.312877Z"
    }
   },
   "cell_type": "code",
   "source": [
    "# 그래프 실행(which: bc 로 지정)\n",
    "graph.invoke({\"aggregate\": [], \"which\": \"bc\", \"fanout_values\": []})"
   ],
   "id": "d01ef81fde4250b5",
   "outputs": [
    {
     "name": "stdout",
     "output_type": "stream",
     "text": [
      "Adding I'm A to []\n",
      "Adding I'm B to [HumanMessage(content=\"I'm A\", additional_kwargs={}, response_metadata={}, id='48223db7-ebd7-4ff4-a20a-f10f0165b01c')] in parallel.\n",
      "Adding I'm C to [HumanMessage(content=\"I'm A\", additional_kwargs={}, response_metadata={}, id='48223db7-ebd7-4ff4-a20a-f10f0165b01c')] in parallel.\n",
      "[{'value': [\"I'm C\"], 'reliability': 0.9}, {'value': [\"I'm B\"], 'reliability': 0.1}]\n"
     ]
    },
    {
     "data": {
      "text/plain": [
       "{'aggregate': [HumanMessage(content=\"I'm A\", additional_kwargs={}, response_metadata={}, id='48223db7-ebd7-4ff4-a20a-f10f0165b01c'),\n",
       "  HumanMessage(content=\"I'm C\", additional_kwargs={}, response_metadata={}, id='c67e09f4-6dfa-441f-bc83-b6db9598956c'),\n",
       "  HumanMessage(content=\"I'm B\", additional_kwargs={}, response_metadata={}, id='dfc7ecda-ca3c-421c-b2b9-fb7e056ecf9d'),\n",
       "  HumanMessage(content=\"I'm E\", additional_kwargs={}, response_metadata={}, id='fd3a93c6-de9e-4f7b-b4b3-4368796d8296')],\n",
       " 'fanout_values': [],\n",
       " 'which': 'bc'}"
      ]
     },
     "execution_count": 14,
     "metadata": {},
     "output_type": "execute_result"
    }
   ],
   "execution_count": 14
  },
  {
   "metadata": {
    "ExecuteTime": {
     "end_time": "2025-04-24T06:00:23.729954Z",
     "start_time": "2025-04-24T06:00:23.721111Z"
    }
   },
   "cell_type": "code",
   "source": [
    "# 그래프 실행(which: cd 로 지정)\n",
    "graph.invoke({\"aggregate\": [], \"which\": \"cd\"})"
   ],
   "id": "7fece7bf92492f1d",
   "outputs": [
    {
     "name": "stdout",
     "output_type": "stream",
     "text": [
      "Adding I'm A to []\n",
      "Adding I'm C to [HumanMessage(content=\"I'm A\", additional_kwargs={}, response_metadata={}, id='27e5e10a-b44c-44a2-87a2-d4e3b492a035')] in parallel.\n",
      "Adding I'm D to [HumanMessage(content=\"I'm A\", additional_kwargs={}, response_metadata={}, id='27e5e10a-b44c-44a2-87a2-d4e3b492a035')] in parallel.\n",
      "[{'value': [\"I'm C\"], 'reliability': 0.9}, {'value': [\"I'm D\"], 'reliability': 0.5}]\n"
     ]
    },
    {
     "data": {
      "text/plain": [
       "{'aggregate': [HumanMessage(content=\"I'm A\", additional_kwargs={}, response_metadata={}, id='27e5e10a-b44c-44a2-87a2-d4e3b492a035'),\n",
       "  HumanMessage(content=\"I'm C\", additional_kwargs={}, response_metadata={}, id='f74c90ec-0b2c-4586-850f-f0d822523db3'),\n",
       "  HumanMessage(content=\"I'm D\", additional_kwargs={}, response_metadata={}, id='afcbbda8-c2c2-487c-98f2-0ba911ac16a4'),\n",
       "  HumanMessage(content=\"I'm E\", additional_kwargs={}, response_metadata={}, id='c265118c-a27c-4f8f-8ef0-620d2f611792')],\n",
       " 'fanout_values': [],\n",
       " 'which': 'cd'}"
      ]
     },
     "execution_count": 15,
     "metadata": {},
     "output_type": "execute_result"
    }
   ],
   "execution_count": 15
  }
 ],
 "metadata": {
  "kernelspec": {
   "display_name": "Python 3",
   "language": "python",
   "name": "python3"
  },
  "language_info": {
   "codemirror_mode": {
    "name": "ipython",
    "version": 2
   },
   "file_extension": ".py",
   "mimetype": "text/x-python",
   "name": "python",
   "nbconvert_exporter": "python",
   "pygments_lexer": "ipython2",
   "version": "2.7.6"
  }
 },
 "nbformat": 4,
 "nbformat_minor": 5
}
