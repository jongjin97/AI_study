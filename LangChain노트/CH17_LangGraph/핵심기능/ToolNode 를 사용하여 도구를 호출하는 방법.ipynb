{
 "cells": [
  {
   "cell_type": "code",
   "id": "initial_id",
   "metadata": {
    "collapsed": true,
    "ExecuteTime": {
     "end_time": "2025-04-24T05:27:39.481374Z",
     "start_time": "2025-04-24T05:27:39.442493Z"
    }
   },
   "source": [
    "from dotenv import load_dotenv\n",
    "\n",
    "# API 키 정보 로드\n",
    "load_dotenv()\n",
    "from langchain_teddynote import logging\n",
    "\n",
    "# 프로젝트 이름을 입력합니다.\n",
    "logging.langsmith(\"CH17-LangGraph-Modules\")"
   ],
   "outputs": [
    {
     "name": "stdout",
     "output_type": "stream",
     "text": [
      "LangSmith 추적을 시작합니다.\n",
      "[프로젝트명]\n",
      "CH17-LangGraph-Modules\n"
     ]
    }
   ],
   "execution_count": 1
  },
  {
   "metadata": {
    "ExecuteTime": {
     "end_time": "2025-04-24T05:29:00.918727Z",
     "start_time": "2025-04-24T05:28:57.769484Z"
    }
   },
   "cell_type": "code",
   "source": [
    "from langchain_core.messages import AIMessage\n",
    "from langchain_core.tools import tool\n",
    "from langchain_experimental.tools.python.tool import PythonAstREPLTool\n",
    "from langchain_teddynote.tools import GoogleNews\n",
    "from typing import List, Dict\n",
    "\n",
    "\n",
    "# 도구 생성\n",
    "@tool\n",
    "def search_news(query: str) -> List[Dict[str, str]]:\n",
    "    \"\"\"Search Google News by input keyword\"\"\"\n",
    "    news_tool = GoogleNews()\n",
    "    return news_tool.search_by_keyword(query, k=5)\n",
    "\n",
    "\n",
    "@tool\n",
    "def python_code_interpreter(code: str):\n",
    "    \"\"\"Call to execute python code.\"\"\"\n",
    "    return PythonAstREPLTool().invoke(code)"
   ],
   "id": "1a71cde300e7512",
   "outputs": [],
   "execution_count": 2
  },
  {
   "metadata": {
    "ExecuteTime": {
     "end_time": "2025-04-24T05:29:02.662506Z",
     "start_time": "2025-04-24T05:29:02.510861Z"
    }
   },
   "cell_type": "code",
   "source": [
    "from langgraph.prebuilt import ToolNode, tools_condition\n",
    "\n",
    "# 도구 리스트 생성\n",
    "tools = [search_news, python_code_interpreter]\n",
    "\n",
    "# ToolNode 초기화\n",
    "tool_node = ToolNode(tools)"
   ],
   "id": "fd3f85b778195177",
   "outputs": [],
   "execution_count": 3
  },
  {
   "metadata": {},
   "cell_type": "markdown",
   "source": "# ToolNode를 수동으로 호출하기",
   "id": "51a6d41ad95565ea"
  },
  {
   "metadata": {
    "ExecuteTime": {
     "end_time": "2025-04-24T05:29:40.090294Z",
     "start_time": "2025-04-24T05:29:38.364184Z"
    }
   },
   "cell_type": "code",
   "source": [
    "# 단일 도구 호출을 포함하는 AI 메시지 객체 생성\n",
    "# AIMessage 객체이어야 함\n",
    "message_with_single_tool_call = AIMessage(\n",
    "    content=\"\",\n",
    "    tool_calls=[\n",
    "        {\n",
    "            \"name\": \"search_news\",  # 도구 이름\n",
    "            \"args\": {\"query\": \"AI\"},  # 도구 인자\n",
    "            \"id\": \"tool_call_id\",  # 도구 호출 ID\n",
    "            \"type\": \"tool_call\",  # 도구 호출 유형\n",
    "        }\n",
    "    ],\n",
    ")\n",
    "\n",
    "# 도구 노드를 통한 메시지 처리 및 날씨 정보 요청 실행\n",
    "tool_node.invoke({\"messages\": [message_with_single_tool_call]})"
   ],
   "id": "5fefc30846c0f401",
   "outputs": [
    {
     "data": {
      "text/plain": [
       "{'messages': [ToolMessage(content='[{\"url\": \"https://news.google.com/rss/articles/CBMiakFVX3lxTE1yeVNTdUxja0Y0bjlIeDNiZ0JfRzJSVS0wTFhGY01MQnh4Vnd3a1NLRVNMQXdzY1V6NXVFZlUyeGp4NjBJSF9aWHh3Y0xqYTQ3TndSdUhfVUxjTUlYQ19qTTdfcDh2c0kyclE?oc=5\", \"content\": \"네이버클라우드, 경량 모델 3종 오픈 소스 공개...“실제 서비스 바꾸는 AI 선보일 것” - AI타임스\"}, {\"url\": \"https://news.google.com/rss/articles/CBMiVkFVX3lxTE8zYjdSRmMtbXJ4RmJXRlJPa2hWblBTS01oT1ltdGJJbzlSSzZNMlFxVG9uZVdqbEpQWWt5eXRIdWlaR2JUSzNwMk9yb0FBUVRERmdvN3VB?oc=5\", \"content\": \"부정행위 천재 대학생 둘...AI 회사 차려 75억원 잭팟 - 지디넷코리아\"}, {\"url\": \"https://news.google.com/rss/articles/CBMiW0FVX3lxTE1kaXFoV3RsZUZfQXdRR21pTWVrRURMMjZQVmNrbmVZWUhiR2JGUGJxNWZwcE0za3kyYVR5QTQtWXZ0UDBpMzA2M3F5UGR1WnNGbkh6alFIT3dJZ2_SAWBBVV95cUxQNS00UjZ3SUFYVnFmU01PYUhmWGxiMV81RlQzT0psa3BNUlE4cmFJZU91cW40Q1lrbU93R3NGSEh3WnBNeXQ2QXo3azUta0ozM2RfTTUtZUpfOFRYbGhDY2s?oc=5\", \"content\": \"미일 산학 협력 AI연구 거점, 日쓰쿠바대에 이르면 내년말 개설 - 연합뉴스\"}, {\"url\": \"https://news.google.com/rss/articles/CBMiU0FVX3lxTFBqZHVQSXRHMWhRRW1wNUMtajItLWU0enp0dEdENlNJU0p2b0dwZUF1RmVJZERkX1Foc3lad3F1OXdGSGp5UnVvVDFGd1Q0ZGZ2NjFr0gFYQVVfeXFMTjZvUVExQXBkOHNLN3ZmS1l2MUYzOU1NbXlwMnBpSnNpMUxLMUlFcDNOUjdnb3RhZWNFbEY1TTRCamR4a0FlQ3hrX1R4U0xBR3A3OEZKY0lzUw?oc=5\", \"content\": \"AI 신기술 각축 월드IT쇼 개막…삼성·LG 등 총출동 - SBS Biz\"}, {\"url\": \"https://news.google.com/rss/articles/CBMiYEFVX3lxTE5jMktfaV8wdzF4d0gyNDZUS2hINk43WTJNdTU3endaR1hsQUQtcjNlc0ZodThWMU9iS2FjbmtJOS0xX195a1NycDRIT3cyaW9RZVFodVMxUTdFNTlqbUNDUA?oc=5\", \"content\": \"한국 \\'AI 강국\\' 되려면…\\\\\"규제 패러다임부터 바꿔야\\\\\" - 네이트 뉴스\"}]', name='search_news', tool_call_id='tool_call_id')]}"
      ]
     },
     "execution_count": 4,
     "metadata": {},
     "output_type": "execute_result"
    }
   ],
   "execution_count": 4
  },
  {
   "metadata": {
    "ExecuteTime": {
     "end_time": "2025-04-24T05:30:02.957765Z",
     "start_time": "2025-04-24T05:30:02.578428Z"
    }
   },
   "cell_type": "code",
   "source": [
    "# 다중 도구 호출을 포함하는 AI 메시지 객체 생성 및 초기화\n",
    "message_with_multiple_tool_calls = AIMessage(\n",
    "    content=\"\",\n",
    "    tool_calls=[\n",
    "        {\n",
    "            \"name\": \"search_news\",\n",
    "            \"args\": {\"query\": \"AI\"},\n",
    "            \"id\": \"tool_call_id\",\n",
    "            \"type\": \"tool_call\",\n",
    "        },\n",
    "        {\n",
    "            \"name\": \"python_code_interpreter\",\n",
    "            \"args\": {\"code\": \"print(1+2+3+4)\"},\n",
    "            \"id\": \"tool_call_id\",\n",
    "            \"type\": \"tool_call\",\n",
    "        },\n",
    "    ],\n",
    ")\n",
    "\n",
    "# 생성된 메시지를 도구 노드에 전달하여 다중 도구 호출 실행\n",
    "tool_node.invoke({\"messages\": [message_with_multiple_tool_calls]})"
   ],
   "id": "fc187a7ff038cc32",
   "outputs": [
    {
     "data": {
      "text/plain": [
       "{'messages': [ToolMessage(content='[{\"url\": \"https://news.google.com/rss/articles/CBMiakFVX3lxTE1yeVNTdUxja0Y0bjlIeDNiZ0JfRzJSVS0wTFhGY01MQnh4Vnd3a1NLRVNMQXdzY1V6NXVFZlUyeGp4NjBJSF9aWHh3Y0xqYTQ3TndSdUhfVUxjTUlYQ19qTTdfcDh2c0kyclE?oc=5\", \"content\": \"네이버클라우드, 경량 모델 3종 오픈 소스 공개...“실제 서비스 바꾸는 AI 선보일 것” - AI타임스\"}, {\"url\": \"https://news.google.com/rss/articles/CBMiVkFVX3lxTE8zYjdSRmMtbXJ4RmJXRlJPa2hWblBTS01oT1ltdGJJbzlSSzZNMlFxVG9uZVdqbEpQWWt5eXRIdWlaR2JUSzNwMk9yb0FBUVRERmdvN3VB?oc=5\", \"content\": \"부정행위 천재 대학생 둘...AI 회사 차려 75억원 잭팟 - 지디넷코리아\"}, {\"url\": \"https://news.google.com/rss/articles/CBMiW0FVX3lxTE1kaXFoV3RsZUZfQXdRR21pTWVrRURMMjZQVmNrbmVZWUhiR2JGUGJxNWZwcE0za3kyYVR5QTQtWXZ0UDBpMzA2M3F5UGR1WnNGbkh6alFIT3dJZ2_SAWBBVV95cUxQNS00UjZ3SUFYVnFmU01PYUhmWGxiMV81RlQzT0psa3BNUlE4cmFJZU91cW40Q1lrbU93R3NGSEh3WnBNeXQ2QXo3azUta0ozM2RfTTUtZUpfOFRYbGhDY2s?oc=5\", \"content\": \"미일 산학 협력 AI연구 거점, 日쓰쿠바대에 이르면 내년말 개설 - 연합뉴스\"}, {\"url\": \"https://news.google.com/rss/articles/CBMiU0FVX3lxTFBqZHVQSXRHMWhRRW1wNUMtajItLWU0enp0dEdENlNJU0p2b0dwZUF1RmVJZERkX1Foc3lad3F1OXdGSGp5UnVvVDFGd1Q0ZGZ2NjFr0gFYQVVfeXFMTjZvUVExQXBkOHNLN3ZmS1l2MUYzOU1NbXlwMnBpSnNpMUxLMUlFcDNOUjdnb3RhZWNFbEY1TTRCamR4a0FlQ3hrX1R4U0xBR3A3OEZKY0lzUw?oc=5\", \"content\": \"AI 신기술 각축 월드IT쇼 개막…삼성·LG 등 총출동 - SBS Biz\"}, {\"url\": \"https://news.google.com/rss/articles/CBMiYEFVX3lxTE5jMktfaV8wdzF4d0gyNDZUS2hINk43WTJNdTU3endaR1hsQUQtcjNlc0ZodThWMU9iS2FjbmtJOS0xX195a1NycDRIT3cyaW9RZVFodVMxUTdFNTlqbUNDUA?oc=5\", \"content\": \"한국 \\'AI 강국\\' 되려면…\\\\\"규제 패러다임부터 바꿔야\\\\\" - 네이트 뉴스\"}]', name='search_news', tool_call_id='tool_call_id'),\n",
       "  ToolMessage(content='10\\n', name='python_code_interpreter', tool_call_id='tool_call_id')]}"
      ]
     },
     "execution_count": 5,
     "metadata": {},
     "output_type": "execute_result"
    }
   ],
   "execution_count": 5
  },
  {
   "metadata": {},
   "cell_type": "markdown",
   "source": "# llm 과 함께 사용하기",
   "id": "91d286da0bca3473"
  },
  {
   "metadata": {
    "ExecuteTime": {
     "end_time": "2025-04-24T05:30:45.753471Z",
     "start_time": "2025-04-24T05:30:42.921760Z"
    }
   },
   "cell_type": "code",
   "source": [
    "from langchain_openai import ChatOpenAI\n",
    "\n",
    "# LLM 모델 초기화 및 도구 바인딩\n",
    "model_with_tools = ChatOpenAI(model=\"gpt-4o-mini\", temperature=0).bind_tools(tools)"
   ],
   "id": "d51fb24a7a5583f3",
   "outputs": [],
   "execution_count": 7
  },
  {
   "metadata": {
    "ExecuteTime": {
     "end_time": "2025-04-24T05:30:49.781026Z",
     "start_time": "2025-04-24T05:30:45.771522Z"
    }
   },
   "cell_type": "code",
   "source": [
    "# 도구 호출 확인\n",
    "model_with_tools.invoke(\"처음 5개의 소수를 출력하는 python code 를 작성해줘\").tool_calls"
   ],
   "id": "c74b1a89fe73c0b3",
   "outputs": [
    {
     "data": {
      "text/plain": [
       "[{'name': 'python_code_interpreter',\n",
       "  'args': {'code': 'def first_n_primes(n):\\n    primes = []\\n    num = 2  # Starting from the first prime number\\n    while len(primes) < n:\\n        is_prime = True\\n        for i in range(2, int(num**0.5) + 1):\\n            if num % i == 0:\\n                is_prime = False\\n                break\\n        if is_prime:\\n            primes.append(num)\\n        num += 1\\n    return primes\\n\\n# Get the first 5 prime numbers\\nfirst_n_primes(5)'},\n",
       "  'id': 'call_V3KilnXj3EYQFjwwyVKk6m9o',\n",
       "  'type': 'tool_call'}]"
      ]
     },
     "execution_count": 8,
     "metadata": {},
     "output_type": "execute_result"
    }
   ],
   "execution_count": 8
  },
  {
   "metadata": {
    "ExecuteTime": {
     "end_time": "2025-04-24T05:31:42.624325Z",
     "start_time": "2025-04-24T05:31:40.020868Z"
    }
   },
   "cell_type": "code",
   "source": [
    "# 도구 노드를 통한 메시지 처리 및 LLM 모델의 도구 기반 응답 생성\n",
    "tool_node.invoke(\n",
    "    {\n",
    "        \"messages\": [\n",
    "            model_with_tools.invoke(\n",
    "                \"처음 5개의 소수를 출력하는 python code 를 작성해줘\"\n",
    "            )\n",
    "        ]\n",
    "    }\n",
    ")"
   ],
   "id": "69b52868a6c09265",
   "outputs": [
    {
     "data": {
      "text/plain": [
       "{'messages': [ToolMessage(content='[2, 3, 5, 7, 11]', name='python_code_interpreter', tool_call_id='call_ENEMTOw1tKu74jMgiY3oAW7z')]}"
      ]
     },
     "execution_count": 9,
     "metadata": {},
     "output_type": "execute_result"
    }
   ],
   "execution_count": 9
  },
  {
   "metadata": {},
   "cell_type": "markdown",
   "source": "# Agent 와 함께 사용하기",
   "id": "ac00d1c14a074c38"
  },
  {
   "metadata": {
    "ExecuteTime": {
     "end_time": "2025-04-24T05:34:29.306982Z",
     "start_time": "2025-04-24T05:34:29.282674Z"
    }
   },
   "cell_type": "code",
   "source": [
    "# LangGraph 워크플로우 상태 및 메시지 처리를 위한 타입 임포트\n",
    "from langgraph.graph import StateGraph, MessagesState, START, END\n",
    "\n",
    "# LLM 모델을 사용하여 메시지 처리 및 응답 생성, 도구 호출이 포함된 응답 반환\n",
    "def call_model(state: MessagesState):\n",
    "    messages = state[\"messages\"]\n",
    "    response = model_with_tools.invoke(messages)\n",
    "    return {\"messages\": [response]}\n",
    "\n",
    "# 메시지 상태 기반 워크플로우 그래프 초기화\n",
    "workflow = StateGraph(MessagesState)\n",
    "\n",
    "# 에이전트와 도구 노드 정의 및 워크플로우 그래프에 추가\n",
    "workflow.add_node(\"agent\", call_model)\n",
    "workflow.add_node(\"tools\", tool_node)\n",
    "\n",
    "# 워크플로우 시작점에서 에이전트 노드로 연결\n",
    "workflow.add_edge(START, \"agent\")\n",
    "\n",
    "# 에이전트 노드에서 조건부 분기 설정, 도구 노드 또는 종료 지점으로 연결\n",
    "workflow.add_conditional_edges(\"agent\", tools_condition)\n",
    "\n",
    "# 도구 노드에서 에이전트 노드로 순환 연결\n",
    "workflow.add_edge(\"tools\", \"agent\")\n",
    "\n",
    "# 에이전트 노드에서 종료 지점으로 연결\n",
    "workflow.add_edge(\"agent\", END)\n",
    "\n",
    "\n",
    "# 정의된 워크플로우 그래프 컴파일 및 실행 가능한 애플리케이션 생성\n",
    "app = workflow.compile()"
   ],
   "id": "e8d0ee64b4769e61",
   "outputs": [],
   "execution_count": 10
  },
  {
   "metadata": {
    "ExecuteTime": {
     "end_time": "2025-04-24T05:35:36.780090Z",
     "start_time": "2025-04-24T05:35:32.649604Z"
    }
   },
   "cell_type": "code",
   "source": [
    "# 실행 및 결과 확인\n",
    "for chunk in app.stream(\n",
    "    {\"messages\": [(\"human\", \"처음 5개의 소수를 출력하는 python code 를 작성해줘\")]},\n",
    "    stream_mode=\"values\",\n",
    "):\n",
    "    # 마지막 메시지 출력\n",
    "    chunk[\"messages\"][-1].pretty_print()"
   ],
   "id": "9721508bae22fc2",
   "outputs": [
    {
     "name": "stdout",
     "output_type": "stream",
     "text": [
      "================================\u001B[1m Human Message \u001B[0m=================================\n",
      "\n",
      "처음 5개의 소수를 출력하는 python code 를 작성해줘\n",
      "==================================\u001B[1m Ai Message \u001B[0m==================================\n",
      "Tool Calls:\n",
      "  python_code_interpreter (call_5PPMjLLnSXqaF2dJjDsWyJXR)\n",
      " Call ID: call_5PPMjLLnSXqaF2dJjDsWyJXR\n",
      "  Args:\n",
      "    code: def first_n_primes(n):\n",
      "    primes = []\n",
      "    num = 2  # Starting from the first prime number\n",
      "    while len(primes) < n:\n",
      "        is_prime = True\n",
      "        for i in range(2, int(num**0.5) + 1):\n",
      "            if num % i == 0:\n",
      "                is_prime = False\n",
      "                break\n",
      "        if is_prime:\n",
      "            primes.append(num)\n",
      "        num += 1\n",
      "    return primes\n",
      "\n",
      "# Get the first 5 prime numbers\n",
      "first_n_primes(5)\n",
      "=================================\u001B[1m Tool Message \u001B[0m=================================\n",
      "Name: python_code_interpreter\n",
      "\n",
      "[2, 3, 5, 7, 11]\n",
      "==================================\u001B[1m Ai Message \u001B[0m==================================\n",
      "\n",
      "처음 5개의 소수는 다음과 같습니다: [2, 3, 5, 7, 11]\n"
     ]
    }
   ],
   "execution_count": 11
  },
  {
   "metadata": {
    "ExecuteTime": {
     "end_time": "2025-04-24T05:36:17.177860Z",
     "start_time": "2025-04-24T05:36:01.455604Z"
    }
   },
   "cell_type": "code",
   "source": [
    "# 검색 질문 수행\n",
    "for chunk in app.stream(\n",
    "    {\"messages\": [(\"human\", \"search google news about AI\")]},\n",
    "    stream_mode=\"values\",\n",
    "):\n",
    "    chunk[\"messages\"][-1].pretty_print()"
   ],
   "id": "f9234c38df11ccb7",
   "outputs": [
    {
     "name": "stdout",
     "output_type": "stream",
     "text": [
      "================================\u001B[1m Human Message \u001B[0m=================================\n",
      "\n",
      "search google news about AI\n",
      "==================================\u001B[1m Ai Message \u001B[0m==================================\n",
      "Tool Calls:\n",
      "  search_news (call_FOalPYTdnFDgzlRKGpaEJ8ub)\n",
      " Call ID: call_FOalPYTdnFDgzlRKGpaEJ8ub\n",
      "  Args:\n",
      "    query: AI\n",
      "=================================\u001B[1m Tool Message \u001B[0m=================================\n",
      "Name: search_news\n",
      "\n",
      "[{\"url\": \"https://news.google.com/rss/articles/CBMiakFVX3lxTE1yeVNTdUxja0Y0bjlIeDNiZ0JfRzJSVS0wTFhGY01MQnh4Vnd3a1NLRVNMQXdzY1V6NXVFZlUyeGp4NjBJSF9aWHh3Y0xqYTQ3TndSdUhfVUxjTUlYQ19qTTdfcDh2c0kyclE?oc=5\", \"content\": \"네이버클라우드, 경량 모델 3종 오픈 소스 공개...“실제 서비스 바꾸는 AI 선보일 것” - AI타임스\"}, {\"url\": \"https://news.google.com/rss/articles/CBMiVkFVX3lxTE8zYjdSRmMtbXJ4RmJXRlJPa2hWblBTS01oT1ltdGJJbzlSSzZNMlFxVG9uZVdqbEpQWWt5eXRIdWlaR2JUSzNwMk9yb0FBUVRERmdvN3VB?oc=5\", \"content\": \"부정행위 천재 대학생 둘...AI 회사 차려 75억원 잭팟 - 지디넷코리아\"}, {\"url\": \"https://news.google.com/rss/articles/CBMiW0FVX3lxTE1kaXFoV3RsZUZfQXdRR21pTWVrRURMMjZQVmNrbmVZWUhiR2JGUGJxNWZwcE0za3kyYVR5QTQtWXZ0UDBpMzA2M3F5UGR1WnNGbkh6alFIT3dJZ2_SAWBBVV95cUxQNS00UjZ3SUFYVnFmU01PYUhmWGxiMV81RlQzT0psa3BNUlE4cmFJZU91cW40Q1lrbU93R3NGSEh3WnBNeXQ2QXo3azUta0ozM2RfTTUtZUpfOFRYbGhDY2s?oc=5\", \"content\": \"미일 산학 협력 AI연구 거점, 日쓰쿠바대에 이르면 내년말 개설 - 연합뉴스\"}, {\"url\": \"https://news.google.com/rss/articles/CBMiTkFVX3lxTE5Jcmg1UW9OMFlPRUxpWHcySnppOUVZOVc2XzQzRE1uTDY3WlpSa1JPQXhTcTVadzFyWEVvbmZRZ2xQd0lZSEI0ekk2MWtmZw?oc=5\", \"content\": \"WIS 2025, AI가 이끄는 디지털 대전환의 미래 본다 - 전자신문\"}, {\"url\": \"https://news.google.com/rss/articles/CBMiYEFVX3lxTE5jMktfaV8wdzF4d0gyNDZUS2hINk43WTJNdTU3endaR1hsQUQtcjNlc0ZodThWMU9iS2FjbmtJOS0xX195a1NycDRIT3cyaW9RZVFodVMxUTdFNTlqbUNDUA?oc=5\", \"content\": \"한국 'AI 강국' 되려면…\\\"규제 패러다임부터 바꿔야\\\" - 네이트 뉴스\"}]\n",
      "==================================\u001B[1m Ai Message \u001B[0m==================================\n",
      "\n",
      "Here are some recent news articles about AI:\n",
      "\n",
      "1. **네이버클라우드, 경량 모델 3종 오픈 소스 공개...“실제 서비스 바꾸는 AI 선보일 것”** - [Read more](https://news.google.com/rss/articles/CBMiakFVX3lxTE1yeVNTdUxja0Y0bjlIeDNiZ0JfRzJSVS0wTFhGY01MQnh4Vnd3a1NLRVNMQXdzY1V6NXVFZlUyeGp4NjBJSF9aWHh3Y0xqYTQ3TndSdUhfVUxjTUlYQ19qTTdfcDh2c0kyclE?oc=5)\n",
      "\n",
      "2. **부정행위 천재 대학생 둘...AI 회사 차려 75억원 잭팟** - [Read more](https://news.google.com/rss/articles/CBMiVkFVX3lxTE8zYjdSRmMtbXJ4RmJXRlJPa2hWblBTS01oT1ltdGJJbzlSSzZNMlFxVG9uZVdqbEpQWWt5eXRIdWlaR2JUSzNwMk9yb0FBUVRERmdvN3VB?oc=5)\n",
      "\n",
      "3. **미일 산학 협력 AI연구 거점, 日쓰쿠바대에 이르면 내년말 개설** - [Read more](https://news.google.com/rss/articles/CBMiW0FVX3lxTE1kaXFoV3RsZUZfQXdRR21pTWVrRURMMjZQVmNrbmVZWUhiR2JGUGJxNWZwcE0za3kyYVR5QTQtWXZ0UDBpMzA2M3F5UGR1WnNGbkh6alFIT3dJZ2_SAWBBVV95cUxQNS00UjZ3SUFYVnFmU01PYUhmWGxiMV81RlQzT0psa3BNUlE4cmFJZU91cW40Q1lrbU93R3NGSEh3WnBNeXQ2QXo3azUta0ozM2RfTTUtZUpfOFRYbGhDY2s?oc=5)\n",
      "\n",
      "4. **WIS 2025, AI가 이끄는 디지털 대전환의 미래 본다** - [Read more](https://news.google.com/rss/articles/CBMiTkFVX3lxTE5Jcmg1UW9OMFlPRUxpWHcySnppOUVZOVc2XzQzRE1uTDY3WlpSa1JPQXhTcTVadzFyWEVvbmZRZ2xQd0lZSEI0ekk2MWtmZw?oc=5)\n",
      "\n",
      "5. **한국 'AI 강국' 되려면…\\\"규제 패러다임부터 바꿔야\\\"** - [Read more](https://news.google.com/rss/articles/CBMiYEFVX3lxTE5jMktfaV8wdzF4d0gyNDZUS2hINk43WTJNdTU3endaR1hsQUQtcjNlc0ZodThWMU9iS2FjbmtJOS0xX195a1NycDRIT3cyaW9RZVFodVMxUTdFNTlqbUNDUA?oc=5)\n",
      "\n",
      "Feel free to click on the links to read the full articles!\n"
     ]
    }
   ],
   "execution_count": 12
  },
  {
   "metadata": {
    "ExecuteTime": {
     "end_time": "2025-04-24T05:36:18.001459Z",
     "start_time": "2025-04-24T05:36:17.188868Z"
    }
   },
   "cell_type": "code",
   "source": [
    "# 도구 호출이 필요 없는 질문 수행\n",
    "for chunk in app.stream(\n",
    "    {\"messages\": [(\"human\", \"안녕? 반가워\")]},\n",
    "    stream_mode=\"values\",\n",
    "):\n",
    "    chunk[\"messages\"][-1].pretty_print()"
   ],
   "id": "f561cb060be8d78",
   "outputs": [
    {
     "name": "stdout",
     "output_type": "stream",
     "text": [
      "================================\u001B[1m Human Message \u001B[0m=================================\n",
      "\n",
      "안녕? 반가워\n",
      "==================================\u001B[1m Ai Message \u001B[0m==================================\n",
      "\n",
      "안녕하세요! 반갑습니다. 어떻게 도와드릴까요?\n"
     ]
    }
   ],
   "execution_count": 13
  }
 ],
 "metadata": {
  "kernelspec": {
   "display_name": "Python 3",
   "language": "python",
   "name": "python3"
  },
  "language_info": {
   "codemirror_mode": {
    "name": "ipython",
    "version": 2
   },
   "file_extension": ".py",
   "mimetype": "text/x-python",
   "name": "python",
   "nbconvert_exporter": "python",
   "pygments_lexer": "ipython2",
   "version": "2.7.6"
  }
 },
 "nbformat": 4,
 "nbformat_minor": 5
}
