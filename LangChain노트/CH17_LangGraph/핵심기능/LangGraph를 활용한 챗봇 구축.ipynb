{
 "cells": [
  {
   "cell_type": "code",
   "id": "initial_id",
   "metadata": {
    "collapsed": true,
    "ExecuteTime": {
     "end_time": "2025-04-23T05:20:00.504928Z",
     "start_time": "2025-04-23T05:20:00.477750Z"
    }
   },
   "source": [
    "# API 키를 환경변수로 관리하기 위한 설정 파일\n",
    "from dotenv import load_dotenv\n",
    "\n",
    "# API 키 정보 로드\n",
    "load_dotenv()\n",
    "from langchain_teddynote import logging\n",
    "\n",
    "# 프로젝트 이름을 입력합니다.\n",
    "logging.langsmith(\"CH17-LangGraph\")"
   ],
   "outputs": [
    {
     "name": "stdout",
     "output_type": "stream",
     "text": [
      "LangSmith 추적을 시작합니다.\n",
      "[프로젝트명]\n",
      "CH17-LangGraph\n"
     ]
    }
   ],
   "execution_count": 1
  },
  {
   "metadata": {},
   "cell_type": "markdown",
   "source": "# Step-by-Step 개념 이해하기!",
   "id": "800074de15d8fde6"
  },
  {
   "metadata": {},
   "cell_type": "markdown",
   "source": "## STEP 1. 상태(State) 정의",
   "id": "3146f3ee6ca2d039"
  },
  {
   "metadata": {
    "ExecuteTime": {
     "end_time": "2025-04-23T05:21:32.155452Z",
     "start_time": "2025-04-23T05:21:31.004369Z"
    }
   },
   "cell_type": "code",
   "source": [
    "from typing import Annotated, TypedDict\n",
    "from langgraph.graph import StateGraph, START, END\n",
    "from langgraph.graph.message import add_messages\n",
    "\n",
    "class State(TypedDict):\n",
    "    # 메시지 정의(list type이며 add_messages 함수를 사용하여 메시지를 추가\n",
    "    messages: Annotated[list, add_messages]"
   ],
   "id": "579af62a291368b6",
   "outputs": [],
   "execution_count": 2
  },
  {
   "metadata": {},
   "cell_type": "markdown",
   "source": "## STEP 2. 노드(Node) 정의",
   "id": "89e6c041978f71cb"
  },
  {
   "metadata": {
    "ExecuteTime": {
     "end_time": "2025-04-23T05:22:56.592078Z",
     "start_time": "2025-04-23T05:22:54.146668Z"
    }
   },
   "cell_type": "code",
   "source": [
    "from langchain_openai import ChatOpenAI\n",
    "\n",
    "llm = ChatOpenAI(model=\"gpt-4o-mini\", temperature=0)\n",
    "\n",
    "# 챗봇 함수 정의\n",
    "def chatbot(state: State):\n",
    "    # 메시지 호출 및 반환\n",
    "    return {\"messages\": [llm.invoke(state[\"messages\"])]}"
   ],
   "id": "702e2050a0887283",
   "outputs": [],
   "execution_count": 3
  },
  {
   "metadata": {},
   "cell_type": "markdown",
   "source": "## STEP 3. 그래프(Graph) 정의, 노드 추가",
   "id": "abc24227f245751e"
  },
  {
   "metadata": {
    "ExecuteTime": {
     "end_time": "2025-04-23T05:25:03.515387Z",
     "start_time": "2025-04-23T05:25:03.507826Z"
    }
   },
   "cell_type": "code",
   "source": [
    "# 그래프 생성\n",
    "graph_builder = StateGraph(State)\n",
    "\n",
    "# 노드 이름, 함수 혹은 callable 객체를 인자로 받아 노드를 추가\n",
    "graph_builder.add_node(\"chatbot\", chatbot)"
   ],
   "id": "ffa83d4c4bd1f89",
   "outputs": [
    {
     "data": {
      "text/plain": [
       "<langgraph.graph.state.StateGraph at 0x1bd7583f410>"
      ]
     },
     "execution_count": 5,
     "metadata": {},
     "output_type": "execute_result"
    }
   ],
   "execution_count": 5
  },
  {
   "metadata": {},
   "cell_type": "markdown",
   "source": "# STEP 4. 그래프 엣지(Edge) 추가",
   "id": "aa63289f31561e5d"
  },
  {
   "metadata": {
    "ExecuteTime": {
     "end_time": "2025-04-23T05:25:05.070236Z",
     "start_time": "2025-04-23T05:25:05.065363Z"
    }
   },
   "cell_type": "code",
   "source": [
    "# 시작 노드에서 챗봇 노드로의 엣지 추가\n",
    "graph_builder.add_edge(START, \"chatbot\")"
   ],
   "id": "5d296b156e002ea6",
   "outputs": [
    {
     "data": {
      "text/plain": [
       "<langgraph.graph.state.StateGraph at 0x1bd7583f410>"
      ]
     },
     "execution_count": 6,
     "metadata": {},
     "output_type": "execute_result"
    }
   ],
   "execution_count": 6
  },
  {
   "metadata": {
    "ExecuteTime": {
     "end_time": "2025-04-23T05:25:19.611306Z",
     "start_time": "2025-04-23T05:25:19.606187Z"
    }
   },
   "cell_type": "code",
   "source": [
    "# 그래프에 엣지 추가\n",
    "graph_builder.add_edge(\"chatbot\", END)"
   ],
   "id": "4664bdaa4284d5f7",
   "outputs": [
    {
     "data": {
      "text/plain": [
       "<langgraph.graph.state.StateGraph at 0x1bd7583f410>"
      ]
     },
     "execution_count": 7,
     "metadata": {},
     "output_type": "execute_result"
    }
   ],
   "execution_count": 7
  },
  {
   "metadata": {},
   "cell_type": "markdown",
   "source": "## STEP 5. 그래프 컴파일(compile)",
   "id": "f77bc68bbbe56156"
  },
  {
   "metadata": {
    "ExecuteTime": {
     "end_time": "2025-04-23T05:25:30.005931Z",
     "start_time": "2025-04-23T05:25:30.000529Z"
    }
   },
   "cell_type": "code",
   "source": [
    "# 그래프 컴파일\n",
    "graph = graph_builder.compile()"
   ],
   "id": "bae5be925abe7e8",
   "outputs": [],
   "execution_count": 8
  },
  {
   "metadata": {},
   "cell_type": "markdown",
   "source": "## STEP 6. 그래프 시각화",
   "id": "a1801643f8b699f2"
  },
  {
   "metadata": {
    "ExecuteTime": {
     "end_time": "2025-04-23T05:30:37.290830Z",
     "start_time": "2025-04-23T05:30:26.977964Z"
    }
   },
   "cell_type": "code",
   "source": [
    "# %%capture --no-stderr\n",
    "from langchain_teddynote.graphs import visualize_graph\n",
    "\n",
    "# 그래프 시각화\n",
    "visualize_graph(graph)"
   ],
   "id": "2ddd17ed49b3d91",
   "outputs": [
    {
     "name": "stdout",
     "output_type": "stream",
     "text": [
      "[ERROR] Visualize Graph Error: HTTPSConnectionPool(host='mermaid.ink', port=443): Read timed out. (read timeout=10)\n"
     ]
    }
   ],
   "execution_count": 18
  },
  {
   "metadata": {},
   "cell_type": "markdown",
   "source": "## STEP 7. 그래프 실행",
   "id": "7cdcc80e394d713a"
  },
  {
   "metadata": {
    "ExecuteTime": {
     "end_time": "2025-04-23T05:32:22.557434Z",
     "start_time": "2025-04-23T05:32:13.671779Z"
    }
   },
   "cell_type": "code",
   "source": [
    "question = \"서울의 유명한 맛집 TOP 10 추천해줘\"\n",
    "\n",
    "# 그래프 이벤트 스트리밍\n",
    "for event in graph.stream({\"messages\": [(\"user\", question)]}):\n",
    "    # 이벤트 값 출력\n",
    "    for value in event.values():\n",
    "        print(\"Assistant:\", value[\"messages\"][-1].content)"
   ],
   "id": "a8d3e49f4bc7e7d4",
   "outputs": [
    {
     "name": "stdout",
     "output_type": "stream",
     "text": [
      "Assistant: 서울에는 다양한 맛집이 많아서 선택하기가 쉽지 않지만, 다음은 서울에서 유명한 맛집 TOP 10을 추천해 드립니다.\n",
      "\n",
      "1. **광장시장** - 전통 시장으로, 빈대떡, 마약김밥, 떡볶이 등 다양한 길거리 음식을 즐길 수 있습니다.\n",
      "\n",
      "2. **이태원 부대찌개** - 부대찌개로 유명한 이태원의 맛집으로, 푸짐한 양과 깊은 맛이 특징입니다.\n",
      "\n",
      "3. **명동교자** - 칼국수와 만두가 유명한 곳으로, 항상 많은 사람들이 줄 서서 기다리는 인기 맛집입니다.\n",
      "\n",
      "4. **삼청동 수제비** - 수제비와 전통 한식을 즐길 수 있는 곳으로, 아늑한 분위기에서 식사를 할 수 있습니다.\n",
      "\n",
      "5. **한남동 고기리 막창** - 막창과 고기를 전문으로 하는 맛집으로, 신선한 재료와 맛있는 양념이 특징입니다.\n",
      "\n",
      "6. **을지로 골뱅이** - 골뱅이 무침과 소주를 함께 즐길 수 있는 곳으로, 분위기가 독특하고 맛이 뛰어납니다.\n",
      "\n",
      "7. **홍대 돈부리** - 일본식 덮밥 전문점으로, 다양한 종류의 돈부리를 맛볼 수 있습니다.\n",
      "\n",
      "8. **신사동 가로수길** - 다양한 카페와 레스토랑이 모여 있는 곳으로, 특히 브런치 맛집이 많습니다.\n",
      "\n",
      "9. **종로 통인시장** - 전통 시장으로, 다양한 한식과 간식을 즐길 수 있는 곳입니다. 특히 찐빵과 떡이 유명합니다.\n",
      "\n",
      "10. **압구정 로데오거리** - 고급 레스토랑과 카페가 많은 지역으로, 다양한 세계 요리를 맛볼 수 있습니다.\n",
      "\n",
      "이 외에도 서울에는 많은 맛집이 있으니, 방문하실 때마다 새로운 곳을 탐방해 보세요!\n"
     ]
    }
   ],
   "execution_count": 20
  }
 ],
 "metadata": {
  "kernelspec": {
   "display_name": "Python 3",
   "language": "python",
   "name": "python3"
  },
  "language_info": {
   "codemirror_mode": {
    "name": "ipython",
    "version": 2
   },
   "file_extension": ".py",
   "mimetype": "text/x-python",
   "name": "python",
   "nbconvert_exporter": "python",
   "pygments_lexer": "ipython2",
   "version": "2.7.6"
  }
 },
 "nbformat": 4,
 "nbformat_minor": 5
}
