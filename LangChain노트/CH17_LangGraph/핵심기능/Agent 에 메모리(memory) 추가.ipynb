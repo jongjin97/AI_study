{
 "cells": [
  {
   "cell_type": "code",
   "id": "initial_id",
   "metadata": {
    "collapsed": true,
    "ExecuteTime": {
     "end_time": "2025-04-23T06:06:23.993223Z",
     "start_time": "2025-04-23T06:06:23.975919Z"
    }
   },
   "source": [
    "from dotenv import load_dotenv\n",
    "\n",
    "# API 키 정보 로드\n",
    "load_dotenv()\n",
    "from langchain_teddynote import logging\n",
    "\n",
    "# 프로젝트 이름을 입력합니다.\n",
    "logging.langsmith(\"CH17-LangGraph-Modules\")"
   ],
   "outputs": [
    {
     "name": "stdout",
     "output_type": "stream",
     "text": [
      "LangSmith 추적을 시작합니다.\n",
      "[프로젝트명]\n",
      "CH17-LangGraph-Modules\n"
     ]
    }
   ],
   "execution_count": 1
  },
  {
   "metadata": {
    "ExecuteTime": {
     "end_time": "2025-04-23T06:06:32.833667Z",
     "start_time": "2025-04-23T06:06:32.077529Z"
    }
   },
   "cell_type": "code",
   "source": [
    "from langgraph.checkpoint.memory import MemorySaver\n",
    "\n",
    "# 메모리 저장소 생성\n",
    "memory = MemorySaver()"
   ],
   "id": "608389dbe0015adb",
   "outputs": [],
   "execution_count": 2
  },
  {
   "metadata": {
    "ExecuteTime": {
     "end_time": "2025-04-23T06:11:23.163734Z",
     "start_time": "2025-04-23T06:11:19.720256Z"
    }
   },
   "cell_type": "code",
   "source": [
    "from typing import Annotated\n",
    "from typing_extensions import TypedDict\n",
    "from langchain_openai import ChatOpenAI\n",
    "from langchain_teddynote.tools.tavily import TavilySearch\n",
    "from langgraph.graph import StateGraph, START, END\n",
    "from langgraph.graph.message import add_messages\n",
    "from langgraph.prebuilt import ToolNode, tools_condition\n",
    "\n",
    "# 1. 상태 정의\n",
    "class State(TypedDict):\n",
    "    # 메시지 목록 주석 추가\n",
    "    messages: Annotated[list, add_messages]\n",
    "\n",
    "# 2. 도구 정의 및 바인딩\n",
    "tool = TavilySearch(max_results=3)\n",
    "tools = [tool]\n",
    "\n",
    "llm = ChatOpenAI(model=\"gpt-4o-mini\")\n",
    "\n",
    "llm_with_tools = llm.bind_tools(tools)\n",
    "\n",
    "# 3. 노드 추가\n",
    "def chatbot(state: State):\n",
    "    return {\"messages\": llm_with_tools.invoke(state[\"messages\"])}\n",
    "\n",
    "graph_builder = StateGraph(State)\n",
    "\n",
    "graph_builder.add_node(\"chatbot\", chatbot)\n",
    "\n",
    "tool_node = ToolNode(tools=tools)\n",
    "\n",
    "graph_builder.add_node(\"tools\", tool_node)\n",
    "\n",
    "graph_builder.add_conditional_edges(\n",
    "    \"chatbot\",\n",
    "    tools_condition\n",
    ")\n",
    "\n",
    "# 4. 엣지 추가\n",
    "graph_builder.add_edge(\"tools\", \"chatbot\")\n",
    "\n",
    "graph_builder.add_edge(START, \"chatbot\")\n",
    "\n",
    "graph_builder.add_edge(\"chatbot\", END)"
   ],
   "id": "9dbd2e119e94420a",
   "outputs": [
    {
     "data": {
      "text/plain": [
       "<langgraph.graph.state.StateGraph at 0x1ecea5cbf50>"
      ]
     },
     "execution_count": 3,
     "metadata": {},
     "output_type": "execute_result"
    }
   ],
   "execution_count": 3
  },
  {
   "metadata": {
    "ExecuteTime": {
     "end_time": "2025-04-23T06:11:26.798531Z",
     "start_time": "2025-04-23T06:11:26.782928Z"
    }
   },
   "cell_type": "code",
   "source": [
    "# 그래프 빌더 컴파일\n",
    "graph = graph_builder.compile(checkpointer=memory)"
   ],
   "id": "1d33b11ceb81cdea",
   "outputs": [],
   "execution_count": 4
  },
  {
   "metadata": {
    "ExecuteTime": {
     "end_time": "2025-04-23T06:13:23.363644Z",
     "start_time": "2025-04-23T06:13:23.341485Z"
    }
   },
   "cell_type": "code",
   "source": "graph.get_graph().print_ascii()",
   "id": "c221b714fa8e6c3b",
   "outputs": [
    {
     "name": "stdout",
     "output_type": "stream",
     "text": [
      "        +-----------+         \r\n",
      "        | __start__ |         \r\n",
      "        +-----------+         \r\n",
      "               *              \r\n",
      "               *              \r\n",
      "               *              \r\n",
      "          +---------+         \r\n",
      "          | chatbot |         \r\n",
      "          +---------+         \r\n",
      "          *         .         \r\n",
      "        **           ..       \r\n",
      "       *               .      \r\n",
      "+---------+         +-------+ \r\n",
      "| __end__ |         | tools | \r\n",
      "+---------+         +-------+ \n"
     ]
    }
   ],
   "execution_count": 8
  },
  {
   "metadata": {},
   "cell_type": "markdown",
   "source": "# RunnableConfig 설정",
   "id": "90e9ffe632d96c9c"
  },
  {
   "metadata": {
    "ExecuteTime": {
     "end_time": "2025-04-23T06:12:44.507386Z",
     "start_time": "2025-04-23T06:12:44.503404Z"
    }
   },
   "cell_type": "code",
   "source": [
    "from langchain_core.runnables import RunnableConfig\n",
    "\n",
    "config = RunnableConfig(\n",
    "    recursion_limit=10,  # 최대 10개의 노드까지 방문. 그 이상은 RecursionError 발생\n",
    "    configurable={\"thread_id\": \"1\"},  # 스레드 ID 설정\n",
    ")"
   ],
   "id": "aadce75eb97d479b",
   "outputs": [],
   "execution_count": 6
  },
  {
   "metadata": {
    "ExecuteTime": {
     "end_time": "2025-04-23T06:15:37.422039Z",
     "start_time": "2025-04-23T06:15:35.981213Z"
    }
   },
   "cell_type": "code",
   "source": [
    "# 첫 질문\n",
    "question = (\n",
    "    \"내 이름은 `테디노트` 입니다. YouTube 채널을 운영하고 있어요. 만나서 반가워요\"\n",
    ")\n",
    "\n",
    "for event in graph.stream({\"messages\": [(\"user\", question)]}, config=config):\n",
    "    for value in event.values():\n",
    "        print(value[\"messages\"])\n",
    "        value[\"messages\"].pretty_print()"
   ],
   "id": "e81bd0f23516f5ec",
   "outputs": [
    {
     "name": "stdout",
     "output_type": "stream",
     "text": [
      "content='안녕하세요, 테디노트님! 만나서 반갑습니다. YouTube 채널을 운영하신다니 멋지네요! 어떤 주제의 콘텐츠를 만들고 계신가요?' additional_kwargs={'refusal': None} response_metadata={'token_usage': {'completion_tokens': 45, 'prompt_tokens': 602, 'total_tokens': 647, 'completion_tokens_details': {'accepted_prediction_tokens': 0, 'audio_tokens': 0, 'reasoning_tokens': 0, 'rejected_prediction_tokens': 0}, 'prompt_tokens_details': {'audio_tokens': 0, 'cached_tokens': 0}}, 'model_name': 'gpt-4o-mini-2024-07-18', 'system_fingerprint': 'fp_dbaca60df0', 'id': 'chatcmpl-BPNgOzUifM4EXVUmwAWcavzYyaSQm', 'finish_reason': 'stop', 'logprobs': None} id='run-4f7c35d0-10be-407e-bcca-1cf769475da1-0' usage_metadata={'input_tokens': 602, 'output_tokens': 45, 'total_tokens': 647, 'input_token_details': {'audio': 0, 'cache_read': 0}, 'output_token_details': {'audio': 0, 'reasoning': 0}}\n",
      "==================================\u001B[1m Ai Message \u001B[0m==================================\n",
      "\n",
      "안녕하세요, 테디노트님! 만나서 반갑습니다. YouTube 채널을 운영하신다니 멋지네요! 어떤 주제의 콘텐츠를 만들고 계신가요?\n"
     ]
    }
   ],
   "execution_count": 14
  },
  {
   "metadata": {
    "ExecuteTime": {
     "end_time": "2025-04-23T06:15:55.005477Z",
     "start_time": "2025-04-23T06:15:53.531120Z"
    }
   },
   "cell_type": "code",
   "source": [
    "# 이어지는 질문\n",
    "question = \"내 이름이 뭐라고 했지?\"\n",
    "\n",
    "for event in graph.stream({\"messages\": [(\"user\", question)]}, config=config):\n",
    "    for value in event.values():\n",
    "        value[\"messages\"].pretty_print()"
   ],
   "id": "e74884eb5db8d2dd",
   "outputs": [
    {
     "name": "stdout",
     "output_type": "stream",
     "text": [
      "==================================\u001B[1m Ai Message \u001B[0m==================================\n",
      "\n",
      "당신의 이름은 \"테디노트\"입니다!\n"
     ]
    }
   ],
   "execution_count": 16
  },
  {
   "metadata": {
    "ExecuteTime": {
     "end_time": "2025-04-23T06:16:11.176941Z",
     "start_time": "2025-04-23T06:16:10.066740Z"
    }
   },
   "cell_type": "code",
   "source": [
    "from langchain_core.runnables import RunnableConfig\n",
    "\n",
    "question = \"내 이름이 뭐라고 했지?\"\n",
    "\n",
    "config = RunnableConfig(\n",
    "    recursion_limit=10,  # 최대 10개의 노드까지 방문. 그 이상은 RecursionError 발생\n",
    "    configurable={\"thread_id\": \"2\"},  # 스레드 ID 설정\n",
    ")\n",
    "\n",
    "for event in graph.stream({\"messages\": [(\"user\", question)]}, config=config):\n",
    "    for value in event.values():\n",
    "        value[\"messages\"].pretty_print()"
   ],
   "id": "d68c4338df2404e0",
   "outputs": [
    {
     "name": "stdout",
     "output_type": "stream",
     "text": [
      "==================================\u001B[1m Ai Message \u001B[0m==================================\n",
      "\n",
      "당신의 이름을 알 수 없어요. 이름을 말씀해 주시면 기억해 둘 수 있습니다.\n"
     ]
    }
   ],
   "execution_count": 17
  },
  {
   "metadata": {},
   "cell_type": "markdown",
   "source": "# 스냅샷: 저장된 State 확인",
   "id": "a9392f1023b6ca2"
  },
  {
   "metadata": {
    "ExecuteTime": {
     "end_time": "2025-04-23T06:16:25.265251Z",
     "start_time": "2025-04-23T06:16:25.257371Z"
    }
   },
   "cell_type": "code",
   "source": [
    "from langchain_core.runnables import RunnableConfig\n",
    "\n",
    "config = RunnableConfig(\n",
    "    configurable={\"thread_id\": \"1\"},  # 스레드 ID 설정\n",
    ")\n",
    "# 그래프 상태 스냅샷 생성\n",
    "snapshot = graph.get_state(config)\n",
    "snapshot.values[\"messages\"]"
   ],
   "id": "51184ae3e90047bf",
   "outputs": [
    {
     "data": {
      "text/plain": [
       "[HumanMessage(content='내 이름은 `테디노트` 입니다. YouTube 채널을 운영하고 있어요. 만나서 반가워요', additional_kwargs={}, response_metadata={}, id='1b32d5d9-80c0-4826-bcff-8482ac4998b4'),\n",
       " AIMessage(content='안녕하세요, 테디노트님! 만나서 반갑습니다. YouTube 채널을 운영하고 계신다니 흥미롭네요! 어떤 콘텐츠를 주로 다루고 계신가요?', additional_kwargs={'refusal': None}, response_metadata={'token_usage': {'completion_tokens': 47, 'prompt_tokens': 118, 'total_tokens': 165, 'completion_tokens_details': {'accepted_prediction_tokens': 0, 'audio_tokens': 0, 'reasoning_tokens': 0, 'rejected_prediction_tokens': 0}, 'prompt_tokens_details': {'audio_tokens': 0, 'cached_tokens': 0}}, 'model_name': 'gpt-4o-mini-2024-07-18', 'system_fingerprint': 'fp_dbaca60df0', 'id': 'chatcmpl-BPNdmlZ9nOcoZonZpGSi0jv9Vk5hV', 'finish_reason': 'stop', 'logprobs': None}, id='run-05ef8f28-1193-4a3b-ac1a-0cf61c08a1be-0', usage_metadata={'input_tokens': 118, 'output_tokens': 47, 'total_tokens': 165, 'input_token_details': {'audio': 0, 'cache_read': 0}, 'output_token_details': {'audio': 0, 'reasoning': 0}}),\n",
       " HumanMessage(content='내 이름은 `테디노트` 입니다. YouTube 채널을 운영하고 있어요. 만나서 반가워요', additional_kwargs={}, response_metadata={}, id='e42b49d5-0e41-4929-a164-b01b532bad6b'),\n",
       " AIMessage(content='안녕하세요, 테디노트님! 만나서 반갑습니다. YouTube 채널을 운영하고 계신다니 멋지네요! 어떤 종류의 콘텐츠를 주로 제작하고 계신가요?', additional_kwargs={'refusal': None}, response_metadata={'token_usage': {'completion_tokens': 47, 'prompt_tokens': 198, 'total_tokens': 245, 'completion_tokens_details': {'accepted_prediction_tokens': 0, 'audio_tokens': 0, 'reasoning_tokens': 0, 'rejected_prediction_tokens': 0}, 'prompt_tokens_details': {'audio_tokens': 0, 'cached_tokens': 0}}, 'model_name': 'gpt-4o-mini-2024-07-18', 'system_fingerprint': 'fp_dbaca60df0', 'id': 'chatcmpl-BPNenO63YmGAbJnrt6YNjsVzHWxlJ', 'finish_reason': 'stop', 'logprobs': None}, id='run-d52ce321-176f-45a7-847b-a2aa83d8a929-0', usage_metadata={'input_tokens': 198, 'output_tokens': 47, 'total_tokens': 245, 'input_token_details': {'audio': 0, 'cache_read': 0}, 'output_token_details': {'audio': 0, 'reasoning': 0}}),\n",
       " HumanMessage(content='내 이름은 `테디노트` 입니다. YouTube 채널을 운영하고 있어요. 만나서 반가워요', additional_kwargs={}, response_metadata={}, id='53aae427-88b0-493d-a323-1088d03e52a7'),\n",
       " AIMessage(content='안녕하세요, 테디노트님! 만나서 반갑습니다. YouTube 채널을 운영하고 계신다니 정말 멋지네요! 어떤 주제로 채널을 운영하고 계신가요?', additional_kwargs={'refusal': None}, response_metadata={'token_usage': {'completion_tokens': 47, 'prompt_tokens': 278, 'total_tokens': 325, 'completion_tokens_details': {'accepted_prediction_tokens': 0, 'audio_tokens': 0, 'reasoning_tokens': 0, 'rejected_prediction_tokens': 0}, 'prompt_tokens_details': {'audio_tokens': 0, 'cached_tokens': 0}}, 'model_name': 'gpt-4o-mini-2024-07-18', 'system_fingerprint': 'fp_dbaca60df0', 'id': 'chatcmpl-BPNexxH0mwMANdtI1pr2sA9Pm6Q1F', 'finish_reason': 'stop', 'logprobs': None}, id='run-4a690e94-7dcc-427f-92b8-d7baf769a204-0', usage_metadata={'input_tokens': 278, 'output_tokens': 47, 'total_tokens': 325, 'input_token_details': {'audio': 0, 'cache_read': 0}, 'output_token_details': {'audio': 0, 'reasoning': 0}}),\n",
       " HumanMessage(content='내 이름은 `테디노트` 입니다. YouTube 채널을 운영하고 있어요. 만나서 반가워요', additional_kwargs={}, response_metadata={}, id='34e29d5c-4b08-4310-96df-86f049e616ba'),\n",
       " AIMessage(content='안녕하세요, 테디노트님! 만나서 정말 반갑습니다. YouTube 채널을 운영하신다니 멋지네요! 어떤 콘텐츠를 주로 만드는지 궁금해요.', additional_kwargs={'refusal': None}, response_metadata={'token_usage': {'completion_tokens': 45, 'prompt_tokens': 358, 'total_tokens': 403, 'completion_tokens_details': {'accepted_prediction_tokens': 0, 'audio_tokens': 0, 'reasoning_tokens': 0, 'rejected_prediction_tokens': 0}, 'prompt_tokens_details': {'audio_tokens': 0, 'cached_tokens': 0}}, 'model_name': 'gpt-4o-mini-2024-07-18', 'system_fingerprint': 'fp_dbaca60df0', 'id': 'chatcmpl-BPNfw5Ht4mQRdr6CsNgGXjClcY9zj', 'finish_reason': 'stop', 'logprobs': None}, id='run-f192ec44-1689-4e95-8b91-b049b6ed322d-0', usage_metadata={'input_tokens': 358, 'output_tokens': 45, 'total_tokens': 403, 'input_token_details': {'audio': 0, 'cache_read': 0}, 'output_token_details': {'audio': 0, 'reasoning': 0}}),\n",
       " HumanMessage(content='내 이름은 `테디노트` 입니다. YouTube 채널을 운영하고 있어요. 만나서 반가워요', additional_kwargs={}, response_metadata={}, id='49227ce3-8882-4902-a9d4-8685b274332e'),\n",
       " AIMessage(content='안녕하세요, 테디노트님! 만나서 반갑습니다. YouTube 채널을 운영하신다니 정말 흥미롭네요! 어떤 주제나 콘텐츠를 다루고 계신지 궁금합니다.', additional_kwargs={'refusal': None}, response_metadata={'token_usage': {'completion_tokens': 50, 'prompt_tokens': 436, 'total_tokens': 486, 'completion_tokens_details': {'accepted_prediction_tokens': 0, 'audio_tokens': 0, 'reasoning_tokens': 0, 'rejected_prediction_tokens': 0}, 'prompt_tokens_details': {'audio_tokens': 0, 'cached_tokens': 0}}, 'model_name': 'gpt-4o-mini-2024-07-18', 'system_fingerprint': 'fp_dbaca60df0', 'id': 'chatcmpl-BPNg8tf6jkP4CPcmk5Dr5bDD05lST', 'finish_reason': 'stop', 'logprobs': None}, id='run-13ebd2a2-0736-4158-a2b7-215247707d66-0', usage_metadata={'input_tokens': 436, 'output_tokens': 50, 'total_tokens': 486, 'input_token_details': {'audio': 0, 'cache_read': 0}, 'output_token_details': {'audio': 0, 'reasoning': 0}}),\n",
       " HumanMessage(content='내 이름은 `테디노트` 입니다. YouTube 채널을 운영하고 있어요. 만나서 반가워요', additional_kwargs={}, response_metadata={}, id='d38f49d4-7c5f-43af-9522-cef4a3b85beb'),\n",
       " AIMessage(content='안녕하세요, 테디노트님! 만나서 반갑습니다. YouTube 채널을 운영하고 계신다니 정말 멋지네요! 어떤 종류의 콘텐츠를 다루고 계신지 궁금해요.', additional_kwargs={'refusal': None}, response_metadata={'token_usage': {'completion_tokens': 50, 'prompt_tokens': 519, 'total_tokens': 569, 'completion_tokens_details': {'accepted_prediction_tokens': 0, 'audio_tokens': 0, 'reasoning_tokens': 0, 'rejected_prediction_tokens': 0}, 'prompt_tokens_details': {'audio_tokens': 0, 'cached_tokens': 0}}, 'model_name': 'gpt-4o-mini-2024-07-18', 'system_fingerprint': 'fp_dbaca60df0', 'id': 'chatcmpl-BPNgED1MHWohclttJP4KOe7fKOuMc', 'finish_reason': 'stop', 'logprobs': None}, id='run-e721a9f6-3501-4db3-b695-0e4d4ee56690-0', usage_metadata={'input_tokens': 519, 'output_tokens': 50, 'total_tokens': 569, 'input_token_details': {'audio': 0, 'cache_read': 0}, 'output_token_details': {'audio': 0, 'reasoning': 0}}),\n",
       " HumanMessage(content='내 이름은 `테디노트` 입니다. YouTube 채널을 운영하고 있어요. 만나서 반가워요', additional_kwargs={}, response_metadata={}, id='9d2744d8-8a8a-4670-a13f-38261d543b77'),\n",
       " AIMessage(content='안녕하세요, 테디노트님! 만나서 반갑습니다. YouTube 채널을 운영하신다니 멋지네요! 어떤 주제의 콘텐츠를 만들고 계신가요?', additional_kwargs={'refusal': None}, response_metadata={'token_usage': {'completion_tokens': 45, 'prompt_tokens': 602, 'total_tokens': 647, 'completion_tokens_details': {'accepted_prediction_tokens': 0, 'audio_tokens': 0, 'reasoning_tokens': 0, 'rejected_prediction_tokens': 0}, 'prompt_tokens_details': {'audio_tokens': 0, 'cached_tokens': 0}}, 'model_name': 'gpt-4o-mini-2024-07-18', 'system_fingerprint': 'fp_dbaca60df0', 'id': 'chatcmpl-BPNgOzUifM4EXVUmwAWcavzYyaSQm', 'finish_reason': 'stop', 'logprobs': None}, id='run-4f7c35d0-10be-407e-bcca-1cf769475da1-0', usage_metadata={'input_tokens': 602, 'output_tokens': 45, 'total_tokens': 647, 'input_token_details': {'audio': 0, 'cache_read': 0}, 'output_token_details': {'audio': 0, 'reasoning': 0}}),\n",
       " HumanMessage(content='내 이름이 뭐라고 했지?', additional_kwargs={}, response_metadata={}, id='d7b5798c-7aca-473f-801c-9184d944a22a'),\n",
       " AIMessage(content='당신의 이름은 \"테디노트\"입니다!', additional_kwargs={'refusal': None}, response_metadata={'token_usage': {'completion_tokens': 15, 'prompt_tokens': 661, 'total_tokens': 676, 'completion_tokens_details': {'accepted_prediction_tokens': 0, 'audio_tokens': 0, 'reasoning_tokens': 0, 'rejected_prediction_tokens': 0}, 'prompt_tokens_details': {'audio_tokens': 0, 'cached_tokens': 0}}, 'model_name': 'gpt-4o-mini-2024-07-18', 'system_fingerprint': 'fp_dbaca60df0', 'id': 'chatcmpl-BPNgZQapXc4Twu7g5v33hoM72Qw3d', 'finish_reason': 'stop', 'logprobs': None}, id='run-84cd9925-f22c-4e4f-8b9e-407f1e17b5b6-0', usage_metadata={'input_tokens': 661, 'output_tokens': 15, 'total_tokens': 676, 'input_token_details': {'audio': 0, 'cache_read': 0}, 'output_token_details': {'audio': 0, 'reasoning': 0}}),\n",
       " HumanMessage(content='내 이름이 뭐라고 했지?', additional_kwargs={}, response_metadata={}, id='e8ef020b-dbaf-4ddb-822b-750295a8da12'),\n",
       " AIMessage(content='당신의 이름은 \"테디노트\"입니다!', additional_kwargs={'refusal': None}, response_metadata={'token_usage': {'completion_tokens': 15, 'prompt_tokens': 690, 'total_tokens': 705, 'completion_tokens_details': {'accepted_prediction_tokens': 0, 'audio_tokens': 0, 'reasoning_tokens': 0, 'rejected_prediction_tokens': 0}, 'prompt_tokens_details': {'audio_tokens': 0, 'cached_tokens': 0}}, 'model_name': 'gpt-4o-mini-2024-07-18', 'system_fingerprint': 'fp_dbaca60df0', 'id': 'chatcmpl-BPNgf9xWNajLDnVO6tnMWW5n5jCQP', 'finish_reason': 'stop', 'logprobs': None}, id='run-0cfeec95-9540-43c6-8adc-e3cebf0548dc-0', usage_metadata={'input_tokens': 690, 'output_tokens': 15, 'total_tokens': 705, 'input_token_details': {'audio': 0, 'cache_read': 0}, 'output_token_details': {'audio': 0, 'reasoning': 0}})]"
      ]
     },
     "execution_count": 18,
     "metadata": {},
     "output_type": "execute_result"
    }
   ],
   "execution_count": 18
  },
  {
   "metadata": {
    "ExecuteTime": {
     "end_time": "2025-04-23T06:16:36.193556Z",
     "start_time": "2025-04-23T06:16:36.188153Z"
    }
   },
   "cell_type": "code",
   "source": [
    "# 설정된 config 정보\n",
    "snapshot.config"
   ],
   "id": "3fd4d3452b729528",
   "outputs": [
    {
     "data": {
      "text/plain": [
       "{'configurable': {'thread_id': '1',\n",
       "  'checkpoint_ns': '',\n",
       "  'checkpoint_id': '1f0200a6-a152-6dee-8019-3d8f94658624'}}"
      ]
     },
     "execution_count": 19,
     "metadata": {},
     "output_type": "execute_result"
    }
   ],
   "execution_count": 19
  },
  {
   "metadata": {
    "ExecuteTime": {
     "end_time": "2025-04-23T06:16:43.404343Z",
     "start_time": "2025-04-23T06:16:43.399042Z"
    }
   },
   "cell_type": "code",
   "source": [
    "# 저장된 값(values)\n",
    "snapshot.values"
   ],
   "id": "ab787b77ae49f8d5",
   "outputs": [
    {
     "data": {
      "text/plain": [
       "{'messages': [HumanMessage(content='내 이름은 `테디노트` 입니다. YouTube 채널을 운영하고 있어요. 만나서 반가워요', additional_kwargs={}, response_metadata={}, id='1b32d5d9-80c0-4826-bcff-8482ac4998b4'),\n",
       "  AIMessage(content='안녕하세요, 테디노트님! 만나서 반갑습니다. YouTube 채널을 운영하고 계신다니 흥미롭네요! 어떤 콘텐츠를 주로 다루고 계신가요?', additional_kwargs={'refusal': None}, response_metadata={'token_usage': {'completion_tokens': 47, 'prompt_tokens': 118, 'total_tokens': 165, 'completion_tokens_details': {'accepted_prediction_tokens': 0, 'audio_tokens': 0, 'reasoning_tokens': 0, 'rejected_prediction_tokens': 0}, 'prompt_tokens_details': {'audio_tokens': 0, 'cached_tokens': 0}}, 'model_name': 'gpt-4o-mini-2024-07-18', 'system_fingerprint': 'fp_dbaca60df0', 'id': 'chatcmpl-BPNdmlZ9nOcoZonZpGSi0jv9Vk5hV', 'finish_reason': 'stop', 'logprobs': None}, id='run-05ef8f28-1193-4a3b-ac1a-0cf61c08a1be-0', usage_metadata={'input_tokens': 118, 'output_tokens': 47, 'total_tokens': 165, 'input_token_details': {'audio': 0, 'cache_read': 0}, 'output_token_details': {'audio': 0, 'reasoning': 0}}),\n",
       "  HumanMessage(content='내 이름은 `테디노트` 입니다. YouTube 채널을 운영하고 있어요. 만나서 반가워요', additional_kwargs={}, response_metadata={}, id='e42b49d5-0e41-4929-a164-b01b532bad6b'),\n",
       "  AIMessage(content='안녕하세요, 테디노트님! 만나서 반갑습니다. YouTube 채널을 운영하고 계신다니 멋지네요! 어떤 종류의 콘텐츠를 주로 제작하고 계신가요?', additional_kwargs={'refusal': None}, response_metadata={'token_usage': {'completion_tokens': 47, 'prompt_tokens': 198, 'total_tokens': 245, 'completion_tokens_details': {'accepted_prediction_tokens': 0, 'audio_tokens': 0, 'reasoning_tokens': 0, 'rejected_prediction_tokens': 0}, 'prompt_tokens_details': {'audio_tokens': 0, 'cached_tokens': 0}}, 'model_name': 'gpt-4o-mini-2024-07-18', 'system_fingerprint': 'fp_dbaca60df0', 'id': 'chatcmpl-BPNenO63YmGAbJnrt6YNjsVzHWxlJ', 'finish_reason': 'stop', 'logprobs': None}, id='run-d52ce321-176f-45a7-847b-a2aa83d8a929-0', usage_metadata={'input_tokens': 198, 'output_tokens': 47, 'total_tokens': 245, 'input_token_details': {'audio': 0, 'cache_read': 0}, 'output_token_details': {'audio': 0, 'reasoning': 0}}),\n",
       "  HumanMessage(content='내 이름은 `테디노트` 입니다. YouTube 채널을 운영하고 있어요. 만나서 반가워요', additional_kwargs={}, response_metadata={}, id='53aae427-88b0-493d-a323-1088d03e52a7'),\n",
       "  AIMessage(content='안녕하세요, 테디노트님! 만나서 반갑습니다. YouTube 채널을 운영하고 계신다니 정말 멋지네요! 어떤 주제로 채널을 운영하고 계신가요?', additional_kwargs={'refusal': None}, response_metadata={'token_usage': {'completion_tokens': 47, 'prompt_tokens': 278, 'total_tokens': 325, 'completion_tokens_details': {'accepted_prediction_tokens': 0, 'audio_tokens': 0, 'reasoning_tokens': 0, 'rejected_prediction_tokens': 0}, 'prompt_tokens_details': {'audio_tokens': 0, 'cached_tokens': 0}}, 'model_name': 'gpt-4o-mini-2024-07-18', 'system_fingerprint': 'fp_dbaca60df0', 'id': 'chatcmpl-BPNexxH0mwMANdtI1pr2sA9Pm6Q1F', 'finish_reason': 'stop', 'logprobs': None}, id='run-4a690e94-7dcc-427f-92b8-d7baf769a204-0', usage_metadata={'input_tokens': 278, 'output_tokens': 47, 'total_tokens': 325, 'input_token_details': {'audio': 0, 'cache_read': 0}, 'output_token_details': {'audio': 0, 'reasoning': 0}}),\n",
       "  HumanMessage(content='내 이름은 `테디노트` 입니다. YouTube 채널을 운영하고 있어요. 만나서 반가워요', additional_kwargs={}, response_metadata={}, id='34e29d5c-4b08-4310-96df-86f049e616ba'),\n",
       "  AIMessage(content='안녕하세요, 테디노트님! 만나서 정말 반갑습니다. YouTube 채널을 운영하신다니 멋지네요! 어떤 콘텐츠를 주로 만드는지 궁금해요.', additional_kwargs={'refusal': None}, response_metadata={'token_usage': {'completion_tokens': 45, 'prompt_tokens': 358, 'total_tokens': 403, 'completion_tokens_details': {'accepted_prediction_tokens': 0, 'audio_tokens': 0, 'reasoning_tokens': 0, 'rejected_prediction_tokens': 0}, 'prompt_tokens_details': {'audio_tokens': 0, 'cached_tokens': 0}}, 'model_name': 'gpt-4o-mini-2024-07-18', 'system_fingerprint': 'fp_dbaca60df0', 'id': 'chatcmpl-BPNfw5Ht4mQRdr6CsNgGXjClcY9zj', 'finish_reason': 'stop', 'logprobs': None}, id='run-f192ec44-1689-4e95-8b91-b049b6ed322d-0', usage_metadata={'input_tokens': 358, 'output_tokens': 45, 'total_tokens': 403, 'input_token_details': {'audio': 0, 'cache_read': 0}, 'output_token_details': {'audio': 0, 'reasoning': 0}}),\n",
       "  HumanMessage(content='내 이름은 `테디노트` 입니다. YouTube 채널을 운영하고 있어요. 만나서 반가워요', additional_kwargs={}, response_metadata={}, id='49227ce3-8882-4902-a9d4-8685b274332e'),\n",
       "  AIMessage(content='안녕하세요, 테디노트님! 만나서 반갑습니다. YouTube 채널을 운영하신다니 정말 흥미롭네요! 어떤 주제나 콘텐츠를 다루고 계신지 궁금합니다.', additional_kwargs={'refusal': None}, response_metadata={'token_usage': {'completion_tokens': 50, 'prompt_tokens': 436, 'total_tokens': 486, 'completion_tokens_details': {'accepted_prediction_tokens': 0, 'audio_tokens': 0, 'reasoning_tokens': 0, 'rejected_prediction_tokens': 0}, 'prompt_tokens_details': {'audio_tokens': 0, 'cached_tokens': 0}}, 'model_name': 'gpt-4o-mini-2024-07-18', 'system_fingerprint': 'fp_dbaca60df0', 'id': 'chatcmpl-BPNg8tf6jkP4CPcmk5Dr5bDD05lST', 'finish_reason': 'stop', 'logprobs': None}, id='run-13ebd2a2-0736-4158-a2b7-215247707d66-0', usage_metadata={'input_tokens': 436, 'output_tokens': 50, 'total_tokens': 486, 'input_token_details': {'audio': 0, 'cache_read': 0}, 'output_token_details': {'audio': 0, 'reasoning': 0}}),\n",
       "  HumanMessage(content='내 이름은 `테디노트` 입니다. YouTube 채널을 운영하고 있어요. 만나서 반가워요', additional_kwargs={}, response_metadata={}, id='d38f49d4-7c5f-43af-9522-cef4a3b85beb'),\n",
       "  AIMessage(content='안녕하세요, 테디노트님! 만나서 반갑습니다. YouTube 채널을 운영하고 계신다니 정말 멋지네요! 어떤 종류의 콘텐츠를 다루고 계신지 궁금해요.', additional_kwargs={'refusal': None}, response_metadata={'token_usage': {'completion_tokens': 50, 'prompt_tokens': 519, 'total_tokens': 569, 'completion_tokens_details': {'accepted_prediction_tokens': 0, 'audio_tokens': 0, 'reasoning_tokens': 0, 'rejected_prediction_tokens': 0}, 'prompt_tokens_details': {'audio_tokens': 0, 'cached_tokens': 0}}, 'model_name': 'gpt-4o-mini-2024-07-18', 'system_fingerprint': 'fp_dbaca60df0', 'id': 'chatcmpl-BPNgED1MHWohclttJP4KOe7fKOuMc', 'finish_reason': 'stop', 'logprobs': None}, id='run-e721a9f6-3501-4db3-b695-0e4d4ee56690-0', usage_metadata={'input_tokens': 519, 'output_tokens': 50, 'total_tokens': 569, 'input_token_details': {'audio': 0, 'cache_read': 0}, 'output_token_details': {'audio': 0, 'reasoning': 0}}),\n",
       "  HumanMessage(content='내 이름은 `테디노트` 입니다. YouTube 채널을 운영하고 있어요. 만나서 반가워요', additional_kwargs={}, response_metadata={}, id='9d2744d8-8a8a-4670-a13f-38261d543b77'),\n",
       "  AIMessage(content='안녕하세요, 테디노트님! 만나서 반갑습니다. YouTube 채널을 운영하신다니 멋지네요! 어떤 주제의 콘텐츠를 만들고 계신가요?', additional_kwargs={'refusal': None}, response_metadata={'token_usage': {'completion_tokens': 45, 'prompt_tokens': 602, 'total_tokens': 647, 'completion_tokens_details': {'accepted_prediction_tokens': 0, 'audio_tokens': 0, 'reasoning_tokens': 0, 'rejected_prediction_tokens': 0}, 'prompt_tokens_details': {'audio_tokens': 0, 'cached_tokens': 0}}, 'model_name': 'gpt-4o-mini-2024-07-18', 'system_fingerprint': 'fp_dbaca60df0', 'id': 'chatcmpl-BPNgOzUifM4EXVUmwAWcavzYyaSQm', 'finish_reason': 'stop', 'logprobs': None}, id='run-4f7c35d0-10be-407e-bcca-1cf769475da1-0', usage_metadata={'input_tokens': 602, 'output_tokens': 45, 'total_tokens': 647, 'input_token_details': {'audio': 0, 'cache_read': 0}, 'output_token_details': {'audio': 0, 'reasoning': 0}}),\n",
       "  HumanMessage(content='내 이름이 뭐라고 했지?', additional_kwargs={}, response_metadata={}, id='d7b5798c-7aca-473f-801c-9184d944a22a'),\n",
       "  AIMessage(content='당신의 이름은 \"테디노트\"입니다!', additional_kwargs={'refusal': None}, response_metadata={'token_usage': {'completion_tokens': 15, 'prompt_tokens': 661, 'total_tokens': 676, 'completion_tokens_details': {'accepted_prediction_tokens': 0, 'audio_tokens': 0, 'reasoning_tokens': 0, 'rejected_prediction_tokens': 0}, 'prompt_tokens_details': {'audio_tokens': 0, 'cached_tokens': 0}}, 'model_name': 'gpt-4o-mini-2024-07-18', 'system_fingerprint': 'fp_dbaca60df0', 'id': 'chatcmpl-BPNgZQapXc4Twu7g5v33hoM72Qw3d', 'finish_reason': 'stop', 'logprobs': None}, id='run-84cd9925-f22c-4e4f-8b9e-407f1e17b5b6-0', usage_metadata={'input_tokens': 661, 'output_tokens': 15, 'total_tokens': 676, 'input_token_details': {'audio': 0, 'cache_read': 0}, 'output_token_details': {'audio': 0, 'reasoning': 0}}),\n",
       "  HumanMessage(content='내 이름이 뭐라고 했지?', additional_kwargs={}, response_metadata={}, id='e8ef020b-dbaf-4ddb-822b-750295a8da12'),\n",
       "  AIMessage(content='당신의 이름은 \"테디노트\"입니다!', additional_kwargs={'refusal': None}, response_metadata={'token_usage': {'completion_tokens': 15, 'prompt_tokens': 690, 'total_tokens': 705, 'completion_tokens_details': {'accepted_prediction_tokens': 0, 'audio_tokens': 0, 'reasoning_tokens': 0, 'rejected_prediction_tokens': 0}, 'prompt_tokens_details': {'audio_tokens': 0, 'cached_tokens': 0}}, 'model_name': 'gpt-4o-mini-2024-07-18', 'system_fingerprint': 'fp_dbaca60df0', 'id': 'chatcmpl-BPNgf9xWNajLDnVO6tnMWW5n5jCQP', 'finish_reason': 'stop', 'logprobs': None}, id='run-0cfeec95-9540-43c6-8adc-e3cebf0548dc-0', usage_metadata={'input_tokens': 690, 'output_tokens': 15, 'total_tokens': 705, 'input_token_details': {'audio': 0, 'cache_read': 0}, 'output_token_details': {'audio': 0, 'reasoning': 0}})]}"
      ]
     },
     "execution_count": 20,
     "metadata": {},
     "output_type": "execute_result"
    }
   ],
   "execution_count": 20
  },
  {
   "metadata": {
    "ExecuteTime": {
     "end_time": "2025-04-23T06:16:50.096996Z",
     "start_time": "2025-04-23T06:16:50.092041Z"
    }
   },
   "cell_type": "code",
   "source": [
    "# 다음 노드\n",
    "snapshot.next"
   ],
   "id": "f183ebb385912787",
   "outputs": [
    {
     "data": {
      "text/plain": [
       "()"
      ]
     },
     "execution_count": 21,
     "metadata": {},
     "output_type": "execute_result"
    }
   ],
   "execution_count": 21
  },
  {
   "metadata": {
    "ExecuteTime": {
     "end_time": "2025-04-23T06:17:02.432388Z",
     "start_time": "2025-04-23T06:17:02.425684Z"
    }
   },
   "cell_type": "code",
   "source": "snapshot.metadata[\"writes\"][\"chatbot\"][\"messages\"]",
   "id": "41b79ed7a2dc84a4",
   "outputs": [
    {
     "data": {
      "text/plain": [
       "AIMessage(content='당신의 이름은 \"테디노트\"입니다!', additional_kwargs={'refusal': None}, response_metadata={'token_usage': {'completion_tokens': 15, 'prompt_tokens': 690, 'total_tokens': 705, 'completion_tokens_details': {'accepted_prediction_tokens': 0, 'audio_tokens': 0, 'reasoning_tokens': 0, 'rejected_prediction_tokens': 0}, 'prompt_tokens_details': {'audio_tokens': 0, 'cached_tokens': 0}}, 'model_name': 'gpt-4o-mini-2024-07-18', 'system_fingerprint': 'fp_dbaca60df0', 'id': 'chatcmpl-BPNgf9xWNajLDnVO6tnMWW5n5jCQP', 'finish_reason': 'stop', 'logprobs': None}, id='run-0cfeec95-9540-43c6-8adc-e3cebf0548dc-0', usage_metadata={'input_tokens': 690, 'output_tokens': 15, 'total_tokens': 705, 'input_token_details': {'audio': 0, 'cache_read': 0}, 'output_token_details': {'audio': 0, 'reasoning': 0}})"
      ]
     },
     "execution_count": 23,
     "metadata": {},
     "output_type": "execute_result"
    }
   ],
   "execution_count": 23
  },
  {
   "metadata": {
    "ExecuteTime": {
     "end_time": "2025-04-23T06:17:10.797195Z",
     "start_time": "2025-04-23T06:17:10.103824Z"
    }
   },
   "cell_type": "code",
   "source": [
    "from langchain_teddynote.messages import display_message_tree\n",
    "\n",
    "# 메타데이터(tree 형태로 출력)\n",
    "display_message_tree(snapshot.metadata)"
   ],
   "id": "367946dc9eb39f2e",
   "outputs": [
    {
     "name": "stdout",
     "output_type": "stream",
     "text": [
      "    \u001B[93msource\u001B[0m: \"loop\"\n",
      "    \u001B[93mwrites\u001B[0m:\n",
      "        \u001B[94mchatbot\u001B[0m:\n",
      "            \u001B[95mmessages\u001B[0m:\n",
      "                \u001B[92mcontent\u001B[0m: \"당신의 이름은 \"테디노트\"입니다!\"\n",
      "                \u001B[92madditional_kwargs\u001B[0m: {\"refusal\": None}\n",
      "                \u001B[92mresponse_metadata\u001B[0m:\n",
      "                    \u001B[96mtoken_usage\u001B[0m:\n",
      "                        \u001B[96mcompletion_tokens\u001B[0m: 15\n",
      "                        \u001B[96mprompt_tokens\u001B[0m: 690\n",
      "                        \u001B[96mtotal_tokens\u001B[0m: 705\n",
      "                        \u001B[96mcompletion_tokens_details\u001B[0m: {\"accepted_prediction_tokens\": 0, \"audio_tokens\": 0, \"reasoning_tokens\": 0, \"rejected_prediction_tokens\": 0}\n",
      "                        \u001B[96mprompt_tokens_details\u001B[0m: {\"audio_tokens\": 0, \"cached_tokens\": 0}\n",
      "                    \u001B[96mmodel_name\u001B[0m: \"gpt-4o-mini-2024-07-18\"\n",
      "                    \u001B[96msystem_fingerprint\u001B[0m: \"fp_dbaca60df0\"\n",
      "                    \u001B[96mid\u001B[0m: \"chatcmpl-BPNgf9xWNajLDnVO6tnMWW5n5jCQP\"\n",
      "                    \u001B[96mfinish_reason\u001B[0m: \"stop\"\n",
      "                    \u001B[96mlogprobs\u001B[0m: None\n",
      "                \u001B[92mtype\u001B[0m: \"ai\"\n",
      "                \u001B[92mname\u001B[0m: None\n",
      "                \u001B[92mid\u001B[0m: \"run-0cfeec95-9540-43c6-8adc-e3cebf0548dc-0\"\n",
      "                \u001B[92mexample\u001B[0m: False\n",
      "                \u001B[92mtool_calls\u001B[0m:\n",
      "                \u001B[92minvalid_tool_calls\u001B[0m:\n",
      "                \u001B[92musage_metadata\u001B[0m:\n",
      "                    \u001B[96minput_tokens\u001B[0m: 690\n",
      "                    \u001B[96moutput_tokens\u001B[0m: 15\n",
      "                    \u001B[96mtotal_tokens\u001B[0m: 705\n",
      "                    \u001B[96minput_token_details\u001B[0m: {\"audio\": 0, \"cache_read\": 0}\n",
      "                    \u001B[96moutput_token_details\u001B[0m: {\"audio\": 0, \"reasoning\": 0}\n",
      "    \u001B[93mthread_id\u001B[0m: \"1\"\n",
      "    \u001B[93mstep\u001B[0m: 25\n",
      "    \u001B[93mparents\u001B[0m: {}\n"
     ]
    }
   ],
   "execution_count": 24
  }
 ],
 "metadata": {
  "kernelspec": {
   "display_name": "Python 3",
   "language": "python",
   "name": "python3"
  },
  "language_info": {
   "codemirror_mode": {
    "name": "ipython",
    "version": 2
   },
   "file_extension": ".py",
   "mimetype": "text/x-python",
   "name": "python",
   "nbconvert_exporter": "python",
   "pygments_lexer": "ipython2",
   "version": "2.7.6"
  }
 },
 "nbformat": 4,
 "nbformat_minor": 5
}
