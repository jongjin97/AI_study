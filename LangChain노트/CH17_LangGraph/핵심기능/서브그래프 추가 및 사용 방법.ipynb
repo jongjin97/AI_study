{
 "cells": [
  {
   "cell_type": "code",
   "id": "initial_id",
   "metadata": {
    "collapsed": true,
    "ExecuteTime": {
     "end_time": "2025-04-24T06:23:09.353342Z",
     "start_time": "2025-04-24T06:23:09.333882Z"
    }
   },
   "source": [
    "from dotenv import load_dotenv\n",
    "\n",
    "# API 키 정보 로드\n",
    "load_dotenv()\n",
    "from langchain_teddynote import logging\n",
    "\n",
    "# 프로젝트 이름을 입력합니다.\n",
    "logging.langsmith(\"CH17-LangGraph-Modules\")"
   ],
   "outputs": [
    {
     "name": "stdout",
     "output_type": "stream",
     "text": [
      "LangSmith 추적을 시작합니다.\n",
      "[프로젝트명]\n",
      "CH17-LangGraph-Modules\n"
     ]
    }
   ],
   "execution_count": 1
  },
  {
   "metadata": {},
   "cell_type": "markdown",
   "source": "# Case 1: 스키마 키를 공유하는 경우",
   "id": "ab1a8294f120df50"
  },
  {
   "metadata": {
    "ExecuteTime": {
     "end_time": "2025-04-24T06:30:38.833994Z",
     "start_time": "2025-04-24T06:30:37.278631Z"
    }
   },
   "cell_type": "code",
   "source": [
    "from langgraph.graph import START, END, StateGraph\n",
    "from typing import TypedDict\n",
    "\n",
    "# 서브그래프 상태 정의를 위한 TypedDict 클래스, 부모 그래프와 공유되는 name 키와 서브그래프 전용 family_name 키 포함\n",
    "class ChildState(TypedDict):\n",
    "    name: str # 부모 그래프와 공유되는 상태 키\n",
    "    family_name: str\n",
    "\n",
    "# 서브그래프의 첫 번째 노드, family_name 키에 초기값 설정\n",
    "def subgraph_node_1(state: ChildState):\n",
    "    return {\"family_name\": \"Yoon\"}\n",
    "\n",
    "# 서브그래프의 두 번째 노드, 서브그래프 전용 family_name 키와 공유 name 키를 결합하여 새로운 상태 생성\n",
    "def subgraph_node_2(state: ChildState):\n",
    "    # 서브그래프 내부에서만 사용 가능한 family_name키와 공유 상태 키 name을 사용하여 업데이트 수행\n",
    "    return {\"name\": f'{state[\"name\"]} {state[\"family_name\"]}'}\n",
    "\n",
    "# 서브그래프 구조 정의 및 노드 간 연결 관계 설정\n",
    "subgraph_builder = StateGraph(ChildState)\n",
    "subgraph_builder.add_node(subgraph_node_1)\n",
    "subgraph_builder.add_node(subgraph_node_2)\n",
    "subgraph_builder.add_edge(START, \"subgraph_node_1\")\n",
    "subgraph_builder.add_edge(\"subgraph_node_1\", \"subgraph_node_2\")\n",
    "subgraph = subgraph_builder.compile()"
   ],
   "id": "e6a2f6468e6d4482",
   "outputs": [],
   "execution_count": 2
  },
  {
   "metadata": {
    "ExecuteTime": {
     "end_time": "2025-04-24T06:30:47.455927Z",
     "start_time": "2025-04-24T06:30:47.220417Z"
    }
   },
   "cell_type": "code",
   "source": "subgraph.get_graph().print_ascii()",
   "id": "973cca1435457727",
   "outputs": [
    {
     "name": "stdout",
     "output_type": "stream",
     "text": [
      "   +-----------+     \r\n",
      "   | __start__ |     \r\n",
      "   +-----------+     \r\n",
      "          *          \r\n",
      "          *          \r\n",
      "          *          \r\n",
      "+-----------------+  \r\n",
      "| subgraph_node_1 |  \r\n",
      "+-----------------+  \r\n",
      "          *          \r\n",
      "          *          \r\n",
      "          *          \r\n",
      "+-----------------+  \r\n",
      "| subgraph_node_2 |  \r\n",
      "+-----------------+  \n"
     ]
    }
   ],
   "execution_count": 3
  },
  {
   "metadata": {
    "ExecuteTime": {
     "end_time": "2025-04-24T06:31:55.948637Z",
     "start_time": "2025-04-24T06:31:55.939826Z"
    }
   },
   "cell_type": "code",
   "source": [
    "# 부모 그래프의 상태 정의를 위한 TypedDict 클래스, name 키만 포함\n",
    "class ParentState(TypedDict):\n",
    "    name: str\n",
    "    company: str\n",
    "\n",
    "\n",
    "# 부모 그래프의 첫 번째 노드, name 키의 값을 수정하여 새로운 상태 생성\n",
    "def node_1(state: ParentState):\n",
    "    return {\"name\": f'My name is {state[\"name\"]}'}\n",
    "\n",
    "\n",
    "# 부모 그래프 구조 정의 및 서브그래프를 포함한 노드 간 연결 관계 설정\n",
    "builder = StateGraph(ParentState)\n",
    "builder.add_node(\"node_1\", node_1)\n",
    "# 컴파일된 서브그래프를 부모 그래프의 노드로 추가\n",
    "builder.add_node(\"node_2\", subgraph)\n",
    "builder.add_edge(START, \"node_1\")\n",
    "builder.add_edge(\"node_1\", \"node_2\")\n",
    "builder.add_edge(\"node_2\", END)\n",
    "graph = builder.compile()"
   ],
   "id": "e6f49edceb72570",
   "outputs": [],
   "execution_count": 5
  },
  {
   "metadata": {
    "ExecuteTime": {
     "end_time": "2025-04-24T06:32:02.029660Z",
     "start_time": "2025-04-24T06:32:02.021503Z"
    }
   },
   "cell_type": "code",
   "source": "graph.get_graph().print_ascii()",
   "id": "a6daec6d33221ad9",
   "outputs": [
    {
     "name": "stdout",
     "output_type": "stream",
     "text": [
      "+-----------+  \r\n",
      "| __start__ |  \r\n",
      "+-----------+  \r\n",
      "      *        \r\n",
      "      *        \r\n",
      "      *        \r\n",
      "  +--------+   \r\n",
      "  | node_1 |   \r\n",
      "  +--------+   \r\n",
      "      *        \r\n",
      "      *        \r\n",
      "      *        \r\n",
      "  +--------+   \r\n",
      "  | node_2 |   \r\n",
      "  +--------+   \r\n",
      "      *        \r\n",
      "      *        \r\n",
      "      *        \r\n",
      " +---------+   \r\n",
      " | __end__ |   \r\n",
      " +---------+   \n"
     ]
    }
   ],
   "execution_count": 6
  },
  {
   "metadata": {
    "ExecuteTime": {
     "end_time": "2025-04-24T06:32:13.735808Z",
     "start_time": "2025-04-24T06:32:13.643400Z"
    }
   },
   "cell_type": "code",
   "source": [
    "# 그래프 스트림에서 청크 단위로 데이터 처리 및 각 청크 출력\n",
    "for chunk in graph.stream({\"name\": \"jongjin\"}):\n",
    "    print(chunk)"
   ],
   "id": "3a98a33ef68db339",
   "outputs": [
    {
     "name": "stdout",
     "output_type": "stream",
     "text": [
      "{'node_1': {'name': 'My name is jongjin'}}\n",
      "{'node_2': {'name': 'My name is jongjin Yoon'}}\n"
     ]
    }
   ],
   "execution_count": 7
  },
  {
   "metadata": {
    "ExecuteTime": {
     "end_time": "2025-04-24T06:32:37.528841Z",
     "start_time": "2025-04-24T06:32:37.503845Z"
    }
   },
   "cell_type": "code",
   "source": [
    "# 그래프 스트리밍 처리를 통한 서브그래프 데이터 청크 단위 순차 출력\n",
    "# subgraphs 파라미터를 True로 설정하여 하위 그래프 포함 스트리밍 처리\n",
    "for chunk in graph.stream({\"name\": \"jongjin\"}, subgraphs=True):\n",
    "    print(chunk)"
   ],
   "id": "2523cab290097821",
   "outputs": [
    {
     "name": "stdout",
     "output_type": "stream",
     "text": [
      "((), {'node_1': {'name': 'My name is jongjin'}})\n",
      "(('node_2:c8418187-319d-7e16-a768-3d66568828da',), {'subgraph_node_1': {'family_name': 'Yoon'}})\n",
      "(('node_2:c8418187-319d-7e16-a768-3d66568828da',), {'subgraph_node_2': {'name': 'My name is jongjin Yoon'}})\n",
      "((), {'node_2': {'name': 'My name is jongjin Yoon'}})\n"
     ]
    }
   ],
   "execution_count": 8
  },
  {
   "metadata": {},
   "cell_type": "markdown",
   "source": "# Case 2: 스키마 키를 공유하지 않는 경우",
   "id": "9622ec4d4c9886ae"
  },
  {
   "metadata": {
    "ExecuteTime": {
     "end_time": "2025-04-24T06:37:49.246608Z",
     "start_time": "2025-04-24T06:37:49.233327Z"
    }
   },
   "cell_type": "code",
   "source": [
    "# 서브그래프의 상태 타입 정의 (부모 그래프와 키를 공유하지 않음)\n",
    "class ChildState(TypedDict):\n",
    "    # 부모 그래프와 공유되지 않는 키들\n",
    "    name: str\n",
    "\n",
    "# 서브그래프의 첫 번째 노드: name 키에 초기값 설정\n",
    "def subgraph_node_1(state: ChildState):\n",
    "    return {\"name\": \"jongjin \" + state[\"name\"]}\n",
    "\n",
    "\n",
    "# 서브그래프의 두 번째 노드: name 값 그대로 반환\n",
    "def subgraph_node_2(state: ChildState):\n",
    "    return {\"name\": f'My name is {state[\"name\"]}'}\n",
    "\n",
    "# 서브그래프 빌더 초기화 및 노드 연결 구성\n",
    "subgraph_builder = StateGraph(ChildState)\n",
    "subgraph_builder.add_node(subgraph_node_1)\n",
    "subgraph_builder.add_node(subgraph_node_2)\n",
    "subgraph_builder.add_edge(START, \"subgraph_node_1\")\n",
    "subgraph_builder.add_edge(\"subgraph_node_1\", \"subgraph_node_2\")\n",
    "subgraph = subgraph_builder.compile()\n",
    "\n",
    "# 부모 그래프의 상태 타입 정의\n",
    "class ParentState(TypedDict):\n",
    "    family_name: str\n",
    "    full_name: str\n",
    "\n",
    "# 부모 그래프의 첫 번째 노드: family_name 값 그대로 반환\n",
    "def node_1(state: ParentState):\n",
    "    return {\"family_name\": state[\"family_name\"]}\n",
    "\n",
    "\n",
    "# 부모 그래프의 두 번째 노드: 서브그래프와 상태 변환 및 결과 처리\n",
    "def node_2(state: ParentState):\n",
    "    # 부모 상태를 서브그래프 상태로 변환\n",
    "    response = subgraph.invoke({\"name\": state[\"family_name\"]})\n",
    "    # 서브그래프 응답을 부모 상태로 변환\n",
    "    return {\"full_name\": response[\"name\"]}\n",
    "\n",
    "# 부모 그래프 빌더 초기화 및 노드 연결 구성\n",
    "builder = StateGraph(ParentState)\n",
    "builder.add_node(\"node_1\", node_1)\n",
    "\n",
    "# 컴파일된 서브그래프 대신 서브그래프를 호출하는 node_2 함수 사용\n",
    "builder.add_node(\"node_2\", node_2)\n",
    "builder.add_edge(START, \"node_1\")\n",
    "builder.add_edge(\"node_1\", \"node_2\")\n",
    "builder.add_edge(\"node_2\", END)\n",
    "graph = builder.compile()"
   ],
   "id": "e10890fc5eeee137",
   "outputs": [],
   "execution_count": 9
  },
  {
   "metadata": {
    "ExecuteTime": {
     "end_time": "2025-04-24T06:38:06.180183Z",
     "start_time": "2025-04-24T06:38:06.172290Z"
    }
   },
   "cell_type": "code",
   "source": "graph.get_graph().print_ascii()",
   "id": "5f0b7d1fbc6a6dc5",
   "outputs": [
    {
     "name": "stdout",
     "output_type": "stream",
     "text": [
      "+-----------+  \r\n",
      "| __start__ |  \r\n",
      "+-----------+  \r\n",
      "      *        \r\n",
      "      *        \r\n",
      "      *        \r\n",
      "  +--------+   \r\n",
      "  | node_1 |   \r\n",
      "  +--------+   \r\n",
      "      *        \r\n",
      "      *        \r\n",
      "      *        \r\n",
      "  +--------+   \r\n",
      "  | node_2 |   \r\n",
      "  +--------+   \r\n",
      "      *        \r\n",
      "      *        \r\n",
      "      *        \r\n",
      " +---------+   \r\n",
      " | __end__ |   \r\n",
      " +---------+   \n"
     ]
    }
   ],
   "execution_count": 10
  },
  {
   "metadata": {
    "ExecuteTime": {
     "end_time": "2025-04-24T06:38:13.780166Z",
     "start_time": "2025-04-24T06:38:13.758717Z"
    }
   },
   "cell_type": "code",
   "source": [
    "# 그래프 스트리밍 처리를 통한 서브그래프 데이터 청크 단위 순차 출력\n",
    "# subgraphs=True 옵션으로 하위 그래프 포함하여 스트림 데이터 처리\n",
    "for chunk in graph.stream({\"family_name\": \"Yoon\"}, subgraphs=True):\n",
    "    print(chunk)"
   ],
   "id": "8b1750ef5bedbded",
   "outputs": [
    {
     "name": "stdout",
     "output_type": "stream",
     "text": [
      "((), {'node_1': {'family_name': 'Yoon'}})\n",
      "(('node_2:96ac0c94-d0d0-7eb1-b07d-6066838f775d',), {'subgraph_node_1': {'name': 'jongjin Yoon'}})\n",
      "(('node_2:96ac0c94-d0d0-7eb1-b07d-6066838f775d',), {'subgraph_node_2': {'name': 'My name is jongjin Yoon'}})\n",
      "((), {'node_2': {'full_name': 'My name is jongjin Yoon'}})\n"
     ]
    }
   ],
   "execution_count": 11
  }
 ],
 "metadata": {
  "kernelspec": {
   "display_name": "Python 3",
   "language": "python",
   "name": "python3"
  },
  "language_info": {
   "codemirror_mode": {
    "name": "ipython",
    "version": 2
   },
   "file_extension": ".py",
   "mimetype": "text/x-python",
   "name": "python",
   "nbconvert_exporter": "python",
   "pygments_lexer": "ipython2",
   "version": "2.7.6"
  }
 },
 "nbformat": 4,
 "nbformat_minor": 5
}
