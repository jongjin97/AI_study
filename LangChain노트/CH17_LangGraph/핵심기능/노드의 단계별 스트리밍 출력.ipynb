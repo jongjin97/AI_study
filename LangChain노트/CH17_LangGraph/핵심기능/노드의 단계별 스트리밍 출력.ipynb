{
 "cells": [
  {
   "cell_type": "code",
   "id": "initial_id",
   "metadata": {
    "collapsed": true,
    "ExecuteTime": {
     "end_time": "2025-04-23T06:17:55.233566Z",
     "start_time": "2025-04-23T06:17:55.216603Z"
    }
   },
   "source": [
    "from dotenv import load_dotenv\n",
    "\n",
    "# API 키 정보 로드\n",
    "load_dotenv()\n",
    "from langchain_teddynote import logging\n",
    "\n",
    "# 프로젝트 이름을 입력합니다.\n",
    "logging.langsmith(\"CH17-LangGraph-Modules\")"
   ],
   "outputs": [
    {
     "name": "stdout",
     "output_type": "stream",
     "text": [
      "LangSmith 추적을 시작합니다.\n",
      "[프로젝트명]\n",
      "CH17-LangGraph-Modules\n"
     ]
    }
   ],
   "execution_count": 1
  },
  {
   "metadata": {
    "ExecuteTime": {
     "end_time": "2025-04-23T06:18:56.255841Z",
     "start_time": "2025-04-23T06:18:55.445006Z"
    }
   },
   "cell_type": "code",
   "source": [
    "from typing import Annotated, List, Dict\n",
    "from typing_extensions import TypedDict\n",
    "\n",
    "from langchain_core.tools import tool\n",
    "from langchain_openai import ChatOpenAI\n",
    "from langgraph.checkpoint.memory import MemorySaver\n",
    "from langgraph.graph import StateGraph, START, END\n",
    "from langgraph.graph.message import add_messages\n",
    "from langgraph.prebuilt import ToolNode, tools_condition\n",
    "from langchain_teddynote.graphs import visualize_graph\n",
    "from langchain_teddynote.tools import GoogleNews\n",
    "\n",
    "\n",
    "########## 1. 상태 정의 ##########\n",
    "# 상태 정의\n",
    "class State(TypedDict):\n",
    "    # 메시지 목록 주석 추가\n",
    "    messages: Annotated[list, add_messages]\n",
    "    dummy_data: Annotated[str, \"dummy\"]\n",
    "\n",
    "\n",
    "########## 2. 도구 정의 및 바인딩 ##########\n",
    "# 도구 초기화\n",
    "# 키워드로 뉴스 검색하는 도구 생성\n",
    "news_tool = GoogleNews()\n",
    "\n",
    "\n",
    "@tool\n",
    "def search_keyword(query: str) -> List[Dict[str, str]]:\n",
    "    \"\"\"Look up news by keyword\"\"\"\n",
    "    news_tool = GoogleNews()\n",
    "    return news_tool.search_by_keyword(query, k=5)\n",
    "\n",
    "\n",
    "tools = [search_keyword]\n",
    "\n",
    "# LLM 초기화\n",
    "llm = ChatOpenAI(model=\"gpt-4o-mini\")\n",
    "\n",
    "# 도구와 LLM 결합\n",
    "llm_with_tools = llm.bind_tools(tools)\n",
    "\n",
    "\n",
    "########## 3. 노드 추가 ##########\n",
    "# 챗봇 함수 정의\n",
    "def chatbot(state: State):\n",
    "    # 메시지 호출 및 반환\n",
    "    return {\n",
    "        \"messages\": [llm_with_tools.invoke(state[\"messages\"])],\n",
    "        \"dummy_data\": \"[chatbot] 호출, dummy data\",  # 테스트를 위하여 더미 데이터를 추가합니다.\n",
    "    }\n",
    "\n",
    "\n",
    "# 상태 그래프 생성\n",
    "graph_builder = StateGraph(State)\n",
    "\n",
    "# 챗봇 노드 추가\n",
    "graph_builder.add_node(\"chatbot\", chatbot)\n",
    "\n",
    "\n",
    "# 도구 노드 생성 및 추가\n",
    "tool_node = ToolNode(tools=tools)\n",
    "\n",
    "# 도구 노드 추가\n",
    "graph_builder.add_node(\"tools\", tool_node)\n",
    "\n",
    "# 조건부 엣지\n",
    "graph_builder.add_conditional_edges(\n",
    "    \"chatbot\",\n",
    "    tools_condition,\n",
    ")\n",
    "\n",
    "########## 4. 엣지 추가 ##########\n",
    "\n",
    "# tools > chatbot\n",
    "graph_builder.add_edge(\"tools\", \"chatbot\")\n",
    "\n",
    "# START > chatbot\n",
    "graph_builder.add_edge(START, \"chatbot\")\n",
    "\n",
    "# chatbot > END\n",
    "graph_builder.add_edge(\"chatbot\", END)\n",
    "\n",
    "########## 5. 그래프 컴파일 ##########\n",
    "\n",
    "# 그래프 빌더 컴파일\n",
    "graph = graph_builder.compile()\n",
    "\n",
    "########## 6. 그래프 시각화 ##########\n",
    "# 그래프 시각화\n",
    "graph.get_graph().print_ascii()"
   ],
   "id": "5f1a39a5a20fc9d6",
   "outputs": [
    {
     "name": "stdout",
     "output_type": "stream",
     "text": [
      "        +-----------+         \r\n",
      "        | __start__ |         \r\n",
      "        +-----------+         \r\n",
      "               *              \r\n",
      "               *              \r\n",
      "               *              \r\n",
      "          +---------+         \r\n",
      "          | chatbot |         \r\n",
      "          +---------+         \r\n",
      "          .         .         \r\n",
      "        ..           ..       \r\n",
      "       .               .      \r\n",
      "+---------+         +-------+ \r\n",
      "| __end__ |         | tools | \r\n",
      "+---------+         +-------+ \n"
     ]
    }
   ],
   "execution_count": 4
  },
  {
   "metadata": {},
   "cell_type": "markdown",
   "source": "# StateGraph의 stream 메서드",
   "id": "a88b9cd161a3fd6f"
  },
  {
   "metadata": {
    "ExecuteTime": {
     "end_time": "2025-04-23T06:52:22.579980Z",
     "start_time": "2025-04-23T06:52:22.575411Z"
    }
   },
   "cell_type": "code",
   "source": [
    "from langchain_core.runnables import RunnableConfig\n",
    "\n",
    "# 질문\n",
    "question = \"2024년 노벨 문학상 관련 뉴스를 알려주세요.\"\n",
    "\n",
    "# 초기 입력 상태를 정의\n",
    "input = State(dummy_data=\"테스트 문자열\", messages=[(\"user\", question)])\n",
    "\n",
    "# config 설정\n",
    "config = RunnableConfig(\n",
    "    recursion_limit=10,  # 최대 10개의 노드까지 방문. 그 이상은 RecursionError 발생\n",
    "    configurable={\"thread_id\": \"1\"},  # 스레드 ID 설정\n",
    "    tags=[\"my-tag\"],  # Tag\n",
    ")"
   ],
   "id": "67f790d63cba4454",
   "outputs": [],
   "execution_count": 5
  },
  {
   "metadata": {
    "ExecuteTime": {
     "end_time": "2025-04-23T06:53:15.720940Z",
     "start_time": "2025-04-23T06:52:49.090490Z"
    }
   },
   "cell_type": "code",
   "source": [
    "for event in graph.stream(input=input, config=config):\n",
    "    for key, value in event.items():\n",
    "        print(f\"\\n[ {key} ]\\n\")\n",
    "        # value 에 messages 가 존재하는 경우\n",
    "        if \"messages\" in value:\n",
    "            messages = value[\"messages\"]\n",
    "            # 가장 최근 메시지 1개만 출력합니다.\n",
    "            value[\"messages\"][-1].pretty_print()"
   ],
   "id": "9fff9201429e8a3",
   "outputs": [
    {
     "name": "stdout",
     "output_type": "stream",
     "text": [
      "\n",
      "[ chatbot ]\n",
      "\n",
      "==================================\u001B[1m Ai Message \u001B[0m==================================\n",
      "Tool Calls:\n",
      "  search_keyword (call_YbaSPfafDtcpYPtYi4FMJMpp)\n",
      " Call ID: call_YbaSPfafDtcpYPtYi4FMJMpp\n",
      "  Args:\n",
      "    query: 2024 노벨 문학상\n",
      "\n",
      "[ tools ]\n",
      "\n",
      "=================================\u001B[1m Tool Message \u001B[0m=================================\n",
      "Name: search_keyword\n",
      "\n",
      "[{\"url\": \"https://news.google.com/rss/articles/CBMiZ0FVX3lxTE83eHZWX1NDZ0pBVlQtRnkwWDVNT1VXTlVwY3VOS2o4VG9fME53OWIzRk9zMm5pdV9IM2lQOFpOX3BFWWhGQjNMVGRPM0lwTXZCLVExN0xYSXpRYVcwUWlZUzcwZ1loZlU?oc=5\", \"content\": \"노벨상 수상자 한강 작품 속 ‘강원의 모습’은 - 강원도민일보\"}, {\"url\": \"https://news.google.com/rss/articles/CBMi7AFBVV95cUxNZDFJd2hsWVhrYUoyc3VNbUlNQTFjWGFxdjBXdTJWVjNNU0U3V044NFRiODVIemJtV3k3Nmp5azVTelpZaUVVcDhrZXprelpWdHB3Z1ZjcFRHOVFtdnpsT21HQkNaY3ltNTdhNVBjV19kemhMdkFDZG9menFJcWU0MjFvSnhvS1BKQ21TWjExV19lWC1jLV92QmxvSERfbFc1U1V3Q3RvcnVrUk1DNXduWjVRbHRUM2U3UXZmd09jUm4zNy00VFh4dWh1SGhHemo2Wm14SnJ6eDNQazdZOFlJcHJTLTQ5ZldHeHhFRg?oc=5\", \"content\": \"코리아넷뉴스 - 한강, 노벨문학상 수상 후 첫 산문집 '빛과 실' 24일 출간 - 국제문화홍보정책실\"}, {\"url\": \"https://news.google.com/rss/articles/CBMiVkFVX3lxTFAwQnhZOE14S2RRbExJWlRPWFRiSEpsQkpBTjhNTnhfVmdrRnU0cXNsa29yQUh6cVBBbXEzWm00M1JKaWF2MGRyS3hhNmNrWXBYOXFjRE1R?oc=5\", \"content\": \"노벨상 수상 이후 첫 책, 한강 ‘빛과 실’ 출간 - mkbn.mk.co.kr\"}, {\"url\": \"https://news.google.com/rss/articles/CBMiW0FVX3lxTE5CbDJEWU1nZUxVTkZmS3lHTTRycEVPZ2lpRUFPYVlwVVYwbGNKaTdnbWpkS25wY2tZU1pEa0JkZFltQnNRX05teHp5WWd4VXpWbFl3TTNNQVpqZzjSAWBBVV95cUxPTU01d0ZUbWtnX1p6S2FZOFJiZGQwcGYzZWRvZFFIOTlxOUR2SGdaejFqdEI3enVCLXRDc2o5YTVnUUdic1lrNVg5SS1adlBhUUx0MHRZaXVlMk43cGF5WXI?oc=5\", \"content\": \"한강, 한국 첫 노벨문학상…\\\"어두운 밤에도 우릴 잇는 건 언어\\\"(종합2보) - 연합뉴스\"}, {\"url\": \"https://news.google.com/rss/articles/CBMickFVX3lxTE4wN0V1b3M2aG5oNXc3aEFiY2k2YTZMS19SWnQzMFFIWk9HQ1Rsb19BRmEwQkEwNXlLQmo5MmNaalJOVFNKcG85czNrMjZaWV94TlI2dmtxOEpxMmJSekNGZndiVkhwOXRtd1ZyNDg5eDB1QQ?oc=5\", \"content\": \"[영상] “너무 추웠던 9년”…봄으로 가는 한강에게 노벨문학상이 왔다 - 한겨레\"}]\n",
      "\n",
      "[ chatbot ]\n",
      "\n",
      "==================================\u001B[1m Ai Message \u001B[0m==================================\n",
      "\n",
      "다음은 2024년 노벨 문학상 관련 최근 뉴스 기사입니다:\n",
      "\n",
      "1. **한강 작품 속 ‘강원의 모습’**  \n",
      "   [강원도민일보](https://news.google.com/rss/articles/CBMiZ0FVX3lxTE83eHZWX1NDZ0pBVlQtRnkwWDVNT1VXTlVwY3VOS2o4VG9fME53OWIzRk9zMm5pdV9IM2lQOFpOX3BFWWhGQjNMVGRPM0lwTXZCLVExN0xYSXpRYVcwUWlZUzcwZ1loZlU?oc=5)\n",
      "\n",
      "2. **한강, 노벨문학상 수상 후 첫 산문집 '빛과 실' 24일 출간**  \n",
      "   [코리아넷뉴스](https://news.google.com/rss/articles/CBMi7AFBVV95cUxNZDFJd2hsWVhrYUoyc3VNbUlNQTFjWGFxdjBXdTJWVjNNU0U3V044NFRiODVIemJtV3k3Nmp5azVTelpZaUVVcDhrZXprelpWdHB3Z1ZjcFRHOVFtdnpsT21HQkNaY3ltNTdhNVBjV19kemhMdkFDZG9menFJcWU0MjFvSnhvS1BKQ21TWjExV19lWC1jLV92QmxvSERfbFc1U1V3Q3RvcnVrUk1DNXduWjVRbHRUM2U3UXZmd09jUm4zNy00VFh4dWh1SGhHemo2Wm14SnJ6eDNQazdZOFlJcHJTLTQ5ZldHeHhFRg?oc=5)\n",
      "\n",
      "3. **노벨상 수상 이후 첫 책, 한강 ‘빛과 실’ 출간**  \n",
      "   [mkbn.mk.co.kr](https://news.google.com/rss/articles/CBMiVkFVX3lxTFAwQnhZOE14S2RRbExJWlRPWFRiSEpsQkpBTjhNTnhfVmdrRnU0cXNsa29yQUh6cVBBbXEzWm00M1JKaWF2MGRyS3hhNmNrWXBYOXFjRE1R?oc=5)\n",
      "\n",
      "4. **“어두운 밤에도 우릴 잇는 건 언어”**  \n",
      "   한강, 한국 첫 노벨문학상 수상 소식에 대한 보도. [연합뉴스](https://news.google.com/rss/articles/CBMiW0FVX3lxTE5CbDJEWU1nZUxVTkZmS3lHTTRycEVPZ2lpRUFPYVlwVVYwbGNKaTdnbWpkS25wY2tZU1pEa0JkZFltQnNRX05teHp5WWd4VXpWbFl3TTNNQVpqZzjSAWBBVV95cUxPTU01d0ZUbWtnX1p6S2FZOFJiZGQwcGYzZWRvZFFIOTlxOUR2SGdaejFqdEI3enVCLXRDc2o5YTVnUUdic1lrNVg5SS1adlBhUUx0MHRZaXVlMk43cGF5WXI?oc=5)\n",
      "\n",
      "5. **“너무 추웠던 9년”…봄으로 가는 한강에게 노벨문학상이 왔다**  \n",
      "   [한겨레](https://news.google.com/rss/articles/CBMickFVX3lxTE4wN0V1b3M2aG5oNXc3aEFiY2k2YTZMS19SWnQzMFFIWk9HQ1Rsb19BRmEwQkEwNXlLQmo5MmNaalJOVFNKcG85czNrMjZaWV94TlI2dmtxOEpxMmJSekNGZndiVkhwOXRtd1ZyNDg5eDB1QQ?oc=5)\n",
      "\n",
      "이 기사들은 한강 작가의 노벨 문학상 수상 및 관련 저서에 대한 내용을 다루고 있습니다.\n"
     ]
    }
   ],
   "execution_count": 7
  },
  {
   "metadata": {
    "ExecuteTime": {
     "end_time": "2025-04-23T06:53:15.732211Z",
     "start_time": "2025-04-23T06:53:15.727945Z"
    }
   },
   "cell_type": "code",
   "source": [
    "# channels 에 정의된 키 목록을 출력합니다.\n",
    "print(list(graph.channels.keys()))"
   ],
   "id": "d4c97ac31f65aa6a",
   "outputs": [
    {
     "name": "stdout",
     "output_type": "stream",
     "text": [
      "['messages', 'dummy_data', '__start__', 'chatbot', 'branch:to:chatbot', 'tools', 'branch:to:tools', 'start:chatbot']\n"
     ]
    }
   ],
   "execution_count": 8
  },
  {
   "metadata": {
    "ExecuteTime": {
     "end_time": "2025-04-23T06:54:18.071024Z",
     "start_time": "2025-04-23T06:53:59.968616Z"
    }
   },
   "cell_type": "code",
   "source": [
    "# 질문\n",
    "question = \"2024년 노벨 문학상 관련 뉴스를 알려주세요.\"\n",
    "\n",
    "# 초기 입력 State 를 정의\n",
    "input = State(dummy_data=\"테스트 문자열\", messages=[(\"user\", question)])\n",
    "\n",
    "# config 설정\n",
    "config = RunnableConfig(\n",
    "    recursion_limit=10,  # 최대 10개의 노드까지 방문. 그 이상은 RecursionError 발생\n",
    "    configurable={\"thread_id\": \"1\"},  # 스레드 ID 설정\n",
    "    tags=[\"my-rag\"],  # Tag\n",
    ")\n",
    "\n",
    "for event in graph.stream(\n",
    "    input=input,\n",
    "    config=config,\n",
    "    output_keys=[\"dummy_data\"],  # messages 를 추가해 보세요!\n",
    "):\n",
    "    for key, value in event.items():\n",
    "        # key 는 노드 이름\n",
    "        print(f\"\\n[ {key} ]\\n\")\n",
    "\n",
    "        # dummy_data 가 존재하는 경우\n",
    "        if value:\n",
    "            # value 는 노드의 출력값\n",
    "            print(value.keys())\n",
    "            # dummy_data key 가 존재하는 경우\n",
    "            if \"dummy_data\" in value:\n",
    "                print(value[\"dummy_data\"])"
   ],
   "id": "d28f1cf96ae938fb",
   "outputs": [
    {
     "name": "stdout",
     "output_type": "stream",
     "text": [
      "\n",
      "[ chatbot ]\n",
      "\n",
      "dict_keys(['dummy_data'])\n",
      "[chatbot] 호출, dummy data\n",
      "\n",
      "[ tools ]\n",
      "\n",
      "\n",
      "[ chatbot ]\n",
      "\n",
      "dict_keys(['dummy_data'])\n",
      "[chatbot] 호출, dummy data\n"
     ]
    }
   ],
   "execution_count": 9
  },
  {
   "metadata": {
    "ExecuteTime": {
     "end_time": "2025-04-23T06:55:08.330971Z",
     "start_time": "2025-04-23T06:54:51.241593Z"
    }
   },
   "cell_type": "code",
   "source": [
    "# 질문\n",
    "question = \"2024년 노벨 문학상 관련 뉴스를 알려주세요.\"\n",
    "\n",
    "# 초기 입력 State 를 정의\n",
    "input = State(dummy_data=\"테스트 문자열\", messages=[(\"user\", question)])\n",
    "\n",
    "# config 설정\n",
    "config = RunnableConfig(\n",
    "    recursion_limit=10,  # 최대 10개의 노드까지 방문. 그 이상은 RecursionError 발생\n",
    "    configurable={\"thread_id\": \"1\"},  # 스레드 ID 설정\n",
    "    tags=[\"my-rag\"],  # Tag\n",
    ")\n",
    "\n",
    "for event in graph.stream(\n",
    "    input=input,\n",
    "    config=config,\n",
    "    output_keys=[\"messages\"],  # messages 만 출력\n",
    "):\n",
    "    for key, value in event.items():\n",
    "        # messages 가 존재하는 경우\n",
    "        if value and \"messages\" in value:\n",
    "            # key 는 노드 이름\n",
    "            print(f\"\\n[ {key} ]\\n\")\n",
    "            # messages 의 마지막 요소의 content 를 출력합니다.\n",
    "            print(value[\"messages\"][-1].content)\n",
    "[ chatbot ]"
   ],
   "id": "a1aebd23a011555b",
   "outputs": [
    {
     "name": "stdout",
     "output_type": "stream",
     "text": [
      "\n",
      "[ chatbot ]\n",
      "\n",
      "\n",
      "\n",
      "[ tools ]\n",
      "\n",
      "[{\"url\": \"https://news.google.com/rss/articles/CBMiWkFVX3lxTE9wZURXQkQ3VnFGN18tUk5RMk9vU1l3VUpRWGpISFJUbjREZzVfWm9pSzZUMDViR29NeWJYT2Q3Z0VDVVVPNk5Qc0J2UFV0MlNCdjJvT1ZwMlR6UQ?oc=5\", \"content\": \"Han Kang’s poetic prose embraces wounds of martial law - 경향신문\"}, {\"url\": \"https://news.google.com/rss/articles/CBMiU0FVX3lxTE9sNE41R21QRkJzc25WSk5XX1FzdkhlWUxZSkJfb3pxSU5laWtzalA2Q0pjejkxT0c3OERLZjlWMG9CVHRTcG1Ybk4yUDYtREJnS25J?oc=5\", \"content\": \"Translators share fond memories of working with Nobel winner Han Kang - 네이트 뉴스\"}, {\"url\": \"https://news.google.com/rss/articles/CBMiX0FVX3lxTE4weUo4UjItSU5KSHRJTTMzbTA3OGo3ZUJ4NnBaZm1kdVdYS1Btcl9oeUpSSU5pa0RKUHp6dV9VaU0ySWp3ckQzeXNVQXJYZnJldVFyblQ5QUFjY3dSRlZr?oc=5\", \"content\": \"Han Kang Wins Nobel Prize in Literature: A Moment of Honor - 미주한국일보\"}, {\"url\": \"https://news.google.com/rss/articles/CBMia0FVX3lxTFBxNUg4eFZlTjJlMlVPN2xBUzhqU21NNlU5QUpxQmx2bFRXcFpPTDBmdzZkOU44QlpiN2kxR0Fla1ZQZk81S25xWE5rdFZqS1FzX3ZISmpybnpZZXJnRVl4WnFaQjZwdmdQbkl30gFvQVVfeXFMTWZmTjdvRVdydmtyZ01MaU43eEZydkRPZDRNNmlxYUh3RTFNdVo5RjYyNW51X1RvS0dmLVN4aXgtYkhTX1E1ZWVSOW5sbnRWSDB3ZGhGY042bENjY3RlWkdEMWxKb2FRcm5TSlAtWnp3?oc=5\", \"content\": \"BTS Members RM and V Celebrate Han Kang's Nobel Prize in Literature Win - 한국아이닷컴\"}, {\"url\": \"https://news.google.com/rss/articles/CBMiugFBVV95cUxOcVpNRWgxNDRzRzZzTC1saGRPZ3RvUnVZNlpGZUdMYWRQNkdDa0FQS3dDWE04UnhwNmpzWHVUbng1dGNUbklOUk1lS0x4c2J0NXZEX3VEUWJoUjk0QUVlcnR1ZENDYm9sZ3FfREMxQlpyYjQ2S1diRExROHFGZmtnWWNjVDBPN1ZQQlY1NUI1R3owamFoa2Fka1lfQURJaG05NEQ3VElvMlh3bC1TdFZTbzl4b1laODRqcHc?oc=5\", \"content\": \"Pythagoras, AI and Han Kang (KOR) - Korea JoongAng Daily\"}]\n",
      "\n",
      "[ chatbot ]\n",
      "\n",
      "다음은 2024년 노벨 문학상 관련 뉴스입니다:\n",
      "\n",
      "1. [한강의 시적 산문, 계엄령의 상처를 포용하다 - 경향신문](https://news.google.com/rss/articles/CBMiWkFVX3lxTE9wZURXQkQ3VnFGN18tUk5RMk9vU1l3VUpRWGpISFJUbjREZzVfWm9pSzZUMDViR29NeWJYT2Q3Z0VDVVVPNk5Qc0J2UFV0MlNCdjJvT1ZwMlR6UQ?oc=5)\n",
      "\n",
      "2. [노벨 수상자 한강과의 작업에 대한 번역가들의 소중한 기억 나누기 - 네이트 뉴스](https://news.google.com/rss/articles/CBMiU0FVX3lxTE9sNE41R21QRkJzc25WSk5XX1FzdkhlWUxZSkJfb3pxSU5laWtzalA2Q0pjejkxT0c3OERLZjlWMG9CVHRTcG1Ybk4yUDYtREJnS25J?oc=5)\n",
      "\n",
      "3. [한강, 노벨 문학상 수상: 경축의 순간 - 미주한국일보](https://news.google.com/rss/articles/CBMiX0FVX3lxTE4weUo4UjItSU5KSHRJTTMzbTA3OGo3ZUJ4NnBaZm1kdVdYS1Btcl9oeUpSSU5pa0RKUHp6dV9VaU0ySWp3ckQzeXNVQXJYZnJldVFyblQ5QUFjY3dSRlZr?oc=5)\n",
      "\n",
      "4. [BTS 멤버 RM과 V, 한강의 노벨 문학상 수상을 축하하다 - 한국아이닷컴](https://news.google.com/rss/articles/CBMia0FVX3lxTFBxNUg4eFZlTjJlMlVPN2xBUzhqU21NNlU5QUpxQmx2bFRXcFpPTDBmdzZkOU44QlpiN2kxR0Fla1ZQZk81S25xWE5rdFZqS1FzX3ZISmpybnpZZXJnRVl4WnFaQjZwdmdQbkl30gFvQVVfeXFMTWZmTjdvRVdydmtyZ01MaU43eEZydkRPZDRNNmlxYUh3RTFNdVo5RjYyNW51X1RvS0dmLVN4aXgtYkhTX1E1ZWVSOW5sbnRWSDB3ZGhGY042bENjY3RlWkdEMWxKb2FRcm5TSlAtWnp3?oc=5)\n",
      "\n",
      "5. [피타고라스, AI, 그리고 한강 - 코리아중앙데일리](https://news.google.com/rss/articles/CBMiugFBVV95cUxOcVpNRWgxNDRzRzZzTC1saGRPZ3RvUnVZNlpGZUdMYWRQNkdDa0FQS3dDWE04UnhwNmpzWHVUbng1dGNUbklOUk1lS0x4c2J0NXZEX3VEUWJoUjk0QUVlcnR1ZENDYm9sZ3FfREMxQlpyYjQ2S1diRExROHFGZmtnWWNjVDBPN1ZQQlY1NUI1R3owamFoa2Fka1lfQURJaG05NEQ3VElvMlh3bC1TdFZTbzl4b1laODRqcHc?oc=5)\n",
      "\n",
      "이 뉴스들은 한강이 2024년 노벨 문학상을 수상한 것과 관련된 다양한 소식들을 다루고 있습니다.\n"
     ]
    },
    {
     "data": {
      "text/plain": [
       "[<function __main__.chatbot(state: __main__.State)>]"
      ]
     },
     "execution_count": 10,
     "metadata": {},
     "output_type": "execute_result"
    }
   ],
   "execution_count": 10
  },
  {
   "metadata": {
    "ExecuteTime": {
     "end_time": "2025-04-23T06:55:51.119468Z",
     "start_time": "2025-04-23T06:55:32.676599Z"
    }
   },
   "cell_type": "code",
   "source": [
    "# 질문\n",
    "question = \"2024년 노벨 문학상 관련 뉴스를 알려주세요.\"\n",
    "\n",
    "# 초기 입력 State 를 정의\n",
    "input = State(dummy_data=\"테스트 문자열\", messages=[(\"user\", question)])\n",
    "\n",
    "# config 설정\n",
    "config = RunnableConfig(\n",
    "    recursion_limit=10,  # 최대 10개의 노드까지 방문. 그 이상은 RecursionError 발생\n",
    "    configurable={\"thread_id\": \"1\"},  # 스레드 ID 설정\n",
    "    tags=[\"my-rag\"],  # Tag\n",
    ")\n",
    "\n",
    "# values 모드로 스트리밍 출력\n",
    "for event in graph.stream(\n",
    "    input=input,\n",
    "    stream_mode=\"values\",  # 기본값\n",
    "):\n",
    "    for key, value in event.items():\n",
    "        # key 는 state 의 key 값\n",
    "        print(f\"\\n[ {key} ]\\n\")\n",
    "        if key == \"messages\":\n",
    "            print(f\"메시지 개수: {len(value)}\")\n",
    "            # print(value)\n",
    "    print(\"===\" * 10, \" 단계 \", \"===\" * 10)"
   ],
   "id": "fc8a069f9ef9ae37",
   "outputs": [
    {
     "name": "stdout",
     "output_type": "stream",
     "text": [
      "\n",
      "[ messages ]\n",
      "\n",
      "메시지 개수: 1\n",
      "\n",
      "[ dummy_data ]\n",
      "\n",
      "==============================  단계  ==============================\n",
      "\n",
      "[ messages ]\n",
      "\n",
      "메시지 개수: 2\n",
      "\n",
      "[ dummy_data ]\n",
      "\n",
      "==============================  단계  ==============================\n",
      "\n",
      "[ messages ]\n",
      "\n",
      "메시지 개수: 3\n",
      "\n",
      "[ dummy_data ]\n",
      "\n",
      "==============================  단계  ==============================\n",
      "\n",
      "[ messages ]\n",
      "\n",
      "메시지 개수: 4\n",
      "\n",
      "[ dummy_data ]\n",
      "\n",
      "==============================  단계  ==============================\n"
     ]
    }
   ],
   "execution_count": 11
  },
  {
   "metadata": {
    "ExecuteTime": {
     "end_time": "2025-04-23T06:56:33.054681Z",
     "start_time": "2025-04-23T06:56:16.063928Z"
    }
   },
   "cell_type": "code",
   "source": [
    "# 질문\n",
    "question = \"2024년 노벨 문학상 관련 뉴스를 알려주세요.\"\n",
    "\n",
    "# 초기 입력 State 를 정의\n",
    "input = State(dummy_data=\"테스트 문자열\", messages=[(\"user\", question)])\n",
    "\n",
    "# config 설정\n",
    "config = RunnableConfig(\n",
    "    recursion_limit=10,  # 최대 10개의 노드까지 방문. 그 이상은 RecursionError 발생\n",
    "    configurable={\"thread_id\": \"1\"},  # 스레드 ID 설정\n",
    "    tags=[\"my-rag\"],  # Tag\n",
    ")\n",
    "\n",
    "# updates 모드로 스트리밍 출력\n",
    "for event in graph.stream(\n",
    "    input=input,\n",
    "    stream_mode=\"updates\",  # 기본값\n",
    "):\n",
    "    for key, value in event.items():\n",
    "        # key 는 노드 이름\n",
    "        print(f\"\\n[ {key} ]\\n\")\n",
    "\n",
    "        # value 는 노드의 출력값\n",
    "        print(value.keys())\n",
    "\n",
    "        # value 에는 state 가 dict 형태로 저장(values 의 key 값)\n",
    "        if \"messages\" in value:\n",
    "            print(f\"메시지 개수: {len(value['messages'])}\")\n",
    "            # print(value[\"messages\"])\n",
    "    print(\"===\" * 10, \" 단계 \", \"===\" * 10)"
   ],
   "id": "f470c132cf5ca3ad",
   "outputs": [
    {
     "name": "stdout",
     "output_type": "stream",
     "text": [
      "\n",
      "[ chatbot ]\n",
      "\n",
      "dict_keys(['messages', 'dummy_data'])\n",
      "메시지 개수: 1\n",
      "==============================  단계  ==============================\n",
      "\n",
      "[ tools ]\n",
      "\n",
      "dict_keys(['messages'])\n",
      "메시지 개수: 1\n",
      "==============================  단계  ==============================\n",
      "\n",
      "[ chatbot ]\n",
      "\n",
      "dict_keys(['messages', 'dummy_data'])\n",
      "메시지 개수: 1\n",
      "==============================  단계  ==============================\n"
     ]
    }
   ],
   "execution_count": 12
  },
  {
   "metadata": {
    "ExecuteTime": {
     "end_time": "2025-04-23T06:56:47.644063Z",
     "start_time": "2025-04-23T06:56:46.554364Z"
    }
   },
   "cell_type": "code",
   "source": [
    "# 질문\n",
    "question = \"2024년 노벨 문학상 관련 뉴스를 알려주세요.\"\n",
    "\n",
    "# 초기 입력 State 를 정의\n",
    "input = State(dummy_data=\"테스트 문자열\", messages=[(\"user\", question)])\n",
    "\n",
    "# config 설정\n",
    "config = RunnableConfig(\n",
    "    recursion_limit=10,  # 최대 10개의 노드까지 방문. 그 이상은 RecursionError 발생\n",
    "    configurable={\"thread_id\": \"1\"},  # 스레드 ID 설정\n",
    "    tags=[\"my-rag\"],  # Tag\n",
    ")\n",
    "\n",
    "for event in graph.stream(\n",
    "    input=input,\n",
    "    config=config,\n",
    "    stream_mode=\"updates\",  # 기본값\n",
    "    interrupt_before=[\"tools\"],  # tools 노드 이전에 스트리밍 중단\n",
    "):\n",
    "    for key, value in event.items():\n",
    "        # key 는 노드 이름\n",
    "        print(f\"\\n[{key}]\\n\")\n",
    "\n",
    "        # value 는 노드의 출력값\n",
    "        if isinstance(value, dict):\n",
    "            print(value.keys())\n",
    "            if \"messages\" in value:\n",
    "                print(value[\"messages\"])\n",
    "\n",
    "        # value 에는 state 가 dict 형태로 저장(values 의 key 값)\n",
    "        if \"messages\" in value:\n",
    "            print(f\"메시지 개수: {len(value['messages'])}\")\n",
    "    print(\"===\" * 10, \" 단계 \", \"===\" * 10)"
   ],
   "id": "668514df81b717e9",
   "outputs": [
    {
     "name": "stdout",
     "output_type": "stream",
     "text": [
      "\n",
      "[chatbot]\n",
      "\n",
      "dict_keys(['messages', 'dummy_data'])\n",
      "[AIMessage(content='', additional_kwargs={'tool_calls': [{'id': 'call_hmbdY1s0UgB2jhQHgTVuJtn9', 'function': {'arguments': '{\"query\":\"2024 노벨 문학상\"}', 'name': 'search_keyword'}, 'type': 'function'}], 'refusal': None}, response_metadata={'token_usage': {'completion_tokens': 21, 'prompt_tokens': 57, 'total_tokens': 78, 'completion_tokens_details': {'accepted_prediction_tokens': 0, 'audio_tokens': 0, 'reasoning_tokens': 0, 'rejected_prediction_tokens': 0}, 'prompt_tokens_details': {'audio_tokens': 0, 'cached_tokens': 0}}, 'model_name': 'gpt-4o-mini-2024-07-18', 'system_fingerprint': 'fp_f7d56a8a2c', 'id': 'chatcmpl-BPOKE6U3saIOz4JaSD811ohlvKniU', 'finish_reason': 'tool_calls', 'logprobs': None}, id='run-b150c591-57b4-4a23-9af1-b58e938b599a-0', tool_calls=[{'name': 'search_keyword', 'args': {'query': '2024 노벨 문학상'}, 'id': 'call_hmbdY1s0UgB2jhQHgTVuJtn9', 'type': 'tool_call'}], usage_metadata={'input_tokens': 57, 'output_tokens': 21, 'total_tokens': 78, 'input_token_details': {'audio': 0, 'cache_read': 0}, 'output_token_details': {'audio': 0, 'reasoning': 0}})]\n",
      "메시지 개수: 1\n",
      "==============================  단계  ==============================\n",
      "\n",
      "[__interrupt__]\n",
      "\n",
      "==============================  단계  ==============================\n"
     ]
    }
   ],
   "execution_count": 13
  },
  {
   "metadata": {
    "ExecuteTime": {
     "end_time": "2025-04-23T06:57:10.068023Z",
     "start_time": "2025-04-23T06:57:08.532305Z"
    }
   },
   "cell_type": "code",
   "source": [
    "# 질문\n",
    "question = \"2024년 노벨 문학상 관련 뉴스를 알려주세요.\"\n",
    "\n",
    "# 초기 입력 State 를 정의\n",
    "input = State(dummy_data=\"테스트 문자열\", messages=[(\"user\", question)])\n",
    "\n",
    "# config 설정\n",
    "config = RunnableConfig(\n",
    "    recursion_limit=10,  # 최대 10개의 노드까지 방문. 그 이상은 RecursionError 발생\n",
    "    configurable={\"thread_id\": \"1\"},  # 스레드 ID 설정\n",
    "    tags=[\"my-rag\"],  # Tag\n",
    ")\n",
    "\n",
    "for event in graph.stream(\n",
    "    input=input,\n",
    "    config=config,\n",
    "    stream_mode=\"updates\",\n",
    "    interrupt_after=[\"tools\"],  # tools 실행 후 interrupt\n",
    "):\n",
    "    for value in event.values():\n",
    "        # key 는 노드 이름\n",
    "        print(f\"\\n[{key}]\\n\")\n",
    "\n",
    "        if isinstance(value, dict):\n",
    "            # value 는 노드의 출력값\n",
    "            print(value.keys())\n",
    "            if \"messages\" in value:\n",
    "                print(value[\"messages\"])\n",
    "\n",
    "        # value 에는 state 가 dict 형태로 저장(values 의 key 값)\n",
    "        if \"messages\" in value:\n",
    "            print(f\"메시지 개수: {len(value['messages'])}\")"
   ],
   "id": "723af7c68be56168",
   "outputs": [
    {
     "name": "stdout",
     "output_type": "stream",
     "text": [
      "\n",
      "[__interrupt__]\n",
      "\n",
      "dict_keys(['messages', 'dummy_data'])\n",
      "[AIMessage(content='', additional_kwargs={'tool_calls': [{'id': 'call_LcsKvcBBWRRU6VRAqVbOGIvG', 'function': {'arguments': '{\"query\":\"2024 노벨 문학상\"}', 'name': 'search_keyword'}, 'type': 'function'}], 'refusal': None}, response_metadata={'token_usage': {'completion_tokens': 21, 'prompt_tokens': 57, 'total_tokens': 78, 'completion_tokens_details': {'accepted_prediction_tokens': 0, 'audio_tokens': 0, 'reasoning_tokens': 0, 'rejected_prediction_tokens': 0}, 'prompt_tokens_details': {'audio_tokens': 0, 'cached_tokens': 0}}, 'model_name': 'gpt-4o-mini-2024-07-18', 'system_fingerprint': 'fp_f7d56a8a2c', 'id': 'chatcmpl-BPOKazJP0GMCzIIUACUZKXXquU6UZ', 'finish_reason': 'tool_calls', 'logprobs': None}, id='run-f9ecb978-9a6d-43ff-9b3f-769214789a4e-0', tool_calls=[{'name': 'search_keyword', 'args': {'query': '2024 노벨 문학상'}, 'id': 'call_LcsKvcBBWRRU6VRAqVbOGIvG', 'type': 'tool_call'}], usage_metadata={'input_tokens': 57, 'output_tokens': 21, 'total_tokens': 78, 'input_token_details': {'audio': 0, 'cache_read': 0}, 'output_token_details': {'audio': 0, 'reasoning': 0}})]\n",
      "메시지 개수: 1\n",
      "\n",
      "[__interrupt__]\n",
      "\n",
      "dict_keys(['messages'])\n",
      "[ToolMessage(content='[{\"url\": \"https://news.google.com/rss/articles/CBMiZ0FVX3lxTE83eHZWX1NDZ0pBVlQtRnkwWDVNT1VXTlVwY3VOS2o4VG9fME53OWIzRk9zMm5pdV9IM2lQOFpOX3BFWWhGQjNMVGRPM0lwTXZCLVExN0xYSXpRYVcwUWlZUzcwZ1loZlU?oc=5\", \"content\": \"노벨상 수상자 한강 작품 속 ‘강원의 모습’은 - 강원도민일보\"}, {\"url\": \"https://news.google.com/rss/articles/CBMi7AFBVV95cUxNZDFJd2hsWVhrYUoyc3VNbUlNQTFjWGFxdjBXdTJWVjNNU0U3V044NFRiODVIemJtV3k3Nmp5azVTelpZaUVVcDhrZXprelpWdHB3Z1ZjcFRHOVFtdnpsT21HQkNaY3ltNTdhNVBjV19kemhMdkFDZG9menFJcWU0MjFvSnhvS1BKQ21TWjExV19lWC1jLV92QmxvSERfbFc1U1V3Q3RvcnVrUk1DNXduWjVRbHRUM2U3UXZmd09jUm4zNy00VFh4dWh1SGhHemo2Wm14SnJ6eDNQazdZOFlJcHJTLTQ5ZldHeHhFRg?oc=5\", \"content\": \"코리아넷뉴스 - 한강, 노벨문학상 수상 후 첫 산문집 \\'빛과 실\\' 24일 출간 - 국제문화홍보정책실\"}, {\"url\": \"https://news.google.com/rss/articles/CBMiVkFVX3lxTFAwQnhZOE14S2RRbExJWlRPWFRiSEpsQkpBTjhNTnhfVmdrRnU0cXNsa29yQUh6cVBBbXEzWm00M1JKaWF2MGRyS3hhNmNrWXBYOXFjRE1R?oc=5\", \"content\": \"노벨상 수상 이후 첫 책, 한강 ‘빛과 실’ 출간 - mkbn.mk.co.kr\"}, {\"url\": \"https://news.google.com/rss/articles/CBMiW0FVX3lxTE5CbDJEWU1nZUxVTkZmS3lHTTRycEVPZ2lpRUFPYVlwVVYwbGNKaTdnbWpkS25wY2tZU1pEa0JkZFltQnNRX05teHp5WWd4VXpWbFl3TTNNQVpqZzjSAWBBVV95cUxPTU01d0ZUbWtnX1p6S2FZOFJiZGQwcGYzZWRvZFFIOTlxOUR2SGdaejFqdEI3enVCLXRDc2o5YTVnUUdic1lrNVg5SS1adlBhUUx0MHRZaXVlMk43cGF5WXI?oc=5\", \"content\": \"한강, 한국 첫 노벨문학상…\\\\\"어두운 밤에도 우릴 잇는 건 언어\\\\\"(종합2보) - 연합뉴스\"}, {\"url\": \"https://news.google.com/rss/articles/CBMickFVX3lxTE4wN0V1b3M2aG5oNXc3aEFiY2k2YTZMS19SWnQzMFFIWk9HQ1Rsb19BRmEwQkEwNXlLQmo5MmNaalJOVFNKcG85czNrMjZaWV94TlI2dmtxOEpxMmJSekNGZndiVkhwOXRtd1ZyNDg5eDB1QQ?oc=5\", \"content\": \"[영상] “너무 추웠던 9년”…봄으로 가는 한강에게 노벨문학상이 왔다 - 한겨레\"}]', name='search_keyword', id='f9caff34-4bcf-4db5-831b-16425a2ff1ae', tool_call_id='call_LcsKvcBBWRRU6VRAqVbOGIvG')]\n",
      "메시지 개수: 1\n",
      "\n",
      "[__interrupt__]\n",
      "\n"
     ]
    }
   ],
   "execution_count": 14
  }
 ],
 "metadata": {
  "kernelspec": {
   "display_name": "Python 3",
   "language": "python",
   "name": "python3"
  },
  "language_info": {
   "codemirror_mode": {
    "name": "ipython",
    "version": 2
   },
   "file_extension": ".py",
   "mimetype": "text/x-python",
   "name": "python",
   "nbconvert_exporter": "python",
   "pygments_lexer": "ipython2",
   "version": "2.7.6"
  }
 },
 "nbformat": 4,
 "nbformat_minor": 5
}
