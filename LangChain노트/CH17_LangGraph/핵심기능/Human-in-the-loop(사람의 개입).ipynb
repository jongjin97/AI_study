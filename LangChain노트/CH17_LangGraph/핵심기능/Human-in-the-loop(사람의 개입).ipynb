{
 "cells": [
  {
   "cell_type": "code",
   "id": "initial_id",
   "metadata": {
    "collapsed": true,
    "ExecuteTime": {
     "end_time": "2025-04-23T07:28:30.107532Z",
     "start_time": "2025-04-23T07:28:30.081653Z"
    }
   },
   "source": [
    "# API 키를 환경변수로 관리하기 위한 설정 파일\n",
    "from dotenv import load_dotenv\n",
    "\n",
    "# API 키 정보 로드\n",
    "load_dotenv()\n",
    "from langchain_teddynote import logging\n",
    "\n",
    "# 프로젝트 이름을 입력합니다.\n",
    "logging.langsmith(\"CH17-LangGraph-Modules\")"
   ],
   "outputs": [
    {
     "name": "stdout",
     "output_type": "stream",
     "text": [
      "LangSmith 추적을 시작합니다.\n",
      "[프로젝트명]\n",
      "CH17-LangGraph-Modules\n"
     ]
    }
   ],
   "execution_count": 1
  },
  {
   "metadata": {
    "ExecuteTime": {
     "end_time": "2025-04-23T07:28:37.259909Z",
     "start_time": "2025-04-23T07:28:30.157541Z"
    }
   },
   "cell_type": "code",
   "source": [
    "from typing import Annotated, List, Dict\n",
    "from typing_extensions import TypedDict\n",
    "\n",
    "from langchain_core.tools import tool\n",
    "from langchain_openai import ChatOpenAI\n",
    "from langgraph.checkpoint.memory import MemorySaver\n",
    "from langgraph.graph import StateGraph, START, END\n",
    "from langgraph.graph.message import add_messages\n",
    "from langgraph.prebuilt import ToolNode, tools_condition\n",
    "from langchain_teddynote.graphs import visualize_graph\n",
    "from langchain_teddynote.tools import GoogleNews\n",
    "\n",
    "\n",
    "########## 1. 상태 정의 ##########\n",
    "# 상태 정의\n",
    "class State(TypedDict):\n",
    "    # 메시지 목록 주석 추가\n",
    "    messages: Annotated[list, add_messages]\n",
    "\n",
    "\n",
    "########## 2. 도구 정의 및 바인딩 ##########\n",
    "# 도구 초기화\n",
    "# 키워드로 뉴스 검색하는 도구 생성\n",
    "news_tool = GoogleNews()\n",
    "\n",
    "\n",
    "@tool\n",
    "def search_keyword(query: str) -> List[Dict[str, str]]:\n",
    "    \"\"\"Look up news by keyword\"\"\"\n",
    "    news_tool = GoogleNews()\n",
    "    return news_tool.search_by_keyword(query, k=5)\n",
    "\n",
    "\n",
    "tools = [search_keyword]\n",
    "\n",
    "# LLM 초기화\n",
    "llm = ChatOpenAI(model=\"gpt-4o-mini\")\n",
    "\n",
    "# 도구와 LLM 결합\n",
    "llm_with_tools = llm.bind_tools(tools)\n",
    "\n",
    "\n",
    "########## 3. 노드 추가 ##########\n",
    "# 챗봇 함수 정의\n",
    "def chatbot(state: State):\n",
    "    # 메시지 호출 및 반환\n",
    "    return {\"messages\": [llm_with_tools.invoke(state[\"messages\"])]}\n",
    "\n",
    "\n",
    "# 상태 그래프 생성\n",
    "graph_builder = StateGraph(State)\n",
    "\n",
    "# 챗봇 노드 추가\n",
    "graph_builder.add_node(\"chatbot\", chatbot)\n",
    "\n",
    "\n",
    "# 도구 노드 생성 및 추가\n",
    "tool_node = ToolNode(tools=tools)\n",
    "\n",
    "# 도구 노드 추가\n",
    "graph_builder.add_node(\"tools\", tool_node)\n",
    "\n",
    "# 조건부 엣지\n",
    "graph_builder.add_conditional_edges(\n",
    "    \"chatbot\",\n",
    "    tools_condition,\n",
    ")\n",
    "\n",
    "########## 4. 엣지 추가 ##########\n",
    "\n",
    "# tools > chatbot\n",
    "graph_builder.add_edge(\"tools\", \"chatbot\")\n",
    "\n",
    "# START > chatbot\n",
    "graph_builder.add_edge(START, \"chatbot\")\n",
    "\n",
    "# chatbot > END\n",
    "graph_builder.add_edge(\"chatbot\", END)\n",
    "\n",
    "########## 5. MemorySaver 추가 ##########\n",
    "\n",
    "# 메모리 저장소 초기화\n",
    "memory = MemorySaver()"
   ],
   "id": "2e555f92525d4852",
   "outputs": [],
   "execution_count": 2
  },
  {
   "metadata": {
    "ExecuteTime": {
     "end_time": "2025-04-23T07:28:37.730569Z",
     "start_time": "2025-04-23T07:28:37.717535Z"
    }
   },
   "cell_type": "code",
   "source": [
    "########## 6. interrupt_before 추가 ##########\n",
    "\n",
    "# 그래프 빌더 컴파일\n",
    "graph = graph_builder.compile(checkpointer=memory)"
   ],
   "id": "92f79025904cad06",
   "outputs": [],
   "execution_count": 3
  },
  {
   "metadata": {
    "ExecuteTime": {
     "end_time": "2025-04-23T07:29:15.827251Z",
     "start_time": "2025-04-23T07:29:11.319514Z"
    }
   },
   "cell_type": "code",
   "source": [
    "from langchain_teddynote.messages import pretty_print_messages\n",
    "from langchain_core.runnables import RunnableConfig\n",
    "\n",
    "# 질문\n",
    "question = \"AI 관련 최신 뉴스를 알려주세요.\"\n",
    "\n",
    "# 초기 입력 State 를 정의\n",
    "input = State(messages=[(\"user\", question)])\n",
    "\n",
    "# config 설정\n",
    "config = RunnableConfig(\n",
    "    recursion_limit=10,  # 최대 10개의 노드까지 방문. 그 이상은 RecursionError 발생\n",
    "    configurable={\"thread_id\": \"1\"},  # 스레드 ID 설정\n",
    "    tags=[\"my-rag\"],  # Tag\n",
    ")\n",
    "\n",
    "for event in graph.stream(\n",
    "    input=input,\n",
    "    config=config,\n",
    "    stream_mode=\"values\",\n",
    "    interrupt_before=[\"tools\"],  # tools 실행 전 interrupt(tools 노드 실행 전 중단)\n",
    "):\n",
    "    for key, value in event.items():\n",
    "        # key 는 노드 이름\n",
    "        print(f\"\\n[{key}]\\n\")\n",
    "\n",
    "        # value 는 노드의 출력값\n",
    "        # print(value)\n",
    "        pretty_print_messages(value)\n",
    "\n",
    "        # value 에는 state 가 dict 형태로 저장(values 의 key 값)\n",
    "        if \"messages\" in value:\n",
    "            print(f\"메시지 개수: {len(value['messages'])}\")"
   ],
   "id": "69212c6ef58dd376",
   "outputs": [
    {
     "name": "stdout",
     "output_type": "stream",
     "text": [
      "\n",
      "[messages]\n",
      "\n",
      "================================\u001B[1m Human Message \u001B[0m=================================\n",
      "\n",
      "AI 관련 최신 뉴스를 알려주세요.\n",
      "\n",
      "[messages]\n",
      "\n",
      "================================\u001B[1m Human Message \u001B[0m=================================\n",
      "\n",
      "AI 관련 최신 뉴스를 알려주세요.\n",
      "==================================\u001B[1m Ai Message \u001B[0m==================================\n",
      "Tool Calls:\n",
      "  search_keyword (call_bg9CQWkr514R0WGU61RJArpT)\n",
      " Call ID: call_bg9CQWkr514R0WGU61RJArpT\n",
      "  Args:\n",
      "    query: AI\n"
     ]
    }
   ],
   "execution_count": 4
  },
  {
   "metadata": {
    "ExecuteTime": {
     "end_time": "2025-04-23T07:29:35.024667Z",
     "start_time": "2025-04-23T07:29:35.017357Z"
    }
   },
   "cell_type": "code",
   "source": [
    "# 그래프 상태 스냅샷 생성\n",
    "snapshot = graph.get_state(config)\n",
    "\n",
    "# 다음 스냅샷 상태\n",
    "snapshot.next"
   ],
   "id": "d069adb5c586a3f3",
   "outputs": [
    {
     "data": {
      "text/plain": [
       "('tools',)"
      ]
     },
     "execution_count": 5,
     "metadata": {},
     "output_type": "execute_result"
    }
   ],
   "execution_count": 5
  },
  {
   "metadata": {
    "ExecuteTime": {
     "end_time": "2025-04-23T07:29:49.990383Z",
     "start_time": "2025-04-23T07:29:49.985951Z"
    }
   },
   "cell_type": "code",
   "source": [
    "from langchain_teddynote.messages import display_message_tree\n",
    "\n",
    "# 메시지 스냅샷에서 마지막 메시지 추출\n",
    "existing_message = snapshot.values[\"messages\"][-1]\n",
    "\n",
    "# 메시지 트리 표시\n",
    "display_message_tree(existing_message.tool_calls)"
   ],
   "id": "7b553f86c1772e5e",
   "outputs": [
    {
     "name": "stdout",
     "output_type": "stream",
     "text": [
      "    \u001B[96mindex [0]\u001B[0m\n",
      "        \u001B[94mname\u001B[0m: \"search_keyword\"\n",
      "        \u001B[94margs\u001B[0m: {\"query\": \"AI\"}\n",
      "        \u001B[94mid\u001B[0m: \"call_bg9CQWkr514R0WGU61RJArpT\"\n",
      "        \u001B[94mtype\u001B[0m: \"tool_call\"\n"
     ]
    }
   ],
   "execution_count": 6
  },
  {
   "metadata": {
    "ExecuteTime": {
     "end_time": "2025-04-23T07:30:43.914938Z",
     "start_time": "2025-04-23T07:30:25.712518Z"
    }
   },
   "cell_type": "code",
   "source": [
    "# `None`는 현재 상태에 아무것도 추가하지 않음\n",
    "events = graph.stream(None, config, stream_mode=\"values\")\n",
    "\n",
    "# 이벤트 반복 처리\n",
    "for event in events:\n",
    "    # 메시지가 이벤트에 포함된 경우\n",
    "    if \"messages\" in event:\n",
    "        # 마지막 메시지의 예쁜 출력\n",
    "        event[\"messages\"][-1].pretty_print()"
   ],
   "id": "38a5e24e630304b4",
   "outputs": [
    {
     "name": "stdout",
     "output_type": "stream",
     "text": [
      "==================================\u001B[1m Ai Message \u001B[0m==================================\n",
      "Tool Calls:\n",
      "  search_keyword (call_bg9CQWkr514R0WGU61RJArpT)\n",
      " Call ID: call_bg9CQWkr514R0WGU61RJArpT\n",
      "  Args:\n",
      "    query: AI\n",
      "=================================\u001B[1m Tool Message \u001B[0m=================================\n",
      "Name: search_keyword\n",
      "\n",
      "[{\"url\": \"https://news.google.com/rss/articles/CBMingFBVV95cUxPWU5HVndpUjR4Y01QbGRhbUtSNzJmMVNlTW42NmpCbmktS2ROSERlRG55anJkemkzZVJKMFVKdEN5RWtudnQwQUw1MmRiMHhqUkVXTURJdWVaVjF6S0Q2anU2SERLQm1KNW1idzE3N01QR0JrMXBLWUN4d1QwRTJHbHo2WXdXcFlsdkdFNG5hWTc2cXBUR0k4ZE1Mc29MQdIBsgFBVV95cUxPOUlHMVp4RUhqRGtQNVBtUzJEZ3dobjVDcnM1QTFuS1BweU1ucC1fcTMyQUpzeTMyUEh0bFB4c0x1bXJGTkJqUWtsbHlDbkhmaFNIb0V2T1h0RTVPODczN2FNMFBocGdXY3hDenlWaE5zbkY4a2lxSmtzTnlRekowdmZVN19xTmpZX0NDLS15bW1aSFpjdlZ1eGxTWV9JbWt1REJEdjNtUHdLNEViTkgtRW5B?oc=5\", \"content\": \"‘부정행위 AI’로 아마존 합격했던 21세 美 한인, 창업해 75억 투자 받았다 - 조선일보\"}, {\"url\": \"https://news.google.com/rss/articles/CBMiW0FVX3lxTE10SzVHMklnbmo1a2JUQnJITmQyWEh6T3JWdXUzeGZNTXQ2ZkNhaDN0UE10N1NFeno5enhLYnBucmNkVHlGWERIUFNSbW9LUU85MXV2ZERJbEdjdU3SAWBBVV95cUxNa2tjVXlnTzZyd1NzNktoclY1ckhxOEVQYmpUZnFHX3F0SzJWaUhpcEFFREhveDk0R2tiSU9oTl92Z0s0cnNPZnNrRzVxYmt4T3NUSFJ6dFhSUGZyUVdaSV8?oc=5\", \"content\": \"美 한인 20대, '부정행위 AI'로 빅테크 면접통과…스타트업 설립 - 연합뉴스\"}, {\"url\": \"https://news.google.com/rss/articles/CBMiVkFVX3lxTE4xMGtlbGMxYThRaS1MV05xVnJkaVpTTWl2Tm9MQ3duemw2M1VrVXF0VkxReURibkFUZTZfVXREUkJXN0U0d0s5UEZpajNCUHdCR2Z3Nm93?oc=5\", \"content\": \"美한인 20대, ‘부정행위 AI’로 빅테크 면접통과 “모든 것을 속이자” - 중앙일보\"}, {\"url\": \"https://news.google.com/rss/articles/CBMiVkFVX3lxTE5jbkQxNnAxMGtKeEFZVDh0UVN5UEdRcDM1RWI0ek5hSnBNeHdTTkVWZWx6c19sWXFEN2NYeXdBWkdZU1pEVkgweGpyeVc4bzlyNzBzd2x3?oc=5\", \"content\": \"[현장] \\\"HBM, AI 시대의 우라늄\\\"…국회, 초당적 포럼서 반도체 전략 수립 '본격화' - 지디넷코리아\"}, {\"url\": \"https://news.google.com/rss/articles/CBMiWkFVX3lxTFBFLU96aDJ3N3J6YXUtLUZRZ0ZOck9Nc2lDVHNkZHRZbWpuaVZyVHBTdk84dWV1QXJ4QXZMSng1VGVNR0NyQnUtY1R1V2x4akJnS0llSEV4bEx4Z9IBVEFVX3lxTE5QeHlRaElTMjJ4blY5SXoycVRkSFFtQ3NvdXp2enJPWFFXSE1IcUxLa1VLYmxQV1BCcm5RaUtTa0FBYW9YYmdyZGxrUHMzLWFVSzlGdg?oc=5\", \"content\": \"글로벌 ICT 콘퍼런스, AI 통한 디지털 대전환 화두…기업용 솔루션 활용 논의 - 한국경제\"}]\n",
      "==================================\u001B[1m Ai Message \u001B[0m==================================\n",
      "\n",
      "다음은 AI와 관련된 최신 뉴스입니다:\n",
      "\n",
      "1. **‘부정행위 AI’로 아마존 합격했던 21세 美 한인, 창업해 75억 투자 받았다** - [조선일보](https://news.google.com/rss/articles/CBMingFBVV95cUxPWU5HVndpUjR4Y01QbGRhbUtSNzJmMVNlTW42NmpCbmktS2ROSERlRG55anJkemkzZVJKMFVKdEN5RWtudnQwQUw1MmRiMHhqUkVXTURJdWVaVjF6S0Q2anU2SERLQm1KNW1idzE3N01QR0JrMXBLWUN4d1QwRTJHbHo2WXdXcFlsdkdFNG5hWTc2cXBUR0k4ZE1Mc29MQdIBsgFBVV95cUxPOUlHMVp4RUhqRGtQNVBtUzJEZ3dobjVDcnM1QTFuS1BweU1ucC1fcTMyQUpzeTMyUEh0bFB4c0x1bXJGTkJqUWtsbHlDbkhmaFNIb0V2T1h0RTVPODczN2FNMFBocGdXY3hDenlWaE5zbkY4a2lxSmtzTnlRekowdmZVN19xTmpZX0NDLS15bW1aSFpjdlZ1eGxTWV9JbWt1REJEdjNtUHdLNEViTkgtRW5B?oc=5)\n",
      "\n",
      "2. **美 한인 20대, '부정행위 AI'로 빅테크 면접통과…스타트업 설립** - [연합뉴스](https://news.google.com/rss/articles/CBMiW0FVX3lxTE10SzVHMklnbmo1a2JUQnJITmQyWEh6T3JWdXUzeGZNTXQ2ZkNhaDN0UE10N1NFeno5enhLYnBucmNkVHlGWERIUFNSbW9LUU85MXV2ZERJbEdjdU3SAWBBVV95cUxNa2tjVXlnTzZyd1NzNktoclY1ckhxOEVQYmpUZnFHX3F0SzJWaUhpcEFFREhveDk0R2tiSU9oTl92Z0s0cnNPZnNrRzVxYmt4T3NUSFJ6dFhSUGZyUVdaSV8?oc=5)\n",
      "\n",
      "3. **美한인 20대, ‘부정행위 AI’로 빅테크 면접통과 “모든 것을 속이자”** - [중앙일보](https://news.google.com/rss/articles/CBMiVkFVX3lxTE4xMGtlbGMxYThRaS1MV05xVnJkaVpTTWl2Tm9MQ3duemw2M1VrVXF0VkxReURibkFUZTZfVXREUkJXN0U0d0s5UEZpajNCUHdCR2Z3Nm93?oc=5)\n",
      "\n",
      "4. **\"[현장] 'HBM, AI 시대의 우라늄'…국회, 초당적 포럼서 반도체 전략 수립 '본격화'\"** - [지디넷코리아](https://news.google.com/rss/articles/CBMiVkFVX3lxTE5jbkQxNnAxMGtKeEFZVDh0UVN5UEdRcDM1RWI0ek5hSnBNeHdTTkVWZWx6c19sWXFEN2NYeXdBWkdZU1pEVkgweGpyeVc4bzlyNzBzd2x3?oc=5)\n",
      "\n",
      "5. **\"글로벌 ICT 콘퍼런스, AI 통한 디지털 대전환 화두…기업용 솔루션 활용 논의\"** - [한국경제](https://news.google.com/rss/articles/CBMiWkFVX3lxTFBFLU96aDJ3N3J6YXUtLUZRZ0ZOck9Nc2lDVHNkZHRZbWpuaVZyVHBTdk84dWV1QXJ4QXZMSng1VGVNR0NyQnUtY1R1V2x4akJnS0llSEV4bEx4Z9IBVEFVX3lxTE5QeHlRaElTMjJ4blY5SXoycVRkSFFtQ3NvdXp2enJPWFFXSE1IcUxLa1VLYmxQV1BCcm5RaUtTa0FBYW9YYmdyZGxrUHMzLWFVSzlGdg?oc=5)\n",
      "\n",
      "이와 관련된 링크를 통해 더 자세한 내용을 확인하실 수 있습니다.\n"
     ]
    }
   ],
   "execution_count": 7
  },
  {
   "metadata": {
    "ExecuteTime": {
     "end_time": "2025-04-23T07:30:43.942522Z",
     "start_time": "2025-04-23T07:30:43.933944Z"
    }
   },
   "cell_type": "code",
   "source": [
    "to_replay = None\n",
    "\n",
    "# 상태 기록 가져오기\n",
    "for state in graph.get_state_history(config):\n",
    "    # 메시지 수 및 다음 상태 출력\n",
    "    print(\"메시지 수: \", len(state.values[\"messages\"]), \"다음 노드: \", state.next)\n",
    "    print(\"-\" * 80)\n",
    "    # 특정 상태 선택 기준: 채팅 메시지 수\n",
    "    if len(state.values[\"messages\"]) == 3:\n",
    "        to_replay = state"
   ],
   "id": "8150aaa5920d1499",
   "outputs": [
    {
     "name": "stdout",
     "output_type": "stream",
     "text": [
      "메시지 수:  4 다음 노드:  ()\n",
      "--------------------------------------------------------------------------------\n",
      "메시지 수:  3 다음 노드:  ('chatbot',)\n",
      "--------------------------------------------------------------------------------\n",
      "메시지 수:  2 다음 노드:  ('tools',)\n",
      "--------------------------------------------------------------------------------\n",
      "메시지 수:  1 다음 노드:  ('chatbot',)\n",
      "--------------------------------------------------------------------------------\n",
      "메시지 수:  0 다음 노드:  ('__start__',)\n",
      "--------------------------------------------------------------------------------\n"
     ]
    }
   ],
   "execution_count": 8
  },
  {
   "metadata": {
    "ExecuteTime": {
     "end_time": "2025-04-23T07:31:27.816405Z",
     "start_time": "2025-04-23T07:31:27.812552Z"
    }
   },
   "cell_type": "code",
   "source": [
    "# 다음 항목의 다음 요소 출력\n",
    "print(to_replay.next)\n",
    "\n",
    "# 다음 항목의 설정 정보 출력\n",
    "print(to_replay.config)"
   ],
   "id": "93bd8a3398989bb0",
   "outputs": [
    {
     "name": "stdout",
     "output_type": "stream",
     "text": [
      "('chatbot',)\n",
      "{'configurable': {'thread_id': '1', 'checkpoint_ns': '', 'checkpoint_id': '1f02014d-3625-69e6-8002-4e323b16b08a'}}\n"
     ]
    }
   ],
   "execution_count": 9
  },
  {
   "metadata": {
    "ExecuteTime": {
     "end_time": "2025-04-23T07:32:00.167914Z",
     "start_time": "2025-04-23T07:32:00.162259Z"
    }
   },
   "cell_type": "code",
   "source": "to_replay.config",
   "id": "8397165724025a5",
   "outputs": [
    {
     "data": {
      "text/plain": [
       "{'configurable': {'thread_id': '1',\n",
       "  'checkpoint_ns': '',\n",
       "  'checkpoint_id': '1f02014d-3625-69e6-8002-4e323b16b08a'}}"
      ]
     },
     "execution_count": 10,
     "metadata": {},
     "output_type": "execute_result"
    }
   ],
   "execution_count": 10
  },
  {
   "metadata": {
    "ExecuteTime": {
     "end_time": "2025-04-23T07:32:31.261745Z",
     "start_time": "2025-04-23T07:32:14.252498Z"
    }
   },
   "cell_type": "code",
   "source": [
    "# `to_replay.config`는 `checkpoint_id`는 체크포인터에 저장된 상태에 해당\n",
    "for event in graph.stream(None, to_replay.config, stream_mode=\"values\"):\n",
    "    # 메시지가 이벤트에 포함된 경우\n",
    "    if \"messages\" in event:\n",
    "        # 마지막 메시지 출력\n",
    "        event[\"messages\"][-1].pretty_print()"
   ],
   "id": "8d1de109d5718ecb",
   "outputs": [
    {
     "name": "stdout",
     "output_type": "stream",
     "text": [
      "=================================\u001B[1m Tool Message \u001B[0m=================================\n",
      "Name: search_keyword\n",
      "\n",
      "[{\"url\": \"https://news.google.com/rss/articles/CBMingFBVV95cUxPWU5HVndpUjR4Y01QbGRhbUtSNzJmMVNlTW42NmpCbmktS2ROSERlRG55anJkemkzZVJKMFVKdEN5RWtudnQwQUw1MmRiMHhqUkVXTURJdWVaVjF6S0Q2anU2SERLQm1KNW1idzE3N01QR0JrMXBLWUN4d1QwRTJHbHo2WXdXcFlsdkdFNG5hWTc2cXBUR0k4ZE1Mc29MQdIBsgFBVV95cUxPOUlHMVp4RUhqRGtQNVBtUzJEZ3dobjVDcnM1QTFuS1BweU1ucC1fcTMyQUpzeTMyUEh0bFB4c0x1bXJGTkJqUWtsbHlDbkhmaFNIb0V2T1h0RTVPODczN2FNMFBocGdXY3hDenlWaE5zbkY4a2lxSmtzTnlRekowdmZVN19xTmpZX0NDLS15bW1aSFpjdlZ1eGxTWV9JbWt1REJEdjNtUHdLNEViTkgtRW5B?oc=5\", \"content\": \"‘부정행위 AI’로 아마존 합격했던 21세 美 한인, 창업해 75억 투자 받았다 - 조선일보\"}, {\"url\": \"https://news.google.com/rss/articles/CBMiW0FVX3lxTE10SzVHMklnbmo1a2JUQnJITmQyWEh6T3JWdXUzeGZNTXQ2ZkNhaDN0UE10N1NFeno5enhLYnBucmNkVHlGWERIUFNSbW9LUU85MXV2ZERJbEdjdU3SAWBBVV95cUxNa2tjVXlnTzZyd1NzNktoclY1ckhxOEVQYmpUZnFHX3F0SzJWaUhpcEFFREhveDk0R2tiSU9oTl92Z0s0cnNPZnNrRzVxYmt4T3NUSFJ6dFhSUGZyUVdaSV8?oc=5\", \"content\": \"美 한인 20대, '부정행위 AI'로 빅테크 면접통과…스타트업 설립 - 연합뉴스\"}, {\"url\": \"https://news.google.com/rss/articles/CBMiVkFVX3lxTE4xMGtlbGMxYThRaS1MV05xVnJkaVpTTWl2Tm9MQ3duemw2M1VrVXF0VkxReURibkFUZTZfVXREUkJXN0U0d0s5UEZpajNCUHdCR2Z3Nm93?oc=5\", \"content\": \"美한인 20대, ‘부정행위 AI’로 빅테크 면접통과 “모든 것을 속이자” - 중앙일보\"}, {\"url\": \"https://news.google.com/rss/articles/CBMiVkFVX3lxTE5jbkQxNnAxMGtKeEFZVDh0UVN5UEdRcDM1RWI0ek5hSnBNeHdTTkVWZWx6c19sWXFEN2NYeXdBWkdZU1pEVkgweGpyeVc4bzlyNzBzd2x3?oc=5\", \"content\": \"[현장] \\\"HBM, AI 시대의 우라늄\\\"…국회, 초당적 포럼서 반도체 전략 수립 '본격화' - 지디넷코리아\"}, {\"url\": \"https://news.google.com/rss/articles/CBMiWkFVX3lxTFBFLU96aDJ3N3J6YXUtLUZRZ0ZOck9Nc2lDVHNkZHRZbWpuaVZyVHBTdk84dWV1QXJ4QXZMSng1VGVNR0NyQnUtY1R1V2x4akJnS0llSEV4bEx4Z9IBVEFVX3lxTE5QeHlRaElTMjJ4blY5SXoycVRkSFFtQ3NvdXp2enJPWFFXSE1IcUxLa1VLYmxQV1BCcm5RaUtTa0FBYW9YYmdyZGxrUHMzLWFVSzlGdg?oc=5\", \"content\": \"글로벌 ICT 콘퍼런스, AI 통한 디지털 대전환 화두…기업용 솔루션 활용 논의 - 한국경제\"}]\n",
      "==================================\u001B[1m Ai Message \u001B[0m==================================\n",
      "\n",
      "다음은 AI 관련 최신 뉴스입니다:\n",
      "\n",
      "1. [‘부정행위 AI’로 아마존 합격했던 21세 美 한인, 창업해 75억 투자 받았다 - 조선일보](https://news.google.com/rss/articles/CBMingFBVV95cUxPWU5HVndpUjR4Y01QbGRhbUtSNzJmMVNlTW42NmpCbmktS2ROSERlRG55anJkemkzZVJKMFVKdEN5RWtudnQwQUw1MmRiMHhqUkVXTURJdWVaVjF6S0Q2anU2SERLQm1KNW1idzE3N01QR0JrMXBLWUN4d1QwRTJHbHo2WXdXcFlsdkdFNG5hWTc2cXBUR0k4ZE1Mc29MQdIBsgFBVV95cUxPOUlHMVp4RUhqRGtQNVBtUzJEZ3dobjVDcnM1QTFuS1BweU1ucC1fcTMyQUpzeTMyUEh0bFB4c0x1bXJGTkJqUWtsbHlDbkhmaFNIb0V2T1h0RTVPODczN2FNMFBocGdXY3hDenlWaE5zbkY4a2lxSmtzTnlRekowdmZVN19xTmpZX0NDLS15bW1aSFpjdlZ1eGxTWV9JbWt1REJEdjNtUHdLNEViTkgtRW5B?oc=5)\n",
      "\n",
      "2. [美 한인 20대, '부정행위 AI'로 빅테크 면접통과…스타트업 설립 - 연합뉴스](https://news.google.com/rss/articles/CBMiW0FVX3lxTE10SzVHMklnbmo1a2JUQnJITmQyWEh6T3JWdXUzeGZNTXQ2ZkNhaDN0UE10N1NFeno5enhLYnBucmNkVHlGWERIUFNSbW9LUU85MXV2ZERJbEdjdU3SAWBBVV95cUxNa2tjVXlnTzZyd1NzNktoclY1ckhxOEVQYmpUZnFHX3F0SzJWaUhpcEFFREhveDk0R2tiSU9oTl92Z0s0cnNPZnNrRzVxYmt4T3NUSFJ6dFhSUGZyUVdaSV8?oc=5)\n",
      "\n",
      "3. [美한인 20대, ‘부정행위 AI’로 빅테크 면접통과 “모든 것을 속이자” - 중앙일보](https://news.google.com/rss/articles/CBMiVkFVX3lxTE4xMGtlbGMxYThRaS1MV05xVnJkaVpTTWl2Tm9MQ3duemw2M1VrVXF0VkxReURibkFUZTZfVXREUkJXN0U0d0s5UEZpajNCUHdCR2Z3Nm93?oc=5)\n",
      "\n",
      "4. [“HBM, AI 시대의 우라늄”…국회, 초당적 포럼서 반도체 전략 수립 '본격화' - 지디넷코리아](https://news.google.com/rss/articles/CBMiVkFVX3lxTE5jbkQxNnAxMGtKeEFZVDh0UVN5UEdRcDM1RWI0ek5hSnBNeHdTTkVWZWx6c19sWXFEN2NYeXdBWkdZU1pEVkgweGpyeVc4bzlyNzBzd2x3?oc=5)\n",
      "\n",
      "5. [글로벌 ICT 콘퍼런스, AI 통한 디지털 대전환 화두…기업용 솔루션 활용 논의 - 한국경제](https://news.google.com/rss/articles/CBMiWkFVX3lxTFBFLU96aDJ3N3J6YXUtLUZRZ0ZOck9Nc2lDVHNkZHRZbWpuaVZyVHBTdk84dWV1QXJ4QXZMSng1VGVNR0NyQnUtY1R1V2x4akJnS0llSEV4bEx4Z9IBVEFVX3lxTE5QeHlRaElTMjJ4blY5SXoycVRkSFFtQ3NvdXp2enJPWFFXSE1IcUxLa1VLYmxQV1BCcm5RaUtTa0FBYW9YYmdyZGxrUHMzLWFVSzlGdg?oc=5)\n",
      "\n",
      "이 뉴스들은 AI 기술과 관련된 최근 사건 및 트렌드에 대한 정보를 제공합니다.\n"
     ]
    }
   ],
   "execution_count": 11
  }
 ],
 "metadata": {
  "kernelspec": {
   "display_name": "Python 3",
   "language": "python",
   "name": "python3"
  },
  "language_info": {
   "codemirror_mode": {
    "name": "ipython",
    "version": 2
   },
   "file_extension": ".py",
   "mimetype": "text/x-python",
   "name": "python",
   "nbconvert_exporter": "python",
   "pygments_lexer": "ipython2",
   "version": "2.7.6"
  }
 },
 "nbformat": 4,
 "nbformat_minor": 5
}
