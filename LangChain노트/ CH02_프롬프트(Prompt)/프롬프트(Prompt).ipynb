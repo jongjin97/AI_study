{
 "cells": [
  {
   "cell_type": "code",
   "id": "initial_id",
   "metadata": {
    "collapsed": true,
    "ExecuteTime": {
     "end_time": "2025-03-26T11:26:07.500898Z",
     "start_time": "2025-03-26T11:26:07.485997Z"
    }
   },
   "source": [
    "from dotenv import load_dotenv\n",
    "\n",
    "load_dotenv()"
   ],
   "outputs": [
    {
     "data": {
      "text/plain": [
       "True"
      ]
     },
     "execution_count": 1,
     "metadata": {},
     "output_type": "execute_result"
    }
   ],
   "execution_count": 1
  },
  {
   "metadata": {
    "ExecuteTime": {
     "end_time": "2025-03-26T11:26:08.907985Z",
     "start_time": "2025-03-26T11:26:08.899695Z"
    }
   },
   "cell_type": "code",
   "source": [
    "\"\"# LangSmith 추적을 설정합니다. https://smith.langchain.com\n",
    "# !pip install -qU langchain-teddynote\n",
    "from langchain_teddynote import logging\n",
    "\n",
    "# 프로젝트 이름을 입력합니다.\n",
    "logging.langsmith(\"CH02-Prompt\")"
   ],
   "id": "5f2f5985f4132f7d",
   "outputs": [
    {
     "name": "stdout",
     "output_type": "stream",
     "text": [
      "LangSmith 추적을 시작합니다.\n",
      "[프로젝트명]\n",
      "CH02-Prompt\n"
     ]
    }
   ],
   "execution_count": 2
  },
  {
   "metadata": {
    "ExecuteTime": {
     "end_time": "2025-03-26T09:17:48.705784Z",
     "start_time": "2025-03-26T09:17:45.139027Z"
    }
   },
   "cell_type": "code",
   "source": [
    "from langchain_openai import ChatOpenAI\n",
    "\n",
    "llm = ChatOpenAI(\n",
    "    model=\"gpt-4o-mini\"\n",
    ")"
   ],
   "id": "4146dc3d734466d4",
   "outputs": [],
   "execution_count": 48
  },
  {
   "metadata": {},
   "cell_type": "markdown",
   "source": "# 방법 1. from_template() 메소드를 사용하여 PromptTemplate 객체 생성",
   "id": "b2700d57659c7488"
  },
  {
   "metadata": {
    "ExecuteTime": {
     "end_time": "2025-03-26T09:17:54.632037Z",
     "start_time": "2025-03-26T09:17:54.626082Z"
    }
   },
   "cell_type": "code",
   "source": [
    "from langchain_core.prompts import PromptTemplate\n",
    "\n",
    "# template 정의. {country}는 변수로, 이후에 값이 들어갈 자리를 의미\n",
    "template = \"{country}의 수도는 어디인가요?\"\n",
    "\n",
    "# from_template 메소드를 이용하여 PromptTemplate 객체 생성\n",
    "prompt = PromptTemplate.from_template(template)\n",
    "prompt"
   ],
   "id": "f2c2f09da0c9b38d",
   "outputs": [
    {
     "data": {
      "text/plain": [
       "PromptTemplate(input_variables=['country'], input_types={}, partial_variables={}, template='{country}의 수도는 어디인가요?')"
      ]
     },
     "execution_count": 49,
     "metadata": {},
     "output_type": "execute_result"
    }
   ],
   "execution_count": 49
  },
  {
   "metadata": {
    "ExecuteTime": {
     "end_time": "2025-03-26T09:18:03.973817Z",
     "start_time": "2025-03-26T09:18:03.969476Z"
    }
   },
   "cell_type": "code",
   "source": [
    "# prompt 생성. format 메소드를 이용하여 변수에 값을 넣어줌\n",
    "prompt = prompt.format(country=\"대한민국\")\n",
    "prompt"
   ],
   "id": "47a3d86b5eade00b",
   "outputs": [
    {
     "data": {
      "text/plain": [
       "'대한민국의 수도는 어디인가요?'"
      ]
     },
     "execution_count": 50,
     "metadata": {},
     "output_type": "execute_result"
    }
   ],
   "execution_count": 50
  },
  {
   "metadata": {
    "ExecuteTime": {
     "end_time": "2025-03-26T09:18:12.340904Z",
     "start_time": "2025-03-26T09:18:12.337514Z"
    }
   },
   "cell_type": "code",
   "source": [
    "# template 정의\n",
    "template = \"{country}의 수도는 어디인가요?\"\n",
    "\n",
    "# from_template 메소드를 이용하여 PromptTemplate 객체 생성\n",
    "prompt = PromptTemplate.from_template(template)\n",
    "\n",
    "# chain 생성\n",
    "chain = prompt | llm"
   ],
   "id": "3caed892789bc993",
   "outputs": [],
   "execution_count": 51
  },
  {
   "metadata": {},
   "cell_type": "code",
   "outputs": [],
   "execution_count": null,
   "source": [
    "# country 변수에 입력된 값이 자동으로 치환되어 수행됨\n",
    "chain.invoke(\"대한민국\").content"
   ],
   "id": "fda0d7f7bf0f809d"
  },
  {
   "metadata": {},
   "cell_type": "markdown",
   "source": "# 방법 2. PromptTemplate 객체 생성과 동시에 prompt 생성",
   "id": "c3d3db444afa79d1"
  },
  {
   "metadata": {
    "ExecuteTime": {
     "end_time": "2025-03-26T11:05:00.177060Z",
     "start_time": "2025-03-26T11:05:00.170954Z"
    }
   },
   "cell_type": "code",
   "source": [
    "# template 정의\n",
    "template = \"{country}의 수도는 어디인가요?\"\n",
    "\n",
    "# PromptTemplate 객체를 활용하여 prompt_template 생성\n",
    "prompt = PromptTemplate(\n",
    "    template=template,\n",
    "    input_variables=[\"country\"],\n",
    ")\n",
    "\n",
    "prompt"
   ],
   "id": "835d32cad18d9b1a",
   "outputs": [
    {
     "data": {
      "text/plain": [
       "PromptTemplate(input_variables=['country'], input_types={}, partial_variables={}, template='{country}의 수도는 어디인가요?')"
      ]
     },
     "execution_count": 53,
     "metadata": {},
     "output_type": "execute_result"
    }
   ],
   "execution_count": 53
  },
  {
   "metadata": {
    "ExecuteTime": {
     "end_time": "2025-03-26T11:05:44.345878Z",
     "start_time": "2025-03-26T11:05:44.341058Z"
    }
   },
   "cell_type": "code",
   "source": "prompt.format(country=\"대한민국\")",
   "id": "5cf3b2bfe9a1b124",
   "outputs": [
    {
     "data": {
      "text/plain": [
       "'대한민국의 수도는 어디인가요?'"
      ]
     },
     "execution_count": 54,
     "metadata": {},
     "output_type": "execute_result"
    }
   ],
   "execution_count": 54
  },
  {
   "metadata": {
    "ExecuteTime": {
     "end_time": "2025-03-26T11:07:05.415281Z",
     "start_time": "2025-03-26T11:07:05.409885Z"
    }
   },
   "cell_type": "code",
   "source": [
    "# template 정의\n",
    "template = \"{country1}과 {country2}의 수도는 각각 어디인가요?\"\n",
    "\n",
    "#PromptTemplate 객체를 활용하여 prompt_template 생성\n",
    "prompt = PromptTemplate(\n",
    "    template=template,\n",
    "    input_variables=[\"country1\"],\n",
    "    partial_variables={\"country2\": \"미국\"} # dictionary 형태로 partial_variables 전달\n",
    ")\n",
    "prompt"
   ],
   "id": "933a49077593f3bc",
   "outputs": [
    {
     "data": {
      "text/plain": [
       "PromptTemplate(input_variables=['country1'], input_types={}, partial_variables={'country2': '미국'}, template='{country1}과 {country2}의 수도는 각각 어디인가요?')"
      ]
     },
     "execution_count": 55,
     "metadata": {},
     "output_type": "execute_result"
    }
   ],
   "execution_count": 55
  },
  {
   "metadata": {
    "ExecuteTime": {
     "end_time": "2025-03-26T11:07:29.545805Z",
     "start_time": "2025-03-26T11:07:29.541078Z"
    }
   },
   "cell_type": "code",
   "source": "prompt.format(country1=\"대한민국\")",
   "id": "f6bb250fcf9b4a18",
   "outputs": [
    {
     "data": {
      "text/plain": [
       "'대한민국과 미국의 수도는 각각 어디인가요?'"
      ]
     },
     "execution_count": 56,
     "metadata": {},
     "output_type": "execute_result"
    }
   ],
   "execution_count": 56
  },
  {
   "metadata": {
    "ExecuteTime": {
     "end_time": "2025-03-26T11:08:02.256253Z",
     "start_time": "2025-03-26T11:08:02.251445Z"
    }
   },
   "cell_type": "code",
   "source": [
    "prompt_partial = prompt.partial(country2=\"캐나다\")\n",
    "prompt_partial"
   ],
   "id": "bfd10a8e2e6fa367",
   "outputs": [
    {
     "data": {
      "text/plain": [
       "PromptTemplate(input_variables=['country1'], input_types={}, partial_variables={'country2': '캐나다'}, template='{country1}과 {country2}의 수도는 각각 어디인가요?')"
      ]
     },
     "execution_count": 57,
     "metadata": {},
     "output_type": "execute_result"
    }
   ],
   "execution_count": 57
  },
  {
   "metadata": {
    "ExecuteTime": {
     "end_time": "2025-03-26T11:08:37.361953Z",
     "start_time": "2025-03-26T11:08:37.357117Z"
    }
   },
   "cell_type": "code",
   "source": "prompt_partial.format(country1=\"대한민국\")",
   "id": "e79c5a6e9631e77d",
   "outputs": [
    {
     "data": {
      "text/plain": [
       "'대한민국과 캐나다의 수도는 각각 어디인가요?'"
      ]
     },
     "execution_count": 58,
     "metadata": {},
     "output_type": "execute_result"
    }
   ],
   "execution_count": 58
  },
  {
   "metadata": {
    "ExecuteTime": {
     "end_time": "2025-03-26T11:09:00.396949Z",
     "start_time": "2025-03-26T11:09:00.393822Z"
    }
   },
   "cell_type": "code",
   "source": "chain = prompt_partial | llm",
   "id": "f0b61b14605c4ea3",
   "outputs": [],
   "execution_count": 59
  },
  {
   "metadata": {
    "ExecuteTime": {
     "end_time": "2025-03-26T11:09:09.516412Z",
     "start_time": "2025-03-26T11:09:08.117711Z"
    }
   },
   "cell_type": "code",
   "source": "chain.invoke(\"대한민국\").content",
   "id": "d6c1732238eb0e82",
   "outputs": [
    {
     "data": {
      "text/plain": [
       "'대한민국의 수도는 서울이고, 캐나다의 수도는 오타와입니다.'"
      ]
     },
     "execution_count": 60,
     "metadata": {},
     "output_type": "execute_result"
    }
   ],
   "execution_count": 60
  },
  {
   "metadata": {
    "ExecuteTime": {
     "end_time": "2025-03-26T11:09:42.100157Z",
     "start_time": "2025-03-26T11:09:41.245701Z"
    }
   },
   "cell_type": "code",
   "source": "chain.invoke({\"country1\": \"한국\", \"country2\": \"호주\"}).content",
   "id": "41b7bd6115b330bd",
   "outputs": [
    {
     "data": {
      "text/plain": [
       "'한국의 수도는 서울이고, 호주의 수도는 캔버라입니다.'"
      ]
     },
     "execution_count": 61,
     "metadata": {},
     "output_type": "execute_result"
    }
   ],
   "execution_count": 61
  },
  {
   "metadata": {},
   "cell_type": "markdown",
   "source": "#  partial_variables: 부분 변수 채움",
   "id": "d2341dd6226312fa"
  },
  {
   "metadata": {
    "ExecuteTime": {
     "end_time": "2025-03-26T11:13:51.370126Z",
     "start_time": "2025-03-26T11:13:51.364920Z"
    }
   },
   "cell_type": "code",
   "source": [
    "from datetime import datetime\n",
    "\n",
    "# 오늘 날짜를 출력\n",
    "datetime.now().strftime(\"%B %d\")"
   ],
   "id": "f2536d4218b55d9",
   "outputs": [
    {
     "data": {
      "text/plain": [
       "'March 26'"
      ]
     },
     "execution_count": 63,
     "metadata": {},
     "output_type": "execute_result"
    }
   ],
   "execution_count": 63
  },
  {
   "metadata": {
    "ExecuteTime": {
     "end_time": "2025-03-26T11:14:14.659346Z",
     "start_time": "2025-03-26T11:14:14.655310Z"
    }
   },
   "cell_type": "code",
   "source": [
    "# 날짜를 반환하는 함수 정의\n",
    "def get_today():\n",
    "    return datetime.now().strftime(\"%B %d\")"
   ],
   "id": "b56615c9666f1ab0",
   "outputs": [],
   "execution_count": 64
  },
  {
   "metadata": {
    "ExecuteTime": {
     "end_time": "2025-03-26T11:15:41.674252Z",
     "start_time": "2025-03-26T11:15:41.670606Z"
    }
   },
   "cell_type": "code",
   "source": [
    "prompt = PromptTemplate(\n",
    "    template=\"오늘의 날짜는 {today} 입니다. 오늘이 생일인 유명인 {n}명을 나열해 주세요. 생년월일을 표기해주세요.\",\n",
    "    input_variables=[\"n\"],\n",
    "    partial_variables={\n",
    "        \"today\": get_today,\n",
    "    }\n",
    ")"
   ],
   "id": "7258d6ed8d6b5088",
   "outputs": [],
   "execution_count": 69
  },
  {
   "metadata": {
    "ExecuteTime": {
     "end_time": "2025-03-26T11:15:42.361073Z",
     "start_time": "2025-03-26T11:15:42.356581Z"
    }
   },
   "cell_type": "code",
   "source": [
    "# prompt 생성\n",
    "prompt.format(n=3)"
   ],
   "id": "db8b293867f2fb58",
   "outputs": [
    {
     "data": {
      "text/plain": [
       "'오늘의 날짜는 March 26 입니다. 오늘이 생일인 유명인 3명을 나열해 주세요. 생년월일을 표기해주세요.'"
      ]
     },
     "execution_count": 70,
     "metadata": {},
     "output_type": "execute_result"
    }
   ],
   "execution_count": 70
  },
  {
   "metadata": {
    "ExecuteTime": {
     "end_time": "2025-03-26T11:15:54.397213Z",
     "start_time": "2025-03-26T11:15:54.394091Z"
    }
   },
   "cell_type": "code",
   "source": [
    "# chain을 생성합니다.\n",
    "chain = prompt | llm"
   ],
   "id": "d1e11e22b78b318",
   "outputs": [],
   "execution_count": 71
  },
  {
   "metadata": {
    "ExecuteTime": {
     "end_time": "2025-03-26T11:16:14.567033Z",
     "start_time": "2025-03-26T11:16:11.274927Z"
    }
   },
   "cell_type": "code",
   "source": [
    "# chain을 실행 후 결과를 확인합니다.\n",
    "print(chain.invoke(3).content)"
   ],
   "id": "b63c8e71bda956fb",
   "outputs": [
    {
     "name": "stdout",
     "output_type": "stream",
     "text": [
      "3월 26일 생일인 유명인 3명은 다음과 같습니다:\n",
      "\n",
      "1. **레너드 니모이 (Leonard Nimoy)** - 1931년 3월 26일\n",
      "2. **스테판 스트로스 (Steven Tyler)** - 1948년 3월 26일\n",
      "3. **제임스 캐머런 (James Cameron)** - 1954년 3월 26일\n",
      "\n",
      "이 외에도 이날 생일인 유명인이 많습니다!\n"
     ]
    }
   ],
   "execution_count": 72
  },
  {
   "metadata": {
    "ExecuteTime": {
     "end_time": "2025-03-26T11:16:59.422936Z",
     "start_time": "2025-03-26T11:16:57.499318Z"
    }
   },
   "cell_type": "code",
   "source": [
    "# chain을 실행 후 결과를 확인합니다.\n",
    "print(chain.invoke({\"today\": \"Jan 02\", \"n\": 3}).content)"
   ],
   "id": "63eba03ee39ff946",
   "outputs": [
    {
     "name": "stdout",
     "output_type": "stream",
     "text": [
      "1. **정형돈 (Jung Hyung-don)** - 1981년 1월 2일\n",
      "2. **드레이크 (Drake)** - 1986년 1월 2일\n",
      "3. **카미유 코톰 (Camila Coelho)** - 1988년 1월 2일\n",
      "\n",
      "이 외에도 생일이 같은 유명인들이 있을 수 있습니다!\n"
     ]
    }
   ],
   "execution_count": 73
  },
  {
   "metadata": {},
   "cell_type": "markdown",
   "source": "# 파일로부터 template 읽어오기",
   "id": "fe191137fb2c1a6f"
  },
  {
   "metadata": {
    "ExecuteTime": {
     "end_time": "2025-03-26T11:27:45.507356Z",
     "start_time": "2025-03-26T11:27:45.500188Z"
    }
   },
   "cell_type": "code",
   "source": [
    "from langchain_core.prompts import load_prompt\n",
    "\n",
    "prompt = load_prompt(\"prompts/fruit_color.yaml\", encoding=\"utf-8\")\n",
    "prompt"
   ],
   "id": "b7300a42ecf17d56",
   "outputs": [
    {
     "data": {
      "text/plain": [
       "PromptTemplate(input_variables=['fruit'], input_types={}, partial_variables={}, template='{fruit}의 색깔이 뭐야?')"
      ]
     },
     "execution_count": 9,
     "metadata": {},
     "output_type": "execute_result"
    }
   ],
   "execution_count": 9
  },
  {
   "metadata": {
    "ExecuteTime": {
     "end_time": "2025-03-26T11:28:05.917067Z",
     "start_time": "2025-03-26T11:28:05.912422Z"
    }
   },
   "cell_type": "code",
   "source": "prompt.format(fruit=\"사과\")",
   "id": "b8c5c59305d9110c",
   "outputs": [
    {
     "data": {
      "text/plain": [
       "'사과의 색깔이 뭐야?'"
      ]
     },
     "execution_count": 10,
     "metadata": {},
     "output_type": "execute_result"
    }
   ],
   "execution_count": 10
  },
  {
   "metadata": {
    "ExecuteTime": {
     "end_time": "2025-03-26T11:28:55.819697Z",
     "start_time": "2025-03-26T11:28:55.813440Z"
    }
   },
   "cell_type": "code",
   "source": [
    "prompt2 = load_prompt(\"prompts/capital.yaml\", encoding=\"utf-8\")\n",
    "prompt2.format(country=\"대한민국\")"
   ],
   "id": "b51829c2e179b899",
   "outputs": [
    {
     "data": {
      "text/plain": [
       "'대한민국의 수도에 대해서 알려주세요.\\n수도의 특징을 다음의 양식에 맞게 정리해 주세요.\\n300자 내외로 작성해 주세요.\\n한글로 작성해 주세요.\\n----\\n[양식]\\n1. 면적\\n2. 인구\\n3. 역사적 장소\\n4. 특산품\\n\\n#Answer:\\n'"
      ]
     },
     "execution_count": 12,
     "metadata": {},
     "output_type": "execute_result"
    }
   ],
   "execution_count": 12
  },
  {
   "metadata": {},
   "cell_type": "markdown",
   "source": "# ChatPromptTemplate",
   "id": "39069969264d5d3"
  },
  {
   "metadata": {
    "ExecuteTime": {
     "end_time": "2025-03-26T11:30:06.457464Z",
     "start_time": "2025-03-26T11:30:06.451977Z"
    }
   },
   "cell_type": "code",
   "source": [
    "from langchain_core.prompts import ChatPromptTemplate\n",
    "\n",
    "chat_prompt = ChatPromptTemplate.from_template(\"{country}의 수도는 어디인가요?\")\n",
    "chat_prompt"
   ],
   "id": "4483d551520c3702",
   "outputs": [
    {
     "data": {
      "text/plain": [
       "ChatPromptTemplate(input_variables=['country'], input_types={}, partial_variables={}, messages=[HumanMessagePromptTemplate(prompt=PromptTemplate(input_variables=['country'], input_types={}, partial_variables={}, template='{country}의 수도는 어디인가요?'), additional_kwargs={})])"
      ]
     },
     "execution_count": 13,
     "metadata": {},
     "output_type": "execute_result"
    }
   ],
   "execution_count": 13
  },
  {
   "metadata": {
    "ExecuteTime": {
     "end_time": "2025-03-26T11:54:15.668293Z",
     "start_time": "2025-03-26T11:54:15.661828Z"
    }
   },
   "cell_type": "code",
   "source": "chat_prompt.format(country=\"대한민국\")",
   "id": "318f918c2fc3eefe",
   "outputs": [
    {
     "data": {
      "text/plain": [
       "'Human: 대한민국의 수도는 어디인가요?'"
      ]
     },
     "execution_count": 14,
     "metadata": {},
     "output_type": "execute_result"
    }
   ],
   "execution_count": 14
  },
  {
   "metadata": {
    "ExecuteTime": {
     "end_time": "2025-03-26T11:58:01.294320Z",
     "start_time": "2025-03-26T11:58:01.287312Z"
    }
   },
   "cell_type": "code",
   "source": [
    "chat_template = ChatPromptTemplate.from_messages(\n",
    "    [\n",
    "        # role, message\n",
    "        (\"system\", \"당신은 친절한 AI 어시스턴트입니다. 당신의 이름은 {name}입니다.\"),\n",
    "        (\"human\", \"반가워요!\"),\n",
    "        (\"ai\", \"안녕하세요! 무엇을 도와드릴까요?\"),\n",
    "        (\"human\", \"{user_input}\"),\n",
    "    ]\n",
    ")\n",
    "\n",
    "# 챗 message를 생성\n",
    "messages = chat_template.format_messages(\n",
    "    name=\"테디\", user_input=\"당신의 이름은 무엇입니까?\"\n",
    ")\n",
    "messages"
   ],
   "id": "748fc4b46c23abfc",
   "outputs": [
    {
     "data": {
      "text/plain": [
       "[SystemMessage(content='당신은 친절한 AI 어시스턴트입니다. 당신의 이름은 테디입니다.', additional_kwargs={}, response_metadata={}),\n",
       " HumanMessage(content='반가워요!', additional_kwargs={}, response_metadata={}),\n",
       " AIMessage(content='안녕하세요! 무엇을 도와드릴까요?', additional_kwargs={}, response_metadata={}),\n",
       " HumanMessage(content='당신의 이름은 무엇입니까?', additional_kwargs={}, response_metadata={})]"
      ]
     },
     "execution_count": 17,
     "metadata": {},
     "output_type": "execute_result"
    }
   ],
   "execution_count": 17
  },
  {
   "metadata": {
    "ExecuteTime": {
     "end_time": "2025-03-26T11:59:00.423293Z",
     "start_time": "2025-03-26T11:58:57.387006Z"
    }
   },
   "cell_type": "code",
   "source": [
    "from langchain_openai import ChatOpenAI\n",
    "llm = ChatOpenAI(\n",
    "    model=\"gpt-4o-mini\"\n",
    ")\n",
    "llm.invoke(messages).content"
   ],
   "id": "1db107817b90b52d",
   "outputs": [
    {
     "data": {
      "text/plain": [
       "'제 이름은 테디입니다! 어떻게 도와드릴까요?'"
      ]
     },
     "execution_count": 19,
     "metadata": {},
     "output_type": "execute_result"
    }
   ],
   "execution_count": 19
  },
  {
   "metadata": {
    "ExecuteTime": {
     "end_time": "2025-03-26T11:59:14.715452Z",
     "start_time": "2025-03-26T11:59:14.712014Z"
    }
   },
   "cell_type": "code",
   "source": "chain = chat_template | llm",
   "id": "10c64ab754a486d",
   "outputs": [],
   "execution_count": 20
  },
  {
   "metadata": {
    "ExecuteTime": {
     "end_time": "2025-03-26T12:00:12.767136Z",
     "start_time": "2025-03-26T12:00:11.813671Z"
    }
   },
   "cell_type": "code",
   "source": "chain.invoke({\"name\": \"테디\", \"user_input\": \"당신의 이름은 무엇인가요\"})",
   "id": "412221e7736d029c",
   "outputs": [
    {
     "data": {
      "text/plain": [
       "AIMessage(content='제 이름은 테디입니다! 당신은 어떤 이름을 가지고 계신가요?', additional_kwargs={'refusal': None}, response_metadata={'token_usage': {'completion_tokens': 19, 'prompt_tokens': 65, 'total_tokens': 84, 'completion_tokens_details': {'accepted_prediction_tokens': 0, 'audio_tokens': 0, 'reasoning_tokens': 0, 'rejected_prediction_tokens': 0}, 'prompt_tokens_details': {'audio_tokens': 0, 'cached_tokens': 0}}, 'model_name': 'gpt-4o-mini-2024-07-18', 'system_fingerprint': 'fp_1ea406d138', 'id': 'chatcmpl-BFJiWnl6q0TNCBGlWnTJ1txZDJjLl', 'finish_reason': 'stop', 'logprobs': None}, id='run-f2fb0566-20ab-4f49-85d0-50b585eafd41-0', usage_metadata={'input_tokens': 65, 'output_tokens': 19, 'total_tokens': 84, 'input_token_details': {'audio': 0, 'cache_read': 0}, 'output_token_details': {'audio': 0, 'reasoning': 0}})"
      ]
     },
     "execution_count": 21,
     "metadata": {},
     "output_type": "execute_result"
    }
   ],
   "execution_count": 21
  },
  {
   "metadata": {},
   "cell_type": "markdown",
   "source": "# MessagePlaceholder",
   "id": "50e1bdb53b007b4c"
  },
  {
   "metadata": {
    "ExecuteTime": {
     "end_time": "2025-03-26T12:03:01.289533Z",
     "start_time": "2025-03-26T12:03:01.282834Z"
    }
   },
   "cell_type": "code",
   "source": [
    "from langchain_core.prompts import ChatPromptTemplate, MessagesPlaceholder\n",
    "from langchain_core.output_parsers import StrOutputParser\n",
    "\n",
    "chat_prompt = ChatPromptTemplate.from_messages(\n",
    "    [\n",
    "        (\"system\", \"당신은 요약 전문 AI 어시스턴트입니다. 당신의 임무는 주요 키워드로 대화를 요약하는 것입니다.\"),\n",
    "        MessagesPlaceholder(variable_name=\"conversation\"),\n",
    "        (\"human\", \"지금까지의 대화를 {word_count} 단어로 요약합니다.\")\n",
    "    ]\n",
    ")\n",
    "chat_prompt"
   ],
   "id": "382d745e50cd377",
   "outputs": [
    {
     "data": {
      "text/plain": [
       "ChatPromptTemplate(input_variables=['conversation', 'word_count'], input_types={'conversation': list[typing.Annotated[typing.Union[typing.Annotated[langchain_core.messages.ai.AIMessage, Tag(tag='ai')], typing.Annotated[langchain_core.messages.human.HumanMessage, Tag(tag='human')], typing.Annotated[langchain_core.messages.chat.ChatMessage, Tag(tag='chat')], typing.Annotated[langchain_core.messages.system.SystemMessage, Tag(tag='system')], typing.Annotated[langchain_core.messages.function.FunctionMessage, Tag(tag='function')], typing.Annotated[langchain_core.messages.tool.ToolMessage, Tag(tag='tool')], typing.Annotated[langchain_core.messages.ai.AIMessageChunk, Tag(tag='AIMessageChunk')], typing.Annotated[langchain_core.messages.human.HumanMessageChunk, Tag(tag='HumanMessageChunk')], typing.Annotated[langchain_core.messages.chat.ChatMessageChunk, Tag(tag='ChatMessageChunk')], typing.Annotated[langchain_core.messages.system.SystemMessageChunk, Tag(tag='SystemMessageChunk')], typing.Annotated[langchain_core.messages.function.FunctionMessageChunk, Tag(tag='FunctionMessageChunk')], typing.Annotated[langchain_core.messages.tool.ToolMessageChunk, Tag(tag='ToolMessageChunk')]], FieldInfo(annotation=NoneType, required=True, discriminator=Discriminator(discriminator=<function _get_type at 0x0000016D4B2AA7A0>, custom_error_type=None, custom_error_message=None, custom_error_context=None))]]}, partial_variables={}, messages=[SystemMessagePromptTemplate(prompt=PromptTemplate(input_variables=[], input_types={}, partial_variables={}, template='당신은 요약 전문 AI 어시스턴트입니다. 당신의 임무는 주요 키워드로 대화를 요약하는 것입니다.'), additional_kwargs={}), MessagesPlaceholder(variable_name='conversation'), HumanMessagePromptTemplate(prompt=PromptTemplate(input_variables=['word_count'], input_types={}, partial_variables={}, template='지금까지의 대화를 {word_count} 단어로 요약합니다.'), additional_kwargs={})])"
      ]
     },
     "execution_count": 22,
     "metadata": {},
     "output_type": "execute_result"
    }
   ],
   "execution_count": 22
  },
  {
   "metadata": {
    "ExecuteTime": {
     "end_time": "2025-03-26T12:04:14.117638Z",
     "start_time": "2025-03-26T12:04:14.113794Z"
    }
   },
   "cell_type": "code",
   "source": [
    "formatted_chat_prompt = chat_prompt.format(\n",
    "    word_count=5,\n",
    "    conversation=[\n",
    "        (\"human\", \"안녕하세요! 저는 오늘 새로 입사한 종진 입니다. 만나서 반갑습니다.\"),\n",
    "        (\"ai\", \"반가워요! 앞으로 잘 부탁 드립니다.\")\n",
    "    ]\n",
    ")\n",
    "\n",
    "print(formatted_chat_prompt)"
   ],
   "id": "fdd25d762a23e54a",
   "outputs": [
    {
     "name": "stdout",
     "output_type": "stream",
     "text": [
      "System: 당신은 요약 전문 AI 어시스턴트입니다. 당신의 임무는 주요 키워드로 대화를 요약하는 것입니다.\n",
      "Human: 안녕하세요! 저는 오늘 새로 입사한 종진 입니다. 만나서 반갑습니다.\n",
      "AI: 반가워요! 앞으로 잘 부탁 드립니다.\n",
      "Human: 지금까지의 대화를 5 단어로 요약합니다.\n"
     ]
    }
   ],
   "execution_count": 23
  },
  {
   "metadata": {
    "ExecuteTime": {
     "end_time": "2025-03-26T12:04:53.879517Z",
     "start_time": "2025-03-26T12:04:53.875912Z"
    }
   },
   "cell_type": "code",
   "source": [
    "# chain 생성\n",
    "chain = chat_prompt | llm | StrOutputParser()"
   ],
   "id": "74f56236827b3322",
   "outputs": [],
   "execution_count": 24
  },
  {
   "metadata": {
    "ExecuteTime": {
     "end_time": "2025-03-26T12:05:46.691068Z",
     "start_time": "2025-03-26T12:05:45.841313Z"
    }
   },
   "cell_type": "code",
   "source": [
    "# chain 실행 및 결과확인\n",
    "chain.invoke(\n",
    "    {\n",
    "        \"word_count\": 5,\n",
    "        \"conversation\": [\n",
    "            (\"human\", \"안녕하세요! 저는 오늘 새로 입사한 종진입니다. 만나서 반갑습니다.\"),\n",
    "            (\"ai\", \"반가워요! 앞으로 잘 부탁 드립니다.\")\n",
    "        ]\n",
    "    }\n",
    ")"
   ],
   "id": "8647e98dd5979111",
   "outputs": [
    {
     "data": {
      "text/plain": [
       "'종진, 새로 입사, 반갑습니다.'"
      ]
     },
     "execution_count": 25,
     "metadata": {},
     "output_type": "execute_result"
    }
   ],
   "execution_count": 25
  },
  {
   "metadata": {},
   "cell_type": "code",
   "outputs": [],
   "execution_count": null,
   "source": "",
   "id": "6cf0702a6959c1b4"
  }
 ],
 "metadata": {
  "kernelspec": {
   "display_name": "Python 3",
   "language": "python",
   "name": "python3"
  },
  "language_info": {
   "codemirror_mode": {
    "name": "ipython",
    "version": 2
   },
   "file_extension": ".py",
   "mimetype": "text/x-python",
   "name": "python",
   "nbconvert_exporter": "python",
   "pygments_lexer": "ipython2",
   "version": "2.7.6"
  }
 },
 "nbformat": 4,
 "nbformat_minor": 5
}
