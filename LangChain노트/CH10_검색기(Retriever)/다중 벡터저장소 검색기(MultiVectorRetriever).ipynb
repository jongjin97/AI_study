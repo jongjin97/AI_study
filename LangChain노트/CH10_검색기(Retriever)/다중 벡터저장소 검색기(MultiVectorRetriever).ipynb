{
 "cells": [
  {
   "cell_type": "code",
   "id": "initial_id",
   "metadata": {
    "collapsed": true,
    "ExecuteTime": {
     "end_time": "2025-04-08T10:53:48.854889Z",
     "start_time": "2025-04-08T10:53:48.828423Z"
    }
   },
   "source": [
    "from dotenv import load_dotenv\n",
    "from sqlalchemy.testing.suite.test_reflection import metadata\n",
    "\n",
    "# API 키 정보 로드\n",
    "load_dotenv()"
   ],
   "outputs": [
    {
     "data": {
      "text/plain": [
       "True"
      ]
     },
     "execution_count": 1,
     "metadata": {},
     "output_type": "execute_result"
    }
   ],
   "execution_count": 1
  },
  {
   "metadata": {
    "ExecuteTime": {
     "end_time": "2025-04-08T10:53:48.980673Z",
     "start_time": "2025-04-08T10:53:48.970592Z"
    }
   },
   "cell_type": "code",
   "source": [
    "from langchain_teddynote import logging\n",
    "\n",
    "# 프로젝트 이름을 입력합니다.\n",
    "logging.langsmith(\"CH11-Retriever\")"
   ],
   "id": "75d88168b2b6ebd2",
   "outputs": [
    {
     "name": "stdout",
     "output_type": "stream",
     "text": [
      "LangSmith 추적을 시작합니다.\n",
      "[프로젝트명]\n",
      "CH11-Retriever\n"
     ]
    }
   ],
   "execution_count": 2
  },
  {
   "metadata": {
    "ExecuteTime": {
     "end_time": "2025-04-08T10:54:09.358575Z",
     "start_time": "2025-04-08T10:54:06.374535Z"
    }
   },
   "cell_type": "code",
   "source": [
    "from langchain_community.document_loaders import PyMuPDFLoader\n",
    "\n",
    "loader = PyMuPDFLoader(\"data/SPRI_AI_Brief_2023년12월호_F.pdf\")\n",
    "docs = loader.load()"
   ],
   "id": "3f92e4481ea096bf",
   "outputs": [],
   "execution_count": 3
  },
  {
   "metadata": {
    "ExecuteTime": {
     "end_time": "2025-04-08T10:54:11.517207Z",
     "start_time": "2025-04-08T10:54:11.513155Z"
    }
   },
   "cell_type": "code",
   "source": "print(docs[5].page_content[:500])",
   "id": "3e32fe28bf7edacf",
   "outputs": [
    {
     "name": "stdout",
     "output_type": "stream",
     "text": [
      "1. 정책/법제  \n",
      "2. 기업/산업 \n",
      "3. 기술/연구 \n",
      " 4. 인력/교육\n",
      "영국 AI 안전성 정상회의에 참가한 28개국, AI 위험에 공동 대응 선언\n",
      "n 영국 블레츨리 파크에서 개최된 AI 안전성 정상회의에 참가한 28개국들이 AI 안전 보장을 \n",
      "위한 협력 방안을 담은 블레츨리 선언을 발표\n",
      "n 첨단 AI를 개발하는 국가와 기업들은 AI 시스템에 대한 안전 테스트 계획에 합의했으며, \n",
      "영국의 AI 안전 연구소가 전 세계 국가와 협력해 테스트를 주도할 예정 \n",
      "KEY Contents\n",
      "£ AI 안전성 정상회의 참가국들, 블레츨리 선언 통해 AI 안전 보장을 위한 협력에 합의\n",
      "n 2023년 11월 1~2일 영국 블레츨리 파크에서 열린 AI 안전성 정상회의(AI Safety Summit)에 \n",
      "참가한 28개국 대표들이 AI 위험 관리를 위한 ‘블레츨리 선언’을 발표 \n",
      "∙선언은 AI 안전 보장을 위해 국가, 국제기구, 기업, 시민사회, 학계를 포함한 모든 이해관계자의 협력이 \n",
      "중요하다고 강조했으며,\n"
     ]
    }
   ],
   "execution_count": 4
  },
  {
   "metadata": {},
   "cell_type": "markdown",
   "source": "# Chunk + 원본 문서 검색",
   "id": "bfc6dda064f151a7"
  },
  {
   "metadata": {
    "ExecuteTime": {
     "end_time": "2025-04-08T10:57:21.577873Z",
     "start_time": "2025-04-08T10:57:17.908811Z"
    }
   },
   "cell_type": "code",
   "source": [
    "import uuid\n",
    "from langchain.storage import InMemoryStore\n",
    "from langchain_chroma import Chroma\n",
    "from langchain_openai import OpenAIEmbeddings\n",
    "from langchain_text_splitters import RecursiveCharacterTextSplitter\n",
    "from langchain.retrievers.multi_vector import MultiVectorRetriever\n",
    "\n",
    "vectorstore = Chroma(\n",
    "    collection_name=\"small_bigger_chunks\",\n",
    "    embedding_function=OpenAIEmbeddings(model=\"text-embedding-3-small\")\n",
    ")\n",
    "\n",
    "# 부모 문서의 저장소 계층\n",
    "store = InMemoryStore()\n",
    "\n",
    "id_key = \"doc_id\"\n",
    "\n",
    "# 검색기(시작 시 비어 있음)\n",
    "retriever = MultiVectorRetriever(\n",
    "    vectorstore=vectorstore,\n",
    "    id_key=id_key,\n",
    "    byte_store=store,\n",
    ")\n",
    "\n",
    "# 문서 ID를 생성\n",
    "doc_ids = [str(uuid.uuid4()) for _ in docs]\n",
    "\n",
    "# 두 개의 생성된 id를 확인\n",
    "doc_ids"
   ],
   "id": "efd71c0e4e0da098",
   "outputs": [
    {
     "data": {
      "text/plain": [
       "['cb0f49c0-ad7b-4a7e-87c0-f3680b766ecf',\n",
       " 'aa6c7faa-f109-4a08-bb58-6f5053b47780',\n",
       " '68623475-2814-415a-a238-ce3fa2074abc',\n",
       " 'e3695dde-ce81-4600-b428-8c692098a913',\n",
       " 'a823de65-123d-4adb-812c-1fd7e722960b',\n",
       " 'c89298df-536b-4b56-9260-20d6f7c1a01e',\n",
       " 'b20e116e-8f20-46cd-a561-0ef0d0d26afb',\n",
       " '35af4e77-9bbb-454c-b9a7-9acc44c107a7',\n",
       " '593e692d-297c-4234-82a7-082e54dcc37e',\n",
       " '27e4706b-4664-4462-b06f-92270981aeae',\n",
       " '33efaf30-e152-4fd7-95ea-cc36897c6fad',\n",
       " '22c7fe8d-2dab-44fe-83e5-f4de2897d38a',\n",
       " 'eb1abb73-c6c7-4836-942e-ad3e300d9181',\n",
       " 'c05bad8a-8a0a-404a-9e1e-96024cf8b771',\n",
       " 'f65f60fd-7faa-46a5-8bbe-f98f2081a6aa',\n",
       " '922f3c20-cd0d-4df0-a3b0-d2d1031b5a0c',\n",
       " '92a61134-17a6-45c9-b72a-749d68c155e4',\n",
       " '5d60c15d-5f84-49b8-9ab8-34551dc34108',\n",
       " 'fbb552c2-e2a0-42a7-93e3-58f1a32a6489',\n",
       " 'a4ded913-5efa-4de9-b76a-90c0a3ecc1ba',\n",
       " '0052d245-0e28-43f4-8e85-9894e6a557b1',\n",
       " 'b1c785db-5c2f-4bfa-888c-2c17a829cf14',\n",
       " '9e38a263-93c9-4d7b-b784-f1169764a422']"
      ]
     },
     "execution_count": 5,
     "metadata": {},
     "output_type": "execute_result"
    }
   ],
   "execution_count": 5
  },
  {
   "metadata": {
    "ExecuteTime": {
     "end_time": "2025-04-08T10:58:14.561415Z",
     "start_time": "2025-04-08T10:58:14.558127Z"
    }
   },
   "cell_type": "code",
   "source": [
    "# RecursiveCharacterTextSplitter 객체를 생성\n",
    "parent_text_splitter = RecursiveCharacterTextSplitter(chunk_size=600)\n",
    "\n",
    "# 더 작은 청크를 생성하는 데 사용할 분할기\n",
    "child_text_splitter = RecursiveCharacterTextSplitter(chunk_size=200)"
   ],
   "id": "26f4820ac8fc24d5",
   "outputs": [],
   "execution_count": 6
  },
  {
   "metadata": {
    "ExecuteTime": {
     "end_time": "2025-04-08T10:59:45.502545Z",
     "start_time": "2025-04-08T10:59:45.495872Z"
    }
   },
   "cell_type": "code",
   "source": [
    "parent_docs = []\n",
    "\n",
    "for i, doc in enumerate(docs):\n",
    "    # 현재 문서의 ID를 가져옴\n",
    "    _id = doc_ids[i]\n",
    "    # 현재 문서를 하위 문서로 분할\n",
    "    parent_doc = parent_text_splitter.split_documents([doc])\n",
    "\n",
    "    for _doc in parent_doc:\n",
    "        # metadata에 문서 ID를 저장\n",
    "        _doc.metadata[id_key] = _id\n",
    "    parent_docs.extend(parent_doc)"
   ],
   "id": "84d64c816f703ef",
   "outputs": [],
   "execution_count": 7
  },
  {
   "metadata": {
    "ExecuteTime": {
     "end_time": "2025-04-08T11:00:11.060041Z",
     "start_time": "2025-04-08T11:00:11.054616Z"
    }
   },
   "cell_type": "code",
   "source": "parent_docs[0].metadata",
   "id": "88e8a466b9ea6b7c",
   "outputs": [
    {
     "data": {
      "text/plain": [
       "{'producer': 'Hancom PDF 1.3.0.542',\n",
       " 'creator': 'Hwp 2018 10.0.0.13462',\n",
       " 'creationdate': '2023-12-08T13:28:38+09:00',\n",
       " 'source': 'data/SPRI_AI_Brief_2023년12월호_F.pdf',\n",
       " 'file_path': 'data/SPRI_AI_Brief_2023년12월호_F.pdf',\n",
       " 'total_pages': 23,\n",
       " 'format': 'PDF 1.4',\n",
       " 'title': '',\n",
       " 'author': 'dj',\n",
       " 'subject': '',\n",
       " 'keywords': '',\n",
       " 'moddate': '2023-12-08T13:28:38+09:00',\n",
       " 'trapped': '',\n",
       " 'modDate': \"D:20231208132838+09'00'\",\n",
       " 'creationDate': \"D:20231208132838+09'00'\",\n",
       " 'page': 0,\n",
       " 'doc_id': 'cb0f49c0-ad7b-4a7e-87c0-f3680b766ecf'}"
      ]
     },
     "execution_count": 10,
     "metadata": {},
     "output_type": "execute_result"
    }
   ],
   "execution_count": 10
  },
  {
   "metadata": {
    "ExecuteTime": {
     "end_time": "2025-04-08T11:00:55.841559Z",
     "start_time": "2025-04-08T11:00:55.830371Z"
    }
   },
   "cell_type": "code",
   "source": [
    "child_docs = []\n",
    "for i, doc in enumerate(docs):\n",
    "    # 현재 문서의 ID를 가져옴\n",
    "    _id = doc_ids[i]\n",
    "    # 현재 문서의 하위 문서로 분할\n",
    "    child_doc = child_text_splitter.split_documents([doc])\n",
    "    for _doc in child_doc:\n",
    "        _doc.metadata[id_key] = _id\n",
    "    child_docs.extend(child_doc)"
   ],
   "id": "fa945fa5f714ac5c",
   "outputs": [],
   "execution_count": 11
  },
  {
   "metadata": {
    "ExecuteTime": {
     "end_time": "2025-04-08T11:01:05.148678Z",
     "start_time": "2025-04-08T11:01:05.144198Z"
    }
   },
   "cell_type": "code",
   "source": [
    "# 생성된 Child 문서의 메타데이터를 확인\n",
    "child_docs[0].metadata"
   ],
   "id": "dc4fa3ca4ef8637a",
   "outputs": [
    {
     "data": {
      "text/plain": [
       "{'producer': 'Hancom PDF 1.3.0.542',\n",
       " 'creator': 'Hwp 2018 10.0.0.13462',\n",
       " 'creationdate': '2023-12-08T13:28:38+09:00',\n",
       " 'source': 'data/SPRI_AI_Brief_2023년12월호_F.pdf',\n",
       " 'file_path': 'data/SPRI_AI_Brief_2023년12월호_F.pdf',\n",
       " 'total_pages': 23,\n",
       " 'format': 'PDF 1.4',\n",
       " 'title': '',\n",
       " 'author': 'dj',\n",
       " 'subject': '',\n",
       " 'keywords': '',\n",
       " 'moddate': '2023-12-08T13:28:38+09:00',\n",
       " 'trapped': '',\n",
       " 'modDate': \"D:20231208132838+09'00'\",\n",
       " 'creationDate': \"D:20231208132838+09'00'\",\n",
       " 'page': 0,\n",
       " 'doc_id': 'cb0f49c0-ad7b-4a7e-87c0-f3680b766ecf'}"
      ]
     },
     "execution_count": 12,
     "metadata": {},
     "output_type": "execute_result"
    }
   ],
   "execution_count": 12
  },
  {
   "metadata": {
    "ExecuteTime": {
     "end_time": "2025-04-08T11:01:16.120007Z",
     "start_time": "2025-04-08T11:01:16.116709Z"
    }
   },
   "cell_type": "code",
   "source": [
    "print(f\"분할된 parent_docs의 개수: {len(parent_docs)}\")\n",
    "print(f\"분할된 child_docs의 개수: {len(child_docs)}\")"
   ],
   "id": "cee6434f43103302",
   "outputs": [
    {
     "name": "stdout",
     "output_type": "stream",
     "text": [
      "분할된 parent_docs의 개수: 73\n",
      "분할된 child_docs의 개수: 440\n"
     ]
    }
   ],
   "execution_count": 13
  },
  {
   "metadata": {
    "ExecuteTime": {
     "end_time": "2025-04-08T11:02:28.088126Z",
     "start_time": "2025-04-08T11:02:19.173267Z"
    }
   },
   "cell_type": "code",
   "source": [
    "# 백터 저장소에 parent + child 문서를 추가\n",
    "retriever.vectorstore.add_documents(parent_docs)\n",
    "retriever.vectorstore.add_documents(child_docs)\n",
    "\n",
    "# docstore에 원본 문서를 저장\n",
    "retriever.docstore.mset(list(zip(doc_ids, docs)))"
   ],
   "id": "4bdd945a8cad400d",
   "outputs": [],
   "execution_count": 14
  },
  {
   "metadata": {
    "ExecuteTime": {
     "end_time": "2025-04-08T11:03:31.520028Z",
     "start_time": "2025-04-08T11:03:30.630380Z"
    }
   },
   "cell_type": "code",
   "source": [
    "# vectorstore의 유사도 검색을 수행\n",
    "relevant_chunks = retriever.vectorstore.similarity_search(\"삼성전자가 만든 생성형 AI의 이름은?\")\n",
    "print(f\"검색된 문서의 개수: {len(relevant_chunks)}\")"
   ],
   "id": "4dcf1f70b1a7783d",
   "outputs": [
    {
     "name": "stdout",
     "output_type": "stream",
     "text": [
      "검색된 문서의 개수: 4\n"
     ]
    }
   ],
   "execution_count": 15
  },
  {
   "metadata": {
    "ExecuteTime": {
     "end_time": "2025-04-08T11:03:56.438614Z",
     "start_time": "2025-04-08T11:03:56.434181Z"
    }
   },
   "cell_type": "code",
   "source": [
    "for chunk in relevant_chunks:\n",
    "    print(chunk.page_content, end=\"\\n\\n\")\n",
    "    print(\">\" * 100, end=\"\\n\\n\")"
   ],
   "id": "db01ab41d88cda5",
   "outputs": [
    {
     "name": "stdout",
     "output_type": "stream",
     "text": [
      "☞ 출처 : 삼성전자, ‘삼성 AI 포럼’서 자체 개발 생성형 AI ‘삼성 가우스’ 공개, 2023.11.08.\n",
      "삼성전자, ‘삼성 개발자 콘퍼런스 코리아 2023’ 개최, 2023.11.14.\n",
      "TechRepublic, Samsung Gauss: Samsung Research Reveals Generative AI, 2023.11.08.\n",
      "\n",
      ">>>>>>>>>>>>>>>>>>>>>>>>>>>>>>>>>>>>>>>>>>>>>>>>>>>>>>>>>>>>>>>>>>>>>>>>>>>>>>>>>>>>>>>>>>>>>>>>>>>>\n",
      "\n",
      "SPRi AI Brief |  \n",
      "2023-12월호\n",
      "10\n",
      "삼성전자, 자체 개발 생성 AI ‘삼성 가우스’ 공개\n",
      "n 삼성전자가 온디바이스에서 작동 가능하며 언어, 코드, 이미지의 3개 모델로 구성된 자체 개발 생성 \n",
      "AI 모델 ‘삼성 가우스’를 공개\n",
      "n 삼성전자는 삼성 가우스를 다양한 제품에 단계적으로 탑재할 계획으로, 온디바이스 작동이 가능한\n",
      "\n",
      ">>>>>>>>>>>>>>>>>>>>>>>>>>>>>>>>>>>>>>>>>>>>>>>>>>>>>>>>>>>>>>>>>>>>>>>>>>>>>>>>>>>>>>>>>>>>>>>>>>>>\n",
      "\n",
      "▹ 삼성전자, 자체 개발 생성 AI ‘삼성 가우스’ 공개 ··························································· 10\n",
      "   ▹ 구글, 앤스로픽에 20억 달러 투자로 생성 AI 협력 강화 ················································ 11\n",
      "\n",
      ">>>>>>>>>>>>>>>>>>>>>>>>>>>>>>>>>>>>>>>>>>>>>>>>>>>>>>>>>>>>>>>>>>>>>>>>>>>>>>>>>>>>>>>>>>>>>>>>>>>>\n",
      "\n",
      "KEY Contents\n",
      "£ 언어, 코드, 이미지의 3개 모델로 구성된 삼성 가우스, 온디바이스 작동 지원\n",
      "n 삼성전자가 2023년 11월 8일 열린 ‘삼성 AI 포럼 2023’ 행사에서 자체 개발한 생성 AI 모델 \n",
      "‘삼성 가우스’를 최초 공개\n",
      "∙정규분포 이론을 정립한 천재 수학자 가우스(Gauss)의 이름을 본뜬 삼성 가우스는 다양한 상황에\n",
      "\n",
      ">>>>>>>>>>>>>>>>>>>>>>>>>>>>>>>>>>>>>>>>>>>>>>>>>>>>>>>>>>>>>>>>>>>>>>>>>>>>>>>>>>>>>>>>>>>>>>>>>>>>\n",
      "\n"
     ]
    }
   ],
   "execution_count": 16
  },
  {
   "metadata": {
    "ExecuteTime": {
     "end_time": "2025-04-08T11:04:33.301140Z",
     "start_time": "2025-04-08T11:04:32.526830Z"
    }
   },
   "cell_type": "code",
   "source": [
    "relevant_docs = retriever.invoke(\"삼성전자가 만든 생성형 AI의 이름은?\")\n",
    "print(f\"검색된 문서의 개수: {len(relevant_docs)}\", end=\"\\n\\n\")\n",
    "print(\"=\" * 100, end=\"\\n\\n\")\n",
    "print(relevant_docs[0].page_content)"
   ],
   "id": "e23c170153fe25ac",
   "outputs": [
    {
     "name": "stdout",
     "output_type": "stream",
     "text": [
      "검색된 문서의 개수: 2\n",
      "\n",
      "====================================================================================================\n",
      "\n",
      "SPRi AI Brief |  \n",
      "2023-12월호\n",
      "10\n",
      "삼성전자, 자체 개발 생성 AI ‘삼성 가우스’ 공개\n",
      "n 삼성전자가 온디바이스에서 작동 가능하며 언어, 코드, 이미지의 3개 모델로 구성된 자체 개발 생성 \n",
      "AI 모델 ‘삼성 가우스’를 공개\n",
      "n 삼성전자는 삼성 가우스를 다양한 제품에 단계적으로 탑재할 계획으로, 온디바이스 작동이 가능한 \n",
      "삼성 가우스는 외부로 사용자 정보가 유출될 위험이 없다는 장점을 보유\n",
      "KEY Contents\n",
      "£ 언어, 코드, 이미지의 3개 모델로 구성된 삼성 가우스, 온디바이스 작동 지원\n",
      "n 삼성전자가 2023년 11월 8일 열린 ‘삼성 AI 포럼 2023’ 행사에서 자체 개발한 생성 AI 모델 \n",
      "‘삼성 가우스’를 최초 공개\n",
      "∙정규분포 이론을 정립한 천재 수학자 가우스(Gauss)의 이름을 본뜬 삼성 가우스는 다양한 상황에 \n",
      "최적화된 크기의 모델 선택이 가능\n",
      "∙삼성 가우스는 라이선스나 개인정보를 침해하지 않는 안전한 데이터를 통해 학습되었으며, \n",
      "온디바이스에서 작동하도록 설계되어 외부로 사용자의 정보가 유출되지 않는 장점을 보유\n",
      "∙삼성전자는 삼성 가우스를 활용한 온디바이스 AI 기술도 소개했으며, 생성 AI 모델을 다양한 제품에 \n",
      "단계적으로 탑재할 계획\n",
      "n 삼성 가우스는 △텍스트를 생성하는 언어모델 △코드를 생성하는 코드 모델 △이미지를 생성하는 \n",
      "이미지 모델의 3개 모델로 구성\n",
      "∙언어 모델은 클라우드와 온디바이스 대상 다양한 모델로 구성되며, 메일 작성, 문서 요약, 번역 업무의 \n",
      "처리를 지원\n",
      "∙코드 모델 기반의 AI 코딩 어시스턴트 ‘코드아이(code.i)’는 대화형 인터페이스로 서비스를 제공하며 \n",
      "사내 소프트웨어 개발에 최적화\n",
      "∙이미지 모델은 창의적인 이미지를 생성하고 기존 이미지를 원하는 대로 바꿀 수 있도록 지원하며 \n",
      "저해상도 이미지의 고해상도 전환도 지원\n",
      "n IT 전문지 테크리퍼블릭(TechRepublic)은 온디바이스 AI가 주요 기술 트렌드로 부상했다며, \n",
      "2024년부터 가우스를 탑재한 삼성 스마트폰이 메타의 라마(Llama)2를 탑재한 퀄컴 기기 및 구글 \n",
      "어시스턴트를 적용한 구글 픽셀(Pixel)과 경쟁할 것으로 예상\n",
      "☞ 출처 : 삼성전자, ‘삼성 AI 포럼’서 자체 개발 생성형 AI ‘삼성 가우스’ 공개, 2023.11.08.\n",
      "삼성전자, ‘삼성 개발자 콘퍼런스 코리아 2023’ 개최, 2023.11.14.\n",
      "TechRepublic, Samsung Gauss: Samsung Research Reveals Generative AI, 2023.11.08.\n"
     ]
    }
   ],
   "execution_count": 17
  },
  {
   "metadata": {
    "ExecuteTime": {
     "end_time": "2025-04-08T11:06:17.154166Z",
     "start_time": "2025-04-08T11:06:16.348742Z"
    }
   },
   "cell_type": "code",
   "source": [
    "from langchain.retrievers.multi_vector import SearchType\n",
    "\n",
    "# 검색 유형을 MMR(Maximal Marginal Relevvance)로 설정\n",
    "retriever.search_type = SearchType.mmr\n",
    "\n",
    "# 관련 문서 전체를 검색\n",
    "print(retriever.invoke(\"삼성전자가 만든 생성형 AI 의 이름은?\")[0].page_content)"
   ],
   "id": "4e38346c962bd126",
   "outputs": [
    {
     "name": "stdout",
     "output_type": "stream",
     "text": [
      "SPRi AI Brief |  \n",
      "2023-12월호\n",
      "10\n",
      "삼성전자, 자체 개발 생성 AI ‘삼성 가우스’ 공개\n",
      "n 삼성전자가 온디바이스에서 작동 가능하며 언어, 코드, 이미지의 3개 모델로 구성된 자체 개발 생성 \n",
      "AI 모델 ‘삼성 가우스’를 공개\n",
      "n 삼성전자는 삼성 가우스를 다양한 제품에 단계적으로 탑재할 계획으로, 온디바이스 작동이 가능한 \n",
      "삼성 가우스는 외부로 사용자 정보가 유출될 위험이 없다는 장점을 보유\n",
      "KEY Contents\n",
      "£ 언어, 코드, 이미지의 3개 모델로 구성된 삼성 가우스, 온디바이스 작동 지원\n",
      "n 삼성전자가 2023년 11월 8일 열린 ‘삼성 AI 포럼 2023’ 행사에서 자체 개발한 생성 AI 모델 \n",
      "‘삼성 가우스’를 최초 공개\n",
      "∙정규분포 이론을 정립한 천재 수학자 가우스(Gauss)의 이름을 본뜬 삼성 가우스는 다양한 상황에 \n",
      "최적화된 크기의 모델 선택이 가능\n",
      "∙삼성 가우스는 라이선스나 개인정보를 침해하지 않는 안전한 데이터를 통해 학습되었으며, \n",
      "온디바이스에서 작동하도록 설계되어 외부로 사용자의 정보가 유출되지 않는 장점을 보유\n",
      "∙삼성전자는 삼성 가우스를 활용한 온디바이스 AI 기술도 소개했으며, 생성 AI 모델을 다양한 제품에 \n",
      "단계적으로 탑재할 계획\n",
      "n 삼성 가우스는 △텍스트를 생성하는 언어모델 △코드를 생성하는 코드 모델 △이미지를 생성하는 \n",
      "이미지 모델의 3개 모델로 구성\n",
      "∙언어 모델은 클라우드와 온디바이스 대상 다양한 모델로 구성되며, 메일 작성, 문서 요약, 번역 업무의 \n",
      "처리를 지원\n",
      "∙코드 모델 기반의 AI 코딩 어시스턴트 ‘코드아이(code.i)’는 대화형 인터페이스로 서비스를 제공하며 \n",
      "사내 소프트웨어 개발에 최적화\n",
      "∙이미지 모델은 창의적인 이미지를 생성하고 기존 이미지를 원하는 대로 바꿀 수 있도록 지원하며 \n",
      "저해상도 이미지의 고해상도 전환도 지원\n",
      "n IT 전문지 테크리퍼블릭(TechRepublic)은 온디바이스 AI가 주요 기술 트렌드로 부상했다며, \n",
      "2024년부터 가우스를 탑재한 삼성 스마트폰이 메타의 라마(Llama)2를 탑재한 퀄컴 기기 및 구글 \n",
      "어시스턴트를 적용한 구글 픽셀(Pixel)과 경쟁할 것으로 예상\n",
      "☞ 출처 : 삼성전자, ‘삼성 AI 포럼’서 자체 개발 생성형 AI ‘삼성 가우스’ 공개, 2023.11.08.\n",
      "삼성전자, ‘삼성 개발자 콘퍼런스 코리아 2023’ 개최, 2023.11.14.\n",
      "TechRepublic, Samsung Gauss: Samsung Research Reveals Generative AI, 2023.11.08.\n"
     ]
    }
   ],
   "execution_count": 18
  },
  {
   "metadata": {
    "ExecuteTime": {
     "end_time": "2025-04-08T11:06:35.651554Z",
     "start_time": "2025-04-08T11:06:34.603630Z"
    }
   },
   "cell_type": "code",
   "source": [
    "from langchain.retrievers.multi_vector import SearchType\n",
    "\n",
    "# 검색 유형을 similarity로 설정, k값을 1로 설정\n",
    "retriever.search_type = SearchType.similarity\n",
    "retriever.search_kwargs = {\"k\": 1}\n",
    "\n",
    "# 관련 문서 전체를 검색\n",
    "print(len(retriever.invoke(\"삼성전자가 만든 생성형 AI 의 이름은?\")))"
   ],
   "id": "bfb99f81d857c740",
   "outputs": [
    {
     "name": "stdout",
     "output_type": "stream",
     "text": [
      "1\n"
     ]
    }
   ],
   "execution_count": 19
  },
  {
   "metadata": {},
   "cell_type": "markdown",
   "source": "# 요약본(summary)을 벡터저장소에 저장",
   "id": "1ab76adf7a9be14d"
  },
  {
   "metadata": {
    "ExecuteTime": {
     "end_time": "2025-04-08T11:08:11.016226Z",
     "start_time": "2025-04-08T11:08:10.937884Z"
    }
   },
   "cell_type": "code",
   "source": [
    "from langchain_community.document_loaders import PyMuPDFLoader\n",
    "from langchain_text_splitters import RecursiveCharacterTextSplitter\n",
    "\n",
    "loader = PyMuPDFLoader(\"data/SPRI_AI_Brief_2023년12월호_F.pdf\")\n",
    "\n",
    "# 텍스트 분할\n",
    "text_splitter = RecursiveCharacterTextSplitter(chunk_size=600, chunk_overlap=50)\n",
    "\n",
    "# PDF 파일 로드 및 텍스트 분할 실행\n",
    "split_docs = loader.load_and_split(text_splitter)\n",
    "\n",
    "# 분할된 문서의 개수 출력\n",
    "print(f\"분할된 문서의 개수: {len(split_docs)}\")"
   ],
   "id": "deda3688b6e412dd",
   "outputs": [
    {
     "name": "stdout",
     "output_type": "stream",
     "text": [
      "분할된 문서의 개수: 61\n"
     ]
    }
   ],
   "execution_count": 20
  },
  {
   "metadata": {
    "ExecuteTime": {
     "end_time": "2025-04-08T11:09:11.365306Z",
     "start_time": "2025-04-08T11:09:10.650168Z"
    }
   },
   "cell_type": "code",
   "source": [
    "from langchain_core.documents import Document\n",
    "from langchain_core.output_parsers import StrOutputParser\n",
    "from langchain_core.prompts import ChatPromptTemplate\n",
    "from langchain_openai import ChatOpenAI\n",
    "\n",
    "summary_chain = (\n",
    "    {\"doc\": lambda x: x.page_content}\n",
    "    # 문서 요약을 위한 프롬프트 템플릿 생성\n",
    "    | ChatPromptTemplate.from_messages(\n",
    "        [\n",
    "            (\"system\", \"You are an expert in summarizing documents in Korean.\"),\n",
    "            (\n",
    "                \"user\",\n",
    "                \"Summarize the following documents in 3 sentences in bullet points format.\\n\\n{doc}\",\n",
    "            ),\n",
    "        ]\n",
    "    )\n",
    "    # OpenAI의 ChatGPT 모델을 사용하여 요약 생성\n",
    "    | ChatOpenAI(temperature=0, model=\"gpt-4o-mini\")\n",
    "    | StrOutputParser()\n",
    ")"
   ],
   "id": "8fe68fbee2cc7360",
   "outputs": [],
   "execution_count": 21
  },
  {
   "metadata": {
    "ExecuteTime": {
     "end_time": "2025-04-08T11:09:41.044308Z",
     "start_time": "2025-04-08T11:09:16.962861Z"
    }
   },
   "cell_type": "code",
   "source": [
    "# 문서 배치 처리\n",
    "summaries = summary_chain.batch(split_docs, {\"max_concurrency\": 10})"
   ],
   "id": "4579ecd6b85c2990",
   "outputs": [],
   "execution_count": 22
  },
  {
   "metadata": {
    "ExecuteTime": {
     "end_time": "2025-04-08T11:09:41.053302Z",
     "start_time": "2025-04-08T11:09:41.049316Z"
    }
   },
   "cell_type": "code",
   "source": "len(summaries)",
   "id": "a70cc084031d77bd",
   "outputs": [
    {
     "data": {
      "text/plain": [
       "61"
      ]
     },
     "execution_count": 23,
     "metadata": {},
     "output_type": "execute_result"
    }
   ],
   "execution_count": 23
  },
  {
   "metadata": {
    "ExecuteTime": {
     "end_time": "2025-04-08T11:09:42.306535Z",
     "start_time": "2025-04-08T11:09:42.302516Z"
    }
   },
   "cell_type": "code",
   "source": [
    "# 원본 문서의 내용을 출력합니다.\n",
    "print(split_docs[33].page_content, end=\"\\n\\n\")\n",
    "# 요약을 출력합니다.\n",
    "print(\"[요약]\")\n",
    "print(summaries[33])"
   ],
   "id": "28789b22efd1eccc",
   "outputs": [
    {
     "name": "stdout",
     "output_type": "stream",
     "text": [
      "SPRi AI Brief |  \n",
      "2023-12월호\n",
      "10\n",
      "삼성전자, 자체 개발 생성 AI ‘삼성 가우스’ 공개\n",
      "n 삼성전자가 온디바이스에서 작동 가능하며 언어, 코드, 이미지의 3개 모델로 구성된 자체 개발 생성 \n",
      "AI 모델 ‘삼성 가우스’를 공개\n",
      "n 삼성전자는 삼성 가우스를 다양한 제품에 단계적으로 탑재할 계획으로, 온디바이스 작동이 가능한 \n",
      "삼성 가우스는 외부로 사용자 정보가 유출될 위험이 없다는 장점을 보유\n",
      "KEY Contents\n",
      "£ 언어, 코드, 이미지의 3개 모델로 구성된 삼성 가우스, 온디바이스 작동 지원\n",
      "n 삼성전자가 2023년 11월 8일 열린 ‘삼성 AI 포럼 2023’ 행사에서 자체 개발한 생성 AI 모델 \n",
      "‘삼성 가우스’를 최초 공개\n",
      "∙정규분포 이론을 정립한 천재 수학자 가우스(Gauss)의 이름을 본뜬 삼성 가우스는 다양한 상황에 \n",
      "최적화된 크기의 모델 선택이 가능\n",
      "∙삼성 가우스는 라이선스나 개인정보를 침해하지 않는 안전한 데이터를 통해 학습되었으며, \n",
      "온디바이스에서 작동하도록 설계되어 외부로 사용자의 정보가 유출되지 않는 장점을 보유\n",
      "∙삼성전자는 삼성 가우스를 활용한 온디바이스 AI 기술도 소개했으며, 생성 AI 모델을 다양한 제품에\n",
      "\n",
      "[요약]\n",
      "- 삼성전자가 온디바이스에서 작동 가능한 생성 AI 모델 '삼성 가우스'를 공개하였으며, 이는 언어, 코드, 이미지의 3개 모델로 구성되어 있다.\n",
      "- '삼성 가우스'는 정규분포 이론을 정립한 수학자 가우스의 이름을 따왔으며, 다양한 상황에 최적화된 모델 선택이 가능하다.\n",
      "- 삼성전자는 이 AI 모델이 사용자 정보를 외부로 유출하지 않도록 설계되었으며, 향후 다양한 제품에 단계적으로 탑재할 계획이다.\n"
     ]
    }
   ],
   "execution_count": 24
  },
  {
   "metadata": {
    "ExecuteTime": {
     "end_time": "2025-04-08T11:15:47.484106Z",
     "start_time": "2025-04-08T11:15:46.703214Z"
    }
   },
   "cell_type": "code",
   "source": [
    "import uuid\n",
    "\n",
    "# 요약 정보를 저장할 벡터 저장소를 생성\n",
    "summary_vectorstore = Chroma(\n",
    "    collection_name=\"summaries\",\n",
    "    embedding_function=OpenAIEmbeddings(model=\"text-embedding-3-small\")\n",
    ")\n",
    "\n",
    "# 부모 문서를 저장할 저장소를 새엇ㅇ\n",
    "store = InMemoryStore()\n",
    "\n",
    "# 문서 ID를 저장할 키 이름을 지정\n",
    "id_key = \"doc_id\"\n",
    "\n",
    "# 검색기를 초기화\n",
    "retriever = MultiVectorRetriever(\n",
    "    vectorstore=summary_vectorstore,\n",
    "    id_key=id_key,\n",
    "    byte_store=store,\n",
    ")\n",
    "\n",
    "# 문서 ID를 생성\n",
    "doc_ids = [str(uuid.uuid4()) for _ in split_docs]"
   ],
   "id": "e3cb1799fd311e84",
   "outputs": [],
   "execution_count": 33
  },
  {
   "metadata": {
    "ExecuteTime": {
     "end_time": "2025-04-08T11:15:53.086737Z",
     "start_time": "2025-04-08T11:15:53.082655Z"
    }
   },
   "cell_type": "code",
   "source": [
    "summary_docs = [\n",
    "    # 요약된 내용을 페이지 콘텐츠로 하고, 문서 ID를 메타데이터로 포함하는 Document 객체를 생성합니다.\n",
    "    Document(page_content=s, metadata={id_key: doc_ids[i]})\n",
    "    for i, s in enumerate(summaries)\n",
    "]"
   ],
   "id": "d35ae33e8ca30968",
   "outputs": [],
   "execution_count": 35
  },
  {
   "metadata": {
    "ExecuteTime": {
     "end_time": "2025-04-08T11:16:05.243794Z",
     "start_time": "2025-04-08T11:16:05.239419Z"
    }
   },
   "cell_type": "code",
   "source": [
    "# 요약본의 문서의 개수\n",
    "len(summary_docs)"
   ],
   "id": "659f5115c6ef20ec",
   "outputs": [
    {
     "data": {
      "text/plain": [
       "61"
      ]
     },
     "execution_count": 37,
     "metadata": {},
     "output_type": "execute_result"
    }
   ],
   "execution_count": 37
  },
  {
   "metadata": {
    "ExecuteTime": {
     "end_time": "2025-04-08T11:16:40.885846Z",
     "start_time": "2025-04-08T11:16:39.180888Z"
    }
   },
   "cell_type": "code",
   "source": [
    "retriever.vectorstore.add_documents(summary_docs)\n",
    "\n",
    "# 문서 ID와 문서를 매핑하여 문서 저장소에 저장\n",
    "retriever.docstore.mset(list(zip(doc_ids, summary_docs)))"
   ],
   "id": "6c0514266dadefb2",
   "outputs": [],
   "execution_count": 38
  },
  {
   "metadata": {
    "ExecuteTime": {
     "end_time": "2025-04-08T11:17:04.705117Z",
     "start_time": "2025-04-08T11:17:04.050933Z"
    }
   },
   "cell_type": "code",
   "source": [
    "# 유사도 검색을 수행\n",
    "result_docs = summary_vectorstore.similarity_search(\"삼성전자가 만든 생성형 AI의 이름은?\")"
   ],
   "id": "72aaf1efc0abfd2e",
   "outputs": [],
   "execution_count": 39
  },
  {
   "metadata": {
    "ExecuteTime": {
     "end_time": "2025-04-08T11:17:12.069952Z",
     "start_time": "2025-04-08T11:17:12.065181Z"
    }
   },
   "cell_type": "code",
   "source": "print(result_docs[0].page_content)",
   "id": "d2a844d985c24679",
   "outputs": [
    {
     "name": "stdout",
     "output_type": "stream",
     "text": [
      "- 삼성전자가 온디바이스에서 작동 가능한 생성 AI 모델 '삼성 가우스'를 공개하였으며, 이는 언어, 코드, 이미지의 3개 모델로 구성되어 있다.\n",
      "- '삼성 가우스'는 정규분포 이론을 정립한 수학자 가우스의 이름을 따왔으며, 다양한 상황에 최적화된 모델 선택이 가능하다.\n",
      "- 삼성전자는 이 AI 모델이 사용자 정보를 외부로 유출하지 않도록 설계되었으며, 향후 다양한 제품에 단계적으로 탑재할 계획이다.\n"
     ]
    }
   ],
   "execution_count": 40
  },
  {
   "metadata": {
    "ExecuteTime": {
     "end_time": "2025-04-08T11:17:28.266424Z",
     "start_time": "2025-04-08T11:17:27.725124Z"
    }
   },
   "cell_type": "code",
   "source": [
    "# 관련된 문서를 검색하여 가져옵니다.\n",
    "retrieved_docs = retriever.invoke(\"삼성전자가 만든 생성형 AI 의 이름은?\")\n",
    "print(retrieved_docs[0].page_content)"
   ],
   "id": "b60bccf8f3607999",
   "outputs": [
    {
     "name": "stdout",
     "output_type": "stream",
     "text": [
      "- 삼성전자가 온디바이스에서 작동 가능한 생성 AI 모델 '삼성 가우스'를 공개하였으며, 이는 언어, 코드, 이미지의 3개 모델로 구성되어 있다.\n",
      "- '삼성 가우스'는 정규분포 이론을 정립한 수학자 가우스의 이름을 따왔으며, 다양한 상황에 최적화된 모델 선택이 가능하다.\n",
      "- 삼성전자는 이 AI 모델이 사용자 정보를 외부로 유출하지 않도록 설계되었으며, 향후 다양한 제품에 단계적으로 탑재할 계획이다.\n"
     ]
    }
   ],
   "execution_count": 41
  },
  {
   "metadata": {},
   "cell_type": "markdown",
   "source": "# 가설 쿼리(Hypothetical Queries) 를 활용하여 문서 내용 탐색",
   "id": "f7cd53e38e48de33"
  },
  {
   "metadata": {
    "ExecuteTime": {
     "end_time": "2025-04-08T11:18:36.579208Z",
     "start_time": "2025-04-08T11:18:36.574763Z"
    }
   },
   "cell_type": "code",
   "source": [
    "functions = [\n",
    "    {\n",
    "        \"name\": \"hypothetical_questions\",  # 함수의 이름을 지정합니다.\n",
    "        \"description\": \"Generate hypothetical questions\",  # 함수에 대한 설명을 작성합니다.\n",
    "        \"parameters\": {  # 함수의 매개변수를 정의합니다.\n",
    "            \"type\": \"object\",  # 매개변수의 타입을 객체로 지정합니다.\n",
    "            \"properties\": {  # 객체의 속성을 정의합니다.\n",
    "                \"questions\": {  # 'questions' 속성을 정의합니다.\n",
    "                    \"type\": \"array\",  # 'questions'의 타입을 배열로 지정합니다.\n",
    "                    \"items\": {\n",
    "                        \"type\": \"string\"\n",
    "                    },  # 배열의 요소 타입을 문자열로 지정합니다.\n",
    "                },\n",
    "            },\n",
    "            \"required\": [\"questions\"],  # 필수 매개변수로 'questions'를 지정합니다.\n",
    "        },\n",
    "    }\n",
    "]"
   ],
   "id": "c2d6b3ffdca5873d",
   "outputs": [],
   "execution_count": 42
  },
  {
   "metadata": {
    "ExecuteTime": {
     "end_time": "2025-04-08T11:19:03.106877Z",
     "start_time": "2025-04-08T11:19:02.179081Z"
    }
   },
   "cell_type": "code",
   "source": [
    "from langchain_core.prompts import ChatPromptTemplate\n",
    "from langchain.output_parsers.openai_functions import JsonKeyOutputFunctionsParser\n",
    "from langchain_openai import ChatOpenAI\n",
    "\n",
    "hypothetical_query_chain = (\n",
    "    {\"doc\": lambda x: x.page_content}\n",
    "    # 아래 문서를 사용하여 답변할 수 있는 가상의 질문을 정확히 3개 생성하도록 요청합니다. 이 숫자는 조정될 수 있습니다.\n",
    "    | ChatPromptTemplate.from_template(\n",
    "        \"Generate a list of exactly 3 hypothetical questions that the below document could be used to answer. \"\n",
    "        \"Potential users are those interested in the AI industry. Create questions that they would be interested in. \"\n",
    "        \"Output should be written in Korean:\\n\\n{doc}\"\n",
    "    )\n",
    "    | ChatOpenAI(max_retries=0, model=\"gpt-4o-mini\").bind(\n",
    "        functions=functions, function_call={\"name\": \"hypothetical_questions\"}\n",
    "    )\n",
    "    # 출력에서 \"questions\" 키에 해당하는 값을 추출합니다.\n",
    "    | JsonKeyOutputFunctionsParser(key_name=\"questions\")\n",
    ")"
   ],
   "id": "4091f9c9a2e1ae44",
   "outputs": [],
   "execution_count": 43
  },
  {
   "metadata": {
    "ExecuteTime": {
     "end_time": "2025-04-08T11:19:11.809836Z",
     "start_time": "2025-04-08T11:19:10.111339Z"
    }
   },
   "cell_type": "code",
   "source": [
    "# 주어진 문서에 대해 체인을 실행합니다.\n",
    "hypothetical_query_chain.invoke(split_docs[33])"
   ],
   "id": "91f07e574caef556",
   "outputs": [
    {
     "data": {
      "text/plain": [
       "['삼성 가우스의 온디바이스 작동 기술이 AI 산업에 어떻게 혁신적인 변화를 가져올까요?',\n",
       " '삼성전자가 삼성 가우스의 출시를 통해 사용자 개인 정보 보호를 강화할 수 있는 방법은 무엇일까요?',\n",
       " '삼성 가우스의 언어, 코드, 이미지 모델이 특정 산업 분야에서 어떤 방식으로 활용될 수 있을까요?']"
      ]
     },
     "execution_count": 44,
     "metadata": {},
     "output_type": "execute_result"
    }
   ],
   "execution_count": 44
  },
  {
   "metadata": {
    "ExecuteTime": {
     "end_time": "2025-04-08T11:20:27.526403Z",
     "start_time": "2025-04-08T11:20:12.426073Z"
    }
   },
   "cell_type": "code",
   "source": [
    "# 문서 목록에 대해 가설 질문을 배치 생성\n",
    "hypothetical_questions = hypothetical_query_chain.batch(\n",
    "    split_docs, {\"max_concurrency\": 10}\n",
    ")"
   ],
   "id": "4ff57940609e3ea4",
   "outputs": [],
   "execution_count": 45
  },
  {
   "metadata": {
    "ExecuteTime": {
     "end_time": "2025-04-08T11:20:27.535110Z",
     "start_time": "2025-04-08T11:20:27.530675Z"
    }
   },
   "cell_type": "code",
   "source": "hypothetical_questions[33]",
   "id": "6abe3eb491e120b3",
   "outputs": [
    {
     "data": {
      "text/plain": [
       "['삼성 가우스가 기존 AI 기술과 비교하여 제공할 수 있는 주요 이점은 무엇일까요?',\n",
       " '삼성 가우스가 다른 기업의 AI 모델에 비해 사용자 개인 정보를 어떻게 더 안전하게 보호할 수 있을까요?',\n",
       " '온디바이스에서 작동하는 삼성 가우스가 소비자 및 기업 사용자에게 가져올 수 있는 잠재적인 변화는 무엇일까요?']"
      ]
     },
     "execution_count": 46,
     "metadata": {},
     "output_type": "execute_result"
    }
   ],
   "execution_count": 46
  },
  {
   "metadata": {
    "ExecuteTime": {
     "end_time": "2025-04-08T11:21:42.473342Z",
     "start_time": "2025-04-08T11:21:41.559903Z"
    }
   },
   "cell_type": "code",
   "source": [
    "# 자식 청크를 인덱싱하는 데 사용할 벡터 저장소\n",
    "hypothetical_vectorstore = Chroma(\n",
    "    collection_name=\"hypo-questions\",\n",
    "    embedding_function=OpenAIEmbeddings(model=\"text-embedding-3-small\")\n",
    ")\n",
    "\n",
    "# 부모 문서의 저장소 계층\n",
    "store = InMemoryStore()\n",
    "\n",
    "id_key = \"doc_id\"\n",
    "\n",
    "# 검색기\n",
    "retriever = MultiVectorRetriever(\n",
    "    vectorstore=hypothetical_vectorstore,\n",
    "    id_key=id_key,\n",
    "    byte_store=store,\n",
    ")\n",
    "doc_ids = [str(uuid.uuid4()) for _ in split_docs]"
   ],
   "id": "96ee1c7b6ef498e1",
   "outputs": [],
   "execution_count": 47
  },
  {
   "metadata": {
    "ExecuteTime": {
     "end_time": "2025-04-08T11:22:47.669179Z",
     "start_time": "2025-04-08T11:22:47.663312Z"
    }
   },
   "cell_type": "code",
   "source": [
    "question_docs = []\n",
    "# hypothetical_question 저장\n",
    "for i, question_list in enumerate(hypothetical_questions):\n",
    "    question_docs.extend(\n",
    "        # 질문 리스트의 각 질문에 대해 Document 객체를 생성하고, 메타데이터에 해당 질문의 문서ID를 포함\n",
    "        [Document(page_content=s, metadata={id_key: doc_ids[i]}) for s in question_list]\n",
    "    )"
   ],
   "id": "72bf99411baa64fe",
   "outputs": [],
   "execution_count": 48
  },
  {
   "metadata": {
    "ExecuteTime": {
     "end_time": "2025-04-08T11:23:30.548530Z",
     "start_time": "2025-04-08T11:23:28.445435Z"
    }
   },
   "cell_type": "code",
   "source": [
    "# hypothetical_questions 문서를 벡터 저장소에 추가\n",
    "retriever.vectorstore.add_documents(question_docs)\n",
    "\n",
    "# 문서 ID와 문서를 매핑하여 문서 저장소에 저장\n",
    "retriever.docstore.mset(list(zip(doc_ids, question_docs)))"
   ],
   "id": "65de29426f2474e9",
   "outputs": [],
   "execution_count": 49
  },
  {
   "metadata": {
    "ExecuteTime": {
     "end_time": "2025-04-08T11:23:57.205352Z",
     "start_time": "2025-04-08T11:23:56.365189Z"
    }
   },
   "cell_type": "code",
   "source": [
    "# 유사한 문서를 벡터 저장소에서 검색\n",
    "result_docs = hypothetical_vectorstore.similarity_search(\n",
    "    \"삼성전자가 만든 생성형AI 의 이름은?\"\n",
    ")"
   ],
   "id": "95c9a8a67375328",
   "outputs": [],
   "execution_count": 50
  },
  {
   "metadata": {
    "ExecuteTime": {
     "end_time": "2025-04-08T11:24:14.455701Z",
     "start_time": "2025-04-08T11:24:14.450859Z"
    }
   },
   "cell_type": "code",
   "source": [
    "# 유사도 검색 결과를 출력\n",
    "for doc in result_docs:\n",
    "    print(doc.page_content)\n",
    "    print(doc.metadata)"
   ],
   "id": "84146468ba325b4b",
   "outputs": [
    {
     "name": "stdout",
     "output_type": "stream",
     "text": [
      "삼성전자가 개발한 생성적 AI인 삼성 가우스의 주요 기능과 활용 사례는 무엇인가요?\n",
      "{'doc_id': 'a8944abf-45e8-42f3-9036-bff86dcc5083'}\n",
      "삼성전자에서 개발한 생성 AI '삼성 가우스'가 AI 시장에 미칠 잠재적인 영향은 무엇인가?\n",
      "{'doc_id': 'd219dfc6-6073-4fab-bb69-a60b4ea3830a'}\n",
      "삼성 가우스가 기존 AI 기술과 비교하여 제공할 수 있는 주요 이점은 무엇일까요?\n",
      "{'doc_id': 'c2d9ab6f-80db-4b18-b8ac-9b27d6f8147c'}\n",
      "2023년의 AI 산업 발전을 위해 삼성전자가 어떤 전략을 추진하고 있는지 알 수 있을까요?\n",
      "{'doc_id': 'a8944abf-45e8-42f3-9036-bff86dcc5083'}\n"
     ]
    }
   ],
   "execution_count": 51
  },
  {
   "metadata": {
    "ExecuteTime": {
     "end_time": "2025-04-08T11:24:21.361916Z",
     "start_time": "2025-04-08T11:24:20.412379Z"
    }
   },
   "cell_type": "code",
   "source": [
    "# 관련된 문서를 검색하여 가져옵니다.\n",
    "retrieved_docs = retriever.invoke(result_docs[1].page_content)\n",
    "\n",
    "# 검색된 문서를 출력합니다.\n",
    "for doc in retrieved_docs:\n",
    "    print(doc.page_content)"
   ],
   "id": "20bf10120d3b2cef",
   "outputs": [
    {
     "name": "stdout",
     "output_type": "stream",
     "text": [
      "AI 윤리에 대한 최근 연구 결과는 어떤 것들이 있으며, 그 의미는 무엇인가?\n",
      "기후 위기와 세계적 난제를 해결하는 데 AI 기술이 어떻게 기여할 수 있으며, 이를 위한 정책적 지원은 어떤 형태일까?\n",
      "AI 거버넌스 정책이 효과적으로 구현될 경우, AI 시스템에서 발생할 수 있는 사회적 위험을 어떻게 완화할 수 있을까?\n"
     ]
    }
   ],
   "execution_count": 52
  }
 ],
 "metadata": {
  "kernelspec": {
   "display_name": "Python 3",
   "language": "python",
   "name": "python3"
  },
  "language_info": {
   "codemirror_mode": {
    "name": "ipython",
    "version": 2
   },
   "file_extension": ".py",
   "mimetype": "text/x-python",
   "name": "python",
   "nbconvert_exporter": "python",
   "pygments_lexer": "ipython2",
   "version": "2.7.6"
  }
 },
 "nbformat": 4,
 "nbformat_minor": 5
}
