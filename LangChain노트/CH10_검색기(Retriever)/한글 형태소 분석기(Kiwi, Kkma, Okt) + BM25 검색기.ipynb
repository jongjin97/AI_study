{
 "cells": [
  {
   "cell_type": "code",
   "id": "initial_id",
   "metadata": {
    "collapsed": true,
    "ExecuteTime": {
     "end_time": "2025-04-08T13:27:58.252348Z",
     "start_time": "2025-04-08T13:27:58.248498Z"
    }
   },
   "source": [
    "# 깔끔하게 출력결과를 확인하기 위한 함수\n",
    "def pretty_print(docs):\n",
    "    for i, doc in enumerate(docs):\n",
    "        if \"score\" in doc.metadata:\n",
    "            print(f\"[{i+1}] {doc.page_content} ({doc.metadata['score']:.4f})\")\n",
    "        else:\n",
    "            print(f\"[{i+1}] {doc.page_content}\")"
   ],
   "outputs": [],
   "execution_count": 3
  },
  {
   "metadata": {},
   "cell_type": "markdown",
   "source": "# Kiwi 토크나이저를 이용한 BM25Retriever",
   "id": "d8db9c1b91ccb8ea"
  },
  {
   "metadata": {
    "ExecuteTime": {
     "end_time": "2025-04-08T13:28:16.719199Z",
     "start_time": "2025-04-08T13:28:14.476283Z"
    }
   },
   "cell_type": "code",
   "source": [
    "# 비교를 위한 BM25Retriever\n",
    "from langchain_community.retrievers import BM25Retriever\n",
    "\n",
    "# 커스텀 구현한 한국어 형태소 분석기(Kiwi)를 사용한 BM25Retriever\n",
    "from langchain_teddynote.retrievers import KiwiBM25Retriever\n",
    "\n",
    "sample_texts = [\n",
    "    \"금융보험은 장기적인 자산 관리와 위험 대비를 목적으로 고안된 금융 상품입니다.\",\n",
    "    \"금융저축산물보험은 장기적인 저축 목적과 더불어, 축산물 제공 기능을 갖추고 있는 특별 금융 상품입니다.\",\n",
    "    \"금융보씨 험한말 좀 하지마시고, 저축이나 좀 하시던가요. 뭐가 그리 급하신지 모르겠네요.\",\n",
    "    \"금융단폭격보험은 저축은 커녕 위험 대비에 초점을 맞춘 상품입니다. 높은 위험을 감수하고자 하는 고객에게 적합합니다.\",\n",
    "]"
   ],
   "id": "818624556a1f90d8",
   "outputs": [],
   "execution_count": 4
  },
  {
   "metadata": {
    "ExecuteTime": {
     "end_time": "2025-04-08T13:28:25.582104Z",
     "start_time": "2025-04-08T13:28:24.376007Z"
    }
   },
   "cell_type": "code",
   "source": [
    "# 리트리버를 생성합니다.\n",
    "kiwi = KiwiBM25Retriever.from_texts(sample_texts)"
   ],
   "id": "fccff6993e661269",
   "outputs": [],
   "execution_count": 5
  },
  {
   "metadata": {
    "ExecuteTime": {
     "end_time": "2025-04-08T13:28:31.895402Z",
     "start_time": "2025-04-08T13:28:31.878107Z"
    }
   },
   "cell_type": "code",
   "source": [
    "# 유사도 검색을 수행합니다.\n",
    "pretty_print(kiwi.invoke(\"금융보험\"))"
   ],
   "id": "57b7cc9e5a9f5669",
   "outputs": [
    {
     "name": "stdout",
     "output_type": "stream",
     "text": [
      "[1] 금융보험은 장기적인 자산 관리와 위험 대비를 목적으로 고안된 금융 상품입니다.\n",
      "[2] 금융저축산물보험은 장기적인 저축 목적과 더불어, 축산물 제공 기능을 갖추고 있는 특별 금융 상품입니다.\n",
      "[3] 금융단폭격보험은 저축은 커녕 위험 대비에 초점을 맞춘 상품입니다. 높은 위험을 감수하고자 하는 고객에게 적합합니다.\n",
      "[4] 금융보씨 험한말 좀 하지마시고, 저축이나 좀 하시던가요. 뭐가 그리 급하신지 모르겠네요.\n"
     ]
    }
   ],
   "execution_count": 6
  },
  {
   "metadata": {
    "ExecuteTime": {
     "end_time": "2025-04-08T13:28:59.182686Z",
     "start_time": "2025-04-08T13:28:59.176537Z"
    }
   },
   "cell_type": "code",
   "source": [
    "# 유사도 검색을 수행합니다.\n",
    "pretty_print(kiwi.search_with_score(\"금융보험\"))"
   ],
   "id": "65388e5f2dbe14f6",
   "outputs": [
    {
     "name": "stdout",
     "output_type": "stream",
     "text": [
      "[1] 금융보험은 장기적인 자산 관리와 위험 대비를 목적으로 고안된 금융 상품입니다. (0.2673)\n",
      "[2] 금융저축산물보험은 장기적인 저축 목적과 더불어, 축산물 제공 기능을 갖추고 있는 특별 금융 상품입니다. (0.2616)\n",
      "[3] 금융단폭격보험은 저축은 커녕 위험 대비에 초점을 맞춘 상품입니다. 높은 위험을 감수하고자 하는 고객에게 적합합니다. (0.2463)\n",
      "[4] 금융보씨 험한말 좀 하지마시고, 저축이나 좀 하시던가요. 뭐가 그리 급하신지 모르겠네요. (0.2248)\n"
     ]
    }
   ],
   "execution_count": 7
  },
  {
   "metadata": {
    "ExecuteTime": {
     "end_time": "2025-04-08T13:29:19.481575Z",
     "start_time": "2025-04-08T13:29:19.475781Z"
    }
   },
   "cell_type": "code",
   "source": [
    "bm25 = BM25Retriever.from_texts(sample_texts)\n",
    "\n",
    "# BM25 KiwiBM25 비교\n",
    "print(f'Kiwi:  \\t {kiwi.invoke(\"금융보험\")[0].page_content}')\n",
    "print(f'BM25:  \\t {bm25.invoke(\"금융보험\")[0].page_content}')"
   ],
   "id": "d4aa784a1650b867",
   "outputs": [
    {
     "name": "stdout",
     "output_type": "stream",
     "text": [
      "Kiwi:  \t 금융보험은 장기적인 자산 관리와 위험 대비를 목적으로 고안된 금융 상품입니다.\n",
      "BM25:  \t 금융단폭격보험은 저축은 커녕 위험 대비에 초점을 맞춘 상품입니다. 높은 위험을 감수하고자 하는 고객에게 적합합니다.\n"
     ]
    }
   ],
   "execution_count": 8
  },
  {
   "metadata": {
    "ExecuteTime": {
     "end_time": "2025-04-08T13:29:32.740421Z",
     "start_time": "2025-04-08T13:29:32.732333Z"
    }
   },
   "cell_type": "code",
   "source": [
    "# 리트리버를 생성합니다.\n",
    "kiwi = KiwiBM25Retriever.from_texts(sample_texts)\n",
    "kiwi.k = 2\n",
    "# 유사도 검색을 수행합니다.\n",
    "pretty_print(kiwi.search_with_score(\"금융보험\"))"
   ],
   "id": "3b4a4184013b9a56",
   "outputs": [
    {
     "name": "stdout",
     "output_type": "stream",
     "text": [
      "[1] 금융보험은 장기적인 자산 관리와 위험 대비를 목적으로 고안된 금융 상품입니다. (0.2673)\n",
      "[2] 금융저축산물보험은 장기적인 저축 목적과 더불어, 축산물 제공 기능을 갖추고 있는 특별 금융 상품입니다. (0.2616)\n"
     ]
    }
   ],
   "execution_count": 9
  }
 ],
 "metadata": {
  "kernelspec": {
   "display_name": "Python 3",
   "language": "python",
   "name": "python3"
  },
  "language_info": {
   "codemirror_mode": {
    "name": "ipython",
    "version": 2
   },
   "file_extension": ".py",
   "mimetype": "text/x-python",
   "name": "python",
   "nbconvert_exporter": "python",
   "pygments_lexer": "ipython2",
   "version": "2.7.6"
  }
 },
 "nbformat": 4,
 "nbformat_minor": 5
}
