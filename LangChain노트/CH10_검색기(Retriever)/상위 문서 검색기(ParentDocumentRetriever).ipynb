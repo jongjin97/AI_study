{
 "cells": [
  {
   "cell_type": "code",
   "id": "initial_id",
   "metadata": {
    "collapsed": true,
    "ExecuteTime": {
     "end_time": "2025-04-08T08:11:40.369028Z",
     "start_time": "2025-04-08T08:11:40.344482Z"
    }
   },
   "source": [
    "from dotenv import load_dotenv\n",
    "\n",
    "# API 키 정보 로드\n",
    "load_dotenv()"
   ],
   "outputs": [
    {
     "data": {
      "text/plain": [
       "True"
      ]
     },
     "execution_count": 1,
     "metadata": {},
     "output_type": "execute_result"
    }
   ],
   "execution_count": 1
  },
  {
   "metadata": {
    "ExecuteTime": {
     "end_time": "2025-04-08T08:11:43.386667Z",
     "start_time": "2025-04-08T08:11:43.377954Z"
    }
   },
   "cell_type": "code",
   "source": [
    "from langchain_teddynote import logging\n",
    "\n",
    "# 프로젝트 이름을 입력합니다.\n",
    "logging.langsmith(\"CH11-Retriever\")"
   ],
   "id": "e8d34aecb7ba97ae",
   "outputs": [
    {
     "name": "stdout",
     "output_type": "stream",
     "text": [
      "LangSmith 추적을 시작합니다.\n",
      "[프로젝트명]\n",
      "CH11-Retriever\n"
     ]
    }
   ],
   "execution_count": 2
  },
  {
   "metadata": {
    "ExecuteTime": {
     "end_time": "2025-04-08T08:11:53.743248Z",
     "start_time": "2025-04-08T08:11:48.048639Z"
    }
   },
   "cell_type": "code",
   "source": [
    "from langchain.storage import InMemoryStore\n",
    "from langchain_community.document_loaders import TextLoader\n",
    "from langchain_chroma import Chroma\n",
    "from langchain_openai import OpenAIEmbeddings\n",
    "from langchain_text_splitters import RecursiveCharacterTextSplitter\n",
    "from langchain.retrievers import ParentDocumentRetriever"
   ],
   "id": "9dcf18c77d188a77",
   "outputs": [],
   "execution_count": 3
  },
  {
   "metadata": {
    "ExecuteTime": {
     "end_time": "2025-04-08T08:12:23.148764Z",
     "start_time": "2025-04-08T08:12:23.136265Z"
    }
   },
   "cell_type": "code",
   "source": [
    "loaders = [\n",
    "    TextLoader(\"./data/appendix-keywords.txt\", encoding=\"utf-8\")\n",
    "]\n",
    "\n",
    "docs = []\n",
    "for loader in loaders:\n",
    "    docs.extend(loader.load())"
   ],
   "id": "4ff30e5dc3d68f70",
   "outputs": [],
   "execution_count": 4
  },
  {
   "metadata": {},
   "cell_type": "markdown",
   "source": "# 전체 문서 검색",
   "id": "8b91759eb1a40a61"
  },
  {
   "metadata": {
    "ExecuteTime": {
     "end_time": "2025-04-08T08:14:16.694696Z",
     "start_time": "2025-04-08T08:14:15.511659Z"
    }
   },
   "cell_type": "code",
   "source": [
    "# 자식 분할기를 생성\n",
    "child_splitter = RecursiveCharacterTextSplitter(chunk_size=200)\n",
    "\n",
    "# DB를 생성\n",
    "vectorstore = Chroma(\n",
    "    collection_name=\"full_documents\",\n",
    "    embedding_function=OpenAIEmbeddings(),\n",
    ")\n",
    "\n",
    "store = InMemoryStore()\n",
    "\n",
    "# Retriever를 생성\n",
    "retriever = ParentDocumentRetriever(\n",
    "    vectorstore=vectorstore,\n",
    "    child_splitter=child_splitter,\n",
    "    docstore=store,\n",
    ")"
   ],
   "id": "dd61d483bab114cc",
   "outputs": [],
   "execution_count": 5
  },
  {
   "metadata": {
    "ExecuteTime": {
     "end_time": "2025-04-08T08:15:07.592804Z",
     "start_time": "2025-04-08T08:15:06.192521Z"
    }
   },
   "cell_type": "code",
   "source": [
    "# 문서를 검색기에 추가. docs는 문서 목록, ids는 문서의 고유 식별자 목록\n",
    "retriever.add_documents(docs, ids=None, add_to_docstore=True)"
   ],
   "id": "7e5f5c23d6479ec3",
   "outputs": [],
   "execution_count": 6
  },
  {
   "metadata": {
    "ExecuteTime": {
     "end_time": "2025-04-08T08:15:29.233179Z",
     "start_time": "2025-04-08T08:15:29.228306Z"
    }
   },
   "cell_type": "code",
   "source": [
    "# 저장소의 모든 키를 리스트로 반환\n",
    "list(store.yield_keys())"
   ],
   "id": "13948327841b6328",
   "outputs": [
    {
     "data": {
      "text/plain": [
       "['39fed4c5-21be-482e-a4d9-f5b3d8acf7be']"
      ]
     },
     "execution_count": 7,
     "metadata": {},
     "output_type": "execute_result"
    }
   ],
   "execution_count": 7
  },
  {
   "metadata": {
    "ExecuteTime": {
     "end_time": "2025-04-08T08:15:52.225846Z",
     "start_time": "2025-04-08T08:15:51.575069Z"
    }
   },
   "cell_type": "code",
   "source": [
    "# 유사도 검색을 실행\n",
    "sub_docs = vectorstore.similarity_search(\"Word2Vec\")"
   ],
   "id": "4d96d117f7dbc623",
   "outputs": [],
   "execution_count": 8
  },
  {
   "metadata": {
    "ExecuteTime": {
     "end_time": "2025-04-08T08:16:12.936803Z",
     "start_time": "2025-04-08T08:16:12.932549Z"
    }
   },
   "cell_type": "code",
   "source": [
    "# sub_docs 리스트의 첫 번째 요소의  page_content 속성을 출력\n",
    "print(sub_docs[0].page_content)"
   ],
   "id": "3a4be06b5b333588",
   "outputs": [
    {
     "name": "stdout",
     "output_type": "stream",
     "text": [
      "정의: Word2Vec은 단어를 벡터 공간에 매핑하여 단어 간의 의미적 관계를 나타내는 자연어 처리 기술입니다. 이는 단어의 문맥적 유사성을 기반으로 벡터를 생성합니다.\n",
      "예시: Word2Vec 모델에서 \"왕\"과 \"여왕\"은 서로 가까운 위치에 벡터로 표현됩니다.\n",
      "연관키워드: 자연어 처리, 임베딩, 의미론적 유사성\n"
     ]
    }
   ],
   "execution_count": 9
  },
  {
   "metadata": {
    "ExecuteTime": {
     "end_time": "2025-04-08T08:16:37.488635Z",
     "start_time": "2025-04-08T08:16:36.994535Z"
    }
   },
   "cell_type": "code",
   "source": [
    "# 문서를 검색하여 가져옵니다.\n",
    "retrieved_docs = retriever.invoke(\"Word2Vec\")"
   ],
   "id": "ee77a7625ef5a9ec",
   "outputs": [],
   "execution_count": 10
  },
  {
   "metadata": {
    "ExecuteTime": {
     "end_time": "2025-04-08T08:16:42.327315Z",
     "start_time": "2025-04-08T08:16:42.322156Z"
    }
   },
   "cell_type": "code",
   "source": [
    "# 검색된 문서의 문서의 페이지 내용의 길이를 출력합니다.\n",
    "print(\n",
    "    f\"문서의 길이: {len(retrieved_docs[0].page_content)}\",\n",
    "    end=\"\\n\\n=====================\\n\\n\",\n",
    ")\n",
    "\n",
    "# 문서의 일부를 출력합니다.\n",
    "print(retrieved_docs[0].page_content[2000:2500])"
   ],
   "id": "184a04bd73bdb356",
   "outputs": [
    {
     "name": "stdout",
     "output_type": "stream",
     "text": [
      "문서의 길이: 5733\n",
      "\n",
      "=====================\n",
      "\n",
      " 컴퓨팅을 도입하여 데이터 저장과 처리를 혁신하는 것은 디지털 변환의 예입니다.\n",
      "연관키워드: 혁신, 기술, 비즈니스 모델\n",
      "\n",
      "Crawling\n",
      "\n",
      "정의: 크롤링은 자동화된 방식으로 웹 페이지를 방문하여 데이터를 수집하는 과정입니다. 이는 검색 엔진 최적화나 데이터 분석에 자주 사용됩니다.\n",
      "예시: 구글 검색 엔진이 인터넷 상의 웹사이트를 방문하여 콘텐츠를 수집하고 인덱싱하는 것이 크롤링입니다.\n",
      "연관키워드: 데이터 수집, 웹 스크래핑, 검색 엔진\n",
      "\n",
      "Word2Vec\n",
      "\n",
      "정의: Word2Vec은 단어를 벡터 공간에 매핑하여 단어 간의 의미적 관계를 나타내는 자연어 처리 기술입니다. 이는 단어의 문맥적 유사성을 기반으로 벡터를 생성합니다.\n",
      "예시: Word2Vec 모델에서 \"왕\"과 \"여왕\"은 서로 가까운 위치에 벡터로 표현됩니다.\n",
      "연관키워드: 자연어 처리, 임베딩, 의미론적 유사성\n",
      "LLM (Large Language Model)\n",
      "\n",
      "정의: LLM은 대규모의 텍스트 데이터로 훈련된 큰 규모의 언어 모델을\n"
     ]
    }
   ],
   "execution_count": 11
  },
  {
   "metadata": {},
   "cell_type": "markdown",
   "source": "# 더 큰 Chunk 의 크기를 조절",
   "id": "d42213ce5e92b0d6"
  },
  {
   "metadata": {
    "ExecuteTime": {
     "end_time": "2025-04-08T08:18:33.491903Z",
     "start_time": "2025-04-08T08:18:32.633037Z"
    }
   },
   "cell_type": "code",
   "source": [
    "# 부모 문서를 생성하는 데 사용되는 텍스트 분할기\n",
    "parent_splitter = RecursiveCharacterTextSplitter(chunk_size=1000)\n",
    "\n",
    "# 자식 문서를 생성하는데 사용되는 텍스트 분할기\n",
    "# 부모보다 작은 문서를 생성\n",
    "child_splitter = RecursiveCharacterTextSplitter(chunk_size=200)\n",
    "\n",
    "# 자식 청크를 인덱싱하는데 사용할 벡터 저장소\n",
    "vectorstore = Chroma(\n",
    "    collection_name=\"split_parent\",\n",
    "    embedding_function=OpenAIEmbeddings(),\n",
    ")\n",
    "\n",
    "# 부모 문서의 저장 계층\n",
    "store = InMemoryStore()"
   ],
   "id": "8051ade107b59e29",
   "outputs": [],
   "execution_count": 12
  },
  {
   "metadata": {
    "ExecuteTime": {
     "end_time": "2025-04-08T08:19:06.838174Z",
     "start_time": "2025-04-08T08:19:06.833387Z"
    }
   },
   "cell_type": "code",
   "source": [
    "retriever = ParentDocumentRetriever(\n",
    "    vectorstore=vectorstore,\n",
    "    child_splitter=child_splitter,\n",
    "    docstore=store,\n",
    "    parent_splitter=parent_splitter,\n",
    ")"
   ],
   "id": "f8574e102bfbfb85",
   "outputs": [],
   "execution_count": 13
  },
  {
   "metadata": {
    "ExecuteTime": {
     "end_time": "2025-04-08T08:19:15.452871Z",
     "start_time": "2025-04-08T08:19:13.717052Z"
    }
   },
   "cell_type": "code",
   "source": "retriever.add_documents(docs)",
   "id": "8a9b71a9f83d3da7",
   "outputs": [],
   "execution_count": 14
  },
  {
   "metadata": {
    "ExecuteTime": {
     "end_time": "2025-04-08T08:19:32.650918Z",
     "start_time": "2025-04-08T08:19:32.645513Z"
    }
   },
   "cell_type": "code",
   "source": [
    "# 저장소에서 키를 생성하고 리스트로 변환한 후 길이를 반환\n",
    "len(list(store.yield_keys()))"
   ],
   "id": "724d36365ae39868",
   "outputs": [
    {
     "data": {
      "text/plain": [
       "7"
      ]
     },
     "execution_count": 15,
     "metadata": {},
     "output_type": "execute_result"
    }
   ],
   "execution_count": 15
  },
  {
   "metadata": {
    "ExecuteTime": {
     "end_time": "2025-04-08T08:19:49.712622Z",
     "start_time": "2025-04-08T08:19:48.961364Z"
    }
   },
   "cell_type": "code",
   "source": [
    "# 유사도 검색을 수행\n",
    "sub_docs = vectorstore.similarity_search(\"Word2Vec\")\n"
   ],
   "id": "b4fc6e746a7fbed5",
   "outputs": [],
   "execution_count": 16
  },
  {
   "metadata": {
    "ExecuteTime": {
     "end_time": "2025-04-08T08:20:07.739313Z",
     "start_time": "2025-04-08T08:20:07.734547Z"
    }
   },
   "cell_type": "code",
   "source": [
    "# sub_docs 리스트이 첫 번째 요소의 page_content 속성을 출력\n",
    "print(sub_docs[0].page_content)"
   ],
   "id": "c811f2710700a2f4",
   "outputs": [
    {
     "name": "stdout",
     "output_type": "stream",
     "text": [
      "정의: Word2Vec은 단어를 벡터 공간에 매핑하여 단어 간의 의미적 관계를 나타내는 자연어 처리 기술입니다. 이는 단어의 문맥적 유사성을 기반으로 벡터를 생성합니다.\n",
      "예시: Word2Vec 모델에서 \"왕\"과 \"여왕\"은 서로 가까운 위치에 벡터로 표현됩니다.\n",
      "연관키워드: 자연어 처리, 임베딩, 의미론적 유사성\n"
     ]
    }
   ],
   "execution_count": 17
  },
  {
   "metadata": {
    "ExecuteTime": {
     "end_time": "2025-04-08T08:20:44.188823Z",
     "start_time": "2025-04-08T08:20:43.867944Z"
    }
   },
   "cell_type": "code",
   "source": [
    "# 문서를 검새갛여 가져옴\n",
    "retrieved_docs = retriever.invoke(\"Word2Vec\")\n",
    "\n",
    "# 검색된 문서의 첫 번째 문서의 페이지 내용의 길이를 반환\n",
    "print(retrieved_docs[0].page_content)"
   ],
   "id": "3dfb122d5706e17b",
   "outputs": [
    {
     "name": "stdout",
     "output_type": "stream",
     "text": [
      "정의: 트랜스포머는 자연어 처리에서 사용되는 딥러닝 모델의 한 유형으로, 주로 번역, 요약, 텍스트 생성 등에 사용됩니다. 이는 Attention 메커니즘을 기반으로 합니다.\n",
      "예시: 구글 번역기는 트랜스포머 모델을 사용하여 다양한 언어 간의 번역을 수행합니다.\n",
      "연관키워드: 딥러닝, 자연어 처리, Attention\n",
      "\n",
      "HuggingFace\n",
      "\n",
      "정의: HuggingFace는 자연어 처리를 위한 다양한 사전 훈련된 모델과 도구를 제공하는 라이브러리입니다. 이는 연구자와 개발자들이 쉽게 NLP 작업을 수행할 수 있도록 돕습니다.\n",
      "예시: HuggingFace의 Transformers 라이브러리를 사용하여 감정 분석, 텍스트 생성 등의 작업을 수행할 수 있습니다.\n",
      "연관키워드: 자연어 처리, 딥러닝, 라이브러리\n",
      "\n",
      "Digital Transformation\n",
      "\n",
      "정의: 디지털 변환은 기술을 활용하여 기업의 서비스, 문화, 운영을 혁신하는 과정입니다. 이는 비즈니스 모델을 개선하고 디지털 기술을 통해 경쟁력을 높이는 데 중점을 둡니다.\n",
      "예시: 기업이 클라우드 컴퓨팅을 도입하여 데이터 저장과 처리를 혁신하는 것은 디지털 변환의 예입니다.\n",
      "연관키워드: 혁신, 기술, 비즈니스 모델\n",
      "\n",
      "Crawling\n",
      "\n",
      "정의: 크롤링은 자동화된 방식으로 웹 페이지를 방문하여 데이터를 수집하는 과정입니다. 이는 검색 엔진 최적화나 데이터 분석에 자주 사용됩니다.\n",
      "예시: 구글 검색 엔진이 인터넷 상의 웹사이트를 방문하여 콘텐츠를 수집하고 인덱싱하는 것이 크롤링입니다.\n",
      "연관키워드: 데이터 수집, 웹 스크래핑, 검색 엔진\n",
      "\n",
      "Word2Vec\n",
      "\n",
      "정의: Word2Vec은 단어를 벡터 공간에 매핑하여 단어 간의 의미적 관계를 나타내는 자연어 처리 기술입니다. 이는 단어의 문맥적 유사성을 기반으로 벡터를 생성합니다.\n",
      "예시: Word2Vec 모델에서 \"왕\"과 \"여왕\"은 서로 가까운 위치에 벡터로 표현됩니다.\n",
      "연관키워드: 자연어 처리, 임베딩, 의미론적 유사성\n",
      "LLM (Large Language Model)\n"
     ]
    }
   ],
   "execution_count": 18
  },
  {
   "metadata": {},
   "cell_type": "code",
   "outputs": [],
   "execution_count": null,
   "source": "",
   "id": "ab9b6702b273ebb6"
  }
 ],
 "metadata": {
  "kernelspec": {
   "display_name": "Python 3",
   "language": "python",
   "name": "python3"
  },
  "language_info": {
   "codemirror_mode": {
    "name": "ipython",
    "version": 2
   },
   "file_extension": ".py",
   "mimetype": "text/x-python",
   "name": "python",
   "nbconvert_exporter": "python",
   "pygments_lexer": "ipython2",
   "version": "2.7.6"
  }
 },
 "nbformat": 4,
 "nbformat_minor": 5
}
