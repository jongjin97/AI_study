{
 "cells": [
  {
   "cell_type": "code",
   "id": "initial_id",
   "metadata": {
    "collapsed": true,
    "ExecuteTime": {
     "end_time": "2025-04-08T13:14:08.931974Z",
     "start_time": "2025-04-08T13:14:08.909828Z"
    }
   },
   "source": [
    "from dotenv import load_dotenv\n",
    "from nltk.twitter.twitter_demo import yesterday\n",
    "\n",
    "# API 키 정보 로드\n",
    "load_dotenv()"
   ],
   "outputs": [
    {
     "data": {
      "text/plain": [
       "True"
      ]
     },
     "execution_count": 1,
     "metadata": {},
     "output_type": "execute_result"
    }
   ],
   "execution_count": 1
  },
  {
   "metadata": {
    "ExecuteTime": {
     "end_time": "2025-04-08T13:14:13.817296Z",
     "start_time": "2025-04-08T13:14:13.807773Z"
    }
   },
   "cell_type": "code",
   "source": [
    "from langchain_teddynote import logging\n",
    "\n",
    "# 프로젝트 이름을 입력합니다.\n",
    "logging.langsmith(\"CH11-Retriever\")\n"
   ],
   "id": "fe2a89e9f842133",
   "outputs": [
    {
     "name": "stdout",
     "output_type": "stream",
     "text": [
      "LangSmith 추적을 시작합니다.\n",
      "[프로젝트명]\n",
      "CH11-Retriever\n"
     ]
    }
   ],
   "execution_count": 2
  },
  {
   "metadata": {},
   "cell_type": "markdown",
   "source": "# 낮은 감쇠율(low decay_rate)",
   "id": "20ed35ab0672df07"
  },
  {
   "metadata": {
    "ExecuteTime": {
     "end_time": "2025-04-08T13:17:51.095188Z",
     "start_time": "2025-04-08T13:17:46.776640Z"
    }
   },
   "cell_type": "code",
   "source": [
    "from datetime import datetime, timedelta\n",
    "\n",
    "import faiss\n",
    "from langchain.docstore import InMemoryDocstore\n",
    "from langchain.retrievers import TimeWeightedVectorStoreRetriever\n",
    "from langchain_community.vectorstores import FAISS\n",
    "from langchain_core.documents import Document\n",
    "from langchain_openai import OpenAIEmbeddings\n",
    "\n",
    "# 임베딩 모델을 정의\n",
    "embeddings_model = OpenAIEmbeddings()\n",
    "\n",
    "# 벡터 저장소를 빈 상태로 초기화\n",
    "embedding_size = 1536\n",
    "index = faiss.IndexFlatL2(embedding_size)\n",
    "vectorstore = FAISS(embeddings_model, index, InMemoryDocstore({}), {})\n",
    "\n",
    "# 시간 가중치가 적용된 벡터 저장소 검색기를 초기화 (낮은 감쇠율을 적용)\n",
    "retriever = TimeWeightedVectorStoreRetriever(\n",
    "    vectorstore=vectorstore,\n",
    "    decay_rate=.000000000000000000001, k=1\n",
    ")"
   ],
   "id": "7eb0877fcf07080c",
   "outputs": [],
   "execution_count": 3
  },
  {
   "metadata": {
    "ExecuteTime": {
     "end_time": "2025-04-08T13:19:22.170081Z",
     "start_time": "2025-04-08T13:19:21.084013Z"
    }
   },
   "cell_type": "code",
   "source": [
    "# 어제 날짜를 계산\n",
    "yesterday = datetime.today() - timedelta(days=1)\n",
    "\n",
    "retriever.add_documents(\n",
    "    [\n",
    "        Document(\n",
    "            page_content=\"채널을 구독해주세요.\",\n",
    "            metadata={\"last_accessed_at\": yesterday},\n",
    "        )\n",
    "    ]\n",
    ")\n",
    "\n",
    "# 다른 문서를 추가. metadata는 별도로 설정하지 않음\n",
    "retriever.add_documents([Document(page_content=\"채널 구도 해주실꺼죠? Please!\")])"
   ],
   "id": "3bcd2546c2d5889d",
   "outputs": [
    {
     "data": {
      "text/plain": [
       "['d50ba5b6-b96b-4beb-afbf-54ed8cc3cdd4']"
      ]
     },
     "execution_count": 4,
     "metadata": {},
     "output_type": "execute_result"
    }
   ],
   "execution_count": 4
  },
  {
   "metadata": {
    "ExecuteTime": {
     "end_time": "2025-04-08T13:20:09.117151Z",
     "start_time": "2025-04-08T13:20:08.572079Z"
    }
   },
   "cell_type": "code",
   "source": [
    "# 채널을 구독해주세요. 가 가장 먼저 반환되는 이뉴는 가장 두드러지기 때문\n",
    "# 감쇠율이 0에 가깝기 때문에 여전히 최신 상태를 유지하고 있음을 의미\n",
    "retriever.invoke(\"채널\")"
   ],
   "id": "718ef5eb5389c0df",
   "outputs": [
    {
     "data": {
      "text/plain": [
       "[Document(metadata={'last_accessed_at': datetime.datetime(2025, 4, 8, 22, 20, 9, 110944), 'created_at': datetime.datetime(2025, 4, 8, 22, 19, 21, 86922), 'buffer_idx': 0}, page_content='채널을 구독해주세요.')]"
      ]
     },
     "execution_count": 5,
     "metadata": {},
     "output_type": "execute_result"
    }
   ],
   "execution_count": 5
  },
  {
   "metadata": {},
   "cell_type": "markdown",
   "source": "# 높음 감쇠율(high decay_rate)",
   "id": "fdb3eb66f5965f04"
  },
  {
   "metadata": {
    "ExecuteTime": {
     "end_time": "2025-04-08T13:20:45.541755Z",
     "start_time": "2025-04-08T13:20:44.901917Z"
    }
   },
   "cell_type": "code",
   "source": [
    "# 임베딩 모델을 정의합니다.\n",
    "embeddings_model = OpenAIEmbeddings(model=\"text-embedding-3-small\")\n",
    "\n",
    "# 벡터 저장소를 빈 상태로 초기화합니다.\n",
    "embedding_size = 1536\n",
    "index = faiss.IndexFlatL2(embedding_size)\n",
    "vectorstore = FAISS(embeddings_model, index, InMemoryDocstore({}), {})\n",
    "\n",
    "# 시간 가중치가 적용된 벡터 저장소 검색기를 초기화합니다.\n",
    "retriever = TimeWeightedVectorStoreRetriever(\n",
    "    vectorstore=vectorstore, decay_rate=0.999, k=1\n",
    ")"
   ],
   "id": "87748c1840655e97",
   "outputs": [],
   "execution_count": 6
  },
  {
   "metadata": {
    "ExecuteTime": {
     "end_time": "2025-04-08T13:21:00.622228Z",
     "start_time": "2025-04-08T13:20:59.095361Z"
    }
   },
   "cell_type": "code",
   "source": [
    "# 어제 날짜를 계산\n",
    "yesterday = datetime.today() - timedelta(days=1)\n",
    "\n",
    "retriever.add_documents(\n",
    "    [\n",
    "        Document(\n",
    "            page_content=\"채널을 구독해주세요.\",\n",
    "            metadata={\"last_accessed_at\": yesterday},\n",
    "        )\n",
    "    ]\n",
    ")\n",
    "\n",
    "# 다른 문서를 추가. metadata는 별도로 설정하지 않음\n",
    "retriever.add_documents([Document(page_content=\"채널 구도 해주실꺼죠? Please!\")])"
   ],
   "id": "1e302b727ed583be",
   "outputs": [
    {
     "data": {
      "text/plain": [
       "['8d3dcaca-e189-4fbc-920c-486623e8d5c1']"
      ]
     },
     "execution_count": 7,
     "metadata": {},
     "output_type": "execute_result"
    }
   ],
   "execution_count": 7
  },
  {
   "metadata": {
    "ExecuteTime": {
     "end_time": "2025-04-08T13:21:08.660704Z",
     "start_time": "2025-04-08T13:21:08.376663Z"
    }
   },
   "cell_type": "code",
   "source": "retriever.invoke(\"채널\")",
   "id": "7ae28d07f20c3e84",
   "outputs": [
    {
     "data": {
      "text/plain": [
       "[Document(metadata={'last_accessed_at': datetime.datetime(2025, 4, 8, 22, 21, 8, 657526), 'created_at': datetime.datetime(2025, 4, 8, 22, 20, 59, 997997), 'buffer_idx': 1}, page_content='채널 구도 해주실꺼죠? Please!')]"
      ]
     },
     "execution_count": 8,
     "metadata": {},
     "output_type": "execute_result"
    }
   ],
   "execution_count": 8
  },
  {
   "metadata": {},
   "cell_type": "markdown",
   "source": "# 가상의 시간으로 decay_rate 조정",
   "id": "aeb9c5c4597098a9"
  },
  {
   "metadata": {
    "ExecuteTime": {
     "end_time": "2025-04-08T13:22:58.080026Z",
     "start_time": "2025-04-08T13:22:58.076301Z"
    }
   },
   "cell_type": "code",
   "source": [
    "import datetime\n",
    "\n",
    "from langchain.utils import mock_now\n",
    "\n",
    "# 현재 시간 출력\n",
    "print(datetime.datetime.now())"
   ],
   "id": "78e3ad22625ec38",
   "outputs": [
    {
     "name": "stdout",
     "output_type": "stream",
     "text": [
      "2025-04-08 22:22:58.078275\n"
     ]
    }
   ],
   "execution_count": 11
  }
 ],
 "metadata": {
  "kernelspec": {
   "display_name": "Python 3",
   "language": "python",
   "name": "python3"
  },
  "language_info": {
   "codemirror_mode": {
    "name": "ipython",
    "version": 2
   },
   "file_extension": ".py",
   "mimetype": "text/x-python",
   "name": "python",
   "nbconvert_exporter": "python",
   "pygments_lexer": "ipython2",
   "version": "2.7.6"
  }
 },
 "nbformat": 4,
 "nbformat_minor": 5
}
