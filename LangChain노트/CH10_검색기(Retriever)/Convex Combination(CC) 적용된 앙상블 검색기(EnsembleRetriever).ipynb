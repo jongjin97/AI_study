{
 "cells": [
  {
   "cell_type": "code",
   "id": "initial_id",
   "metadata": {
    "collapsed": true,
    "ExecuteTime": {
     "end_time": "2025-04-08T13:31:43.374214Z",
     "start_time": "2025-04-08T13:31:43.342682Z"
    }
   },
   "source": [
    "from dotenv import load_dotenv\n",
    "\n",
    "load_dotenv()"
   ],
   "outputs": [
    {
     "data": {
      "text/plain": [
       "True"
      ]
     },
     "execution_count": 1,
     "metadata": {},
     "output_type": "execute_result"
    }
   ],
   "execution_count": 1
  },
  {
   "metadata": {},
   "cell_type": "markdown",
   "source": "# 실험을 위한 사전 셋업",
   "id": "6bc1cd828240fc3"
  },
  {
   "metadata": {
    "ExecuteTime": {
     "end_time": "2025-04-08T13:34:55.913570Z",
     "start_time": "2025-04-08T13:34:47.812967Z"
    }
   },
   "cell_type": "code",
   "source": [
    "from langchain.retrievers import EnsembleRetriever as OriginalEnsembleRetriever\n",
    "from langchain_text_splitters import RecursiveCharacterTextSplitter\n",
    "from langchain_community.document_loaders import PDFPlumberLoader\n",
    "from langchain_community.vectorstores import FAISS\n",
    "from langchain_openai import OpenAIEmbeddings\n",
    "from langchain_teddynote.retrievers import KiwiBM25Retriever\n",
    "\n",
    "# 문서 로드(Load Documents)\n",
    "loader = PDFPlumberLoader(\"data/SPRI_AI_Brief_2023년12월호_F.pdf\")\n",
    "\n",
    "# 문서 분할(Split Documents): 테스트를 위하여 작은 Chunk Size로 설정\n",
    "text_splitter = RecursiveCharacterTextSplitter(chunk_size=100, chunk_overlap=0)\n",
    "split_documents = loader.load_and_split(text_splitter)\n",
    "\n",
    "# 임베딩(Embedding) 생성\n",
    "embeddings = OpenAIEmbeddings(model=\"text-embedding-3-small\")\n",
    "\n",
    "# FaissRetriever 생성\n",
    "faiss = FAISS.from_documents(\n",
    "    documents=split_documents, embedding=embeddings\n",
    ").as_retriever(search_kwargs={\"k\": 5})\n",
    "\n",
    "# KiwiBM25Retriever 생성(한글 형태소 분석기 + BM25 알고리즘)\n",
    "bm25 = KiwiBM25Retriever.from_documents(documents=split_documents, embedding=embeddings)\n",
    "bm25.k = 5\n",
    "\n",
    "# LangChain 버전의 EnsembleRetriever\n",
    "original_ensemble_retriever = OriginalEnsembleRetriever(retrievers=[faiss, bm25])"
   ],
   "id": "c45ee0bd9113a988",
   "outputs": [],
   "execution_count": 3
  },
  {
   "metadata": {
    "ExecuteTime": {
     "end_time": "2025-04-08T13:35:32.355536Z",
     "start_time": "2025-04-08T13:35:32.350282Z"
    }
   },
   "cell_type": "code",
   "source": [
    "from langchain_teddynote.retrievers import (\n",
    "    EnsembleRetriever,\n",
    "    EnsembleMethod,\n",
    ")\n",
    "\n",
    "# RRF 방식의 EnsembleRetriever (기본값으로 RRF 가 설정되어 있음)\n",
    "rrf_ensemble_retriever = EnsembleRetriever(\n",
    "    retrievers=[faiss, bm25], method=EnsembleMethod.RRF\n",
    ")\n",
    "\n",
    "# CC 방식의 EnsembleRetriever\n",
    "cc_ensemble_retriever = EnsembleRetriever(\n",
    "    retrievers=[faiss, bm25], method=EnsembleMethod.CC  # method 지정: CC\n",
    ")\n"
   ],
   "id": "217bda0bbf263a34",
   "outputs": [],
   "execution_count": 4
  },
  {
   "metadata": {},
   "cell_type": "markdown",
   "source": "# 검색 결과 비교",
   "id": "25329da20ef99d02"
  },
  {
   "metadata": {
    "ExecuteTime": {
     "end_time": "2025-04-08T13:35:43.389202Z",
     "start_time": "2025-04-08T13:35:43.382303Z"
    }
   },
   "cell_type": "code",
   "source": [
    "def pretty_print(query):\n",
    "    for i, (original_doc, cc_doc, rrf_doc) in enumerate(\n",
    "        zip(\n",
    "            original_ensemble_retriever.invoke(query),\n",
    "            cc_ensemble_retriever.invoke(query),\n",
    "            rrf_ensemble_retriever.invoke(query),\n",
    "        )\n",
    "    ):\n",
    "        print(f\"[{i}] [Original] Q: {query}\", end=\"\\n\\n\")\n",
    "        print(original_doc.page_content)\n",
    "        print(\"-\" * 100)\n",
    "        print(f\"[{i}] [RRF] Q: {query}\", end=\"\\n\\n\")\n",
    "        print(rrf_doc.page_content)\n",
    "        print(\"-\" * 100)\n",
    "        print(f\"[{i}] [CC] Q: {query}\", end=\"\\n\\n\")\n",
    "        print(cc_doc.page_content)\n",
    "        print(\"=\" * 100, end=\"\\n\\n\")\n"
   ],
   "id": "d9f31f99945f0f68",
   "outputs": [],
   "execution_count": 5
  },
  {
   "metadata": {
    "ExecuteTime": {
     "end_time": "2025-04-08T13:36:31.520167Z",
     "start_time": "2025-04-08T13:36:28.540590Z"
    }
   },
   "cell_type": "code",
   "source": "pretty_print(\"삼성전자가 만든 생성형 AI는 무엇인가요?\")",
   "id": "e81d721f85d6a0dd",
   "outputs": [
    {
     "name": "stdout",
     "output_type": "stream",
     "text": [
      "[0] [Original] Q: 삼성전자가 만든 생성형 AI는 무엇인가요?\n",
      "\n",
      "☞ 출처 : 삼성전자, ‘삼성 AI 포럼’서 자체 개발 생성형 AI ‘삼성 가우스’ 공개, 2023.11.08.\n",
      "----------------------------------------------------------------------------------------------------\n",
      "[0] [RRF] Q: 삼성전자가 만든 생성형 AI는 무엇인가요?\n",
      "\n",
      "☞ 출처 : 삼성전자, ‘삼성 AI 포럼’서 자체 개발 생성형 AI ‘삼성 가우스’ 공개, 2023.11.08.\n",
      "----------------------------------------------------------------------------------------------------\n",
      "[0] [CC] Q: 삼성전자가 만든 생성형 AI는 무엇인가요?\n",
      "\n",
      "∙ 삼성전자는 삼성 가우스를 활용한 온디바이스 AI 기술도 소개했으며, 생성 AI 모델을 다양한 제품에\n",
      "단계적으로 탑재할 계획\n",
      "====================================================================================================\n",
      "\n",
      "[1] [Original] Q: 삼성전자가 만든 생성형 AI는 무엇인가요?\n",
      "\n",
      "n 삼성전자가 온디바이스에서 작동 가능하며 언어, 코드, 이미지의 3개 모델로 구성된 자체 개발 생성\n",
      "AI 모델 ‘삼성 가우스’를 공개\n",
      "----------------------------------------------------------------------------------------------------\n",
      "[1] [RRF] Q: 삼성전자가 만든 생성형 AI는 무엇인가요?\n",
      "\n",
      "n 삼성전자가 온디바이스에서 작동 가능하며 언어, 코드, 이미지의 3개 모델로 구성된 자체 개발 생성\n",
      "AI 모델 ‘삼성 가우스’를 공개\n",
      "----------------------------------------------------------------------------------------------------\n",
      "[1] [CC] Q: 삼성전자가 만든 생성형 AI는 무엇인가요?\n",
      "\n",
      "SPRi AI Brief |\n",
      "2023-12월호\n",
      "삼성전자, 자체 개발 생성 AI ‘삼성 가우스’ 공개\n",
      "KEY Contents\n",
      "====================================================================================================\n",
      "\n",
      "[2] [Original] Q: 삼성전자가 만든 생성형 AI는 무엇인가요?\n",
      "\n",
      "∙ 삼성전자는 삼성 가우스를 활용한 온디바이스 AI 기술도 소개했으며, 생성 AI 모델을 다양한 제품에\n",
      "단계적으로 탑재할 계획\n",
      "----------------------------------------------------------------------------------------------------\n",
      "[2] [RRF] Q: 삼성전자가 만든 생성형 AI는 무엇인가요?\n",
      "\n",
      "∙ 삼성전자는 삼성 가우스를 활용한 온디바이스 AI 기술도 소개했으며, 생성 AI 모델을 다양한 제품에\n",
      "단계적으로 탑재할 계획\n",
      "----------------------------------------------------------------------------------------------------\n",
      "[2] [CC] Q: 삼성전자가 만든 생성형 AI는 무엇인가요?\n",
      "\n",
      "▹ 삼성전자, 자체 개발 생성 AI ‘삼성 가우스’ 공개 ···························································10\n",
      "====================================================================================================\n",
      "\n",
      "[3] [Original] Q: 삼성전자가 만든 생성형 AI는 무엇인가요?\n",
      "\n",
      "n 판결문은 또한 생성 AI 모델 훈련에 사용된 모든 이미지에 저작권이 있다거나, 생성 AI로 만든\n",
      "----------------------------------------------------------------------------------------------------\n",
      "[3] [RRF] Q: 삼성전자가 만든 생성형 AI는 무엇인가요?\n",
      "\n",
      "n 판결문은 또한 생성 AI 모델 훈련에 사용된 모든 이미지에 저작권이 있다거나, 생성 AI로 만든\n",
      "----------------------------------------------------------------------------------------------------\n",
      "[3] [CC] Q: 삼성전자가 만든 생성형 AI는 무엇인가요?\n",
      "\n",
      "☞ 출처 : 삼성전자, ‘삼성 AI 포럼’서 자체 개발 생성형 AI ‘삼성 가우스’ 공개, 2023.11.08.\n",
      "====================================================================================================\n",
      "\n",
      "[4] [Original] Q: 삼성전자가 만든 생성형 AI는 무엇인가요?\n",
      "\n",
      "SPRi AI Brief |\n",
      "2023-12월호\n",
      "삼성전자, 자체 개발 생성 AI ‘삼성 가우스’ 공개\n",
      "KEY Contents\n",
      "----------------------------------------------------------------------------------------------------\n",
      "[4] [RRF] Q: 삼성전자가 만든 생성형 AI는 무엇인가요?\n",
      "\n",
      "SPRi AI Brief |\n",
      "2023-12월호\n",
      "삼성전자, 자체 개발 생성 AI ‘삼성 가우스’ 공개\n",
      "KEY Contents\n",
      "----------------------------------------------------------------------------------------------------\n",
      "[4] [CC] Q: 삼성전자가 만든 생성형 AI는 무엇인가요?\n",
      "\n",
      "n 삼성전자가 온디바이스에서 작동 가능하며 언어, 코드, 이미지의 3개 모델로 구성된 자체 개발 생성\n",
      "AI 모델 ‘삼성 가우스’를 공개\n",
      "====================================================================================================\n",
      "\n",
      "[5] [Original] Q: 삼성전자가 만든 생성형 AI는 무엇인가요?\n",
      "\n",
      "▹ 삼성전자, 자체 개발 생성 AI ‘삼성 가우스’ 공개 ···························································10\n",
      "----------------------------------------------------------------------------------------------------\n",
      "[5] [RRF] Q: 삼성전자가 만든 생성형 AI는 무엇인가요?\n",
      "\n",
      "▹ 삼성전자, 자체 개발 생성 AI ‘삼성 가우스’ 공개 ···························································10\n",
      "----------------------------------------------------------------------------------------------------\n",
      "[5] [CC] Q: 삼성전자가 만든 생성형 AI는 무엇인가요?\n",
      "\n",
      "n 판결문은 또한 생성 AI 모델 훈련에 사용된 모든 이미지에 저작권이 있다거나, 생성 AI로 만든\n",
      "====================================================================================================\n",
      "\n",
      "[6] [Original] Q: 삼성전자가 만든 생성형 AI는 무엇인가요?\n",
      "\n",
      "n 삼성전자가 2023년 11월 8일 열린 ‘삼성 AI 포럼 2023’ 행사에서 자체 개발한 생성 AI 모델\n",
      "‘삼성 가우스’를 최초 공개\n",
      "----------------------------------------------------------------------------------------------------\n",
      "[6] [RRF] Q: 삼성전자가 만든 생성형 AI는 무엇인가요?\n",
      "\n",
      "n 삼성전자가 2023년 11월 8일 열린 ‘삼성 AI 포럼 2023’ 행사에서 자체 개발한 생성 AI 모델\n",
      "‘삼성 가우스’를 최초 공개\n",
      "----------------------------------------------------------------------------------------------------\n",
      "[6] [CC] Q: 삼성전자가 만든 생성형 AI는 무엇인가요?\n",
      "\n",
      "n 삼성전자가 2023년 11월 8일 열린 ‘삼성 AI 포럼 2023’ 행사에서 자체 개발한 생성 AI 모델\n",
      "‘삼성 가우스’를 최초 공개\n",
      "====================================================================================================\n",
      "\n",
      "[7] [Original] Q: 삼성전자가 만든 생성형 AI는 무엇인가요?\n",
      "\n",
      "∙ (프로세스가 아닌 기능에 중점) AI가 어떻게 작동하는지보다 무엇을 할 수 있는지가 더 중요\n",
      "----------------------------------------------------------------------------------------------------\n",
      "[7] [RRF] Q: 삼성전자가 만든 생성형 AI는 무엇인가요?\n",
      "\n",
      "∙ (프로세스가 아닌 기능에 중점) AI가 어떻게 작동하는지보다 무엇을 할 수 있는지가 더 중요\n",
      "----------------------------------------------------------------------------------------------------\n",
      "[7] [CC] Q: 삼성전자가 만든 생성형 AI는 무엇인가요?\n",
      "\n",
      "∙ (프로세스가 아닌 기능에 중점) AI가 어떻게 작동하는지보다 무엇을 할 수 있는지가 더 중요\n",
      "====================================================================================================\n",
      "\n"
     ]
    }
   ],
   "execution_count": 6
  }
 ],
 "metadata": {
  "kernelspec": {
   "display_name": "Python 3",
   "language": "python",
   "name": "python3"
  },
  "language_info": {
   "codemirror_mode": {
    "name": "ipython",
    "version": 2
   },
   "file_extension": ".py",
   "mimetype": "text/x-python",
   "name": "python",
   "nbconvert_exporter": "python",
   "pygments_lexer": "ipython2",
   "version": "2.7.6"
  }
 },
 "nbformat": 4,
 "nbformat_minor": 5
}
