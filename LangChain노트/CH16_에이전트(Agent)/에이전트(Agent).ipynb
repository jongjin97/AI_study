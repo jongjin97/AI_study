{
 "cells": [
  {
   "cell_type": "code",
   "id": "initial_id",
   "metadata": {
    "collapsed": true,
    "ExecuteTime": {
     "end_time": "2025-04-21T14:19:12.026130Z",
     "start_time": "2025-04-21T14:19:12.003905Z"
    }
   },
   "source": [
    "from dotenv import load_dotenv\n",
    "\n",
    "# API 키 정보 로드\n",
    "load_dotenv()\n",
    "from langchain_teddynote import logging\n",
    "\n",
    "# 프로젝트 이름을 입력합니다.\n",
    "logging.langsmith(\"CH15-Agents\")"
   ],
   "outputs": [
    {
     "name": "stdout",
     "output_type": "stream",
     "text": [
      "LangSmith 추적을 시작합니다.\n",
      "[프로젝트명]\n",
      "CH15-Agents\n"
     ]
    }
   ],
   "execution_count": 1
  },
  {
   "metadata": {
    "ExecuteTime": {
     "end_time": "2025-04-21T14:20:01.054434Z",
     "start_time": "2025-04-21T14:19:58.579651Z"
    }
   },
   "cell_type": "code",
   "source": [
    "from langchain.tools import tool\n",
    "from typing import List, Dict, Annotated\n",
    "from langchain_teddynote.tools import GoogleNews\n",
    "from langchain_experimental.utilities import PythonREPL\n",
    "\n",
    "# 도구 생성\n",
    "@tool\n",
    "def search_news(query: str) -> List[Dict[str, str]]:\n",
    "    \"\"\"Search Google News by input keyword\"\"\"\n",
    "    news_tool = GoogleNews()\n",
    "    return news_tool.search_by_keyword(query, k=5)\n",
    "\n",
    "# 도구 생성\n",
    "@tool\n",
    "def python_repl_tool(\n",
    "    code: Annotated[str, \"The python code to execute to generate your chart.\"],\n",
    "):\n",
    "    \"\"\"Use this to execute python code. If you want to see the output of a value,\n",
    "    you should print it out with `print(...)`. This is visible to the user.\"\"\"\n",
    "    result = \"\"\n",
    "    try:\n",
    "        result = PythonREPL().run(code)\n",
    "    except BaseException as e:\n",
    "        print(f\"Failed to execute. Error: {repr(e)}\")\n",
    "    finally:\n",
    "        return result\n",
    "\n",
    "\n",
    "print(f\"도구 이름: {search_news.name}\")\n",
    "print(f\"도구 설명: {search_news.description}\")\n",
    "print(f\"도구 이름: {python_repl_tool.name}\")\n",
    "print(f\"도구 설명: {python_repl_tool.description}\")"
   ],
   "id": "7166ba96aa7970e7",
   "outputs": [
    {
     "name": "stdout",
     "output_type": "stream",
     "text": [
      "도구 이름: search_news\n",
      "도구 설명: Search Google News by input keyword\n",
      "도구 이름: python_repl_tool\n",
      "도구 설명: Use this to execute python code. If you want to see the output of a value,\n",
      "    you should print it out with `print(...)`. This is visible to the user.\n"
     ]
    }
   ],
   "execution_count": 2
  },
  {
   "metadata": {
    "ExecuteTime": {
     "end_time": "2025-04-21T14:20:17.547394Z",
     "start_time": "2025-04-21T14:20:17.543812Z"
    }
   },
   "cell_type": "code",
   "source": [
    "# tools 정의\n",
    "tools = [search_news, python_repl_tool]"
   ],
   "id": "a1e7d2add57ca1ab",
   "outputs": [],
   "execution_count": 3
  },
  {
   "metadata": {},
   "cell_type": "markdown",
   "source": "# Agent 프롬프트 생성",
   "id": "56a0067112734e40"
  },
  {
   "metadata": {
    "ExecuteTime": {
     "end_time": "2025-04-21T14:22:35.332676Z",
     "start_time": "2025-04-21T14:22:35.328193Z"
    }
   },
   "cell_type": "code",
   "source": [
    "from langchain_core.prompts import ChatPromptTemplate\n",
    "\n",
    "# 프롬프트 생성\n",
    "# 프롬프트는 에이전트에게 모델이 수행할 작업을 설명하는 텍스트를 제공 (도구의 이름과 역할을 입력)\n",
    "prompt = ChatPromptTemplate.from_messages(\n",
    "    [\n",
    "        (\"system\", \"You are a helpful assistant. Make sure to use the `search_news` tool for searching ketword related news.\"),\n",
    "        (\"placeholder\", \"{chat_history}\"),\n",
    "        (\"human\", \"{input}\"),\n",
    "        (\"placeholder\", \"{agent_scratchpad}\")\n",
    "    ]\n",
    ")"
   ],
   "id": "14e472f9d7146eac",
   "outputs": [],
   "execution_count": 4
  },
  {
   "metadata": {},
   "cell_type": "markdown",
   "source": "# Agent 생성",
   "id": "76439995d87ded91"
  },
  {
   "metadata": {
    "ExecuteTime": {
     "end_time": "2025-04-21T14:23:34.953531Z",
     "start_time": "2025-04-21T14:23:32.026688Z"
    }
   },
   "cell_type": "code",
   "source": [
    "from langchain_openai import ChatOpenAI\n",
    "from langchain.agents import create_tool_calling_agent\n",
    "\n",
    "# LLM 정의\n",
    "llm = ChatOpenAI(model=\"gpt-4o-mini\", temperature=0)\n",
    "\n",
    "# Agent 정의\n",
    "agent = create_tool_calling_agent(llm, tools, prompt)"
   ],
   "id": "66895151ff18bc27",
   "outputs": [],
   "execution_count": 5
  },
  {
   "metadata": {},
   "cell_type": "markdown",
   "source": "# AgentExecutor",
   "id": "f4724d8b0c8e2b9f"
  },
  {
   "metadata": {
    "ExecuteTime": {
     "end_time": "2025-04-21T14:26:59.529580Z",
     "start_time": "2025-04-21T14:26:38.252173Z"
    }
   },
   "cell_type": "code",
   "source": [
    "from langchain.agents import AgentExecutor\n",
    "\n",
    "# AgentExecutor 생성\n",
    "agent_executor = AgentExecutor(\n",
    "    agent=agent,\n",
    "    tools=tools,\n",
    "    verbose=True,\n",
    "    max_iterations=10,\n",
    "    max_execution_time=10,\n",
    "    handle_parsing_errors=True,\n",
    ")\n",
    "\n",
    "# AgentExecutor 실행\n",
    "result = agent_executor.invoke({\"input\": \"AI 투자와 관련된 뉴스를 검색해 주세요.\"})\n",
    "\n",
    "print(\"Agent 실행 결과:\")\n",
    "print(result['output'])"
   ],
   "id": "96038a762de65755",
   "outputs": [
    {
     "name": "stdout",
     "output_type": "stream",
     "text": [
      "\n",
      "\n",
      "\u001B[1m> Entering new AgentExecutor chain...\u001B[0m\n",
      "\u001B[32;1m\u001B[1;3m\n",
      "Invoking: `search_news` with `{'query': 'AI 투자'}`\n",
      "\n",
      "\n",
      "\u001B[0m\u001B[36;1m\u001B[1;3m[{'url': 'https://news.google.com/rss/articles/CBMiWkFVX3lxTE1MckRhRy1VdDdHMXhBYUhIQWJrYXhGR2IyckFKUGhLSTlneFZCNnRPZlJCbjlDNDZCbGZjZW00cXE1VEN0M19TUDdQY0owVTRUeFp3bHhMRnp1QdIBVEFVX3lxTE1fLTI5bUVQdk5NZTZmWEkyRUhuM1RTWHJzSUZqQkNDSmNKSVlSUnNIT0FSanN3X2xOa25iYmRPakE3amVfd1hDOHZxSnZBVmswTTZKbA?oc=5', 'content': '퓨리오사AI 투자 대박…TS·DSC인베스트 급등 - 한국경제'}, {'url': 'https://news.google.com/rss/articles/CBMiZkFVX3lxTE9HWEhnTHFRV3V1Tnlza1dGay1PeGdGdkhXQ3hwNHBMWEt4Y3MzYS1fdkZsQWZZVlhwWFZmeHlaWkhRSklsXzlRdTg3Rk9zaHh4MVltazY5QkRpQktUUEc4eGdESGo2Z9IBbkFVX3lxTFA0Um1fM3RQbVpGWGxIQy1yQmlxSkd4dkp4OW4wNDNPaWlzTVV1blRvVzh2cklucnpkalBpeUNnUlkzMzRVbDA0MFFudHM4Tzhvc3R5QTk4VnlYb1RXT0kxUWVFUllSTE4wdVVRLXBB?oc=5', 'content': '이재명이 만난 퓨리오사AI에 투자금 쏠리자 창업투자株 급등 - 머니투데이'}, {'url': 'https://news.google.com/rss/articles/CBMiWkFVX3lxTE9rbUNLdjJsMGZSYUNxSE1xNDhwTGRZNlAtaks3TVQ2ekZNc3RrZU9uWUVURWxqZDE0bzgwbmV5Q1FvaUN1M1pIdEpXZHJZSWlEdGV2RmN2a1VpUdIBVEFVX3lxTE5PTEF6MElNZE13S2IzRDBLMU1wdUE4VUpmb2t3QWxNbUZPM0c0bFI4WlM0N3hlYWtfdi1nM3lSdWtRZ01hWTlxSFllUGVaamRiSS01cg?oc=5', 'content': \"퓨리오사AI에 몰린 투자금…관련주 줄줄이 '급등' - 한국경제\"}, {'url': 'https://news.google.com/rss/articles/CBMiiAFBVV95cUxNQkpGYWR0OWdqUzFSXzdHd0ZFMURmYWtOT3d4V3ZMeHJabEFHUXVxMWFBN0RVSG00Y0RwallKSkFnZmJwOHlqdm9KRUN2aVA2WDdxcG9PaHA5WHg5QzhOc0x6NlF2ZTNFS1ppcDdSeXB1RExYUTdXVDg3SnZVNGVaeGpjQkg3M01C?oc=5', 'content': '[초점] 빅테크, 천문학적 AI 투자 부담에 전략 변화 모색 - 글로벌이코노믹'}, {'url': 'https://news.google.com/rss/articles/CBMiVkFVX3lxTE96anEwam5ydDUxNzdKU0dLcE9mWWpDVG5Kb1ktQ3A3dTE3UWg3OHoya0NiUkh2N2dVWlZ5Z1ZIczhaaVJYVDlKS0JhNV90Y1I3d3FZRXl3?oc=5', 'content': '\"AI 100조 투자\" \"난 200조\"…대선 후보들 숫자 싸움 시작했다 - 중앙일보'}]\u001B[0m\u001B[32;1m\u001B[1;3m다음은 AI 투자와 관련된 최근 뉴스입니다:\n",
      "\n",
      "1. [퓨리오사AI 투자 대박…TS·DSC인베스트 급등 - 한국경제](https://news.google.com/rss/articles/CBMiWkFVX3lxTE1MckRhRy1VdDdHMXhBYUhIQWJrYXhGR2IyckFKUGhLSTlneFZCNnRPZlJCbjlDNDZCbGZjZW00cXE1VEN0M19TUDdQY0owVTRUeFp3bHhMRnp1QdIBVEFVX3lxTE1fLTI5bUVQdk5NZTZmWEkyRUhuM1RTWHJzSUZqQkNDSmNKSVlSUnNIT0FSanN3X2xOa25iYmRPakE3amVfd1hDOHZxSnZBVmswTTZKbA?oc=5)\n",
      "\n",
      "2. [이재명이 만난 퓨리오사AI에 투자금 쏠리자 창업투자株 급등 - 머니투데이](https://news.google.com/rss/articles/CBMiZkFVX3lxTE9HWEhnTHFRV3V1Tnlza1dGay1PeGdGdkhXQ3hwNHBMWEt4Y3MzYS1fdkZsQWZZVlhwWFZmeHlaWkhRSklsXzlRdTg3Rk9zaHh4MVltazY5QkRpQktUUEc4eGdESGo2Z9IBbkFVX3lxTFA0Um1fM3RQbVpGWGxIQy1yQmlxSkd4dkp4OW4wNDNPaWlzTVV1blRvVzh2cklucnpkalBpeUNnUlkzMzRVbDA0MFFudHM4Tzhvc3R5QTk4VnlYb1RXT0kxUWVFUllSTE4wdVVRLXBB?oc=5)\n",
      "\n",
      "3. [퓨리오사AI에 몰린 투자금…관련주 줄줄이 '급등' - 한국경제](https://news.google.com/rss/articles/CBMiWkFVX3lxTE9rbUNLdjJsMGZSYUNxSE1xNDhwTGRZNlAtaks3TVQ2ekZNc3RrZU9uWUVURWxqZDE0bzgwbmV5Q1FvaUN1M1pIdEpXZHJZSWlEdGV2RmN2a1VpUdIBVEFVX3lxTE5PTEF6MElNZE13S2IzRDBLMU1wdUE4VUpmb2t3QWxNbUZPM0c0bFI4WlM0N3hlYWtfdi1nM3lSdWtRZ01hWTlxSFllUGVaamRiSS01cg?oc=5)\n",
      "\n",
      "4. [빅테크, 천문학적 AI 투자 부담에 전략 변화 모색 - 글로벌이코노믹](https://news.google.com/rss/articles/CBMiiAFBVV95cUxNQkpGYWR0OWdqUzFSXzdHd0ZFMURmYWtOT3d4V3ZMeHJabEFHUXVxMWFBN0RVSG00Y0RwallKSkFnZmJwOHlqdm9KRUN2aVA2WDdxcG9PaHA5WHg5QzhOc0x6NlF2ZTNFS1ppcDdSeXB1RExYUTdXVDg3SnZVNGVaeGpjQkg3M01C?oc=5)\n",
      "\n",
      "5. [\\\"AI 100조 투자\\\" \\\"난 200조\\\"…대선 후보들 숫자 싸움 시작했다 - 중앙일보](https://news.google.com/rss/articles/CBMiVkFVX3lxTE96anEwam5ydDUxNzdKU0dLcE9mWWpDVG5Kb1ktQ3A3dTE3UWg3OHoya0NiUkh2N2dVWlZ5Z1ZIczhaaVJYVDlKS0JhNV90Y1I3d3FZRXl3?oc=5)\n",
      "\n",
      "이 뉴스들은 AI 투자와 관련된 최근 동향과 사건들을 다루고 있습니다.\u001B[0m\n",
      "\n",
      "\u001B[1m> Finished chain.\u001B[0m\n",
      "Agent 실행 결과:\n",
      "다음은 AI 투자와 관련된 최근 뉴스입니다:\n",
      "\n",
      "1. [퓨리오사AI 투자 대박…TS·DSC인베스트 급등 - 한국경제](https://news.google.com/rss/articles/CBMiWkFVX3lxTE1MckRhRy1VdDdHMXhBYUhIQWJrYXhGR2IyckFKUGhLSTlneFZCNnRPZlJCbjlDNDZCbGZjZW00cXE1VEN0M19TUDdQY0owVTRUeFp3bHhMRnp1QdIBVEFVX3lxTE1fLTI5bUVQdk5NZTZmWEkyRUhuM1RTWHJzSUZqQkNDSmNKSVlSUnNIT0FSanN3X2xOa25iYmRPakE3amVfd1hDOHZxSnZBVmswTTZKbA?oc=5)\n",
      "\n",
      "2. [이재명이 만난 퓨리오사AI에 투자금 쏠리자 창업투자株 급등 - 머니투데이](https://news.google.com/rss/articles/CBMiZkFVX3lxTE9HWEhnTHFRV3V1Tnlza1dGay1PeGdGdkhXQ3hwNHBMWEt4Y3MzYS1fdkZsQWZZVlhwWFZmeHlaWkhRSklsXzlRdTg3Rk9zaHh4MVltazY5QkRpQktUUEc4eGdESGo2Z9IBbkFVX3lxTFA0Um1fM3RQbVpGWGxIQy1yQmlxSkd4dkp4OW4wNDNPaWlzTVV1blRvVzh2cklucnpkalBpeUNnUlkzMzRVbDA0MFFudHM4Tzhvc3R5QTk4VnlYb1RXT0kxUWVFUllSTE4wdVVRLXBB?oc=5)\n",
      "\n",
      "3. [퓨리오사AI에 몰린 투자금…관련주 줄줄이 '급등' - 한국경제](https://news.google.com/rss/articles/CBMiWkFVX3lxTE9rbUNLdjJsMGZSYUNxSE1xNDhwTGRZNlAtaks3TVQ2ekZNc3RrZU9uWUVURWxqZDE0bzgwbmV5Q1FvaUN1M1pIdEpXZHJZSWlEdGV2RmN2a1VpUdIBVEFVX3lxTE5PTEF6MElNZE13S2IzRDBLMU1wdUE4VUpmb2t3QWxNbUZPM0c0bFI4WlM0N3hlYWtfdi1nM3lSdWtRZ01hWTlxSFllUGVaamRiSS01cg?oc=5)\n",
      "\n",
      "4. [빅테크, 천문학적 AI 투자 부담에 전략 변화 모색 - 글로벌이코노믹](https://news.google.com/rss/articles/CBMiiAFBVV95cUxNQkpGYWR0OWdqUzFSXzdHd0ZFMURmYWtOT3d4V3ZMeHJabEFHUXVxMWFBN0RVSG00Y0RwallKSkFnZmJwOHlqdm9KRUN2aVA2WDdxcG9PaHA5WHg5QzhOc0x6NlF2ZTNFS1ppcDdSeXB1RExYUTdXVDg3SnZVNGVaeGpjQkg3M01C?oc=5)\n",
      "\n",
      "5. [\\\"AI 100조 투자\\\" \\\"난 200조\\\"…대선 후보들 숫자 싸움 시작했다 - 중앙일보](https://news.google.com/rss/articles/CBMiVkFVX3lxTE96anEwam5ydDUxNzdKU0dLcE9mWWpDVG5Kb1ktQ3A3dTE3UWg3OHoya0NiUkh2N2dVWlZ5Z1ZIczhaaVJYVDlKS0JhNV90Y1I3d3FZRXl3?oc=5)\n",
      "\n",
      "이 뉴스들은 AI 투자와 관련된 최근 동향과 사건들을 다루고 있습니다.\n"
     ]
    }
   ],
   "execution_count": 6
  },
  {
   "metadata": {},
   "cell_type": "markdown",
   "source": "# Stream 출력으로 단계별 결과 확인",
   "id": "65a5f2ae4fbfd803"
  },
  {
   "metadata": {
    "ExecuteTime": {
     "end_time": "2025-04-21T14:27:38.008938Z",
     "start_time": "2025-04-21T14:27:38.003450Z"
    }
   },
   "cell_type": "code",
   "source": [
    "from langchain.agents import AgentExecutor\n",
    "\n",
    "# AgentExecutor 생성\n",
    "agent_executor = AgentExecutor(\n",
    "    agent=agent,\n",
    "    tools=tools,\n",
    "    verbose=False,\n",
    "    handle_parsing_errors=True,\n",
    ")"
   ],
   "id": "4a82eca22881ba7d",
   "outputs": [],
   "execution_count": 7
  },
  {
   "metadata": {
    "ExecuteTime": {
     "end_time": "2025-04-21T14:28:29.787429Z",
     "start_time": "2025-04-21T14:28:07.351962Z"
    }
   },
   "cell_type": "code",
   "source": [
    "# 스트리밍 모드 실행\n",
    "result = agent_executor.stream({\"input\": \"AI 투자와 관련된 뉴스를 검색해 주세요.\"})\n",
    "\n",
    "for step in result:\n",
    "    # 중간 단계 출력\n",
    "    print(step)"
   ],
   "id": "90ab878c4b31023a",
   "outputs": [
    {
     "name": "stdout",
     "output_type": "stream",
     "text": [
      "{'actions': [ToolAgentAction(tool='search_news', tool_input={'query': 'AI 투자'}, log=\"\\nInvoking: `search_news` with `{'query': 'AI 투자'}`\\n\\n\\n\", message_log=[AIMessageChunk(content='', additional_kwargs={'tool_calls': [{'index': 0, 'id': 'call_XUzYwtHEln7P0zb4kWR3oZeX', 'function': {'arguments': '{\"query\":\"AI 투자\"}', 'name': 'search_news'}, 'type': 'function'}]}, response_metadata={'finish_reason': 'tool_calls', 'model_name': 'gpt-4o-mini-2024-07-18', 'system_fingerprint': 'fp_0392822090'}, id='run-39c98279-cbaf-4b62-97fa-3b8aede6aa2c', tool_calls=[{'name': 'search_news', 'args': {'query': 'AI 투자'}, 'id': 'call_XUzYwtHEln7P0zb4kWR3oZeX', 'type': 'tool_call'}], tool_call_chunks=[{'name': 'search_news', 'args': '{\"query\":\"AI 투자\"}', 'id': 'call_XUzYwtHEln7P0zb4kWR3oZeX', 'index': 0, 'type': 'tool_call_chunk'}])], tool_call_id='call_XUzYwtHEln7P0zb4kWR3oZeX')], 'messages': [AIMessageChunk(content='', additional_kwargs={'tool_calls': [{'index': 0, 'id': 'call_XUzYwtHEln7P0zb4kWR3oZeX', 'function': {'arguments': '{\"query\":\"AI 투자\"}', 'name': 'search_news'}, 'type': 'function'}]}, response_metadata={'finish_reason': 'tool_calls', 'model_name': 'gpt-4o-mini-2024-07-18', 'system_fingerprint': 'fp_0392822090'}, id='run-39c98279-cbaf-4b62-97fa-3b8aede6aa2c', tool_calls=[{'name': 'search_news', 'args': {'query': 'AI 투자'}, 'id': 'call_XUzYwtHEln7P0zb4kWR3oZeX', 'type': 'tool_call'}], tool_call_chunks=[{'name': 'search_news', 'args': '{\"query\":\"AI 투자\"}', 'id': 'call_XUzYwtHEln7P0zb4kWR3oZeX', 'index': 0, 'type': 'tool_call_chunk'}])]}\n",
      "{'steps': [AgentStep(action=ToolAgentAction(tool='search_news', tool_input={'query': 'AI 투자'}, log=\"\\nInvoking: `search_news` with `{'query': 'AI 투자'}`\\n\\n\\n\", message_log=[AIMessageChunk(content='', additional_kwargs={'tool_calls': [{'index': 0, 'id': 'call_XUzYwtHEln7P0zb4kWR3oZeX', 'function': {'arguments': '{\"query\":\"AI 투자\"}', 'name': 'search_news'}, 'type': 'function'}]}, response_metadata={'finish_reason': 'tool_calls', 'model_name': 'gpt-4o-mini-2024-07-18', 'system_fingerprint': 'fp_0392822090'}, id='run-39c98279-cbaf-4b62-97fa-3b8aede6aa2c', tool_calls=[{'name': 'search_news', 'args': {'query': 'AI 투자'}, 'id': 'call_XUzYwtHEln7P0zb4kWR3oZeX', 'type': 'tool_call'}], tool_call_chunks=[{'name': 'search_news', 'args': '{\"query\":\"AI 투자\"}', 'id': 'call_XUzYwtHEln7P0zb4kWR3oZeX', 'index': 0, 'type': 'tool_call_chunk'}])], tool_call_id='call_XUzYwtHEln7P0zb4kWR3oZeX'), observation=[{'url': 'https://news.google.com/rss/articles/CBMiWkFVX3lxTE1MckRhRy1VdDdHMXhBYUhIQWJrYXhGR2IyckFKUGhLSTlneFZCNnRPZlJCbjlDNDZCbGZjZW00cXE1VEN0M19TUDdQY0owVTRUeFp3bHhMRnp1QdIBVEFVX3lxTE1fLTI5bUVQdk5NZTZmWEkyRUhuM1RTWHJzSUZqQkNDSmNKSVlSUnNIT0FSanN3X2xOa25iYmRPakE3amVfd1hDOHZxSnZBVmswTTZKbA?oc=5', 'content': '퓨리오사AI 투자 대박…TS·DSC인베스트 급등 - 한국경제'}, {'url': 'https://news.google.com/rss/articles/CBMiZkFVX3lxTE9HWEhnTHFRV3V1Tnlza1dGay1PeGdGdkhXQ3hwNHBMWEt4Y3MzYS1fdkZsQWZZVlhwWFZmeHlaWkhRSklsXzlRdTg3Rk9zaHh4MVltazY5QkRpQktUUEc4eGdESGo2Z9IBbkFVX3lxTFA0Um1fM3RQbVpGWGxIQy1yQmlxSkd4dkp4OW4wNDNPaWlzTVV1blRvVzh2cklucnpkalBpeUNnUlkzMzRVbDA0MFFudHM4Tzhvc3R5QTk4VnlYb1RXT0kxUWVFUllSTE4wdVVRLXBB?oc=5', 'content': '이재명이 만난 퓨리오사AI에 투자금 쏠리자 창업투자株 급등 - 머니투데이'}, {'url': 'https://news.google.com/rss/articles/CBMiWkFVX3lxTE9rbUNLdjJsMGZSYUNxSE1xNDhwTGRZNlAtaks3TVQ2ekZNc3RrZU9uWUVURWxqZDE0bzgwbmV5Q1FvaUN1M1pIdEpXZHJZSWlEdGV2RmN2a1VpUdIBVEFVX3lxTE5PTEF6MElNZE13S2IzRDBLMU1wdUE4VUpmb2t3QWxNbUZPM0c0bFI4WlM0N3hlYWtfdi1nM3lSdWtRZ01hWTlxSFllUGVaamRiSS01cg?oc=5', 'content': \"퓨리오사AI에 몰린 투자금…관련주 줄줄이 '급등' - 한국경제\"}, {'url': 'https://news.google.com/rss/articles/CBMiiAFBVV95cUxNQkpGYWR0OWdqUzFSXzdHd0ZFMURmYWtOT3d4V3ZMeHJabEFHUXVxMWFBN0RVSG00Y0RwallKSkFnZmJwOHlqdm9KRUN2aVA2WDdxcG9PaHA5WHg5QzhOc0x6NlF2ZTNFS1ppcDdSeXB1RExYUTdXVDg3SnZVNGVaeGpjQkg3M01C?oc=5', 'content': '[초점] 빅테크, 천문학적 AI 투자 부담에 전략 변화 모색 - 글로벌이코노믹'}, {'url': 'https://news.google.com/rss/articles/CBMiVkFVX3lxTE96anEwam5ydDUxNzdKU0dLcE9mWWpDVG5Kb1ktQ3A3dTE3UWg3OHoya0NiUkh2N2dVWlZ5Z1ZIczhaaVJYVDlKS0JhNV90Y1I3d3FZRXl3?oc=5', 'content': '\"AI 100조 투자\" \"난 200조\"…대선 후보들 숫자 싸움 시작했다 - 중앙일보'}])], 'messages': [FunctionMessage(content='[{\"url\": \"https://news.google.com/rss/articles/CBMiWkFVX3lxTE1MckRhRy1VdDdHMXhBYUhIQWJrYXhGR2IyckFKUGhLSTlneFZCNnRPZlJCbjlDNDZCbGZjZW00cXE1VEN0M19TUDdQY0owVTRUeFp3bHhMRnp1QdIBVEFVX3lxTE1fLTI5bUVQdk5NZTZmWEkyRUhuM1RTWHJzSUZqQkNDSmNKSVlSUnNIT0FSanN3X2xOa25iYmRPakE3amVfd1hDOHZxSnZBVmswTTZKbA?oc=5\", \"content\": \"퓨리오사AI 투자 대박…TS·DSC인베스트 급등 - 한국경제\"}, {\"url\": \"https://news.google.com/rss/articles/CBMiZkFVX3lxTE9HWEhnTHFRV3V1Tnlza1dGay1PeGdGdkhXQ3hwNHBMWEt4Y3MzYS1fdkZsQWZZVlhwWFZmeHlaWkhRSklsXzlRdTg3Rk9zaHh4MVltazY5QkRpQktUUEc4eGdESGo2Z9IBbkFVX3lxTFA0Um1fM3RQbVpGWGxIQy1yQmlxSkd4dkp4OW4wNDNPaWlzTVV1blRvVzh2cklucnpkalBpeUNnUlkzMzRVbDA0MFFudHM4Tzhvc3R5QTk4VnlYb1RXT0kxUWVFUllSTE4wdVVRLXBB?oc=5\", \"content\": \"이재명이 만난 퓨리오사AI에 투자금 쏠리자 창업투자株 급등 - 머니투데이\"}, {\"url\": \"https://news.google.com/rss/articles/CBMiWkFVX3lxTE9rbUNLdjJsMGZSYUNxSE1xNDhwTGRZNlAtaks3TVQ2ekZNc3RrZU9uWUVURWxqZDE0bzgwbmV5Q1FvaUN1M1pIdEpXZHJZSWlEdGV2RmN2a1VpUdIBVEFVX3lxTE5PTEF6MElNZE13S2IzRDBLMU1wdUE4VUpmb2t3QWxNbUZPM0c0bFI4WlM0N3hlYWtfdi1nM3lSdWtRZ01hWTlxSFllUGVaamRiSS01cg?oc=5\", \"content\": \"퓨리오사AI에 몰린 투자금…관련주 줄줄이 \\'급등\\' - 한국경제\"}, {\"url\": \"https://news.google.com/rss/articles/CBMiiAFBVV95cUxNQkpGYWR0OWdqUzFSXzdHd0ZFMURmYWtOT3d4V3ZMeHJabEFHUXVxMWFBN0RVSG00Y0RwallKSkFnZmJwOHlqdm9KRUN2aVA2WDdxcG9PaHA5WHg5QzhOc0x6NlF2ZTNFS1ppcDdSeXB1RExYUTdXVDg3SnZVNGVaeGpjQkg3M01C?oc=5\", \"content\": \"[초점] 빅테크, 천문학적 AI 투자 부담에 전략 변화 모색 - 글로벌이코노믹\"}, {\"url\": \"https://news.google.com/rss/articles/CBMiVkFVX3lxTE96anEwam5ydDUxNzdKU0dLcE9mWWpDVG5Kb1ktQ3A3dTE3UWg3OHoya0NiUkh2N2dVWlZ5Z1ZIczhaaVJYVDlKS0JhNV90Y1I3d3FZRXl3?oc=5\", \"content\": \"\\\\\"AI 100조 투자\\\\\" \\\\\"난 200조\\\\\"…대선 후보들 숫자 싸움 시작했다 - 중앙일보\"}]', additional_kwargs={}, response_metadata={}, name='search_news')]}\n",
      "{'output': '다음은 AI 투자와 관련된 최근 뉴스입니다:\\n\\n1. [퓨리오사AI 투자 대박…TS·DSC인베스트 급등 - 한국경제](https://news.google.com/rss/articles/CBMiWkFVX3lxTE1MckRhRy1VdDdHMXhBYUhIQWJrYXhGR2IyckFKUGhLSTlneFZCNnRPZlJCbjlDNDZCbGZjZW00cXE1VEN0M19TUDdQY0owVTRUeFp3bHhMRnp1QdIBVEFVX3lxTE1fLTI5bUVQdk5NZTZmWEkyRUhuM1RTWHJzSUZqQkNDSmNKSVlSUnNIT0FSanN3X2xOa25iYmRPakE3amVfd1hDOHZxSnZBVmswTTZKbA)\\n\\n2. [이재명이 만난 퓨리오사AI에 투자금 쏠리자 창업투자株 급등 - 머니투데이](https://news.google.com/rss/articles/CBMiZkFVX3lxTE9HWEhnTHFRV3V1Tnlza1dGay1PeGdGdkhXQ3hwNHBMWEt4Y3MzYS1fdkZsQWZZVlhwWFZmeHlaWkhRSklsXzlRdTg3Rk9zaHh4MVltazY5QkRpQktUUEc4eGdESGo2Z9IBbkFVX3lxTFA0Um1fM3RQbVpGWGxIQy1yQmlxSkd4dkp4OW4wNDNPaWlzTVV1blRvVzh2cklucnpkalBpeUNnUlkzMzRVbDA0MFFudHM4Tzhvc3R5QTk4VnlYb1RXT0kxUWVFUllSTE4wdVVRLXBB)\\n\\n3. [퓨리오사AI에 몰린 투자금…관련주 줄줄이 \\'급등\\' - 한국경제](https://news.google.com/rss/articles/CBMiWkFVX3lxTE9rbUNLdjJsMGZSYUNxSE1xNDhwTGRZNlAtaks3TVQ2ekZNc3RrZU9uWUVURWxqZDE0bzgwbmV5Q1FvaUN1M1pIdEpXZHJZSWlEdGV2RmN2a1VpUdIBVEFVX3lxTE5PTEF6MElNZE13S2IzRDBLMU1wdUE4VUpmb2t3QWxNbUZPM0c0bFI4WlM0N3hlYWtfdi1nM3lSdWtRZ01hWTlxSFllUGVaamRiSS01cg)\\n\\n4. [빅테크, 천문학적 AI 투자 부담에 전략 변화 모색 - 글로벌이코노믹](https://news.google.com/rss/articles/CBMiiAFBVV95cUxNQkpGYWR0OWdqUzFSXzdHd0ZFMURmYWtOT3d4V3ZMeHJabEFHUXVxMWFBN0RVSG00Y0RwallKSkFnZmJwOHlqdm9KRUN2aVA2WDdxcG9PaHA5WHg5QzhOc0x6NlF2ZTNFS1ppcDdSeXB1RExYUTdXVDg3SnZVNGVaeGpjQkg3M01C)\\n\\n5. [\\\\\"AI 100조 투자\\\\\" \\\\\"난 200조\\\\\"…대선 후보들 숫자 싸움 시작했다 - 중앙일보](https://news.google.com/rss/articles/CBMiVkFVX3lxTE96anEwam5ydDUxNzdKU0dLcE9mWWpDVG5Kb1ktQ3A3dTE3UWg3OHoya0NiUkh2N2dVWlZ5Z1ZIczhaaVJYVDlKS0JhNV90Y1I3d3FZRXl3)\\n\\n이 뉴스들은 AI 투자에 대한 최근 동향과 관련된 내용을 다루고 있습니다.', 'messages': [AIMessage(content='다음은 AI 투자와 관련된 최근 뉴스입니다:\\n\\n1. [퓨리오사AI 투자 대박…TS·DSC인베스트 급등 - 한국경제](https://news.google.com/rss/articles/CBMiWkFVX3lxTE1MckRhRy1VdDdHMXhBYUhIQWJrYXhGR2IyckFKUGhLSTlneFZCNnRPZlJCbjlDNDZCbGZjZW00cXE1VEN0M19TUDdQY0owVTRUeFp3bHhMRnp1QdIBVEFVX3lxTE1fLTI5bUVQdk5NZTZmWEkyRUhuM1RTWHJzSUZqQkNDSmNKSVlSUnNIT0FSanN3X2xOa25iYmRPakE3amVfd1hDOHZxSnZBVmswTTZKbA)\\n\\n2. [이재명이 만난 퓨리오사AI에 투자금 쏠리자 창업투자株 급등 - 머니투데이](https://news.google.com/rss/articles/CBMiZkFVX3lxTE9HWEhnTHFRV3V1Tnlza1dGay1PeGdGdkhXQ3hwNHBMWEt4Y3MzYS1fdkZsQWZZVlhwWFZmeHlaWkhRSklsXzlRdTg3Rk9zaHh4MVltazY5QkRpQktUUEc4eGdESGo2Z9IBbkFVX3lxTFA0Um1fM3RQbVpGWGxIQy1yQmlxSkd4dkp4OW4wNDNPaWlzTVV1blRvVzh2cklucnpkalBpeUNnUlkzMzRVbDA0MFFudHM4Tzhvc3R5QTk4VnlYb1RXT0kxUWVFUllSTE4wdVVRLXBB)\\n\\n3. [퓨리오사AI에 몰린 투자금…관련주 줄줄이 \\'급등\\' - 한국경제](https://news.google.com/rss/articles/CBMiWkFVX3lxTE9rbUNLdjJsMGZSYUNxSE1xNDhwTGRZNlAtaks3TVQ2ekZNc3RrZU9uWUVURWxqZDE0bzgwbmV5Q1FvaUN1M1pIdEpXZHJZSWlEdGV2RmN2a1VpUdIBVEFVX3lxTE5PTEF6MElNZE13S2IzRDBLMU1wdUE4VUpmb2t3QWxNbUZPM0c0bFI4WlM0N3hlYWtfdi1nM3lSdWtRZ01hWTlxSFllUGVaamRiSS01cg)\\n\\n4. [빅테크, 천문학적 AI 투자 부담에 전략 변화 모색 - 글로벌이코노믹](https://news.google.com/rss/articles/CBMiiAFBVV95cUxNQkpGYWR0OWdqUzFSXzdHd0ZFMURmYWtOT3d4V3ZMeHJabEFHUXVxMWFBN0RVSG00Y0RwallKSkFnZmJwOHlqdm9KRUN2aVA2WDdxcG9PaHA5WHg5QzhOc0x6NlF2ZTNFS1ppcDdSeXB1RExYUTdXVDg3SnZVNGVaeGpjQkg3M01C)\\n\\n5. [\\\\\"AI 100조 투자\\\\\" \\\\\"난 200조\\\\\"…대선 후보들 숫자 싸움 시작했다 - 중앙일보](https://news.google.com/rss/articles/CBMiVkFVX3lxTE96anEwam5ydDUxNzdKU0dLcE9mWWpDVG5Kb1ktQ3A3dTE3UWg3OHoya0NiUkh2N2dVWlZ5Z1ZIczhaaVJYVDlKS0JhNV90Y1I3d3FZRXl3)\\n\\n이 뉴스들은 AI 투자에 대한 최근 동향과 관련된 내용을 다루고 있습니다.', additional_kwargs={}, response_metadata={})]}\n"
     ]
    }
   ],
   "execution_count": 8
  },
  {
   "metadata": {
    "ExecuteTime": {
     "end_time": "2025-04-21T14:29:44.192863Z",
     "start_time": "2025-04-21T14:29:44.017182Z"
    }
   },
   "cell_type": "code",
   "source": [
    "from langchain_teddynote.messages import AgentStreamParser\n",
    "\n",
    "agent_stream_parser = AgentStreamParser()"
   ],
   "id": "1cdce6d64b49d772",
   "outputs": [],
   "execution_count": 9
  },
  {
   "metadata": {
    "ExecuteTime": {
     "end_time": "2025-04-21T14:30:00.818021Z",
     "start_time": "2025-04-21T14:29:54.222200Z"
    }
   },
   "cell_type": "code",
   "source": [
    "# 질의에 대한 답변을 스트리밍으로 출력 요청\n",
    "result = agent_executor.stream(\n",
    "    {\"input\": \"matplotlib 을 사용하여 pie 차트를 그리는 코드를 작성하고 실행하세요.\"}\n",
    ")\n",
    "\n",
    "for step in result:\n",
    "    # 중간 단계를 parser 를 사용하여 단계별로 출력\n",
    "    agent_stream_parser.process_agent_steps(step)"
   ],
   "id": "109c471b70d486d2",
   "outputs": [
    {
     "name": "stderr",
     "output_type": "stream",
     "text": [
      "Python REPL can execute arbitrary code. Use with caution.\n"
     ]
    },
    {
     "name": "stdout",
     "output_type": "stream",
     "text": [
      "[도구 호출]\n",
      "Tool: python_repl_tool\n",
      "code: import matplotlib.pyplot as plt\n",
      "\n",
      "# 데이터\n",
      "sizes = [15, 30, 45, 10]\n",
      "labels = ['A', 'B', 'C', 'D']\n",
      "colors = ['gold', 'yellowgreen', 'lightcoral', 'lightskyblue']\n",
      "\n",
      "# 파이 차트 그리기\n",
      "plt.figure(figsize=(8, 6))\n",
      "plt.pie(sizes, labels=labels, colors=colors, autopct='%1.1f%%', startangle=140)\n",
      "plt.axis('equal')  # Equal aspect ratio ensures that pie is drawn as a circle.\n",
      "plt.title('Sample Pie Chart')\n",
      "plt.show()\n",
      "Log: \n",
      "Invoking: `python_repl_tool` with `{'code': \"import matplotlib.pyplot as plt\\n\\n# 데이터\\nsizes = [15, 30, 45, 10]\\nlabels = ['A', 'B', 'C', 'D']\\ncolors = ['gold', 'yellowgreen', 'lightcoral', 'lightskyblue']\\n\\n# 파이 차트 그리기\\nplt.figure(figsize=(8, 6))\\nplt.pie(sizes, labels=labels, colors=colors, autopct='%1.1f%%', startangle=140)\\nplt.axis('equal')  # Equal aspect ratio ensures that pie is drawn as a circle.\\nplt.title('Sample Pie Chart')\\nplt.show()\"}`\n",
      "\n",
      "\n",
      "\n"
     ]
    },
    {
     "data": {
      "text/plain": [
       "<Figure size 800x600 with 1 Axes>"
      ],
      "image/png": "[encoded data removed]"
     },
     "metadata": {},
     "output_type": "display_data"
    },
    {
     "name": "stdout",
     "output_type": "stream",
     "text": [
      "[관찰 내용]\n",
      "Observation: \n",
      "[최종 답변]\n",
      "파이 차트가 성공적으로 그려졌습니다. 차트는 각 섹션의 비율을 보여주며, 레이블과 색상이 포함되어 있습니다. 차트의 제목은 \"Sample Pie Chart\"입니다. \n",
      "\n",
      "이제 차트를 확인해 보세요!\n"
     ]
    }
   ],
   "execution_count": 10
  },
  {
   "metadata": {
    "ExecuteTime": {
     "end_time": "2025-04-21T14:32:05.858754Z",
     "start_time": "2025-04-21T14:32:05.850897Z"
    }
   },
   "cell_type": "code",
   "source": [
    "# AgentCallbacks와 AgentStreamParser를 langchain_teddynote.messages에서 가져옵니다.\n",
    "from langchain_teddynote.messages import AgentCallbacks, AgentStreamParser\n",
    "\n",
    "\n",
    "# 도구 호출 시 실행되는 콜백 함수입니다.\n",
    "def tool_callback(tool) -> None:\n",
    "    print(\"<<<<<<< 도구 호출 >>>>>>\")\n",
    "    print(f\"Tool: {tool.get('tool')}\")  # 사용된 도구의 이름을 출력합니다.\n",
    "    print(\"<<<<<<< 도구 호출 >>>>>>\")\n",
    "\n",
    "\n",
    "# 관찰 결과를 출력하는 콜백 함수입니다.\n",
    "def observation_callback(observation) -> None:\n",
    "    print(\"<<<<<<< 관찰 내용 >>>>>>\")\n",
    "    print(\n",
    "        f\"Observation: {observation.get('observation')[0]}\"\n",
    "    )  # 관찰 내용을 출력합니다.\n",
    "    print(\"<<<<<<< 관찰 내용 >>>>>>\")\n",
    "\n",
    "\n",
    "# 최종 결과를 출력하는 콜백 함수입니다.\n",
    "def result_callback(result: str) -> None:\n",
    "    print(\"<<<<<<< 최종 답변 >>>>>>\")\n",
    "    print(result)  # 최종 답변을 출력합니다.\n",
    "    print(\"<<<<<<< 최종 답변 >>>>>>\")\n",
    "\n",
    "\n",
    "# AgentCallbacks 객체를 생성하여 각 단계별 콜백 함수를 설정합니다.\n",
    "agent_callbacks = AgentCallbacks(\n",
    "    tool_callback=tool_callback,\n",
    "    observation_callback=observation_callback,\n",
    "    result_callback=result_callback,\n",
    ")\n",
    "\n",
    "# AgentStreamParser 객체를 생성하여 에이전트의 실행 과정을 파싱합니다.\n",
    "agent_stream_parser = AgentStreamParser(agent_callbacks)"
   ],
   "id": "bf5ab23dabcb3258",
   "outputs": [],
   "execution_count": 11
  },
  {
   "metadata": {
    "ExecuteTime": {
     "end_time": "2025-04-21T14:33:03.390072Z",
     "start_time": "2025-04-21T14:32:34.857021Z"
    }
   },
   "cell_type": "code",
   "source": [
    "# 질의에 대한 답변을 스트리밍으로 출력 요청\n",
    "result = agent_executor.stream({\"input\": \"AI 투자관련 뉴스를 검색해 주세요.\"})\n",
    "\n",
    "for step in result:\n",
    "    # 중간 단계를 parser 를 사용하여 단계별로 출력\n",
    "    agent_stream_parser.process_agent_steps(step)"
   ],
   "id": "89e8775b94c8de15",
   "outputs": [
    {
     "name": "stdout",
     "output_type": "stream",
     "text": [
      "<<<<<<< 도구 호출 >>>>>>\n",
      "Tool: search_news\n",
      "<<<<<<< 도구 호출 >>>>>>\n",
      "<<<<<<< 관찰 내용 >>>>>>\n",
      "Observation: {'url': 'https://news.google.com/rss/articles/CBMiWkFVX3lxTE1MckRhRy1VdDdHMXhBYUhIQWJrYXhGR2IyckFKUGhLSTlneFZCNnRPZlJCbjlDNDZCbGZjZW00cXE1VEN0M19TUDdQY0owVTRUeFp3bHhMRnp1QdIBVEFVX3lxTE1fLTI5bUVQdk5NZTZmWEkyRUhuM1RTWHJzSUZqQkNDSmNKSVlSUnNIT0FSanN3X2xOa25iYmRPakE3amVfd1hDOHZxSnZBVmswTTZKbA?oc=5', 'content': '퓨리오사AI 투자 대박…TS·DSC인베스트 급등 - 한국경제'}\n",
      "<<<<<<< 관찰 내용 >>>>>>\n",
      "<<<<<<< 최종 답변 >>>>>>\n",
      "다음은 AI 투자와 관련된 최근 뉴스 기사들입니다:\n",
      "\n",
      "1. [퓨리오사AI 투자 대박…TS·DSC인베스트 급등 - 한국경제](https://news.google.com/rss/articles/CBMiWkFVX3lxTE1MckRhRy1VdDdHMXhBYUhIQWJrYXhGR2IyckFKUGhLSTlneFZCNnRPZlJCbjlDNDZCbGZjZW00cXE1VEN0M19TUDdQY0owVTRUeFp3bHhMRnp1QdIBVEFVX3lxTE1fLTI5bUVQdk5NZTZmWEkyRUhuM1RTWHJzSUZqQkNDSmNKSVlSUnNIT0FSanN3X2xOa25iYmRPakE3amVfd1hDOHZxSnZBVmswTTZKbA)\n",
      "\n",
      "2. [이재명이 만난 퓨리오사AI에 투자금 쏠리자 창업투자株 급등 - 머니투데이](https://news.google.com/rss/articles/CBMiZkFVX3lxTE9HWEhnTHFRV3V1Tnlza1dGay1PeGdGdkhXQ3hwNHBMWEt4Y3MzYS1fdkZsQWZZVlhwWFZmeHlaWkhRSklsXzlRdTg3Rk9zaHh4MVltazY5QkRpQktUUEc4eGdESGo2Z9IBbkFVX3lxTFA0Um1fM3RQbVpGWGxIQy1yQmlxSkd4dkp4OW4wNDNPaWlzTVV1blRvVzh2cklucnpkalBpeUNnUlkzMzRVbDA0MFFudHM4Tzhvc3R5QTk4VnlYb1RXT0kxUWVFUllSTE4wdVVRLXBB)\n",
      "\n",
      "3. [퓨리오사AI에 몰린 투자금…관련주 줄줄이 '급등' - 한국경제](https://news.google.com/rss/articles/CBMiWkFVX3lxTE9rbUNLdjJsMGZSYUNxSE1xNDhwTGRZNlAtaks3TVQ2ekZNc3RrZU9uWUVURWxqZDE0bzgwbmV5Q1FvaUN1M1pIdEpXZHJZSWlEdGV2RmN2a1VpUdIBVEFVX3lxTE5PTEF6MElNZE13S2IzRDBLMU1wdUE4VUpmb2t3QWxNbUZPM0c0bFI4WlM0N3hlYWtfdi1nM3lSdWtRZ01hWTlxSFllUGVaamRiSS01cg)\n",
      "\n",
      "4. [빅테크, 천문학적 AI 투자 부담에 전략 변화 모색 - 글로벌이코노믹](https://news.google.com/rss/articles/CBMiiAFBVV95cUxNQkpGYWR0OWdqUzFSXzdHd0ZFMURmYWtOT3d4V3ZMeHJabEFHUXVxMWFBN0RVSG00Y0RwallKSkFnZmJwOHlqdm9KRUN2aVA2WDdxcG9PaHA5WHg5QzhOc0x6NlF2ZTNFS1ppcDdSeXB1RExYUTdXVDg3SnZVNGVaeGpjQkg3M01C)\n",
      "\n",
      "5. [\\\"AI 100조 투자\\\" \\\"난 200조\\\"…대선 후보들 숫자 싸움 시작했다 - 중앙일보](https://news.google.com/rss/articles/CBMiVkFVX3lxTE96anEwam5ydDUxNzdKU0dLcE9mWWpDVG5Kb1ktQ3A3dTE3UWg3OHoya0NiUkh2N2dVWlZ5Z1ZIczhaaVJYVDlKS0JhNV90Y1I3d3FZRXl3)\n",
      "\n",
      "이 기사를 통해 AI 투자에 대한 최신 동향을 확인하실 수 있습니다.\n",
      "<<<<<<< 최종 답변 >>>>>>\n"
     ]
    }
   ],
   "execution_count": 12
  },
  {
   "metadata": {},
   "cell_type": "markdown",
   "source": "# 이전 대화내용 기억하는 Agent",
   "id": "aa675bb50c57534c"
  },
  {
   "metadata": {
    "ExecuteTime": {
     "end_time": "2025-04-21T14:35:01.139833Z",
     "start_time": "2025-04-21T14:35:01.126092Z"
    }
   },
   "cell_type": "code",
   "source": [
    "from langchain_community.chat_message_histories import ChatMessageHistory\n",
    "from langchain_core.runnables.history import RunnableWithMessageHistory\n",
    "\n",
    "\n",
    "# session_id를 저장할 딕셔너리 생성\n",
    "store = {}\n",
    "\n",
    "# session_id를 기반으로 세션 기록을 가져오는 함수\n",
    "def get_session_history(session_ids):\n",
    "    if session_ids not in store:\n",
    "        store[session_ids] = ChatMessageHistory()\n",
    "    return store[session_ids]\n",
    "\n",
    "# 채팅 메시지 기록이 추가된 에이전트를 생성\n",
    "agent_with_chat_history = RunnableWithMessageHistory(\n",
    "    agent_executor,\n",
    "    get_session_history,\n",
    "    input_messages_key=\"input\",\n",
    "    history_messages_key=\"chat_history\",\n",
    ")"
   ],
   "id": "4a15ce47c5639bb8",
   "outputs": [],
   "execution_count": 13
  },
  {
   "metadata": {
    "ExecuteTime": {
     "end_time": "2025-04-21T14:36:05.687759Z",
     "start_time": "2025-04-21T14:36:04.667272Z"
    }
   },
   "cell_type": "code",
   "source": [
    "# 질의에 대한 답변을 스트리밍으로 출력 요청\n",
    "response = agent_with_chat_history.stream(\n",
    "    {\"input\": \"안녕? 내 이름은 종진이야.\"},\n",
    "    config={\"configurable\": {\"session_id\": \"abc123\"}}\n",
    ")\n",
    "\n",
    "# 출력 확인\n",
    "for step in response:\n",
    "    agent_stream_parser.process_agent_steps(step)"
   ],
   "id": "d637fde84834b240",
   "outputs": [
    {
     "name": "stdout",
     "output_type": "stream",
     "text": [
      "<<<<<<< 최종 답변 >>>>>>\n",
      "안녕하세요, 종진님! 어떻게 도와드릴까요?\n",
      "<<<<<<< 최종 답변 >>>>>>\n"
     ]
    }
   ],
   "execution_count": 14
  },
  {
   "metadata": {
    "ExecuteTime": {
     "end_time": "2025-04-21T14:36:26.044576Z",
     "start_time": "2025-04-21T14:36:25.178140Z"
    }
   },
   "cell_type": "code",
   "source": [
    "# 질의에 대한 답변을 스트리밍으로 출력 요청\n",
    "response = agent_with_chat_history.stream(\n",
    "    {\"input\": \"내 이름이 뭐라고?\"},\n",
    "    # session_id 설정\n",
    "    config={\"configurable\": {\"session_id\": \"abc123\"}},\n",
    ")\n",
    "\n",
    "# 출력 확인\n",
    "for step in response:\n",
    "    agent_stream_parser.process_agent_steps(step)"
   ],
   "id": "ba05959f123f9d8a",
   "outputs": [
    {
     "name": "stdout",
     "output_type": "stream",
     "text": [
      "<<<<<<< 최종 답변 >>>>>>\n",
      "종진님이라고 하셨습니다! 맞나요?\n",
      "<<<<<<< 최종 답변 >>>>>>\n"
     ]
    }
   ],
   "execution_count": 15
  },
  {
   "metadata": {
    "ExecuteTime": {
     "end_time": "2025-04-21T14:36:38.645635Z",
     "start_time": "2025-04-21T14:36:37.338467Z"
    }
   },
   "cell_type": "code",
   "source": [
    "# 질의에 대한 답변을 스트리밍으로 출력 요청\n",
    "response = agent_with_chat_history.stream(\n",
    "    {\n",
    "        \"input\": \"내 이메일 주소는 teddy@teddynote.com 이야. 회사 이름은 테디노트 주식회사야.\"\n",
    "    },\n",
    "    # session_id 설정\n",
    "    config={\"configurable\": {\"session_id\": \"abc123\"}},\n",
    ")\n",
    "\n",
    "# 출력 확인\n",
    "for step in response:\n",
    "    agent_stream_parser.process_agent_steps(step)"
   ],
   "id": "bc3e568778a76a5b",
   "outputs": [
    {
     "name": "stdout",
     "output_type": "stream",
     "text": [
      "<<<<<<< 최종 답변 >>>>>>\n",
      "감사합니다, 종진님! 테디노트 주식회사에 대해 궁금한 점이 있으신가요? 아니면 다른 도움이 필요하신가요?\n",
      "<<<<<<< 최종 답변 >>>>>>\n"
     ]
    }
   ],
   "execution_count": 16
  },
  {
   "metadata": {
    "ExecuteTime": {
     "end_time": "2025-04-21T14:37:28.981247Z",
     "start_time": "2025-04-21T14:36:53.141114Z"
    }
   },
   "cell_type": "code",
   "source": [
    "# 질의에 대한 답변을 스트리밍으로 출력 요청\n",
    "response = agent_with_chat_history.stream(\n",
    "    {\n",
    "        \"input\": \"최신 뉴스 5개를 검색해서 이메일의 본문으로 작성해줘. \"\n",
    "        \"수신인에는 `셜리 상무님` 그리고, 발신인에는 내 인적정보를 적어줘.\"\n",
    "        \"정중한 어조로 작성하고, 메일의 시작과 끝에는 적절한 인사말과 맺음말을 적어줘.\"\n",
    "    },\n",
    "    # session_id 설정\n",
    "    config={\"configurable\": {\"session_id\": \"abc123\"}},\n",
    ")\n",
    "\n",
    "# 출력 확인\n",
    "for step in response:\n",
    "    agent_stream_parser.process_agent_steps(step)"
   ],
   "id": "95ee04a56f746ee9",
   "outputs": [
    {
     "name": "stdout",
     "output_type": "stream",
     "text": [
      "<<<<<<< 도구 호출 >>>>>>\n",
      "Tool: search_news\n",
      "<<<<<<< 도구 호출 >>>>>>\n",
      "<<<<<<< 관찰 내용 >>>>>>\n",
      "Observation: {'url': 'https://news.google.com/rss/articles/CBMiZEFVX3lxTE96MnluVWlyX25IX2tKV25hNmxYVVFyQ21vbEFzYXFLYzVDeTdTeTl2RkdDeV9rTnE4clBlMXNQTDBEbFpsUE1LVTlFWGJKM2Y2SEFxMDFqS3JBcGtqYVIyQWxPaUc?oc=5', 'content': '[신간]] 유튜버 테디노트와 AI 전문가의 챗GPT 업무 활용법 『일잘러의 비밀, 챗GPT와 GPTs로 나만의 AI 챗봇 만들기』 - 매일일보'}\n",
      "<<<<<<< 관찰 내용 >>>>>>\n",
      "<<<<<<< 최종 답변 >>>>>>\n",
      "아래는 셜리 상무님께 보낼 이메일 초안입니다.\n",
      "\n",
      "---\n",
      "\n",
      "제목: 최신 뉴스 업데이트\n",
      "\n",
      "안녕하세요, 셜리 상무님.\n",
      "\n",
      "테디노트 주식회사에 관련된 최신 뉴스를 아래와 같이 공유드립니다.\n",
      "\n",
      "1. [유튜버 테디노트와 AI 전문가의 챗GPT 업무 활용법 『일잘러의 비밀, 챗GPT와 GPTs로 나만의 AI 챗봇 만들기』 - 매일일보](https://news.google.com/rss/articles/CBMiZEFVX3lxTE96MnluVWlyX25IX2tKV25hNmxYVVFyQ21vbEFzYXFLYzVDeTdTeTl2RkdDeV9rTnE4clBlMXNQTDBEbFpsUE1LVTlFWGJKM2Y2SEFxMDFqS3JBcGtqYVIyQWxPaUc?oc=5)\n",
      "\n",
      "2. [신간 '일잘러의 비밀, 챗GPT와 GPTs로 나만의 AI 챗봇 만들기' - 뉴스핌](https://news.google.com/rss/articles/CBMiXEFVX3lxTE9KWkJkQWRLRzFZNUxMR2N6d283dk81NDhtNUxpLU9pZ0pjMHQ3VmQyU3VrVTRLc1dYdFdIa1JtQ25fbkNKWnZhYXBIOHVLVExGVmdYY2FNM0VKVEtK0gFeQVVfeXFMTUNsRnlTSnlNVS1zZHZTdWNqcGhVZWNmV2VFc0Q3enhRMHA0S1B4NkwxWllxM052NnJPcGdSTmpDVExlVTdyWU9mVWZsQkhxTXVmRXRMUVpwWGtGZGkwUQ?oc=5)\n",
      "\n",
      "3. ['일잘러의 비밀, 직접 만든 AI 챗봇으로 업무 혁신 이끈다' - 베리타스알파](https://news.google.com/rss/articles/CBMia0FVX3lxTE9VeXQzbVJicUJlZW5TaTNaNHZSaDdHd01ndWtzUjNTNjVDQXBBV2Z5VWRzT0tCVW1vLVk0Tm9HTHNFcTI4OXQ0ZFVsdTRnYVJNOERSRm5EZk9wVDBwaFJQR2tVTFZjci0wLUtr?oc=5)\n",
      "\n",
      "4. [[모두콘 2024] 금융 분야 LLM의 도입과 위험 - 브런치스토리](https://news.google.com/rss/articles/CBMiTkFVX3lxTFBuNUhpUVdXR1YyWnozeHRocUNPYVNTcXphbm4tZ05rWHVrYzRrOG9TRjRoWWV3OEpQZTJpMWRUMFFuQjZaQy02SGMtcDkzUQ?oc=5)\n",
      "\n",
      "5. [이기우, 유기견 출신 반려견 '테디♥차차'와 찰칵!...\\\"함께 가고 있구나\\\" - MSN](https://news.google.com/rss/articles/CBMirARBVV95cUxOVE9DMjg1Z1dQbmxCOEpyUHEtb0JWWkZ5dmRHYUMyQ0ZFSWlzN1hfQ1NtZVRpTUxXY0RyZUJBd09MM09YcEpkTFQyb25uSVpjeURLVjFlMnJZVXduSjgwOXlDeDZDcWtxcWZRSTVqQXJQbmZtUElLcUotcTFUTjBkLXdhejB4QXFGTjBUbFpaNlR0MXk0TFdfdEVDTTJDOHhhTnRXMnI4NVdHX0xqSnVaa2ota1FzQ1Jzb01uYmdVS1ZTb3MwbkFoSjJaZUl5RW9XcWFqQ0hKRnNGMTVXS3p0elhaekNZZE90Z3E0dE91Y1pkbUtIdDVqMERDTTJYRXJlVGhPOVBiaFBla240d01aZkduaDJMWnc3REFtTjBERkxsLW5xaHY1d2xEc2RkaUZHa3dtY1g4NjNRejdmN0FoaVE5MkVKYV9SN0RoOUdqQzlnODR3TGo3WVBVZnRMa3BQWE9GZlVXaWV0T08yYTljaFI0Q25BM2JESWxpN1ZyUG5yVmZDdW5nMUZOU3JOU0RUX1FYeW5MYi1yT0cwWlZhM3FwT0RpR0hnNUdrc0VscE00Q0xzLUZka1ByNVlNbkZxX3hJeWw4ZzJ2NFFkOTFXQ01VLWE2OUJwejhjYkUxQnQyWjlQUFhoeHF3OEgxZjZhNDJmdmtLWnVaTVcyUkU2djU2YWdiV01FYlNpYURDMV9FY3hZQmdZNTJqRVd5ZVNHYnBxa2FsQUQ0aWxK?oc=5)\n",
      "\n",
      "이 뉴스들이 상무님께 유익한 정보가 되길 바랍니다. 추가로 궁금하신 사항이 있으시면 언제든지 말씀해 주세요.\n",
      "\n",
      "감사합니다.\n",
      "\n",
      "종진 드림  \n",
      "teddy@teddynote.com  \n",
      "테디노트 주식회사\n",
      "\n",
      "--- \n",
      "\n",
      "이메일 내용이 마음에 드시나요? 수정할 부분이 있으면 말씀해 주세요!\n",
      "<<<<<<< 최종 답변 >>>>>>\n"
     ]
    }
   ],
   "execution_count": 17
  }
 ],
 "metadata": {
  "kernelspec": {
   "display_name": "Python 3",
   "language": "python",
   "name": "python3"
  },
  "language_info": {
   "codemirror_mode": {
    "name": "ipython",
    "version": 2
   },
   "file_extension": ".py",
   "mimetype": "text/x-python",
   "name": "python",
   "nbconvert_exporter": "python",
   "pygments_lexer": "ipython2",
   "version": "2.7.6"
  }
 },
 "nbformat": 4,
 "nbformat_minor": 5
}
