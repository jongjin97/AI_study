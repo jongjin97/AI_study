{
 "cells": [
  {
   "cell_type": "code",
   "id": "initial_id",
   "metadata": {
    "collapsed": true,
    "ExecuteTime": {
     "end_time": "2025-04-22T06:16:25.013528Z",
     "start_time": "2025-04-22T06:16:24.978519Z"
    }
   },
   "source": [
    "from dotenv import load_dotenv\n",
    "\n",
    "# API KEY 정보로드\n",
    "load_dotenv()\n",
    "from langchain_teddynote import logging\n",
    "\n",
    "# 프로젝트 이름을 입력합니다.\n",
    "logging.langsmith(\"CH15-Agents\")"
   ],
   "outputs": [
    {
     "name": "stdout",
     "output_type": "stream",
     "text": [
      "LangSmith 추적을 시작합니다.\n",
      "[프로젝트명]\n",
      "CH15-Agents\n"
     ]
    }
   ],
   "execution_count": 1
  },
  {
   "metadata": {
    "ExecuteTime": {
     "end_time": "2025-04-22T06:17:01.061445Z",
     "start_time": "2025-04-22T06:16:58.792476Z"
    }
   },
   "cell_type": "code",
   "source": [
    "from langchain.agents import tool\n",
    "\n",
    "@tool\n",
    "def add_function(a: float, b: float) -> float:\n",
    "    \"\"\"Adds two numbers together.\"\"\"\n",
    "    return a + b"
   ],
   "id": "3a8192ae90487781",
   "outputs": [],
   "execution_count": 2
  },
  {
   "metadata": {
    "ExecuteTime": {
     "end_time": "2025-04-22T06:20:24.169223Z",
     "start_time": "2025-04-22T06:20:21.695653Z"
    }
   },
   "cell_type": "code",
   "source": [
    "from langchain_core.prompts import ChatPromptTemplate, MessagesPlaceholder\n",
    "from langchain_openai import ChatOpenAI\n",
    "from langchain.agents import create_tool_calling_agent, AgentExecutor\n",
    "\n",
    "# 도구 정의\n",
    "tools = [add_function]\n",
    "\n",
    "# LLM 생성\n",
    "llm = ChatOpenAI(model=\"gpt-4o-mini\")\n",
    "\n",
    "# prompt 생성\n",
    "prompt = ChatPromptTemplate.from_messages(\n",
    "    [\n",
    "        (\"system\", \"You are a helpful assistant. Make sure to use the `search_news` tool for searching ketword related news.\"),\n",
    "        (\"human\", \"{input}\"),\n",
    "        MessagesPlaceholder(variable_name=\"agent_scratchpad\")\n",
    "    ]\n",
    ")\n",
    "\n",
    "# Agent 생성\n",
    "llm_agent = create_tool_calling_agent(llm, tools, prompt)\n",
    "\n",
    "# AgentExecutor 생성\n",
    "agent_executor = AgentExecutor(\n",
    "    agent=llm_agent,\n",
    "    tools=tools,\n",
    "    verbose=True,\n",
    "    max_iterations=10,\n",
    "    handle_parsing_errors=True,\n",
    ")"
   ],
   "id": "a830d33f0d4448df",
   "outputs": [],
   "execution_count": 3
  },
  {
   "metadata": {
    "ExecuteTime": {
     "end_time": "2025-04-22T06:24:39.496910Z",
     "start_time": "2025-04-22T06:24:17.705594Z"
    }
   },
   "cell_type": "code",
   "source": [
    "# 계산할 질문 설정\n",
    "question = \"114.5 + 121.2 + 34.2 + 110.1 의 계산 결과는?\"\n",
    "\n",
    "# agent_executor를 반복적으로 실행\n",
    "for step in agent_executor.iter({\"input\": question}):\n",
    "    if output := step.get(\"intermediate_step\"):\n",
    "        action, value = output[0]\n",
    "        if action.tool == \"add_function\":\n",
    "            # Tool 실행 결과 출력\n",
    "            print(f\"\\nTool Name: {action.tool}, 실행 결과: {value}\")\n",
    "        # 사용자에게 계속 진항할지 물음\n",
    "        _continue = input(\"계속 진행하시겠습니까? (y/n)?:\\n\") or \"Y\"\n",
    "        # 사용자가 'y'가 아닌 다른 입력을 하면 반복 중단\n",
    "        if _continue.lower() != 'y':\n",
    "            break\n",
    "\n",
    "# 최종 결과 출력\n",
    "if \"output\" in step:\n",
    "    print(step[\"output\"])"
   ],
   "id": "851caf5f6991259c",
   "outputs": [
    {
     "name": "stdout",
     "output_type": "stream",
     "text": [
      "\n",
      "\n",
      "\u001B[1m> Entering new None chain...\u001B[0m\n",
      "\u001B[32;1m\u001B[1;3m\n",
      "Invoking: `add_function` with `{'a': 114.5, 'b': 121.2}`\n",
      "\n",
      "\n",
      "\u001B[0m\u001B[36;1m\u001B[1;3m235.7\u001B[0m\n",
      "Tool Name: add_function, 실행 결과: 235.7\n",
      "\u001B[32;1m\u001B[1;3m\n",
      "Invoking: `add_function` with `{'a': 235.7, 'b': 34.2}`\n",
      "\n",
      "\n",
      "\u001B[0m\u001B[36;1m\u001B[1;3m269.9\u001B[0m\n",
      "Tool Name: add_function, 실행 결과: 269.9\n",
      "\u001B[32;1m\u001B[1;3m\n",
      "Invoking: `add_function` with `{'a': 269.9, 'b': 110.1}`\n",
      "\n",
      "\n",
      "\u001B[0m\u001B[36;1m\u001B[1;3m380.0\u001B[0m\n",
      "Tool Name: add_function, 실행 결과: 380.0\n",
      "\u001B[32;1m\u001B[1;3m계산 결과는 380.0입니다.\u001B[0m\n",
      "\n",
      "\u001B[1m> Finished chain.\u001B[0m\n",
      "계산 결과는 380.0입니다.\n"
     ]
    }
   ],
   "execution_count": 4
  }
 ],
 "metadata": {
  "kernelspec": {
   "display_name": "Python 3",
   "language": "python",
   "name": "python3"
  },
  "language_info": {
   "codemirror_mode": {
    "name": "ipython",
    "version": 2
   },
   "file_extension": ".py",
   "mimetype": "text/x-python",
   "name": "python",
   "nbconvert_exporter": "python",
   "pygments_lexer": "ipython2",
   "version": "2.7.6"
  }
 },
 "nbformat": 4,
 "nbformat_minor": 5
}
