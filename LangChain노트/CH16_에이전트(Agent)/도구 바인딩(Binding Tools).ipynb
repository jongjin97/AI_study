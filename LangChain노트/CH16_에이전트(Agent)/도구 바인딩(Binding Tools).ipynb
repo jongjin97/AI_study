{
 "cells": [
  {
   "cell_type": "code",
   "id": "initial_id",
   "metadata": {
    "collapsed": true,
    "ExecuteTime": {
     "end_time": "2025-04-21T13:37:40.233847Z",
     "start_time": "2025-04-21T13:37:40.203024Z"
    }
   },
   "source": [
    "from dotenv import load_dotenv\n",
    "\n",
    "# API KEY 정보로드\n",
    "load_dotenv()\n",
    "from langchain_teddynote import logging\n",
    "\n",
    "# 프로젝트 이름을 입력합니다.\n",
    "logging.langsmith(\"CH15-Bind-Tools\")"
   ],
   "outputs": [
    {
     "name": "stdout",
     "output_type": "stream",
     "text": [
      "LangSmith 추적을 시작합니다.\n",
      "[프로젝트명]\n",
      "CH15-Bind-Tools\n"
     ]
    }
   ],
   "execution_count": 1
  },
  {
   "metadata": {},
   "cell_type": "markdown",
   "source": "# LLM에 바인딩할 Tool 정의",
   "id": "23cdcb49630aa5bf"
  },
  {
   "metadata": {
    "ExecuteTime": {
     "end_time": "2025-04-21T13:40:44.781959Z",
     "start_time": "2025-04-21T13:40:42.043442Z"
    }
   },
   "cell_type": "code",
   "source": [
    "import re\n",
    "import requests\n",
    "from bs4 import BeautifulSoup\n",
    "from langchain.agents import tool\n",
    "\n",
    "@tool\n",
    "def get_word_length(word: str) -> int:\n",
    "    \"\"\"Returns the length of a word\"\"\"\n",
    "    return len(word)\n",
    "\n",
    "@tool\n",
    "def add_function(a: float, b: float) -> float:\n",
    "    \"\"\"Adds two numbers together.\"\"\"\n",
    "    return a + b\n",
    "\n",
    "@tool\n",
    "def naver_news_crawl(news_url: str) -> str:\n",
    "    \"\"\"Crawls a 네이버 (naver.com) news article and returns the body content.\"\"\"\n",
    "    # HTTP GET 요청 보내기\n",
    "    response = requests.get(news_url)\n",
    "\n",
    "    # 요청이 성공했는지 확인\n",
    "    if response.status_code == 200:\n",
    "        # BeautifulSoup을 사용하여 HTML 파싱\n",
    "        soup = BeautifulSoup(response.text, \"html.parser\")\n",
    "\n",
    "        # 원하는 정보 추출\n",
    "        title = soup.find(\"h2\", id=\"title_area\").get_text()\n",
    "        content = soup.find(\"div\", id=\"contents\").get_text()\n",
    "        cleaned_title = re.sub(r\"\\n{2,}\", \"\\n\", title)\n",
    "        cleaned_content = re.sub(r\"\\n{2,}\", \"\\n\", content)\n",
    "    else:\n",
    "        print(f\"HTTP 요청 실패. 응답 코드: {response.status_code}\")\n",
    "\n",
    "    return f\"{cleaned_title}\\n{cleaned_content}\"\n",
    "\n",
    "\n",
    "tools = [get_word_length, add_function, naver_news_crawl]"
   ],
   "id": "31b71b11e8ac8314",
   "outputs": [],
   "execution_count": 2
  },
  {
   "metadata": {},
   "cell_type": "markdown",
   "source": "# bind_tools() 로 LLM 에 도구 바인딩",
   "id": "2b984f016c7c0a7d"
  },
  {
   "metadata": {
    "ExecuteTime": {
     "end_time": "2025-04-21T13:41:26.037185Z",
     "start_time": "2025-04-21T13:41:23.450703Z"
    }
   },
   "cell_type": "code",
   "source": [
    "from langchain_openai import ChatOpenAI\n",
    "\n",
    "# 모델 생성\n",
    "llm = ChatOpenAI(model=\"gpt-4o-mini\", temperature=0)\n",
    "\n",
    "# 도구 바인딩\n",
    "llm_with_tools = llm.bind_tools(tools)"
   ],
   "id": "d5284735785158b0",
   "outputs": [],
   "execution_count": 3
  },
  {
   "metadata": {
    "ExecuteTime": {
     "end_time": "2025-04-21T13:42:10.969805Z",
     "start_time": "2025-04-21T13:42:09.518751Z"
    }
   },
   "cell_type": "code",
   "source": [
    "# 실행 결과\n",
    "llm_with_tools.invoke(\"What is the length of the word 'jongjin'?\").tool_calls"
   ],
   "id": "213fb4c5c5cb8315",
   "outputs": [
    {
     "data": {
      "text/plain": [
       "[{'name': 'get_word_length',\n",
       "  'args': {'word': 'jongjin'},\n",
       "  'id': 'call_CtVNCHBmKV6JfPfffwZ5NlVg',\n",
       "  'type': 'tool_call'}]"
      ]
     },
     "execution_count": 4,
     "metadata": {},
     "output_type": "execute_result"
    }
   ],
   "execution_count": 4
  },
  {
   "metadata": {
    "ExecuteTime": {
     "end_time": "2025-04-21T13:43:19.443305Z",
     "start_time": "2025-04-21T13:43:17.651826Z"
    }
   },
   "cell_type": "code",
   "source": [
    "from langchain_core.output_parsers.openai_tools import JsonOutputToolsParser\n",
    "\n",
    "# 도구 바인딩 + 도구 파서\n",
    "chain = llm_with_tools | JsonOutputToolsParser(tools=tools)\n",
    "\n",
    "# 실행 결과\n",
    "tool_call_results = chain.invoke(\"What is the length of the word 'jongjin'?\")"
   ],
   "id": "e1a7fa998f4c708c",
   "outputs": [],
   "execution_count": 5
  },
  {
   "metadata": {
    "ExecuteTime": {
     "end_time": "2025-04-21T13:43:31.006554Z",
     "start_time": "2025-04-21T13:43:31.001914Z"
    }
   },
   "cell_type": "code",
   "source": [
    "print(tool_call_results, end=\"\\n\\n==========\\n\\n\")\n",
    "# 첫 번째 도구 호출 결과\n",
    "single_result = tool_call_results[0]\n",
    "# 도구 이름\n",
    "print(single_result[\"type\"])\n",
    "# 도구 인자\n",
    "print(single_result[\"args\"])"
   ],
   "id": "759f77a125905f3",
   "outputs": [
    {
     "name": "stdout",
     "output_type": "stream",
     "text": [
      "[{'args': {'word': 'jongjin'}, 'type': 'get_word_length'}]\n",
      "\n",
      "==========\n",
      "\n",
      "get_word_length\n",
      "{'word': 'jongjin'}\n"
     ]
    }
   ],
   "execution_count": 6
  },
  {
   "metadata": {
    "ExecuteTime": {
     "end_time": "2025-04-21T13:43:48.776003Z",
     "start_time": "2025-04-21T13:43:48.770840Z"
    }
   },
   "cell_type": "code",
   "source": "tool_call_results[0][\"type\"], tools[0].name",
   "id": "a828a5cbbd4f735b",
   "outputs": [
    {
     "data": {
      "text/plain": [
       "('get_word_length', 'get_word_length')"
      ]
     },
     "execution_count": 7,
     "metadata": {},
     "output_type": "execute_result"
    }
   ],
   "execution_count": 7
  },
  {
   "metadata": {
    "ExecuteTime": {
     "end_time": "2025-04-21T13:47:43.292763Z",
     "start_time": "2025-04-21T13:47:43.283908Z"
    }
   },
   "cell_type": "code",
   "source": [
    "def execute_tool_calls(tool_call_results):\n",
    "    \"\"\"\n",
    "    도구를 호출하는 함수\n",
    "\n",
    "    :param tool_call_results: 도구 호출 결과 리스트\n",
    "    :return: 사용 가능한 도구 리스트\n",
    "    \"\"\"\n",
    "    # 도구 호출 결과 리스트를 순회\n",
    "    for tool_call_result in tool_call_results:\n",
    "        # 도구의 이름과 인자를 추출\n",
    "        tool_name = tool_call_result[\"type\"]\n",
    "        tool_args = tool_call_result[\"args\"]\n",
    "\n",
    "        # 도구 이름과 일치하는 도구를 찾아 실행\n",
    "        # next() 함수를 사용하여 일치하는 첫 번째 도구를 찾음\n",
    "        matching_tool = next((tool for tool in tools if tool.name == tool_name), None)\n",
    "\n",
    "        if matching_tool:\n",
    "            # 일치하는 도구를 찾았다면 해당 도구를 실행\n",
    "            result = matching_tool.invoke(tool_args)\n",
    "            # 실행 결과를 출력\n",
    "            print(f\"[실행도구] {tool_name}\\n[실행결과] {result}\")\n",
    "        else:\n",
    "            # 일치하는 도구를 찾지 못했다면 경고 메시지를 출력\n",
    "            print(f\"경고: {tool_name}에 해당하는 도구를 찾을 수 없습니다.\")\n",
    "\n",
    "# 도구 호출 실행\n",
    "# 이전에 얻은 tool_call_results를 인자로 전달하여 함수를 실행\n",
    "execute_tool_calls(tool_call_results)"
   ],
   "id": "7ca48955cee1c666",
   "outputs": [
    {
     "name": "stdout",
     "output_type": "stream",
     "text": [
      "[실행도구] get_word_length\n",
      "[실행결과] 7\n"
     ]
    }
   ],
   "execution_count": 10
  },
  {
   "metadata": {},
   "cell_type": "markdown",
   "source": "# bind_tools + Parser + Execution",
   "id": "afd5e2d85e8976d0"
  },
  {
   "metadata": {
    "ExecuteTime": {
     "end_time": "2025-04-21T13:48:32.564349Z",
     "start_time": "2025-04-21T13:48:32.559007Z"
    }
   },
   "cell_type": "code",
   "source": [
    "from langchain_core.output_parsers.openai_tools import JsonOutputToolsParser\n",
    "\n",
    "# bind_tools + Parser + Execution\n",
    "chain = llm_with_tools | JsonOutputToolsParser(tools=tools) | execute_tool_calls"
   ],
   "id": "48cbbfb556c7c5b5",
   "outputs": [],
   "execution_count": 11
  },
  {
   "metadata": {
    "ExecuteTime": {
     "end_time": "2025-04-21T13:48:48.964909Z",
     "start_time": "2025-04-21T13:48:47.673985Z"
    }
   },
   "cell_type": "code",
   "source": [
    "# 실행 결과\n",
    "chain.invoke(\"What is the length of the word 'jongjin'?\")"
   ],
   "id": "c86407fee52fcd9c",
   "outputs": [
    {
     "name": "stdout",
     "output_type": "stream",
     "text": [
      "[실행도구] get_word_length\n",
      "[실행결과] 7\n"
     ]
    }
   ],
   "execution_count": 12
  },
  {
   "metadata": {
    "ExecuteTime": {
     "end_time": "2025-04-21T13:49:09.703454Z",
     "start_time": "2025-04-21T13:49:08.557639Z"
    }
   },
   "cell_type": "code",
   "source": [
    "# 실행 결과\n",
    "chain.invoke(\"114.5 + 121.2\")\n",
    "print(114.5 + 121.2)"
   ],
   "id": "87d08336661ded31",
   "outputs": [
    {
     "name": "stdout",
     "output_type": "stream",
     "text": [
      "[실행도구] add_function\n",
      "[실행결과] 235.7\n",
      "235.7\n"
     ]
    }
   ],
   "execution_count": 13
  },
  {
   "metadata": {
    "ExecuteTime": {
     "end_time": "2025-04-21T13:49:19.827051Z",
     "start_time": "2025-04-21T13:49:18.034065Z"
    }
   },
   "cell_type": "code",
   "source": [
    "# 실행 결과\n",
    "chain.invoke(\n",
    "    \"뉴스 기사 내용을 크롤링해줘: https://n.news.naver.com/mnews/hotissue/article/092/0002347672?type=series&cid=2000065\"\n",
    ")"
   ],
   "id": "b594e04a0cf24532",
   "outputs": [
    {
     "name": "stdout",
     "output_type": "stream",
     "text": [
      "[실행도구] naver_news_crawl\n",
      "[실행결과] [미장브리핑] 9월 미국 CPI 주목…3분기 S&P500 실적 발표\n",
      "\n",
      "\t\t\t▲10일(현지시간) 미국 9월 소비자물가지수(CPI) 발표 예정. 고용 지표가 양호하게 나온 가운데 물가 지표 주목. 9월 미국 비농업고용 25만4천명 증가해 시장 예상치 14만명 크게 상회. 이는 6개월 래 최대 규모로 지난 12개월 평균값 20만3천명 증가한 것보다도 높은 수치. 9월 실업률은 4.1%로 2개월 연속 하락했으며, 평균 시간당 임금은 전년 동월 대비 4% 증가해 5월 이후 최고 수준.▲시장에서 9월 헤드라인 CPI는 8월 전년 동월 대비 2.6% 로 5개월 연속 둔화하고 9월에는 2.3% 증가로 추가 하락 예상. 전월 대비도 8월 0.2% 둔화 예상. 근원 CPI는 지난 8월 3.2%와 비슷한 수준 관측.▲11일에는 미국 9월 제조업물가지수(PPI) 발표. 지난 6월 부터 8월까지 반등 추세 꺾여. 8월은 1.7% 증가.\n",
      "(사진=이미지투데이)▲11월 미국 연방준비제도(연준) 공개시장위원회(FOMC) 에서 0.50%p 인하 기대가 크케 후퇴한 가운데, 9일에는 FOMC 의사록 공개. 지난 9월 회의에서 빅컷(0.50%p) 단행한 배경과 인플레이션 전망에 대한 논의를 알 수 있을 것으로 보여.▲미국 스탠다드앤푸어스(S&P) 500 기업의 3분기 실적 발표 시작. 평균 이익증가율 추정치는 전년 동기 대비 4.6%로 5개분기 연속 플러스이나 증가폭은 둔화 예상. 11일부터 JP모건체이스, 웰스파고 등 대형은행들의 실적 발표.▲FTSE 러셀은 8일 정례 시장분류 결과를 발표. 한국은 2022년 관찰대상국 지정 이후 금번 시장접근성 등급(L1) 상향으로 세계국채지수(WGBI) 에 편입될 지 관심. 주식의 경우 지난 2009년부터 선진국 지수에 편입돼 있는 한국 증시에 대해 공매도 제한 등을 이유로 관찰 대상국으로 지정할지 관심. 지정되더라도 검토 기간이 있어 즉각 제외되지는 않음.\n",
      "손희연 기자(kunst@zdnet.co.kr)\n",
      "기자 프로필\n",
      "지디넷코리아\n",
      "지디넷코리아\n",
      "손희연 기자\n",
      "손희연 기자\n",
      "구독\n",
      "구독중\n",
      "구독자 0\n",
      "응원수\n",
      "0\n",
      "디지털이 접목되는 금융·식음료업계를 취재합니다 \n",
      "KB국민은행, 소상공인 정책자금대출 비대면 서비스 오픈\n",
      "[미장브리핑] 美 \"H20 수출 허가받아야\"…엔비디아 주가↓\n",
      "지디넷코리아의 구독 많은 기자를 구독해보세요!\n",
      "닫기\n",
      "Copyright ⓒ ZDNet Korea. All rights reserved. 무단 전재 및 재배포 금지.\n",
      " \n",
      "이 기사는 언론사에서 IT 섹션으로 분류했습니다.\n",
      "기사 섹션 분류 안내\n",
      "기사의 섹션 정보는 해당 언론사의 분류를 따르고 있습니다. 언론사는 개별 기사를 2개 이상 섹션으로 중복 분류할 수 있습니다.\n",
      "닫기\n",
      "구독\n",
      "메인에서 바로 보는 언론사 편집 뉴스 지금 바로 구독해보세요!\n",
      "구독중\n",
      "메인에서 바로 보는 언론사 편집 뉴스 지금 바로 확인해보세요!\n",
      "지디넷코리아 '홈페이지'\n",
      "QR 코드를 클릭하면 크게 볼 수 있어요.\n",
      "QR을 촬영해보세요.\n",
      "지디넷코리아 '홈페이지'\n",
      "닫기\n",
      "네이버 채널 구독하기\n",
      "지디넷코리아\n",
      "지디넷코리아\n",
      "\t\t\t주요뉴스해당 언론사에서 선정하며 언론사 페이지(아웃링크)로 이동해 볼 수 있습니다.\n",
      "KB금융, 광주 1인 여성 자영업자에 월 100만원 지원\n",
      "아파트만? 이제 빌라 주담대도 갈아타자\n",
      "카카오뱅크, 6일 새벽 금융거래 일시 중단\n",
      "우리은행 올해만 세 번째 금융사고…\"허위서류로 55억 대출\"\n",
      "이 기사를 추천합니다\n",
      "기사 추천은 24시간 내 50회까지 참여할 수 있습니다.\n",
      "닫기\n",
      "쏠쏠정보\n",
      "0\n",
      "흥미진진\n",
      "0\n",
      "공감백배\n",
      "0\n",
      "분석탁월\n",
      "0\n",
      "후속강추\n",
      "0\n",
      " \n",
      "모두에게 보여주고 싶은 기사라면?beta\n",
      "이 기사를 추천합니다 버튼을 눌러주세요.  집계 기간 동안 추천을 많이 받은 기사는 네이버 자동 기사배열 영역에 추천 요소로 활용됩니다.\n",
      "레이어 닫기\n",
      " \n",
      "지디넷코리아 언론사가 직접 선정한 이슈\n",
      "\t\t\t\n",
      "이슈\n",
      "AI 핫트렌드\n",
      "비활성화해도 다시 켜지는 AI…기업용 PC에 번지는 '코파일럿 고충'\n",
      "이슈\n",
      "반도체 전쟁\n",
      "TSMC, AI칩 수요 견조 재확인…삼성·SK, HBM 사업 성장세 '쾌청'\n",
      "이슈\n",
      "트럼프 2.0시대\n",
      "'철강 1·2위' 포스코-현대, 美 투자 맞손…관세 타격 상쇄 기대\n",
      "이슈\n",
      "고려아연 경영권 분쟁\n",
      "NH투자증권, 6월 MBK '고려아연' 인수 자금 만기 회수할까\n",
      "이전\n",
      "다음\n",
      "지디넷코리아 언론사홈 바로가기\n",
      " \n",
      "기자 구독 후 기사보기\n",
      "구독 없이 계속 보기\n",
      "\n"
     ]
    }
   ],
   "execution_count": 14
  },
  {
   "metadata": {},
   "cell_type": "markdown",
   "source": "# bind_tools > Agent & AgentExecutor 로 대체",
   "id": "43b1e0d9013dda20"
  },
  {
   "metadata": {
    "ExecuteTime": {
     "end_time": "2025-04-21T13:50:01.165634Z",
     "start_time": "2025-04-21T13:50:00.196360Z"
    }
   },
   "cell_type": "code",
   "source": [
    "from langchain_core.prompts import ChatPromptTemplate, MessagesPlaceholder\n",
    "from langchain_openai import ChatOpenAI\n",
    "\n",
    "# Agent프롬프트 생성\n",
    "prompt = ChatPromptTemplate.from_messages(\n",
    "    [\n",
    "        (\n",
    "            \"system\",\n",
    "            \"You are very powerful assistant, but don't know current events\",\n",
    "        ),\n",
    "        (\"user\", \"{input}\"),\n",
    "        MessagesPlaceholder(variable_name=\"agent_scratchpad\"),\n",
    "    ]\n",
    ")\n",
    "\n",
    "# 모델 생성\n",
    "llm = ChatOpenAI(model=\"gpt-4o-mini\", temperature=0)"
   ],
   "id": "e547237db8a134c1",
   "outputs": [],
   "execution_count": 15
  },
  {
   "metadata": {
    "ExecuteTime": {
     "end_time": "2025-04-21T13:51:05.560868Z",
     "start_time": "2025-04-21T13:51:05.541988Z"
    }
   },
   "cell_type": "code",
   "source": [
    "from langchain.agents import create_tool_calling_agent\n",
    "from langchain.agents import AgentExecutor\n",
    "\n",
    "# 이전에 정의한 도구 사용\n",
    "tools = [get_word_length, add_function, naver_news_crawl]\n",
    "\n",
    "# Agent 생성\n",
    "agent = create_tool_calling_agent(llm, tools, prompt)\n",
    "\n",
    "# AgentExecutor 생성\n",
    "agent_executor = AgentExecutor(\n",
    "    agent=agent,\n",
    "    tools=tools,\n",
    "    verbose=True,\n",
    "    handle_parsing_errors=True,\n",
    ")"
   ],
   "id": "5c5b2a7e6ed6b65f",
   "outputs": [],
   "execution_count": 16
  },
  {
   "metadata": {
    "ExecuteTime": {
     "end_time": "2025-04-21T13:51:36.765289Z",
     "start_time": "2025-04-21T13:51:34.785787Z"
    }
   },
   "cell_type": "code",
   "source": [
    "# Agent 실행\n",
    "result = agent_executor.invoke({\"input\": \"How many letters in the word 'jongjin'?\"})\n",
    "\n",
    "# 결과확인\n",
    "print(result)"
   ],
   "id": "5f0c4bad39496478",
   "outputs": [
    {
     "name": "stdout",
     "output_type": "stream",
     "text": [
      "\n",
      "\n",
      "\u001B[1m> Entering new AgentExecutor chain...\u001B[0m\n",
      "\u001B[32;1m\u001B[1;3m\n",
      "Invoking: `get_word_length` with `{'word': 'jongjin'}`\n",
      "\n",
      "\n",
      "\u001B[0m\u001B[36;1m\u001B[1;3m7\u001B[0m\u001B[32;1m\u001B[1;3mThe word 'jongjin' has 7 letters.\u001B[0m\n",
      "\n",
      "\u001B[1m> Finished chain.\u001B[0m\n",
      "{'input': \"How many letters in the word 'jongjin'?\", 'output': \"The word 'jongjin' has 7 letters.\"}\n"
     ]
    }
   ],
   "execution_count": 17
  },
  {
   "metadata": {
    "ExecuteTime": {
     "end_time": "2025-04-21T13:51:48.841632Z",
     "start_time": "2025-04-21T13:51:45.995503Z"
    }
   },
   "cell_type": "code",
   "source": [
    "# Agent 실행\n",
    "result = agent_executor.invoke({\"input\": \"114.5 + 121.2 의 계산 결과는?\"})\n",
    "\n",
    "# 결과 확인\n",
    "print(result[\"output\"])"
   ],
   "id": "a53b9c5b9528108c",
   "outputs": [
    {
     "name": "stdout",
     "output_type": "stream",
     "text": [
      "\n",
      "\n",
      "\u001B[1m> Entering new AgentExecutor chain...\u001B[0m\n",
      "\u001B[32;1m\u001B[1;3m\n",
      "Invoking: `add_function` with `{'a': 114.5, 'b': 121.2}`\n",
      "\n",
      "\n",
      "\u001B[0m\u001B[33;1m\u001B[1;3m235.7\u001B[0m\u001B[32;1m\u001B[1;3m114.5 + 121.2의 계산 결과는 235.7입니다.\u001B[0m\n",
      "\n",
      "\u001B[1m> Finished chain.\u001B[0m\n",
      "114.5 + 121.2의 계산 결과는 235.7입니다.\n"
     ]
    }
   ],
   "execution_count": 18
  },
  {
   "metadata": {
    "ExecuteTime": {
     "end_time": "2025-04-21T13:52:05.850852Z",
     "start_time": "2025-04-21T13:52:00.617593Z"
    }
   },
   "cell_type": "code",
   "source": [
    "# Agent 실행\n",
    "result = agent_executor.invoke(\n",
    "    {\"input\": \"114.5 + 121.2 + 34.2 + 110.1 의 계산 결과는?\"}\n",
    ")\n",
    "\n",
    "# 결과 확인\n",
    "print(result[\"output\"])\n",
    "print(\"==========\\n\")\n",
    "print(114.5 + 121.2 + 34.2 + 110.1)"
   ],
   "id": "2ce69096f33138c5",
   "outputs": [
    {
     "name": "stdout",
     "output_type": "stream",
     "text": [
      "\n",
      "\n",
      "\u001B[1m> Entering new AgentExecutor chain...\u001B[0m\n",
      "\u001B[32;1m\u001B[1;3m\n",
      "Invoking: `add_function` with `{'a': 114.5, 'b': 121.2}`\n",
      "\n",
      "\n",
      "\u001B[0m\u001B[33;1m\u001B[1;3m235.7\u001B[0m\u001B[32;1m\u001B[1;3m\n",
      "Invoking: `add_function` with `{'a': 235.7, 'b': 34.2}`\n",
      "\n",
      "\n",
      "\u001B[0m\u001B[33;1m\u001B[1;3m269.9\u001B[0m\u001B[32;1m\u001B[1;3m\n",
      "Invoking: `add_function` with `{'a': 269.9, 'b': 110.1}`\n",
      "\n",
      "\n",
      "\u001B[0m\u001B[33;1m\u001B[1;3m380.0\u001B[0m\u001B[32;1m\u001B[1;3m114.5 + 121.2 + 34.2 + 110.1의 계산 결과는 380.0입니다.\u001B[0m\n",
      "\n",
      "\u001B[1m> Finished chain.\u001B[0m\n",
      "114.5 + 121.2 + 34.2 + 110.1의 계산 결과는 380.0입니다.\n",
      "==========\n",
      "\n",
      "380.0\n"
     ]
    }
   ],
   "execution_count": 19
  },
  {
   "metadata": {
    "ExecuteTime": {
     "end_time": "2025-04-21T13:52:42.877008Z",
     "start_time": "2025-04-21T13:52:35.238738Z"
    }
   },
   "cell_type": "code",
   "source": [
    "result = agent_executor.invoke(\n",
    "    {\n",
    "        \"input\": \"뉴스 기사를 요약해 줘: https://n.news.naver.com/mnews/hotissue/article/092/0002347672?type=series&cid=2000065\"\n",
    "    }\n",
    ")\n",
    "print(result[\"output\"])"
   ],
   "id": "70806917676b0436",
   "outputs": [
    {
     "name": "stdout",
     "output_type": "stream",
     "text": [
      "\n",
      "\n",
      "\u001B[1m> Entering new AgentExecutor chain...\u001B[0m\n",
      "\u001B[32;1m\u001B[1;3m\n",
      "Invoking: `naver_news_crawl` with `{'news_url': 'https://n.news.naver.com/mnews/hotissue/article/092/0002347672?type=series&cid=2000065'}`\n",
      "\n",
      "\n",
      "\u001B[0m\u001B[38;5;200m\u001B[1;3m[미장브리핑] 9월 미국 CPI 주목…3분기 S&P500 실적 발표\n",
      "\n",
      "\t\t\t▲10일(현지시간) 미국 9월 소비자물가지수(CPI) 발표 예정. 고용 지표가 양호하게 나온 가운데 물가 지표 주목. 9월 미국 비농업고용 25만4천명 증가해 시장 예상치 14만명 크게 상회. 이는 6개월 래 최대 규모로 지난 12개월 평균값 20만3천명 증가한 것보다도 높은 수치. 9월 실업률은 4.1%로 2개월 연속 하락했으며, 평균 시간당 임금은 전년 동월 대비 4% 증가해 5월 이후 최고 수준.▲시장에서 9월 헤드라인 CPI는 8월 전년 동월 대비 2.6% 로 5개월 연속 둔화하고 9월에는 2.3% 증가로 추가 하락 예상. 전월 대비도 8월 0.2% 둔화 예상. 근원 CPI는 지난 8월 3.2%와 비슷한 수준 관측.▲11일에는 미국 9월 제조업물가지수(PPI) 발표. 지난 6월 부터 8월까지 반등 추세 꺾여. 8월은 1.7% 증가.\n",
      "(사진=이미지투데이)▲11월 미국 연방준비제도(연준) 공개시장위원회(FOMC) 에서 0.50%p 인하 기대가 크케 후퇴한 가운데, 9일에는 FOMC 의사록 공개. 지난 9월 회의에서 빅컷(0.50%p) 단행한 배경과 인플레이션 전망에 대한 논의를 알 수 있을 것으로 보여.▲미국 스탠다드앤푸어스(S&P) 500 기업의 3분기 실적 발표 시작. 평균 이익증가율 추정치는 전년 동기 대비 4.6%로 5개분기 연속 플러스이나 증가폭은 둔화 예상. 11일부터 JP모건체이스, 웰스파고 등 대형은행들의 실적 발표.▲FTSE 러셀은 8일 정례 시장분류 결과를 발표. 한국은 2022년 관찰대상국 지정 이후 금번 시장접근성 등급(L1) 상향으로 세계국채지수(WGBI) 에 편입될 지 관심. 주식의 경우 지난 2009년부터 선진국 지수에 편입돼 있는 한국 증시에 대해 공매도 제한 등을 이유로 관찰 대상국으로 지정할지 관심. 지정되더라도 검토 기간이 있어 즉각 제외되지는 않음.\n",
      "손희연 기자(kunst@zdnet.co.kr)\n",
      "기자 프로필\n",
      "지디넷코리아\n",
      "지디넷코리아\n",
      "손희연 기자\n",
      "손희연 기자\n",
      "구독\n",
      "구독중\n",
      "구독자 0\n",
      "응원수\n",
      "0\n",
      "디지털이 접목되는 금융·식음료업계를 취재합니다 \n",
      "KB국민은행, 소상공인 정책자금대출 비대면 서비스 오픈\n",
      "[미장브리핑] 美 \"H20 수출 허가받아야\"…엔비디아 주가↓\n",
      "지디넷코리아의 구독 많은 기자를 구독해보세요!\n",
      "닫기\n",
      "Copyright ⓒ ZDNet Korea. All rights reserved. 무단 전재 및 재배포 금지.\n",
      " \n",
      "이 기사는 언론사에서 IT 섹션으로 분류했습니다.\n",
      "기사 섹션 분류 안내\n",
      "기사의 섹션 정보는 해당 언론사의 분류를 따르고 있습니다. 언론사는 개별 기사를 2개 이상 섹션으로 중복 분류할 수 있습니다.\n",
      "닫기\n",
      "구독\n",
      "메인에서 바로 보는 언론사 편집 뉴스 지금 바로 구독해보세요!\n",
      "구독중\n",
      "메인에서 바로 보는 언론사 편집 뉴스 지금 바로 확인해보세요!\n",
      "지디넷코리아 '홈페이지'\n",
      "QR 코드를 클릭하면 크게 볼 수 있어요.\n",
      "QR을 촬영해보세요.\n",
      "지디넷코리아 '홈페이지'\n",
      "닫기\n",
      "네이버 채널 구독하기\n",
      "지디넷코리아\n",
      "지디넷코리아\n",
      "\t\t\t주요뉴스해당 언론사에서 선정하며 언론사 페이지(아웃링크)로 이동해 볼 수 있습니다.\n",
      "KB금융, 광주 1인 여성 자영업자에 월 100만원 지원\n",
      "아파트만? 이제 빌라 주담대도 갈아타자\n",
      "카카오뱅크, 6일 새벽 금융거래 일시 중단\n",
      "우리은행 올해만 세 번째 금융사고…\"허위서류로 55억 대출\"\n",
      "이 기사를 추천합니다\n",
      "기사 추천은 24시간 내 50회까지 참여할 수 있습니다.\n",
      "닫기\n",
      "쏠쏠정보\n",
      "0\n",
      "흥미진진\n",
      "0\n",
      "공감백배\n",
      "0\n",
      "분석탁월\n",
      "0\n",
      "후속강추\n",
      "0\n",
      " \n",
      "모두에게 보여주고 싶은 기사라면?beta\n",
      "이 기사를 추천합니다 버튼을 눌러주세요.  집계 기간 동안 추천을 많이 받은 기사는 네이버 자동 기사배열 영역에 추천 요소로 활용됩니다.\n",
      "레이어 닫기\n",
      " \n",
      "지디넷코리아 언론사가 직접 선정한 이슈\n",
      "\t\t\t\n",
      "이슈\n",
      "AI 핫트렌드\n",
      "비활성화해도 다시 켜지는 AI…기업용 PC에 번지는 '코파일럿 고충'\n",
      "이슈\n",
      "반도체 전쟁\n",
      "TSMC, AI칩 수요 견조 재확인…삼성·SK, HBM 사업 성장세 '쾌청'\n",
      "이슈\n",
      "트럼프 2.0시대\n",
      "'철강 1·2위' 포스코-현대, 美 투자 맞손…관세 타격 상쇄 기대\n",
      "이슈\n",
      "고려아연 경영권 분쟁\n",
      "NH투자증권, 6월 MBK '고려아연' 인수 자금 만기 회수할까\n",
      "이전\n",
      "다음\n",
      "지디넷코리아 언론사홈 바로가기\n",
      " \n",
      "기자 구독 후 기사보기\n",
      "구독 없이 계속 보기\n",
      "\u001B[0m\u001B[32;1m\u001B[1;3m기사 요약:\n",
      "\n",
      "9월 10일(현지시간) 미국의 소비자물가지수(CPI) 발표가 예정되어 있으며, 고용 지표가 양호하게 나온 가운데 물가 지표에 주목하고 있다. 9월 비농업 고용은 25만4천명 증가하여 시장 예상치를 크게 상회했으며, 실업률은 4.1%로 하락했다. 9월 헤드라인 CPI는 8월 대비 2.3% 증가로 추가 하락이 예상된다. 11일에는 제조업물가지수(PPI) 발표가 예정되어 있다.\n",
      "\n",
      "또한, 미국 연방준비제도(FOMC)에서 금리 인하 기대가 줄어들고 있으며, 9월 회의 의사록이 공개될 예정이다. S&P 500 기업의 3분기 실적 발표가 시작되며, 평균 이익 증가율은 4.6%로 예상된다. 한국은 FTSE 러셀의 시장 접근성 등급이 상향 조정될 가능성이 있다.\u001B[0m\n",
      "\n",
      "\u001B[1m> Finished chain.\u001B[0m\n",
      "기사 요약:\n",
      "\n",
      "9월 10일(현지시간) 미국의 소비자물가지수(CPI) 발표가 예정되어 있으며, 고용 지표가 양호하게 나온 가운데 물가 지표에 주목하고 있다. 9월 비농업 고용은 25만4천명 증가하여 시장 예상치를 크게 상회했으며, 실업률은 4.1%로 하락했다. 9월 헤드라인 CPI는 8월 대비 2.3% 증가로 추가 하락이 예상된다. 11일에는 제조업물가지수(PPI) 발표가 예정되어 있다.\n",
      "\n",
      "또한, 미국 연방준비제도(FOMC)에서 금리 인하 기대가 줄어들고 있으며, 9월 회의 의사록이 공개될 예정이다. S&P 500 기업의 3분기 실적 발표가 시작되며, 평균 이익 증가율은 4.6%로 예상된다. 한국은 FTSE 러셀의 시장 접근성 등급이 상향 조정될 가능성이 있다.\n"
     ]
    }
   ],
   "execution_count": 20
  }
 ],
 "metadata": {
  "kernelspec": {
   "display_name": "Python 3",
   "language": "python",
   "name": "python3"
  },
  "language_info": {
   "codemirror_mode": {
    "name": "ipython",
    "version": 2
   },
   "file_extension": ".py",
   "mimetype": "text/x-python",
   "name": "python",
   "nbconvert_exporter": "python",
   "pygments_lexer": "ipython2",
   "version": "2.7.6"
  }
 },
 "nbformat": 4,
 "nbformat_minor": 5
}
