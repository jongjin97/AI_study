{
 "cells": [
  {
   "cell_type": "code",
   "id": "initial_id",
   "metadata": {
    "collapsed": true,
    "ExecuteTime": {
     "end_time": "2025-04-22T08:07:38.441086Z",
     "start_time": "2025-04-22T08:07:38.384768Z"
    }
   },
   "source": [
    "from dotenv import load_dotenv\n",
    "\n",
    "# API 키 정보 로드\n",
    "load_dotenv()\n",
    "from langchain_teddynote import logging\n",
    "\n",
    "# 프로젝트 이름을 입력합니다.\n",
    "logging.langsmith(\"CH15-Agent-Toolkits\")"
   ],
   "outputs": [
    {
     "name": "stdout",
     "output_type": "stream",
     "text": [
      "LangSmith 추적을 시작합니다.\n",
      "[프로젝트명]\n",
      "CH15-Agent-Toolkits\n"
     ]
    }
   ],
   "execution_count": 1
  },
  {
   "metadata": {
    "ExecuteTime": {
     "end_time": "2025-04-22T08:07:42.074347Z",
     "start_time": "2025-04-22T08:07:39.244932Z"
    }
   },
   "cell_type": "code",
   "source": [
    "import pandas as pd\n",
    "\n",
    "df = pd.read_csv(\"./data/titanic.csv\")  # CSV 파일을 읽습니다.\n",
    "# df = pd.read_excel(\"./data/titanic.xlsx\") # 엑셀 파일도 읽을 수 있습니다.\n",
    "df.head()"
   ],
   "id": "23b86b43ba0b5270",
   "outputs": [
    {
     "data": {
      "text/plain": [
       "   PassengerId  Survived  Pclass  \\\n",
       "0            1         0       3   \n",
       "1            2         1       1   \n",
       "2            3         1       3   \n",
       "3            4         1       1   \n",
       "4            5         0       3   \n",
       "\n",
       "                                                Name     Sex   Age  SibSp  \\\n",
       "0                            Braund, Mr. Owen Harris    male  22.0      1   \n",
       "1  Cumings, Mrs. John Bradley (Florence Briggs Th...  female  38.0      1   \n",
       "2                             Heikkinen, Miss. Laina  female  26.0      0   \n",
       "3       Futrelle, Mrs. Jacques Heath (Lily May Peel)  female  35.0      1   \n",
       "4                           Allen, Mr. William Henry    male  35.0      0   \n",
       "\n",
       "   Parch            Ticket     Fare Cabin Embarked  \n",
       "0      0         A/5 21171   7.2500   NaN        S  \n",
       "1      0          PC 17599  71.2833   C85        C  \n",
       "2      0  STON/O2. 3101282   7.9250   NaN        S  \n",
       "3      0            113803  53.1000  C123        S  \n",
       "4      0            373450   8.0500   NaN        S  "
      ],
      "text/html": [
       "<div>\n",
       "<style scoped>\n",
       "    .dataframe tbody tr th:only-of-type {\n",
       "        vertical-align: middle;\n",
       "    }\n",
       "\n",
       "    .dataframe tbody tr th {\n",
       "        vertical-align: top;\n",
       "    }\n",
       "\n",
       "    .dataframe thead th {\n",
       "        text-align: right;\n",
       "    }\n",
       "</style>\n",
       "<table border=\"1\" class=\"dataframe\">\n",
       "  <thead>\n",
       "    <tr style=\"text-align: right;\">\n",
       "      <th></th>\n",
       "      <th>PassengerId</th>\n",
       "      <th>Survived</th>\n",
       "      <th>Pclass</th>\n",
       "      <th>Name</th>\n",
       "      <th>Sex</th>\n",
       "      <th>Age</th>\n",
       "      <th>SibSp</th>\n",
       "      <th>Parch</th>\n",
       "      <th>Ticket</th>\n",
       "      <th>Fare</th>\n",
       "      <th>Cabin</th>\n",
       "      <th>Embarked</th>\n",
       "    </tr>\n",
       "  </thead>\n",
       "  <tbody>\n",
       "    <tr>\n",
       "      <th>0</th>\n",
       "      <td>1</td>\n",
       "      <td>0</td>\n",
       "      <td>3</td>\n",
       "      <td>Braund, Mr. Owen Harris</td>\n",
       "      <td>male</td>\n",
       "      <td>22.0</td>\n",
       "      <td>1</td>\n",
       "      <td>0</td>\n",
       "      <td>A/5 21171</td>\n",
       "      <td>7.2500</td>\n",
       "      <td>NaN</td>\n",
       "      <td>S</td>\n",
       "    </tr>\n",
       "    <tr>\n",
       "      <th>1</th>\n",
       "      <td>2</td>\n",
       "      <td>1</td>\n",
       "      <td>1</td>\n",
       "      <td>Cumings, Mrs. John Bradley (Florence Briggs Th...</td>\n",
       "      <td>female</td>\n",
       "      <td>38.0</td>\n",
       "      <td>1</td>\n",
       "      <td>0</td>\n",
       "      <td>PC 17599</td>\n",
       "      <td>71.2833</td>\n",
       "      <td>C85</td>\n",
       "      <td>C</td>\n",
       "    </tr>\n",
       "    <tr>\n",
       "      <th>2</th>\n",
       "      <td>3</td>\n",
       "      <td>1</td>\n",
       "      <td>3</td>\n",
       "      <td>Heikkinen, Miss. Laina</td>\n",
       "      <td>female</td>\n",
       "      <td>26.0</td>\n",
       "      <td>0</td>\n",
       "      <td>0</td>\n",
       "      <td>STON/O2. 3101282</td>\n",
       "      <td>7.9250</td>\n",
       "      <td>NaN</td>\n",
       "      <td>S</td>\n",
       "    </tr>\n",
       "    <tr>\n",
       "      <th>3</th>\n",
       "      <td>4</td>\n",
       "      <td>1</td>\n",
       "      <td>1</td>\n",
       "      <td>Futrelle, Mrs. Jacques Heath (Lily May Peel)</td>\n",
       "      <td>female</td>\n",
       "      <td>35.0</td>\n",
       "      <td>1</td>\n",
       "      <td>0</td>\n",
       "      <td>113803</td>\n",
       "      <td>53.1000</td>\n",
       "      <td>C123</td>\n",
       "      <td>S</td>\n",
       "    </tr>\n",
       "    <tr>\n",
       "      <th>4</th>\n",
       "      <td>5</td>\n",
       "      <td>0</td>\n",
       "      <td>3</td>\n",
       "      <td>Allen, Mr. William Henry</td>\n",
       "      <td>male</td>\n",
       "      <td>35.0</td>\n",
       "      <td>0</td>\n",
       "      <td>0</td>\n",
       "      <td>373450</td>\n",
       "      <td>8.0500</td>\n",
       "      <td>NaN</td>\n",
       "      <td>S</td>\n",
       "    </tr>\n",
       "  </tbody>\n",
       "</table>\n",
       "</div>"
      ]
     },
     "execution_count": 2,
     "metadata": {},
     "output_type": "execute_result"
    }
   ],
   "execution_count": 2
  },
  {
   "metadata": {
    "ExecuteTime": {
     "end_time": "2025-04-22T08:09:21.407136Z",
     "start_time": "2025-04-22T08:09:20.486962Z"
    }
   },
   "cell_type": "code",
   "source": [
    "from langchain_experimental.agents.agent_toolkits import create_pandas_dataframe_agent\n",
    "from langchain.agents.agent_types import AgentType\n",
    "from langchain_openai import ChatOpenAI\n",
    "from langchain_teddynote.messages import AgentStreamParser\n",
    "import seaborn as sns\n",
    "\n",
    "sns.set_style(\"white\")\n",
    "\n",
    "agent = create_pandas_dataframe_agent(\n",
    "    ChatOpenAI(model=\"gpt-4o-mini\", temperature=0),\n",
    "    df,\n",
    "    verbose=False,\n",
    "    agent_type=AgentType.OPENAI_FUNCTIONS,\n",
    "    allow_dangerous_code=True,\n",
    ")\n",
    "\n",
    "stream_parser = AgentStreamParser()"
   ],
   "id": "443f4640f47585f1",
   "outputs": [],
   "execution_count": 4
  },
  {
   "metadata": {
    "ExecuteTime": {
     "end_time": "2025-04-22T08:09:23.970388Z",
     "start_time": "2025-04-22T08:09:23.965878Z"
    }
   },
   "cell_type": "code",
   "source": [
    "def ask(query):\n",
    "    # 질의에 대한 답변을 출력합니다.\n",
    "    response = agent.stream({\"input\": query})\n",
    "\n",
    "    for step in response:\n",
    "        stream_parser.process_agent_steps(step)"
   ],
   "id": "ebf8c20aac5d6316",
   "outputs": [],
   "execution_count": 5
  },
  {
   "metadata": {
    "ExecuteTime": {
     "end_time": "2025-04-22T08:09:37.984740Z",
     "start_time": "2025-04-22T08:09:35.326778Z"
    }
   },
   "cell_type": "code",
   "source": "ask(\"몇 개의 행이 있어?\")",
   "id": "aee3da3d4f12d0a5",
   "outputs": [
    {
     "name": "stdout",
     "output_type": "stream",
     "text": [
      "[도구 호출]\n",
      "Tool: python_repl_ast\n",
      "query: len(df)\n",
      "Log: \n",
      "Invoking: `python_repl_ast` with `{'query': 'len(df)'}`\n",
      "\n",
      "\n",
      "\n",
      "[관찰 내용]\n",
      "Observation: 891\n",
      "[최종 답변]\n",
      "데이터프레임 `df`에는 총 891개의 행이 있습니다.\n"
     ]
    }
   ],
   "execution_count": 6
  },
  {
   "metadata": {
    "ExecuteTime": {
     "end_time": "2025-04-22T08:09:55.555323Z",
     "start_time": "2025-04-22T08:09:51.977574Z"
    }
   },
   "cell_type": "code",
   "source": "ask(\"남자와 여자의 생존율의 차이는 몇이야?\")",
   "id": "ce90251141638275",
   "outputs": [
    {
     "name": "stdout",
     "output_type": "stream",
     "text": [
      "[도구 호출]\n",
      "Tool: python_repl_ast\n",
      "query: male_survival_rate = df[df['Sex'] == 'male']['Survived'].mean()\n",
      "female_survival_rate = df[df['Sex'] == 'female']['Survived'].mean()\n",
      "survival_rate_difference = female_survival_rate - male_survival_rate\n",
      "survival_rate_difference\n",
      "Log: \n",
      "Invoking: `python_repl_ast` with `{'query': \"male_survival_rate = df[df['Sex'] == 'male']['Survived'].mean()\\nfemale_survival_rate = df[df['Sex'] == 'female']['Survived'].mean()\\nsurvival_rate_difference = female_survival_rate - male_survival_rate\\nsurvival_rate_difference\"}`\n",
      "\n",
      "\n",
      "\n",
      "[관찰 내용]\n",
      "Observation: 0.5531300709799203\n",
      "[최종 답변]\n",
      "남자와 여자의 생존율의 차이는 약 0.55입니다. 즉, 여자의 생존율이 남자보다 약 55% 더 높습니다.\n"
     ]
    }
   ],
   "execution_count": 7
  },
  {
   "metadata": {
    "ExecuteTime": {
     "end_time": "2025-04-22T08:10:24.413002Z",
     "start_time": "2025-04-22T08:10:20.118382Z"
    }
   },
   "cell_type": "code",
   "source": "ask(\"남자 승객과 여자 승객의 생존율을 구한뒤 barplot 차트로 시각화 해줘\")",
   "id": "18fe4cffd57132a4",
   "outputs": [
    {
     "name": "stdout",
     "output_type": "stream",
     "text": [
      "[도구 호출]\n",
      "Tool: python_repl_ast\n",
      "query: import pandas as pd\n",
      "import matplotlib.pyplot as plt\n",
      "\n",
      "# 남자와 여자 승객의 생존율 계산\n",
      "survival_rate = df.groupby('Sex')['Survived'].mean()\n",
      "\n",
      "# barplot 시각화\n",
      "survival_rate.plot(kind='bar', color=['blue', 'pink'])\n",
      "plt.title('Survival Rate by Gender')\n",
      "plt.xlabel('Gender')\n",
      "plt.ylabel('Survival Rate')\n",
      "plt.xticks(rotation=0)\n",
      "plt.show()\n",
      "Log: \n",
      "Invoking: `python_repl_ast` with `{'query': \"import pandas as pd\\nimport matplotlib.pyplot as plt\\n\\n# 남자와 여자 승객의 생존율 계산\\nsurvival_rate = df.groupby('Sex')['Survived'].mean()\\n\\n# barplot 시각화\\nsurvival_rate.plot(kind='bar', color=['blue', 'pink'])\\nplt.title('Survival Rate by Gender')\\nplt.xlabel('Gender')\\nplt.ylabel('Survival Rate')\\nplt.xticks(rotation=0)\\nplt.show()\"}`\n",
      "\n",
      "\n",
      "\n"
     ]
    },
    {
     "data": {
      "text/plain": [
       "<Figure size 640x480 with 1 Axes>"
      ],
      "image/png": "[encoded data removed]"
     },
     "metadata": {},
     "output_type": "display_data"
    },
    {
     "name": "stdout",
     "output_type": "stream",
     "text": [
      "[관찰 내용]\n",
      "Observation: \n",
      "[최종 답변]\n",
      "남자와 여자 승객의 생존율을 계산한 후, 바 차트로 시각화한 결과입니다. 남성 승객의 생존율은 낮고, 여성 승객의 생존율은 상대적으로 높습니다.\n"
     ]
    }
   ],
   "execution_count": 8
  },
  {
   "metadata": {
    "ExecuteTime": {
     "end_time": "2025-04-22T08:10:51.353072Z",
     "start_time": "2025-04-22T08:10:45.486112Z"
    }
   },
   "cell_type": "code",
   "source": "ask(\"1,2등급에 탑승한 10세 이하 어린 아이의 성별별 생존율을 구하고 시각화 하세요\")",
   "id": "6e7a5af39568e827",
   "outputs": [
    {
     "data": {
      "text/plain": [
       "<Figure size 640x480 with 1 Axes>"
      ],
      "image/png": "[encoded data removed]"
     },
     "metadata": {},
     "output_type": "display_data"
    },
    {
     "name": "stdout",
     "output_type": "stream",
     "text": [
      "[도구 호출]\n",
      "Tool: python_repl_ast\n",
      "query: import pandas as pd\n",
      "import matplotlib.pyplot as plt\n",
      "\n",
      "# 1, 2등급에 탑승한 10세 이하 어린 아이 필터링\n",
      "children = df[(df['Pclass'].isin([1, 2])) & (df['Age'] <= 10)]\n",
      "\n",
      "# 성별별 생존율 계산\n",
      "survival_rate = children.groupby('Sex')['Survived'].mean() * 100\n",
      "\n",
      "# 시각화\n",
      "survival_rate.plot(kind='bar', color=['blue', 'pink'], alpha=0.7)\n",
      "plt.title('Survival Rate of Children (Age <= 10) by Gender in Pclass 1 and 2')\n",
      "plt.xlabel('Gender')\n",
      "plt.ylabel('Survival Rate (%)')\n",
      "plt.xticks(rotation=0)\n",
      "plt.grid(axis='y')\n",
      "plt.show()\n",
      "Log: \n",
      "Invoking: `python_repl_ast` with `{'query': \"import pandas as pd\\nimport matplotlib.pyplot as plt\\n\\n# 1, 2등급에 탑승한 10세 이하 어린 아이 필터링\\nchildren = df[(df['Pclass'].isin([1, 2])) & (df['Age'] <= 10)]\\n\\n# 성별별 생존율 계산\\nsurvival_rate = children.groupby('Sex')['Survived'].mean() * 100\\n\\n# 시각화\\nsurvival_rate.plot(kind='bar', color=['blue', 'pink'], alpha=0.7)\\nplt.title('Survival Rate of Children (Age <= 10) by Gender in Pclass 1 and 2')\\nplt.xlabel('Gender')\\nplt.ylabel('Survival Rate (%)')\\nplt.xticks(rotation=0)\\nplt.grid(axis='y')\\nplt.show()\"}`\n",
      "\n",
      "\n",
      "\n",
      "[관찰 내용]\n",
      "Observation: \n",
      "[최종 답변]\n",
      "위의 코드를 실행하여 1, 2등급에 탑승한 10세 이하 어린 아이의 성별별 생존율을 계산하고 시각화했습니다. 결과는 다음과 같은 막대 그래프로 나타납니다. \n",
      "\n",
      "- 파란색 막대는 남아의 생존율을 나타내고, \n",
      "- 분홍색 막대는 여아의 생존율을 나타냅니다. \n",
      "\n",
      "이 그래프를 통해 성별에 따른 생존율 차이를 쉽게 확인할 수 있습니다.\n"
     ]
    }
   ],
   "execution_count": 9
  }
 ],
 "metadata": {
  "kernelspec": {
   "display_name": "Python 3",
   "language": "python",
   "name": "python3"
  },
  "language_info": {
   "codemirror_mode": {
    "name": "ipython",
    "version": 2
   },
   "file_extension": ".py",
   "mimetype": "text/x-python",
   "name": "python",
   "nbconvert_exporter": "python",
   "pygments_lexer": "ipython2",
   "version": "2.7.6"
  }
 },
 "nbformat": 4,
 "nbformat_minor": 5
}
