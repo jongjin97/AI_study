{
 "cells": [
  {
   "metadata": {},
   "cell_type": "markdown",
   "source": "# Split code",
   "id": "bc4cef67f0863524"
  },
  {
   "cell_type": "code",
   "id": "initial_id",
   "metadata": {
    "collapsed": true,
    "ExecuteTime": {
     "end_time": "2025-04-02T14:38:11.886480Z",
     "start_time": "2025-04-02T14:38:11.065293Z"
    }
   },
   "source": [
    "from gitdb.fun import chunk_size\n",
    "from langchain_text_splitters import Language, RecursiveCharacterTextSplitter"
   ],
   "outputs": [],
   "execution_count": 1
  },
  {
   "metadata": {
    "ExecuteTime": {
     "end_time": "2025-04-02T14:38:22.839450Z",
     "start_time": "2025-04-02T14:38:22.829983Z"
    }
   },
   "cell_type": "code",
   "source": [
    "# 지원되는 언어의 전체 목록을 가져옵니다.\n",
    "[e.value for e in Language]"
   ],
   "id": "c527aa71a5938cd2",
   "outputs": [
    {
     "data": {
      "text/plain": [
       "['cpp',\n",
       " 'go',\n",
       " 'java',\n",
       " 'kotlin',\n",
       " 'js',\n",
       " 'ts',\n",
       " 'php',\n",
       " 'proto',\n",
       " 'python',\n",
       " 'rst',\n",
       " 'ruby',\n",
       " 'rust',\n",
       " 'scala',\n",
       " 'swift',\n",
       " 'markdown',\n",
       " 'latex',\n",
       " 'html',\n",
       " 'sol',\n",
       " 'csharp',\n",
       " 'cobol',\n",
       " 'c',\n",
       " 'lua',\n",
       " 'perl',\n",
       " 'haskell',\n",
       " 'elixir',\n",
       " 'powershell']"
      ]
     },
     "execution_count": 2,
     "metadata": {},
     "output_type": "execute_result"
    }
   ],
   "execution_count": 2
  },
  {
   "metadata": {
    "ExecuteTime": {
     "end_time": "2025-04-02T14:38:49.762495Z",
     "start_time": "2025-04-02T14:38:49.756615Z"
    }
   },
   "cell_type": "code",
   "source": [
    "# 주어진 언어에 대해 사용되는 구분자를 확인\n",
    "RecursiveCharacterTextSplitter.get_separators_for_language(Language.PYTHON)"
   ],
   "id": "4c97d6fda46cccbd",
   "outputs": [
    {
     "data": {
      "text/plain": [
       "['\\nclass ', '\\ndef ', '\\n\\tdef ', '\\n\\n', '\\n', ' ', '']"
      ]
     },
     "execution_count": 3,
     "metadata": {},
     "output_type": "execute_result"
    }
   ],
   "execution_count": 3
  },
  {
   "metadata": {},
   "cell_type": "markdown",
   "source": "# Python",
   "id": "f35b01bc03a6f0ef"
  },
  {
   "metadata": {
    "ExecuteTime": {
     "end_time": "2025-04-02T14:40:04.911972Z",
     "start_time": "2025-04-02T14:40:04.907944Z"
    }
   },
   "cell_type": "code",
   "source": [
    "PYTHON_CODE = \"\"\"\n",
    "def hello_world():\n",
    "    print(\"Hello, World!\")\n",
    "\n",
    "hello_world()\n",
    "\"\"\"\n",
    "\n",
    "python_splitter = RecursiveCharacterTextSplitter.from_language(\n",
    "    language=Language.PYTHON,\n",
    "    chunk_size=50,\n",
    "    chunk_overlap=0\n",
    ")"
   ],
   "id": "a2008f73a0f41dbd",
   "outputs": [],
   "execution_count": 4
  },
  {
   "metadata": {
    "ExecuteTime": {
     "end_time": "2025-04-02T14:40:28.609830Z",
     "start_time": "2025-04-02T14:40:28.604032Z"
    }
   },
   "cell_type": "code",
   "source": [
    "python_docs = python_splitter.create_documents([PYTHON_CODE])\n",
    "python_docs"
   ],
   "id": "b3db1dcf8a360ce5",
   "outputs": [
    {
     "data": {
      "text/plain": [
       "[Document(metadata={}, page_content='def hello_world():\\n    print(\"Hello, World!\")'),\n",
       " Document(metadata={}, page_content='hello_world()')]"
      ]
     },
     "execution_count": 5,
     "metadata": {},
     "output_type": "execute_result"
    }
   ],
   "execution_count": 5
  },
  {
   "metadata": {
    "ExecuteTime": {
     "end_time": "2025-04-02T14:40:51.402962Z",
     "start_time": "2025-04-02T14:40:51.399167Z"
    }
   },
   "cell_type": "code",
   "source": [
    "for doc in python_docs:\n",
    "    print(doc.page_content, end=\"\\n========================\\n\")"
   ],
   "id": "5c1121c5af9193ea",
   "outputs": [
    {
     "name": "stdout",
     "output_type": "stream",
     "text": [
      "def hello_world():\n",
      "    print(\"Hello, World!\")\n",
      "========================\n",
      "hello_world()\n",
      "========================\n"
     ]
    }
   ],
   "execution_count": 6
  },
  {
   "metadata": {},
   "cell_type": "markdown",
   "source": "# JS",
   "id": "42a6afc9466e5493"
  },
  {
   "metadata": {
    "ExecuteTime": {
     "end_time": "2025-04-02T14:41:33.359685Z",
     "start_time": "2025-04-02T14:41:33.353180Z"
    }
   },
   "cell_type": "code",
   "source": [
    "JS_CODE = \"\"\"\n",
    "function helloWorld() {\n",
    "  console.log(\"Hello, World!\");\n",
    "}\n",
    "\n",
    "helloWorld();\n",
    "\"\"\"\n",
    "\n",
    "js_splitter = RecursiveCharacterTextSplitter.from_language(\n",
    "    language=Language.JS,\n",
    "    chunk_size=50,\n",
    "    chunk_overlap=0\n",
    ")\n",
    "\n",
    "js_docs = js_splitter.create_documents([JS_CODE])\n",
    "js_docs"
   ],
   "id": "5fffac704c87a84",
   "outputs": [
    {
     "data": {
      "text/plain": [
       "[Document(metadata={}, page_content='function helloWorld() {'),\n",
       " Document(metadata={}, page_content='console.log(\"Hello, World!\");\\n}'),\n",
       " Document(metadata={}, page_content='helloWorld();')]"
      ]
     },
     "execution_count": 7,
     "metadata": {},
     "output_type": "execute_result"
    }
   ],
   "execution_count": 7
  }
 ],
 "metadata": {
  "kernelspec": {
   "display_name": "Python 3",
   "language": "python",
   "name": "python3"
  },
  "language_info": {
   "codemirror_mode": {
    "name": "ipython",
    "version": 2
   },
   "file_extension": ".py",
   "mimetype": "text/x-python",
   "name": "python",
   "nbconvert_exporter": "python",
   "pygments_lexer": "ipython2",
   "version": "2.7.6"
  }
 },
 "nbformat": 4,
 "nbformat_minor": 5
}
