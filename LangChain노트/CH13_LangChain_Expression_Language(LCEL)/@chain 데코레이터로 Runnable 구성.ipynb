{
 "cells": [
  {
   "cell_type": "code",
   "id": "initial_id",
   "metadata": {
    "collapsed": true,
    "ExecuteTime": {
     "end_time": "2025-04-14T08:37:59.627491Z",
     "start_time": "2025-04-14T08:37:59.610708Z"
    }
   },
   "source": [
    "from dotenv import load_dotenv\n",
    "\n",
    "# API 키 정보 로드\n",
    "load_dotenv()"
   ],
   "outputs": [
    {
     "data": {
      "text/plain": [
       "True"
      ]
     },
     "execution_count": 1,
     "metadata": {},
     "output_type": "execute_result"
    }
   ],
   "execution_count": 1
  },
  {
   "metadata": {
    "ExecuteTime": {
     "end_time": "2025-04-14T08:38:02.836918Z",
     "start_time": "2025-04-14T08:38:02.829256Z"
    }
   },
   "cell_type": "code",
   "source": [
    "from langchain_teddynote import logging\n",
    "\n",
    "# 프로젝트 이름을 입력합니다.\n",
    "logging.langsmith(\"LCEL-Advanced\")"
   ],
   "id": "e78de9e5b0ce5bc3",
   "outputs": [
    {
     "name": "stdout",
     "output_type": "stream",
     "text": [
      "LangSmith 추적을 시작합니다.\n",
      "[프로젝트명]\n",
      "LCEL-Advanced\n"
     ]
    }
   ],
   "execution_count": 2
  },
  {
   "metadata": {
    "ExecuteTime": {
     "end_time": "2025-04-14T08:38:21.952522Z",
     "start_time": "2025-04-14T08:38:19.596535Z"
    }
   },
   "cell_type": "code",
   "source": [
    "from langchain_core.output_parsers import StrOutputParser\n",
    "from langchain_core.prompts import ChatPromptTemplate\n",
    "from langchain_core.runnables import chain\n",
    "from langchain_openai import ChatOpenAI"
   ],
   "id": "2e04f6162c430c77",
   "outputs": [],
   "execution_count": 3
  },
  {
   "metadata": {
    "ExecuteTime": {
     "end_time": "2025-04-14T08:38:22.504810Z",
     "start_time": "2025-04-14T08:38:22.500681Z"
    }
   },
   "cell_type": "code",
   "source": [
    "# 프롬프트 템플릿을 정의합니다.\n",
    "prompt1 = ChatPromptTemplate.from_template(\"{topic} 에 대해 짧게 한글로 설명해주세요.\")\n",
    "prompt2 = ChatPromptTemplate.from_template(\n",
    "    \"{sentence} 를 emoji를 활용한 인스타그램 게시글로 만들어주세요.\"\n",
    ")"
   ],
   "id": "52f04f4266d98ade",
   "outputs": [],
   "execution_count": 4
  },
  {
   "metadata": {
    "ExecuteTime": {
     "end_time": "2025-04-14T08:48:46.594669Z",
     "start_time": "2025-04-14T08:48:46.589645Z"
    }
   },
   "cell_type": "code",
   "source": [
    "@chain\n",
    "def custom_chain(text):\n",
    "    # 첫 번째 프롬프트, ChatOpenAI, 문자열 출력 파서를 연결하여 체인을 생성\n",
    "    chain1 = prompt1 | ChatOpenAI(model=\"gpt-4o-mini\") | StrOutputParser()\n",
    "    output1 = chain1.invoke({\"topic\": text})\n",
    "\n",
    "    # 두 번째 프롬프트, ChatOpenAI, 문자열 출력 파서를 연결하여 체인을 생성\n",
    "    chain2 = prompt2 | ChatOpenAI(model=\"gpt-4o-mini\") | StrOutputParser()\n",
    "    return chain2.invoke({\"sentence\": text})"
   ],
   "id": "a01fe7711ef974c",
   "outputs": [],
   "execution_count": 5
  },
  {
   "metadata": {
    "ExecuteTime": {
     "end_time": "2025-04-14T08:49:22.549063Z",
     "start_time": "2025-04-14T08:49:14.063002Z"
    }
   },
   "cell_type": "code",
   "source": [
    "# custom_chain을 호출\n",
    "print(custom_chain.invoke(\"양자역학\"))"
   ],
   "id": "dc6490fe13935c81",
   "outputs": [
    {
     "name": "stdout",
     "output_type": "stream",
     "text": [
      "제목: 양자역학의 세계 🌌🔬\n",
      "\n",
      "🔭✨ 양자역학, 작은 세계의 큰 비밀! \n",
      "🔬💫 입자는 동시에 두 곳에 있을 수 있어요! (중첩 상태) 😮\n",
      "⚛️🌟 측정하기 전까지는 모든 것이 가능해요! (파동함수) 🌊💭\n",
      "👥💡 \"관찰자가 존재하지 않으면, 아무것도 존재하지 않는 걸까?\" 🤔💭\n",
      "\n",
      "🚀🔗 우주를 구성하는 기본 원리, 양자역학! \n",
      "💡🌌 여러분의 생각은 무엇인가요? 댓글로 공유해 주세요! 💬👇\n",
      "\n",
      "#양자역학 #QuantumMechanics #과학사랑 #우주여행 #입자물리학 #신기한과학 #Physics 🧑‍🔬🌍🌈\n"
     ]
    }
   ],
   "execution_count": 6
  }
 ],
 "metadata": {
  "kernelspec": {
   "display_name": "Python 3",
   "language": "python",
   "name": "python3"
  },
  "language_info": {
   "codemirror_mode": {
    "name": "ipython",
    "version": 2
   },
   "file_extension": ".py",
   "mimetype": "text/x-python",
   "name": "python",
   "nbconvert_exporter": "python",
   "pygments_lexer": "ipython2",
   "version": "2.7.6"
  }
 },
 "nbformat": 4,
 "nbformat_minor": 5
}
