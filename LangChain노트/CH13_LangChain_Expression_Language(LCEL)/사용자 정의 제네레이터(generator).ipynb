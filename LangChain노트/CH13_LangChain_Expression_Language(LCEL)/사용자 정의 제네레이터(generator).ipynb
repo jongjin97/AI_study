{
 "cells": [
  {
   "metadata": {
    "ExecuteTime": {
     "end_time": "2025-04-15T04:25:39.043122Z",
     "start_time": "2025-04-15T04:25:39.025352Z"
    }
   },
   "cell_type": "code",
   "source": [
    "from dotenv import load_dotenv\n",
    "\n",
    "# API 키 정보 로드\n",
    "load_dotenv()\n",
    "from langchain_teddynote import logging\n",
    "\n",
    "# 프로젝트 이름을 입력합니다.\n",
    "logging.langsmith(\"LCEL-Advanced\")"
   ],
   "id": "7a032c8decc729a6",
   "outputs": [
    {
     "name": "stdout",
     "output_type": "stream",
     "text": [
      "LangSmith 추적을 시작합니다.\n",
      "[프로젝트명]\n",
      "LCEL-Advanced\n"
     ]
    }
   ],
   "execution_count": 2
  },
  {
   "cell_type": "code",
   "id": "initial_id",
   "metadata": {
    "collapsed": true,
    "ExecuteTime": {
     "end_time": "2025-04-15T04:25:42.779138Z",
     "start_time": "2025-04-15T04:25:42.036936Z"
    }
   },
   "source": [
    "from typing import Iterator, List\n",
    "from langchain.prompts.chat import ChatPromptTemplate\n",
    "from langchain_core.output_parsers import StrOutputParser\n",
    "from langchain_openai import ChatOpenAI\n",
    "\n",
    "prompt = ChatPromptTemplate.from_template(\n",
    "    # 주어진 회사와 유사한 5개의 회사를 쉼표로 구분된 목록으로 작성하세요.\n",
    "    \"Write a comma-separated list of 5 comanies similar to: {company}\"\n",
    ")\n",
    "\n",
    "# 온도를 0.0으로 설정하여 ChatOpenAI 모델을 초기화\n",
    "model = ChatOpenAI(model=\"gpt-4-turbo-preview\", temperature=0)\n",
    "\n",
    "# 프롬프트와 모델을 연결하고 문자열 출력 파서를 적용하여 체인을 생성\n",
    "str_chain = prompt | model | StrOutputParser()"
   ],
   "outputs": [],
   "execution_count": 3
  },
  {
   "metadata": {
    "ExecuteTime": {
     "end_time": "2025-04-15T04:26:18.546669Z",
     "start_time": "2025-04-15T04:26:15.388433Z"
    }
   },
   "cell_type": "code",
   "source": [
    "# 데이터를 스트리밍\n",
    "for chunk in str_chain.stream({\"company\": \"Google\"}):\n",
    "    # 각 청크를 출력하고, 줄 바꿈 없이 버퍼를 즉시 플러시\n",
    "    print(chunk, end=\"\", flush=True)"
   ],
   "id": "cde293222ee6b207",
   "outputs": [
    {
     "name": "stdout",
     "output_type": "stream",
     "text": [
      "Microsoft, Amazon, Facebook (Meta), Apple, Alibaba"
     ]
    }
   ],
   "execution_count": 4
  },
  {
   "metadata": {
    "ExecuteTime": {
     "end_time": "2025-04-15T04:26:27.974468Z",
     "start_time": "2025-04-15T04:26:26.850704Z"
    }
   },
   "cell_type": "code",
   "source": [
    "# 체인에 데이터를 invoke 합니다.\n",
    "str_chain.invoke({\"company\": \"Google\"})"
   ],
   "id": "1060c2d79ab023b4",
   "outputs": [
    {
     "data": {
      "text/plain": [
       "'Microsoft, Amazon, Facebook (Meta), Apple, Alibaba'"
      ]
     },
     "execution_count": 5,
     "metadata": {},
     "output_type": "execute_result"
    }
   ],
   "execution_count": 5
  },
  {
   "metadata": {
    "ExecuteTime": {
     "end_time": "2025-04-15T04:28:58.008213Z",
     "start_time": "2025-04-15T04:28:58.004333Z"
    }
   },
   "cell_type": "code",
   "source": [
    "# 입력으로 llm 토큰의 반복자를 받아 쉼표로 구분된 문자열 리스트로 분할하는 사용자 정의 파서입니다.\n",
    "def split_into_list(input: Iterator[str]) -> Iterator[List[str]]:\n",
    "    # 쉼표가 나올 때까지 부분 입력을 보관\n",
    "    buffer = \"\"\n",
    "    for chunk in input:\n",
    "        # 현재 청크를 버퍼에 추가\n",
    "        buffer += chunk\n",
    "        # 버퍼에 쉼표가 있는 동안 반복\n",
    "        while \",\" in buffer:\n",
    "            # 버퍼를 쉼표로 분할\n",
    "            comma_index = buffer.index(\",\")\n",
    "            # 쉼표 이전의 모든 내용을 반환\n",
    "            yield [buffer[:comma_index].strip()]\n",
    "            # 나머지는 다음 반복을 위해 저장\n",
    "            buffer = buffer[comma_index + 1 :]\n",
    "    yield [buffer.strip()]"
   ],
   "id": "c2547293547021c4",
   "outputs": [],
   "execution_count": 6
  },
  {
   "metadata": {
    "ExecuteTime": {
     "end_time": "2025-04-15T04:29:12.714501Z",
     "start_time": "2025-04-15T04:29:12.710058Z"
    }
   },
   "cell_type": "code",
   "source": "list_chain = str_chain | split_into_list  # 문자열 체인을 리스트로 분할합니다.",
   "id": "51f8537624909e05",
   "outputs": [],
   "execution_count": 7
  },
  {
   "metadata": {
    "ExecuteTime": {
     "end_time": "2025-04-15T04:29:44.026776Z",
     "start_time": "2025-04-15T04:29:42.969433Z"
    }
   },
   "cell_type": "code",
   "source": [
    "# 생성한 list_chain 이 문제없이 스트리밍되는지 확인합니다.\n",
    "for chunk in list_chain.stream({\"company\": \"Google\"}):\n",
    "    print(chunk, flush=True)  # 각 청크를 출력하고, 버퍼를 즉시 플러시합니다."
   ],
   "id": "4c93eb5455c16ba9",
   "outputs": [
    {
     "name": "stdout",
     "output_type": "stream",
     "text": [
      "['Microsoft']\n",
      "['Amazon']\n",
      "['Facebook (Meta)']\n",
      "['Apple']\n",
      "['Alibaba']\n"
     ]
    }
   ],
   "execution_count": 8
  },
  {
   "metadata": {
    "ExecuteTime": {
     "end_time": "2025-04-15T04:29:58.767880Z",
     "start_time": "2025-04-15T04:29:57.470662Z"
    }
   },
   "cell_type": "code",
   "source": [
    "# list_chain 에 데이터를 invoke 합니다.\n",
    "list_chain.invoke({\"company\": \"Google\"})"
   ],
   "id": "42dca81ec86c75c2",
   "outputs": [
    {
     "data": {
      "text/plain": [
       "['Microsoft', 'Amazon', 'Facebook (Meta)', 'Apple', 'Alibaba']"
      ]
     },
     "execution_count": 9,
     "metadata": {},
     "output_type": "execute_result"
    }
   ],
   "execution_count": 9
  },
  {
   "metadata": {},
   "cell_type": "markdown",
   "source": "# 비동기(Asynchronous)",
   "id": "d3965269639e817f"
  },
  {
   "metadata": {
    "ExecuteTime": {
     "end_time": "2025-04-15T04:30:17.062848Z",
     "start_time": "2025-04-15T04:30:17.057310Z"
    }
   },
   "cell_type": "code",
   "source": [
    "from typing import AsyncIterator\n",
    "\n",
    "\n",
    "# 비동기 함수 정의\n",
    "async def asplit_into_list(input: AsyncIterator[str]) -> AsyncIterator[List[str]]:\n",
    "    buffer = \"\"\n",
    "    # `input`은 `async_generator` 객체이므로 `async for`를 사용\n",
    "    async for chunk in input:\n",
    "        buffer += chunk\n",
    "        while \",\" in buffer:\n",
    "            comma_index = buffer.index(\",\")\n",
    "            yield [\n",
    "                buffer[:comma_index].strip()\n",
    "            ]  # 쉼표를 기준으로 분할하여 리스트로 반환\n",
    "            buffer = buffer[comma_index + 1:]\n",
    "    yield [buffer.strip()]  # 남은 버퍼 내용을 리스트로 반환\n",
    "\n",
    "\n",
    "# alist_chain 과 asplit_into_list 를 파이프라인으로 연결\n",
    "alist_chain = str_chain | asplit_into_list"
   ],
   "id": "6161c713ea45192",
   "outputs": [],
   "execution_count": 10
  },
  {
   "metadata": {
    "ExecuteTime": {
     "end_time": "2025-04-15T04:30:28.292958Z",
     "start_time": "2025-04-15T04:30:27.016258Z"
    }
   },
   "cell_type": "code",
   "source": [
    "# async for 루프를 사용하여 데이터를 스트리밍합니다.\n",
    "async for chunk in alist_chain.astream({\"company\": \"Google\"}):\n",
    "    # 각 청크를 출력하고 버퍼를 비웁니다.\n",
    "    print(chunk, flush=True)"
   ],
   "id": "ef125b1bf69bdd3a",
   "outputs": [
    {
     "name": "stdout",
     "output_type": "stream",
     "text": [
      "['Microsoft']\n",
      "['Amazon']\n",
      "['Facebook (Meta)']\n",
      "['Apple']\n",
      "['Alibaba']\n"
     ]
    }
   ],
   "execution_count": 11
  },
  {
   "metadata": {
    "ExecuteTime": {
     "end_time": "2025-04-15T04:30:35.007933Z",
     "start_time": "2025-04-15T04:30:33.905843Z"
    }
   },
   "cell_type": "code",
   "source": [
    "# 리스트 체인을 비동기적으로 호출합니다.\n",
    "await alist_chain.ainvoke({\"company\": \"Google\"})"
   ],
   "id": "5787ca364b096364",
   "outputs": [
    {
     "data": {
      "text/plain": [
       "['Microsoft', 'Amazon', 'Facebook (Meta)', 'Apple', 'Alibaba']"
      ]
     },
     "execution_count": 12,
     "metadata": {},
     "output_type": "execute_result"
    }
   ],
   "execution_count": 12
  }
 ],
 "metadata": {
  "kernelspec": {
   "display_name": "Python 3",
   "language": "python",
   "name": "python3"
  },
  "language_info": {
   "codemirror_mode": {
    "name": "ipython",
    "version": 2
   },
   "file_extension": ".py",
   "mimetype": "text/x-python",
   "name": "python",
   "nbconvert_exporter": "python",
   "pygments_lexer": "ipython2",
   "version": "2.7.6"
  }
 },
 "nbformat": 4,
 "nbformat_minor": 5
}
