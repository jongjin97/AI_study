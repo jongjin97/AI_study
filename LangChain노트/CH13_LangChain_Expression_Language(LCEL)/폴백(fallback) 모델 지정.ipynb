{
 "cells": [
  {
   "cell_type": "code",
   "id": "initial_id",
   "metadata": {
    "collapsed": true,
    "ExecuteTime": {
     "end_time": "2025-04-15T05:28:45.632741Z",
     "start_time": "2025-04-15T05:28:45.610265Z"
    }
   },
   "source": [
    "from dotenv import load_dotenv\n",
    "\n",
    "# API 키 정보 로드\n",
    "load_dotenv()\n",
    "from langchain_teddynote import logging\n",
    "\n",
    "# 프로젝트 이름을 입력합니다.\n",
    "logging.langsmith(\"LCEL-Advanced\")"
   ],
   "outputs": [
    {
     "name": "stdout",
     "output_type": "stream",
     "text": [
      "LangSmith 추적을 시작합니다.\n",
      "[프로젝트명]\n",
      "LCEL-Advanced\n"
     ]
    }
   ],
   "execution_count": 1
  },
  {
   "metadata": {},
   "cell_type": "markdown",
   "source": "# LLM API Error 에 대처 방법",
   "id": "436b61ccc047f82f"
  },
  {
   "metadata": {
    "ExecuteTime": {
     "end_time": "2025-04-15T05:29:32.053267Z",
     "start_time": "2025-04-15T05:29:28.500951Z"
    }
   },
   "cell_type": "code",
   "source": [
    "from langchain_anthropic import ChatAnthropic\n",
    "from langchain_openai import ChatOpenAI"
   ],
   "id": "3d4a09fdc29b6620",
   "outputs": [],
   "execution_count": 2
  },
  {
   "metadata": {
    "ExecuteTime": {
     "end_time": "2025-04-15T05:29:33.659644Z",
     "start_time": "2025-04-15T05:29:33.632107Z"
    }
   },
   "cell_type": "code",
   "source": [
    "from unittest.mock import patch\n",
    "\n",
    "import httpx\n",
    "from openai import RateLimitError\n",
    "\n",
    "request = httpx.Request(\"GET\", \"/\")  # GET 요청을 생성합니다.\n",
    "response = httpx.Response(\n",
    "    200, request=request\n",
    ")  # 200 상태 코드와 함께 응답을 생성합니다.\n",
    "# \"rate limit\" 메시지와 응답 및 빈 본문을 포함하는 RateLimitError를 생성합니다.\n",
    "error = RateLimitError(\"rate limit\", response=response, body=\"\")"
   ],
   "id": "830d29898fbb061f",
   "outputs": [],
   "execution_count": 3
  },
  {
   "metadata": {
    "ExecuteTime": {
     "end_time": "2025-04-15T05:30:00.248557Z",
     "start_time": "2025-04-15T05:29:59.483748Z"
    }
   },
   "cell_type": "code",
   "source": [
    "# OpenAI의 ChatOpenAI 모델을 사용하여 openai_llm 객체를 생성합니다.\n",
    "# max_retries를 0으로 설정하여 속도 제한 등으로 인한 재시도를 방지합니다.\n",
    "openai_llm = ChatOpenAI(max_retries=0)\n",
    "\n",
    "# Anthropic의 ChatAnthropic 모델을 사용하여 anthropic_llm 객체를 생성합니다.\n",
    "anthropic_llm = ChatAnthropic(model=\"claude-3-opus-20240229\")\n",
    "\n",
    "# openai_llm을 기본으로 사용하고, 실패 시 anthropic_llm을 대체로 사용하도록 설정합니다.\n",
    "llm = openai_llm.with_fallbacks([anthropic_llm])"
   ],
   "id": "a535a31de2026860",
   "outputs": [],
   "execution_count": 4
  },
  {
   "metadata": {
    "ExecuteTime": {
     "end_time": "2025-04-15T05:30:06.497538Z",
     "start_time": "2025-04-15T05:30:06.421008Z"
    }
   },
   "cell_type": "code",
   "source": [
    "# OpenAI LLM을 먼저 사용하여 오류가 발생하는 것을 보여줍니다.\n",
    "with patch(\"openai.resources.chat.completions.Completions.create\", side_effect=error):\n",
    "    try:\n",
    "        # \"닭이 길을 건넌 이유는 무엇일까요?\"라는 질문을 OpenAI LLM에 전달합니다.\n",
    "        print(openai_llm.invoke(\"Why did the chicken cross the road?\"))\n",
    "    except RateLimitError:\n",
    "        # 오류가 발생하면 오류를 출력합니다.\n",
    "        print(\"에러 발생\")"
   ],
   "id": "d1285775bfae8a78",
   "outputs": [
    {
     "name": "stdout",
     "output_type": "stream",
     "text": [
      "에러 발생\n"
     ]
    }
   ],
   "execution_count": 5
  },
  {
   "metadata": {
    "ExecuteTime": {
     "end_time": "2025-04-15T05:30:16.819331Z",
     "start_time": "2025-04-15T05:30:16.371307Z"
    }
   },
   "cell_type": "code",
   "source": [
    "# OpenAI API 호출 시 에러가 발생하는 경우 Anthropic 으로 대체하는 코드\n",
    "with patch(\"openai.resources.chat.completions.Completions.create\", side_effect=error):\n",
    "    try:\n",
    "        # \"대한민국의 수도는 어디야?\"라는 질문을 언어 모델에 전달하여 응답을 출력합니다.\n",
    "        print(llm.invoke(\"대한민국의 수도는 어디야?\"))\n",
    "    except RateLimitError:\n",
    "        # RateLimitError가 발생하면 \"에러 발생\"를 출력합니다.\n",
    "        print(\"에러 발생\")"
   ],
   "id": "265d694bc556b99e",
   "outputs": [
    {
     "name": "stdout",
     "output_type": "stream",
     "text": [
      "에러 발생\n"
     ]
    }
   ],
   "execution_count": 6
  },
  {
   "metadata": {},
   "cell_type": "markdown",
   "source": "# fallback 에 여러 모델을 순차적으로 지정",
   "id": "c9f9bd9f6686876b"
  },
  {
   "metadata": {
    "ExecuteTime": {
     "end_time": "2025-04-15T05:31:36.640887Z",
     "start_time": "2025-04-15T05:31:36.632963Z"
    }
   },
   "cell_type": "code",
   "source": [
    "from langchain.prompts import PromptTemplate\n",
    "from langchain_core.output_parsers import StrOutputParser\n",
    "from langchain_openai import ChatOpenAI\n",
    "\n",
    "# 프롬프트 생성\n",
    "prompt_template = (\n",
    "    \"질문에 짧고 간결하게 답변해 주세요.\\n\\nQuestion:\\n{question}\\n\\nAnswer:\"\n",
    ")\n",
    "prompt = PromptTemplate.from_template(prompt_template)"
   ],
   "id": "2dfb5ca2650e832d",
   "outputs": [],
   "execution_count": 7
  },
  {
   "metadata": {
    "ExecuteTime": {
     "end_time": "2025-04-15T05:31:42.764913Z",
     "start_time": "2025-04-15T05:31:42.031579Z"
    }
   },
   "cell_type": "code",
   "source": [
    "# 여기서는 쉽게 오류를 발생시킬 수 있는 잘못된 모델 이름을 사용하여 체인을 생성할 것입니다.\n",
    "chat_model = ChatOpenAI(model_name=\"gpt-fake\")\n",
    "bad_chain = prompt | chat_model"
   ],
   "id": "8acab53fa9a1a72c",
   "outputs": [],
   "execution_count": 8
  },
  {
   "metadata": {
    "ExecuteTime": {
     "end_time": "2025-04-15T05:31:49.401417Z",
     "start_time": "2025-04-15T05:31:47.436786Z"
    }
   },
   "cell_type": "code",
   "source": [
    "# fallback 체인을 생성합니다.\n",
    "fallback_chain1 = prompt | ChatOpenAI(model=\"gpt-3.6-turbo\") # 오류\n",
    "fallback_chain2 = prompt | ChatOpenAI(model=\"gpt-3.5-turbo\") # 정상\n",
    "fallback_chain3 = prompt | ChatOpenAI(model=\"gpt-4-turbo-preview\") # 정상"
   ],
   "id": "5c85daacfc5f1ab8",
   "outputs": [],
   "execution_count": 9
  },
  {
   "metadata": {
    "ExecuteTime": {
     "end_time": "2025-04-15T05:32:02.295929Z",
     "start_time": "2025-04-15T05:32:00.255932Z"
    }
   },
   "cell_type": "code",
   "source": [
    "# 두 개의 체인을 결합하여 최종 체인을 생성합니다.\n",
    "chain = bad_chain.with_fallbacks(\n",
    "    [fallback_chain1, fallback_chain2, fallback_chain3])\n",
    "# 생성된 체인을 호출하여 입력값을 전달합니다.\n",
    "chain.invoke({\"question\": \"대한민국의 수도는 어디야?\"})"
   ],
   "id": "5fdf5570cea582ce",
   "outputs": [
    {
     "data": {
      "text/plain": [
       "AIMessage(content='서울입니다.', additional_kwargs={'refusal': None}, response_metadata={'token_usage': {'completion_tokens': 6, 'prompt_tokens': 46, 'total_tokens': 52, 'completion_tokens_details': {'accepted_prediction_tokens': 0, 'audio_tokens': 0, 'reasoning_tokens': 0, 'rejected_prediction_tokens': 0}, 'prompt_tokens_details': {'audio_tokens': 0, 'cached_tokens': 0}}, 'model_name': 'gpt-3.5-turbo-0125', 'system_fingerprint': None, 'id': 'chatcmpl-BMTBpyBNcPE3ysc5Bhnav68u6ah5H', 'finish_reason': 'stop', 'logprobs': None}, id='run-8cbb36b3-2f84-42d0-8f28-f427f15ac142-0', usage_metadata={'input_tokens': 46, 'output_tokens': 6, 'total_tokens': 52, 'input_token_details': {'audio': 0, 'cache_read': 0}, 'output_token_details': {'audio': 0, 'reasoning': 0}})"
      ]
     },
     "execution_count": 10,
     "metadata": {},
     "output_type": "execute_result"
    }
   ],
   "execution_count": 10
  }
 ],
 "metadata": {
  "kernelspec": {
   "display_name": "Python 3",
   "language": "python",
   "name": "python3"
  },
  "language_info": {
   "codemirror_mode": {
    "name": "ipython",
    "version": 2
   },
   "file_extension": ".py",
   "mimetype": "text/x-python",
   "name": "python",
   "nbconvert_exporter": "python",
   "pygments_lexer": "ipython2",
   "version": "2.7.6"
  }
 },
 "nbformat": 4,
 "nbformat_minor": 5
}
