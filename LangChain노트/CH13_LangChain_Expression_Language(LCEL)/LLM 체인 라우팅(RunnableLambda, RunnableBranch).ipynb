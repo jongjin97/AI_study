{
 "cells": [
  {
   "cell_type": "code",
   "id": "initial_id",
   "metadata": {
    "collapsed": true,
    "ExecuteTime": {
     "end_time": "2025-04-14T07:01:17.574132Z",
     "start_time": "2025-04-14T07:01:17.552454Z"
    }
   },
   "source": [
    "from dotenv import load_dotenv\n",
    "\n",
    "# API 키 정보 로드\n",
    "load_dotenv()"
   ],
   "outputs": [
    {
     "data": {
      "text/plain": [
       "True"
      ]
     },
     "execution_count": 1,
     "metadata": {},
     "output_type": "execute_result"
    }
   ],
   "execution_count": 1
  },
  {
   "metadata": {
    "ExecuteTime": {
     "end_time": "2025-04-14T07:01:20.945066Z",
     "start_time": "2025-04-14T07:01:20.936514Z"
    }
   },
   "cell_type": "code",
   "source": [
    "from langchain_teddynote import logging\n",
    "\n",
    "# 프로젝트 이름을 입력합니다.\n",
    "logging.langsmith(\"LCEL-Advanced\")"
   ],
   "id": "c3e8bfe5d12d1e69",
   "outputs": [
    {
     "name": "stdout",
     "output_type": "stream",
     "text": [
      "LangSmith 추적을 시작합니다.\n",
      "[프로젝트명]\n",
      "LCEL-Advanced\n"
     ]
    }
   ],
   "execution_count": 2
  },
  {
   "metadata": {},
   "cell_type": "markdown",
   "source": "# 간단한 예시",
   "id": "4a718b7a0721e125"
  },
  {
   "metadata": {
    "ExecuteTime": {
     "end_time": "2025-04-14T07:23:24.074472Z",
     "start_time": "2025-04-14T07:23:19.551168Z"
    }
   },
   "cell_type": "code",
   "source": [
    "from langchain_openai import ChatOpenAI\n",
    "from langchain_core.output_parsers import StrOutputParser\n",
    "from langchain_core.prompts import PromptTemplate\n",
    "\n",
    "prompt = PromptTemplate.from_template(\n",
    "    \"\"\"주어진 사용자 질문을 `수학`, `과학`, 또는 `기타` 중 하나로 분류하세요. 한 단어 이상으로 응답하지 마세요.\n",
    "\n",
    "<question>\n",
    "{question}\n",
    "</question>\n",
    "\n",
    "Classification:\"\"\"\n",
    ")\n",
    "\n",
    "# 체인을 생성합니다.\n",
    "chain = (\n",
    "    prompt\n",
    "    | ChatOpenAI(model=\"gpt-4o-mini\")\n",
    "    | StrOutputParser()  # 문자열 출력 파서를 사용합니다.\n",
    ")"
   ],
   "id": "b6c45b171f0bd304",
   "outputs": [],
   "execution_count": 3
  },
  {
   "metadata": {
    "ExecuteTime": {
     "end_time": "2025-04-14T07:23:36.298454Z",
     "start_time": "2025-04-14T07:23:34.628098Z"
    }
   },
   "cell_type": "code",
   "source": [
    "# 질문을 입력하여 체인을 호출합니다.\n",
    "chain.invoke({\"question\": \"2+2 는 무엇인가요?\"})"
   ],
   "id": "de2fa531d80baf33",
   "outputs": [
    {
     "data": {
      "text/plain": [
       "'수학'"
      ]
     },
     "execution_count": 4,
     "metadata": {},
     "output_type": "execute_result"
    }
   ],
   "execution_count": 4
  },
  {
   "metadata": {
    "ExecuteTime": {
     "end_time": "2025-04-14T07:23:44.306435Z",
     "start_time": "2025-04-14T07:23:43.548098Z"
    }
   },
   "cell_type": "code",
   "source": [
    "# 질문을 입력하여 체인을 호출합니다.\n",
    "chain.invoke({\"question\": \"작용 반작용의 법칙은 무엇인가요?\"})"
   ],
   "id": "c8dacf9a62481efd",
   "outputs": [
    {
     "data": {
      "text/plain": [
       "'과학'"
      ]
     },
     "execution_count": 5,
     "metadata": {},
     "output_type": "execute_result"
    }
   ],
   "execution_count": 5
  },
  {
   "metadata": {
    "ExecuteTime": {
     "end_time": "2025-04-14T07:23:53.465164Z",
     "start_time": "2025-04-14T07:23:52.714548Z"
    }
   },
   "cell_type": "code",
   "source": [
    "# 질문을 입력하여 체인을 호출합니다.\n",
    "chain.invoke({\"question\": \"Google은 어떤 회사인가요?\"})"
   ],
   "id": "588a6a80251a49c",
   "outputs": [
    {
     "data": {
      "text/plain": [
       "'기타'"
      ]
     },
     "execution_count": 6,
     "metadata": {},
     "output_type": "execute_result"
    }
   ],
   "execution_count": 6
  },
  {
   "metadata": {
    "ExecuteTime": {
     "end_time": "2025-04-14T07:24:15.693714Z",
     "start_time": "2025-04-14T07:24:13.590838Z"
    }
   },
   "cell_type": "code",
   "source": [
    "math_chain = (\n",
    "    PromptTemplate.from_template(\n",
    "        \"\"\"You are an expert in math. \\\n",
    "Always answer questions starting with \"깨봉선생님께서 말씀하시기를..\". \\\n",
    "Respond to the following question:\n",
    "\n",
    "Question: {question}\n",
    "Answer:\"\"\"\n",
    "    )\n",
    "    # OpenAI의 LLM을 사용합니다.\n",
    "    | ChatOpenAI(model=\"gpt-4o-mini\")\n",
    ")\n",
    "\n",
    "science_chain = (\n",
    "    PromptTemplate.from_template(\n",
    "        \"\"\"You are an expert in science. \\\n",
    "Always answer questions starting with \"아이작 뉴턴 선생님께서 말씀하시기를..\". \\\n",
    "Respond to the following question:\n",
    "\n",
    "Question: {question}\n",
    "Answer:\"\"\"\n",
    "    )\n",
    "    # OpenAI의 LLM을 사용합니다.\n",
    "    | ChatOpenAI(model=\"gpt-4o-mini\")\n",
    ")\n",
    "\n",
    "general_chain = (\n",
    "    PromptTemplate.from_template(\n",
    "        \"\"\"Respond to the following question concisely:\n",
    "\n",
    "Question: {question}\n",
    "Answer:\"\"\"\n",
    "    )\n",
    "    # OpenAI의 LLM을 사용합니다.\n",
    "    | ChatOpenAI(model=\"gpt-4o-mini\")\n",
    ")"
   ],
   "id": "ae17bc4bf84c2d8",
   "outputs": [],
   "execution_count": 7
  },
  {
   "metadata": {},
   "cell_type": "markdown",
   "source": "# 사용자 정의 함수 사용하기",
   "id": "4852dc1f4cdf5187"
  },
  {
   "metadata": {
    "ExecuteTime": {
     "end_time": "2025-04-14T07:24:49.087459Z",
     "start_time": "2025-04-14T07:24:49.082906Z"
    }
   },
   "cell_type": "code",
   "source": [
    "def route(info):\n",
    "    # 주제에 \"수학\"이 포함되어 있는 경우\n",
    "    if \"수학\" in info[\"topic\"].lower():\n",
    "        # datascience_chain을 반환\n",
    "        return math_chain\n",
    "    # 주제에 \"과학\"이 포함되어 있는 경우\n",
    "    elif \"과학\" in info[\"topic\"].lower():\n",
    "        # art_chain을 반환\n",
    "        return science_chain\n",
    "    # 그 외의 경우\n",
    "    else:\n",
    "        # general_chain을 반환\n",
    "        return general_chain\n"
   ],
   "id": "bea5a526668afbca",
   "outputs": [],
   "execution_count": 8
  },
  {
   "metadata": {
    "ExecuteTime": {
     "end_time": "2025-04-14T07:25:52.009724Z",
     "start_time": "2025-04-14T07:25:52.004537Z"
    }
   },
   "cell_type": "code",
   "source": [
    "from operator import itemgetter\n",
    "from langchain_core.runnables import RunnableLambda\n",
    "\n",
    "full_chain = (\n",
    "    {\"topic\": chain, \"question\": itemgetter(\"question\")}\n",
    "    | RunnableLambda(\n",
    "        # 경로를 지정하는 함수를 인자로 전달합니다.\n",
    "        route\n",
    "    )\n",
    "    | StrOutputParser()\n",
    ")"
   ],
   "id": "b717a1cd0b122d04",
   "outputs": [],
   "execution_count": 9
  },
  {
   "metadata": {
    "ExecuteTime": {
     "end_time": "2025-04-14T07:26:04.958371Z",
     "start_time": "2025-04-14T07:25:58.373220Z"
    }
   },
   "cell_type": "code",
   "source": [
    "# 수학과 관련된 질문을 입력하여 체인을 호출합니다.\n",
    "full_chain.invoke({\"question\": \"미적분의 개념에 대해 말씀해 주세요.\"})"
   ],
   "id": "4657dc5d5f488579",
   "outputs": [
    {
     "data": {
      "text/plain": [
       "'깨봉선생님께서 말씀하시기를, 미적분은 수학의 한 분야로, 변화와 곡선의 기하학적 성질을 연구하는 데 중점을 두고 있습니다. 미적분학은 크게 미분과 적분으로 나뉘어져 있으며, 미분은 함수의 변화율을 분석하고, 적분은 특정 구간에서의 전체적인 양을 계산하는 데 사용됩니다. \\n\\n미분을 통해 우리는 함수의 기울기나 속도를 이해할 수 있고, 적분은 면적이나 부피를 구하는 데 유용합니다. 이러한 두 개념은 서로 밀접하게 연결되어 있으며, 기본 정리에 의해 미분과 적분은 서로 상反 보완적인 관계를 가집니다. 미적분은 물리학, 공학, 경제학 등 다양한 분야에서 적용되며, 복잡한 문제를 해결하는 데 필수적인 도구로 자리잡고 있습니다.'"
      ]
     },
     "execution_count": 10,
     "metadata": {},
     "output_type": "execute_result"
    }
   ],
   "execution_count": 10
  },
  {
   "metadata": {
    "ExecuteTime": {
     "end_time": "2025-04-14T07:27:07.453392Z",
     "start_time": "2025-04-14T07:27:03.744488Z"
    }
   },
   "cell_type": "code",
   "source": [
    "# 과학과 관련된 질문을 입력하여 체인을 호출합니다.\n",
    "full_chain.invoke({\"question\": \"중력은 어떻게 작용하나요?\"})"
   ],
   "id": "11147a1fdfda4eca",
   "outputs": [
    {
     "data": {
      "text/plain": [
       "'아이작 뉴턴 선생님께서 말씀하시기를, 중력은 물체 간의 질량에 비례하고, 그들 사이의 거리의 제곱에 반비례하는 힘이라고 합니다. 즉, 두 물체의 질량이 클수록 중력의 힘도 강해지며, 두 물체 간의 거리가 멀어질수록 중력의 힘은 약해진다는 것입니다. 뉴턴의 법칙에 따르면, 이 힘은 서로를 끌어당기며, 이는 우리 일상에서 사물들이 떨어지거나 행성이 궤도를 도는 원리를 설명합니다. 따라서 중력은 우주에서 물체의 움직임과 상호작용을 결정짓는 중요한 힘임을 알 수 있습니다.'"
      ]
     },
     "execution_count": 11,
     "metadata": {},
     "output_type": "execute_result"
    }
   ],
   "execution_count": 11
  },
  {
   "metadata": {
    "ExecuteTime": {
     "end_time": "2025-04-14T07:37:02.007839Z",
     "start_time": "2025-04-14T07:36:59.887597Z"
    }
   },
   "cell_type": "code",
   "source": [
    "# 기타 질문을 입력하여 체인을 호출합니다.\n",
    "full_chain.invoke({\"question\": \"RAG(Retrieval Augmented Generation)은 무엇인가요?\"})"
   ],
   "id": "38e8f3c894b20bf2",
   "outputs": [
    {
     "data": {
      "text/plain": [
       "'RAG(Resp Retrieval Augmented Generation)는 정보 검색과 자연어 생성을 결합한 모델로, 질문에 대한 답변 생성 시 외부 데이터베이스에서 관련 정보를 검색하여 활용합니다. 이 방식은 질 높은 응답을 제공하는 데 도움을 줍니다.'"
      ]
     },
     "execution_count": 12,
     "metadata": {},
     "output_type": "execute_result"
    }
   ],
   "execution_count": 12
  },
  {
   "metadata": {},
   "cell_type": "markdown",
   "source": "# RunnableBranch",
   "id": "7e3174245ae2323c"
  },
  {
   "metadata": {
    "ExecuteTime": {
     "end_time": "2025-04-14T07:37:48.054836Z",
     "start_time": "2025-04-14T07:37:48.050429Z"
    }
   },
   "cell_type": "code",
   "source": [
    "from operator import itemgetter\n",
    "from langchain_core.runnables import RunnableBranch"
   ],
   "id": "18956bd1732c527f",
   "outputs": [],
   "execution_count": 13
  },
  {
   "metadata": {
    "ExecuteTime": {
     "end_time": "2025-04-14T07:37:49.199544Z",
     "start_time": "2025-04-14T07:37:49.194128Z"
    }
   },
   "cell_type": "code",
   "source": [
    "branch = RunnableBranch(\n",
    "    # 주제에 \"수학\"이 포함되어 있는지 확인하고, 포함되어 있다면 math_chain을 실행합니다.\n",
    "    (lambda x: \"수학\" in x[\"topic\"].lower(), math_chain),\n",
    "    # 주제에 \"과학\"이 포함되어 있는지 확인하고, 포함되어 있다면 science_chain을 실행합니다.\n",
    "    (lambda x: \"과학\" in x[\"topic\"].lower(), science_chain),\n",
    "    # 위의 조건에 해당하지 않는 경우 general_chain을 실행합니다.\n",
    "    general_chain,\n",
    ")\n",
    "# 주제와 질문을 입력받아 branch를 실행하는 전체 체인을 정의합니다.\n",
    "full_chain = (\n",
    "    {\"topic\": chain, \"question\": itemgetter(\"question\")} | branch | StrOutputParser()\n",
    ")"
   ],
   "id": "2fc0d616b7189cbf",
   "outputs": [],
   "execution_count": 14
  },
  {
   "metadata": {
    "ExecuteTime": {
     "end_time": "2025-04-14T07:38:20.912506Z",
     "start_time": "2025-04-14T07:38:16.223342Z"
    }
   },
   "cell_type": "code",
   "source": [
    "# 질문을 입력하여 전체 체인을 실행합니다.\n",
    "full_chain.invoke({\"question\": \"미적분의 개념에 대해 말씀해 주세요.\"})"
   ],
   "id": "c00de1984a74e202",
   "outputs": [
    {
     "data": {
      "text/plain": [
       "'깨봉선생님께서 말씀하시기를, 미적분은 수학의 두 주요 분야인 미분과 적분으로 구성됩니다. 미분은 함수의 변화율을 측정하여 기울기를 구하는 과정이며, 적분은 함수의 면적 또는 전체 값을 구하는 과정입니다. 이 두 개념은 서로 긴밀하게 연결되어 있으며, 미적분학은 물리학, 공학, 경제학 등 다양한 분야에서 많은 응용을 가지고 있습니다. 미적분을 통해 우리는 곡선의 기울기, 면적, 그리고 변화하는 현상을 분석할 수 있습니다.'"
      ]
     },
     "execution_count": 15,
     "metadata": {},
     "output_type": "execute_result"
    }
   ],
   "execution_count": 15
  },
  {
   "metadata": {
    "ExecuteTime": {
     "end_time": "2025-04-14T07:38:32.628949Z",
     "start_time": "2025-04-14T07:38:28.036554Z"
    }
   },
   "cell_type": "code",
   "source": [
    "# 질문을 입력하여 전체 체인을 실행합니다.\n",
    "full_chain.invoke({\"question\": \"중력 가속도는 어떻게 계산하나요?\"})"
   ],
   "id": "46e56e94dad0888d",
   "outputs": [
    {
     "data": {
      "text/plain": [
       "'아이작 뉴턴 선생님께서 말씀하시기를, 중력 가속도는 물체가 지구 등 특정 천체의 중력장 속에서 얼마나 빠르게 가속되는지를 나타내는 값입니다. 지구의 경우, 일반적으로 중력 가속도는 약 9.81 m/s²로 알려져 있습니다. \\n\\n중력 가속도를 계산하기 위해서는 중력 법칙을 활용할 수 있습니다. 두 물체간의 중력은 다음과 같은 식으로 표현됩니다:\\n\\n\\\\[ F = \\\\frac{G \\\\cdot m_1 \\\\cdot m_2}{r^2} \\\\]\\n\\n여기서 \\\\( F \\\\)는 두 물체 간의 중력, \\\\( G \\\\)는 만유인력 상수, \\\\( m_1 \\\\)과 \\\\( m_2 \\\\)는 각각의 물체의 질량, \\\\( r \\\\)은 두 물체 간의 거리입니다. \\n\\n지구에서 중력 가속도 \\\\( g \\\\)는 질량 \\\\( m \\\\)인 물체에 작용하는 중력을 \\\\( F = m \\\\cdot g \\\\)라고 놓고, 이 두 식을 연결하여 아래와 같이 표현할 수 있습니다:\\n\\n\\\\[ g = \\\\frac{G \\\\cdot M}{r^2} \\\\]\\n\\n여기서 \\\\( M \\\\)은 지구의 질량, \\\\( r \\\\)은 지구의 반지름입니다. 이 식을 이용하여 중력 가속도를 계산할 수 있습니다.'"
      ]
     },
     "execution_count": 16,
     "metadata": {},
     "output_type": "execute_result"
    }
   ],
   "execution_count": 16
  },
  {
   "metadata": {
    "ExecuteTime": {
     "end_time": "2025-04-14T07:38:34.765063Z",
     "start_time": "2025-04-14T07:38:32.704866Z"
    }
   },
   "cell_type": "code",
   "source": [
    "# 질문을 입력하여 전체 체인을 실행합니다.\n",
    "full_chain.invoke({\"question\": \"RAG(Retrieval Augmented Generation)은 무엇인가요?\"})"
   ],
   "id": "9d654d9adef14bd6",
   "outputs": [
    {
     "data": {
      "text/plain": [
       "'RAG(위치 기반 생성)는 정보 검색과 생성 모델을 결합한 방법으로, 검색된 문서에서 필요한 정보를 추출하여 이를 바탕으로 텍스트를 생성합니다. 이를 통해 더 정확하고 풍부한 응답을 제공할 수 있습니다.'"
      ]
     },
     "execution_count": 17,
     "metadata": {},
     "output_type": "execute_result"
    }
   ],
   "execution_count": 17
  }
 ],
 "metadata": {
  "kernelspec": {
   "display_name": "Python 3",
   "language": "python",
   "name": "python3"
  },
  "language_info": {
   "codemirror_mode": {
    "name": "ipython",
    "version": 2
   },
   "file_extension": ".py",
   "mimetype": "text/x-python",
   "name": "python",
   "nbconvert_exporter": "python",
   "pygments_lexer": "ipython2",
   "version": "2.7.6"
  }
 },
 "nbformat": 4,
 "nbformat_minor": 5
}
