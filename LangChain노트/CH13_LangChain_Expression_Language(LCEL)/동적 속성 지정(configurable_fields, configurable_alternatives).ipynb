{
 "cells": [
  {
   "cell_type": "code",
   "id": "initial_id",
   "metadata": {
    "collapsed": true,
    "ExecuteTime": {
     "end_time": "2025-04-14T08:22:14.694806Z",
     "start_time": "2025-04-14T08:22:14.670657Z"
    }
   },
   "source": [
    "from dotenv import load_dotenv\n",
    "\n",
    "# API 키 정보 로드\n",
    "load_dotenv()"
   ],
   "outputs": [
    {
     "data": {
      "text/plain": [
       "True"
      ]
     },
     "execution_count": 1,
     "metadata": {},
     "output_type": "execute_result"
    }
   ],
   "execution_count": 1
  },
  {
   "metadata": {
    "ExecuteTime": {
     "end_time": "2025-04-14T08:22:14.745787Z",
     "start_time": "2025-04-14T08:22:14.735315Z"
    }
   },
   "cell_type": "code",
   "source": [
    "from langchain_teddynote import logging\n",
    "\n",
    "# 프로젝트 이름을 입력합니다.\n",
    "logging.langsmith(\"LCEL-Advanced\")"
   ],
   "id": "94b811b2edb1a0f9",
   "outputs": [
    {
     "name": "stdout",
     "output_type": "stream",
     "text": [
      "LangSmith 추적을 시작합니다.\n",
      "[프로젝트명]\n",
      "LCEL-Advanced\n"
     ]
    }
   ],
   "execution_count": 2
  },
  {
   "metadata": {},
   "cell_type": "markdown",
   "source": "# 동적 속성 지정",
   "id": "18a826431e23d223"
  },
  {
   "metadata": {
    "ExecuteTime": {
     "end_time": "2025-04-14T08:23:11.614670Z",
     "start_time": "2025-04-14T08:23:06.314278Z"
    }
   },
   "cell_type": "code",
   "source": [
    "from langchain.prompts import PromptTemplate\n",
    "from langchain_core.runnables import ConfigurableField\n",
    "from langchain_openai import ChatOpenAI\n",
    "\n",
    "model = ChatOpenAI(temperature=0, model_name=\"gpt-4o\")\n",
    "\n",
    "model.invoke(\"대한민국의 수도는 어디야?\").__dict__"
   ],
   "id": "c0526e18365ee457",
   "outputs": [
    {
     "data": {
      "text/plain": [
       "{'content': '대한민국의 수도는 서울입니다.',\n",
       " 'additional_kwargs': {'refusal': None},\n",
       " 'response_metadata': {'token_usage': {'completion_tokens': 9,\n",
       "   'prompt_tokens': 15,\n",
       "   'total_tokens': 24,\n",
       "   'completion_tokens_details': {'accepted_prediction_tokens': 0,\n",
       "    'audio_tokens': 0,\n",
       "    'reasoning_tokens': 0,\n",
       "    'rejected_prediction_tokens': 0},\n",
       "   'prompt_tokens_details': {'audio_tokens': 0, 'cached_tokens': 0}},\n",
       "  'model_name': 'gpt-4o-2024-08-06',\n",
       "  'system_fingerprint': 'fp_fa860cbac8',\n",
       "  'id': 'chatcmpl-BM9NvnLhzZjxR9EnkCZfZJb8Mc588',\n",
       "  'finish_reason': 'stop',\n",
       "  'logprobs': None},\n",
       " 'type': 'ai',\n",
       " 'name': None,\n",
       " 'id': 'run-236fbef9-24f1-4abe-9465-e0186e85da98-0',\n",
       " 'example': False,\n",
       " 'tool_calls': [],\n",
       " 'invalid_tool_calls': [],\n",
       " 'usage_metadata': {'input_tokens': 15,\n",
       "  'output_tokens': 9,\n",
       "  'total_tokens': 24,\n",
       "  'input_token_details': {'audio': 0, 'cache_read': 0},\n",
       "  'output_token_details': {'audio': 0, 'reasoning': 0}}}"
      ]
     },
     "execution_count": 3,
     "metadata": {},
     "output_type": "execute_result"
    }
   ],
   "execution_count": 3
  },
  {
   "metadata": {
    "ExecuteTime": {
     "end_time": "2025-04-14T08:24:56.488346Z",
     "start_time": "2025-04-14T08:24:55.240912Z"
    }
   },
   "cell_type": "code",
   "source": [
    "model = ChatOpenAI(temperature=0).configurable_fields(\n",
    "    model_name=ConfigurableField( # model_name 은 원래 ChatOpenAI의 필드\n",
    "        id=\"gpt_version\", # model_name의 id를 설정\n",
    "        name=\"Version of GPT\", # model_name의 이름을 설정\n",
    "        # model_name의 설명을 설정\n",
    "        description=\"Official model name of GPTs. ex) gpt-4o, gpt-4o-mini\"\n",
    "    )\n",
    ")"
   ],
   "id": "dabf47fd9c8e3df2",
   "outputs": [],
   "execution_count": 4
  },
  {
   "metadata": {
    "ExecuteTime": {
     "end_time": "2025-04-14T08:25:49.520588Z",
     "start_time": "2025-04-14T08:25:48.398134Z"
    }
   },
   "cell_type": "code",
   "source": [
    "model.invoke(\n",
    "    \"대한민국의 수도는 어디야?\",\n",
    "    # gpt_version을 gpt-3.5-turbo로 설정\n",
    "    config={\"configurable\": {\"gpt_version\": \"gpt-3.5-turbo\"}},\n",
    ").__dict__"
   ],
   "id": "3455937bcf1f56ee",
   "outputs": [
    {
     "data": {
      "text/plain": [
       "{'content': '대한민국의 수도는 서울이야.',\n",
       " 'additional_kwargs': {'refusal': None},\n",
       " 'response_metadata': {'token_usage': {'completion_tokens': 17,\n",
       "   'prompt_tokens': 22,\n",
       "   'total_tokens': 39,\n",
       "   'completion_tokens_details': {'accepted_prediction_tokens': 0,\n",
       "    'audio_tokens': 0,\n",
       "    'reasoning_tokens': 0,\n",
       "    'rejected_prediction_tokens': 0},\n",
       "   'prompt_tokens_details': {'audio_tokens': 0, 'cached_tokens': 0}},\n",
       "  'model_name': 'gpt-3.5-turbo-0125',\n",
       "  'system_fingerprint': None,\n",
       "  'id': 'chatcmpl-BM9QSb7acKCzXvK2fHrEvhaHU99D9',\n",
       "  'finish_reason': 'stop',\n",
       "  'logprobs': None},\n",
       " 'type': 'ai',\n",
       " 'name': None,\n",
       " 'id': 'run-ba1e400f-d109-4a57-aa6d-04833a30852b-0',\n",
       " 'example': False,\n",
       " 'tool_calls': [],\n",
       " 'invalid_tool_calls': [],\n",
       " 'usage_metadata': {'input_tokens': 22,\n",
       "  'output_tokens': 17,\n",
       "  'total_tokens': 39,\n",
       "  'input_token_details': {'audio': 0, 'cache_read': 0},\n",
       "  'output_token_details': {'audio': 0, 'reasoning': 0}}}"
      ]
     },
     "execution_count": 6,
     "metadata": {},
     "output_type": "execute_result"
    }
   ],
   "execution_count": 6
  },
  {
   "metadata": {
    "ExecuteTime": {
     "end_time": "2025-04-14T08:26:08.649365Z",
     "start_time": "2025-04-14T08:26:07.822606Z"
    }
   },
   "cell_type": "code",
   "source": [
    "model.invoke(\n",
    "    # gpt_version 을 gpt-4o-mini 로 설정\n",
    "    \"대한민국의 수도는 어디야?\",\n",
    "    config={\"configurable\": {\"gpt_version\": \"gpt-4o-mini\"}},\n",
    ").__dict__"
   ],
   "id": "61d51f0b63018fea",
   "outputs": [
    {
     "data": {
      "text/plain": [
       "{'content': '대한민국의 수도는 서울입니다.',\n",
       " 'additional_kwargs': {'refusal': None},\n",
       " 'response_metadata': {'token_usage': {'completion_tokens': 9,\n",
       "   'prompt_tokens': 15,\n",
       "   'total_tokens': 24,\n",
       "   'completion_tokens_details': {'accepted_prediction_tokens': 0,\n",
       "    'audio_tokens': 0,\n",
       "    'reasoning_tokens': 0,\n",
       "    'rejected_prediction_tokens': 0},\n",
       "   'prompt_tokens_details': {'audio_tokens': 0, 'cached_tokens': 0}},\n",
       "  'model_name': 'gpt-4o-mini-2024-07-18',\n",
       "  'system_fingerprint': 'fp_44added55e',\n",
       "  'id': 'chatcmpl-BM9QmBFoMDgSuvJgbxydcRNTkYuvB',\n",
       "  'finish_reason': 'stop',\n",
       "  'logprobs': None},\n",
       " 'type': 'ai',\n",
       " 'name': None,\n",
       " 'id': 'run-83e82c2e-b956-4ed4-91f5-d28ce2f44a76-0',\n",
       " 'example': False,\n",
       " 'tool_calls': [],\n",
       " 'invalid_tool_calls': [],\n",
       " 'usage_metadata': {'input_tokens': 15,\n",
       "  'output_tokens': 9,\n",
       "  'total_tokens': 24,\n",
       "  'input_token_details': {'audio': 0, 'cache_read': 0},\n",
       "  'output_token_details': {'audio': 0, 'reasoning': 0}}}"
      ]
     },
     "execution_count": 7,
     "metadata": {},
     "output_type": "execute_result"
    }
   ],
   "execution_count": 7
  },
  {
   "metadata": {
    "ExecuteTime": {
     "end_time": "2025-04-14T08:26:52.474561Z",
     "start_time": "2025-04-14T08:26:51.815588Z"
    }
   },
   "cell_type": "code",
   "source": [
    "model.with_config(\n",
    "    configurable={\"gpt_version\": \"gpt-4o-mini\"}\n",
    ").invoke(\"대한민국의 수도는 어디야?\").__dict__"
   ],
   "id": "1b45ded2be1a04c1",
   "outputs": [
    {
     "data": {
      "text/plain": [
       "{'content': '대한민국의 수도는 서울입니다.',\n",
       " 'additional_kwargs': {'refusal': None},\n",
       " 'response_metadata': {'token_usage': {'completion_tokens': 9,\n",
       "   'prompt_tokens': 15,\n",
       "   'total_tokens': 24,\n",
       "   'completion_tokens_details': {'accepted_prediction_tokens': 0,\n",
       "    'audio_tokens': 0,\n",
       "    'reasoning_tokens': 0,\n",
       "    'rejected_prediction_tokens': 0},\n",
       "   'prompt_tokens_details': {'audio_tokens': 0, 'cached_tokens': 0}},\n",
       "  'model_name': 'gpt-4o-mini-2024-07-18',\n",
       "  'system_fingerprint': 'fp_44added55e',\n",
       "  'id': 'chatcmpl-BM9RUc6dOW7NtO99z5MCBbGIPLkcp',\n",
       "  'finish_reason': 'stop',\n",
       "  'logprobs': None},\n",
       " 'type': 'ai',\n",
       " 'name': None,\n",
       " 'id': 'run-a15fce82-63bd-4a84-bdc3-cbc2c9bf14a1-0',\n",
       " 'example': False,\n",
       " 'tool_calls': [],\n",
       " 'invalid_tool_calls': [],\n",
       " 'usage_metadata': {'input_tokens': 15,\n",
       "  'output_tokens': 9,\n",
       "  'total_tokens': 24,\n",
       "  'input_token_details': {'audio': 0, 'cache_read': 0},\n",
       "  'output_token_details': {'audio': 0, 'reasoning': 0}}}"
      ]
     },
     "execution_count": 8,
     "metadata": {},
     "output_type": "execute_result"
    }
   ],
   "execution_count": 8
  },
  {
   "metadata": {
    "ExecuteTime": {
     "end_time": "2025-04-14T08:28:09.655525Z",
     "start_time": "2025-04-14T08:28:09.651606Z"
    }
   },
   "cell_type": "code",
   "source": [
    "# 템플릿에서 프롬프트 템플릿을 생성합니다.\n",
    "prompt = PromptTemplate.from_template(\"{x} 보다 큰 위의 난수를 선택합니다.\")\n",
    "chain = (\n",
    "    prompt | model\n",
    ")  # 프롬프트와 모델을 연결하여 체인을 생성합니다. 프롬프트의 출력이 모델의 입력으로 전달됩니다."
   ],
   "id": "b70f171b582d7c0e",
   "outputs": [],
   "execution_count": 9
  },
  {
   "metadata": {
    "ExecuteTime": {
     "end_time": "2025-04-14T08:28:21.263990Z",
     "start_time": "2025-04-14T08:28:20.307370Z"
    }
   },
   "cell_type": "code",
   "source": "chain.invoke({\"x\": 0}).__dict__  # 체인을 호출하고 입력 변수 \"x\"에 0을 전달합니다.",
   "id": "918a7364182f10ef",
   "outputs": [
    {
     "data": {
      "text/plain": [
       "{'content': '5',\n",
       " 'additional_kwargs': {'refusal': None},\n",
       " 'response_metadata': {'token_usage': {'completion_tokens': 2,\n",
       "   'prompt_tokens': 21,\n",
       "   'total_tokens': 23,\n",
       "   'completion_tokens_details': {'accepted_prediction_tokens': 0,\n",
       "    'audio_tokens': 0,\n",
       "    'reasoning_tokens': 0,\n",
       "    'rejected_prediction_tokens': 0},\n",
       "   'prompt_tokens_details': {'audio_tokens': 0, 'cached_tokens': 0}},\n",
       "  'model_name': 'gpt-3.5-turbo-0125',\n",
       "  'system_fingerprint': None,\n",
       "  'id': 'chatcmpl-BM9Sux5CocqyDyuYA7Nfq0LNMvbry',\n",
       "  'finish_reason': 'stop',\n",
       "  'logprobs': None},\n",
       " 'type': 'ai',\n",
       " 'name': None,\n",
       " 'id': 'run-a8e576a7-1821-419a-ae37-517525510ded-0',\n",
       " 'example': False,\n",
       " 'tool_calls': [],\n",
       " 'invalid_tool_calls': [],\n",
       " 'usage_metadata': {'input_tokens': 21,\n",
       "  'output_tokens': 2,\n",
       "  'total_tokens': 23,\n",
       "  'input_token_details': {'audio': 0, 'cache_read': 0},\n",
       "  'output_token_details': {'audio': 0, 'reasoning': 0}}}"
      ]
     },
     "execution_count": 10,
     "metadata": {},
     "output_type": "execute_result"
    }
   ],
   "execution_count": 10
  },
  {
   "metadata": {
    "ExecuteTime": {
     "end_time": "2025-04-14T08:30:01.226204Z",
     "start_time": "2025-04-14T08:29:58.724039Z"
    }
   },
   "cell_type": "code",
   "source": [
    "# 체인을 호출할 때 설정을 지정하여 체인을 호출할 수 있습니다.\n",
    "chain.with_config(configurable={\"gpt_version\": \"gpt-4o\"}).invoke({\"x\": 0}).__dict__"
   ],
   "id": "e227e20c71a2cdcd",
   "outputs": [
    {
     "data": {
      "text/plain": [
       "{'content': '위의 요청은 난수를 생성하는 것과 관련이 있습니다. 하지만 현재 환경에서는 직접 난수를 생성할 수 없습니다. 대신, 프로그래밍 언어를 사용하여 난수를 생성하는 방법을 안내해드리겠습니다.\\n\\n예를 들어, 파이썬에서는 다음과 같이 0보다 큰 난수를 생성할 수 있습니다.\\n\\n```python\\nimport random\\n\\n# 0보다 큰 난수 생성\\nrandom_number = random.uniform(0.1, 1.0)\\nprint(random_number)\\n```\\n\\n이 코드는 0.1과 1.0 사이의 난수를 생성합니다. 필요에 따라 범위를 조정할 수 있습니다. 다른 프로그래밍 언어에서도 유사한 기능을 제공하니, 사용 중인 언어에 맞게 적용하시면 됩니다.',\n",
       " 'additional_kwargs': {'refusal': None},\n",
       " 'response_metadata': {'token_usage': {'completion_tokens': 167,\n",
       "   'prompt_tokens': 17,\n",
       "   'total_tokens': 184,\n",
       "   'completion_tokens_details': {'accepted_prediction_tokens': 0,\n",
       "    'audio_tokens': 0,\n",
       "    'reasoning_tokens': 0,\n",
       "    'rejected_prediction_tokens': 0},\n",
       "   'prompt_tokens_details': {'audio_tokens': 0, 'cached_tokens': 0}},\n",
       "  'model_name': 'gpt-4o-2024-08-06',\n",
       "  'system_fingerprint': 'fp_22890b9c0a',\n",
       "  'id': 'chatcmpl-BM9UVg8Q1AS0Xgm6p3qUvlfLgueKN',\n",
       "  'finish_reason': 'stop',\n",
       "  'logprobs': None},\n",
       " 'type': 'ai',\n",
       " 'name': None,\n",
       " 'id': 'run-887a83eb-5fe8-421d-92de-3c01afb0bc23-0',\n",
       " 'example': False,\n",
       " 'tool_calls': [],\n",
       " 'invalid_tool_calls': [],\n",
       " 'usage_metadata': {'input_tokens': 17,\n",
       "  'output_tokens': 167,\n",
       "  'total_tokens': 184,\n",
       "  'input_token_details': {'audio': 0, 'cache_read': 0},\n",
       "  'output_token_details': {'audio': 0, 'reasoning': 0}}}"
      ]
     },
     "execution_count": 11,
     "metadata": {},
     "output_type": "execute_result"
    }
   ],
   "execution_count": 11
  },
  {
   "metadata": {},
   "cell_type": "markdown",
   "source": "# HubRunnable: LangChain Hub의 설정 변경",
   "id": "a7660d804fc9ee21"
  },
  {
   "metadata": {
    "ExecuteTime": {
     "end_time": "2025-04-14T08:30:59.226863Z",
     "start_time": "2025-04-14T08:30:58.724707Z"
    }
   },
   "cell_type": "code",
   "source": [
    "from langchain.runnables.hub import HubRunnable\n",
    "\n",
    "prompt = HubRunnable(\"teddynote/rag-prompt-korean\").configurable_fields(\n",
    "    # 소유자 저장소 커밋을 설정하는 ConfigurableField\n",
    "    owner_repo_commit=ConfigurableField(\n",
    "        # 필드의 ID\n",
    "        id=\"hub_commit\",\n",
    "        # 필드의 이름\n",
    "        name=\"Hub Commit\",\n",
    "        # 필드에 대한 설명\n",
    "        description=\"Korean RAG prompt by teddynote\",\n",
    "    )\n",
    ")\n",
    "prompt"
   ],
   "id": "853680be6313b8df",
   "outputs": [
    {
     "data": {
      "text/plain": [
       "RunnableConfigurableFields(default=HubRunnable(bound=ChatPromptTemplate(input_variables=['context', 'question'], input_types={}, partial_variables={}, metadata={'lc_hub_owner': 'teddynote', 'lc_hub_repo': 'rag-prompt-korean', 'lc_hub_commit_hash': '4214de29c72c82d13121c710b0ee7021d31ad088f0eb1d6ddebcaaeab46b1f8b'}, messages=[SystemMessagePromptTemplate(prompt=PromptTemplate(input_variables=[], input_types={}, partial_variables={}, template=\"당신은 질문-답변(Question-Answering)을 수행하는 친절한 AI 어시스턴트입니다. 당신의 임무는 주어진 문맥(context) 에서 주어진 질문(question) 에 답하는 것입니다.\\n검색된 다음 문맥(context) 을 사용하여 질문(question) 에 답하세요. 만약, 주어진 문맥(context) 에서 답을 찾을 수 없다면, 답을 모른다면 `주어진 정보에서 질문에 대한 정보를 찾을 수 없습니다` 라고 답하세요.\\n한글로 답변해 주세요. 단, 기술적인 용어나 이름은 번역하지 않고 그대로 사용해 주세요. Don't narrate the answer, just answer the question. Let's think step-by-step.\"), additional_kwargs={}), HumanMessagePromptTemplate(prompt=PromptTemplate(input_variables=['context', 'question'], input_types={}, partial_variables={}, template='#Question: \\n{question} \\n\\n#Context: \\n{context} \\n\\n#Answer:'), additional_kwargs={})]), kwargs={}, config={}, config_factories=[], owner_repo_commit='teddynote/rag-prompt-korean'), fields={'owner_repo_commit': ConfigurableField(id='hub_commit', name='Hub Commit', description='Korean RAG prompt by teddynote', annotation=None, is_shared=False)})"
      ]
     },
     "execution_count": 12,
     "metadata": {},
     "output_type": "execute_result"
    }
   ],
   "execution_count": 12
  },
  {
   "metadata": {
    "ExecuteTime": {
     "end_time": "2025-04-14T08:31:21.077346Z",
     "start_time": "2025-04-14T08:31:21.069959Z"
    }
   },
   "cell_type": "code",
   "source": [
    "# prompt 객체의 invoke 메서드를 호출하여 \"question\"과 \"context\" 매개변수를 전달합니다.\n",
    "prompt.invoke({\"question\": \"Hello\", \"context\": \"World\"}).messages"
   ],
   "id": "65d591d69f9a13b5",
   "outputs": [
    {
     "data": {
      "text/plain": [
       "[SystemMessage(content=\"당신은 질문-답변(Question-Answering)을 수행하는 친절한 AI 어시스턴트입니다. 당신의 임무는 주어진 문맥(context) 에서 주어진 질문(question) 에 답하는 것입니다.\\n검색된 다음 문맥(context) 을 사용하여 질문(question) 에 답하세요. 만약, 주어진 문맥(context) 에서 답을 찾을 수 없다면, 답을 모른다면 `주어진 정보에서 질문에 대한 정보를 찾을 수 없습니다` 라고 답하세요.\\n한글로 답변해 주세요. 단, 기술적인 용어나 이름은 번역하지 않고 그대로 사용해 주세요. Don't narrate the answer, just answer the question. Let's think step-by-step.\", additional_kwargs={}, response_metadata={}),\n",
       " HumanMessage(content='#Question: \\nHello \\n\\n#Context: \\nWorld \\n\\n#Answer:', additional_kwargs={}, response_metadata={})]"
      ]
     },
     "execution_count": 13,
     "metadata": {},
     "output_type": "execute_result"
    }
   ],
   "execution_count": 13
  },
  {
   "metadata": {
    "ExecuteTime": {
     "end_time": "2025-04-14T08:31:46.522649Z",
     "start_time": "2025-04-14T08:31:46.068324Z"
    }
   },
   "cell_type": "code",
   "source": [
    "prompt.with_config(\n",
    "    # hub_commit 을 teddynote/simple-summary-korean 으로 설정합니다.\n",
    "    configurable={\"hub_commit\": \"jongjin97/simple-summary-korean\"}\n",
    ").invoke({\"context\": \"Hello\"})"
   ],
   "id": "92de9fb7eccc6348",
   "outputs": [
    {
     "data": {
      "text/plain": [
       "ChatPromptValue(messages=[HumanMessage(content='주어진 내용을 바탕으로 다음 문장을 요약하세요. 답변은 반드시 한글로 작성하세요.\\n\\nContext: Hello\\n\\nSUMMARY:', additional_kwargs={}, response_metadata={})])"
      ]
     },
     "execution_count": 14,
     "metadata": {},
     "output_type": "execute_result"
    }
   ],
   "execution_count": 14
  },
  {
   "metadata": {},
   "cell_type": "markdown",
   "source": "# 프롬프트의 대안 설정 방법\n",
   "id": "511fcc408323675f"
  },
  {
   "metadata": {
    "ExecuteTime": {
     "end_time": "2025-04-14T08:36:18.400301Z",
     "start_time": "2025-04-14T08:36:17.545777Z"
    }
   },
   "cell_type": "code",
   "source": [
    "# 언어 모델을 초기화하고 temperature를 0으로 설정합니다.\n",
    "llm = ChatOpenAI(temperature=0)\n",
    "\n",
    "prompt = PromptTemplate.from_template(\n",
    "    \"{country} 의 수도는 어디야?\"  # 기본 프롬프트 템플릿\n",
    ").configurable_alternatives(\n",
    "    # 이 필드에 id를 부여합니다.\n",
    "    ConfigurableField(id=\"prompt\"),\n",
    "    # 기본 키를 설정합니다.\n",
    "    default_key=\"capital\",\n",
    "    # 'area'이라는 새로운 옵션을 추가합니다.\n",
    "    area=PromptTemplate.from_template(\"{country} 의 면적은 얼마야?\"),\n",
    "    # 'population'이라는 새로운 옵션을 추가합니다.\n",
    "    population=PromptTemplate.from_template(\"{country} 의 인구는 얼마야?\"),\n",
    "    # 'eng'이라는 새로운 옵션을 추가합니다.\n",
    "    eng=PromptTemplate.from_template(\"{input} 을 영어로 번역해주세요.\"),\n",
    "    # 여기에 더 많은 구성 옵션을 추가할 수 있습니다.\n",
    ")\n",
    "\n",
    "# 프롬프트와 언어 모델을 연결하여 체인을 생성합니다.\n",
    "chain = prompt | llm"
   ],
   "id": "afad81497691d03b",
   "outputs": [],
   "execution_count": 15
  },
  {
   "metadata": {
    "ExecuteTime": {
     "end_time": "2025-04-14T08:36:22.857203Z",
     "start_time": "2025-04-14T08:36:21.997799Z"
    }
   },
   "cell_type": "code",
   "source": [
    "# config 변경 없이 체인을 호출합니다.\n",
    "chain.invoke({\"country\": \"대한민국\"})"
   ],
   "id": "bc4b06a4cbfb2566",
   "outputs": [
    {
     "data": {
      "text/plain": [
       "AIMessage(content='대한민국의 수도는 서울이다.', additional_kwargs={'refusal': None}, response_metadata={'token_usage': {'completion_tokens': 17, 'prompt_tokens': 23, 'total_tokens': 40, 'completion_tokens_details': {'accepted_prediction_tokens': 0, 'audio_tokens': 0, 'reasoning_tokens': 0, 'rejected_prediction_tokens': 0}, 'prompt_tokens_details': {'audio_tokens': 0, 'cached_tokens': 0}}, 'model_name': 'gpt-3.5-turbo-0125', 'system_fingerprint': None, 'id': 'chatcmpl-BM9agvCKrFSvBmhHAm8ZMpUuKouTp', 'finish_reason': 'stop', 'logprobs': None}, id='run-d64019bc-e053-4622-9d02-138719098c9b-0', usage_metadata={'input_tokens': 23, 'output_tokens': 17, 'total_tokens': 40, 'input_token_details': {'audio': 0, 'cache_read': 0}, 'output_token_details': {'audio': 0, 'reasoning': 0}})"
      ]
     },
     "execution_count": 16,
     "metadata": {},
     "output_type": "execute_result"
    }
   ],
   "execution_count": 16
  },
  {
   "metadata": {
    "ExecuteTime": {
     "end_time": "2025-04-14T08:36:39.047147Z",
     "start_time": "2025-04-14T08:36:38.034920Z"
    }
   },
   "cell_type": "code",
   "source": [
    "# with_config 로 체인의 설정을 변경하여 호출합니다.\n",
    "chain.with_config(configurable={\"prompt\": \"area\"}).invoke({\"country\": \"대한민국\"})"
   ],
   "id": "720ca4dc4768732",
   "outputs": [
    {
     "data": {
      "text/plain": [
       "AIMessage(content='대한민국의 총 면적은 약 100,363km² 입니다.', additional_kwargs={'refusal': None}, response_metadata={'token_usage': {'completion_tokens': 26, 'prompt_tokens': 25, 'total_tokens': 51, 'completion_tokens_details': {'accepted_prediction_tokens': 0, 'audio_tokens': 0, 'reasoning_tokens': 0, 'rejected_prediction_tokens': 0}, 'prompt_tokens_details': {'audio_tokens': 0, 'cached_tokens': 0}}, 'model_name': 'gpt-3.5-turbo-0125', 'system_fingerprint': None, 'id': 'chatcmpl-BM9aw92TWpHDIR9X3mZx4RlM171ix', 'finish_reason': 'stop', 'logprobs': None}, id='run-74445fdc-7fa7-4844-9a44-a4aa4004ea33-0', usage_metadata={'input_tokens': 25, 'output_tokens': 26, 'total_tokens': 51, 'input_token_details': {'audio': 0, 'cache_read': 0}, 'output_token_details': {'audio': 0, 'reasoning': 0}})"
      ]
     },
     "execution_count": 17,
     "metadata": {},
     "output_type": "execute_result"
    }
   ],
   "execution_count": 17
  },
  {
   "metadata": {
    "ExecuteTime": {
     "end_time": "2025-04-14T08:37:01.803424Z",
     "start_time": "2025-04-14T08:37:00.914176Z"
    }
   },
   "cell_type": "code",
   "source": [
    "# with_config 로 체인의 설정을 변경하여 호출합니다.\n",
    "chain.with_config(configurable={\"prompt\": \"population\"}).invoke({\"country\": \"대한민국\"})"
   ],
   "id": "fb47f255813e5de1",
   "outputs": [
    {
     "data": {
      "text/plain": [
       "AIMessage(content='2021년 7월 기준 대한민국의 인구는 약 5천 133만 명입니다.', additional_kwargs={'refusal': None}, response_metadata={'token_usage': {'completion_tokens': 35, 'prompt_tokens': 24, 'total_tokens': 59, 'completion_tokens_details': {'accepted_prediction_tokens': 0, 'audio_tokens': 0, 'reasoning_tokens': 0, 'rejected_prediction_tokens': 0}, 'prompt_tokens_details': {'audio_tokens': 0, 'cached_tokens': 0}}, 'model_name': 'gpt-3.5-turbo-0125', 'system_fingerprint': None, 'id': 'chatcmpl-BM9bJXir95BoFlBxHeE49pTs8su7E', 'finish_reason': 'stop', 'logprobs': None}, id='run-4ce1e6c3-6e9b-4c9f-9587-1d1da49b1d30-0', usage_metadata={'input_tokens': 24, 'output_tokens': 35, 'total_tokens': 59, 'input_token_details': {'audio': 0, 'cache_read': 0}, 'output_token_details': {'audio': 0, 'reasoning': 0}})"
      ]
     },
     "execution_count": 18,
     "metadata": {},
     "output_type": "execute_result"
    }
   ],
   "execution_count": 18
  },
  {
   "metadata": {
    "ExecuteTime": {
     "end_time": "2025-04-14T08:37:09.280690Z",
     "start_time": "2025-04-14T08:37:08.509525Z"
    }
   },
   "cell_type": "code",
   "source": [
    "# with_config 로 체인의 설정을 변경하여 호출합니다.\n",
    "chain.with_config(configurable={\"prompt\": \"eng\"}).invoke({\"input\": \"사과는 맛있어!\"})"
   ],
   "id": "bc29f82569d4dad7",
   "outputs": [
    {
     "data": {
      "text/plain": [
       "AIMessage(content='Apples are delicious!', additional_kwargs={'refusal': None}, response_metadata={'token_usage': {'completion_tokens': 6, 'prompt_tokens': 28, 'total_tokens': 34, 'completion_tokens_details': {'accepted_prediction_tokens': 0, 'audio_tokens': 0, 'reasoning_tokens': 0, 'rejected_prediction_tokens': 0}, 'prompt_tokens_details': {'audio_tokens': 0, 'cached_tokens': 0}}, 'model_name': 'gpt-3.5-turbo-0125', 'system_fingerprint': None, 'id': 'chatcmpl-BM9bQZf1egQ1zOrjGNxHUxXGvgVmG', 'finish_reason': 'stop', 'logprobs': None}, id='run-bf36e2e9-e94d-4b9c-845f-9f15f3eb3a4f-0', usage_metadata={'input_tokens': 28, 'output_tokens': 6, 'total_tokens': 34, 'input_token_details': {'audio': 0, 'cache_read': 0}, 'output_token_details': {'audio': 0, 'reasoning': 0}})"
      ]
     },
     "execution_count": 19,
     "metadata": {},
     "output_type": "execute_result"
    }
   ],
   "execution_count": 19
  }
 ],
 "metadata": {
  "kernelspec": {
   "display_name": "Python 3",
   "language": "python",
   "name": "python3"
  },
  "language_info": {
   "codemirror_mode": {
    "name": "ipython",
    "version": 2
   },
   "file_extension": ".py",
   "mimetype": "text/x-python",
   "name": "python",
   "nbconvert_exporter": "python",
   "pygments_lexer": "ipython2",
   "version": "2.7.6"
  }
 },
 "nbformat": 4,
 "nbformat_minor": 5
}
