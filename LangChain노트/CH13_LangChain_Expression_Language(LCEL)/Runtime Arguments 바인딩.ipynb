{
 "cells": [
  {
   "metadata": {
    "ExecuteTime": {
     "end_time": "2025-04-15T04:36:38.699725Z",
     "start_time": "2025-04-15T04:36:38.683780Z"
    }
   },
   "cell_type": "code",
   "source": [
    "from dotenv import load_dotenv\n",
    "\n",
    "# API 키 정보 로드\n",
    "load_dotenv()\n",
    "from langchain_teddynote import logging\n",
    "\n",
    "# 프로젝트 이름을 입력합니다.\n",
    "logging.langsmith(\"LCEL-Advanced\")"
   ],
   "id": "e3cf1f9da3c06253",
   "outputs": [
    {
     "name": "stdout",
     "output_type": "stream",
     "text": [
      "LangSmith 추적을 시작합니다.\n",
      "[프로젝트명]\n",
      "LCEL-Advanced\n"
     ]
    }
   ],
   "execution_count": 1
  },
  {
   "metadata": {
    "ExecuteTime": {
     "end_time": "2025-04-15T04:37:25.970541Z",
     "start_time": "2025-04-15T04:37:19.989812Z"
    }
   },
   "cell_type": "code",
   "source": [
    "from langchain_core.output_parsers import StrOutputParser\n",
    "from langchain_core.prompts import ChatPromptTemplate\n",
    "from langchain_core.runnables import RunnablePassthrough\n",
    "from langchain_openai import ChatOpenAI\n",
    "\n",
    "prompt = ChatPromptTemplate.from_messages(\n",
    "    [\n",
    "        (\n",
    "            \"system\",\n",
    "            # 대수 기호를 사용하여 다음 방정식을 작성한 다음 풀이하세요.\n",
    "            \"Write out the following equation using algebraic symbols then solve it. \"\n",
    "            \"Use the format\\n\\nEQUATION:...\\nSOLUTION:...\\n\\n\",\n",
    "        ),\n",
    "        (\n",
    "            \"human\",\n",
    "            \"{equation_statement}\",  # 사용자가 입력한 방정식 문장을 변수로 받습니다.\n",
    "        ),\n",
    "    ]\n",
    ")\n",
    "# ChatOpenAI 모델을 초기화하고 temperature를 0으로 설정합니다.\n",
    "model = ChatOpenAI(model=\"gpt-4\", temperature=0)\n",
    "\n",
    "# 방정식 문장을 입력받아 프롬프트에 전달하고, 모델에서 생성된 결과를 문자열로 파싱합니다.\n",
    "runnable = (\n",
    "    {\"equation_statement\": RunnablePassthrough()} | prompt | model | StrOutputParser()\n",
    ")\n",
    "\n",
    "# 예시 방정식 문장을 입력하여 결과를 출력합니다.\n",
    "print(runnable.invoke(\"x raised to the third plus seven equals 12\"))"
   ],
   "id": "7d6cc5fc6c8d4b1",
   "outputs": [
    {
     "name": "stdout",
     "output_type": "stream",
     "text": [
      "EQUATION: x^3 + 7 = 12\n",
      "SOLUTION: x^3 = 12 - 7\n",
      "x^3 = 5\n",
      "x = ∛5\n"
     ]
    }
   ],
   "execution_count": 2
  },
  {
   "metadata": {
    "ExecuteTime": {
     "end_time": "2025-04-15T04:38:14.577171Z",
     "start_time": "2025-04-15T04:38:12.914003Z"
    }
   },
   "cell_type": "code",
   "source": [
    "runnable = (\n",
    "    # 실행 가능한 패스스루 객체를 생성하여 \"equation_statement\" 키에 할당합니다.\n",
    "    {\"equation_statement\": RunnablePassthrough()}\n",
    "    | prompt  # 프롬프트를 파이프라인에 추가합니다.\n",
    "    | model.bind(\n",
    "        stop=\"SOLUTION\"\n",
    "    )  # 모델을 바인딩하고 \"SOLUTION\" 토큰에서 생성을 중지하도록 설정합니다.\n",
    "    | StrOutputParser()  # 문자열 출력 파서를 파이프라인에 추가합니다.\n",
    ")\n",
    "# \"x raised to the third plus seven equals 12\"라는 입력으로 파이프라인을 실행하고 결과를 출력합니다.\n",
    "print(runnable.invoke(\"x raised to the third plus seven equals 12\"))"
   ],
   "id": "bd135f35c156f48f",
   "outputs": [
    {
     "name": "stdout",
     "output_type": "stream",
     "text": [
      "EQUATION: x^3 + 7 = 12\n",
      "\n"
     ]
    }
   ],
   "execution_count": 3
  },
  {
   "metadata": {},
   "cell_type": "markdown",
   "source": "# OpenAI Functions 기능 연결",
   "id": "c9d1c16dfa4fdbaa"
  },
  {
   "metadata": {
    "ExecuteTime": {
     "end_time": "2025-04-15T04:40:06.681787Z",
     "start_time": "2025-04-15T04:40:06.677062Z"
    }
   },
   "cell_type": "code",
   "source": [
    "openai_function = {\n",
    "    \"name\": \"solver\",  # 함수의 이름\n",
    "    # 함수의 설명: 방정식을 수립하고 해결합니다.\n",
    "    \"description\": \"Formulates and solves an equation\",\n",
    "    \"parameters\": {  # 함수의 매개변수\n",
    "        \"type\": \"object\",  # 매개변수의 타입: 객체\n",
    "        \"properties\": {  # 매개변수의 속성\n",
    "            \"equation\": {  # 방정식 속성\n",
    "                \"type\": \"string\",  # 방정식의 타입: 문자열\n",
    "                \"description\": \"The algebraic expression of the equation\",  # 방정식의 대수식 표현\n",
    "            },\n",
    "            \"solution\": {  # 해답 속성\n",
    "                \"type\": \"string\",  # 해답의 타입: 문자열\n",
    "                \"description\": \"The solution to the equation\",  # 방정식의 해답\n",
    "            },\n",
    "        },\n",
    "        \"required\": [\"equation\", \"solution\"],  # 필수 매개변수: 방정식과 해답\n",
    "    },\n",
    "}"
   ],
   "id": "4ac3d63c5ff892f5",
   "outputs": [],
   "execution_count": 4
  },
  {
   "metadata": {
    "ExecuteTime": {
     "end_time": "2025-04-15T04:42:39.404692Z",
     "start_time": "2025-04-15T04:40:32.589402Z"
    }
   },
   "cell_type": "code",
   "source": [
    "# 다음 방정식을 대수 기호를 사용하여 작성한 다음 해결하세요.\n",
    "prompt = ChatPromptTemplate.from_messages(\n",
    "    [\n",
    "        (\n",
    "            \"system\",\n",
    "            \"Write out the following equation using algebraic symbols then solve it.\",\n",
    "        ),\n",
    "        (\"human\", \"{equation_statement}\"),\n",
    "    ]\n",
    ")\n",
    "model = ChatOpenAI(model=\"gpt-4\", temperature=0).bind(\n",
    "    function_call={\"name\": \"solver\"},  # openai_function schema 를 바인딩합니다.\n",
    "    functions=[openai_function],\n",
    ")\n",
    "runnable = {\"equation_statement\": RunnablePassthrough()} | prompt | model\n",
    "# x의 세제곱에 7을 더하면 12와 같다\n",
    "runnable.invoke(\"x raised to the third plus seven equals 12\")"
   ],
   "id": "866be6f43c140286",
   "outputs": [
    {
     "data": {
      "text/plain": [
       "AIMessage(content='', additional_kwargs={'function_call': {'arguments': '{\\n\"equation\": \"x^3 + 7 = 12\",\\n\"solution\": \"x = ∛5\"\\n}', 'name': 'solver'}, 'refusal': None}, response_metadata={'token_usage': {'completion_tokens': 28, 'prompt_tokens': 95, 'total_tokens': 123, 'completion_tokens_details': {'accepted_prediction_tokens': 0, 'audio_tokens': 0, 'reasoning_tokens': 0, 'rejected_prediction_tokens': 0}, 'prompt_tokens_details': {'audio_tokens': 0, 'cached_tokens': 0}}, 'model_name': 'gpt-4-0613', 'system_fingerprint': None, 'id': 'chatcmpl-BMSQ1eYTZkkJurSn9k2CgZyFwFVAh', 'finish_reason': 'stop', 'logprobs': None}, id='run-c32d59d0-8908-43a1-957f-f2ea5a1acaa2-0', usage_metadata={'input_tokens': 95, 'output_tokens': 28, 'total_tokens': 123, 'input_token_details': {'audio': 0, 'cache_read': 0}, 'output_token_details': {'audio': 0, 'reasoning': 0}})"
      ]
     },
     "execution_count": 5,
     "metadata": {},
     "output_type": "execute_result"
    }
   ],
   "execution_count": 5
  },
  {
   "metadata": {},
   "cell_type": "markdown",
   "source": "# OpenAI tools 연결하기",
   "id": "7e96f99a768ba54e"
  },
  {
   "metadata": {
    "ExecuteTime": {
     "end_time": "2025-04-15T04:50:59.081732Z",
     "start_time": "2025-04-15T04:50:59.077981Z"
    }
   },
   "cell_type": "code",
   "source": [
    "tools = [\n",
    "    {\n",
    "        \"type\": \"function\",\n",
    "        \"function\": {\n",
    "            \"name\": \"get_current_weather\",\n",
    "            \"description\": \"주어진 위치의 현재 날씨를 가져옵니다.\",\n",
    "            \"parameters\": {\n",
    "                \"type\": \"object\",\n",
    "                \"properties\": {\n",
    "                    \"location\": {\n",
    "                        \"type\": \"string\",\n",
    "                        \"description\": \"도시와 주, 예: San Francisco, CA\",\n",
    "                    },\n",
    "                    \"unit\": {\"type\": \"string\", \"enum\": [\"celsius\", \"fahrenheit\"]}\n",
    "                },\n",
    "                \"required\": [\"location\"],\n",
    "            }\n",
    "        }\n",
    "    }\n",
    "]"
   ],
   "id": "4863a11dca0fa46d",
   "outputs": [],
   "execution_count": 8
  },
  {
   "metadata": {
    "ExecuteTime": {
     "end_time": "2025-04-15T04:51:08.351747Z",
     "start_time": "2025-04-15T04:51:06.164962Z"
    }
   },
   "cell_type": "code",
   "source": [
    "# ChatOpenAI 모델을 초기화하고 도구를 바인딩합니다.\n",
    "model = ChatOpenAI(model=\"gpt-3.5-turbo\").bind(tools=tools)\n",
    "# 모델을 호출하여 샌프란시스코, 뉴욕, 로스앤젤레스의 날씨에 대해 질문합니다.\n",
    "model.invoke(\"샌프란시스코, 뉴욕, 로스앤젤레스의 현재 날씨에 대해 알려줘?\")"
   ],
   "id": "d865ac348654330",
   "outputs": [
    {
     "data": {
      "text/plain": [
       "AIMessage(content='', additional_kwargs={'tool_calls': [{'id': 'call_kFBiBHEvB3zKVcFQYMpzM0bu', 'function': {'arguments': '{\"location\": \"San Francisco, CA\", \"unit\": \"celsius\"}', 'name': 'get_current_weather'}, 'type': 'function'}, {'id': 'call_TKR2DfQtA1Yr3Chws2EtyYMv', 'function': {'arguments': '{\"location\": \"New York, NY\", \"unit\": \"celsius\"}', 'name': 'get_current_weather'}, 'type': 'function'}, {'id': 'call_81CFSwsUXMvTFclOMpOz2zOl', 'function': {'arguments': '{\"location\": \"Los Angeles, CA\", \"unit\": \"celsius\"}', 'name': 'get_current_weather'}, 'type': 'function'}], 'refusal': None}, response_metadata={'token_usage': {'completion_tokens': 85, 'prompt_tokens': 127, 'total_tokens': 212, 'completion_tokens_details': {'accepted_prediction_tokens': 0, 'audio_tokens': 0, 'reasoning_tokens': 0, 'rejected_prediction_tokens': 0}, 'prompt_tokens_details': {'audio_tokens': 0, 'cached_tokens': 0}}, 'model_name': 'gpt-3.5-turbo-0125', 'system_fingerprint': None, 'id': 'chatcmpl-BMSYFNPOKEOdxYL0GVDSXALMGCDIq', 'finish_reason': 'tool_calls', 'logprobs': None}, id='run-4f0f2eeb-6359-4321-bb8e-f1f1aff6f12a-0', tool_calls=[{'name': 'get_current_weather', 'args': {'location': 'San Francisco, CA', 'unit': 'celsius'}, 'id': 'call_kFBiBHEvB3zKVcFQYMpzM0bu', 'type': 'tool_call'}, {'name': 'get_current_weather', 'args': {'location': 'New York, NY', 'unit': 'celsius'}, 'id': 'call_TKR2DfQtA1Yr3Chws2EtyYMv', 'type': 'tool_call'}, {'name': 'get_current_weather', 'args': {'location': 'Los Angeles, CA', 'unit': 'celsius'}, 'id': 'call_81CFSwsUXMvTFclOMpOz2zOl', 'type': 'tool_call'}], usage_metadata={'input_tokens': 127, 'output_tokens': 85, 'total_tokens': 212, 'input_token_details': {'audio': 0, 'cache_read': 0}, 'output_token_details': {'audio': 0, 'reasoning': 0}})"
      ]
     },
     "execution_count": 9,
     "metadata": {},
     "output_type": "execute_result"
    }
   ],
   "execution_count": 9
  }
 ],
 "metadata": {
  "kernelspec": {
   "display_name": "Python 3",
   "language": "python",
   "name": "python3"
  },
  "language_info": {
   "codemirror_mode": {
    "name": "ipython",
    "version": 2
   },
   "file_extension": ".py",
   "mimetype": "text/x-python",
   "name": "python",
   "nbconvert_exporter": "python",
   "pygments_lexer": "ipython2",
   "version": "2.7.6"
  }
 },
 "nbformat": 4,
 "nbformat_minor": 5
}
