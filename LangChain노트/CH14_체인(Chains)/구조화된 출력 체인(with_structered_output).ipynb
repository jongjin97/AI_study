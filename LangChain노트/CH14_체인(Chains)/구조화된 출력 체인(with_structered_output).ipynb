{
 "cells": [
  {
   "cell_type": "code",
   "id": "initial_id",
   "metadata": {
    "collapsed": true,
    "ExecuteTime": {
     "end_time": "2025-04-15T07:55:51.760887Z",
     "start_time": "2025-04-15T07:55:51.743272Z"
    }
   },
   "source": [
    "from dotenv import load_dotenv\n",
    "\n",
    "# API 키 정보 로드\n",
    "load_dotenv()\n",
    "from langchain_teddynote import logging\n",
    "\n",
    "# 프로젝트 이름을 입력합니다.\n",
    "logging.langsmith(\"Structured-Output-Chain\")"
   ],
   "outputs": [
    {
     "name": "stdout",
     "output_type": "stream",
     "text": [
      "LangSmith 추적을 시작합니다.\n",
      "[프로젝트명]\n",
      "Structured-Output-Chain\n"
     ]
    }
   ],
   "execution_count": 1
  },
  {
   "metadata": {
    "ExecuteTime": {
     "end_time": "2025-04-15T08:00:27.199939Z",
     "start_time": "2025-04-15T08:00:23.835416Z"
    }
   },
   "cell_type": "code",
   "source": [
    "from langchain.chains.openai_functions import create_structured_output_runnable\n",
    "from langchain_openai import ChatOpenAI\n",
    "from langchain_core.prompts import ChatPromptTemplate\n",
    "from langchain_core.pydantic_v1 import BaseModel, Field\n",
    "from typing import List\n",
    "\n",
    "class Quiz(BaseModel):\n",
    "    \"\"\"4지선다형 퀴즈의 정보를 추출\"\"\"\n",
    "\n",
    "    question: str = Field(..., description=\"퀴즈의 질문\")\n",
    "    level: str = Field(\n",
    "        ..., description=\"퀴즈의 난이도. (쉬움, 보통, 어려움)\"\n",
    "    )\n",
    "    options: List[str] = Field(..., description=\"퀴즈의 4개의 선택지\")\n",
    "\n",
    "llm = ChatOpenAI(model=\"gpt-4o-mini\", temperature=0.1)\n",
    "prompt = ChatPromptTemplate.from_messages(\n",
    "    [\n",
    "        (\"system\", \"You're a world-famous quizzer and generates quizzes in structured formats.\"),\n",
    "        (\"human\", \"TOPIC에 제시된 내용과 관련한 4지선다형 퀴즈를 출제해 주세요. 만약, 실제 출제된 기출문제가 있다면 비슷한 문제를 만들어 출제하세요.\"\n",
    "         \"단, 문제에 TOPIC에 대한 내용이나 정보는 포함하지 마세요. \\nTOPIC:\\n{topic}\"),\n",
    "        (\"human\", \"Tip: Make sure to answer in the correct format\")\n",
    "    ]\n",
    ")\n",
    "\n",
    "# 구조화된 출력을 위한 모델 생성\n",
    "llm_with_structured_output = llm.with_structured_output(Quiz)\n",
    "\n",
    "# 퀴즈 생성 체인 생성\n",
    "chain = prompt | llm_with_structured_output"
   ],
   "id": "874d83e4ad00ebe6",
   "outputs": [
    {
     "name": "stderr",
     "output_type": "stream",
     "text": [
      "C:\\Users\\kakao\\AI_study\\.venv\\Lib\\site-packages\\IPython\\core\\interactiveshell.py:3549: LangChainDeprecationWarning: As of langchain-core 0.3.0, LangChain uses pydantic v2 internally. The langchain_core.pydantic_v1 module was a compatibility shim for pydantic v1, and should no longer be used. Please update the code to import from Pydantic directly.\n",
      "\n",
      "For example, replace imports like: `from langchain_core.pydantic_v1 import BaseModel`\n",
      "with: `from pydantic import BaseModel`\n",
      "or the v1 compatibility namespace if you are working in a code base that has not been fully upgraded to pydantic 2 yet. \tfrom pydantic.v1 import BaseModel\n",
      "\n",
      "  exec(code_obj, self.user_global_ns, self.user_ns)\n",
      "C:\\Users\\kakao\\AI_study\\.venv\\Lib\\site-packages\\langchain_openai\\chat_models\\base.py:1534: UserWarning: Received a Pydantic BaseModel V1 schema. This is not supported by method=\"json_schema\". Please use method=\"function_calling\" or specify schema via JSON Schema or Pydantic V2 BaseModel. Overriding to method=\"function_calling\".\n",
      "  warnings.warn(\n"
     ]
    }
   ],
   "execution_count": 2
  },
  {
   "metadata": {
    "ExecuteTime": {
     "end_time": "2025-04-15T08:00:52.139114Z",
     "start_time": "2025-04-15T08:00:49.893775Z"
    }
   },
   "cell_type": "code",
   "source": [
    "# 퀴즈 생성을 요청\n",
    "generated_quiz = chain.invoke({\"topic\": \"ADSP(데이터 분석 준전문가) 자격 시험\"})"
   ],
   "id": "7598dbfe46965c7f",
   "outputs": [],
   "execution_count": 3
  },
  {
   "metadata": {
    "ExecuteTime": {
     "end_time": "2025-04-15T08:02:04.981387Z",
     "start_time": "2025-04-15T08:02:04.976794Z"
    }
   },
   "cell_type": "code",
   "source": [
    "# 생성된 퀴즈 출력\n",
    "print(f\"{generated_quiz.question} (난이도: {generated_quiz.level})\\n\")\n",
    "for i, opt in enumerate(generated_quiz.options):\n",
    "    print(f\"{i+1}. {opt}\")"
   ],
   "id": "26814721be9b2272",
   "outputs": [
    {
     "name": "stdout",
     "output_type": "stream",
     "text": [
      "ADSP 자격 시험에서 데이터 분석의 주요 단계 중 하나로, 데이터를 수집하고 정리하는 과정을 무엇이라고 하는가? (난이도: 보통)\n",
      "\n",
      "1. 데이터 수집\n",
      "2. 데이터 전처리\n",
      "3. 데이터 분석\n",
      "4. 데이터 시각화\n"
     ]
    }
   ],
   "execution_count": 4
  }
 ],
 "metadata": {
  "kernelspec": {
   "display_name": "Python 3",
   "language": "python",
   "name": "python3"
  },
  "language_info": {
   "codemirror_mode": {
    "name": "ipython",
    "version": 2
   },
   "file_extension": ".py",
   "mimetype": "text/x-python",
   "name": "python",
   "nbconvert_exporter": "python",
   "pygments_lexer": "ipython2",
   "version": "2.7.6"
  }
 },
 "nbformat": 4,
 "nbformat_minor": 5
}
